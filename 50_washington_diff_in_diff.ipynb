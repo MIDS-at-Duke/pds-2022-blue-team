{
 "cells": [
  {
   "cell_type": "code",
   "execution_count": 2,
   "metadata": {},
   "outputs": [],
   "source": [
    "import pandas as pd\n",
    "import numpy as np\n",
    "import matplotlib.pyplot as plt\n",
    "import seaborn as sns\n",
    "import altair as alt\n",
    "from plotnine import *\n",
    "import statsmodels.api as sm\n",
    "import statsmodels.formula.api as smf"
   ]
  },
  {
   "cell_type": "code",
   "execution_count": 3,
   "metadata": {},
   "outputs": [],
   "source": [
    "# load in pre-cleaned deaths data for Washington and comparison states\n",
    "deaths = pd.read_csv(\"05_cleaned_data/deaths_wa.csv\")\n"
   ]
  },
  {
   "cell_type": "code",
   "execution_count": 4,
   "metadata": {},
   "outputs": [
    {
     "data": {
      "text/html": [
       "<div>\n",
       "<style scoped>\n",
       "    .dataframe tbody tr th:only-of-type {\n",
       "        vertical-align: middle;\n",
       "    }\n",
       "\n",
       "    .dataframe tbody tr th {\n",
       "        vertical-align: top;\n",
       "    }\n",
       "\n",
       "    .dataframe thead th {\n",
       "        text-align: right;\n",
       "    }\n",
       "</style>\n",
       "<table border=\"1\" class=\"dataframe\">\n",
       "  <thead>\n",
       "    <tr style=\"text-align: right;\">\n",
       "      <th></th>\n",
       "      <th>County</th>\n",
       "      <th>County Code</th>\n",
       "      <th>Year</th>\n",
       "      <th>Year Code</th>\n",
       "      <th>Drug/Alcohol Induced Cause</th>\n",
       "      <th>Drug/Alcohol Induced Cause Code</th>\n",
       "      <th>Deaths</th>\n",
       "      <th>State</th>\n",
       "      <th>StateFIPS</th>\n",
       "      <th>CountyName</th>\n",
       "      <th>StateName</th>\n",
       "      <th>CountyFIPS</th>\n",
       "      <th>StateAbbr</th>\n",
       "      <th>STATE_COUNTY</th>\n",
       "      <th>state_abbrev</th>\n",
       "      <th>FIP_unique</th>\n",
       "      <th>Population</th>\n",
       "      <th>county_test</th>\n",
       "    </tr>\n",
       "  </thead>\n",
       "  <tbody>\n",
       "    <tr>\n",
       "      <th>0</th>\n",
       "      <td>Ada</td>\n",
       "      <td>16001.0</td>\n",
       "      <td>2009.0</td>\n",
       "      <td>2009.0</td>\n",
       "      <td>Drug poisonings (overdose) Unintentional (X40-...</td>\n",
       "      <td>D1</td>\n",
       "      <td>34.0</td>\n",
       "      <td>ID</td>\n",
       "      <td>16</td>\n",
       "      <td>Ada</td>\n",
       "      <td>Idaho</td>\n",
       "      <td>16001</td>\n",
       "      <td>ID</td>\n",
       "      <td>ID | ADA</td>\n",
       "      <td>ID</td>\n",
       "      <td>1600116</td>\n",
       "      <td>388577.0</td>\n",
       "      <td>Ada</td>\n",
       "    </tr>\n",
       "    <tr>\n",
       "      <th>1</th>\n",
       "      <td>Ada</td>\n",
       "      <td>16001.0</td>\n",
       "      <td>2009.0</td>\n",
       "      <td>2009.0</td>\n",
       "      <td>Drug poisonings (overdose) Suicide (X60-X64)</td>\n",
       "      <td>D2</td>\n",
       "      <td>10.0</td>\n",
       "      <td>ID</td>\n",
       "      <td>16</td>\n",
       "      <td>Ada</td>\n",
       "      <td>Idaho</td>\n",
       "      <td>16001</td>\n",
       "      <td>ID</td>\n",
       "      <td>ID | ADA</td>\n",
       "      <td>ID</td>\n",
       "      <td>1600116</td>\n",
       "      <td>388577.0</td>\n",
       "      <td>Ada</td>\n",
       "    </tr>\n",
       "    <tr>\n",
       "      <th>2</th>\n",
       "      <td>Ada</td>\n",
       "      <td>16001.0</td>\n",
       "      <td>2009.0</td>\n",
       "      <td>2009.0</td>\n",
       "      <td>All other alcohol-induced causes</td>\n",
       "      <td>A9</td>\n",
       "      <td>32.0</td>\n",
       "      <td>ID</td>\n",
       "      <td>16</td>\n",
       "      <td>Ada</td>\n",
       "      <td>Idaho</td>\n",
       "      <td>16001</td>\n",
       "      <td>ID</td>\n",
       "      <td>ID | ADA</td>\n",
       "      <td>ID</td>\n",
       "      <td>1600116</td>\n",
       "      <td>388577.0</td>\n",
       "      <td>Ada</td>\n",
       "    </tr>\n",
       "    <tr>\n",
       "      <th>3</th>\n",
       "      <td>Ada</td>\n",
       "      <td>16001.0</td>\n",
       "      <td>2009.0</td>\n",
       "      <td>2009.0</td>\n",
       "      <td>All other non-drug and non-alcohol causes</td>\n",
       "      <td>O9</td>\n",
       "      <td>2197.0</td>\n",
       "      <td>ID</td>\n",
       "      <td>16</td>\n",
       "      <td>Ada</td>\n",
       "      <td>Idaho</td>\n",
       "      <td>16001</td>\n",
       "      <td>ID</td>\n",
       "      <td>ID | ADA</td>\n",
       "      <td>ID</td>\n",
       "      <td>1600116</td>\n",
       "      <td>388577.0</td>\n",
       "      <td>Ada</td>\n",
       "    </tr>\n",
       "    <tr>\n",
       "      <th>4</th>\n",
       "      <td>Ada</td>\n",
       "      <td>16001.0</td>\n",
       "      <td>2010.0</td>\n",
       "      <td>2010.0</td>\n",
       "      <td>Drug poisonings (overdose) Unintentional (X40-...</td>\n",
       "      <td>D1</td>\n",
       "      <td>35.0</td>\n",
       "      <td>ID</td>\n",
       "      <td>16</td>\n",
       "      <td>Ada</td>\n",
       "      <td>Idaho</td>\n",
       "      <td>16001</td>\n",
       "      <td>ID</td>\n",
       "      <td>ID | ADA</td>\n",
       "      <td>ID</td>\n",
       "      <td>1600116</td>\n",
       "      <td>393354.0</td>\n",
       "      <td>Ada</td>\n",
       "    </tr>\n",
       "    <tr>\n",
       "      <th>...</th>\n",
       "      <td>...</td>\n",
       "      <td>...</td>\n",
       "      <td>...</td>\n",
       "      <td>...</td>\n",
       "      <td>...</td>\n",
       "      <td>...</td>\n",
       "      <td>...</td>\n",
       "      <td>...</td>\n",
       "      <td>...</td>\n",
       "      <td>...</td>\n",
       "      <td>...</td>\n",
       "      <td>...</td>\n",
       "      <td>...</td>\n",
       "      <td>...</td>\n",
       "      <td>...</td>\n",
       "      <td>...</td>\n",
       "      <td>...</td>\n",
       "      <td>...</td>\n",
       "    </tr>\n",
       "    <tr>\n",
       "      <th>2206</th>\n",
       "      <td>Treasure</td>\n",
       "      <td>30103.0</td>\n",
       "      <td>2011.0</td>\n",
       "      <td>2011.0</td>\n",
       "      <td>All other non-drug and non-alcohol causes</td>\n",
       "      <td>O9</td>\n",
       "      <td>11.0</td>\n",
       "      <td>MT</td>\n",
       "      <td>30</td>\n",
       "      <td>Treasure</td>\n",
       "      <td>Montana</td>\n",
       "      <td>30103</td>\n",
       "      <td>MT</td>\n",
       "      <td>MT | TREASURE</td>\n",
       "      <td>MT</td>\n",
       "      <td>3010330</td>\n",
       "      <td>713.0</td>\n",
       "      <td>Treasure</td>\n",
       "    </tr>\n",
       "    <tr>\n",
       "      <th>2207</th>\n",
       "      <td>Treasure</td>\n",
       "      <td>30103.0</td>\n",
       "      <td>2014.0</td>\n",
       "      <td>2014.0</td>\n",
       "      <td>All other non-drug and non-alcohol causes</td>\n",
       "      <td>O9</td>\n",
       "      <td>14.0</td>\n",
       "      <td>MT</td>\n",
       "      <td>30</td>\n",
       "      <td>Treasure</td>\n",
       "      <td>Montana</td>\n",
       "      <td>30103</td>\n",
       "      <td>MT</td>\n",
       "      <td>MT | TREASURE</td>\n",
       "      <td>MT</td>\n",
       "      <td>3010330</td>\n",
       "      <td>689.0</td>\n",
       "      <td>Treasure</td>\n",
       "    </tr>\n",
       "    <tr>\n",
       "      <th>2208</th>\n",
       "      <td>Treasure</td>\n",
       "      <td>30103.0</td>\n",
       "      <td>2015.0</td>\n",
       "      <td>2015.0</td>\n",
       "      <td>All other non-drug and non-alcohol causes</td>\n",
       "      <td>O9</td>\n",
       "      <td>12.0</td>\n",
       "      <td>MT</td>\n",
       "      <td>30</td>\n",
       "      <td>Treasure</td>\n",
       "      <td>Montana</td>\n",
       "      <td>30103</td>\n",
       "      <td>MT</td>\n",
       "      <td>MT | TREASURE</td>\n",
       "      <td>MT</td>\n",
       "      <td>3010330</td>\n",
       "      <td>684.0</td>\n",
       "      <td>Treasure</td>\n",
       "    </tr>\n",
       "    <tr>\n",
       "      <th>2209</th>\n",
       "      <td>Clark</td>\n",
       "      <td>16033.0</td>\n",
       "      <td>2012.0</td>\n",
       "      <td>2012.0</td>\n",
       "      <td>All other non-drug and non-alcohol causes</td>\n",
       "      <td>O9</td>\n",
       "      <td>12.0</td>\n",
       "      <td>ID</td>\n",
       "      <td>16</td>\n",
       "      <td>Clark</td>\n",
       "      <td>Idaho</td>\n",
       "      <td>16033</td>\n",
       "      <td>ID</td>\n",
       "      <td>ID | CLARK</td>\n",
       "      <td>ID</td>\n",
       "      <td>1603316</td>\n",
       "      <td>884.0</td>\n",
       "      <td>Clark</td>\n",
       "    </tr>\n",
       "    <tr>\n",
       "      <th>2210</th>\n",
       "      <td>Clark</td>\n",
       "      <td>16033.0</td>\n",
       "      <td>2014.0</td>\n",
       "      <td>2014.0</td>\n",
       "      <td>All other non-drug and non-alcohol causes</td>\n",
       "      <td>O9</td>\n",
       "      <td>10.0</td>\n",
       "      <td>ID</td>\n",
       "      <td>16</td>\n",
       "      <td>Clark</td>\n",
       "      <td>Idaho</td>\n",
       "      <td>16033</td>\n",
       "      <td>ID</td>\n",
       "      <td>ID | CLARK</td>\n",
       "      <td>ID</td>\n",
       "      <td>1603316</td>\n",
       "      <td>889.0</td>\n",
       "      <td>Clark</td>\n",
       "    </tr>\n",
       "  </tbody>\n",
       "</table>\n",
       "<p>2211 rows × 18 columns</p>\n",
       "</div>"
      ],
      "text/plain": [
       "        County  County Code    Year  Year Code  \\\n",
       "0          Ada      16001.0  2009.0     2009.0   \n",
       "1          Ada      16001.0  2009.0     2009.0   \n",
       "2          Ada      16001.0  2009.0     2009.0   \n",
       "3          Ada      16001.0  2009.0     2009.0   \n",
       "4          Ada      16001.0  2010.0     2010.0   \n",
       "...        ...          ...     ...        ...   \n",
       "2206  Treasure      30103.0  2011.0     2011.0   \n",
       "2207  Treasure      30103.0  2014.0     2014.0   \n",
       "2208  Treasure      30103.0  2015.0     2015.0   \n",
       "2209     Clark      16033.0  2012.0     2012.0   \n",
       "2210     Clark      16033.0  2014.0     2014.0   \n",
       "\n",
       "                             Drug/Alcohol Induced Cause  \\\n",
       "0     Drug poisonings (overdose) Unintentional (X40-...   \n",
       "1          Drug poisonings (overdose) Suicide (X60-X64)   \n",
       "2                      All other alcohol-induced causes   \n",
       "3             All other non-drug and non-alcohol causes   \n",
       "4     Drug poisonings (overdose) Unintentional (X40-...   \n",
       "...                                                 ...   \n",
       "2206          All other non-drug and non-alcohol causes   \n",
       "2207          All other non-drug and non-alcohol causes   \n",
       "2208          All other non-drug and non-alcohol causes   \n",
       "2209          All other non-drug and non-alcohol causes   \n",
       "2210          All other non-drug and non-alcohol causes   \n",
       "\n",
       "     Drug/Alcohol Induced Cause Code  Deaths State  StateFIPS CountyName  \\\n",
       "0                                 D1    34.0    ID         16        Ada   \n",
       "1                                 D2    10.0    ID         16        Ada   \n",
       "2                                 A9    32.0    ID         16        Ada   \n",
       "3                                 O9  2197.0    ID         16        Ada   \n",
       "4                                 D1    35.0    ID         16        Ada   \n",
       "...                              ...     ...   ...        ...        ...   \n",
       "2206                              O9    11.0    MT         30   Treasure   \n",
       "2207                              O9    14.0    MT         30   Treasure   \n",
       "2208                              O9    12.0    MT         30   Treasure   \n",
       "2209                              O9    12.0    ID         16      Clark   \n",
       "2210                              O9    10.0    ID         16      Clark   \n",
       "\n",
       "     StateName  CountyFIPS StateAbbr   STATE_COUNTY state_abbrev  FIP_unique  \\\n",
       "0        Idaho       16001        ID       ID | ADA           ID     1600116   \n",
       "1        Idaho       16001        ID       ID | ADA           ID     1600116   \n",
       "2        Idaho       16001        ID       ID | ADA           ID     1600116   \n",
       "3        Idaho       16001        ID       ID | ADA           ID     1600116   \n",
       "4        Idaho       16001        ID       ID | ADA           ID     1600116   \n",
       "...        ...         ...       ...            ...          ...         ...   \n",
       "2206   Montana       30103        MT  MT | TREASURE           MT     3010330   \n",
       "2207   Montana       30103        MT  MT | TREASURE           MT     3010330   \n",
       "2208   Montana       30103        MT  MT | TREASURE           MT     3010330   \n",
       "2209     Idaho       16033        ID     ID | CLARK           ID     1603316   \n",
       "2210     Idaho       16033        ID     ID | CLARK           ID     1603316   \n",
       "\n",
       "      Population county_test  \n",
       "0       388577.0         Ada  \n",
       "1       388577.0         Ada  \n",
       "2       388577.0         Ada  \n",
       "3       388577.0         Ada  \n",
       "4       393354.0         Ada  \n",
       "...          ...         ...  \n",
       "2206       713.0    Treasure  \n",
       "2207       689.0    Treasure  \n",
       "2208       684.0    Treasure  \n",
       "2209       884.0       Clark  \n",
       "2210       889.0       Clark  \n",
       "\n",
       "[2211 rows x 18 columns]"
      ]
     },
     "execution_count": 4,
     "metadata": {},
     "output_type": "execute_result"
    }
   ],
   "source": [
    "deaths"
   ]
  },
  {
   "cell_type": "code",
   "execution_count": 5,
   "metadata": {},
   "outputs": [],
   "source": [
    "# two separate dfs - one for washington and one for comp states\n",
    "\n",
    "washington = deaths[deaths[\"StateName\"] == \"Washington\"]\n",
    "comp = deaths[deaths[\"StateName\"] != \"Washington\"]"
   ]
  },
  {
   "cell_type": "markdown",
   "metadata": {},
   "source": [
    "### Helper functions "
   ]
  },
  {
   "cell_type": "code",
   "execution_count": 7,
   "metadata": {},
   "outputs": [],
   "source": [
    "# function to select only overdose records\n",
    "# double check this\n",
    "\n",
    "def select_overdose(record):\n",
    "    \"\"\"Simple function to select only overdose records\"\"\"\n",
    "\n",
    "    if record == \"All other non-drug and non-alcohol causes\":\n",
    "        return 0\n",
    "\n",
    "    if record == \"All other alcohol-induced causes\":\n",
    "        return 0\n",
    "\n",
    "    if record == \"All other drug-induced causes\":\n",
    "        return 0\n",
    "\n",
    "    if record == \"Alcohol poisonings (overdose) (X45, X65, Y15)\":\n",
    "        return 0\n",
    "\n",
    "    if record == \"Drug poisonings (overdose) Unintentional (X40-X44)\":\n",
    "        return 1\n",
    "\n",
    "    if record == \"Drug poisonings (overdose) Suicide (X60-X64)\":\n",
    "        return 1\n",
    "\n",
    "    if record == \"Drug poisonings (overdose) Undetermined (Y10-Y14)\":\n",
    "        return 1\n",
    "\n",
    "    else:\n",
    "        return \"error\"\n",
    "    \n",
    "\n",
    "# copy to fix the dreaded \"A value is trying to be set on a copy of a slice\" error\n",
    "wa_deaths = washington.copy()\n",
    "comp_deaths = comp.copy()\n",
    "\n",
    "# apply new function to our df\n",
    "wa_deaths[\"overdose\"] = wa_deaths[\"Drug/Alcohol Induced Cause\"].apply(lambda x: select_overdose(x))\n",
    "comp_deaths[\"overdose\"] = comp_deaths[\"Drug/Alcohol Induced Cause\"].apply(lambda x: select_overdose(x))\n",
    "\n",
    "# filter accordingly based on new column\n",
    "wa_deaths = wa_deaths[wa_deaths[\"overdose\"] != 0]\n",
    "comp_deaths = comp_deaths[comp_deaths[\"overdose\"] != 0]"
   ]
  },
  {
   "cell_type": "code",
   "execution_count": 8,
   "metadata": {},
   "outputs": [],
   "source": [
    "# calculate overdoses per 100_000 residents\n",
    "\n",
    "wa_deaths[\"overdose_per_100k\"] = wa_deaths[\"Deaths\"] / wa_deaths[\"Population\"] * 100_000\n",
    "comp_deaths[\"overdose_per_100k\"] = comp_deaths[\"Deaths\"] / comp_deaths[\"Population\"] * 100_000"
   ]
  },
  {
   "cell_type": "code",
   "execution_count": 9,
   "metadata": {},
   "outputs": [],
   "source": [
    "wa_result = wa_deaths.groupby([\"Year\", \"County\"])[\"overdose_per_100k\"].sum().reset_index()\n",
    "comp_result = comp_deaths.groupby([\"Year\", \"StateName\", \"CountyName\"])[\"overdose_per_100k\"].sum().reset_index()\n",
    "\n",
    "# keep validating num counties\n",
    "\n",
    "\n",
    "# recent change - added county to both results above, removed state from comp_result"
   ]
  },
  {
   "cell_type": "code",
   "execution_count": 10,
   "metadata": {},
   "outputs": [
    {
     "data": {
      "text/plain": [
       "Year\n",
       "2009.0    11.377605\n",
       "2010.0    11.173523\n",
       "2011.0    13.129143\n",
       "2012.0    11.743428\n",
       "2013.0     9.792137\n",
       "2014.0    13.085408\n",
       "2015.0    11.222986\n",
       "Name: overdose_per_100k, dtype: float64"
      ]
     },
     "execution_count": 10,
     "metadata": {},
     "output_type": "execute_result"
    }
   ],
   "source": [
    "comp_result[comp_result[\"StateName\"] == \"Oregon\"].groupby(\"Year\")[\"overdose_per_100k\"].mean()"
   ]
  },
  {
   "cell_type": "code",
   "execution_count": 11,
   "metadata": {},
   "outputs": [
    {
     "data": {
      "text/plain": [
       "Year\n",
       "2009.0    11.159008\n",
       "2010.0    10.754286\n",
       "2011.0    10.233185\n",
       "2012.0    11.216281\n",
       "2013.0    15.795299\n",
       "2014.0    15.174286\n",
       "2015.0    15.482973\n",
       "Name: overdose_per_100k, dtype: float64"
      ]
     },
     "execution_count": 11,
     "metadata": {},
     "output_type": "execute_result"
    }
   ],
   "source": [
    "comp_result[comp_result[\"StateName\"] == \"Idaho\"].groupby(\"Year\")[\"overdose_per_100k\"].mean()"
   ]
  },
  {
   "cell_type": "code",
   "execution_count": 12,
   "metadata": {},
   "outputs": [
    {
     "data": {
      "text/plain": [
       "Year\n",
       "2009.0    18.811733\n",
       "2010.0    11.568552\n",
       "2011.0    10.015223\n",
       "2012.0    10.704104\n",
       "2013.0    13.963591\n",
       "2014.0     9.795271\n",
       "2015.0    10.950053\n",
       "Name: overdose_per_100k, dtype: float64"
      ]
     },
     "execution_count": 12,
     "metadata": {},
     "output_type": "execute_result"
    }
   ],
   "source": [
    "comp_result[comp_result[\"StateName\"] == \"Montana\"].groupby(\"Year\")[\"overdose_per_100k\"].mean()"
   ]
  },
  {
   "cell_type": "code",
   "execution_count": 13,
   "metadata": {},
   "outputs": [
    {
     "data": {
      "text/plain": [
       "Year\n",
       "2009.0    21.864368\n",
       "2010.0    25.652358\n",
       "2011.0    24.532589\n",
       "2012.0    24.076272\n",
       "2013.0    23.640021\n",
       "2014.0    17.864193\n",
       "2015.0    29.757915\n",
       "Name: overdose_per_100k, dtype: float64"
      ]
     },
     "execution_count": 13,
     "metadata": {},
     "output_type": "execute_result"
    }
   ],
   "source": [
    "comp_result[comp_result[\"StateName\"] == \"Nevada\"].groupby(\"Year\")[\"overdose_per_100k\"].mean()"
   ]
  },
  {
   "cell_type": "code",
   "execution_count": 14,
   "metadata": {},
   "outputs": [
    {
     "data": {
      "text/plain": [
       "Year\n",
       "2009.0    15.715488\n",
       "2010.0    12.588114\n",
       "2012.0    15.556986\n",
       "2013.0    16.467417\n",
       "2014.0    20.422257\n",
       "2015.0    18.032477\n",
       "Name: overdose_per_100k, dtype: float64"
      ]
     },
     "execution_count": 14,
     "metadata": {},
     "output_type": "execute_result"
    }
   ],
   "source": [
    "comp_result[comp_result[\"StateName\"] == \"Wyoming\"].groupby(\"Year\")[\"overdose_per_100k\"].mean()"
   ]
  },
  {
   "cell_type": "code",
   "execution_count": 15,
   "metadata": {},
   "outputs": [
    {
     "data": {
      "text/plain": [
       "Year\n",
       "2009.0    14.281442\n",
       "2010.0    12.020064\n",
       "2011.0    14.170882\n",
       "2012.0    13.984919\n",
       "2013.0    13.559330\n",
       "2014.0    13.308247\n",
       "2015.0    14.352174\n",
       "Name: overdose_per_100k, dtype: float64"
      ]
     },
     "execution_count": 15,
     "metadata": {},
     "output_type": "execute_result"
    }
   ],
   "source": [
    "wa_result.groupby(\"Year\")[\"overdose_per_100k\"].mean()"
   ]
  },
  {
   "cell_type": "code",
   "execution_count": 16,
   "metadata": {},
   "outputs": [
    {
     "data": {
      "text/plain": [
       "Year\n",
       "2009.0    14.980146\n",
       "2010.0    14.713355\n",
       "2011.0    13.606151\n",
       "2012.0    13.817064\n",
       "2013.0    13.879377\n",
       "2014.0    14.833713\n",
       "2015.0    15.654559\n",
       "Name: overdose_per_100k, dtype: float64"
      ]
     },
     "execution_count": 16,
     "metadata": {},
     "output_type": "execute_result"
    }
   ],
   "source": [
    "comp_result.groupby(\"Year\")[\"overdose_per_100k\"].mean()"
   ]
  },
  {
   "cell_type": "code",
   "execution_count": 85,
   "metadata": {},
   "outputs": [],
   "source": [
    "# idea for counties -> histogram of population, drop the outliers?\n",
    "\n",
    "#plt.hist(tx_deaths[\"Population\"], bins=20)"
   ]
  },
  {
   "cell_type": "code",
   "execution_count": null,
   "metadata": {},
   "outputs": [],
   "source": []
  },
  {
   "cell_type": "code",
   "execution_count": 17,
   "metadata": {},
   "outputs": [],
   "source": [
    "wa_result = wa_result.groupby(\"Year\")[\"overdose_per_100k\"].mean().reset_index()\n",
    "comp_result = comp_result.groupby([\"Year\"])[\"overdose_per_100k\"].mean().reset_index()"
   ]
  },
  {
   "cell_type": "code",
   "execution_count": 87,
   "metadata": {},
   "outputs": [],
   "source": [
    "# idea for counties -> histogram of population, drop the outliers?"
   ]
  },
  {
   "cell_type": "code",
   "execution_count": 18,
   "metadata": {},
   "outputs": [
    {
     "data": {
      "text/html": [
       "<div>\n",
       "<style scoped>\n",
       "    .dataframe tbody tr th:only-of-type {\n",
       "        vertical-align: middle;\n",
       "    }\n",
       "\n",
       "    .dataframe tbody tr th {\n",
       "        vertical-align: top;\n",
       "    }\n",
       "\n",
       "    .dataframe thead th {\n",
       "        text-align: right;\n",
       "    }\n",
       "</style>\n",
       "<table border=\"1\" class=\"dataframe\">\n",
       "  <thead>\n",
       "    <tr style=\"text-align: right;\">\n",
       "      <th></th>\n",
       "      <th>Year</th>\n",
       "      <th>overdose_per_100k</th>\n",
       "    </tr>\n",
       "  </thead>\n",
       "  <tbody>\n",
       "    <tr>\n",
       "      <th>0</th>\n",
       "      <td>2009.0</td>\n",
       "      <td>14.980146</td>\n",
       "    </tr>\n",
       "    <tr>\n",
       "      <th>1</th>\n",
       "      <td>2010.0</td>\n",
       "      <td>14.713355</td>\n",
       "    </tr>\n",
       "    <tr>\n",
       "      <th>2</th>\n",
       "      <td>2011.0</td>\n",
       "      <td>13.606151</td>\n",
       "    </tr>\n",
       "    <tr>\n",
       "      <th>3</th>\n",
       "      <td>2012.0</td>\n",
       "      <td>13.817064</td>\n",
       "    </tr>\n",
       "    <tr>\n",
       "      <th>4</th>\n",
       "      <td>2013.0</td>\n",
       "      <td>13.879377</td>\n",
       "    </tr>\n",
       "    <tr>\n",
       "      <th>5</th>\n",
       "      <td>2014.0</td>\n",
       "      <td>14.833713</td>\n",
       "    </tr>\n",
       "    <tr>\n",
       "      <th>6</th>\n",
       "      <td>2015.0</td>\n",
       "      <td>15.654559</td>\n",
       "    </tr>\n",
       "  </tbody>\n",
       "</table>\n",
       "</div>"
      ],
      "text/plain": [
       "     Year  overdose_per_100k\n",
       "0  2009.0          14.980146\n",
       "1  2010.0          14.713355\n",
       "2  2011.0          13.606151\n",
       "3  2012.0          13.817064\n",
       "4  2013.0          13.879377\n",
       "5  2014.0          14.833713\n",
       "6  2015.0          15.654559"
      ]
     },
     "execution_count": 18,
     "metadata": {},
     "output_type": "execute_result"
    }
   ],
   "source": [
    "comp_result"
   ]
  },
  {
   "cell_type": "code",
   "execution_count": 89,
   "metadata": {},
   "outputs": [],
   "source": [
    "#tx_result = tx_deaths.groupby([\"Year\", \"County\"])[\"overdose_per_100k\"].sum().reset_index()\n",
    "#comp_result = comp_deaths.groupby([\"Year\", \"County\"])[\"overdose_per_100k\"].sum().reset_index()\n",
    "#\n",
    "#tx_result = tx_result.groupby(\"Year\")[\"overdose_per_100k\"].mean().reset_index()\n",
    "#comp_result = comp_result.groupby([\"Year\"])[\"overdose_per_100k\"].mean().reset_index()"
   ]
  },
  {
   "cell_type": "code",
   "execution_count": 90,
   "metadata": {},
   "outputs": [],
   "source": [
    "# collapse state column with a mean aggregation\n",
    "# gives us the average overdoses of our comparison states over the years\n",
    "#comp_result = comp_result.groupby([\"Year\"])[\"overdose_per_100k\"].mean().reset_index()"
   ]
  },
  {
   "cell_type": "code",
   "execution_count": 19,
   "metadata": {},
   "outputs": [],
   "source": [
    "# create a scale for number of years before and after 2012 (target year)\n",
    "\n",
    "def scale_years(year):\n",
    "    if year == 2009:\n",
    "        return -3\n",
    "    if year == 2010:\n",
    "        return -2\n",
    "    if year == 2011:\n",
    "        return -1\n",
    "    if year == 2012:\n",
    "        return 0\n",
    "    if year == 2013:\n",
    "        return 1\n",
    "    if year == 2014:\n",
    "        return 2\n",
    "    if year == 2015:\n",
    "        return 3\n",
    "\n",
    "wa_result[\"year relative to policy\"] = wa_result[\"Year\"].apply(lambda x: scale_years(x))\n",
    "comp_result[\"year relative to policy\"] = comp_result[\"Year\"].apply(lambda x: scale_years(x))\n",
    "\n",
    "# double check no nulls in \"year relative to policy\"\n",
    "\n",
    "assert (wa_result[\"year relative to policy\"].isnull().sum() == 0)\n",
    "assert (comp_result[\"year relative to policy\"].isnull().sum() == 0)\n",
    "\n",
    "# doing this in case the float == int comparison causes issues"
   ]
  },
  {
   "cell_type": "code",
   "execution_count": 20,
   "metadata": {},
   "outputs": [
    {
     "data": {
      "text/html": [
       "<div>\n",
       "<style scoped>\n",
       "    .dataframe tbody tr th:only-of-type {\n",
       "        vertical-align: middle;\n",
       "    }\n",
       "\n",
       "    .dataframe tbody tr th {\n",
       "        vertical-align: top;\n",
       "    }\n",
       "\n",
       "    .dataframe thead th {\n",
       "        text-align: right;\n",
       "    }\n",
       "</style>\n",
       "<table border=\"1\" class=\"dataframe\">\n",
       "  <thead>\n",
       "    <tr style=\"text-align: right;\">\n",
       "      <th></th>\n",
       "      <th>Year</th>\n",
       "      <th>overdose_per_100k</th>\n",
       "      <th>year relative to policy</th>\n",
       "    </tr>\n",
       "  </thead>\n",
       "  <tbody>\n",
       "    <tr>\n",
       "      <th>0</th>\n",
       "      <td>2009.0</td>\n",
       "      <td>14.281442</td>\n",
       "      <td>-3</td>\n",
       "    </tr>\n",
       "    <tr>\n",
       "      <th>1</th>\n",
       "      <td>2010.0</td>\n",
       "      <td>12.020064</td>\n",
       "      <td>-2</td>\n",
       "    </tr>\n",
       "    <tr>\n",
       "      <th>2</th>\n",
       "      <td>2011.0</td>\n",
       "      <td>14.170882</td>\n",
       "      <td>-1</td>\n",
       "    </tr>\n",
       "    <tr>\n",
       "      <th>3</th>\n",
       "      <td>2012.0</td>\n",
       "      <td>13.984919</td>\n",
       "      <td>0</td>\n",
       "    </tr>\n",
       "    <tr>\n",
       "      <th>4</th>\n",
       "      <td>2013.0</td>\n",
       "      <td>13.559330</td>\n",
       "      <td>1</td>\n",
       "    </tr>\n",
       "    <tr>\n",
       "      <th>5</th>\n",
       "      <td>2014.0</td>\n",
       "      <td>13.308247</td>\n",
       "      <td>2</td>\n",
       "    </tr>\n",
       "    <tr>\n",
       "      <th>6</th>\n",
       "      <td>2015.0</td>\n",
       "      <td>14.352174</td>\n",
       "      <td>3</td>\n",
       "    </tr>\n",
       "  </tbody>\n",
       "</table>\n",
       "</div>"
      ],
      "text/plain": [
       "     Year  overdose_per_100k  year relative to policy\n",
       "0  2009.0          14.281442                       -3\n",
       "1  2010.0          12.020064                       -2\n",
       "2  2011.0          14.170882                       -1\n",
       "3  2012.0          13.984919                        0\n",
       "4  2013.0          13.559330                        1\n",
       "5  2014.0          13.308247                        2\n",
       "6  2015.0          14.352174                        3"
      ]
     },
     "execution_count": 20,
     "metadata": {},
     "output_type": "execute_result"
    }
   ],
   "source": [
    "wa_result"
   ]
  },
  {
   "cell_type": "markdown",
   "metadata": {},
   "source": [
    "## Pre-post plot - overdoses per 100k through the years"
   ]
  },
  {
   "cell_type": "code",
   "execution_count": 21,
   "metadata": {},
   "outputs": [],
   "source": [
    "# split into before 2007 and after 2007\n",
    "\n",
    "wa_b4 = wa_result[wa_result[\"Year\"] < 2012]\n",
    "wa_after = wa_result[wa_result[\"Year\"] >= 2012]\n",
    "\n",
    "\n",
    "wa_after = wa_after[wa_after[\"Year\"] != 2012] # may need to handle this differently"
   ]
  },
  {
   "cell_type": "code",
   "execution_count": null,
   "metadata": {},
   "outputs": [],
   "source": []
  },
  {
   "cell_type": "code",
   "execution_count": 39,
   "metadata": {},
   "outputs": [],
   "source": [
    "from sklearn.linear_model import LinearRegression \n",
    "\n",
    "regressor_b4 = LinearRegression() \n",
    "regressor_after = LinearRegression()\n",
    "\n",
    "\n",
    "X_b4 = np.array(wa_b4[\"year relative to policy\"]).reshape(-1, 1)\n",
    "y_b4 = np.array(wa_b4[\"overdose_per_100k\"]).reshape(-1, 1)\n",
    "\n",
    "X_after = np.array(wa_after[\"year relative to policy\"]).reshape(-1, 1)\n",
    "y_after = np.array(wa_after[\"overdose_per_100k\"]).reshape(-1, 1)\n",
    "\n",
    "\n",
    "regressor_b4.fit(X_b4,y_b4) \n",
    "regressor_after.fit(X_after,y_after) \n",
    "\n",
    "\n",
    "y_pred_b4 = regressor_b4.predict(X_b4)\n",
    "y_pred_after = regressor_after.predict(X_b4)\n",
    "\n"
   ]
  },
  {
   "cell_type": "code",
   "execution_count": 40,
   "metadata": {},
   "outputs": [
    {
     "data": {
      "text/plain": [
       "array([[13.54607626],\n",
       "       [13.49079598],\n",
       "       [13.4355157 ]])"
      ]
     },
     "execution_count": 40,
     "metadata": {},
     "output_type": "execute_result"
    }
   ],
   "source": [
    "y_pred_b4"
   ]
  },
  {
   "cell_type": "code",
   "execution_count": 41,
   "metadata": {},
   "outputs": [
    {
     "data": {
      "text/plain": [
       "array([[11.75780774],\n",
       "       [12.15422957],\n",
       "       [12.55065139]])"
      ]
     },
     "execution_count": 41,
     "metadata": {},
     "output_type": "execute_result"
    }
   ],
   "source": [
    "y_pred_after"
   ]
  },
  {
   "cell_type": "code",
   "execution_count": 50,
   "metadata": {},
   "outputs": [],
   "source": [
    "# plt.xlim(-3, 3)\n",
    "# #plt.ylim(0, 500)\n",
    "\n",
    "# plt.title(\"Overdose Deaths in Washington\")\n",
    "\n",
    "# plt.plot(X_b4, y_pred_b4,color='k')\n",
    "# plt.plot(X_after, y_pred_after,color='k')\n",
    "\n",
    "# plot avg value in each year\n"
   ]
  },
  {
   "cell_type": "markdown",
   "metadata": {},
   "source": [
    "# Diff in Diff"
   ]
  },
  {
   "cell_type": "code",
   "execution_count": 97,
   "metadata": {},
   "outputs": [],
   "source": [
    "# diff in diff"
   ]
  },
  {
   "cell_type": "code",
   "execution_count": 43,
   "metadata": {},
   "outputs": [],
   "source": [
    "comp_b4 = comp_result[comp_result[\"Year\"] < 2012]\n",
    "comp_after = comp_result[comp_result[\"Year\"] >= 2012]\n",
    "\n",
    "comp_after = comp_after[comp_after[\"Year\"] != 2012] # may need to handle this differently\n"
   ]
  },
  {
   "cell_type": "code",
   "execution_count": 44,
   "metadata": {},
   "outputs": [],
   "source": [
    "regressor_b41 = LinearRegression() \n",
    "regressor_after1 = LinearRegression()\n",
    "\n",
    "\n",
    "X_b41 = np.array(comp_b4[\"year relative to policy\"]).reshape(-1, 1)\n",
    "y_b41 = np.array(comp_b4[\"overdose_per_100k\"]).reshape(-1, 1)\n",
    "\n",
    "X_after1 = np.array(comp_after[\"year relative to policy\"]).reshape(-1, 1)\n",
    "y_after1 = np.array(comp_after[\"overdose_per_100k\"]).reshape(-1, 1)\n",
    "\n",
    "\n",
    "regressor_b41.fit(X_b41,y_b41) \n",
    "regressor_after1.fit(X_after1,y_after1) \n",
    "\n",
    "\n",
    "y_pred_b41 = regressor_b41.predict(X_b41)\n",
    "y_pred_after1 = regressor_after1.predict(X_b41)\n",
    "\n"
   ]
  },
  {
   "cell_type": "code",
   "execution_count": 45,
   "metadata": {},
   "outputs": [
    {
     "data": {
      "text/plain": [
       "array([[15.12021447],\n",
       "       [14.43321734],\n",
       "       [13.7462202 ]])"
      ]
     },
     "execution_count": 45,
     "metadata": {},
     "output_type": "execute_result"
    }
   ],
   "source": [
    "y_pred_b41"
   ]
  },
  {
   "cell_type": "code",
   "execution_count": 46,
   "metadata": {},
   "outputs": [
    {
     "data": {
      "text/plain": [
       "array([[10.35125981],\n",
       "       [11.23885114],\n",
       "       [12.12644247]])"
      ]
     },
     "execution_count": 46,
     "metadata": {},
     "output_type": "execute_result"
    }
   ],
   "source": [
    "y_pred_after1"
   ]
  },
  {
   "cell_type": "code",
   "execution_count": 68,
   "metadata": {},
   "outputs": [
    {
     "data": {
      "image/png": "[encoded data removed]",
      "text/plain": [
       "<Figure size 640x480 with 1 Axes>"
      ]
     },
     "metadata": {},
     "output_type": "display_data"
    }
   ],
   "source": [
    "plt.xlim(-3, 3)\n",
    "#plt.ylim(0, 500)\n",
    "plt.title(\"Diff-in-Diff Overdose Deaths in Washington\")\n",
    "plt.plot(X_b41, y_pred_b41,color='k', label = \"comp b4\")\n",
    "plt.plot(X_after1, y_pred_after1,color='k', label = \"comp after\")\n",
    "plt.plot(X_b4, y_pred_b4,color='b', label = \"washington b4\")\n",
    "plt.plot(X_after, y_pred_after,color='b', label = \"washington after\")\n",
    "plt.legend()\n",
    "plt.show()"
   ]
  },
  {
   "cell_type": "code",
   "execution_count": 104,
   "metadata": {},
   "outputs": [],
   "source": [
    "# new method after working more with reshaping exercises\n",
    "# using statsmodels now, wrapping stuff in functions\n",
    "# thinking it could be easier to break it down by task"
   ]
  },
  {
   "cell_type": "markdown",
   "metadata": {},
   "source": [
    "## Helper functions\n",
    "\n",
    "1) vertical_line()\n",
    "    - takes in a year and plots a vertical line at that year\n",
    "2) get_charts()\n",
    "    - takes in two dataframes (one for before policy, one for after)\n",
    "    - returns chart for each\n",
    "    - not much utility by itself - used as a parameter for our get_fit() function"
   ]
  },
  {
   "cell_type": "code",
   "execution_count": 51,
   "metadata": {},
   "outputs": [],
   "source": [
    "def vertical_line(year):\n",
    "    \"\"\"Function to plot a vertical line at year of policy implementation\"\"\"\n",
    "    line = alt.Chart(pd.DataFrame({\n",
    "    'Date': [year],\n",
    "    'color': [\"black\"]\n",
    "    })).mark_rule().encode(\n",
    "    x='Date:Q', # use q for \"quantitative\" - as per altair docs\n",
    "    color=alt.Color('color:N', scale=None)\n",
    "    )\n",
    "\n",
    "    return line"
   ]
  },
  {
   "cell_type": "code",
   "execution_count": 52,
   "metadata": {},
   "outputs": [
    {
     "data": {
      "text/html": [
       "\n",
       "<div id=\"altair-viz-dde4e54e58df4b2394e44540ddf5db7c\"></div>\n",
       "<script type=\"text/javascript\">\n",
       "  var VEGA_DEBUG = (typeof VEGA_DEBUG == \"undefined\") ? {} : VEGA_DEBUG;\n",
       "  (function(spec, embedOpt){\n",
       "    let outputDiv = document.currentScript.previousElementSibling;\n",
       "    if (outputDiv.id !== \"altair-viz-dde4e54e58df4b2394e44540ddf5db7c\") {\n",
       "      outputDiv = document.getElementById(\"altair-viz-dde4e54e58df4b2394e44540ddf5db7c\");\n",
       "    }\n",
       "    const paths = {\n",
       "      \"vega\": \"https://cdn.jsdelivr.net/npm//vega@5?noext\",\n",
       "      \"vega-lib\": \"https://cdn.jsdelivr.net/npm//vega-lib?noext\",\n",
       "      \"vega-lite\": \"https://cdn.jsdelivr.net/npm//vega-lite@4.17.0?noext\",\n",
       "      \"vega-embed\": \"https://cdn.jsdelivr.net/npm//vega-embed@6?noext\",\n",
       "    };\n",
       "\n",
       "    function maybeLoadScript(lib, version) {\n",
       "      var key = `${lib.replace(\"-\", \"\")}_version`;\n",
       "      return (VEGA_DEBUG[key] == version) ?\n",
       "        Promise.resolve(paths[lib]) :\n",
       "        new Promise(function(resolve, reject) {\n",
       "          var s = document.createElement('script');\n",
       "          document.getElementsByTagName(\"head\")[0].appendChild(s);\n",
       "          s.async = true;\n",
       "          s.onload = () => {\n",
       "            VEGA_DEBUG[key] = version;\n",
       "            return resolve(paths[lib]);\n",
       "          };\n",
       "          s.onerror = () => reject(`Error loading script: ${paths[lib]}`);\n",
       "          s.src = paths[lib];\n",
       "        });\n",
       "    }\n",
       "\n",
       "    function showError(err) {\n",
       "      outputDiv.innerHTML = `<div class=\"error\" style=\"color:red;\">${err}</div>`;\n",
       "      throw err;\n",
       "    }\n",
       "\n",
       "    function displayChart(vegaEmbed) {\n",
       "      vegaEmbed(outputDiv, spec, embedOpt)\n",
       "        .catch(err => showError(`Javascript Error: ${err.message}<br>This usually means there's a typo in your chart specification. See the javascript console for the full traceback.`));\n",
       "    }\n",
       "\n",
       "    if(typeof define === \"function\" && define.amd) {\n",
       "      requirejs.config({paths});\n",
       "      require([\"vega-embed\"], displayChart, err => showError(`Error loading script: ${err.message}`));\n",
       "    } else {\n",
       "      maybeLoadScript(\"vega\", \"5\")\n",
       "        .then(() => maybeLoadScript(\"vega-lite\", \"4.17.0\"))\n",
       "        .then(() => maybeLoadScript(\"vega-embed\", \"6\"))\n",
       "        .catch(showError)\n",
       "        .then(() => displayChart(vegaEmbed));\n",
       "    }\n",
       "  })({\"config\": {\"view\": {\"continuousWidth\": 400, \"continuousHeight\": 300}}, \"data\": {\"name\": \"data-3001b6a63f5082daf7abdee5a1a56d68\"}, \"mark\": \"rule\", \"encoding\": {\"color\": {\"field\": \"color\", \"scale\": null, \"type\": \"nominal\"}, \"x\": {\"field\": \"Date\", \"type\": \"quantitative\"}}, \"$schema\": \"https://vega.github.io/schema/vega-lite/v4.17.0.json\", \"datasets\": {\"data-3001b6a63f5082daf7abdee5a1a56d68\": [{\"Date\": 2009, \"color\": \"black\"}]}}, {\"mode\": \"vega-lite\"});\n",
       "</script>"
      ],
      "text/plain": [
       "alt.Chart(...)"
      ]
     },
     "execution_count": 52,
     "metadata": {},
     "output_type": "execute_result"
    }
   ],
   "source": [
    "# test function\n",
    "vertical_line(2009)"
   ]
  },
  {
   "cell_type": "code",
   "execution_count": 53,
   "metadata": {},
   "outputs": [],
   "source": [
    "def get_charts(b4, after, title_b4, title_after):\n",
    "    \"\"\"\n",
    "    Function to plot the pre and post charts.\n",
    "    Will not use in final plot - used as a baseline for our fit charts later.\n",
    "\n",
    "    \"\"\"\n",
    "\n",
    "    base_before = (\n",
    "        alt.Chart(b4)\n",
    "        .mark_point()\n",
    "        .encode(\n",
    "            y=alt.Y(\"overdose_per_100k\", scale=alt.Scale(zero=False)),\n",
    "            x=alt.X(\"year relative to policy\", scale=alt.Scale(zero=False)),\n",
    "        )\n",
    "        .properties(title=title_b4)\n",
    "    )\n",
    "\n",
    "    base_after = (\n",
    "        alt.Chart(after)\n",
    "        .mark_point()\n",
    "        .encode(\n",
    "            y=alt.Y(\"overdose_per_100k\", scale=alt.Scale(zero=False)),\n",
    "            x=alt.X(\"year relative to policy\", scale=alt.Scale(zero=False)),\n",
    "        )\n",
    "        .properties(title=title_after)\n",
    "    )\n",
    "\n",
    "    return base_before, base_after"
   ]
  },
  {
   "cell_type": "code",
   "execution_count": 54,
   "metadata": {},
   "outputs": [
    {
     "data": {
      "text/html": [
       "\n",
       "<div id=\"altair-viz-15a09b1f3b114608ba42cc24a7a3b79c\"></div>\n",
       "<script type=\"text/javascript\">\n",
       "  var VEGA_DEBUG = (typeof VEGA_DEBUG == \"undefined\") ? {} : VEGA_DEBUG;\n",
       "  (function(spec, embedOpt){\n",
       "    let outputDiv = document.currentScript.previousElementSibling;\n",
       "    if (outputDiv.id !== \"altair-viz-15a09b1f3b114608ba42cc24a7a3b79c\") {\n",
       "      outputDiv = document.getElementById(\"altair-viz-15a09b1f3b114608ba42cc24a7a3b79c\");\n",
       "    }\n",
       "    const paths = {\n",
       "      \"vega\": \"https://cdn.jsdelivr.net/npm//vega@5?noext\",\n",
       "      \"vega-lib\": \"https://cdn.jsdelivr.net/npm//vega-lib?noext\",\n",
       "      \"vega-lite\": \"https://cdn.jsdelivr.net/npm//vega-lite@4.17.0?noext\",\n",
       "      \"vega-embed\": \"https://cdn.jsdelivr.net/npm//vega-embed@6?noext\",\n",
       "    };\n",
       "\n",
       "    function maybeLoadScript(lib, version) {\n",
       "      var key = `${lib.replace(\"-\", \"\")}_version`;\n",
       "      return (VEGA_DEBUG[key] == version) ?\n",
       "        Promise.resolve(paths[lib]) :\n",
       "        new Promise(function(resolve, reject) {\n",
       "          var s = document.createElement('script');\n",
       "          document.getElementsByTagName(\"head\")[0].appendChild(s);\n",
       "          s.async = true;\n",
       "          s.onload = () => {\n",
       "            VEGA_DEBUG[key] = version;\n",
       "            return resolve(paths[lib]);\n",
       "          };\n",
       "          s.onerror = () => reject(`Error loading script: ${paths[lib]}`);\n",
       "          s.src = paths[lib];\n",
       "        });\n",
       "    }\n",
       "\n",
       "    function showError(err) {\n",
       "      outputDiv.innerHTML = `<div class=\"error\" style=\"color:red;\">${err}</div>`;\n",
       "      throw err;\n",
       "    }\n",
       "\n",
       "    function displayChart(vegaEmbed) {\n",
       "      vegaEmbed(outputDiv, spec, embedOpt)\n",
       "        .catch(err => showError(`Javascript Error: ${err.message}<br>This usually means there's a typo in your chart specification. See the javascript console for the full traceback.`));\n",
       "    }\n",
       "\n",
       "    if(typeof define === \"function\" && define.amd) {\n",
       "      requirejs.config({paths});\n",
       "      require([\"vega-embed\"], displayChart, err => showError(`Error loading script: ${err.message}`));\n",
       "    } else {\n",
       "      maybeLoadScript(\"vega\", \"5\")\n",
       "        .then(() => maybeLoadScript(\"vega-lite\", \"4.17.0\"))\n",
       "        .then(() => maybeLoadScript(\"vega-embed\", \"6\"))\n",
       "        .catch(showError)\n",
       "        .then(() => displayChart(vegaEmbed));\n",
       "    }\n",
       "  })({\"config\": {\"view\": {\"continuousWidth\": 400, \"continuousHeight\": 300}}, \"layer\": [{\"data\": {\"name\": \"data-17a89e17f5bfced4a79b7918029a5edb\"}, \"mark\": \"point\", \"encoding\": {\"x\": {\"field\": \"year relative to policy\", \"scale\": {\"zero\": false}, \"type\": \"quantitative\"}, \"y\": {\"field\": \"overdose_per_100k\", \"scale\": {\"zero\": false}, \"type\": \"quantitative\"}}, \"title\": \"deaths before policy\"}, {\"data\": {\"name\": \"data-7e3b63ba46b166cf5a9a2fb157268f77\"}, \"mark\": \"point\", \"encoding\": {\"x\": {\"field\": \"year relative to policy\", \"scale\": {\"zero\": false}, \"type\": \"quantitative\"}, \"y\": {\"field\": \"overdose_per_100k\", \"scale\": {\"zero\": false}, \"type\": \"quantitative\"}}, \"title\": \"deaths after policy\"}], \"$schema\": \"https://vega.github.io/schema/vega-lite/v4.17.0.json\", \"datasets\": {\"data-17a89e17f5bfced4a79b7918029a5edb\": [{\"Year\": 2009.0, \"overdose_per_100k\": 14.281442422449883, \"year relative to policy\": -3}, {\"Year\": 2010.0, \"overdose_per_100k\": 12.020063655030947, \"year relative to policy\": -2}, {\"Year\": 2011.0, \"overdose_per_100k\": 14.170881860412829, \"year relative to policy\": -1}], \"data-7e3b63ba46b166cf5a9a2fb157268f77\": [{\"Year\": 2013.0, \"overdose_per_100k\": 13.559329964711745, \"year relative to policy\": 1}, {\"Year\": 2014.0, \"overdose_per_100k\": 13.308247036391828, \"year relative to policy\": 2}, {\"Year\": 2015.0, \"overdose_per_100k\": 14.352173618842977, \"year relative to policy\": 3}]}}, {\"mode\": \"vega-lite\"});\n",
       "</script>"
      ],
      "text/plain": [
       "alt.LayerChart(...)"
      ]
     },
     "execution_count": 54,
     "metadata": {},
     "output_type": "execute_result"
    }
   ],
   "source": [
    "# test the function\n",
    "# may remove title parameters later - not really necessary as we aren't plotting this part in our final analysis\n",
    "# however, if we can't add a title to our fit/regression line charts, we may need to add them here\n",
    "base_before, base_after = get_charts(b4 = wa_b4, after = wa_after, title_b4 = \"deaths before policy\", title_after=\"deaths after policy\")\n",
    "base_before + base_after"
   ]
  },
  {
   "cell_type": "code",
   "execution_count": 55,
   "metadata": {},
   "outputs": [],
   "source": [
    "def get_fits(chart_b4, chart_after):\n",
    "    \"\"\"\n",
    "    Function to plot the regression lines for the pre and post charts.\n",
    "    \"\"\"\n",
    "\n",
    "    fit_wa_b4 = (\n",
    "    chart_b4.transform_regression(\"year relative to policy\", \"overdose_per_100k\")\n",
    "    .mark_line()\n",
    "    .encode(color=alt.value(\"red\"))\n",
    "    )\n",
    "\n",
    "\n",
    "    fit_wa_after = (\n",
    "    chart_after.transform_regression(\"year relative to policy\", \"overdose_per_100k\")\n",
    "    .mark_line()\n",
    "    .encode(color=alt.value(\"red\"))\n",
    "    )\n",
    "\n",
    "    return fit_wa_b4, fit_wa_after"
   ]
  },
  {
   "cell_type": "code",
   "execution_count": 56,
   "metadata": {},
   "outputs": [
    {
     "data": {
      "text/html": [
       "\n",
       "<div id=\"altair-viz-6210a17a8e9145dda28f8ef140164e42\"></div>\n",
       "<script type=\"text/javascript\">\n",
       "  var VEGA_DEBUG = (typeof VEGA_DEBUG == \"undefined\") ? {} : VEGA_DEBUG;\n",
       "  (function(spec, embedOpt){\n",
       "    let outputDiv = document.currentScript.previousElementSibling;\n",
       "    if (outputDiv.id !== \"altair-viz-6210a17a8e9145dda28f8ef140164e42\") {\n",
       "      outputDiv = document.getElementById(\"altair-viz-6210a17a8e9145dda28f8ef140164e42\");\n",
       "    }\n",
       "    const paths = {\n",
       "      \"vega\": \"https://cdn.jsdelivr.net/npm//vega@5?noext\",\n",
       "      \"vega-lib\": \"https://cdn.jsdelivr.net/npm//vega-lib?noext\",\n",
       "      \"vega-lite\": \"https://cdn.jsdelivr.net/npm//vega-lite@4.17.0?noext\",\n",
       "      \"vega-embed\": \"https://cdn.jsdelivr.net/npm//vega-embed@6?noext\",\n",
       "    };\n",
       "\n",
       "    function maybeLoadScript(lib, version) {\n",
       "      var key = `${lib.replace(\"-\", \"\")}_version`;\n",
       "      return (VEGA_DEBUG[key] == version) ?\n",
       "        Promise.resolve(paths[lib]) :\n",
       "        new Promise(function(resolve, reject) {\n",
       "          var s = document.createElement('script');\n",
       "          document.getElementsByTagName(\"head\")[0].appendChild(s);\n",
       "          s.async = true;\n",
       "          s.onload = () => {\n",
       "            VEGA_DEBUG[key] = version;\n",
       "            return resolve(paths[lib]);\n",
       "          };\n",
       "          s.onerror = () => reject(`Error loading script: ${paths[lib]}`);\n",
       "          s.src = paths[lib];\n",
       "        });\n",
       "    }\n",
       "\n",
       "    function showError(err) {\n",
       "      outputDiv.innerHTML = `<div class=\"error\" style=\"color:red;\">${err}</div>`;\n",
       "      throw err;\n",
       "    }\n",
       "\n",
       "    function displayChart(vegaEmbed) {\n",
       "      vegaEmbed(outputDiv, spec, embedOpt)\n",
       "        .catch(err => showError(`Javascript Error: ${err.message}<br>This usually means there's a typo in your chart specification. See the javascript console for the full traceback.`));\n",
       "    }\n",
       "\n",
       "    if(typeof define === \"function\" && define.amd) {\n",
       "      requirejs.config({paths});\n",
       "      require([\"vega-embed\"], displayChart, err => showError(`Error loading script: ${err.message}`));\n",
       "    } else {\n",
       "      maybeLoadScript(\"vega\", \"5\")\n",
       "        .then(() => maybeLoadScript(\"vega-lite\", \"4.17.0\"))\n",
       "        .then(() => maybeLoadScript(\"vega-embed\", \"6\"))\n",
       "        .catch(showError)\n",
       "        .then(() => displayChart(vegaEmbed));\n",
       "    }\n",
       "  })({\"config\": {\"view\": {\"continuousWidth\": 400, \"continuousHeight\": 300}}, \"layer\": [{\"data\": {\"name\": \"data-17a89e17f5bfced4a79b7918029a5edb\"}, \"mark\": \"line\", \"encoding\": {\"color\": {\"value\": \"red\"}, \"x\": {\"field\": \"year relative to policy\", \"scale\": {\"zero\": false}, \"type\": \"quantitative\"}, \"y\": {\"field\": \"overdose_per_100k\", \"scale\": {\"zero\": false}, \"type\": \"quantitative\"}}, \"title\": \"deaths before policy\", \"transform\": [{\"on\": \"year relative to policy\", \"regression\": \"overdose_per_100k\"}]}, {\"data\": {\"name\": \"data-7e3b63ba46b166cf5a9a2fb157268f77\"}, \"mark\": \"line\", \"encoding\": {\"color\": {\"value\": \"red\"}, \"x\": {\"field\": \"year relative to policy\", \"scale\": {\"zero\": false}, \"type\": \"quantitative\"}, \"y\": {\"field\": \"overdose_per_100k\", \"scale\": {\"zero\": false}, \"type\": \"quantitative\"}}, \"title\": \"deaths after policy\", \"transform\": [{\"on\": \"year relative to policy\", \"regression\": \"overdose_per_100k\"}]}], \"$schema\": \"https://vega.github.io/schema/vega-lite/v4.17.0.json\", \"datasets\": {\"data-17a89e17f5bfced4a79b7918029a5edb\": [{\"Year\": 2009.0, \"overdose_per_100k\": 14.281442422449883, \"year relative to policy\": -3}, {\"Year\": 2010.0, \"overdose_per_100k\": 12.020063655030947, \"year relative to policy\": -2}, {\"Year\": 2011.0, \"overdose_per_100k\": 14.170881860412829, \"year relative to policy\": -1}], \"data-7e3b63ba46b166cf5a9a2fb157268f77\": [{\"Year\": 2013.0, \"overdose_per_100k\": 13.559329964711745, \"year relative to policy\": 1}, {\"Year\": 2014.0, \"overdose_per_100k\": 13.308247036391828, \"year relative to policy\": 2}, {\"Year\": 2015.0, \"overdose_per_100k\": 14.352173618842977, \"year relative to policy\": 3}]}}, {\"mode\": \"vega-lite\"});\n",
       "</script>"
      ],
      "text/plain": [
       "alt.LayerChart(...)"
      ]
     },
     "execution_count": 56,
     "metadata": {},
     "output_type": "execute_result"
    }
   ],
   "source": [
    "# test function\n",
    "fit_b4, fit_after = get_fits(chart_b4 = base_before, chart_after = base_after)\n",
    "fit_b4 + fit_after"
   ]
  },
  {
   "cell_type": "code",
   "execution_count": 57,
   "metadata": {},
   "outputs": [],
   "source": [
    "band_b4 = alt.Chart(wa_b4).mark_errorband(extent='ci').encode(\n",
    "    x=alt.X('Year'),\n",
    "    y=alt.Y('overdose_per_100k'))\n",
    "\n",
    "\n",
    "band_after = alt.Chart(wa_after).mark_errorband(extent='ci').encode(\n",
    "    x=alt.X('Year'),\n",
    "    y=alt.Y('overdose_per_100k'))"
   ]
  },
  {
   "cell_type": "code",
   "execution_count": 59,
   "metadata": {},
   "outputs": [
    {
     "data": {
      "text/html": [
       "\n",
       "<div id=\"altair-viz-1f420c95752541a3ab44f2d6c4e4c5cc\"></div>\n",
       "<script type=\"text/javascript\">\n",
       "  var VEGA_DEBUG = (typeof VEGA_DEBUG == \"undefined\") ? {} : VEGA_DEBUG;\n",
       "  (function(spec, embedOpt){\n",
       "    let outputDiv = document.currentScript.previousElementSibling;\n",
       "    if (outputDiv.id !== \"altair-viz-1f420c95752541a3ab44f2d6c4e4c5cc\") {\n",
       "      outputDiv = document.getElementById(\"altair-viz-1f420c95752541a3ab44f2d6c4e4c5cc\");\n",
       "    }\n",
       "    const paths = {\n",
       "      \"vega\": \"https://cdn.jsdelivr.net/npm//vega@5?noext\",\n",
       "      \"vega-lib\": \"https://cdn.jsdelivr.net/npm//vega-lib?noext\",\n",
       "      \"vega-lite\": \"https://cdn.jsdelivr.net/npm//vega-lite@4.17.0?noext\",\n",
       "      \"vega-embed\": \"https://cdn.jsdelivr.net/npm//vega-embed@6?noext\",\n",
       "    };\n",
       "\n",
       "    function maybeLoadScript(lib, version) {\n",
       "      var key = `${lib.replace(\"-\", \"\")}_version`;\n",
       "      return (VEGA_DEBUG[key] == version) ?\n",
       "        Promise.resolve(paths[lib]) :\n",
       "        new Promise(function(resolve, reject) {\n",
       "          var s = document.createElement('script');\n",
       "          document.getElementsByTagName(\"head\")[0].appendChild(s);\n",
       "          s.async = true;\n",
       "          s.onload = () => {\n",
       "            VEGA_DEBUG[key] = version;\n",
       "            return resolve(paths[lib]);\n",
       "          };\n",
       "          s.onerror = () => reject(`Error loading script: ${paths[lib]}`);\n",
       "          s.src = paths[lib];\n",
       "        });\n",
       "    }\n",
       "\n",
       "    function showError(err) {\n",
       "      outputDiv.innerHTML = `<div class=\"error\" style=\"color:red;\">${err}</div>`;\n",
       "      throw err;\n",
       "    }\n",
       "\n",
       "    function displayChart(vegaEmbed) {\n",
       "      vegaEmbed(outputDiv, spec, embedOpt)\n",
       "        .catch(err => showError(`Javascript Error: ${err.message}<br>This usually means there's a typo in your chart specification. See the javascript console for the full traceback.`));\n",
       "    }\n",
       "\n",
       "    if(typeof define === \"function\" && define.amd) {\n",
       "      requirejs.config({paths});\n",
       "      require([\"vega-embed\"], displayChart, err => showError(`Error loading script: ${err.message}`));\n",
       "    } else {\n",
       "      maybeLoadScript(\"vega\", \"5\")\n",
       "        .then(() => maybeLoadScript(\"vega-lite\", \"4.17.0\"))\n",
       "        .then(() => maybeLoadScript(\"vega-embed\", \"6\"))\n",
       "        .catch(showError)\n",
       "        .then(() => displayChart(vegaEmbed));\n",
       "    }\n",
       "  })({\"config\": {\"view\": {\"continuousWidth\": 400, \"continuousHeight\": 300}}, \"layer\": [{\"data\": {\"name\": \"data-17a89e17f5bfced4a79b7918029a5edb\"}, \"mark\": \"line\", \"encoding\": {\"color\": {\"value\": \"red\"}, \"x\": {\"field\": \"year relative to policy\", \"scale\": {\"zero\": false}, \"type\": \"quantitative\"}, \"y\": {\"field\": \"overdose_per_100k\", \"scale\": {\"zero\": false}, \"type\": \"quantitative\"}}, \"title\": \"deaths before policy\", \"transform\": [{\"on\": \"year relative to policy\", \"regression\": \"overdose_per_100k\"}]}, {\"data\": {\"name\": \"data-7e3b63ba46b166cf5a9a2fb157268f77\"}, \"mark\": \"line\", \"encoding\": {\"color\": {\"value\": \"red\"}, \"x\": {\"field\": \"year relative to policy\", \"scale\": {\"zero\": false}, \"type\": \"quantitative\"}, \"y\": {\"field\": \"overdose_per_100k\", \"scale\": {\"zero\": false}, \"type\": \"quantitative\"}}, \"title\": \"deaths after policy\", \"transform\": [{\"on\": \"year relative to policy\", \"regression\": \"overdose_per_100k\"}]}], \"$schema\": \"https://vega.github.io/schema/vega-lite/v4.17.0.json\", \"datasets\": {\"data-17a89e17f5bfced4a79b7918029a5edb\": [{\"Year\": 2009.0, \"overdose_per_100k\": 14.281442422449883, \"year relative to policy\": -3}, {\"Year\": 2010.0, \"overdose_per_100k\": 12.020063655030947, \"year relative to policy\": -2}, {\"Year\": 2011.0, \"overdose_per_100k\": 14.170881860412829, \"year relative to policy\": -1}], \"data-7e3b63ba46b166cf5a9a2fb157268f77\": [{\"Year\": 2013.0, \"overdose_per_100k\": 13.559329964711745, \"year relative to policy\": 1}, {\"Year\": 2014.0, \"overdose_per_100k\": 13.308247036391828, \"year relative to policy\": 2}, {\"Year\": 2015.0, \"overdose_per_100k\": 14.352173618842977, \"year relative to policy\": 3}]}}, {\"mode\": \"vega-lite\"});\n",
       "</script>"
      ],
      "text/plain": [
       "alt.LayerChart(...)"
      ]
     },
     "execution_count": 59,
     "metadata": {},
     "output_type": "execute_result"
    }
   ],
   "source": [
    "fit_b4 + fit_after\n",
    "# fit_b4 + fit_after + error_bars"
   ]
  },
  {
   "cell_type": "code",
   "execution_count": 60,
   "metadata": {},
   "outputs": [],
   "source": [
    "error_bars = base_before.mark_rule().encode(\n",
    "    x='ci0(overdose_per_100k):Q',\n",
    "    x2='ci1(overdose_per_100k):Q',\n",
    ")\n"
   ]
  },
  {
   "cell_type": "code",
   "execution_count": 61,
   "metadata": {},
   "outputs": [
    {
     "data": {
      "text/html": [
       "\n",
       "<div id=\"altair-viz-7699417f9c6e438e9045551b73811ed1\"></div>\n",
       "<script type=\"text/javascript\">\n",
       "  var VEGA_DEBUG = (typeof VEGA_DEBUG == \"undefined\") ? {} : VEGA_DEBUG;\n",
       "  (function(spec, embedOpt){\n",
       "    let outputDiv = document.currentScript.previousElementSibling;\n",
       "    if (outputDiv.id !== \"altair-viz-7699417f9c6e438e9045551b73811ed1\") {\n",
       "      outputDiv = document.getElementById(\"altair-viz-7699417f9c6e438e9045551b73811ed1\");\n",
       "    }\n",
       "    const paths = {\n",
       "      \"vega\": \"https://cdn.jsdelivr.net/npm//vega@5?noext\",\n",
       "      \"vega-lib\": \"https://cdn.jsdelivr.net/npm//vega-lib?noext\",\n",
       "      \"vega-lite\": \"https://cdn.jsdelivr.net/npm//vega-lite@4.17.0?noext\",\n",
       "      \"vega-embed\": \"https://cdn.jsdelivr.net/npm//vega-embed@6?noext\",\n",
       "    };\n",
       "\n",
       "    function maybeLoadScript(lib, version) {\n",
       "      var key = `${lib.replace(\"-\", \"\")}_version`;\n",
       "      return (VEGA_DEBUG[key] == version) ?\n",
       "        Promise.resolve(paths[lib]) :\n",
       "        new Promise(function(resolve, reject) {\n",
       "          var s = document.createElement('script');\n",
       "          document.getElementsByTagName(\"head\")[0].appendChild(s);\n",
       "          s.async = true;\n",
       "          s.onload = () => {\n",
       "            VEGA_DEBUG[key] = version;\n",
       "            return resolve(paths[lib]);\n",
       "          };\n",
       "          s.onerror = () => reject(`Error loading script: ${paths[lib]}`);\n",
       "          s.src = paths[lib];\n",
       "        });\n",
       "    }\n",
       "\n",
       "    function showError(err) {\n",
       "      outputDiv.innerHTML = `<div class=\"error\" style=\"color:red;\">${err}</div>`;\n",
       "      throw err;\n",
       "    }\n",
       "\n",
       "    function displayChart(vegaEmbed) {\n",
       "      vegaEmbed(outputDiv, spec, embedOpt)\n",
       "        .catch(err => showError(`Javascript Error: ${err.message}<br>This usually means there's a typo in your chart specification. See the javascript console for the full traceback.`));\n",
       "    }\n",
       "\n",
       "    if(typeof define === \"function\" && define.amd) {\n",
       "      requirejs.config({paths});\n",
       "      require([\"vega-embed\"], displayChart, err => showError(`Error loading script: ${err.message}`));\n",
       "    } else {\n",
       "      maybeLoadScript(\"vega\", \"5\")\n",
       "        .then(() => maybeLoadScript(\"vega-lite\", \"4.17.0\"))\n",
       "        .then(() => maybeLoadScript(\"vega-embed\", \"6\"))\n",
       "        .catch(showError)\n",
       "        .then(() => displayChart(vegaEmbed));\n",
       "    }\n",
       "  })({\"config\": {\"view\": {\"continuousWidth\": 400, \"continuousHeight\": 300}}, \"data\": {\"name\": \"data-17a89e17f5bfced4a79b7918029a5edb\"}, \"mark\": \"rule\", \"encoding\": {\"x\": {\"aggregate\": \"ci0\", \"field\": \"overdose_per_100k\", \"type\": \"quantitative\"}, \"x2\": {\"aggregate\": \"ci1\", \"field\": \"overdose_per_100k\"}, \"y\": {\"field\": \"overdose_per_100k\", \"scale\": {\"zero\": false}, \"type\": \"quantitative\"}}, \"title\": \"deaths before policy\", \"$schema\": \"https://vega.github.io/schema/vega-lite/v4.17.0.json\", \"datasets\": {\"data-17a89e17f5bfced4a79b7918029a5edb\": [{\"Year\": 2009.0, \"overdose_per_100k\": 14.281442422449883, \"year relative to policy\": -3}, {\"Year\": 2010.0, \"overdose_per_100k\": 12.020063655030947, \"year relative to policy\": -2}, {\"Year\": 2011.0, \"overdose_per_100k\": 14.170881860412829, \"year relative to policy\": -1}]}}, {\"mode\": \"vega-lite\"});\n",
       "</script>"
      ],
      "text/plain": [
       "alt.Chart(...)"
      ]
     },
     "execution_count": 61,
     "metadata": {},
     "output_type": "execute_result"
    }
   ],
   "source": [
    "error_bars"
   ]
  },
  {
   "cell_type": "code",
   "execution_count": 62,
   "metadata": {},
   "outputs": [],
   "source": [
    "band = alt.Chart(base_before).mark_area(\n",
    "    opacity=0.5\n",
    ").encode(\n",
    "    x='overdose_per_100k:Q',\n",
    "    y='lower:N',\n",
    "    y2='upper:N'\n",
    ")"
   ]
  },
  {
   "cell_type": "code",
   "execution_count": 63,
   "metadata": {},
   "outputs": [
    {
     "name": "stderr",
     "output_type": "stream",
     "text": [
      "/Users/wzl20/opt/miniconda3/lib/python3.10/site-packages/altair/vegalite/v4/api.py:101: UserWarning: data of type <class 'altair.vegalite.v4.api.Chart'> not recognized\n"
     ]
    },
    {
     "ename": "SchemaValidationError",
     "evalue": "Invalid specification\n\n        altair.vegalite.v4.api.Chart->0, validating 'anyOf'\n\n        {'data': {'name': 'data-17a89e17f5bfced4a79b7918029a5edb'}, 'mark': 'point', 'encoding': {'x': {'field': 'year relative to policy', 'scale': {'zero': False}, 'type': 'quantitative'}, 'y': {'field': 'overdose_per_100k', 'scale': {'zero': False}, 'type': 'quantitative'}}, 'title': 'deaths before policy'} is not valid under any of the given schemas\n        ",
     "output_type": "error",
     "traceback": [
      "\u001b[0;31m---------------------------------------------------------------------------\u001b[0m",
      "\u001b[0;31mSchemaValidationError\u001b[0m                     Traceback (most recent call last)",
      "File \u001b[0;32m~/opt/miniconda3/lib/python3.10/site-packages/altair/vegalite/v4/api.py:2020\u001b[0m, in \u001b[0;36mChart.to_dict\u001b[0;34m(self, *args, **kwargs)\u001b[0m\n\u001b[1;32m   2018\u001b[0m     copy\u001b[39m.\u001b[39mdata \u001b[39m=\u001b[39m core\u001b[39m.\u001b[39mInlineData(values\u001b[39m=\u001b[39m[{}])\n\u001b[1;32m   2019\u001b[0m     \u001b[39mreturn\u001b[39;00m \u001b[39msuper\u001b[39m(Chart, copy)\u001b[39m.\u001b[39mto_dict(\u001b[39m*\u001b[39margs, \u001b[39m*\u001b[39m\u001b[39m*\u001b[39mkwargs)\n\u001b[0;32m-> 2020\u001b[0m \u001b[39mreturn\u001b[39;00m \u001b[39msuper\u001b[39;49m()\u001b[39m.\u001b[39;49mto_dict(\u001b[39m*\u001b[39;49margs, \u001b[39m*\u001b[39;49m\u001b[39m*\u001b[39;49mkwargs)\n",
      "File \u001b[0;32m~/opt/miniconda3/lib/python3.10/site-packages/altair/vegalite/v4/api.py:393\u001b[0m, in \u001b[0;36mTopLevelMixin.to_dict\u001b[0;34m(self, *args, **kwargs)\u001b[0m\n\u001b[1;32m    391\u001b[0m \u001b[39mif\u001b[39;00m dct \u001b[39mis\u001b[39;00m \u001b[39mNone\u001b[39;00m:\n\u001b[1;32m    392\u001b[0m     kwargs[\u001b[39m\"\u001b[39m\u001b[39mvalidate\u001b[39m\u001b[39m\"\u001b[39m] \u001b[39m=\u001b[39m \u001b[39m\"\u001b[39m\u001b[39mdeep\u001b[39m\u001b[39m\"\u001b[39m\n\u001b[0;32m--> 393\u001b[0m     dct \u001b[39m=\u001b[39m \u001b[39msuper\u001b[39;49m(TopLevelMixin, copy)\u001b[39m.\u001b[39;49mto_dict(\u001b[39m*\u001b[39;49margs, \u001b[39m*\u001b[39;49m\u001b[39m*\u001b[39;49mkwargs)\n\u001b[1;32m    395\u001b[0m \u001b[39m# TODO: following entries are added after validation. Should they be validated?\u001b[39;00m\n\u001b[1;32m    396\u001b[0m \u001b[39mif\u001b[39;00m is_top_level:\n\u001b[1;32m    397\u001b[0m     \u001b[39m# since this is top-level we add $schema if it's missing\u001b[39;00m\n",
      "File \u001b[0;32m~/opt/miniconda3/lib/python3.10/site-packages/altair/utils/schemapi.py:340\u001b[0m, in \u001b[0;36mSchemaBase.to_dict\u001b[0;34m(self, validate, ignore, context)\u001b[0m\n\u001b[1;32m    338\u001b[0m         \u001b[39mself\u001b[39m\u001b[39m.\u001b[39mvalidate(result)\n\u001b[1;32m    339\u001b[0m     \u001b[39mexcept\u001b[39;00m jsonschema\u001b[39m.\u001b[39mValidationError \u001b[39mas\u001b[39;00m err:\n\u001b[0;32m--> 340\u001b[0m         \u001b[39mraise\u001b[39;00m SchemaValidationError(\u001b[39mself\u001b[39m, err)\n\u001b[1;32m    341\u001b[0m \u001b[39mreturn\u001b[39;00m result\n",
      "\u001b[0;31mSchemaValidationError\u001b[0m: Invalid specification\n\n        altair.vegalite.v4.api.Chart->0, validating 'anyOf'\n\n        {'data': {'name': 'data-17a89e17f5bfced4a79b7918029a5edb'}, 'mark': 'point', 'encoding': {'x': {'field': 'year relative to policy', 'scale': {'zero': False}, 'type': 'quantitative'}, 'y': {'field': 'overdose_per_100k', 'scale': {'zero': False}, 'type': 'quantitative'}}, 'title': 'deaths before policy'} is not valid under any of the given schemas\n        "
     ]
    },
    {
     "data": {
      "text/plain": [
       "alt.Chart(...)"
      ]
     },
     "execution_count": 63,
     "metadata": {},
     "output_type": "execute_result"
    }
   ],
   "source": [
    "band"
   ]
  },
  {
   "cell_type": "code",
   "execution_count": null,
   "metadata": {},
   "outputs": [],
   "source": []
  },
  {
   "cell_type": "code",
   "execution_count": 64,
   "metadata": {},
   "outputs": [],
   "source": [
    "mean_points = alt.Chart(wa_b4).mark_circle(color='black').encode(\n",
    "    alt.X(\"overdoses_per_100k:Q\", bin=True),\n",
    "    y='year relative to policy:Q',\n",
    ")\n",
    "\n",
    "error_bars = alt.Chart(wa_after).mark_errorbar(extent='ci').encode(\n",
    "    alt.X(\"overdoses_per_100k:Q\", bin=True),\n",
    "    y='year relative to policy:Q',\n",
    ")"
   ]
  },
  {
   "cell_type": "code",
   "execution_count": 65,
   "metadata": {},
   "outputs": [
    {
     "data": {
      "text/html": [
       "\n",
       "<div id=\"altair-viz-0049917141a1467c90cde677961c4d4d\"></div>\n",
       "<script type=\"text/javascript\">\n",
       "  var VEGA_DEBUG = (typeof VEGA_DEBUG == \"undefined\") ? {} : VEGA_DEBUG;\n",
       "  (function(spec, embedOpt){\n",
       "    let outputDiv = document.currentScript.previousElementSibling;\n",
       "    if (outputDiv.id !== \"altair-viz-0049917141a1467c90cde677961c4d4d\") {\n",
       "      outputDiv = document.getElementById(\"altair-viz-0049917141a1467c90cde677961c4d4d\");\n",
       "    }\n",
       "    const paths = {\n",
       "      \"vega\": \"https://cdn.jsdelivr.net/npm//vega@5?noext\",\n",
       "      \"vega-lib\": \"https://cdn.jsdelivr.net/npm//vega-lib?noext\",\n",
       "      \"vega-lite\": \"https://cdn.jsdelivr.net/npm//vega-lite@4.17.0?noext\",\n",
       "      \"vega-embed\": \"https://cdn.jsdelivr.net/npm//vega-embed@6?noext\",\n",
       "    };\n",
       "\n",
       "    function maybeLoadScript(lib, version) {\n",
       "      var key = `${lib.replace(\"-\", \"\")}_version`;\n",
       "      return (VEGA_DEBUG[key] == version) ?\n",
       "        Promise.resolve(paths[lib]) :\n",
       "        new Promise(function(resolve, reject) {\n",
       "          var s = document.createElement('script');\n",
       "          document.getElementsByTagName(\"head\")[0].appendChild(s);\n",
       "          s.async = true;\n",
       "          s.onload = () => {\n",
       "            VEGA_DEBUG[key] = version;\n",
       "            return resolve(paths[lib]);\n",
       "          };\n",
       "          s.onerror = () => reject(`Error loading script: ${paths[lib]}`);\n",
       "          s.src = paths[lib];\n",
       "        });\n",
       "    }\n",
       "\n",
       "    function showError(err) {\n",
       "      outputDiv.innerHTML = `<div class=\"error\" style=\"color:red;\">${err}</div>`;\n",
       "      throw err;\n",
       "    }\n",
       "\n",
       "    function displayChart(vegaEmbed) {\n",
       "      vegaEmbed(outputDiv, spec, embedOpt)\n",
       "        .catch(err => showError(`Javascript Error: ${err.message}<br>This usually means there's a typo in your chart specification. See the javascript console for the full traceback.`));\n",
       "    }\n",
       "\n",
       "    if(typeof define === \"function\" && define.amd) {\n",
       "      requirejs.config({paths});\n",
       "      require([\"vega-embed\"], displayChart, err => showError(`Error loading script: ${err.message}`));\n",
       "    } else {\n",
       "      maybeLoadScript(\"vega\", \"5\")\n",
       "        .then(() => maybeLoadScript(\"vega-lite\", \"4.17.0\"))\n",
       "        .then(() => maybeLoadScript(\"vega-embed\", \"6\"))\n",
       "        .catch(showError)\n",
       "        .then(() => displayChart(vegaEmbed));\n",
       "    }\n",
       "  })({\"config\": {\"view\": {\"continuousWidth\": 400, \"continuousHeight\": 300}}, \"layer\": [{\"data\": {\"name\": \"data-17a89e17f5bfced4a79b7918029a5edb\"}, \"mark\": {\"type\": \"circle\", \"color\": \"black\"}, \"encoding\": {\"x\": {\"bin\": true, \"field\": \"overdoses_per_100k\", \"type\": \"quantitative\"}, \"y\": {\"field\": \"year relative to policy\", \"type\": \"quantitative\"}}}, {\"data\": {\"name\": \"data-7e3b63ba46b166cf5a9a2fb157268f77\"}, \"mark\": {\"type\": \"errorbar\", \"extent\": \"ci\"}, \"encoding\": {\"x\": {\"bin\": true, \"field\": \"overdoses_per_100k\", \"type\": \"quantitative\"}, \"y\": {\"field\": \"year relative to policy\", \"type\": \"quantitative\"}}}], \"$schema\": \"https://vega.github.io/schema/vega-lite/v4.17.0.json\", \"datasets\": {\"data-17a89e17f5bfced4a79b7918029a5edb\": [{\"Year\": 2009.0, \"overdose_per_100k\": 14.281442422449883, \"year relative to policy\": -3}, {\"Year\": 2010.0, \"overdose_per_100k\": 12.020063655030947, \"year relative to policy\": -2}, {\"Year\": 2011.0, \"overdose_per_100k\": 14.170881860412829, \"year relative to policy\": -1}], \"data-7e3b63ba46b166cf5a9a2fb157268f77\": [{\"Year\": 2013.0, \"overdose_per_100k\": 13.559329964711745, \"year relative to policy\": 1}, {\"Year\": 2014.0, \"overdose_per_100k\": 13.308247036391828, \"year relative to policy\": 2}, {\"Year\": 2015.0, \"overdose_per_100k\": 14.352173618842977, \"year relative to policy\": 3}]}}, {\"mode\": \"vega-lite\"});\n",
       "</script>"
      ],
      "text/plain": [
       "alt.LayerChart(...)"
      ]
     },
     "execution_count": 65,
     "metadata": {},
     "output_type": "execute_result"
    }
   ],
   "source": [
    "mean_points + error_bars"
   ]
  },
  {
   "cell_type": "code",
   "execution_count": 66,
   "metadata": {},
   "outputs": [
    {
     "data": {
      "text/html": [
       "\n",
       "<div id=\"altair-viz-95d11a39beec4612b487ba8dbf42055c\"></div>\n",
       "<script type=\"text/javascript\">\n",
       "  var VEGA_DEBUG = (typeof VEGA_DEBUG == \"undefined\") ? {} : VEGA_DEBUG;\n",
       "  (function(spec, embedOpt){\n",
       "    let outputDiv = document.currentScript.previousElementSibling;\n",
       "    if (outputDiv.id !== \"altair-viz-95d11a39beec4612b487ba8dbf42055c\") {\n",
       "      outputDiv = document.getElementById(\"altair-viz-95d11a39beec4612b487ba8dbf42055c\");\n",
       "    }\n",
       "    const paths = {\n",
       "      \"vega\": \"https://cdn.jsdelivr.net/npm//vega@5?noext\",\n",
       "      \"vega-lib\": \"https://cdn.jsdelivr.net/npm//vega-lib?noext\",\n",
       "      \"vega-lite\": \"https://cdn.jsdelivr.net/npm//vega-lite@4.17.0?noext\",\n",
       "      \"vega-embed\": \"https://cdn.jsdelivr.net/npm//vega-embed@6?noext\",\n",
       "    };\n",
       "\n",
       "    function maybeLoadScript(lib, version) {\n",
       "      var key = `${lib.replace(\"-\", \"\")}_version`;\n",
       "      return (VEGA_DEBUG[key] == version) ?\n",
       "        Promise.resolve(paths[lib]) :\n",
       "        new Promise(function(resolve, reject) {\n",
       "          var s = document.createElement('script');\n",
       "          document.getElementsByTagName(\"head\")[0].appendChild(s);\n",
       "          s.async = true;\n",
       "          s.onload = () => {\n",
       "            VEGA_DEBUG[key] = version;\n",
       "            return resolve(paths[lib]);\n",
       "          };\n",
       "          s.onerror = () => reject(`Error loading script: ${paths[lib]}`);\n",
       "          s.src = paths[lib];\n",
       "        });\n",
       "    }\n",
       "\n",
       "    function showError(err) {\n",
       "      outputDiv.innerHTML = `<div class=\"error\" style=\"color:red;\">${err}</div>`;\n",
       "      throw err;\n",
       "    }\n",
       "\n",
       "    function displayChart(vegaEmbed) {\n",
       "      vegaEmbed(outputDiv, spec, embedOpt)\n",
       "        .catch(err => showError(`Javascript Error: ${err.message}<br>This usually means there's a typo in your chart specification. See the javascript console for the full traceback.`));\n",
       "    }\n",
       "\n",
       "    if(typeof define === \"function\" && define.amd) {\n",
       "      requirejs.config({paths});\n",
       "      require([\"vega-embed\"], displayChart, err => showError(`Error loading script: ${err.message}`));\n",
       "    } else {\n",
       "      maybeLoadScript(\"vega\", \"5\")\n",
       "        .then(() => maybeLoadScript(\"vega-lite\", \"4.17.0\"))\n",
       "        .then(() => maybeLoadScript(\"vega-embed\", \"6\"))\n",
       "        .catch(showError)\n",
       "        .then(() => displayChart(vegaEmbed));\n",
       "    }\n",
       "  })({\"config\": {\"view\": {\"continuousWidth\": 400, \"continuousHeight\": 300}}, \"layer\": [{\"data\": {\"name\": \"data-17a89e17f5bfced4a79b7918029a5edb\"}, \"mark\": \"line\", \"encoding\": {\"color\": {\"value\": \"red\"}, \"x\": {\"field\": \"year relative to policy\", \"scale\": {\"zero\": false}, \"type\": \"quantitative\"}, \"y\": {\"field\": \"overdose_per_100k\", \"scale\": {\"zero\": false}, \"type\": \"quantitative\"}}, \"title\": \"deaths before policy\", \"transform\": [{\"on\": \"year relative to policy\", \"regression\": \"overdose_per_100k\"}]}, {\"data\": {\"name\": \"data-7e3b63ba46b166cf5a9a2fb157268f77\"}, \"mark\": \"line\", \"encoding\": {\"color\": {\"value\": \"red\"}, \"x\": {\"field\": \"year relative to policy\", \"scale\": {\"zero\": false}, \"type\": \"quantitative\"}, \"y\": {\"field\": \"overdose_per_100k\", \"scale\": {\"zero\": false}, \"type\": \"quantitative\"}}, \"title\": \"deaths after policy\", \"transform\": [{\"on\": \"year relative to policy\", \"regression\": \"overdose_per_100k\"}]}, {\"data\": {\"name\": \"data-7e3b63ba46b166cf5a9a2fb157268f77\"}, \"mark\": {\"type\": \"errorbar\", \"extent\": \"ci\"}, \"encoding\": {\"x\": {\"bin\": true, \"field\": \"overdoses_per_100k\", \"type\": \"quantitative\"}, \"y\": {\"field\": \"year relative to policy\", \"type\": \"quantitative\"}}}], \"$schema\": \"https://vega.github.io/schema/vega-lite/v4.17.0.json\", \"datasets\": {\"data-17a89e17f5bfced4a79b7918029a5edb\": [{\"Year\": 2009.0, \"overdose_per_100k\": 14.281442422449883, \"year relative to policy\": -3}, {\"Year\": 2010.0, \"overdose_per_100k\": 12.020063655030947, \"year relative to policy\": -2}, {\"Year\": 2011.0, \"overdose_per_100k\": 14.170881860412829, \"year relative to policy\": -1}], \"data-7e3b63ba46b166cf5a9a2fb157268f77\": [{\"Year\": 2013.0, \"overdose_per_100k\": 13.559329964711745, \"year relative to policy\": 1}, {\"Year\": 2014.0, \"overdose_per_100k\": 13.308247036391828, \"year relative to policy\": 2}, {\"Year\": 2015.0, \"overdose_per_100k\": 14.352173618842977, \"year relative to policy\": 3}]}}, {\"mode\": \"vega-lite\"});\n",
       "</script>"
      ],
      "text/plain": [
       "alt.LayerChart(...)"
      ]
     },
     "execution_count": 66,
     "metadata": {},
     "output_type": "execute_result"
    }
   ],
   "source": [
    "fit_b4 + fit_after + error_bars"
   ]
  },
  {
   "cell_type": "code",
   "execution_count": null,
   "metadata": {},
   "outputs": [],
   "source": []
  }
 ],
 "metadata": {
  "kernelspec": {
   "display_name": "Python 3.10.6 ('base')",
   "language": "python",
   "name": "python3"
  },
  "language_info": {
   "codemirror_mode": {
    "name": "ipython",
    "version": 3
   },
   "file_extension": ".py",
   "mimetype": "text/x-python",
   "name": "python",
   "nbconvert_exporter": "python",
   "pygments_lexer": "ipython3",
   "version": "3.10.6"
  },
  "orig_nbformat": 4,
  "vscode": {
   "interpreter": {
    "hash": "0cbab566eb69d4626bfa9b6d912ef507e99cc521a1cee991b94f63b60c388b6e"
   }
  }
 },
 "nbformat": 4,
 "nbformat_minor": 2
}
