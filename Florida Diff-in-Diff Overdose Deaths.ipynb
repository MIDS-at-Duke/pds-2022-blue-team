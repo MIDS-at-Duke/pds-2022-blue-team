{
 "cells": [
  {
   "cell_type": "markdown",
   "metadata": {},
   "source": [
    "# Florida Difference In Difference Analysis Of Drug Overdose Deaths"
   ]
  },
  {
   "cell_type": "code",
   "execution_count": 23,
   "metadata": {},
   "outputs": [],
   "source": [
    "# importing the required libraries \n",
    "import pandas as pd\n",
    "import numpy as np\n",
    "import altair as alt\n",
    "import statsmodels.api as sm\n",
    "import statsmodels.formula.api as smf"
   ]
  },
  {
   "cell_type": "code",
   "execution_count": 24,
   "metadata": {},
   "outputs": [
    {
     "data": {
      "text/html": [
       "<div>\n",
       "<style scoped>\n",
       "    .dataframe tbody tr th:only-of-type {\n",
       "        vertical-align: middle;\n",
       "    }\n",
       "\n",
       "    .dataframe tbody tr th {\n",
       "        vertical-align: top;\n",
       "    }\n",
       "\n",
       "    .dataframe thead th {\n",
       "        text-align: right;\n",
       "    }\n",
       "</style>\n",
       "<table border=\"1\" class=\"dataframe\">\n",
       "  <thead>\n",
       "    <tr style=\"text-align: right;\">\n",
       "      <th></th>\n",
       "      <th>County</th>\n",
       "      <th>County Code</th>\n",
       "      <th>Year</th>\n",
       "      <th>Year Code</th>\n",
       "      <th>Drug/Alcohol Induced Cause</th>\n",
       "      <th>Drug/Alcohol Induced Cause Code</th>\n",
       "      <th>Deaths</th>\n",
       "      <th>State</th>\n",
       "      <th>StateFIPS</th>\n",
       "      <th>CountyName</th>\n",
       "      <th>StateName</th>\n",
       "      <th>CountyFIPS</th>\n",
       "      <th>StateAbbr</th>\n",
       "      <th>STATE_COUNTY</th>\n",
       "      <th>state_abbrev</th>\n",
       "      <th>FIP_unique</th>\n",
       "      <th>Population</th>\n",
       "      <th>county_test</th>\n",
       "    </tr>\n",
       "  </thead>\n",
       "  <tbody>\n",
       "    <tr>\n",
       "      <th>0</th>\n",
       "      <td>Autauga</td>\n",
       "      <td>1001.0</td>\n",
       "      <td>2007.0</td>\n",
       "      <td>2007.0</td>\n",
       "      <td>All other non-drug and non-alcohol causes</td>\n",
       "      <td>O9</td>\n",
       "      <td>399.0</td>\n",
       "      <td>AL</td>\n",
       "      <td>1</td>\n",
       "      <td>Autauga</td>\n",
       "      <td>Alabama</td>\n",
       "      <td>1001</td>\n",
       "      <td>AL</td>\n",
       "      <td>AL | AUTAUGA</td>\n",
       "      <td>AL</td>\n",
       "      <td>10011</td>\n",
       "      <td>52405.0</td>\n",
       "      <td>Autauga</td>\n",
       "    </tr>\n",
       "    <tr>\n",
       "      <th>1</th>\n",
       "      <td>Autauga</td>\n",
       "      <td>1001.0</td>\n",
       "      <td>2008.0</td>\n",
       "      <td>2008.0</td>\n",
       "      <td>All other non-drug and non-alcohol causes</td>\n",
       "      <td>O9</td>\n",
       "      <td>448.0</td>\n",
       "      <td>AL</td>\n",
       "      <td>1</td>\n",
       "      <td>Autauga</td>\n",
       "      <td>Alabama</td>\n",
       "      <td>1001</td>\n",
       "      <td>AL</td>\n",
       "      <td>AL | AUTAUGA</td>\n",
       "      <td>AL</td>\n",
       "      <td>10011</td>\n",
       "      <td>53277.0</td>\n",
       "      <td>Autauga</td>\n",
       "    </tr>\n",
       "    <tr>\n",
       "      <th>2</th>\n",
       "      <td>Autauga</td>\n",
       "      <td>1001.0</td>\n",
       "      <td>2009.0</td>\n",
       "      <td>2009.0</td>\n",
       "      <td>All other non-drug and non-alcohol causes</td>\n",
       "      <td>O9</td>\n",
       "      <td>408.0</td>\n",
       "      <td>AL</td>\n",
       "      <td>1</td>\n",
       "      <td>Autauga</td>\n",
       "      <td>Alabama</td>\n",
       "      <td>1001</td>\n",
       "      <td>AL</td>\n",
       "      <td>AL | AUTAUGA</td>\n",
       "      <td>AL</td>\n",
       "      <td>10011</td>\n",
       "      <td>54135.0</td>\n",
       "      <td>Autauga</td>\n",
       "    </tr>\n",
       "  </tbody>\n",
       "</table>\n",
       "</div>"
      ],
      "text/plain": [
       "    County  County Code    Year  Year Code  \\\n",
       "0  Autauga       1001.0  2007.0     2007.0   \n",
       "1  Autauga       1001.0  2008.0     2008.0   \n",
       "2  Autauga       1001.0  2009.0     2009.0   \n",
       "\n",
       "                  Drug/Alcohol Induced Cause Drug/Alcohol Induced Cause Code  \\\n",
       "0  All other non-drug and non-alcohol causes                              O9   \n",
       "1  All other non-drug and non-alcohol causes                              O9   \n",
       "2  All other non-drug and non-alcohol causes                              O9   \n",
       "\n",
       "   Deaths State  StateFIPS CountyName StateName  CountyFIPS StateAbbr  \\\n",
       "0   399.0    AL          1    Autauga   Alabama        1001        AL   \n",
       "1   448.0    AL          1    Autauga   Alabama        1001        AL   \n",
       "2   408.0    AL          1    Autauga   Alabama        1001        AL   \n",
       "\n",
       "   STATE_COUNTY state_abbrev  FIP_unique  Population county_test  \n",
       "0  AL | AUTAUGA           AL       10011     52405.0     Autauga  \n",
       "1  AL | AUTAUGA           AL       10011     53277.0     Autauga  \n",
       "2  AL | AUTAUGA           AL       10011     54135.0     Autauga  "
      ]
     },
     "execution_count": 24,
     "metadata": {},
     "output_type": "execute_result"
    }
   ],
   "source": [
    "# loading pre-cleaned data on deaths in Florida and its neighbouring states \n",
    "deaths = pd.read_csv(r\"C:\\Users\\annap\\OneDrive\\Desktop\\Opioid Project\\Deaths.csv\")\n",
    "deaths.head(3)"
   ]
  },
  {
   "cell_type": "code",
   "execution_count": 25,
   "metadata": {},
   "outputs": [
    {
     "data": {
      "text/plain": [
       "Index(['County', 'County Code', 'Year', 'Year Code',\n",
       "       'Drug/Alcohol Induced Cause', 'Drug/Alcohol Induced Cause Code',\n",
       "       'Deaths', 'State', 'StateFIPS', 'CountyName', 'StateName', 'CountyFIPS',\n",
       "       'StateAbbr', 'STATE_COUNTY', 'state_abbrev', 'FIP_unique', 'Population',\n",
       "       'county_test'],\n",
       "      dtype='object')"
      ]
     },
     "execution_count": 25,
     "metadata": {},
     "output_type": "execute_result"
    }
   ],
   "source": [
    "deaths.columns"
   ]
  },
  {
   "cell_type": "code",
   "execution_count": 26,
   "metadata": {},
   "outputs": [
    {
     "data": {
      "text/html": [
       "<div>\n",
       "<style scoped>\n",
       "    .dataframe tbody tr th:only-of-type {\n",
       "        vertical-align: middle;\n",
       "    }\n",
       "\n",
       "    .dataframe tbody tr th {\n",
       "        vertical-align: top;\n",
       "    }\n",
       "\n",
       "    .dataframe thead th {\n",
       "        text-align: right;\n",
       "    }\n",
       "</style>\n",
       "<table border=\"1\" class=\"dataframe\">\n",
       "  <thead>\n",
       "    <tr style=\"text-align: right;\">\n",
       "      <th></th>\n",
       "      <th>County</th>\n",
       "      <th>Year</th>\n",
       "      <th>Drug/Alcohol Induced Cause</th>\n",
       "      <th>Deaths</th>\n",
       "      <th>StateFIPS</th>\n",
       "      <th>StateName</th>\n",
       "      <th>CountyFIPS</th>\n",
       "      <th>state_abbrev</th>\n",
       "      <th>FIP_unique</th>\n",
       "      <th>Population</th>\n",
       "    </tr>\n",
       "  </thead>\n",
       "  <tbody>\n",
       "    <tr>\n",
       "      <th>0</th>\n",
       "      <td>Autauga</td>\n",
       "      <td>2007.0</td>\n",
       "      <td>All other non-drug and non-alcohol causes</td>\n",
       "      <td>399.0</td>\n",
       "      <td>1</td>\n",
       "      <td>Alabama</td>\n",
       "      <td>1001</td>\n",
       "      <td>AL</td>\n",
       "      <td>10011</td>\n",
       "      <td>52405.0</td>\n",
       "    </tr>\n",
       "    <tr>\n",
       "      <th>1</th>\n",
       "      <td>Autauga</td>\n",
       "      <td>2008.0</td>\n",
       "      <td>All other non-drug and non-alcohol causes</td>\n",
       "      <td>448.0</td>\n",
       "      <td>1</td>\n",
       "      <td>Alabama</td>\n",
       "      <td>1001</td>\n",
       "      <td>AL</td>\n",
       "      <td>10011</td>\n",
       "      <td>53277.0</td>\n",
       "    </tr>\n",
       "    <tr>\n",
       "      <th>2</th>\n",
       "      <td>Autauga</td>\n",
       "      <td>2009.0</td>\n",
       "      <td>All other non-drug and non-alcohol causes</td>\n",
       "      <td>408.0</td>\n",
       "      <td>1</td>\n",
       "      <td>Alabama</td>\n",
       "      <td>1001</td>\n",
       "      <td>AL</td>\n",
       "      <td>10011</td>\n",
       "      <td>54135.0</td>\n",
       "    </tr>\n",
       "  </tbody>\n",
       "</table>\n",
       "</div>"
      ],
      "text/plain": [
       "    County    Year                 Drug/Alcohol Induced Cause  Deaths  \\\n",
       "0  Autauga  2007.0  All other non-drug and non-alcohol causes   399.0   \n",
       "1  Autauga  2008.0  All other non-drug and non-alcohol causes   448.0   \n",
       "2  Autauga  2009.0  All other non-drug and non-alcohol causes   408.0   \n",
       "\n",
       "   StateFIPS StateName  CountyFIPS state_abbrev  FIP_unique  Population  \n",
       "0          1   Alabama        1001           AL       10011     52405.0  \n",
       "1          1   Alabama        1001           AL       10011     53277.0  \n",
       "2          1   Alabama        1001           AL       10011     54135.0  "
      ]
     },
     "execution_count": 26,
     "metadata": {},
     "output_type": "execute_result"
    }
   ],
   "source": [
    "# creating a copy of deaths dataset, to prevent SettingWithCopy warnings. The irrelevant columns are dropped.\n",
    "\n",
    "deaths_copy = deaths.copy()\n",
    "deaths_copy.drop([\"County Code\",\"Year Code\",\"Drug/Alcohol Induced Cause Code\",\"State\", \"CountyName\", \"StateAbbr\",\"STATE_COUNTY\",\"county_test\"],axis=1, inplace = True)\n",
    "deaths_copy.head(3)"
   ]
  },
  {
   "cell_type": "code",
   "execution_count": 27,
   "metadata": {},
   "outputs": [
    {
     "data": {
      "text/html": [
       "<div>\n",
       "<style scoped>\n",
       "    .dataframe tbody tr th:only-of-type {\n",
       "        vertical-align: middle;\n",
       "    }\n",
       "\n",
       "    .dataframe tbody tr th {\n",
       "        vertical-align: top;\n",
       "    }\n",
       "\n",
       "    .dataframe thead th {\n",
       "        text-align: right;\n",
       "    }\n",
       "</style>\n",
       "<table border=\"1\" class=\"dataframe\">\n",
       "  <thead>\n",
       "    <tr style=\"text-align: right;\">\n",
       "      <th></th>\n",
       "      <th>County</th>\n",
       "      <th>Year</th>\n",
       "      <th>Drug/Alcohol Induced Cause</th>\n",
       "      <th>Deaths</th>\n",
       "      <th>State FIPS</th>\n",
       "      <th>State</th>\n",
       "      <th>County FIPS</th>\n",
       "      <th>State Abbreviation</th>\n",
       "      <th>FIPS_Unique</th>\n",
       "      <th>Population</th>\n",
       "    </tr>\n",
       "  </thead>\n",
       "  <tbody>\n",
       "    <tr>\n",
       "      <th>0</th>\n",
       "      <td>Autauga</td>\n",
       "      <td>2007</td>\n",
       "      <td>All other non-drug and non-alcohol causes</td>\n",
       "      <td>399</td>\n",
       "      <td>1</td>\n",
       "      <td>Alabama</td>\n",
       "      <td>1001</td>\n",
       "      <td>AL</td>\n",
       "      <td>10011</td>\n",
       "      <td>52405</td>\n",
       "    </tr>\n",
       "    <tr>\n",
       "      <th>1</th>\n",
       "      <td>Autauga</td>\n",
       "      <td>2008</td>\n",
       "      <td>All other non-drug and non-alcohol causes</td>\n",
       "      <td>448</td>\n",
       "      <td>1</td>\n",
       "      <td>Alabama</td>\n",
       "      <td>1001</td>\n",
       "      <td>AL</td>\n",
       "      <td>10011</td>\n",
       "      <td>53277</td>\n",
       "    </tr>\n",
       "    <tr>\n",
       "      <th>2</th>\n",
       "      <td>Autauga</td>\n",
       "      <td>2009</td>\n",
       "      <td>All other non-drug and non-alcohol causes</td>\n",
       "      <td>408</td>\n",
       "      <td>1</td>\n",
       "      <td>Alabama</td>\n",
       "      <td>1001</td>\n",
       "      <td>AL</td>\n",
       "      <td>10011</td>\n",
       "      <td>54135</td>\n",
       "    </tr>\n",
       "  </tbody>\n",
       "</table>\n",
       "</div>"
      ],
      "text/plain": [
       "    County  Year                 Drug/Alcohol Induced Cause  Deaths  \\\n",
       "0  Autauga  2007  All other non-drug and non-alcohol causes     399   \n",
       "1  Autauga  2008  All other non-drug and non-alcohol causes     448   \n",
       "2  Autauga  2009  All other non-drug and non-alcohol causes     408   \n",
       "\n",
       "   State FIPS    State  County FIPS State Abbreviation  FIPS_Unique  \\\n",
       "0           1  Alabama         1001                 AL        10011   \n",
       "1           1  Alabama         1001                 AL        10011   \n",
       "2           1  Alabama         1001                 AL        10011   \n",
       "\n",
       "   Population  \n",
       "0       52405  \n",
       "1       53277  \n",
       "2       54135  "
      ]
     },
     "execution_count": 27,
     "metadata": {},
     "output_type": "execute_result"
    }
   ],
   "source": [
    "# converting some of the columns to more appropriate data type - integer data type\n",
    "deaths_copy[\"Year\"] = deaths_copy[\"Year\"].astype(\"int64\")\n",
    "deaths_copy[\"Deaths\"] = deaths_copy[\"Deaths\"].astype(\"int64\")\n",
    "deaths_copy[\"Population\"] = deaths_copy[\"Population\"].astype(\"int64\")\n",
    "\n",
    "\n",
    "# renaming some of the columns to appear more conventional\n",
    "deaths_copy.rename(columns={\"StateFIPS\": \"State FIPS\", \"CountyFIPS\": \"County FIPS\", \"StateName\":\"State\", \"state_abbrev\":\"State Abbreviation\", \"FIP_unique\":\"FIPS_Unique\"},inplace=True)\n",
    "\n",
    "deaths_copy.head(3)\n"
   ]
  },
  {
   "cell_type": "code",
   "execution_count": 28,
   "metadata": {},
   "outputs": [
    {
     "data": {
      "text/plain": [
       "array(['Alabama', 'Florida', 'Georgia', 'Mississippi', 'South Carolina',\n",
       "       'Tennessee'], dtype=object)"
      ]
     },
     "execution_count": 28,
     "metadata": {},
     "output_type": "execute_result"
    }
   ],
   "source": [
    "deaths_copy[\"State\"].unique()\n"
   ]
  },
  {
   "cell_type": "code",
   "execution_count": 29,
   "metadata": {},
   "outputs": [
    {
     "data": {
      "text/plain": [
       "array(['All other non-drug and non-alcohol causes',\n",
       "       'Drug poisonings (overdose) Unintentional (X40-X44)',\n",
       "       'All other alcohol-induced causes',\n",
       "       'Drug poisonings (overdose) Undetermined (Y10-Y14)',\n",
       "       'All other drug-induced causes',\n",
       "       'Drug poisonings (overdose) Suicide (X60-X64)',\n",
       "       'Alcohol poisonings (overdose) (X45, X65, Y15)'], dtype=object)"
      ]
     },
     "execution_count": 29,
     "metadata": {},
     "output_type": "execute_result"
    }
   ],
   "source": [
    "deaths_copy[\"Drug/Alcohol Induced Cause\"].unique()"
   ]
  },
  {
   "cell_type": "code",
   "execution_count": 30,
   "metadata": {},
   "outputs": [],
   "source": [
    "# creating the dataset for Florida which has all deaths that are drug related \n",
    "\n",
    "florida_deaths = deaths_copy[\n",
    "    (deaths_copy[\"State\"] == \"Florida\")\n",
    "    & (\n",
    "        (\n",
    "            deaths_copy[\"Drug/Alcohol Induced Cause\"]\n",
    "            == \"Drug poisonings (overdose) Unintentional (X40-X44)\"\n",
    "        )\n",
    "        | (\n",
    "            deaths_copy[\"Drug/Alcohol Induced Cause\"]\n",
    "            == \"Drug poisonings (overdose) Undetermined (Y10-Y14)\"\n",
    "        )\n",
    "        | (\n",
    "            deaths_copy[\"Drug/Alcohol Induced Cause\"]\n",
    "            == \"Drug poisonings (overdose) Suicide (X60-X64)\"\n",
    "        )\n",
    "    )\n",
    "]"
   ]
  },
  {
   "cell_type": "code",
   "execution_count": 9,
   "metadata": {},
   "outputs": [
    {
     "data": {
      "text/html": [
       "<div>\n",
       "<style scoped>\n",
       "    .dataframe tbody tr th:only-of-type {\n",
       "        vertical-align: middle;\n",
       "    }\n",
       "\n",
       "    .dataframe tbody tr th {\n",
       "        vertical-align: top;\n",
       "    }\n",
       "\n",
       "    .dataframe thead th {\n",
       "        text-align: right;\n",
       "    }\n",
       "</style>\n",
       "<table border=\"1\" class=\"dataframe\">\n",
       "  <thead>\n",
       "    <tr style=\"text-align: right;\">\n",
       "      <th></th>\n",
       "      <th>County</th>\n",
       "      <th>Year</th>\n",
       "      <th>Drug/Alcohol Induced Cause</th>\n",
       "      <th>Deaths</th>\n",
       "      <th>State FIPS</th>\n",
       "      <th>State</th>\n",
       "      <th>County FIPS</th>\n",
       "      <th>State Abbreviation</th>\n",
       "      <th>FIPS_Unique</th>\n",
       "      <th>Population</th>\n",
       "    </tr>\n",
       "  </thead>\n",
       "  <tbody>\n",
       "    <tr>\n",
       "      <th>618</th>\n",
       "      <td>Alachua</td>\n",
       "      <td>2007</td>\n",
       "      <td>Drug poisonings (overdose) Unintentional (X40-...</td>\n",
       "      <td>17</td>\n",
       "      <td>12</td>\n",
       "      <td>Florida</td>\n",
       "      <td>12001</td>\n",
       "      <td>FL</td>\n",
       "      <td>1200112</td>\n",
       "      <td>242685</td>\n",
       "    </tr>\n",
       "    <tr>\n",
       "      <th>623</th>\n",
       "      <td>Alachua</td>\n",
       "      <td>2009</td>\n",
       "      <td>Drug poisonings (overdose) Unintentional (X40-...</td>\n",
       "      <td>15</td>\n",
       "      <td>12</td>\n",
       "      <td>Florida</td>\n",
       "      <td>12001</td>\n",
       "      <td>FL</td>\n",
       "      <td>1200112</td>\n",
       "      <td>246657</td>\n",
       "    </tr>\n",
       "    <tr>\n",
       "      <th>626</th>\n",
       "      <td>Alachua</td>\n",
       "      <td>2010</td>\n",
       "      <td>Drug poisonings (overdose) Unintentional (X40-...</td>\n",
       "      <td>15</td>\n",
       "      <td>12</td>\n",
       "      <td>Florida</td>\n",
       "      <td>12001</td>\n",
       "      <td>FL</td>\n",
       "      <td>1200112</td>\n",
       "      <td>247614</td>\n",
       "    </tr>\n",
       "    <tr>\n",
       "      <th>629</th>\n",
       "      <td>Alachua</td>\n",
       "      <td>2011</td>\n",
       "      <td>Drug poisonings (overdose) Unintentional (X40-...</td>\n",
       "      <td>14</td>\n",
       "      <td>12</td>\n",
       "      <td>Florida</td>\n",
       "      <td>12001</td>\n",
       "      <td>FL</td>\n",
       "      <td>1200112</td>\n",
       "      <td>249834</td>\n",
       "    </tr>\n",
       "    <tr>\n",
       "      <th>632</th>\n",
       "      <td>Alachua</td>\n",
       "      <td>2012</td>\n",
       "      <td>Drug poisonings (overdose) Unintentional (X40-...</td>\n",
       "      <td>14</td>\n",
       "      <td>12</td>\n",
       "      <td>Florida</td>\n",
       "      <td>12001</td>\n",
       "      <td>FL</td>\n",
       "      <td>1200112</td>\n",
       "      <td>251520</td>\n",
       "    </tr>\n",
       "  </tbody>\n",
       "</table>\n",
       "</div>"
      ],
      "text/plain": [
       "      County  Year                         Drug/Alcohol Induced Cause  Deaths  \\\n",
       "618  Alachua  2007  Drug poisonings (overdose) Unintentional (X40-...      17   \n",
       "623  Alachua  2009  Drug poisonings (overdose) Unintentional (X40-...      15   \n",
       "626  Alachua  2010  Drug poisonings (overdose) Unintentional (X40-...      15   \n",
       "629  Alachua  2011  Drug poisonings (overdose) Unintentional (X40-...      14   \n",
       "632  Alachua  2012  Drug poisonings (overdose) Unintentional (X40-...      14   \n",
       "\n",
       "     State FIPS    State  County FIPS State Abbreviation  FIPS_Unique  \\\n",
       "618          12  Florida        12001                 FL      1200112   \n",
       "623          12  Florida        12001                 FL      1200112   \n",
       "626          12  Florida        12001                 FL      1200112   \n",
       "629          12  Florida        12001                 FL      1200112   \n",
       "632          12  Florida        12001                 FL      1200112   \n",
       "\n",
       "     Population  \n",
       "618      242685  \n",
       "623      246657  \n",
       "626      247614  \n",
       "629      249834  \n",
       "632      251520  "
      ]
     },
     "execution_count": 9,
     "metadata": {},
     "output_type": "execute_result"
    }
   ],
   "source": [
    "florida_deaths.head(5)"
   ]
  },
  {
   "cell_type": "code",
   "execution_count": 10,
   "metadata": {},
   "outputs": [],
   "source": [
    "florida_deaths_copy = florida_deaths.copy()"
   ]
  },
  {
   "cell_type": "code",
   "execution_count": 11,
   "metadata": {},
   "outputs": [
    {
     "data": {
      "text/html": [
       "<div>\n",
       "<style scoped>\n",
       "    .dataframe tbody tr th:only-of-type {\n",
       "        vertical-align: middle;\n",
       "    }\n",
       "\n",
       "    .dataframe tbody tr th {\n",
       "        vertical-align: top;\n",
       "    }\n",
       "\n",
       "    .dataframe thead th {\n",
       "        text-align: right;\n",
       "    }\n",
       "</style>\n",
       "<table border=\"1\" class=\"dataframe\">\n",
       "  <thead>\n",
       "    <tr style=\"text-align: right;\">\n",
       "      <th></th>\n",
       "      <th>County</th>\n",
       "      <th>Year</th>\n",
       "      <th>Drug/Alcohol Induced Cause</th>\n",
       "      <th>Deaths</th>\n",
       "      <th>State FIPS</th>\n",
       "      <th>State</th>\n",
       "      <th>County FIPS</th>\n",
       "      <th>State Abbreviation</th>\n",
       "      <th>FIPS_Unique</th>\n",
       "      <th>Population</th>\n",
       "      <th>Overdose_Per_100K</th>\n",
       "    </tr>\n",
       "  </thead>\n",
       "  <tbody>\n",
       "    <tr>\n",
       "      <th>618</th>\n",
       "      <td>Alachua</td>\n",
       "      <td>2007</td>\n",
       "      <td>Drug poisonings (overdose) Unintentional (X40-...</td>\n",
       "      <td>17</td>\n",
       "      <td>12</td>\n",
       "      <td>Florida</td>\n",
       "      <td>12001</td>\n",
       "      <td>FL</td>\n",
       "      <td>1200112</td>\n",
       "      <td>242685</td>\n",
       "      <td>7.004965</td>\n",
       "    </tr>\n",
       "    <tr>\n",
       "      <th>623</th>\n",
       "      <td>Alachua</td>\n",
       "      <td>2009</td>\n",
       "      <td>Drug poisonings (overdose) Unintentional (X40-...</td>\n",
       "      <td>15</td>\n",
       "      <td>12</td>\n",
       "      <td>Florida</td>\n",
       "      <td>12001</td>\n",
       "      <td>FL</td>\n",
       "      <td>1200112</td>\n",
       "      <td>246657</td>\n",
       "      <td>6.081319</td>\n",
       "    </tr>\n",
       "    <tr>\n",
       "      <th>626</th>\n",
       "      <td>Alachua</td>\n",
       "      <td>2010</td>\n",
       "      <td>Drug poisonings (overdose) Unintentional (X40-...</td>\n",
       "      <td>15</td>\n",
       "      <td>12</td>\n",
       "      <td>Florida</td>\n",
       "      <td>12001</td>\n",
       "      <td>FL</td>\n",
       "      <td>1200112</td>\n",
       "      <td>247614</td>\n",
       "      <td>6.057816</td>\n",
       "    </tr>\n",
       "  </tbody>\n",
       "</table>\n",
       "</div>"
      ],
      "text/plain": [
       "      County  Year                         Drug/Alcohol Induced Cause  Deaths  \\\n",
       "618  Alachua  2007  Drug poisonings (overdose) Unintentional (X40-...      17   \n",
       "623  Alachua  2009  Drug poisonings (overdose) Unintentional (X40-...      15   \n",
       "626  Alachua  2010  Drug poisonings (overdose) Unintentional (X40-...      15   \n",
       "\n",
       "     State FIPS    State  County FIPS State Abbreviation  FIPS_Unique  \\\n",
       "618          12  Florida        12001                 FL      1200112   \n",
       "623          12  Florida        12001                 FL      1200112   \n",
       "626          12  Florida        12001                 FL      1200112   \n",
       "\n",
       "     Population  Overdose_Per_100K  \n",
       "618      242685           7.004965  \n",
       "623      246657           6.081319  \n",
       "626      247614           6.057816  "
      ]
     },
     "execution_count": 11,
     "metadata": {},
     "output_type": "execute_result"
    }
   ],
   "source": [
    "# calculating the drug related death rates in Florida per 100000 people \n",
    "\n",
    "florida_deaths_copy[\"Overdose_Per_100K\"] = (florida_deaths_copy[\"Deaths\"] / florida_deaths_copy[\"Population\"]) * 100_000\n",
    "\n",
    "florida_deaths_copy.head(3)"
   ]
  },
  {
   "cell_type": "code",
   "execution_count": 12,
   "metadata": {},
   "outputs": [
    {
     "data": {
      "text/html": [
       "<div>\n",
       "<style scoped>\n",
       "    .dataframe tbody tr th:only-of-type {\n",
       "        vertical-align: middle;\n",
       "    }\n",
       "\n",
       "    .dataframe tbody tr th {\n",
       "        vertical-align: top;\n",
       "    }\n",
       "\n",
       "    .dataframe thead th {\n",
       "        text-align: right;\n",
       "    }\n",
       "</style>\n",
       "<table border=\"1\" class=\"dataframe\">\n",
       "  <thead>\n",
       "    <tr style=\"text-align: right;\">\n",
       "      <th></th>\n",
       "      <th>Year</th>\n",
       "      <th>County</th>\n",
       "      <th>Overdose_Per_100K</th>\n",
       "    </tr>\n",
       "  </thead>\n",
       "  <tbody>\n",
       "    <tr>\n",
       "      <th>0</th>\n",
       "      <td>2007</td>\n",
       "      <td>Alachua</td>\n",
       "      <td>7.004965</td>\n",
       "    </tr>\n",
       "    <tr>\n",
       "      <th>1</th>\n",
       "      <td>2007</td>\n",
       "      <td>Bay</td>\n",
       "      <td>18.143881</td>\n",
       "    </tr>\n",
       "    <tr>\n",
       "      <th>2</th>\n",
       "      <td>2007</td>\n",
       "      <td>Brevard</td>\n",
       "      <td>19.269286</td>\n",
       "    </tr>\n",
       "    <tr>\n",
       "      <th>3</th>\n",
       "      <td>2007</td>\n",
       "      <td>Broward</td>\n",
       "      <td>15.225255</td>\n",
       "    </tr>\n",
       "    <tr>\n",
       "      <th>4</th>\n",
       "      <td>2007</td>\n",
       "      <td>Citrus</td>\n",
       "      <td>12.058961</td>\n",
       "    </tr>\n",
       "  </tbody>\n",
       "</table>\n",
       "</div>"
      ],
      "text/plain": [
       "   Year   County  Overdose_Per_100K\n",
       "0  2007  Alachua           7.004965\n",
       "1  2007      Bay          18.143881\n",
       "2  2007  Brevard          19.269286\n",
       "3  2007  Broward          15.225255\n",
       "4  2007   Citrus          12.058961"
      ]
     },
     "execution_count": 12,
     "metadata": {},
     "output_type": "execute_result"
    }
   ],
   "source": [
    "# calculating and displaying year and county wise results for drug related deaths in Florida\n",
    "\n",
    "florida_result = florida_deaths_copy.groupby([\"Year\", \"County\"])[\"Overdose_Per_100K\"].sum().reset_index()\n",
    "florida_result.head(5)"
   ]
  },
  {
   "cell_type": "code",
   "execution_count": 14,
   "metadata": {},
   "outputs": [],
   "source": [
    "# creating a new dataset, that contains drug related deaths in other neighboring states of Florida - Alabama, Georgia, Mississippi, South Carolin and Tennessee\n",
    "\n",
    "other_states_deaths = deaths_copy[\n",
    "    (deaths_copy[\"State\"] != \"Florida\")\n",
    "    & (\n",
    "        (\n",
    "            deaths_copy[\"Drug/Alcohol Induced Cause\"]\n",
    "            == \"Drug poisonings (overdose) Unintentional (X40-X44)\"\n",
    "        )\n",
    "        | (\n",
    "            deaths_copy[\"Drug/Alcohol Induced Cause\"]\n",
    "            == \"Drug poisonings (overdose) Undetermined (Y10-Y14)\"\n",
    "        )\n",
    "        | (\n",
    "            deaths_copy[\"Drug/Alcohol Induced Cause\"]\n",
    "            == \"Drug poisonings (overdose) Suicide (X60-X64)\"\n",
    "        )\n",
    "    )\n",
    "]"
   ]
  },
  {
   "cell_type": "code",
   "execution_count": 15,
   "metadata": {},
   "outputs": [],
   "source": [
    "other_states_deaths_copy = other_states_deaths.copy()\n",
    "\n",
    "other_states_deaths_copy[\"Overdose_Per_100K\"] = (other_states_deaths_copy[\"Deaths\"] / other_states_deaths_copy[\"Population\"]) * 100_000"
   ]
  },
  {
   "cell_type": "code",
   "execution_count": 16,
   "metadata": {},
   "outputs": [
    {
     "data": {
      "text/html": [
       "<div>\n",
       "<style scoped>\n",
       "    .dataframe tbody tr th:only-of-type {\n",
       "        vertical-align: middle;\n",
       "    }\n",
       "\n",
       "    .dataframe tbody tr th {\n",
       "        vertical-align: top;\n",
       "    }\n",
       "\n",
       "    .dataframe thead th {\n",
       "        text-align: right;\n",
       "    }\n",
       "</style>\n",
       "<table border=\"1\" class=\"dataframe\">\n",
       "  <thead>\n",
       "    <tr style=\"text-align: right;\">\n",
       "      <th></th>\n",
       "      <th>Year</th>\n",
       "      <th>State</th>\n",
       "      <th>County</th>\n",
       "      <th>Overdose_Per_100K</th>\n",
       "    </tr>\n",
       "  </thead>\n",
       "  <tbody>\n",
       "    <tr>\n",
       "      <th>0</th>\n",
       "      <td>2007</td>\n",
       "      <td>Alabama</td>\n",
       "      <td>Baldwin</td>\n",
       "      <td>13.920791</td>\n",
       "    </tr>\n",
       "    <tr>\n",
       "      <th>1</th>\n",
       "      <td>2007</td>\n",
       "      <td>Alabama</td>\n",
       "      <td>Calhoun</td>\n",
       "      <td>9.465541</td>\n",
       "    </tr>\n",
       "    <tr>\n",
       "      <th>2</th>\n",
       "      <td>2007</td>\n",
       "      <td>Alabama</td>\n",
       "      <td>Houston</td>\n",
       "      <td>10.232587</td>\n",
       "    </tr>\n",
       "    <tr>\n",
       "      <th>3</th>\n",
       "      <td>2007</td>\n",
       "      <td>Alabama</td>\n",
       "      <td>Jefferson</td>\n",
       "      <td>10.226463</td>\n",
       "    </tr>\n",
       "    <tr>\n",
       "      <th>4</th>\n",
       "      <td>2007</td>\n",
       "      <td>Alabama</td>\n",
       "      <td>Lauderdale</td>\n",
       "      <td>17.561768</td>\n",
       "    </tr>\n",
       "  </tbody>\n",
       "</table>\n",
       "</div>"
      ],
      "text/plain": [
       "   Year    State      County  Overdose_Per_100K\n",
       "0  2007  Alabama     Baldwin          13.920791\n",
       "1  2007  Alabama     Calhoun           9.465541\n",
       "2  2007  Alabama     Houston          10.232587\n",
       "3  2007  Alabama   Jefferson          10.226463\n",
       "4  2007  Alabama  Lauderdale          17.561768"
      ]
     },
     "execution_count": 16,
     "metadata": {},
     "output_type": "execute_result"
    }
   ],
   "source": [
    "# calculating and displaying results for drug related deaths - year, state and county wise \n",
    "\n",
    "other_states_result = other_states_deaths_copy.groupby([\"Year\", \"State\", \"County\"])[\"Overdose_Per_100K\"].sum().reset_index()\n",
    "other_states_result.head()\n"
   ]
  },
  {
   "cell_type": "code",
   "execution_count": 17,
   "metadata": {},
   "outputs": [
    {
     "data": {
      "text/plain": [
       "Year\n",
       "2007    13.368704\n",
       "2008    16.361755\n",
       "2009    15.272194\n",
       "2010    14.556800\n",
       "2011    14.767924\n",
       "2012    14.834840\n",
       "2013    18.018408\n",
       "Name: Overdose_Per_100K, dtype: float64"
      ]
     },
     "execution_count": 17,
     "metadata": {},
     "output_type": "execute_result"
    }
   ],
   "source": [
    "# calculating yearwise drug related deaths results for Alabama \n",
    "alabama_results = other_states_deaths_copy[other_states_deaths_copy[\"State\"] == \"Alabama\"].groupby(\"Year\")[\"Overdose_Per_100K\"].mean()\n",
    "alabama_results"
   ]
  },
  {
   "cell_type": "code",
   "execution_count": 18,
   "metadata": {},
   "outputs": [
    {
     "data": {
      "text/plain": [
       "Year\n",
       "2007    11.960843\n",
       "2008    10.328943\n",
       "2009    11.745507\n",
       "2010    13.869420\n",
       "2011    12.381299\n",
       "2012    11.653082\n",
       "2013    11.902365\n",
       "Name: Overdose_Per_100K, dtype: float64"
      ]
     },
     "execution_count": 18,
     "metadata": {},
     "output_type": "execute_result"
    }
   ],
   "source": [
    "# calculating yearwise drug related deaths results for Georgia\n",
    "georgia_results = other_states_deaths_copy[other_states_deaths_copy[\"State\"] == \"Georgia\"].groupby(\"Year\")[\"Overdose_Per_100K\"].mean()\n",
    "georgia_results"
   ]
  },
  {
   "cell_type": "code",
   "execution_count": 19,
   "metadata": {},
   "outputs": [
    {
     "data": {
      "text/plain": [
       "Year\n",
       "2007    21.903231\n",
       "2008    17.037801\n",
       "2009    20.989875\n",
       "2010    18.498209\n",
       "2011    16.426466\n",
       "2012    15.167236\n",
       "2013    19.345719\n",
       "Name: Overdose_Per_100K, dtype: float64"
      ]
     },
     "execution_count": 19,
     "metadata": {},
     "output_type": "execute_result"
    }
   ],
   "source": [
    "# calculating yearwise drug related deaths results for Mississippi\n",
    "mississippi_results = other_states_deaths_copy[other_states_deaths_copy[\"State\"] == \"Mississippi\"].groupby(\"Year\")[\"Overdose_Per_100K\"].mean()\n",
    "mississippi_results"
   ]
  },
  {
   "cell_type": "code",
   "execution_count": 20,
   "metadata": {},
   "outputs": [
    {
     "data": {
      "text/plain": [
       "Year\n",
       "2007    12.447756\n",
       "2008    12.431124\n",
       "2009    13.862295\n",
       "2010    14.429518\n",
       "2011    12.253051\n",
       "2012    12.683164\n",
       "2013    13.080714\n",
       "Name: Overdose_Per_100K, dtype: float64"
      ]
     },
     "execution_count": 20,
     "metadata": {},
     "output_type": "execute_result"
    }
   ],
   "source": [
    "# calculating yearwise drug related deaths results for South Carolina\n",
    "south_carolina_results = other_states_deaths_copy[other_states_deaths_copy[\"State\"] == \"South Carolina\"].groupby(\"Year\")[\"Overdose_Per_100K\"].mean()\n",
    "south_carolina_results"
   ]
  },
  {
   "cell_type": "code",
   "execution_count": 21,
   "metadata": {},
   "outputs": [
    {
     "data": {
      "text/plain": [
       "Year\n",
       "2007    16.285685\n",
       "2008    14.739367\n",
       "2009    14.611214\n",
       "2010    17.048880\n",
       "2011    18.678175\n",
       "2012    16.506248\n",
       "2013    20.844220\n",
       "Name: Overdose_Per_100K, dtype: float64"
      ]
     },
     "execution_count": 21,
     "metadata": {},
     "output_type": "execute_result"
    }
   ],
   "source": [
    "# calculating yearwise drug related deaths results for Tennessee\n",
    "tennessee_results = other_states_deaths_copy[other_states_deaths_copy[\"State\"] == \"Tennessee\"].groupby(\"Year\")[\"Overdose_Per_100K\"].mean()\n",
    "tennessee_results"
   ]
  },
  {
   "cell_type": "code",
   "execution_count": 22,
   "metadata": {},
   "outputs": [
    {
     "data": {
      "text/plain": [
       "Year\n",
       "2007    10.589778\n",
       "2008    11.389320\n",
       "2009    10.090938\n",
       "2010    11.976183\n",
       "2011    11.423950\n",
       "2012    10.435346\n",
       "2013     9.046919\n",
       "Name: Overdose_Per_100K, dtype: float64"
      ]
     },
     "execution_count": 22,
     "metadata": {},
     "output_type": "execute_result"
    }
   ],
   "source": [
    "# calculating and displaying yearwise results for drug related deaths in Florida \n",
    "\n",
    "florida_yearwise_results = florida_deaths_copy.groupby(\"Year\")[\"Overdose_Per_100K\"].mean()\n",
    "florida_yearwise_results"
   ]
  }
 ],
 "metadata": {
  "kernelspec": {
   "display_name": "Python 3.10.6 ('base')",
   "language": "python",
   "name": "python3"
  },
  "language_info": {
   "codemirror_mode": {
    "name": "ipython",
    "version": 3
   },
   "file_extension": ".py",
   "mimetype": "text/x-python",
   "name": "python",
   "nbconvert_exporter": "python",
   "pygments_lexer": "ipython3",
   "version": "3.10.6"
  },
  "orig_nbformat": 4,
  "vscode": {
   "interpreter": {
    "hash": "5e5707f4ad9c4f37a6b2df8d93f22391df514f9ef0254645a2ae8a9db16a7e3b"
   }
  }
 },
 "nbformat": 4,
 "nbformat_minor": 2
}
