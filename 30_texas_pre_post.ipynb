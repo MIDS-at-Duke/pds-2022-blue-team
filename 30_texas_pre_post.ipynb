{
 "cells": [
  {
   "cell_type": "code",
   "execution_count": 1,
   "metadata": {},
   "outputs": [],
   "source": [
    "import pandas as pd\n",
    "import numpy as np\n",
    "import matplotlib.pyplot as plt\n",
    "import seaborn as sns\n",
    "import altair as alt\n",
    "from plotnine import *\n",
    "import statsmodels.api as sm\n",
    "import statsmodels.formula.api as smf"
   ]
  },
  {
   "cell_type": "code",
   "execution_count": 2,
   "metadata": {},
   "outputs": [],
   "source": [
    "# load in pre-cleaned deaths data for Texas and comparison states\n",
    "deaths = pd.read_csv(\"05_cleaned_data/deaths_tx.csv\")\n"
   ]
  },
  {
   "cell_type": "code",
   "execution_count": 3,
   "metadata": {},
   "outputs": [],
   "source": [
    "# two separate dfs - one for texas and one for comp states\n",
    "\n",
    "texas = deaths[deaths[\"StateName\"] == \"Texas\"]\n",
    "comp = deaths[deaths[\"StateName\"] != \"Texas\"]"
   ]
  },
  {
   "cell_type": "markdown",
   "metadata": {},
   "source": [
    "### Helper functions "
   ]
  },
  {
   "cell_type": "code",
   "execution_count": 4,
   "metadata": {},
   "outputs": [],
   "source": [
    "# function to select only overdose records\n",
    "# double check this\n",
    "\n",
    "def select_overdose(record):\n",
    "    \"\"\"Simple function to select only overdose records\"\"\"\n",
    "\n",
    "    if record == \"All other non-drug and non-alcohol causes\":\n",
    "        return 0\n",
    "\n",
    "    if record == \"All other alcohol-induced causes\":\n",
    "        return 0\n",
    "\n",
    "    if record == \"All other drug-induced causes\":\n",
    "        return 0\n",
    "\n",
    "    if record == \"Alcohol poisonings (overdose) (X45, X65, Y15)\":\n",
    "        return 0\n",
    "\n",
    "    if record == \"Drug poisonings (overdose) Unintentional (X40-X44)\":\n",
    "        return 1\n",
    "\n",
    "    if record == \"Drug poisonings (overdose) Suicide (X60-X64)\":\n",
    "        return 1\n",
    "\n",
    "    if record == \"Drug poisonings (overdose) Undetermined (Y10-Y14)\":\n",
    "        return 1\n",
    "\n",
    "    else:\n",
    "        return \"error\"\n",
    "    \n",
    "\n",
    "# copy to fix the dreaded \"A value is trying to be set on a copy of a slice\" error\n",
    "tx_deaths = texas.copy()\n",
    "comp_deaths = comp.copy()\n",
    "\n",
    "# apply new function to our df\n",
    "tx_deaths[\"overdose\"] = tx_deaths[\"Drug/Alcohol Induced Cause\"].apply(lambda x: select_overdose(x))\n",
    "comp_deaths[\"overdose\"] = comp_deaths[\"Drug/Alcohol Induced Cause\"].apply(lambda x: select_overdose(x))\n",
    "\n",
    "# filter accordingly based on new column\n",
    "tx_deaths = tx_deaths[tx_deaths[\"overdose\"] != 0]\n",
    "comp_deaths = comp_deaths[comp_deaths[\"overdose\"] != 0]"
   ]
  },
  {
   "cell_type": "code",
   "execution_count": 5,
   "metadata": {},
   "outputs": [],
   "source": [
    "# calculate overdoses per 100_000 residents\n",
    "\n",
    "tx_deaths[\"overdose_per_100k\"] = tx_deaths[\"Deaths\"] / tx_deaths[\"Population\"] * 100_000\n",
    "comp_deaths[\"overdose_per_100k\"] = comp_deaths[\"Deaths\"] / comp_deaths[\"Population\"] * 100_000"
   ]
  },
  {
   "cell_type": "code",
   "execution_count": 6,
   "metadata": {},
   "outputs": [],
   "source": [
    "tx_result = tx_deaths.groupby([\"Year\", \"County\"])[\"overdose_per_100k\"].sum().reset_index()\n",
    "comp_result = comp_deaths.groupby([\"Year\", \"StateName\", \"CountyName\"])[\"overdose_per_100k\"].sum().reset_index()\n",
    "\n",
    "# keep validating num counties\n",
    "\n",
    "\n",
    "# recent change - added county to both results above, removed state from comp_result"
   ]
  },
  {
   "cell_type": "code",
   "execution_count": 7,
   "metadata": {},
   "outputs": [
    {
     "data": {
      "text/plain": [
       "Year\n",
       "2004.0     9.546982\n",
       "2005.0     9.061194\n",
       "2006.0     8.093736\n",
       "2007.0    12.526991\n",
       "2008.0    11.997588\n",
       "2009.0    13.608821\n",
       "2010.0    12.148777\n",
       "Name: overdose_per_100k, dtype: float64"
      ]
     },
     "execution_count": 7,
     "metadata": {},
     "output_type": "execute_result"
    }
   ],
   "source": [
    "comp_result[comp_result[\"StateName\"] == \"Arkansas\"].groupby(\"Year\")[\"overdose_per_100k\"].mean()"
   ]
  },
  {
   "cell_type": "code",
   "execution_count": null,
   "metadata": {},
   "outputs": [],
   "source": [
    "comp_result[comp_result[\"StateName\"] == \"Kansas\"].groupby(\"Year\")[\"overdose_per_100k\"].mean()"
   ]
  },
  {
   "cell_type": "code",
   "execution_count": null,
   "metadata": {},
   "outputs": [],
   "source": [
    "comp_result[comp_result[\"StateName\"] == \"Louisiana\"].groupby(\"Year\")[\"overdose_per_100k\"].mean()"
   ]
  },
  {
   "cell_type": "code",
   "execution_count": null,
   "metadata": {},
   "outputs": [],
   "source": [
    "comp_result[comp_result[\"StateName\"] == \"New Mexico\"].groupby(\"Year\")[\"overdose_per_100k\"].mean()"
   ]
  },
  {
   "cell_type": "code",
   "execution_count": null,
   "metadata": {},
   "outputs": [],
   "source": [
    "comp_result[comp_result[\"StateName\"] == \"Oklahoma\"].groupby(\"Year\")[\"overdose_per_100k\"].mean()"
   ]
  },
  {
   "cell_type": "code",
   "execution_count": null,
   "metadata": {},
   "outputs": [],
   "source": [
    "tx_result.groupby(\"Year\")[\"overdose_per_100k\"].mean()"
   ]
  },
  {
   "cell_type": "code",
   "execution_count": null,
   "metadata": {},
   "outputs": [],
   "source": [
    "comp_result.groupby(\"Year\")[\"overdose_per_100k\"].mean()"
   ]
  },
  {
   "cell_type": "code",
   "execution_count": null,
   "metadata": {},
   "outputs": [],
   "source": [
    "# idea for counties -> histogram of population, drop the outliers?\n",
    "\n",
    "# plt.hist(tx_deaths[\"Population\"], bins=20)"
   ]
  },
  {
   "cell_type": "code",
   "execution_count": null,
   "metadata": {},
   "outputs": [],
   "source": []
  },
  {
   "cell_type": "code",
   "execution_count": null,
   "metadata": {},
   "outputs": [],
   "source": [
    "tx_result = tx_result.groupby(\"Year\")[\"overdose_per_100k\"].mean().reset_index()\n",
    "comp_result = comp_result.groupby([\"Year\"])[\"overdose_per_100k\"].mean().reset_index()"
   ]
  },
  {
   "cell_type": "code",
   "execution_count": null,
   "metadata": {},
   "outputs": [],
   "source": [
    "# idea for counties -> histogram of population, drop the outliers?"
   ]
  },
  {
   "cell_type": "code",
   "execution_count": null,
   "metadata": {},
   "outputs": [],
   "source": [
    "comp_result"
   ]
  },
  {
   "cell_type": "code",
   "execution_count": null,
   "metadata": {},
   "outputs": [],
   "source": [
    "#tx_result = tx_deaths.groupby([\"Year\", \"County\"])[\"overdose_per_100k\"].sum().reset_index()\n",
    "#comp_result = comp_deaths.groupby([\"Year\", \"County\"])[\"overdose_per_100k\"].sum().reset_index()\n",
    "#\n",
    "#tx_result = tx_result.groupby(\"Year\")[\"overdose_per_100k\"].mean().reset_index()\n",
    "#comp_result = comp_result.groupby([\"Year\"])[\"overdose_per_100k\"].mean().reset_index()"
   ]
  },
  {
   "cell_type": "code",
   "execution_count": null,
   "metadata": {},
   "outputs": [],
   "source": [
    "# collapse state column with a mean aggregation\n",
    "# gives us the average overdoses of our comparison states over the years\n",
    "#comp_result = comp_result.groupby([\"Year\"])[\"overdose_per_100k\"].mean().reset_index()"
   ]
  },
  {
   "cell_type": "code",
   "execution_count": null,
   "metadata": {},
   "outputs": [],
   "source": [
    "# create a scale for number of years before and after 2007 (target year)\n",
    "\n",
    "def scale_years(year):\n",
    "    if year == 2004:\n",
    "        return -3\n",
    "    if year == 2005:\n",
    "        return -2\n",
    "    if year == 2006:\n",
    "        return -1\n",
    "    if year == 2007:\n",
    "        return 0\n",
    "    if year == 2008:\n",
    "        return 1\n",
    "    if year == 2009:\n",
    "        return 2\n",
    "    if year == 2010:\n",
    "        return 3\n",
    "\n",
    "tx_result[\"year relative to policy\"] = tx_result[\"Year\"].apply(lambda x: scale_years(x))\n",
    "comp_result[\"year relative to policy\"] = comp_result[\"Year\"].apply(lambda x: scale_years(x))\n",
    "\n",
    "# double check no nulls in \"year relative to policy\"\n",
    "\n",
    "assert (tx_result[\"year relative to policy\"].isnull().sum() == 0)\n",
    "assert (comp_result[\"year relative to policy\"].isnull().sum() == 0)\n",
    "\n",
    "# doing this in case the float == int comparison causes issues"
   ]
  },
  {
   "cell_type": "code",
   "execution_count": null,
   "metadata": {},
   "outputs": [],
   "source": []
  },
  {
   "cell_type": "markdown",
   "metadata": {},
   "source": [
    "## Pre-post plot - overdoses per 100k through the years"
   ]
  },
  {
   "cell_type": "code",
   "execution_count": null,
   "metadata": {},
   "outputs": [],
   "source": [
    "# split into before 2007 and after 2007\n",
    "\n",
    "tx_b4 = tx_result[tx_result[\"Year\"] < 2007]\n",
    "tx_after = tx_result[tx_result[\"Year\"] >= 2007]\n",
    "\n",
    "\n",
    "tx_after = tx_after[tx_after[\"Year\"] != 2007] # may need to handle this differently"
   ]
  },
  {
   "cell_type": "code",
   "execution_count": null,
   "metadata": {},
   "outputs": [],
   "source": []
  },
  {
   "cell_type": "code",
   "execution_count": null,
   "metadata": {},
   "outputs": [],
   "source": [
    "from sklearn.linear_model import LinearRegression \n",
    "\n",
    "regressor_b4 = LinearRegression() \n",
    "regressor_after = LinearRegression()\n",
    "\n",
    "\n",
    "X_b4 = np.array(tx_b4[\"year relative to policy\"]).reshape(-1, 1)\n",
    "y_b4 = np.array(tx_b4[\"overdose_per_100k\"]).reshape(-1, 1)\n",
    "\n",
    "X_after = np.array(tx_after[\"year relative to policy\"]).reshape(-1, 1)\n",
    "y_after = np.array(tx_after[\"overdose_per_100k\"]).reshape(-1, 1)\n",
    "\n",
    "\n",
    "regressor_b4.fit(X_b4,y_b4) \n",
    "regressor_after.fit(X_after,y_after) \n",
    "\n",
    "\n",
    "y_pred_b4 = regressor_b4.predict(X_b4)\n",
    "y_pred_after = regressor_after.predict(X_b4)\n",
    "\n"
   ]
  },
  {
   "cell_type": "code",
   "execution_count": null,
   "metadata": {},
   "outputs": [],
   "source": [
    "y_pred_b4"
   ]
  },
  {
   "cell_type": "code",
   "execution_count": null,
   "metadata": {},
   "outputs": [],
   "source": [
    "y_pred_after"
   ]
  },
  {
   "cell_type": "code",
   "execution_count": null,
   "metadata": {},
   "outputs": [],
   "source": [
    "plt.xlim(-3, 3)\n",
    "#plt.ylim(0, 500)\n",
    "\n",
    "plt.title(\"Overdose Deaths in Texas\")\n",
    "\n",
    "plt.plot(X_b4, y_pred_b4,color='k')\n",
    "plt.plot(X_after, y_pred_after,color='k')\n",
    "\n",
    "# plot avg value in each year\n"
   ]
  },
  {
   "cell_type": "code",
   "execution_count": null,
   "metadata": {},
   "outputs": [],
   "source": [
    "# diff in diff"
   ]
  },
  {
   "cell_type": "code",
   "execution_count": null,
   "metadata": {},
   "outputs": [],
   "source": [
    "comp_b4 = comp_result[comp_result[\"Year\"] < 2007]\n",
    "comp_after = comp_result[comp_result[\"Year\"] >= 2007]\n",
    "\n",
    "comp_after = comp_after[comp_after[\"Year\"] != 2007] # may need to handle this differently\n"
   ]
  },
  {
   "cell_type": "code",
   "execution_count": null,
   "metadata": {},
   "outputs": [],
   "source": [
    "regressor_b4 = LinearRegression() \n",
    "regressor_after = LinearRegression()\n",
    "\n",
    "\n",
    "X_b4 = np.array(comp_b4[\"year relative to policy\"]).reshape(-1, 1)\n",
    "y_b4 = np.array(comp_b4[\"overdose_per_100k\"]).reshape(-1, 1)\n",
    "\n",
    "X_after = np.array(comp_after[\"year relative to policy\"]).reshape(-1, 1)\n",
    "y_after = np.array(comp_after[\"overdose_per_100k\"]).reshape(-1, 1)\n",
    "\n",
    "\n",
    "regressor_b4.fit(X_b4,y_b4) \n",
    "regressor_after.fit(X_after,y_after) \n",
    "\n",
    "\n",
    "y_pred_b4 = regressor_b4.predict(X_b4)\n",
    "y_pred_after = regressor_after.predict(X_b4)\n",
    "\n"
   ]
  },
  {
   "cell_type": "code",
   "execution_count": null,
   "metadata": {},
   "outputs": [],
   "source": [
    "y_pred_b4"
   ]
  },
  {
   "cell_type": "code",
   "execution_count": null,
   "metadata": {},
   "outputs": [],
   "source": [
    "y_pred_after"
   ]
  },
  {
   "cell_type": "code",
   "execution_count": null,
   "metadata": {},
   "outputs": [],
   "source": [
    "plt.xlim(-3, 3)\n",
    "#plt.ylim(0, 500)\n",
    "\n",
    "plt.plot(X_b4, y_pred_b4,color='k')\n",
    "plt.plot(X_after, y_pred_after,color='k')\n"
   ]
  },
  {
   "cell_type": "code",
   "execution_count": null,
   "metadata": {},
   "outputs": [],
   "source": [
    "# new method after working more with reshaping exercises\n",
    "# using statsmodels now, wrapping stuff in functions\n",
    "# thinking it could be easier to break it down by task"
   ]
  },
  {
   "cell_type": "markdown",
   "metadata": {},
   "source": [
    "## Helper functions\n",
    "\n",
    "1) vertical_line()\n",
    "    - takes in a year and plots a vertical line at that year\n",
    "2) get_charts()\n",
    "    - takes in two dataframes (one for before policy, one for after)\n",
    "    - returns chart for each\n",
    "    - not much utility by itself - used as a parameter for our get_fit() function"
   ]
  },
  {
   "cell_type": "code",
   "execution_count": null,
   "metadata": {},
   "outputs": [],
   "source": [
    "def vertical_line(year):\n",
    "    \"\"\"Function to plot a vertical line at year of policy implementation\"\"\"\n",
    "    line = alt.Chart(pd.DataFrame({\n",
    "    'Date': [year],\n",
    "    'color': [\"black\"]\n",
    "    })).mark_rule().encode(\n",
    "    x='Date:Q', # use q for \"quantitative\" - as per altair docs\n",
    "    color=alt.Color('color:N', scale=None)\n",
    "    )\n",
    "\n",
    "    return line"
   ]
  },
  {
   "cell_type": "code",
   "execution_count": null,
   "metadata": {},
   "outputs": [],
   "source": [
    "# test function\n",
    "vertical_line(2004)"
   ]
  },
  {
   "cell_type": "code",
   "execution_count": null,
   "metadata": {},
   "outputs": [],
   "source": [
    "def get_charts(b4, after, title_b4, title_after):\n",
    "    \"\"\"\n",
    "    Function to plot the pre and post charts.\n",
    "    Will not use in final plot - used as a baseline for our fit charts later.\n",
    "\n",
    "    \"\"\"\n",
    "\n",
    "    base_before = (\n",
    "        alt.Chart(b4)\n",
    "        .mark_point()\n",
    "        .encode(\n",
    "            y=alt.Y(\"overdose_per_100k\", scale=alt.Scale(zero=False)),\n",
    "            x=alt.X(\"year relative to policy\", scale=alt.Scale(zero=False)),\n",
    "        )\n",
    "        .properties(title=title_b4)\n",
    "    )\n",
    "\n",
    "    base_after = (\n",
    "        alt.Chart(after)\n",
    "        .mark_point()\n",
    "        .encode(\n",
    "            y=alt.Y(\"overdose_per_100k\", scale=alt.Scale(zero=False)),\n",
    "            x=alt.X(\"year relative to policy\", scale=alt.Scale(zero=False)),\n",
    "        )\n",
    "        .properties(title=title_after)\n",
    "    )\n",
    "\n",
    "    return base_before, base_after"
   ]
  },
  {
   "cell_type": "code",
   "execution_count": null,
   "metadata": {},
   "outputs": [],
   "source": [
    "# test the function\n",
    "# may remove title parameters later - not really necessary as we aren't plotting this part in our final analysis\n",
    "# however, if we can't add a title to our fit/regression line charts, we may need to add them here\n",
    "base_before, base_after = get_charts(b4 = tx_b4, after = tx_after, title_b4 = \"deaths before policy\", title_after=\"deaths after policy\")\n",
    "base_before + base_after"
   ]
  },
  {
   "cell_type": "code",
   "execution_count": null,
   "metadata": {},
   "outputs": [],
   "source": [
    "def get_fits(chart_b4, chart_after):\n",
    "    \"\"\"\n",
    "    Function to plot the regression lines for the pre and post charts.\n",
    "    \"\"\"\n",
    "\n",
    "    fit_tx_b4 = (\n",
    "    chart_b4.transform_regression(\"year relative to policy\", \"overdose_per_100k\")\n",
    "    .mark_line()\n",
    "    .encode(color=alt.value(\"red\"))\n",
    "    )\n",
    "\n",
    "\n",
    "    fit_tx_after = (\n",
    "    chart_after.transform_regression(\"year relative to policy\", \"overdose_per_100k\")\n",
    "    .mark_line()\n",
    "    .encode(color=alt.value(\"red\"))\n",
    "    )\n",
    "\n",
    "    return fit_tx_b4, fit_tx_after"
   ]
  },
  {
   "cell_type": "code",
   "execution_count": null,
   "metadata": {},
   "outputs": [],
   "source": [
    "# test function\n",
    "fit_b4, fit_after = get_fits(chart_b4 = base_before, chart_after = base_after)\n",
    "fit_b4 + fit_after"
   ]
  },
  {
   "cell_type": "code",
   "execution_count": null,
   "metadata": {},
   "outputs": [],
   "source": [
    "band_b4 = alt.Chart(tx_b4).mark_errorband(extent='ci').encode(\n",
    "    x=alt.X('Year'),\n",
    "    y=alt.Y('overdose_per_100k'))\n",
    "\n",
    "\n",
    "band_after = alt.Chart(tx_after).mark_errorband(extent='ci').encode(\n",
    "    x=alt.X('Year'),\n",
    "    y=alt.Y('overdose_per_100k'))"
   ]
  },
  {
   "cell_type": "code",
   "execution_count": null,
   "metadata": {},
   "outputs": [],
   "source": [
    "fit_b4 + fit_after + error_bars"
   ]
  },
  {
   "cell_type": "code",
   "execution_count": null,
   "metadata": {},
   "outputs": [],
   "source": [
    "error_bars = base_before.mark_rule().encode(\n",
    "    x='ci0(overdose_per_100k):Q',\n",
    "    x2='ci1(overdose_per_100k):Q',\n",
    ")\n"
   ]
  },
  {
   "cell_type": "code",
   "execution_count": null,
   "metadata": {},
   "outputs": [],
   "source": [
    "error_bars"
   ]
  },
  {
   "cell_type": "code",
   "execution_count": null,
   "metadata": {},
   "outputs": [],
   "source": [
    "band = alt.Chart(base_before).mark_area(\n",
    "    opacity=0.5\n",
    ").encode(\n",
    "    x='overdose_per_100k:Q',\n",
    "    y='lower:N',\n",
    "    y2='upper:N'\n",
    ")"
   ]
  },
  {
   "cell_type": "code",
   "execution_count": null,
   "metadata": {},
   "outputs": [],
   "source": [
    "band"
   ]
  },
  {
   "cell_type": "code",
   "execution_count": null,
   "metadata": {},
   "outputs": [],
   "source": []
  },
  {
   "cell_type": "code",
   "execution_count": null,
   "metadata": {},
   "outputs": [],
   "source": [
    "mean_points = alt.Chart(tx_b4).mark_circle(color='black').encode(\n",
    "    alt.X(\"overdoses_per_100k:Q\", bin=True),\n",
    "    y='year relative to policy:Q',\n",
    ")\n",
    "\n",
    "error_bars = alt.Chart(tx_after).mark_errorbar(extent='ci').encode(\n",
    "    alt.X(\"overdoses_per_100k:Q\", bin=True),\n",
    "    y='year relative to policy:Q',\n",
    ")"
   ]
  },
  {
   "cell_type": "code",
   "execution_count": null,
   "metadata": {},
   "outputs": [],
   "source": [
    "mean_points + error_bars"
   ]
  },
  {
   "cell_type": "code",
   "execution_count": null,
   "metadata": {},
   "outputs": [],
   "source": [
    "fit_b4 + fit_after + error_bars"
   ]
  },
  {
   "cell_type": "code",
   "execution_count": null,
   "metadata": {},
   "outputs": [],
   "source": [
    "# attempt 1 - adding error bars to line graph\n",
    "# https://www.pythoncharts.com/python/line-chart-with-confidence-interval/#altair\n",
    "line = alt.Chart(tx_deaths).mark_line().encode(\n",
    "    x='Year',\n",
    "    y='mean(overdose_per_100k)'\n",
    ")\n",
    "\n",
    "band = alt.Chart(tx_deaths).mark_errorband(extent='ci').encode(\n",
    "    x=alt.X('Year', title='Year'),\n",
    "    y=alt.Y('overdose_per_100k', title='Overdose Deaths per 100k')\n",
    ")\n",
    "\n",
    "chart = alt.layer(\n",
    "    band,\n",
    "    line\n",
    ").properties(\n",
    "    width=600,\n",
    "    height=400,\n",
    "    title='Pre-post Model for Texas'\n",
    ")\n",
    "\n",
    "chart"
   ]
  },
  {
   "cell_type": "code",
   "execution_count": null,
   "metadata": {},
   "outputs": [],
   "source": [
    "# attempt 2\n",
    "# https://cmdlinetips.com/2019/12/barplots-scatter-plots-boxplots-with-altair-4-0/\n",
    "line = alt.Chart(tx_deaths).mark_line().encode(\n",
    "    x=alt.X('Year'),\n",
    "    y=alt.Y('overdose_per_100k')\n",
    ")\n",
    "\n",
    "line_regress = line.transform_regression('Year', 'overdose_per_100k',method=\"linear\"\n",
    ").mark_line()"
   ]
  },
  {
   "cell_type": "code",
   "execution_count": null,
   "metadata": {},
   "outputs": [],
   "source": [
    "band = alt.Chart(tx_deaths).mark_errorband(extent='ci').encode(\n",
    "    x=alt.X('Year', title='Year'),\n",
    "    y=alt.Y('overdose_per_100k', title='Overdose Deaths per 100k')\n",
    ")"
   ]
  },
  {
   "cell_type": "code",
   "execution_count": null,
   "metadata": {},
   "outputs": [],
   "source": [
    "line_regress + band"
   ]
  },
  {
   "cell_type": "code",
   "execution_count": null,
   "metadata": {},
   "outputs": [],
   "source": []
  }
 ],
 "metadata": {
  "kernelspec": {
   "display_name": "Python 3.10.6 ('base')",
   "language": "python",
   "name": "python3"
  },
  "language_info": {
   "codemirror_mode": {
    "name": "ipython",
    "version": 3
   },
   "file_extension": ".py",
   "mimetype": "text/x-python",
   "name": "python",
   "nbconvert_exporter": "python",
   "pygments_lexer": "ipython3",
   "version": "3.10.6"
  },
  "orig_nbformat": 4,
  "vscode": {
   "interpreter": {
    "hash": "3d597f4c481aa0f25dceb95d2a0067e73c0966dcbd003d741d821a7208527ecf"
   }
  }
 },
 "nbformat": 4,
 "nbformat_minor": 2
}
