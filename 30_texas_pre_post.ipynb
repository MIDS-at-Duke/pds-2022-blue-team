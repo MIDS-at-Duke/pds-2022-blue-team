{
 "cells": [
  {
   "cell_type": "code",
   "execution_count": 190,
   "metadata": {},
   "outputs": [],
   "source": [
    "import pandas as pd\n",
    "import numpy as np\n",
    "import matplotlib.pyplot as plt\n",
    "import seaborn as sns\n",
    "import altair as alt\n",
    "from plotnine import *\n",
    "import statsmodels.api as sm\n",
    "import statsmodels.formula.api as smf"
   ]
  },
  {
   "cell_type": "code",
   "execution_count": 191,
   "metadata": {},
   "outputs": [],
   "source": [
    "# load in pre-cleaned deaths data for Texas and comparison states\n",
    "deaths = pd.read_csv(\"05_cleaned_data/deaths_tx.csv\")\n"
   ]
  },
  {
   "cell_type": "code",
   "execution_count": 192,
   "metadata": {},
   "outputs": [],
   "source": [
    "# two separate dfs - one for texas and one for comp states\n",
    "\n",
    "texas = deaths[deaths[\"StateName\"] == \"Texas\"]\n",
    "comp = deaths[deaths[\"StateName\"] != \"Texas\"]"
   ]
  },
  {
   "cell_type": "markdown",
   "metadata": {},
   "source": [
    "### Helper functions "
   ]
  },
  {
   "cell_type": "code",
   "execution_count": 193,
   "metadata": {},
   "outputs": [],
   "source": [
    "# function to select only overdose records\n",
    "# double check this\n",
    "\n",
    "def select_overdose(record):\n",
    "    \"\"\"Simple function to select only overdose records\"\"\"\n",
    "\n",
    "    if record == \"All other non-drug and non-alcohol causes\":\n",
    "        return 0\n",
    "\n",
    "    if record == \"All other alcohol-induced causes\":\n",
    "        return 0\n",
    "\n",
    "    if record == \"All other drug-induced causes\":\n",
    "        return 0\n",
    "\n",
    "    if record == \"Alcohol poisonings (overdose) (X45, X65, Y15)\":\n",
    "        return 0\n",
    "\n",
    "    if record == \"Drug poisonings (overdose) Unintentional (X40-X44)\":\n",
    "        return 1\n",
    "\n",
    "    if record == \"Drug poisonings (overdose) Suicide (X60-X64)\":\n",
    "        return 1\n",
    "\n",
    "    if record == \"Drug poisonings (overdose) Undetermined (Y10-Y14)\":\n",
    "        return 1\n",
    "\n",
    "    else:\n",
    "        return \"error\"\n",
    "    \n",
    "\n",
    "# copy to fix the dreaded \"A value is trying to be set on a copy of a slice\" error\n",
    "tx_deaths = texas.copy()\n",
    "comp_deaths = comp.copy()\n",
    "\n",
    "# apply new function to our df\n",
    "tx_deaths[\"overdose\"] = tx_deaths[\"Drug/Alcohol Induced Cause\"].apply(lambda x: select_overdose(x))\n",
    "comp_deaths[\"overdose\"] = comp_deaths[\"Drug/Alcohol Induced Cause\"].apply(lambda x: select_overdose(x))\n",
    "\n",
    "# filter accordingly based on new column\n",
    "tx_deaths = tx_deaths[tx_deaths[\"overdose\"] != 0]\n",
    "comp_deaths = comp_deaths[comp_deaths[\"overdose\"] != 0]"
   ]
  },
  {
   "cell_type": "code",
   "execution_count": 194,
   "metadata": {},
   "outputs": [],
   "source": [
    "# calculate overdoses per 100_000 residents\n",
    "\n",
    "tx_deaths[\"overdose_per_100k\"] = tx_deaths[\"Deaths\"] / tx_deaths[\"Population\"] * 100_000\n",
    "comp_deaths[\"overdose_per_100k\"] = comp_deaths[\"Deaths\"] / comp_deaths[\"Population\"] * 100_000"
   ]
  },
  {
   "cell_type": "code",
   "execution_count": 195,
   "metadata": {},
   "outputs": [],
   "source": [
    "tx_result = tx_deaths.groupby([\"Year\", \"County\"])[\"overdose_per_100k\"].sum().reset_index()\n",
    "comp_result = comp_deaths.groupby([\"Year\", \"StateName\", \"CountyName\"])[\"overdose_per_100k\"].sum().reset_index()\n",
    "\n",
    "# keep validating num counties\n",
    "\n",
    "\n",
    "# recent change - added county to both results above, removed state from comp_result"
   ]
  },
  {
   "cell_type": "code",
   "execution_count": 196,
   "metadata": {},
   "outputs": [
    {
     "data": {
      "text/plain": [
       "Year\n",
       "2004.0     9.546982\n",
       "2005.0     9.061194\n",
       "2006.0     8.093736\n",
       "2007.0    12.526991\n",
       "2008.0    11.997588\n",
       "2009.0    13.608821\n",
       "2010.0    12.148777\n",
       "Name: overdose_per_100k, dtype: float64"
      ]
     },
     "execution_count": 196,
     "metadata": {},
     "output_type": "execute_result"
    }
   ],
   "source": [
    "comp_result[comp_result[\"StateName\"] == \"Arkansas\"].groupby(\"Year\")[\"overdose_per_100k\"].mean()"
   ]
  },
  {
   "cell_type": "code",
   "execution_count": 197,
   "metadata": {},
   "outputs": [
    {
     "data": {
      "text/plain": [
       "Year\n",
       "2004.0     8.434598\n",
       "2005.0     8.751961\n",
       "2006.0     8.234585\n",
       "2007.0     8.932216\n",
       "2008.0     8.055972\n",
       "2009.0    10.410575\n",
       "2010.0     8.761948\n",
       "Name: overdose_per_100k, dtype: float64"
      ]
     },
     "execution_count": 197,
     "metadata": {},
     "output_type": "execute_result"
    }
   ],
   "source": [
    "comp_result[comp_result[\"StateName\"] == \"Kansas\"].groupby(\"Year\")[\"overdose_per_100k\"].mean()"
   ]
  },
  {
   "cell_type": "code",
   "execution_count": 198,
   "metadata": {},
   "outputs": [
    {
     "data": {
      "text/plain": [
       "Year\n",
       "2004.0    14.676815\n",
       "2005.0    18.484715\n",
       "2006.0    19.532244\n",
       "2007.0    19.256800\n",
       "2008.0    16.989931\n",
       "2009.0    14.017331\n",
       "2010.0    14.589543\n",
       "Name: overdose_per_100k, dtype: float64"
      ]
     },
     "execution_count": 198,
     "metadata": {},
     "output_type": "execute_result"
    }
   ],
   "source": [
    "comp_result[comp_result[\"StateName\"] == \"Louisiana\"].groupby(\"Year\")[\"overdose_per_100k\"].mean()"
   ]
  },
  {
   "cell_type": "code",
   "execution_count": 199,
   "metadata": {},
   "outputs": [
    {
     "data": {
      "text/plain": [
       "Year\n",
       "2004.0    22.131525\n",
       "2005.0    20.184407\n",
       "2006.0    22.650309\n",
       "2007.0    20.951433\n",
       "2008.0    24.290379\n",
       "2009.0    21.549887\n",
       "2010.0    21.793309\n",
       "Name: overdose_per_100k, dtype: float64"
      ]
     },
     "execution_count": 199,
     "metadata": {},
     "output_type": "execute_result"
    }
   ],
   "source": [
    "comp_result[comp_result[\"StateName\"] == \"New Mexico\"].groupby(\"Year\")[\"overdose_per_100k\"].mean()"
   ]
  },
  {
   "cell_type": "code",
   "execution_count": 200,
   "metadata": {},
   "outputs": [
    {
     "data": {
      "text/plain": [
       "Year\n",
       "2004.0    15.492609\n",
       "2005.0    14.000787\n",
       "2006.0    19.823879\n",
       "2007.0    17.120240\n",
       "2008.0    17.527223\n",
       "2009.0    23.172495\n",
       "2010.0    19.718064\n",
       "Name: overdose_per_100k, dtype: float64"
      ]
     },
     "execution_count": 200,
     "metadata": {},
     "output_type": "execute_result"
    }
   ],
   "source": [
    "comp_result[comp_result[\"StateName\"] == \"Oklahoma\"].groupby(\"Year\")[\"overdose_per_100k\"].mean()"
   ]
  },
  {
   "cell_type": "code",
   "execution_count": 201,
   "metadata": {},
   "outputs": [
    {
     "data": {
      "text/plain": [
       "Year\n",
       "2004.0     8.102934\n",
       "2005.0     9.220124\n",
       "2006.0    12.833851\n",
       "2007.0     9.688599\n",
       "2008.0    10.315215\n",
       "2009.0    11.567287\n",
       "2010.0    10.657727\n",
       "Name: overdose_per_100k, dtype: float64"
      ]
     },
     "execution_count": 201,
     "metadata": {},
     "output_type": "execute_result"
    }
   ],
   "source": [
    "tx_result.groupby(\"Year\")[\"overdose_per_100k\"].mean()"
   ]
  },
  {
   "cell_type": "code",
   "execution_count": 202,
   "metadata": {},
   "outputs": [
    {
     "data": {
      "text/plain": [
       "Year\n",
       "2004.0    15.332948\n",
       "2005.0    16.440722\n",
       "2006.0    17.968616\n",
       "2007.0    17.743348\n",
       "2008.0    16.961625\n",
       "2009.0    18.134355\n",
       "2010.0    16.380802\n",
       "Name: overdose_per_100k, dtype: float64"
      ]
     },
     "execution_count": 202,
     "metadata": {},
     "output_type": "execute_result"
    }
   ],
   "source": [
    "comp_result.groupby(\"Year\")[\"overdose_per_100k\"].mean()"
   ]
  },
  {
   "cell_type": "code",
   "execution_count": 203,
   "metadata": {},
   "outputs": [],
   "source": [
    "# idea for counties -> histogram of population, drop the outliers?\n",
    "\n",
    "#plt.hist(tx_deaths[\"Population\"], bins=20)"
   ]
  },
  {
   "cell_type": "code",
   "execution_count": null,
   "metadata": {},
   "outputs": [],
   "source": []
  },
  {
   "cell_type": "code",
   "execution_count": 204,
   "metadata": {},
   "outputs": [],
   "source": [
    "tx_result = tx_result.groupby(\"Year\")[\"overdose_per_100k\"].mean().reset_index()\n",
    "comp_result = comp_result.groupby([\"Year\"])[\"overdose_per_100k\"].mean().reset_index()"
   ]
  },
  {
   "cell_type": "code",
   "execution_count": 205,
   "metadata": {},
   "outputs": [],
   "source": [
    "# idea for counties -> histogram of population, drop the outliers?"
   ]
  },
  {
   "cell_type": "code",
   "execution_count": 206,
   "metadata": {},
   "outputs": [
    {
     "data": {
      "text/html": [
       "<div>\n",
       "<style scoped>\n",
       "    .dataframe tbody tr th:only-of-type {\n",
       "        vertical-align: middle;\n",
       "    }\n",
       "\n",
       "    .dataframe tbody tr th {\n",
       "        vertical-align: top;\n",
       "    }\n",
       "\n",
       "    .dataframe thead th {\n",
       "        text-align: right;\n",
       "    }\n",
       "</style>\n",
       "<table border=\"1\" class=\"dataframe\">\n",
       "  <thead>\n",
       "    <tr style=\"text-align: right;\">\n",
       "      <th></th>\n",
       "      <th>Year</th>\n",
       "      <th>overdose_per_100k</th>\n",
       "    </tr>\n",
       "  </thead>\n",
       "  <tbody>\n",
       "    <tr>\n",
       "      <th>0</th>\n",
       "      <td>2004.0</td>\n",
       "      <td>15.332948</td>\n",
       "    </tr>\n",
       "    <tr>\n",
       "      <th>1</th>\n",
       "      <td>2005.0</td>\n",
       "      <td>16.440722</td>\n",
       "    </tr>\n",
       "    <tr>\n",
       "      <th>2</th>\n",
       "      <td>2006.0</td>\n",
       "      <td>17.968616</td>\n",
       "    </tr>\n",
       "    <tr>\n",
       "      <th>3</th>\n",
       "      <td>2007.0</td>\n",
       "      <td>17.743348</td>\n",
       "    </tr>\n",
       "    <tr>\n",
       "      <th>4</th>\n",
       "      <td>2008.0</td>\n",
       "      <td>16.961625</td>\n",
       "    </tr>\n",
       "    <tr>\n",
       "      <th>5</th>\n",
       "      <td>2009.0</td>\n",
       "      <td>18.134355</td>\n",
       "    </tr>\n",
       "    <tr>\n",
       "      <th>6</th>\n",
       "      <td>2010.0</td>\n",
       "      <td>16.380802</td>\n",
       "    </tr>\n",
       "  </tbody>\n",
       "</table>\n",
       "</div>"
      ],
      "text/plain": [
       "     Year  overdose_per_100k\n",
       "0  2004.0          15.332948\n",
       "1  2005.0          16.440722\n",
       "2  2006.0          17.968616\n",
       "3  2007.0          17.743348\n",
       "4  2008.0          16.961625\n",
       "5  2009.0          18.134355\n",
       "6  2010.0          16.380802"
      ]
     },
     "execution_count": 206,
     "metadata": {},
     "output_type": "execute_result"
    }
   ],
   "source": [
    "comp_result"
   ]
  },
  {
   "cell_type": "code",
   "execution_count": 207,
   "metadata": {},
   "outputs": [],
   "source": [
    "#tx_result = tx_deaths.groupby([\"Year\", \"County\"])[\"overdose_per_100k\"].sum().reset_index()\n",
    "#comp_result = comp_deaths.groupby([\"Year\", \"County\"])[\"overdose_per_100k\"].sum().reset_index()\n",
    "#\n",
    "#tx_result = tx_result.groupby(\"Year\")[\"overdose_per_100k\"].mean().reset_index()\n",
    "#comp_result = comp_result.groupby([\"Year\"])[\"overdose_per_100k\"].mean().reset_index()"
   ]
  },
  {
   "cell_type": "code",
   "execution_count": 208,
   "metadata": {},
   "outputs": [],
   "source": [
    "# collapse state column with a mean aggregation\n",
    "# gives us the average overdoses of our comparison states over the years\n",
    "#comp_result = comp_result.groupby([\"Year\"])[\"overdose_per_100k\"].mean().reset_index()"
   ]
  },
  {
   "cell_type": "code",
   "execution_count": 209,
   "metadata": {},
   "outputs": [],
   "source": [
    "# create a scale for number of years before and after 2007 (target year)\n",
    "\n",
    "def scale_years(year):\n",
    "    if year == 2004:\n",
    "        return -3\n",
    "    if year == 2005:\n",
    "        return -2\n",
    "    if year == 2006:\n",
    "        return -1\n",
    "    if year == 2007:\n",
    "        return 0\n",
    "    if year == 2008:\n",
    "        return 1\n",
    "    if year == 2009:\n",
    "        return 2\n",
    "    if year == 2010:\n",
    "        return 3\n",
    "\n",
    "tx_result[\"year relative to policy\"] = tx_result[\"Year\"].apply(lambda x: scale_years(x))\n",
    "comp_result[\"year relative to policy\"] = comp_result[\"Year\"].apply(lambda x: scale_years(x))\n",
    "\n",
    "# double check no nulls in \"year relative to policy\"\n",
    "\n",
    "assert (tx_result[\"year relative to policy\"].isnull().sum() == 0)\n",
    "assert (comp_result[\"year relative to policy\"].isnull().sum() == 0)\n",
    "\n",
    "# doing this in case the float == int comparison causes issues"
   ]
  },
  {
   "cell_type": "code",
   "execution_count": null,
   "metadata": {},
   "outputs": [],
   "source": []
  },
  {
   "cell_type": "markdown",
   "metadata": {},
   "source": [
    "## Pre-post plot - overdoses per 100k through the years"
   ]
  },
  {
   "cell_type": "code",
   "execution_count": 210,
   "metadata": {},
   "outputs": [],
   "source": [
    "# split into before 2007 and after 2007\n",
    "\n",
    "tx_b4 = tx_result[tx_result[\"Year\"] < 2007]\n",
    "tx_after = tx_result[tx_result[\"Year\"] >= 2007]\n",
    "\n",
    "\n",
    "tx_after = tx_after[tx_after[\"Year\"] != 2007] # may need to handle this differently"
   ]
  },
  {
   "cell_type": "code",
   "execution_count": null,
   "metadata": {},
   "outputs": [],
   "source": []
  },
  {
   "cell_type": "code",
   "execution_count": 211,
   "metadata": {},
   "outputs": [],
   "source": [
    "from sklearn.linear_model import LinearRegression \n",
    "\n",
    "regressor_b4 = LinearRegression() \n",
    "regressor_after = LinearRegression()\n",
    "\n",
    "\n",
    "X_b4 = np.array(tx_b4[\"year relative to policy\"]).reshape(-1, 1)\n",
    "y_b4 = np.array(tx_b4[\"overdose_per_100k\"]).reshape(-1, 1)\n",
    "\n",
    "X_after = np.array(tx_after[\"year relative to policy\"]).reshape(-1, 1)\n",
    "y_after = np.array(tx_after[\"overdose_per_100k\"]).reshape(-1, 1)\n",
    "\n",
    "\n",
    "regressor_b4.fit(X_b4,y_b4) \n",
    "regressor_after.fit(X_after,y_after) \n",
    "\n",
    "\n",
    "y_pred_b4 = regressor_b4.predict(X_b4)\n",
    "y_pred_after = regressor_after.predict(X_b4)\n",
    "\n"
   ]
  },
  {
   "cell_type": "code",
   "execution_count": 212,
   "metadata": {},
   "outputs": [
    {
     "data": {
      "text/plain": [
       "array([[ 7.68684469],\n",
       "       [10.05230327],\n",
       "       [12.41776185]])"
      ]
     },
     "execution_count": 212,
     "metadata": {},
     "output_type": "execute_result"
    }
   ],
   "source": [
    "y_pred_b4"
   ]
  },
  {
   "cell_type": "code",
   "execution_count": 213,
   "metadata": {},
   "outputs": [
    {
     "data": {
      "text/plain": [
       "array([[ 9.99046349],\n",
       "       [10.16171941],\n",
       "       [10.33297534]])"
      ]
     },
     "execution_count": 213,
     "metadata": {},
     "output_type": "execute_result"
    }
   ],
   "source": [
    "y_pred_after"
   ]
  },
  {
   "cell_type": "code",
   "execution_count": 214,
   "metadata": {},
   "outputs": [
    {
     "data": {
      "text/plain": [
       "[<matplotlib.lines.Line2D at 0x14f67c4c070>]"
      ]
     },
     "execution_count": 214,
     "metadata": {},
     "output_type": "execute_result"
    },
    {
     "data": {
      "image/png": "[encoded data removed]",
      "text/plain": [
       "<Figure size 432x288 with 1 Axes>"
      ]
     },
     "metadata": {
      "needs_background": "light"
     },
     "output_type": "display_data"
    }
   ],
   "source": [
    "plt.xlim(-3, 3)\n",
    "#plt.ylim(0, 500)\n",
    "\n",
    "plt.title(\"Overdose Deaths in Texas\")\n",
    "\n",
    "plt.plot(X_b4, y_pred_b4,color='k')\n",
    "plt.plot(X_after, y_pred_after,color='k')\n",
    "\n",
    "# plot avg value in each year\n"
   ]
  },
  {
   "cell_type": "code",
   "execution_count": 215,
   "metadata": {},
   "outputs": [],
   "source": [
    "# diff in diff"
   ]
  },
  {
   "cell_type": "code",
   "execution_count": 216,
   "metadata": {},
   "outputs": [],
   "source": [
    "comp_b4 = comp_result[comp_result[\"Year\"] < 2007]\n",
    "comp_after = comp_result[comp_result[\"Year\"] >= 2007]\n",
    "\n",
    "comp_after = comp_after[comp_after[\"Year\"] != 2007] # may need to handle this differently\n"
   ]
  },
  {
   "cell_type": "code",
   "execution_count": 217,
   "metadata": {},
   "outputs": [],
   "source": [
    "regressor_b4 = LinearRegression() \n",
    "regressor_after = LinearRegression()\n",
    "\n",
    "\n",
    "X_b4 = np.array(comp_b4[\"year relative to policy\"]).reshape(-1, 1)\n",
    "y_b4 = np.array(comp_b4[\"overdose_per_100k\"]).reshape(-1, 1)\n",
    "\n",
    "X_after = np.array(comp_after[\"year relative to policy\"]).reshape(-1, 1)\n",
    "y_after = np.array(comp_after[\"overdose_per_100k\"]).reshape(-1, 1)\n",
    "\n",
    "\n",
    "regressor_b4.fit(X_b4,y_b4) \n",
    "regressor_after.fit(X_after,y_after) \n",
    "\n",
    "\n",
    "y_pred_b4 = regressor_b4.predict(X_b4)\n",
    "y_pred_after = regressor_after.predict(X_b4)\n",
    "\n"
   ]
  },
  {
   "cell_type": "code",
   "execution_count": 218,
   "metadata": {},
   "outputs": [
    {
     "data": {
      "text/plain": [
       "array([[15.2629278 ],\n",
       "       [16.58076203],\n",
       "       [17.89859626]])"
      ]
     },
     "execution_count": 218,
     "metadata": {},
     "output_type": "execute_result"
    }
   ],
   "source": [
    "y_pred_b4"
   ]
  },
  {
   "cell_type": "code",
   "execution_count": 219,
   "metadata": {},
   "outputs": [
    {
     "data": {
      "text/plain": [
       "array([[18.61098514],\n",
       "       [18.32057354],\n",
       "       [18.03016194]])"
      ]
     },
     "execution_count": 219,
     "metadata": {},
     "output_type": "execute_result"
    }
   ],
   "source": [
    "y_pred_after"
   ]
  },
  {
   "cell_type": "code",
   "execution_count": 220,
   "metadata": {},
   "outputs": [
    {
     "data": {
      "text/plain": [
       "[<matplotlib.lines.Line2D at 0x14f673b73d0>]"
      ]
     },
     "execution_count": 220,
     "metadata": {},
     "output_type": "execute_result"
    },
    {
     "data": {
      "image/png": "[encoded data removed]",
      "text/plain": [
       "<Figure size 432x288 with 1 Axes>"
      ]
     },
     "metadata": {
      "needs_background": "light"
     },
     "output_type": "display_data"
    }
   ],
   "source": [
    "plt.xlim(-3, 3)\n",
    "#plt.ylim(0, 500)\n",
    "\n",
    "plt.plot(X_b4, y_pred_b4,color='k')\n",
    "plt.plot(X_after, y_pred_after,color='k')\n"
   ]
  },
  {
   "cell_type": "code",
   "execution_count": 221,
   "metadata": {},
   "outputs": [],
   "source": [
    "# new method after working more with reshaping exercises\n",
    "# using statsmodels now, wrapping stuff in functions\n",
    "# thinking it could be easier to break it down by task"
   ]
  },
  {
   "cell_type": "markdown",
   "metadata": {},
   "source": [
    "## Helper functions\n",
    "\n",
    "1) vertical_line()\n",
    "    - takes in a year and plots a vertical line at that year\n",
    "2) get_charts()\n",
    "    - takes in two dataframes (one for before policy, one for after)\n",
    "    - returns chart for each\n",
    "    - not much utility by itself - used as a parameter for our get_fit() function"
   ]
  },
  {
   "cell_type": "code",
   "execution_count": 222,
   "metadata": {},
   "outputs": [],
   "source": [
    "x = \"Year\"\n",
    "y = \"overdose_per_100k\""
   ]
  },
  {
   "cell_type": "code",
   "execution_count": 223,
   "metadata": {},
   "outputs": [],
   "source": [
    "def vertical_line(year):\n",
    "    \"\"\"Function to plot a vertical line at year of policy implementation\"\"\"\n",
    "    line = alt.Chart(pd.DataFrame({\n",
    "    'Date': [year],\n",
    "    'color': [\"black\"]\n",
    "    })).mark_rule().encode(\n",
    "    x='Date:Q', # use q for \"quantitative\" - as per altair docs\n",
    "    color=alt.Color('color:N', scale=None)\n",
    "    )\n",
    "\n",
    "    return line"
   ]
  },
  {
   "cell_type": "code",
   "execution_count": 224,
   "metadata": {},
   "outputs": [
    {
     "name": "stderr",
     "output_type": "stream",
     "text": [
      "c:\\Users\\abzdel\\AppData\\Local\\Programs\\Python\\Python39\\lib\\site-packages\\altair\\utils\\core.py:317: FutureWarning: iteritems is deprecated and will be removed in a future version. Use .items instead.\n"
     ]
    },
    {
     "data": {
      "text/html": [
       "\n",
       "<div id=\"altair-viz-3003b61ce3e74b3bb23d15f906d66b8a\"></div>\n",
       "<script type=\"text/javascript\">\n",
       "  var VEGA_DEBUG = (typeof VEGA_DEBUG == \"undefined\") ? {} : VEGA_DEBUG;\n",
       "  (function(spec, embedOpt){\n",
       "    let outputDiv = document.currentScript.previousElementSibling;\n",
       "    if (outputDiv.id !== \"altair-viz-3003b61ce3e74b3bb23d15f906d66b8a\") {\n",
       "      outputDiv = document.getElementById(\"altair-viz-3003b61ce3e74b3bb23d15f906d66b8a\");\n",
       "    }\n",
       "    const paths = {\n",
       "      \"vega\": \"https://cdn.jsdelivr.net/npm//vega@5?noext\",\n",
       "      \"vega-lib\": \"https://cdn.jsdelivr.net/npm//vega-lib?noext\",\n",
       "      \"vega-lite\": \"https://cdn.jsdelivr.net/npm//vega-lite@4.17.0?noext\",\n",
       "      \"vega-embed\": \"https://cdn.jsdelivr.net/npm//vega-embed@6?noext\",\n",
       "    };\n",
       "\n",
       "    function maybeLoadScript(lib, version) {\n",
       "      var key = `${lib.replace(\"-\", \"\")}_version`;\n",
       "      return (VEGA_DEBUG[key] == version) ?\n",
       "        Promise.resolve(paths[lib]) :\n",
       "        new Promise(function(resolve, reject) {\n",
       "          var s = document.createElement('script');\n",
       "          document.getElementsByTagName(\"head\")[0].appendChild(s);\n",
       "          s.async = true;\n",
       "          s.onload = () => {\n",
       "            VEGA_DEBUG[key] = version;\n",
       "            return resolve(paths[lib]);\n",
       "          };\n",
       "          s.onerror = () => reject(`Error loading script: ${paths[lib]}`);\n",
       "          s.src = paths[lib];\n",
       "        });\n",
       "    }\n",
       "\n",
       "    function showError(err) {\n",
       "      outputDiv.innerHTML = `<div class=\"error\" style=\"color:red;\">${err}</div>`;\n",
       "      throw err;\n",
       "    }\n",
       "\n",
       "    function displayChart(vegaEmbed) {\n",
       "      vegaEmbed(outputDiv, spec, embedOpt)\n",
       "        .catch(err => showError(`Javascript Error: ${err.message}<br>This usually means there's a typo in your chart specification. See the javascript console for the full traceback.`));\n",
       "    }\n",
       "\n",
       "    if(typeof define === \"function\" && define.amd) {\n",
       "      requirejs.config({paths});\n",
       "      require([\"vega-embed\"], displayChart, err => showError(`Error loading script: ${err.message}`));\n",
       "    } else {\n",
       "      maybeLoadScript(\"vega\", \"5\")\n",
       "        .then(() => maybeLoadScript(\"vega-lite\", \"4.17.0\"))\n",
       "        .then(() => maybeLoadScript(\"vega-embed\", \"6\"))\n",
       "        .catch(showError)\n",
       "        .then(() => displayChart(vegaEmbed));\n",
       "    }\n",
       "  })({\"config\": {\"view\": {\"continuousWidth\": 400, \"continuousHeight\": 300}}, \"data\": {\"name\": \"data-91bf767cb7f0fb6b41e18d187a819631\"}, \"mark\": \"rule\", \"encoding\": {\"color\": {\"field\": \"color\", \"scale\": null, \"type\": \"nominal\"}, \"x\": {\"field\": \"Date\", \"type\": \"quantitative\"}}, \"$schema\": \"https://vega.github.io/schema/vega-lite/v4.17.0.json\", \"datasets\": {\"data-91bf767cb7f0fb6b41e18d187a819631\": [{\"Date\": 2004, \"color\": \"black\"}]}}, {\"mode\": \"vega-lite\"});\n",
       "</script>"
      ],
      "text/plain": [
       "alt.Chart(...)"
      ]
     },
     "execution_count": 224,
     "metadata": {},
     "output_type": "execute_result"
    }
   ],
   "source": [
    "# test function\n",
    "vertical_line(2004)"
   ]
  },
  {
   "cell_type": "code",
   "execution_count": 273,
   "metadata": {},
   "outputs": [],
   "source": [
    "def get_charts(b4, after, title_b4, title_after):\n",
    "    \"\"\"\n",
    "    Function to plot the pre and post charts.\n",
    "    Will not use in final plot - used as a baseline for our fit charts later.\n",
    "\n",
    "    \"\"\"\n",
    "\n",
    "    base_before = (\n",
    "        alt.Chart(b4)\n",
    "        .mark_point()\n",
    "        .encode(\n",
    "            y=alt.Y(\"overdose_per_100k\", scale=alt.Scale(zero=False)),\n",
    "            x=alt.X(\"year relative to policy\", scale=alt.Scale(zero=False)),\n",
    "        )\n",
    "        .properties(title=title_b4)\n",
    "        \n",
    "    )\n",
    "\n",
    "    base_after = (\n",
    "        alt.Chart(after)\n",
    "        .mark_point()\n",
    "        .encode(\n",
    "            y=alt.Y(\"overdose_per_100k\", scale=alt.Scale(zero=False)),\n",
    "            x=alt.X(\"year relative to policy\", scale=alt.Scale(zero=False)),\n",
    "        )\n",
    "        .properties(title=title_after)\n",
    "    )\n",
    "\n",
    "    return base_before, base_after"
   ]
  },
  {
   "cell_type": "code",
   "execution_count": 274,
   "metadata": {},
   "outputs": [
    {
     "data": {
      "text/html": [
       "\n",
       "<div id=\"altair-viz-e8b043eeea3d485e88f678a01e4290ae\"></div>\n",
       "<script type=\"text/javascript\">\n",
       "  var VEGA_DEBUG = (typeof VEGA_DEBUG == \"undefined\") ? {} : VEGA_DEBUG;\n",
       "  (function(spec, embedOpt){\n",
       "    let outputDiv = document.currentScript.previousElementSibling;\n",
       "    if (outputDiv.id !== \"altair-viz-e8b043eeea3d485e88f678a01e4290ae\") {\n",
       "      outputDiv = document.getElementById(\"altair-viz-e8b043eeea3d485e88f678a01e4290ae\");\n",
       "    }\n",
       "    const paths = {\n",
       "      \"vega\": \"https://cdn.jsdelivr.net/npm//vega@5?noext\",\n",
       "      \"vega-lib\": \"https://cdn.jsdelivr.net/npm//vega-lib?noext\",\n",
       "      \"vega-lite\": \"https://cdn.jsdelivr.net/npm//vega-lite@4.17.0?noext\",\n",
       "      \"vega-embed\": \"https://cdn.jsdelivr.net/npm//vega-embed@6?noext\",\n",
       "    };\n",
       "\n",
       "    function maybeLoadScript(lib, version) {\n",
       "      var key = `${lib.replace(\"-\", \"\")}_version`;\n",
       "      return (VEGA_DEBUG[key] == version) ?\n",
       "        Promise.resolve(paths[lib]) :\n",
       "        new Promise(function(resolve, reject) {\n",
       "          var s = document.createElement('script');\n",
       "          document.getElementsByTagName(\"head\")[0].appendChild(s);\n",
       "          s.async = true;\n",
       "          s.onload = () => {\n",
       "            VEGA_DEBUG[key] = version;\n",
       "            return resolve(paths[lib]);\n",
       "          };\n",
       "          s.onerror = () => reject(`Error loading script: ${paths[lib]}`);\n",
       "          s.src = paths[lib];\n",
       "        });\n",
       "    }\n",
       "\n",
       "    function showError(err) {\n",
       "      outputDiv.innerHTML = `<div class=\"error\" style=\"color:red;\">${err}</div>`;\n",
       "      throw err;\n",
       "    }\n",
       "\n",
       "    function displayChart(vegaEmbed) {\n",
       "      vegaEmbed(outputDiv, spec, embedOpt)\n",
       "        .catch(err => showError(`Javascript Error: ${err.message}<br>This usually means there's a typo in your chart specification. See the javascript console for the full traceback.`));\n",
       "    }\n",
       "\n",
       "    if(typeof define === \"function\" && define.amd) {\n",
       "      requirejs.config({paths});\n",
       "      require([\"vega-embed\"], displayChart, err => showError(`Error loading script: ${err.message}`));\n",
       "    } else {\n",
       "      maybeLoadScript(\"vega\", \"5\")\n",
       "        .then(() => maybeLoadScript(\"vega-lite\", \"4.17.0\"))\n",
       "        .then(() => maybeLoadScript(\"vega-embed\", \"6\"))\n",
       "        .catch(showError)\n",
       "        .then(() => displayChart(vegaEmbed));\n",
       "    }\n",
       "  })({\"config\": {\"view\": {\"continuousWidth\": 400, \"continuousHeight\": 300}}, \"layer\": [{\"data\": {\"name\": \"data-a2702a7e9e889a7f9b444e25420e1d1c\"}, \"mark\": \"point\", \"encoding\": {\"x\": {\"field\": \"year relative to policy\", \"scale\": {\"zero\": false}, \"type\": \"quantitative\"}, \"y\": {\"field\": \"overdose_per_100k\", \"scale\": {\"zero\": false}, \"type\": \"quantitative\"}}, \"title\": \"deaths before policy\"}, {\"data\": {\"name\": \"data-62a31d00ba8e1f1d76c06a6982492a56\"}, \"mark\": \"point\", \"encoding\": {\"x\": {\"field\": \"year relative to policy\", \"scale\": {\"zero\": false}, \"type\": \"quantitative\"}, \"y\": {\"field\": \"overdose_per_100k\", \"scale\": {\"zero\": false}, \"type\": \"quantitative\"}}, \"title\": \"deaths after policy\"}], \"$schema\": \"https://vega.github.io/schema/vega-lite/v4.17.0.json\", \"datasets\": {\"data-a2702a7e9e889a7f9b444e25420e1d1c\": [{\"Year\": 2004.0, \"overdose_per_100k\": 8.102934192098285, \"year relative to policy\": -3}, {\"Year\": 2005.0, \"overdose_per_100k\": 9.22012425721344, \"year relative to policy\": -2}, {\"Year\": 2006.0, \"overdose_per_100k\": 12.83385135109181, \"year relative to policy\": -1}], \"data-62a31d00ba8e1f1d76c06a6982492a56\": [{\"Year\": 2008.0, \"overdose_per_100k\": 10.315215028761699, \"year relative to policy\": 1}, {\"Year\": 2009.0, \"overdose_per_100k\": 11.567287418113091, \"year relative to policy\": 2}, {\"Year\": 2010.0, \"overdose_per_100k\": 10.657726875910054, \"year relative to policy\": 3}]}}, {\"mode\": \"vega-lite\"});\n",
       "</script>"
      ],
      "text/plain": [
       "alt.LayerChart(...)"
      ]
     },
     "execution_count": 274,
     "metadata": {},
     "output_type": "execute_result"
    }
   ],
   "source": [
    "# test the function\n",
    "# may remove title parameters later - not really necessary as we aren't plotting this part in our final analysis\n",
    "# however, if we can't add a title to our fit/regression line charts, we may need to add them here\n",
    "base_before, base_after = get_charts(b4 = tx_b4, after = tx_after, title_b4 = \"deaths before policy\", title_after=\"deaths after policy\")\n",
    "base_before + base_after"
   ]
  },
  {
   "cell_type": "code",
   "execution_count": null,
   "metadata": {},
   "outputs": [],
   "source": [
    "# starting here in final report\n",
    "# no longer calculating base chart above - just adding in regression line at same time"
   ]
  },
  {
   "cell_type": "code",
   "execution_count": 248,
   "metadata": {},
   "outputs": [],
   "source": [
    "def get_preds(df, x, y):\n",
    "\n",
    "    # init new empty df for our predictions\n",
    "    predictions = pd.DataFrame()\n",
    "\n",
    "    # fit our model and predict values\n",
    "    model = smf.ols(f\"{y} ~ {x}\", data=df).fit()\n",
    "    model_predict = model.get_prediction(df[x])\n",
    "\n",
    "    # save predictions back to df, calculate confidence intervals\n",
    "    predictions[\"overdose_per_100k\"] = model.predict(df[x])\n",
    "    predictions[[\"ci_low\", \"ci_high\"]] = model_predict.conf_int(alpha=0.05)\n",
    "\n",
    "    # save original year columns to new predictions df\n",
    "    predictions[\"Year\"] = df[\"Year\"]\n",
    "    predictions[\"year relative to policy\"] = df[\"year relative to policy\"]\n",
    "    return predictions"
   ]
  },
  {
   "cell_type": "code",
   "execution_count": 249,
   "metadata": {},
   "outputs": [],
   "source": [
    "tx_b4_preds = get_preds(tx_b4, x, y)\n",
    "tx_after_preds = get_preds(tx_after, x, y)"
   ]
  },
  {
   "cell_type": "code",
   "execution_count": 232,
   "metadata": {},
   "outputs": [
    {
     "ename": "SyntaxError",
     "evalue": "invalid syntax (Temp/ipykernel_37456/1009719505.py, line 1)",
     "output_type": "error",
     "traceback": [
      "\u001b[1;36m  File \u001b[1;32m\"C:\\Users\\abzdel\\AppData\\Local\\Temp/ipykernel_37456/1009719505.py\"\u001b[1;36m, line \u001b[1;32m1\u001b[0m\n\u001b[1;33m    .mark_errorband()\u001b[0m\n\u001b[1;37m    ^\u001b[0m\n\u001b[1;31mSyntaxError\u001b[0m\u001b[1;31m:\u001b[0m invalid syntax\n"
     ]
    }
   ],
   "source": [
    "        .mark_errorband()\n",
    "        .encode(\n",
    "            x=x,\n",
    "            y=alt.Y(\"ci_low\", title=y),\n",
    "            y2=\"ci_high\",\n",
    "        )"
   ]
  },
  {
   "cell_type": "code",
   "execution_count": 271,
   "metadata": {},
   "outputs": [],
   "source": [
    "def get_charts(b4, after, title_b4, title_after):\n",
    "    \"\"\"\n",
    "    Function to plot the pre and post charts.\n",
    "    Will not use in final plot - used as a baseline for our fit charts later.\n",
    "\n",
    "    \"\"\"\n",
    "\n",
    "    base_before = (\n",
    "        alt.Chart(b4)\n",
    "        .mark_point()\n",
    "        .encode(\n",
    "            y=alt.Y(\"overdose_per_100k\", scale=alt.Scale(zero=False)),\n",
    "            x=alt.X(\"year relative to policy\", scale=alt.Scale(zero=False)),\n",
    "        )\n",
    "        .properties(title=title_b4).transform_regression(\"year relative to policy\", \"overdose_per_100k\")\n",
    "    .mark_line()\n",
    "    .encode(color=alt.value(\"red\"))\n",
    "        \n",
    "    )\n",
    "\n",
    "    base_after = (\n",
    "        alt.Chart(after)\n",
    "        .mark_point()\n",
    "        .encode(\n",
    "            y=alt.Y(\"overdose_per_100k\", scale=alt.Scale(zero=False)),\n",
    "            x=alt.X(\"year relative to policy\", scale=alt.Scale(zero=False)),\n",
    "            \n",
    "        )\n",
    "        .properties(title=title_after).transform_regression(\"year relative to policy\", \"overdose_per_100k\")\n",
    "    .mark_line()\n",
    "    .encode(color=alt.value(\"red\"))\n",
    "    )\n",
    "\n",
    "    return base_before, base_after"
   ]
  },
  {
   "cell_type": "code",
   "execution_count": 272,
   "metadata": {},
   "outputs": [
    {
     "data": {
      "text/html": [
       "\n",
       "<div id=\"altair-viz-ffa165582fee4bd5ac5cf8b66c01ad08\"></div>\n",
       "<script type=\"text/javascript\">\n",
       "  var VEGA_DEBUG = (typeof VEGA_DEBUG == \"undefined\") ? {} : VEGA_DEBUG;\n",
       "  (function(spec, embedOpt){\n",
       "    let outputDiv = document.currentScript.previousElementSibling;\n",
       "    if (outputDiv.id !== \"altair-viz-ffa165582fee4bd5ac5cf8b66c01ad08\") {\n",
       "      outputDiv = document.getElementById(\"altair-viz-ffa165582fee4bd5ac5cf8b66c01ad08\");\n",
       "    }\n",
       "    const paths = {\n",
       "      \"vega\": \"https://cdn.jsdelivr.net/npm//vega@5?noext\",\n",
       "      \"vega-lib\": \"https://cdn.jsdelivr.net/npm//vega-lib?noext\",\n",
       "      \"vega-lite\": \"https://cdn.jsdelivr.net/npm//vega-lite@4.17.0?noext\",\n",
       "      \"vega-embed\": \"https://cdn.jsdelivr.net/npm//vega-embed@6?noext\",\n",
       "    };\n",
       "\n",
       "    function maybeLoadScript(lib, version) {\n",
       "      var key = `${lib.replace(\"-\", \"\")}_version`;\n",
       "      return (VEGA_DEBUG[key] == version) ?\n",
       "        Promise.resolve(paths[lib]) :\n",
       "        new Promise(function(resolve, reject) {\n",
       "          var s = document.createElement('script');\n",
       "          document.getElementsByTagName(\"head\")[0].appendChild(s);\n",
       "          s.async = true;\n",
       "          s.onload = () => {\n",
       "            VEGA_DEBUG[key] = version;\n",
       "            return resolve(paths[lib]);\n",
       "          };\n",
       "          s.onerror = () => reject(`Error loading script: ${paths[lib]}`);\n",
       "          s.src = paths[lib];\n",
       "        });\n",
       "    }\n",
       "\n",
       "    function showError(err) {\n",
       "      outputDiv.innerHTML = `<div class=\"error\" style=\"color:red;\">${err}</div>`;\n",
       "      throw err;\n",
       "    }\n",
       "\n",
       "    function displayChart(vegaEmbed) {\n",
       "      vegaEmbed(outputDiv, spec, embedOpt)\n",
       "        .catch(err => showError(`Javascript Error: ${err.message}<br>This usually means there's a typo in your chart specification. See the javascript console for the full traceback.`));\n",
       "    }\n",
       "\n",
       "    if(typeof define === \"function\" && define.amd) {\n",
       "      requirejs.config({paths});\n",
       "      require([\"vega-embed\"], displayChart, err => showError(`Error loading script: ${err.message}`));\n",
       "    } else {\n",
       "      maybeLoadScript(\"vega\", \"5\")\n",
       "        .then(() => maybeLoadScript(\"vega-lite\", \"4.17.0\"))\n",
       "        .then(() => maybeLoadScript(\"vega-embed\", \"6\"))\n",
       "        .catch(showError)\n",
       "        .then(() => displayChart(vegaEmbed));\n",
       "    }\n",
       "  })({\"config\": {\"view\": {\"continuousWidth\": 400, \"continuousHeight\": 300}}, \"layer\": [{\"data\": {\"name\": \"data-e8a71ca6dd94c255cc922200a6ab4de8\"}, \"mark\": \"line\", \"encoding\": {\"color\": {\"value\": \"red\"}, \"x\": {\"field\": \"year relative to policy\", \"scale\": {\"zero\": false}, \"type\": \"quantitative\"}, \"y\": {\"field\": \"overdose_per_100k\", \"scale\": {\"zero\": false}, \"type\": \"quantitative\"}}, \"title\": \"deaths before policy\", \"transform\": [{\"on\": \"year relative to policy\", \"regression\": \"overdose_per_100k\"}]}, {\"data\": {\"name\": \"data-7d4ad3143cd1e355ee4a33d88ffd184b\"}, \"mark\": \"line\", \"encoding\": {\"color\": {\"value\": \"red\"}, \"x\": {\"field\": \"year relative to policy\", \"scale\": {\"zero\": false}, \"type\": \"quantitative\"}, \"y\": {\"field\": \"overdose_per_100k\", \"scale\": {\"zero\": false}, \"type\": \"quantitative\"}}, \"title\": \"deaths after policy\", \"transform\": [{\"on\": \"year relative to policy\", \"regression\": \"overdose_per_100k\"}]}], \"$schema\": \"https://vega.github.io/schema/vega-lite/v4.17.0.json\", \"datasets\": {\"data-e8a71ca6dd94c255cc922200a6ab4de8\": [{\"overdose_per_100k\": 7.686844687305893, \"ci_low\": -4.135064328831648, \"ci_high\": 19.508753703443432, \"Year\": 2004.0, \"year relative to policy\": -3}, {\"overdose_per_100k\": 10.052303266802483, \"ci_low\": 2.5754715099425045, \"ci_high\": 17.529135023662462, \"Year\": 2005.0, \"year relative to policy\": -2}, {\"overdose_per_100k\": 12.417761846299072, \"ci_low\": 0.5958528301568737, \"ci_high\": 24.239670862441272, \"Year\": 2006.0, \"year relative to policy\": -1}], \"data-7d4ad3143cd1e355ee4a33d88ffd184b\": [{\"overdose_per_100k\": 10.675487184020142, \"ci_low\": 0.4394572173405127, \"ci_high\": 20.911517150699773, \"Year\": 2008.0, \"year relative to policy\": 1}, {\"overdose_per_100k\": 10.846743107594364, \"ci_low\": 4.372909330193504, \"ci_high\": 17.320576884995223, \"Year\": 2009.0, \"year relative to policy\": 2}, {\"overdose_per_100k\": 11.017999031168529, \"ci_low\": 0.7819690644888997, \"ci_high\": 21.25402899784816, \"Year\": 2010.0, \"year relative to policy\": 3}]}}, {\"mode\": \"vega-lite\"});\n",
       "</script>"
      ],
      "text/plain": [
       "alt.LayerChart(...)"
      ]
     },
     "execution_count": 272,
     "metadata": {},
     "output_type": "execute_result"
    }
   ],
   "source": [
    "# test the function\n",
    "# may remove title parameters later - not really necessary as we aren't plotting this part in our final analysis\n",
    "# however, if we can't add a title to our fit/regression line charts, we may need to add them here\n",
    "base_before, base_after = get_charts(b4 = tx_b4_preds, after = tx_after_preds, title_b4 = \"deaths before policy\", title_after=\"deaths after policy\")\n",
    "base_before + base_after"
   ]
  },
  {
   "cell_type": "code",
   "execution_count": 236,
   "metadata": {},
   "outputs": [],
   "source": [
    "# ignore below for now,\n",
    "# making separate predictions dataframe above"
   ]
  },
  {
   "cell_type": "code",
   "execution_count": 245,
   "metadata": {},
   "outputs": [],
   "source": [
    "def get_fits(chart_b4, chart_after, b4_preds, after_preds):\n",
    "    \"\"\"\n",
    "    Function to plot the regression lines for the pre and post charts.\n",
    "    \"\"\"\n",
    "\n",
    "    fit_tx_b4 = (\n",
    "    chart_b4.transform_regression(\"year relative to policy\", \"overdose_per_100k\")\n",
    "    .mark_line()\n",
    "    .encode(color=alt.value(\"red\"))\n",
    "\n",
    "    )#.mark_errorband()\n",
    "\n",
    "\n",
    "\n",
    "    fit_tx_after = (\n",
    "    chart_after.transform_regression(\"year relative to policy\", \"overdose_per_100k\")\n",
    "    .mark_line()\n",
    "    .encode(color=alt.value(\"red\"))\n",
    "    )\n",
    "\n",
    "    return fit_tx_b4, fit_tx_after\n",
    "\n",
    "\n",
    "# test function\n",
    "fit_b4, fit_after = get_fits(chart_b4 = base_before, chart_after = base_after)\n",
    "fit_b4 + fit_after"
   ]
  },
  {
   "cell_type": "code",
   "execution_count": 251,
   "metadata": {},
   "outputs": [],
   "source": [
    "band_b4 = alt.Chart(tx_b4_preds).mark_errorband(extent='ci').encode(\n",
    "    x=alt.X('Year'),\n",
    "    y=alt.Y('overdose_per_100k'))\n",
    "\n",
    "\n",
    "band_after = alt.Chart(tx_after_preds).mark_errorband(extent='ci').encode(\n",
    "    x=alt.X('Year'),\n",
    "    y=alt.Y('overdose_per_100k'))"
   ]
  },
  {
   "cell_type": "code",
   "execution_count": 254,
   "metadata": {},
   "outputs": [
    {
     "name": "stderr",
     "output_type": "stream",
     "text": [
      "c:\\Users\\abzdel\\AppData\\Local\\Programs\\Python\\Python39\\lib\\site-packages\\altair\\utils\\core.py:317: FutureWarning: iteritems is deprecated and will be removed in a future version. Use .items instead.\n"
     ]
    },
    {
     "data": {
      "text/html": [
       "\n",
       "<div id=\"altair-viz-4f147db6aaa845948e87d8df940c0bf9\"></div>\n",
       "<script type=\"text/javascript\">\n",
       "  var VEGA_DEBUG = (typeof VEGA_DEBUG == \"undefined\") ? {} : VEGA_DEBUG;\n",
       "  (function(spec, embedOpt){\n",
       "    let outputDiv = document.currentScript.previousElementSibling;\n",
       "    if (outputDiv.id !== \"altair-viz-4f147db6aaa845948e87d8df940c0bf9\") {\n",
       "      outputDiv = document.getElementById(\"altair-viz-4f147db6aaa845948e87d8df940c0bf9\");\n",
       "    }\n",
       "    const paths = {\n",
       "      \"vega\": \"https://cdn.jsdelivr.net/npm//vega@5?noext\",\n",
       "      \"vega-lib\": \"https://cdn.jsdelivr.net/npm//vega-lib?noext\",\n",
       "      \"vega-lite\": \"https://cdn.jsdelivr.net/npm//vega-lite@4.17.0?noext\",\n",
       "      \"vega-embed\": \"https://cdn.jsdelivr.net/npm//vega-embed@6?noext\",\n",
       "    };\n",
       "\n",
       "    function maybeLoadScript(lib, version) {\n",
       "      var key = `${lib.replace(\"-\", \"\")}_version`;\n",
       "      return (VEGA_DEBUG[key] == version) ?\n",
       "        Promise.resolve(paths[lib]) :\n",
       "        new Promise(function(resolve, reject) {\n",
       "          var s = document.createElement('script');\n",
       "          document.getElementsByTagName(\"head\")[0].appendChild(s);\n",
       "          s.async = true;\n",
       "          s.onload = () => {\n",
       "            VEGA_DEBUG[key] = version;\n",
       "            return resolve(paths[lib]);\n",
       "          };\n",
       "          s.onerror = () => reject(`Error loading script: ${paths[lib]}`);\n",
       "          s.src = paths[lib];\n",
       "        });\n",
       "    }\n",
       "\n",
       "    function showError(err) {\n",
       "      outputDiv.innerHTML = `<div class=\"error\" style=\"color:red;\">${err}</div>`;\n",
       "      throw err;\n",
       "    }\n",
       "\n",
       "    function displayChart(vegaEmbed) {\n",
       "      vegaEmbed(outputDiv, spec, embedOpt)\n",
       "        .catch(err => showError(`Javascript Error: ${err.message}<br>This usually means there's a typo in your chart specification. See the javascript console for the full traceback.`));\n",
       "    }\n",
       "\n",
       "    if(typeof define === \"function\" && define.amd) {\n",
       "      requirejs.config({paths});\n",
       "      require([\"vega-embed\"], displayChart, err => showError(`Error loading script: ${err.message}`));\n",
       "    } else {\n",
       "      maybeLoadScript(\"vega\", \"5\")\n",
       "        .then(() => maybeLoadScript(\"vega-lite\", \"4.17.0\"))\n",
       "        .then(() => maybeLoadScript(\"vega-embed\", \"6\"))\n",
       "        .catch(showError)\n",
       "        .then(() => displayChart(vegaEmbed));\n",
       "    }\n",
       "  })({\"config\": {\"view\": {\"continuousWidth\": 400, \"continuousHeight\": 300}}, \"layer\": [{\"data\": {\"name\": \"data-a2702a7e9e889a7f9b444e25420e1d1c\"}, \"mark\": \"line\", \"encoding\": {\"color\": {\"value\": \"red\"}, \"x\": {\"field\": \"year relative to policy\", \"scale\": {\"zero\": false}, \"type\": \"quantitative\"}, \"y\": {\"field\": \"overdose_per_100k\", \"scale\": {\"zero\": false}, \"type\": \"quantitative\"}}, \"title\": \"deaths before policy\", \"transform\": [{\"on\": \"year relative to policy\", \"regression\": \"overdose_per_100k\"}]}, {\"data\": {\"name\": \"data-62a31d00ba8e1f1d76c06a6982492a56\"}, \"mark\": \"line\", \"encoding\": {\"color\": {\"value\": \"red\"}, \"x\": {\"field\": \"year relative to policy\", \"scale\": {\"zero\": false}, \"type\": \"quantitative\"}, \"y\": {\"field\": \"overdose_per_100k\", \"scale\": {\"zero\": false}, \"type\": \"quantitative\"}}, \"title\": \"deaths after policy\", \"transform\": [{\"on\": \"year relative to policy\", \"regression\": \"overdose_per_100k\"}]}], \"$schema\": \"https://vega.github.io/schema/vega-lite/v4.17.0.json\", \"datasets\": {\"data-a2702a7e9e889a7f9b444e25420e1d1c\": [{\"Year\": 2004.0, \"overdose_per_100k\": 8.102934192098285, \"year relative to policy\": -3}, {\"Year\": 2005.0, \"overdose_per_100k\": 9.22012425721344, \"year relative to policy\": -2}, {\"Year\": 2006.0, \"overdose_per_100k\": 12.83385135109181, \"year relative to policy\": -1}], \"data-62a31d00ba8e1f1d76c06a6982492a56\": [{\"Year\": 2008.0, \"overdose_per_100k\": 10.315215028761699, \"year relative to policy\": 1}, {\"Year\": 2009.0, \"overdose_per_100k\": 11.567287418113091, \"year relative to policy\": 2}, {\"Year\": 2010.0, \"overdose_per_100k\": 10.657726875910054, \"year relative to policy\": 3}]}}, {\"mode\": \"vega-lite\"});\n",
       "</script>"
      ],
      "text/plain": [
       "alt.LayerChart(...)"
      ]
     },
     "execution_count": 254,
     "metadata": {},
     "output_type": "execute_result"
    }
   ],
   "source": [
    "fit_b4 + fit_after"
   ]
  },
  {
   "cell_type": "code",
   "execution_count": null,
   "metadata": {},
   "outputs": [],
   "source": [
    "error_bars = base_before.mark_rule().encode(\n",
    "    x='ci0(overdose_per_100k):Q',\n",
    "    x2='ci1(overdose_per_100k):Q',\n",
    ")\n"
   ]
  },
  {
   "cell_type": "code",
   "execution_count": null,
   "metadata": {},
   "outputs": [
    {
     "data": {
      "text/html": [
       "\n",
       "<div id=\"altair-viz-2bc00935bf3d41af8678e29c284cb742\"></div>\n",
       "<script type=\"text/javascript\">\n",
       "  var VEGA_DEBUG = (typeof VEGA_DEBUG == \"undefined\") ? {} : VEGA_DEBUG;\n",
       "  (function(spec, embedOpt){\n",
       "    let outputDiv = document.currentScript.previousElementSibling;\n",
       "    if (outputDiv.id !== \"altair-viz-2bc00935bf3d41af8678e29c284cb742\") {\n",
       "      outputDiv = document.getElementById(\"altair-viz-2bc00935bf3d41af8678e29c284cb742\");\n",
       "    }\n",
       "    const paths = {\n",
       "      \"vega\": \"https://cdn.jsdelivr.net/npm//vega@5?noext\",\n",
       "      \"vega-lib\": \"https://cdn.jsdelivr.net/npm//vega-lib?noext\",\n",
       "      \"vega-lite\": \"https://cdn.jsdelivr.net/npm//vega-lite@4.17.0?noext\",\n",
       "      \"vega-embed\": \"https://cdn.jsdelivr.net/npm//vega-embed@6?noext\",\n",
       "    };\n",
       "\n",
       "    function maybeLoadScript(lib, version) {\n",
       "      var key = `${lib.replace(\"-\", \"\")}_version`;\n",
       "      return (VEGA_DEBUG[key] == version) ?\n",
       "        Promise.resolve(paths[lib]) :\n",
       "        new Promise(function(resolve, reject) {\n",
       "          var s = document.createElement('script');\n",
       "          document.getElementsByTagName(\"head\")[0].appendChild(s);\n",
       "          s.async = true;\n",
       "          s.onload = () => {\n",
       "            VEGA_DEBUG[key] = version;\n",
       "            return resolve(paths[lib]);\n",
       "          };\n",
       "          s.onerror = () => reject(`Error loading script: ${paths[lib]}`);\n",
       "          s.src = paths[lib];\n",
       "        });\n",
       "    }\n",
       "\n",
       "    function showError(err) {\n",
       "      outputDiv.innerHTML = `<div class=\"error\" style=\"color:red;\">${err}</div>`;\n",
       "      throw err;\n",
       "    }\n",
       "\n",
       "    function displayChart(vegaEmbed) {\n",
       "      vegaEmbed(outputDiv, spec, embedOpt)\n",
       "        .catch(err => showError(`Javascript Error: ${err.message}<br>This usually means there's a typo in your chart specification. See the javascript console for the full traceback.`));\n",
       "    }\n",
       "\n",
       "    if(typeof define === \"function\" && define.amd) {\n",
       "      requirejs.config({paths});\n",
       "      require([\"vega-embed\"], displayChart, err => showError(`Error loading script: ${err.message}`));\n",
       "    } else {\n",
       "      maybeLoadScript(\"vega\", \"5\")\n",
       "        .then(() => maybeLoadScript(\"vega-lite\", \"4.17.0\"))\n",
       "        .then(() => maybeLoadScript(\"vega-embed\", \"6\"))\n",
       "        .catch(showError)\n",
       "        .then(() => displayChart(vegaEmbed));\n",
       "    }\n",
       "  })({\"config\": {\"view\": {\"continuousWidth\": 400, \"continuousHeight\": 300}}, \"data\": {\"name\": \"data-a2702a7e9e889a7f9b444e25420e1d1c\"}, \"mark\": \"rule\", \"encoding\": {\"x\": {\"aggregate\": \"ci0\", \"field\": \"overdose_per_100k\", \"type\": \"quantitative\"}, \"x2\": {\"aggregate\": \"ci1\", \"field\": \"overdose_per_100k\"}, \"y\": {\"field\": \"overdose_per_100k\", \"scale\": {\"zero\": false}, \"type\": \"quantitative\"}}, \"title\": \"deaths before policy\", \"$schema\": \"https://vega.github.io/schema/vega-lite/v4.17.0.json\", \"datasets\": {\"data-a2702a7e9e889a7f9b444e25420e1d1c\": [{\"Year\": 2004.0, \"overdose_per_100k\": 8.102934192098285, \"year relative to policy\": -3}, {\"Year\": 2005.0, \"overdose_per_100k\": 9.22012425721344, \"year relative to policy\": -2}, {\"Year\": 2006.0, \"overdose_per_100k\": 12.83385135109181, \"year relative to policy\": -1}]}}, {\"mode\": \"vega-lite\"});\n",
       "</script>"
      ],
      "text/plain": [
       "alt.Chart(...)"
      ]
     },
     "execution_count": 42,
     "metadata": {},
     "output_type": "execute_result"
    }
   ],
   "source": [
    "error_bars"
   ]
  },
  {
   "cell_type": "code",
   "execution_count": null,
   "metadata": {},
   "outputs": [],
   "source": [
    "band = alt.Chart(base_before).mark_area(\n",
    "    opacity=0.5\n",
    ").encode(\n",
    "    x='overdose_per_100k:Q',\n",
    "    y='lower:N',\n",
    "    y2='upper:N'\n",
    ")"
   ]
  },
  {
   "cell_type": "code",
   "execution_count": null,
   "metadata": {},
   "outputs": [
    {
     "name": "stderr",
     "output_type": "stream",
     "text": [
      "c:\\Users\\abzdel\\AppData\\Local\\Programs\\Python\\Python39\\lib\\site-packages\\altair\\vegalite\\v4\\api.py:101: UserWarning: data of type <class 'altair.vegalite.v4.api.Chart'> not recognized\n"
     ]
    },
    {
     "ename": "SchemaValidationError",
     "evalue": "Invalid specification\n\n        altair.vegalite.v4.api.Chart->0, validating 'anyOf'\n\n        {'data': {'name': 'data-a2702a7e9e889a7f9b444e25420e1d1c'}, 'mark': 'point', 'encoding': {'x': {'field': 'year relative to policy', 'scale': {'zero': False}, 'type': 'quantitative'}, 'y': {'field': 'overdose_per_100k', 'scale': {'zero': False}, 'type': 'quantitative'}}, 'title': 'deaths before policy'} is not valid under any of the given schemas\n        ",
     "output_type": "error",
     "traceback": [
      "\u001b[1;31m---------------------------------------------------------------------------\u001b[0m",
      "\u001b[1;31mSchemaValidationError\u001b[0m                     Traceback (most recent call last)",
      "\u001b[1;32mc:\\Users\\abzdel\\AppData\\Local\\Programs\\Python\\Python39\\lib\\site-packages\\altair\\vegalite\\v4\\api.py\u001b[0m in \u001b[0;36mto_dict\u001b[1;34m(self, *args, **kwargs)\u001b[0m\n\u001b[0;32m   2018\u001b[0m             \u001b[0mcopy\u001b[0m\u001b[1;33m.\u001b[0m\u001b[0mdata\u001b[0m \u001b[1;33m=\u001b[0m \u001b[0mcore\u001b[0m\u001b[1;33m.\u001b[0m\u001b[0mInlineData\u001b[0m\u001b[1;33m(\u001b[0m\u001b[0mvalues\u001b[0m\u001b[1;33m=\u001b[0m\u001b[1;33m[\u001b[0m\u001b[1;33m{\u001b[0m\u001b[1;33m}\u001b[0m\u001b[1;33m]\u001b[0m\u001b[1;33m)\u001b[0m\u001b[1;33m\u001b[0m\u001b[1;33m\u001b[0m\u001b[0m\n\u001b[0;32m   2019\u001b[0m             \u001b[1;32mreturn\u001b[0m \u001b[0msuper\u001b[0m\u001b[1;33m(\u001b[0m\u001b[0mChart\u001b[0m\u001b[1;33m,\u001b[0m \u001b[0mcopy\u001b[0m\u001b[1;33m)\u001b[0m\u001b[1;33m.\u001b[0m\u001b[0mto_dict\u001b[0m\u001b[1;33m(\u001b[0m\u001b[1;33m*\u001b[0m\u001b[0margs\u001b[0m\u001b[1;33m,\u001b[0m \u001b[1;33m**\u001b[0m\u001b[0mkwargs\u001b[0m\u001b[1;33m)\u001b[0m\u001b[1;33m\u001b[0m\u001b[1;33m\u001b[0m\u001b[0m\n\u001b[1;32m-> 2020\u001b[1;33m         \u001b[1;32mreturn\u001b[0m \u001b[0msuper\u001b[0m\u001b[1;33m(\u001b[0m\u001b[1;33m)\u001b[0m\u001b[1;33m.\u001b[0m\u001b[0mto_dict\u001b[0m\u001b[1;33m(\u001b[0m\u001b[1;33m*\u001b[0m\u001b[0margs\u001b[0m\u001b[1;33m,\u001b[0m \u001b[1;33m**\u001b[0m\u001b[0mkwargs\u001b[0m\u001b[1;33m)\u001b[0m\u001b[1;33m\u001b[0m\u001b[1;33m\u001b[0m\u001b[0m\n\u001b[0m\u001b[0;32m   2021\u001b[0m \u001b[1;33m\u001b[0m\u001b[0m\n\u001b[0;32m   2022\u001b[0m     \u001b[1;32mdef\u001b[0m \u001b[0madd_selection\u001b[0m\u001b[1;33m(\u001b[0m\u001b[0mself\u001b[0m\u001b[1;33m,\u001b[0m \u001b[1;33m*\u001b[0m\u001b[0mselections\u001b[0m\u001b[1;33m)\u001b[0m\u001b[1;33m:\u001b[0m\u001b[1;33m\u001b[0m\u001b[1;33m\u001b[0m\u001b[0m\n",
      "\u001b[1;32mc:\\Users\\abzdel\\AppData\\Local\\Programs\\Python\\Python39\\lib\\site-packages\\altair\\vegalite\\v4\\api.py\u001b[0m in \u001b[0;36mto_dict\u001b[1;34m(self, *args, **kwargs)\u001b[0m\n\u001b[0;32m    391\u001b[0m         \u001b[1;32mif\u001b[0m \u001b[0mdct\u001b[0m \u001b[1;32mis\u001b[0m \u001b[1;32mNone\u001b[0m\u001b[1;33m:\u001b[0m\u001b[1;33m\u001b[0m\u001b[1;33m\u001b[0m\u001b[0m\n\u001b[0;32m    392\u001b[0m             \u001b[0mkwargs\u001b[0m\u001b[1;33m[\u001b[0m\u001b[1;34m\"validate\"\u001b[0m\u001b[1;33m]\u001b[0m \u001b[1;33m=\u001b[0m \u001b[1;34m\"deep\"\u001b[0m\u001b[1;33m\u001b[0m\u001b[1;33m\u001b[0m\u001b[0m\n\u001b[1;32m--> 393\u001b[1;33m             \u001b[0mdct\u001b[0m \u001b[1;33m=\u001b[0m \u001b[0msuper\u001b[0m\u001b[1;33m(\u001b[0m\u001b[0mTopLevelMixin\u001b[0m\u001b[1;33m,\u001b[0m \u001b[0mcopy\u001b[0m\u001b[1;33m)\u001b[0m\u001b[1;33m.\u001b[0m\u001b[0mto_dict\u001b[0m\u001b[1;33m(\u001b[0m\u001b[1;33m*\u001b[0m\u001b[0margs\u001b[0m\u001b[1;33m,\u001b[0m \u001b[1;33m**\u001b[0m\u001b[0mkwargs\u001b[0m\u001b[1;33m)\u001b[0m\u001b[1;33m\u001b[0m\u001b[1;33m\u001b[0m\u001b[0m\n\u001b[0m\u001b[0;32m    394\u001b[0m \u001b[1;33m\u001b[0m\u001b[0m\n\u001b[0;32m    395\u001b[0m         \u001b[1;31m# TODO: following entries are added after validation. Should they be validated?\u001b[0m\u001b[1;33m\u001b[0m\u001b[1;33m\u001b[0m\u001b[1;33m\u001b[0m\u001b[0m\n",
      "\u001b[1;32mc:\\Users\\abzdel\\AppData\\Local\\Programs\\Python\\Python39\\lib\\site-packages\\altair\\utils\\schemapi.py\u001b[0m in \u001b[0;36mto_dict\u001b[1;34m(self, validate, ignore, context)\u001b[0m\n\u001b[0;32m    338\u001b[0m                 \u001b[0mself\u001b[0m\u001b[1;33m.\u001b[0m\u001b[0mvalidate\u001b[0m\u001b[1;33m(\u001b[0m\u001b[0mresult\u001b[0m\u001b[1;33m)\u001b[0m\u001b[1;33m\u001b[0m\u001b[1;33m\u001b[0m\u001b[0m\n\u001b[0;32m    339\u001b[0m             \u001b[1;32mexcept\u001b[0m \u001b[0mjsonschema\u001b[0m\u001b[1;33m.\u001b[0m\u001b[0mValidationError\u001b[0m \u001b[1;32mas\u001b[0m \u001b[0merr\u001b[0m\u001b[1;33m:\u001b[0m\u001b[1;33m\u001b[0m\u001b[1;33m\u001b[0m\u001b[0m\n\u001b[1;32m--> 340\u001b[1;33m                 \u001b[1;32mraise\u001b[0m \u001b[0mSchemaValidationError\u001b[0m\u001b[1;33m(\u001b[0m\u001b[0mself\u001b[0m\u001b[1;33m,\u001b[0m \u001b[0merr\u001b[0m\u001b[1;33m)\u001b[0m\u001b[1;33m\u001b[0m\u001b[1;33m\u001b[0m\u001b[0m\n\u001b[0m\u001b[0;32m    341\u001b[0m         \u001b[1;32mreturn\u001b[0m \u001b[0mresult\u001b[0m\u001b[1;33m\u001b[0m\u001b[1;33m\u001b[0m\u001b[0m\n\u001b[0;32m    342\u001b[0m \u001b[1;33m\u001b[0m\u001b[0m\n",
      "\u001b[1;31mSchemaValidationError\u001b[0m: Invalid specification\n\n        altair.vegalite.v4.api.Chart->0, validating 'anyOf'\n\n        {'data': {'name': 'data-a2702a7e9e889a7f9b444e25420e1d1c'}, 'mark': 'point', 'encoding': {'x': {'field': 'year relative to policy', 'scale': {'zero': False}, 'type': 'quantitative'}, 'y': {'field': 'overdose_per_100k', 'scale': {'zero': False}, 'type': 'quantitative'}}, 'title': 'deaths before policy'} is not valid under any of the given schemas\n        "
     ]
    },
    {
     "data": {
      "text/plain": [
       "alt.Chart(...)"
      ]
     },
     "execution_count": 44,
     "metadata": {},
     "output_type": "execute_result"
    }
   ],
   "source": [
    "band"
   ]
  },
  {
   "cell_type": "code",
   "execution_count": null,
   "metadata": {},
   "outputs": [
    {
     "data": {
      "text/html": [
       "<div>\n",
       "<style scoped>\n",
       "    .dataframe tbody tr th:only-of-type {\n",
       "        vertical-align: middle;\n",
       "    }\n",
       "\n",
       "    .dataframe tbody tr th {\n",
       "        vertical-align: top;\n",
       "    }\n",
       "\n",
       "    .dataframe thead th {\n",
       "        text-align: right;\n",
       "    }\n",
       "</style>\n",
       "<table border=\"1\" class=\"dataframe\">\n",
       "  <thead>\n",
       "    <tr style=\"text-align: right;\">\n",
       "      <th></th>\n",
       "      <th>Year</th>\n",
       "      <th>overdose_per_100k</th>\n",
       "      <th>year relative to policy</th>\n",
       "    </tr>\n",
       "  </thead>\n",
       "  <tbody>\n",
       "    <tr>\n",
       "      <th>0</th>\n",
       "      <td>2004.0</td>\n",
       "      <td>8.102934</td>\n",
       "      <td>-3</td>\n",
       "    </tr>\n",
       "    <tr>\n",
       "      <th>1</th>\n",
       "      <td>2005.0</td>\n",
       "      <td>9.220124</td>\n",
       "      <td>-2</td>\n",
       "    </tr>\n",
       "    <tr>\n",
       "      <th>2</th>\n",
       "      <td>2006.0</td>\n",
       "      <td>12.833851</td>\n",
       "      <td>-1</td>\n",
       "    </tr>\n",
       "  </tbody>\n",
       "</table>\n",
       "</div>"
      ],
      "text/plain": [
       "     Year  overdose_per_100k  year relative to policy\n",
       "0  2004.0           8.102934                       -3\n",
       "1  2005.0           9.220124                       -2\n",
       "2  2006.0          12.833851                       -1"
      ]
     },
     "execution_count": 42,
     "metadata": {},
     "output_type": "execute_result"
    }
   ],
   "source": [
    "tx_b4"
   ]
  },
  {
   "cell_type": "code",
   "execution_count": null,
   "metadata": {},
   "outputs": [],
   "source": [
    "mean_points = alt.Chart(tx_b4).mark_circle(color='black').encode(\n",
    "    alt.X(\"overdoses_per_100k:Q\", bin=True),\n",
    "    y='year relative to policy:Q',\n",
    ")\n",
    "\n",
    "error_bars = alt.Chart(tx_after).mark_errorbar(extent='ci').encode(\n",
    "    alt.X(\"overdoses_per_100k:Q\", bin=True),\n",
    "    y='year relative to policy:Q',\n",
    ")"
   ]
  },
  {
   "cell_type": "code",
   "execution_count": null,
   "metadata": {},
   "outputs": [
    {
     "data": {
      "text/html": [
       "\n",
       "<div id=\"altair-viz-a0eddbaa6a2c41e39fd839660df345de\"></div>\n",
       "<script type=\"text/javascript\">\n",
       "  var VEGA_DEBUG = (typeof VEGA_DEBUG == \"undefined\") ? {} : VEGA_DEBUG;\n",
       "  (function(spec, embedOpt){\n",
       "    let outputDiv = document.currentScript.previousElementSibling;\n",
       "    if (outputDiv.id !== \"altair-viz-a0eddbaa6a2c41e39fd839660df345de\") {\n",
       "      outputDiv = document.getElementById(\"altair-viz-a0eddbaa6a2c41e39fd839660df345de\");\n",
       "    }\n",
       "    const paths = {\n",
       "      \"vega\": \"https://cdn.jsdelivr.net/npm//vega@5?noext\",\n",
       "      \"vega-lib\": \"https://cdn.jsdelivr.net/npm//vega-lib?noext\",\n",
       "      \"vega-lite\": \"https://cdn.jsdelivr.net/npm//vega-lite@4.17.0?noext\",\n",
       "      \"vega-embed\": \"https://cdn.jsdelivr.net/npm//vega-embed@6?noext\",\n",
       "    };\n",
       "\n",
       "    function maybeLoadScript(lib, version) {\n",
       "      var key = `${lib.replace(\"-\", \"\")}_version`;\n",
       "      return (VEGA_DEBUG[key] == version) ?\n",
       "        Promise.resolve(paths[lib]) :\n",
       "        new Promise(function(resolve, reject) {\n",
       "          var s = document.createElement('script');\n",
       "          document.getElementsByTagName(\"head\")[0].appendChild(s);\n",
       "          s.async = true;\n",
       "          s.onload = () => {\n",
       "            VEGA_DEBUG[key] = version;\n",
       "            return resolve(paths[lib]);\n",
       "          };\n",
       "          s.onerror = () => reject(`Error loading script: ${paths[lib]}`);\n",
       "          s.src = paths[lib];\n",
       "        });\n",
       "    }\n",
       "\n",
       "    function showError(err) {\n",
       "      outputDiv.innerHTML = `<div class=\"error\" style=\"color:red;\">${err}</div>`;\n",
       "      throw err;\n",
       "    }\n",
       "\n",
       "    function displayChart(vegaEmbed) {\n",
       "      vegaEmbed(outputDiv, spec, embedOpt)\n",
       "        .catch(err => showError(`Javascript Error: ${err.message}<br>This usually means there's a typo in your chart specification. See the javascript console for the full traceback.`));\n",
       "    }\n",
       "\n",
       "    if(typeof define === \"function\" && define.amd) {\n",
       "      requirejs.config({paths});\n",
       "      require([\"vega-embed\"], displayChart, err => showError(`Error loading script: ${err.message}`));\n",
       "    } else {\n",
       "      maybeLoadScript(\"vega\", \"5\")\n",
       "        .then(() => maybeLoadScript(\"vega-lite\", \"4.17.0\"))\n",
       "        .then(() => maybeLoadScript(\"vega-embed\", \"6\"))\n",
       "        .catch(showError)\n",
       "        .then(() => displayChart(vegaEmbed));\n",
       "    }\n",
       "  })({\"config\": {\"view\": {\"continuousWidth\": 400, \"continuousHeight\": 300}}, \"layer\": [{\"data\": {\"name\": \"data-a2702a7e9e889a7f9b444e25420e1d1c\"}, \"mark\": {\"type\": \"circle\", \"color\": \"black\"}, \"encoding\": {\"x\": {\"bin\": true, \"field\": \"overdoses_per_100k\", \"type\": \"quantitative\"}, \"y\": {\"field\": \"year relative to policy\", \"type\": \"quantitative\"}}}, {\"data\": {\"name\": \"data-62a31d00ba8e1f1d76c06a6982492a56\"}, \"mark\": {\"type\": \"errorbar\", \"extent\": \"ci\"}, \"encoding\": {\"x\": {\"bin\": true, \"field\": \"overdoses_per_100k\", \"type\": \"quantitative\"}, \"y\": {\"field\": \"year relative to policy\", \"type\": \"quantitative\"}}}], \"$schema\": \"https://vega.github.io/schema/vega-lite/v4.17.0.json\", \"datasets\": {\"data-a2702a7e9e889a7f9b444e25420e1d1c\": [{\"Year\": 2004.0, \"overdose_per_100k\": 8.102934192098285, \"year relative to policy\": -3}, {\"Year\": 2005.0, \"overdose_per_100k\": 9.22012425721344, \"year relative to policy\": -2}, {\"Year\": 2006.0, \"overdose_per_100k\": 12.83385135109181, \"year relative to policy\": -1}], \"data-62a31d00ba8e1f1d76c06a6982492a56\": [{\"Year\": 2008.0, \"overdose_per_100k\": 10.315215028761699, \"year relative to policy\": 1}, {\"Year\": 2009.0, \"overdose_per_100k\": 11.567287418113091, \"year relative to policy\": 2}, {\"Year\": 2010.0, \"overdose_per_100k\": 10.657726875910054, \"year relative to policy\": 3}]}}, {\"mode\": \"vega-lite\"});\n",
       "</script>"
      ],
      "text/plain": [
       "alt.LayerChart(...)"
      ]
     },
     "execution_count": 46,
     "metadata": {},
     "output_type": "execute_result"
    }
   ],
   "source": [
    "mean_points + error_bars"
   ]
  },
  {
   "cell_type": "code",
   "execution_count": null,
   "metadata": {},
   "outputs": [
    {
     "data": {
      "text/html": [
       "\n",
       "<div id=\"altair-viz-927a83752e4c44f68c48029c26540fbd\"></div>\n",
       "<script type=\"text/javascript\">\n",
       "  var VEGA_DEBUG = (typeof VEGA_DEBUG == \"undefined\") ? {} : VEGA_DEBUG;\n",
       "  (function(spec, embedOpt){\n",
       "    let outputDiv = document.currentScript.previousElementSibling;\n",
       "    if (outputDiv.id !== \"altair-viz-927a83752e4c44f68c48029c26540fbd\") {\n",
       "      outputDiv = document.getElementById(\"altair-viz-927a83752e4c44f68c48029c26540fbd\");\n",
       "    }\n",
       "    const paths = {\n",
       "      \"vega\": \"https://cdn.jsdelivr.net/npm//vega@5?noext\",\n",
       "      \"vega-lib\": \"https://cdn.jsdelivr.net/npm//vega-lib?noext\",\n",
       "      \"vega-lite\": \"https://cdn.jsdelivr.net/npm//vega-lite@4.17.0?noext\",\n",
       "      \"vega-embed\": \"https://cdn.jsdelivr.net/npm//vega-embed@6?noext\",\n",
       "    };\n",
       "\n",
       "    function maybeLoadScript(lib, version) {\n",
       "      var key = `${lib.replace(\"-\", \"\")}_version`;\n",
       "      return (VEGA_DEBUG[key] == version) ?\n",
       "        Promise.resolve(paths[lib]) :\n",
       "        new Promise(function(resolve, reject) {\n",
       "          var s = document.createElement('script');\n",
       "          document.getElementsByTagName(\"head\")[0].appendChild(s);\n",
       "          s.async = true;\n",
       "          s.onload = () => {\n",
       "            VEGA_DEBUG[key] = version;\n",
       "            return resolve(paths[lib]);\n",
       "          };\n",
       "          s.onerror = () => reject(`Error loading script: ${paths[lib]}`);\n",
       "          s.src = paths[lib];\n",
       "        });\n",
       "    }\n",
       "\n",
       "    function showError(err) {\n",
       "      outputDiv.innerHTML = `<div class=\"error\" style=\"color:red;\">${err}</div>`;\n",
       "      throw err;\n",
       "    }\n",
       "\n",
       "    function displayChart(vegaEmbed) {\n",
       "      vegaEmbed(outputDiv, spec, embedOpt)\n",
       "        .catch(err => showError(`Javascript Error: ${err.message}<br>This usually means there's a typo in your chart specification. See the javascript console for the full traceback.`));\n",
       "    }\n",
       "\n",
       "    if(typeof define === \"function\" && define.amd) {\n",
       "      requirejs.config({paths});\n",
       "      require([\"vega-embed\"], displayChart, err => showError(`Error loading script: ${err.message}`));\n",
       "    } else {\n",
       "      maybeLoadScript(\"vega\", \"5\")\n",
       "        .then(() => maybeLoadScript(\"vega-lite\", \"4.17.0\"))\n",
       "        .then(() => maybeLoadScript(\"vega-embed\", \"6\"))\n",
       "        .catch(showError)\n",
       "        .then(() => displayChart(vegaEmbed));\n",
       "    }\n",
       "  })({\"config\": {\"view\": {\"continuousWidth\": 400, \"continuousHeight\": 300}}, \"layer\": [{\"data\": {\"name\": \"data-a2702a7e9e889a7f9b444e25420e1d1c\"}, \"mark\": \"line\", \"encoding\": {\"color\": {\"value\": \"red\"}, \"x\": {\"field\": \"year relative to policy\", \"scale\": {\"zero\": false}, \"type\": \"quantitative\"}, \"y\": {\"field\": \"overdose_per_100k\", \"scale\": {\"zero\": false}, \"type\": \"quantitative\"}}, \"title\": \"deaths before policy\", \"transform\": [{\"on\": \"year relative to policy\", \"regression\": \"overdose_per_100k\"}]}, {\"data\": {\"name\": \"data-62a31d00ba8e1f1d76c06a6982492a56\"}, \"mark\": \"line\", \"encoding\": {\"color\": {\"value\": \"red\"}, \"x\": {\"field\": \"year relative to policy\", \"scale\": {\"zero\": false}, \"type\": \"quantitative\"}, \"y\": {\"field\": \"overdose_per_100k\", \"scale\": {\"zero\": false}, \"type\": \"quantitative\"}}, \"title\": \"deaths after policy\", \"transform\": [{\"on\": \"year relative to policy\", \"regression\": \"overdose_per_100k\"}]}, {\"data\": {\"name\": \"data-62a31d00ba8e1f1d76c06a6982492a56\"}, \"mark\": {\"type\": \"errorbar\", \"extent\": \"ci\"}, \"encoding\": {\"x\": {\"bin\": true, \"field\": \"overdoses_per_100k\", \"type\": \"quantitative\"}, \"y\": {\"field\": \"year relative to policy\", \"type\": \"quantitative\"}}}], \"$schema\": \"https://vega.github.io/schema/vega-lite/v4.17.0.json\", \"datasets\": {\"data-a2702a7e9e889a7f9b444e25420e1d1c\": [{\"Year\": 2004.0, \"overdose_per_100k\": 8.102934192098285, \"year relative to policy\": -3}, {\"Year\": 2005.0, \"overdose_per_100k\": 9.22012425721344, \"year relative to policy\": -2}, {\"Year\": 2006.0, \"overdose_per_100k\": 12.83385135109181, \"year relative to policy\": -1}], \"data-62a31d00ba8e1f1d76c06a6982492a56\": [{\"Year\": 2008.0, \"overdose_per_100k\": 10.315215028761699, \"year relative to policy\": 1}, {\"Year\": 2009.0, \"overdose_per_100k\": 11.567287418113091, \"year relative to policy\": 2}, {\"Year\": 2010.0, \"overdose_per_100k\": 10.657726875910054, \"year relative to policy\": 3}]}}, {\"mode\": \"vega-lite\"});\n",
       "</script>"
      ],
      "text/plain": [
       "alt.LayerChart(...)"
      ]
     },
     "execution_count": 47,
     "metadata": {},
     "output_type": "execute_result"
    }
   ],
   "source": [
    "fit_b4 + fit_after + error_bars"
   ]
  }
 ],
 "metadata": {
  "kernelspec": {
   "display_name": "Python 3.9.6 64-bit",
   "language": "python",
   "name": "python3"
  },
  "language_info": {
   "codemirror_mode": {
    "name": "ipython",
    "version": 3
   },
   "file_extension": ".py",
   "mimetype": "text/x-python",
   "name": "python",
   "nbconvert_exporter": "python",
   "pygments_lexer": "ipython3",
   "version": "3.9.6"
  },
  "orig_nbformat": 4,
  "vscode": {
   "interpreter": {
    "hash": "49aa7209ac0e1a36a89cb04290394fd089cb5ce56cb44c9d4652c0180c6152a2"
   }
  }
 },
 "nbformat": 4,
 "nbformat_minor": 2
}
