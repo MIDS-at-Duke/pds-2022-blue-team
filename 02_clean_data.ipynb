{
 "cells": [
  {
   "cell_type": "code",
   "execution_count": 97,
   "metadata": {},
   "outputs": [],
   "source": [
    "import pandas as pd\n",
    "from datetime import datetime\n",
    "import numpy as np\n",
    "import glob\n",
    "import os\n"
   ]
  },
  {
   "cell_type": "markdown",
   "metadata": {},
   "source": [
    "## Clean up overdose data"
   ]
  },
  {
   "cell_type": "code",
   "execution_count": 98,
   "metadata": {},
   "outputs": [],
   "source": [
    "orig_cols_to_keep = [\"REPORTER_DEA_NO\", \"REPORTER_STATE\", \"REPORTER_ZIP\", \"REPORTER_COUNTY\", \"DRUG_CODE\", \"TRANSACTION_CODE\", \"DRUG_NAME\", \"QUANTITY\", \"TRANSACTION_DATE\", \"CALC_BASE_WT_IN_GM\", \"DOSAGE_UNIT\",\n",
    "                \"TRANSACTION_ID\", \"Product_Name\", \"Ingredient_Name\", \"Measure\", \"dos_str\"]\n",
    "# keeping more columns than is probably necessary\n",
    "# just want to make sure we have everything we need, as well as have the opportunity to catch any further filtering we miss at first\n",
    "pd.set_option('display.max_columns', None)\n"
   ]
  },
  {
   "cell_type": "code",
   "execution_count": 99,
   "metadata": {},
   "outputs": [
    {
     "data": {
      "text/plain": [
       "2019"
      ]
     },
     "execution_count": 99,
     "metadata": {},
     "output_type": "execute_result"
    }
   ],
   "source": [
    "def find_year(TRANSACTION_DATE):\n",
    "    \"\"\"\n",
    "    Args:\n",
    "        TRANSACTION_DATE (str): date in format MMDDYYYY\n",
    "\n",
    "    Returns:\n",
    "        int: year\n",
    "    \"\"\"\n",
    "    TRANSACTION_DATE = str(TRANSACTION_DATE)\n",
    "    \n",
    "    return int(TRANSACTION_DATE[-4:])\n",
    "\n",
    "# quick test \n",
    "find_year(12202019)"
   ]
  },
  {
   "cell_type": "code",
   "execution_count": 100,
   "metadata": {},
   "outputs": [],
   "source": [
    "# to load in the data, we need to truncate the amount of columns we use as well as the states\n",
    "cols_to_keep = [\"REPORTER_DEA_NO\", \"REPORTER_STATE\", \"REPORTER_ZIP\", \"REPORTER_COUNTY\", \"DRUG_CODE\", \"TRANSACTION_CODE\", \"DRUG_NAME\", \"QUANTITY\", \"TRANSACTION_DATE\", \"Product_Name\"]\n",
    "\n",
    "# we know we need Florida, Texas, and Washington\n",
    "states = [\"FL\", \"TX\", \"WA\"]\n",
    "# since we are normalizing based on population, I think we should pick states that are regionally close to one another\n",
    "# we can change this later as a group, but I have these selected below:\n",
    "variable_states = [\"GA\", \"OK\", \"OR\"]\n",
    "\n",
    "# append variable states to our original list\n",
    "states.extend(variable_states)\n",
    "\n",
    "# now, load in our data as an iterator so we can load in chunks\n",
    "it = pd.read_csv(\"00_source_data/arcos_all_washpost.tsv\", chunksize=500_000, sep='\\t', usecols = cols_to_keep) # may have to change chunksize depending on your computer's memory\n",
    "\n",
    "# init empty dataframe\n",
    "df = pd.DataFrame()\n",
    "\n",
    "for chunk in it:\n",
    "    # extract year out of date column\n",
    "    chunk[\"year\"] = chunk[\"TRANSACTION_DATE\"].apply(lambda x: find_year(x))\n",
    "\n",
    "    # ensure we're working in the correct date range\n",
    "    filtered_chunk = chunk[chunk[\"year\"] > 2002]\n",
    "    filtered_chunk = filtered_chunk[filtered_chunk[\"year\"] < 2016]\n",
    "\n",
    "    # filter out the states we want\n",
    "    filtered_chunk = filtered_chunk[filtered_chunk[\"REPORTER_STATE\"].isin(states)]\n",
    "\n",
    "    df = df.append(filtered_chunk)\n",
    "    break\n",
    "df\n",
    "\n",
    "df_overdoses = df.copy() # keep a copy of this df for later filtering"
   ]
  },
  {
   "cell_type": "code",
   "execution_count": 101,
   "metadata": {},
   "outputs": [],
   "source": [
    "# now that we have our columns and states filtered, let's export this as a csv and store the (much smaller) result on github\n",
    "\n",
    "df.to_csv(\"05_cleaned_data/arcos_all_washpost_clean.csv\", index=False)"
   ]
  },
  {
   "cell_type": "markdown",
   "metadata": {},
   "source": [
    "## Clean up cause of death data"
   ]
  },
  {
   "cell_type": "code",
   "execution_count": 102,
   "metadata": {},
   "outputs": [],
   "source": [
    "path = r'00_source_data/cause_of_death' # use your path\n",
    "filenames = glob.glob(path + \"/*.txt\")\n",
    "\n",
    "df = pd.DataFrame()\n",
    "\n",
    "for f in filenames:\n",
    "    temp = pd.read_csv(f, index_col=None, header=0, sep='\\t')\n",
    "    # we're getting some extraneous notes at the bottom - let's just drop for now\n",
    "    temp.dropna(subset={'County'}, inplace=True)\n",
    "    \n",
    "    df = pd.concat([df, temp], axis=0, ignore_index=True)"
   ]
  },
  {
   "cell_type": "code",
   "execution_count": 103,
   "metadata": {},
   "outputs": [],
   "source": [
    "# helper functions to separate county and state\n",
    "\n",
    "def abtract_state(county):\n",
    "    \"\"\"\n",
    "    Args:\n",
    "        county (str): county name\n",
    "\n",
    "    Returns:\n",
    "        str: state\n",
    "    \"\"\"\n",
    "    return county.split(\", \")[1]\n",
    "\n",
    "\n",
    "\n",
    "def abstract_county(county):\n",
    "    \"\"\"\n",
    "    Args:\n",
    "        county (str): county name\n",
    "\n",
    "    Returns:\n",
    "        str: county\n",
    "    \"\"\"\n",
    "    return county.split(\", \")[0]\n",
    "\n",
    "\n",
    "df[\"State\"] = df.apply(lambda x: abtract_state(x[\"County\"]), axis=1)\n",
    "df[\"County\"] = df.apply(lambda x: abstract_county(x[\"County\"]), axis=1)\n",
    "\n",
    "df.drop(columns={\"Notes\"}, inplace=True)"
   ]
  },
  {
   "cell_type": "code",
   "execution_count": 104,
   "metadata": {},
   "outputs": [
    {
     "data": {
      "text/html": [
       "<div>\n",
       "<style scoped>\n",
       "    .dataframe tbody tr th:only-of-type {\n",
       "        vertical-align: middle;\n",
       "    }\n",
       "\n",
       "    .dataframe tbody tr th {\n",
       "        vertical-align: top;\n",
       "    }\n",
       "\n",
       "    .dataframe thead th {\n",
       "        text-align: right;\n",
       "    }\n",
       "</style>\n",
       "<table border=\"1\" class=\"dataframe\">\n",
       "  <thead>\n",
       "    <tr style=\"text-align: right;\">\n",
       "      <th></th>\n",
       "      <th>County</th>\n",
       "      <th>County Code</th>\n",
       "      <th>Year</th>\n",
       "      <th>Year Code</th>\n",
       "      <th>Drug/Alcohol Induced Cause</th>\n",
       "      <th>Drug/Alcohol Induced Cause Code</th>\n",
       "      <th>Deaths</th>\n",
       "      <th>State</th>\n",
       "    </tr>\n",
       "  </thead>\n",
       "  <tbody>\n",
       "    <tr>\n",
       "      <th>0</th>\n",
       "      <td>Autauga County</td>\n",
       "      <td>1001.0</td>\n",
       "      <td>2003.0</td>\n",
       "      <td>2003.0</td>\n",
       "      <td>All other non-drug and non-alcohol causes</td>\n",
       "      <td>O9</td>\n",
       "      <td>397.0</td>\n",
       "      <td>AL</td>\n",
       "    </tr>\n",
       "    <tr>\n",
       "      <th>1</th>\n",
       "      <td>Baldwin County</td>\n",
       "      <td>1003.0</td>\n",
       "      <td>2003.0</td>\n",
       "      <td>2003.0</td>\n",
       "      <td>Drug poisonings (overdose) Unintentional (X40-...</td>\n",
       "      <td>D1</td>\n",
       "      <td>10.0</td>\n",
       "      <td>AL</td>\n",
       "    </tr>\n",
       "    <tr>\n",
       "      <th>2</th>\n",
       "      <td>Baldwin County</td>\n",
       "      <td>1003.0</td>\n",
       "      <td>2003.0</td>\n",
       "      <td>2003.0</td>\n",
       "      <td>All other alcohol-induced causes</td>\n",
       "      <td>A9</td>\n",
       "      <td>14.0</td>\n",
       "      <td>AL</td>\n",
       "    </tr>\n",
       "    <tr>\n",
       "      <th>3</th>\n",
       "      <td>Baldwin County</td>\n",
       "      <td>1003.0</td>\n",
       "      <td>2003.0</td>\n",
       "      <td>2003.0</td>\n",
       "      <td>All other non-drug and non-alcohol causes</td>\n",
       "      <td>O9</td>\n",
       "      <td>1479.0</td>\n",
       "      <td>AL</td>\n",
       "    </tr>\n",
       "    <tr>\n",
       "      <th>4</th>\n",
       "      <td>Barbour County</td>\n",
       "      <td>1005.0</td>\n",
       "      <td>2003.0</td>\n",
       "      <td>2003.0</td>\n",
       "      <td>All other non-drug and non-alcohol causes</td>\n",
       "      <td>O9</td>\n",
       "      <td>287.0</td>\n",
       "      <td>AL</td>\n",
       "    </tr>\n",
       "  </tbody>\n",
       "</table>\n",
       "</div>"
      ],
      "text/plain": [
       "           County  County Code    Year  Year Code  \\\n",
       "0  Autauga County       1001.0  2003.0     2003.0   \n",
       "1  Baldwin County       1003.0  2003.0     2003.0   \n",
       "2  Baldwin County       1003.0  2003.0     2003.0   \n",
       "3  Baldwin County       1003.0  2003.0     2003.0   \n",
       "4  Barbour County       1005.0  2003.0     2003.0   \n",
       "\n",
       "                          Drug/Alcohol Induced Cause  \\\n",
       "0          All other non-drug and non-alcohol causes   \n",
       "1  Drug poisonings (overdose) Unintentional (X40-...   \n",
       "2                   All other alcohol-induced causes   \n",
       "3          All other non-drug and non-alcohol causes   \n",
       "4          All other non-drug and non-alcohol causes   \n",
       "\n",
       "  Drug/Alcohol Induced Cause Code  Deaths State  \n",
       "0                              O9   397.0    AL  \n",
       "1                              D1    10.0    AL  \n",
       "2                              A9    14.0    AL  \n",
       "3                              O9  1479.0    AL  \n",
       "4                              O9   287.0    AL  "
      ]
     },
     "execution_count": 104,
     "metadata": {},
     "output_type": "execute_result"
    }
   ],
   "source": [
    "df.head()"
   ]
  },
  {
   "cell_type": "code",
   "execution_count": 105,
   "metadata": {},
   "outputs": [],
   "source": [
    "df.to_csv(\"05_cleaned_data/cause_of_death_clean.csv\", index=False)"
   ]
  },
  {
   "cell_type": "markdown",
   "metadata": {},
   "source": [
    "## Final 3 datasets\n",
    "\n",
    "We should have: (UNSURE IF WE SHOULD EXTEND DATE RANGES)\n",
    "\n",
    "- Florida and Georgia 2007 - 2013\n",
    "- Texas and Oklahoma 2004 - 2010\n",
    "- Washington and Oregon 2009 - 2015"
   ]
  },
  {
   "cell_type": "markdown",
   "metadata": {},
   "source": [
    "### Drug overdose - broken down by state"
   ]
  },
  {
   "cell_type": "code",
   "execution_count": 117,
   "metadata": {},
   "outputs": [],
   "source": [
    "# Florida and Georgia\n",
    "\n",
    "overdoses_fl_ga = df_overdoses.copy()\n",
    "overdoses_tx_ok = df_overdoses.copy()\n",
    "overdoses_wa_or = df_overdoses.copy()\n",
    "\n",
    "overdoses_fl_ga = overdoses_fl_ga[(overdoses_fl_ga[\"REPORTER_STATE\"] == \"FL\") | (overdoses_fl_ga[\"REPORTER_STATE\"] == \"GA\")]\n",
    "overdoses_tx_ok = overdoses_tx_ok[(overdoses_tx_ok[\"REPORTER_STATE\"] == \"TX\") | (overdoses_tx_ok[\"REPORTER_STATE\"] == \"OK\")]\n",
    "overdoses_wa_or = overdoses_wa_or[(overdoses_wa_or[\"REPORTER_STATE\"] == \"WA\") | (overdoses_wa_or[\"REPORTER_STATE\"] == \"OR\")]\n",
    "\n",
    "\n",
    "\n",
    "# filter appropriate years\n",
    "fl_ga_start = 2007\n",
    "fl_ga_end = 2013\n",
    "\n",
    "tx_ok_start = 2004\n",
    "tx_ok_end = 2010\n",
    "\n",
    "wa_or_start = 2009\n",
    "wa_or_end = 2015\n",
    "\n",
    "\n",
    "overdoses_fl_ga = overdoses_fl_ga[(overdoses_fl_ga[\"year\"] >= fl_ga_start) & (overdoses_fl_ga[\"year\"] <= fl_ga_end)]\n",
    "overdoses_tx_ok = overdoses_tx_ok[(overdoses_tx_ok[\"year\"] >= tx_ok_start) & (overdoses_tx_ok[\"year\"] <= tx_ok_end)]\n",
    "overdoses_wa_or = overdoses_wa_or[(overdoses_wa_or[\"year\"] >= wa_or_start) & (overdoses_wa_or[\"year\"] <= wa_or_end)]\n"
   ]
  },
  {
   "cell_type": "markdown",
   "metadata": {},
   "source": [
    "### Cause of death - broken down by state"
   ]
  },
  {
   "cell_type": "code",
   "execution_count": 119,
   "metadata": {},
   "outputs": [],
   "source": [
    "deaths_fl_ga = df.copy()\n",
    "deaths_tx_ok = df.copy()\n",
    "deaths_wa_or = df.copy()\n",
    "\n",
    "deaths_fl_ga = deaths_fl_ga[(deaths_fl_ga[\"State\"] == \"Florida\") | (deaths_fl_ga[\"State\"] == \"Georgia\")]\n",
    "deaths_tx_ok = deaths_tx_ok[(deaths_tx_ok[\"State\"] == \"Texas\") | (deaths_tx_ok[\"State\"] == \"Oklahoma\")]\n",
    "deaths_wa_or = deaths_wa_or[(deaths_wa_or[\"State\"] == \"Washington\") | (deaths_wa_or[\"State\"] == \"Oregon\")]\n",
    "\n",
    "deaths_fl_ga = deaths_fl_ga[(deaths_fl_ga[\"Year\"] >= fl_ga_start) & (deaths_fl_ga[\"Year\"] <= fl_ga_end)]\n",
    "deaths_tx_ok = deaths_tx_ok[(deaths_tx_ok[\"Year\"] >= tx_ok_start) & (deaths_tx_ok[\"Year\"] <= tx_ok_end)]  \n",
    "deaths_wa_or = deaths_wa_or[(deaths_wa_or[\"Year\"] >= wa_or_start) & (deaths_wa_or[\"Year\"] <= wa_or_end)]"
   ]
  },
  {
   "cell_type": "markdown",
   "metadata": {},
   "source": [
    "### export all to csv"
   ]
  },
  {
   "cell_type": "code",
   "execution_count": 120,
   "metadata": {},
   "outputs": [],
   "source": [
    "overdoses_fl_ga.to_csv(\"05_cleaned_data/overdoses_fl_ga.csv\", index=False)\n",
    "overdoses_tx_ok.to_csv(\"05_cleaned_data/overdoses_tx_ok.csv\", index=False)\n",
    "overdoses_wa_or.to_csv(\"05_cleaned_data/overdoses_wa_or.csv\", index=False)\n",
    "\n",
    "deaths_fl_ga.to_csv(\"05_cleaned_data/deaths_fl_ga.csv\", index=False)\n",
    "deaths_tx_ok.to_csv(\"05_cleaned_data/deaths_tx_ok.csv\", index=False)\n",
    "deaths_wa_or.to_csv(\"05_cleaned_data/deaths_wa_or.csv\", index=False)"
   ]
  },
  {
   "cell_type": "markdown",
   "metadata": {},
   "source": [
    "## Notes for the group\n",
    "\n",
    "- need to normalize over population once we get this data\n",
    "- may need to filter out a couple more columns - haven't done this yet as I don't want to accidentally delete something we need"
   ]
  }
 ],
 "metadata": {
  "kernelspec": {
   "display_name": "Python 3.9.6 64-bit",
   "language": "python",
   "name": "python3"
  },
  "language_info": {
   "codemirror_mode": {
    "name": "ipython",
    "version": 3
   },
   "file_extension": ".py",
   "mimetype": "text/x-python",
   "name": "python",
   "nbconvert_exporter": "python",
   "pygments_lexer": "ipython3",
   "version": "3.9.6"
  },
  "orig_nbformat": 4,
  "vscode": {
   "interpreter": {
    "hash": "49aa7209ac0e1a36a89cb04290394fd089cb5ce56cb44c9d4652c0180c6152a2"
   }
  }
 },
 "nbformat": 4,
 "nbformat_minor": 2
}
