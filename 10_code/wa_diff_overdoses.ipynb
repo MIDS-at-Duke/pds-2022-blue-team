{
 "cells": [
  {
   "cell_type": "code",
   "execution_count": 1,
   "metadata": {},
   "outputs": [],
   "source": [
    "import pandas as pd\n",
    "import numpy as np\n",
    "import matplotlib.pyplot as plt\n",
    "import seaborn as sns\n",
    "import altair as alt\n",
    "from plotnine import *\n",
    "import statsmodels.api as sm\n",
    "import statsmodels.formula.api as smf"
   ]
  },
  {
   "cell_type": "code",
   "execution_count": 2,
   "metadata": {},
   "outputs": [],
   "source": [
    "# load in pre-cleaned deaths data for Texas and comparison states\n",
    "deaths = pd.read_csv(\"../20_intermediate_files/deaths_wa.csv\")\n"
   ]
  },
  {
   "cell_type": "code",
   "execution_count": 3,
   "metadata": {},
   "outputs": [],
   "source": [
    "# two separate dfs - one for texas and one for comp states\n",
    "\n",
    "washington = deaths[deaths[\"StateName\"] == \"Washington\"]\n",
    "comp = deaths[deaths[\"StateName\"] != \"Washington\"]"
   ]
  },
  {
   "cell_type": "markdown",
   "metadata": {},
   "source": [
    "### Helper functions "
   ]
  },
  {
   "cell_type": "code",
   "execution_count": 4,
   "metadata": {},
   "outputs": [],
   "source": [
    "# function to select only overdose records\n",
    "# double check this\n",
    "\n",
    "def select_overdose(record):\n",
    "    \"\"\"Simple function to select only overdose records\"\"\"\n",
    "\n",
    "    if record == \"All other non-drug and non-alcohol causes\":\n",
    "        return 0\n",
    "\n",
    "    if record == \"All other alcohol-induced causes\":\n",
    "        return 0\n",
    "\n",
    "    if record == \"All other drug-induced causes\":\n",
    "        return 0\n",
    "\n",
    "    if record == \"Alcohol poisonings (overdose) (X45, X65, Y15)\":\n",
    "        return 0\n",
    "\n",
    "    if record == \"Drug poisonings (overdose) Unintentional (X40-X44)\":\n",
    "        return 1\n",
    "\n",
    "    if record == \"Drug poisonings (overdose) Suicide (X60-X64)\":\n",
    "        return 1\n",
    "\n",
    "    if record == \"Drug poisonings (overdose) Undetermined (Y10-Y14)\":\n",
    "        return 1\n",
    "\n",
    "    else:\n",
    "        return \"error\"\n",
    "    \n",
    "\n",
    "# copy to fix the dreaded \"A value is trying to be set on a copy of a slice\" error\n",
    "wa_deaths = washington.copy()\n",
    "comp_deaths = comp.copy()\n",
    "\n",
    "# apply new function to our df\n",
    "wa_deaths[\"overdose\"] = wa_deaths[\"Drug/Alcohol Induced Cause\"].apply(lambda x: select_overdose(x))\n",
    "comp_deaths[\"overdose\"] = comp_deaths[\"Drug/Alcohol Induced Cause\"].apply(lambda x: select_overdose(x))\n",
    "\n",
    "assert len(wa_deaths[wa_deaths[\"overdose\"] == \"error\"]) == 0\n",
    "assert len(comp_deaths[comp_deaths[\"overdose\"] == \"error\"]) == 0\n",
    "\n",
    "# filter accordingly based on new column\n",
    "wa_deaths = wa_deaths[wa_deaths[\"overdose\"] != 0]\n",
    "comp_deaths = comp_deaths[comp_deaths[\"overdose\"] != 0]"
   ]
  },
  {
   "cell_type": "code",
   "execution_count": 5,
   "metadata": {},
   "outputs": [],
   "source": [
    "# calculate overdoses per 100_000 residents\n",
    "\n",
    "wa_deaths[\"overdose_per_100k\"] = wa_deaths[\"Deaths\"] / wa_deaths[\"Population\"] * 100_000\n",
    "comp_deaths[\"overdose_per_100k\"] = comp_deaths[\"Deaths\"] / comp_deaths[\"Population\"] * 100_000"
   ]
  },
  {
   "cell_type": "code",
   "execution_count": 6,
   "metadata": {},
   "outputs": [],
   "source": [
    "# groupby year and county\n",
    "wa_result = wa_deaths.groupby([\"Year\", \"County\"])[\"overdose_per_100k\"].sum().reset_index()\n",
    "comp_result = comp_deaths.groupby([\"Year\", \"StateName\", \"CountyName\"])[\"overdose_per_100k\"].sum().reset_index()"
   ]
  },
  {
   "cell_type": "code",
   "execution_count": 7,
   "metadata": {},
   "outputs": [
    {
     "data": {
      "text/html": [
       "<div>\n",
       "<style scoped>\n",
       "    .dataframe tbody tr th:only-of-type {\n",
       "        vertical-align: middle;\n",
       "    }\n",
       "\n",
       "    .dataframe tbody tr th {\n",
       "        vertical-align: top;\n",
       "    }\n",
       "\n",
       "    .dataframe thead th {\n",
       "        text-align: right;\n",
       "    }\n",
       "</style>\n",
       "<table border=\"1\" class=\"dataframe\">\n",
       "  <thead>\n",
       "    <tr style=\"text-align: right;\">\n",
       "      <th></th>\n",
       "      <th>Year</th>\n",
       "      <th>County</th>\n",
       "      <th>overdose_per_100k</th>\n",
       "    </tr>\n",
       "  </thead>\n",
       "  <tbody>\n",
       "    <tr>\n",
       "      <th>0</th>\n",
       "      <td>2009.0</td>\n",
       "      <td>Benton</td>\n",
       "      <td>9.934433</td>\n",
       "    </tr>\n",
       "    <tr>\n",
       "      <th>1</th>\n",
       "      <td>2009.0</td>\n",
       "      <td>Clallam</td>\n",
       "      <td>18.290023</td>\n",
       "    </tr>\n",
       "    <tr>\n",
       "      <th>2</th>\n",
       "      <td>2009.0</td>\n",
       "      <td>Clark</td>\n",
       "      <td>14.006400</td>\n",
       "    </tr>\n",
       "    <tr>\n",
       "      <th>3</th>\n",
       "      <td>2009.0</td>\n",
       "      <td>Cowlitz</td>\n",
       "      <td>17.625286</td>\n",
       "    </tr>\n",
       "    <tr>\n",
       "      <th>4</th>\n",
       "      <td>2009.0</td>\n",
       "      <td>Grant</td>\n",
       "      <td>19.464163</td>\n",
       "    </tr>\n",
       "    <tr>\n",
       "      <th>...</th>\n",
       "      <td>...</td>\n",
       "      <td>...</td>\n",
       "      <td>...</td>\n",
       "    </tr>\n",
       "    <tr>\n",
       "      <th>105</th>\n",
       "      <td>2015.0</td>\n",
       "      <td>Snohomish</td>\n",
       "      <td>16.499978</td>\n",
       "    </tr>\n",
       "    <tr>\n",
       "      <th>106</th>\n",
       "      <td>2015.0</td>\n",
       "      <td>Spokane</td>\n",
       "      <td>18.828923</td>\n",
       "    </tr>\n",
       "    <tr>\n",
       "      <th>107</th>\n",
       "      <td>2015.0</td>\n",
       "      <td>Thurston</td>\n",
       "      <td>9.702289</td>\n",
       "    </tr>\n",
       "    <tr>\n",
       "      <th>108</th>\n",
       "      <td>2015.0</td>\n",
       "      <td>Whatcom</td>\n",
       "      <td>10.857456</td>\n",
       "    </tr>\n",
       "    <tr>\n",
       "      <th>109</th>\n",
       "      <td>2015.0</td>\n",
       "      <td>Yakima</td>\n",
       "      <td>10.492333</td>\n",
       "    </tr>\n",
       "  </tbody>\n",
       "</table>\n",
       "<p>110 rows × 3 columns</p>\n",
       "</div>"
      ],
      "text/plain": [
       "       Year     County  overdose_per_100k\n",
       "0    2009.0     Benton           9.934433\n",
       "1    2009.0    Clallam          18.290023\n",
       "2    2009.0      Clark          14.006400\n",
       "3    2009.0    Cowlitz          17.625286\n",
       "4    2009.0      Grant          19.464163\n",
       "..      ...        ...                ...\n",
       "105  2015.0  Snohomish          16.499978\n",
       "106  2015.0    Spokane          18.828923\n",
       "107  2015.0   Thurston           9.702289\n",
       "108  2015.0    Whatcom          10.857456\n",
       "109  2015.0     Yakima          10.492333\n",
       "\n",
       "[110 rows x 3 columns]"
      ]
     },
     "execution_count": 7,
     "metadata": {},
     "output_type": "execute_result"
    }
   ],
   "source": [
    "wa_result"
   ]
  },
  {
   "cell_type": "code",
   "execution_count": 21,
   "metadata": {},
   "outputs": [],
   "source": [
    "# calculate summary stats\n",
    "wa_res = pd.DataFrame(wa_result.describe()[\"overdose_per_100k\"]).rename(columns={\"overdose_per_100k\": \"Opioid Overdose Deaths Per 100K Residents - Washington\"})\n",
    "comp_res = pd.DataFrame(comp_result.describe()[\"overdose_per_100k\"]).rename(columns={\"overdose_per_100k\": \"Opioid Overdose Deaths Per 100K Residents - Control States (MD,NC,CO)\"})"
   ]
  },
  {
   "cell_type": "code",
   "execution_count": 22,
   "metadata": {},
   "outputs": [
    {
     "data": {
      "text/html": [
       "<div>\n",
       "<style scoped>\n",
       "    .dataframe tbody tr th:only-of-type {\n",
       "        vertical-align: middle;\n",
       "    }\n",
       "\n",
       "    .dataframe tbody tr th {\n",
       "        vertical-align: top;\n",
       "    }\n",
       "\n",
       "    .dataframe thead th {\n",
       "        text-align: right;\n",
       "    }\n",
       "</style>\n",
       "<table border=\"1\" class=\"dataframe\">\n",
       "  <thead>\n",
       "    <tr style=\"text-align: right;\">\n",
       "      <th></th>\n",
       "      <th>Opioid Overdose Deaths Per 100K Residents - Washington</th>\n",
       "      <th>Opioid Overdose Deaths Per 100K Residents - Control States (MD,NC,CO)</th>\n",
       "    </tr>\n",
       "  </thead>\n",
       "  <tbody>\n",
       "    <tr>\n",
       "      <th>count</th>\n",
       "      <td>7.000000</td>\n",
       "      <td>7.000000</td>\n",
       "    </tr>\n",
       "    <tr>\n",
       "      <th>mean</th>\n",
       "      <td>13.668151</td>\n",
       "      <td>14.953933</td>\n",
       "    </tr>\n",
       "    <tr>\n",
       "      <th>std</th>\n",
       "      <td>0.822056</td>\n",
       "      <td>2.003544</td>\n",
       "    </tr>\n",
       "    <tr>\n",
       "      <th>min</th>\n",
       "      <td>12.020064</td>\n",
       "      <td>12.511895</td>\n",
       "    </tr>\n",
       "    <tr>\n",
       "      <th>25%</th>\n",
       "      <td>13.433789</td>\n",
       "      <td>13.979726</td>\n",
       "    </tr>\n",
       "    <tr>\n",
       "      <th>50%</th>\n",
       "      <td>13.984919</td>\n",
       "      <td>14.162456</td>\n",
       "    </tr>\n",
       "    <tr>\n",
       "      <th>75%</th>\n",
       "      <td>14.226162</td>\n",
       "      <td>15.639365</td>\n",
       "    </tr>\n",
       "    <tr>\n",
       "      <th>max</th>\n",
       "      <td>14.352174</td>\n",
       "      <td>18.764995</td>\n",
       "    </tr>\n",
       "  </tbody>\n",
       "</table>\n",
       "</div>"
      ],
      "text/plain": [
       "       Opioid Overdose Deaths Per 100K Residents - Washington  \\\n",
       "count                                           7.000000        \n",
       "mean                                           13.668151        \n",
       "std                                             0.822056        \n",
       "min                                            12.020064        \n",
       "25%                                            13.433789        \n",
       "50%                                            13.984919        \n",
       "75%                                            14.226162        \n",
       "max                                            14.352174        \n",
       "\n",
       "       Opioid Overdose Deaths Per 100K Residents - Control States (MD,NC,CO)  \n",
       "count                                           7.000000                      \n",
       "mean                                           14.953933                      \n",
       "std                                             2.003544                      \n",
       "min                                            12.511895                      \n",
       "25%                                            13.979726                      \n",
       "50%                                            14.162456                      \n",
       "75%                                            15.639365                      \n",
       "max                                            18.764995                      "
      ]
     },
     "execution_count": 22,
     "metadata": {},
     "output_type": "execute_result"
    }
   ],
   "source": [
    "stats = pd.concat([wa_res, comp_res], axis=1)\n",
    "stats"
   ]
  },
  {
   "cell_type": "code",
   "execution_count": 10,
   "metadata": {},
   "outputs": [],
   "source": [
    "# overwrite wa result to be grouped by year only\n",
    "wa_result = wa_result.groupby(\"Year\")[\"overdose_per_100k\"].mean().reset_index()\n",
    "comp_result = comp_result.groupby([\"Year\"])[\"overdose_per_100k\"].mean().reset_index()"
   ]
  },
  {
   "cell_type": "code",
   "execution_count": 11,
   "metadata": {},
   "outputs": [],
   "source": [
    "wa_res_checkpoint = wa_result.copy()\n",
    "comp_res_checkpoint = comp_result.copy()\n",
    "\n",
    "\n",
    "# assert length is the same\n",
    "assert (len(wa_result) == len(wa_res_checkpoint)) & (len(comp_result) == len(comp_res_checkpoint))"
   ]
  },
  {
   "cell_type": "markdown",
   "metadata": {},
   "source": [
    "## Pre-post plot - overdoses per 100k through the years"
   ]
  },
  {
   "cell_type": "code",
   "execution_count": 12,
   "metadata": {},
   "outputs": [],
   "source": [
    "\n",
    "wa_b4 = wa_result[wa_result[\"Year\"] < 2012]\n",
    "wa_after = wa_result[wa_result[\"Year\"] >= 2012]"
   ]
  },
  {
   "cell_type": "code",
   "execution_count": 13,
   "metadata": {},
   "outputs": [],
   "source": [
    "comp_b4 = comp_result[comp_result[\"Year\"] < 2012]\n",
    "comp_after = comp_result[comp_result[\"Year\"] >= 2012]\n"
   ]
  },
  {
   "cell_type": "code",
   "execution_count": 14,
   "metadata": {},
   "outputs": [],
   "source": [
    "x = \"Year\"\n",
    "y = \"overdose_per_100k\""
   ]
  },
  {
   "cell_type": "code",
   "execution_count": 27,
   "metadata": {},
   "outputs": [],
   "source": [
    "# Function to plot a vertical line at year of policy implementation\n",
    "def vertical_line(year):\n",
    "   \n",
    "    line = alt.Chart(pd.DataFrame({\n",
    "    'Year': [year],\n",
    "    'color': [\"black\"]\n",
    "    })).mark_rule().encode(\n",
    "    x='Year:Q',\n",
    "    color=alt.Color('color:N', scale=None)\n",
    "    )\n",
    " \n",
    "    return line\n"
   ]
  },
  {
   "cell_type": "code",
   "execution_count": 28,
   "metadata": {},
   "outputs": [],
   "source": [
    "# creating the vertical line at 2012, the year of implementation of policy changes in Washington\n",
    "line = vertical_line(2012)\n"
   ]
  },
  {
   "cell_type": "code",
   "execution_count": 29,
   "metadata": {},
   "outputs": [],
   "source": [
    "# creating the regression model and calculating the error bands for creating the plots\n",
    " \n",
    "def get_reg_fit_and_ci(data, color, xvar, yvar, legend, alpha=0.05):\n",
    "   \n",
    "    # Creating the grid for predicted values\n",
    "    colour = color\n",
    "    years = [2009,2010,2011,2012,2013,2014,2015]\n",
    "    x = data.loc[pd.notnull(data[yvar]), xvar]\n",
    "    xmin = x.min()\n",
    "    xmax = x.max()\n",
    "    step = (xmax - xmin) / 100\n",
    "    grid = np.arange(xmin, xmax + step, step)\n",
    "    predictions = pd.DataFrame({xvar: grid})\n",
    " \n",
    "    # Fitting the model and making the predictions\n",
    "    model = smf.ols(f\"{yvar} ~ {xvar}\", data=data).fit()\n",
    "    model_predict = model.get_prediction(predictions[xvar])\n",
    "    predictions[yvar] = model_predict.summary_frame()[\"mean\"]\n",
    "    predictions[[\"ci_low\", \"ci_high\"]] = model_predict.conf_int(alpha=alpha)\n",
    "   \n",
    "    # Utilizing the predictions to create the points and error bands in the chart\n",
    "    predictions[\"Before/After\"] = f\"{legend}\"\n",
    "    reg = (\n",
    "        alt.Chart(predictions)\n",
    "        .mark_line()\n",
    "        .encode(\n",
    "            x=xvar,\n",
    "            y=alt.Y(yvar),\n",
    "            color = alt.Color(\"Before/After\",legend=alt.Legend(title = \"States\"))\n",
    "        )\n",
    "    )\n",
    " \n",
    "    ci = (\n",
    "        alt.Chart(predictions)\n",
    "        .mark_errorband()\n",
    "        .encode(\n",
    "            alt.X(f\"{xvar}:Q\", axis=alt.Axis(format=\".0f\", values=years)),\n",
    "            y=alt.Y(\n",
    "                \"ci_low\",\n",
    "                title=\"Opioid Overdose Deaths Per 100K Residents\",\n",
    "                scale=alt.Scale(zero=False),\n",
    "            ),\n",
    "            y2=\"ci_high\",\n",
    "            color=alt.value(f\"{color}\"),\n",
    "        )\n",
    "    )\n",
    "    chart = ci + reg\n",
    "    return predictions, chart\n",
    " \n",
    " \n"
   ]
  },
  {
   "cell_type": "code",
   "execution_count": 30,
   "metadata": {},
   "outputs": [],
   "source": [
    "# Using the get_reg_fit_and_ci function to create the charts\n",
    " \n",
    "def build_chart(data, color, xvar, yvar, legend, alpha=0.05):\n",
    "    fit, reg_chart = get_reg_fit_and_ci(\n",
    "        data=data, color=color, xvar=xvar, yvar=yvar,  legend=legend, alpha=alpha,\n",
    "    )\n",
    "    return reg_chart"
   ]
  },
  {
   "cell_type": "code",
   "execution_count": 32,
   "metadata": {},
   "outputs": [
    {
     "name": "stderr",
     "output_type": "stream",
     "text": [
      "c:\\Users\\annap\\miniconda3\\lib\\site-packages\\altair\\utils\\core.py:317: FutureWarning: iteritems is deprecated and will be removed in a future version. Use .items instead.\n"
     ]
    },
    {
     "data": {
      "text/html": [
       "\n",
       "<div id=\"altair-viz-219b3424f5f64c86b8bd3a8988ddabfb\"></div>\n",
       "<script type=\"text/javascript\">\n",
       "  var VEGA_DEBUG = (typeof VEGA_DEBUG == \"undefined\") ? {} : VEGA_DEBUG;\n",
       "  (function(spec, embedOpt){\n",
       "    let outputDiv = document.currentScript.previousElementSibling;\n",
       "    if (outputDiv.id !== \"altair-viz-219b3424f5f64c86b8bd3a8988ddabfb\") {\n",
       "      outputDiv = document.getElementById(\"altair-viz-219b3424f5f64c86b8bd3a8988ddabfb\");\n",
       "    }\n",
       "    const paths = {\n",
       "      \"vega\": \"https://cdn.jsdelivr.net/npm//vega@5?noext\",\n",
       "      \"vega-lib\": \"https://cdn.jsdelivr.net/npm//vega-lib?noext\",\n",
       "      \"vega-lite\": \"https://cdn.jsdelivr.net/npm//vega-lite@4.17.0?noext\",\n",
       "      \"vega-embed\": \"https://cdn.jsdelivr.net/npm//vega-embed@6?noext\",\n",
       "    };\n",
       "\n",
       "    function maybeLoadScript(lib, version) {\n",
       "      var key = `${lib.replace(\"-\", \"\")}_version`;\n",
       "      return (VEGA_DEBUG[key] == version) ?\n",
       "        Promise.resolve(paths[lib]) :\n",
       "        new Promise(function(resolve, reject) {\n",
       "          var s = document.createElement('script');\n",
       "          document.getElementsByTagName(\"head\")[0].appendChild(s);\n",
       "          s.async = true;\n",
       "          s.onload = () => {\n",
       "            VEGA_DEBUG[key] = version;\n",
       "            return resolve(paths[lib]);\n",
       "          };\n",
       "          s.onerror = () => reject(`Error loading script: ${paths[lib]}`);\n",
       "          s.src = paths[lib];\n",
       "        });\n",
       "    }\n",
       "\n",
       "    function showError(err) {\n",
       "      outputDiv.innerHTML = `<div class=\"error\" style=\"color:red;\">${err}</div>`;\n",
       "      throw err;\n",
       "    }\n",
       "\n",
       "    function displayChart(vegaEmbed) {\n",
       "      vegaEmbed(outputDiv, spec, embedOpt)\n",
       "        .catch(err => showError(`Javascript Error: ${err.message}<br>This usually means there's a typo in your chart specification. See the javascript console for the full traceback.`));\n",
       "    }\n",
       "\n",
       "    if(typeof define === \"function\" && define.amd) {\n",
       "      requirejs.config({paths});\n",
       "      require([\"vega-embed\"], displayChart, err => showError(`Error loading script: ${err.message}`));\n",
       "    } else {\n",
       "      maybeLoadScript(\"vega\", \"5\")\n",
       "        .then(() => maybeLoadScript(\"vega-lite\", \"4.17.0\"))\n",
       "        .then(() => maybeLoadScript(\"vega-embed\", \"6\"))\n",
       "        .catch(showError)\n",
       "        .then(() => displayChart(vegaEmbed));\n",
       "    }\n",
       "  })({\"config\": {\"view\": {\"continuousWidth\": 400, \"continuousHeight\": 300}}, \"layer\": [{\"mark\": \"errorband\", \"encoding\": {\"color\": {\"value\": \"orange\"}, \"x\": {\"axis\": {\"format\": \".0f\", \"values\": [2009, 2010, 2011, 2012, 2013, 2014, 2015]}, \"field\": \"Year\", \"type\": \"quantitative\"}, \"y\": {\"field\": \"ci_low\", \"scale\": {\"zero\": false}, \"title\": \"Opioid Overdose Deaths Per 100K Residents\", \"type\": \"quantitative\"}, \"y2\": {\"field\": \"ci_high\"}}}, {\"mark\": \"line\", \"encoding\": {\"color\": {\"field\": \"Before/After\", \"legend\": {\"title\": \"States\"}, \"type\": \"nominal\"}, \"x\": {\"field\": \"Year\", \"type\": \"quantitative\"}, \"y\": {\"field\": \"overdose_per_100k\", \"type\": \"quantitative\"}}}, {\"layer\": [{\"mark\": \"errorband\", \"encoding\": {\"color\": {\"value\": \"orange\"}, \"x\": {\"axis\": {\"format\": \".0f\", \"values\": [2009, 2010, 2011, 2012, 2013, 2014, 2015]}, \"field\": \"Year\", \"type\": \"quantitative\"}, \"y\": {\"field\": \"ci_low\", \"scale\": {\"zero\": false}, \"title\": \"Opioid Overdose Deaths Per 100K Residents\", \"type\": \"quantitative\"}, \"y2\": {\"field\": \"ci_high\"}}}, {\"mark\": \"line\", \"encoding\": {\"color\": {\"field\": \"Before/After\", \"legend\": {\"title\": \"States\"}, \"type\": \"nominal\"}, \"x\": {\"field\": \"Year\", \"type\": \"quantitative\"}, \"y\": {\"field\": \"overdose_per_100k\", \"type\": \"quantitative\"}}}], \"data\": {\"name\": \"data-904780b9122a279b3e5b4a5769eb7137\"}}, {\"layer\": [{\"mark\": \"errorband\", \"encoding\": {\"color\": {\"value\": \"blue\"}, \"x\": {\"axis\": {\"format\": \".0f\", \"values\": [2009, 2010, 2011, 2012, 2013, 2014, 2015]}, \"field\": \"Year\", \"type\": \"quantitative\"}, \"y\": {\"field\": \"ci_low\", \"scale\": {\"zero\": false}, \"title\": \"Opioid Overdose Deaths Per 100K Residents\", \"type\": \"quantitative\"}, \"y2\": {\"field\": \"ci_high\"}}}, {\"mark\": \"line\", \"encoding\": {\"color\": {\"field\": \"Before/After\", \"legend\": {\"title\": \"States\"}, \"type\": \"nominal\"}, \"x\": {\"field\": \"Year\", \"type\": \"quantitative\"}, \"y\": {\"field\": \"overdose_per_100k\", \"type\": \"quantitative\"}}}], \"data\": {\"name\": \"data-bc192cafe596218981a7feb4f595fd71\"}}, {\"layer\": [{\"mark\": \"errorband\", \"encoding\": {\"color\": {\"value\": \"blue\"}, \"x\": {\"axis\": {\"format\": \".0f\", \"values\": [2009, 2010, 2011, 2012, 2013, 2014, 2015]}, \"field\": \"Year\", \"type\": \"quantitative\"}, \"y\": {\"field\": \"ci_low\", \"scale\": {\"zero\": false}, \"title\": \"Opioid Overdose Deaths Per 100K Residents\", \"type\": \"quantitative\"}, \"y2\": {\"field\": \"ci_high\"}}}, {\"mark\": \"line\", \"encoding\": {\"color\": {\"field\": \"Before/After\", \"legend\": {\"title\": \"States\"}, \"type\": \"nominal\"}, \"x\": {\"field\": \"Year\", \"type\": \"quantitative\"}, \"y\": {\"field\": \"overdose_per_100k\", \"type\": \"quantitative\"}}}], \"data\": {\"name\": \"data-72eae45c696c0768b3c71ad3feef72b4\"}}, {\"data\": {\"name\": \"data-12fa130837655ae321383954ec916afe\"}, \"mark\": \"rule\", \"encoding\": {\"color\": {\"field\": \"color\", \"scale\": null, \"type\": \"nominal\"}, \"x\": {\"field\": \"Year\", \"type\": \"quantitative\"}}}], \"data\": {\"name\": \"data-e5e1fb7191268c94d6427919ba8ffedb\"}, \"title\": \"Difference-In-Difference Analysis Of Opioid Overdose Deaths In Washington\", \"$schema\": \"https://vega.github.io/schema/vega-lite/v4.17.0.json\", \"datasets\": {\"data-e5e1fb7191268c94d6427919ba8ffedb\": [{\"Year\": 2009.0, \"overdose_per_100k\": 13.546076260317363, \"ci_low\": -7.3471011968173805, \"ci_high\": 34.439253717452104, \"Before/After\": \"Washington\"}, {\"Year\": 2009.02, \"overdose_per_100k\": 13.544970654696996, \"ci_low\": -7.098503702544921, \"ci_high\": 34.18844501193891, \"Before/After\": \"Washington\"}, {\"Year\": 2009.04, \"overdose_per_100k\": 13.543865049076615, \"ci_low\": -6.85198587104367, \"ci_high\": 33.9397159691969, \"Before/After\": \"Washington\"}, {\"Year\": 2009.06, \"overdose_per_100k\": 13.542759443456248, \"ci_low\": -6.607624371951594, \"ci_high\": 33.69314325886409, \"Before/After\": \"Washington\"}, {\"Year\": 2009.08, \"overdose_per_100k\": 13.54165383783588, \"ci_low\": -6.365498968332009, \"ci_high\": 33.44880664400377, \"Before/After\": \"Washington\"}, {\"Year\": 2009.1, \"overdose_per_100k\": 13.540548232215514, \"ci_low\": -6.125692635583668, \"ci_high\": 33.206789100014696, \"Before/After\": \"Washington\"}, {\"Year\": 2009.12, \"overdose_per_100k\": 13.539442626595147, \"ci_low\": -5.888291642417201, \"ci_high\": 32.967176895607494, \"Before/After\": \"Washington\"}, {\"Year\": 2009.1399999999999, \"overdose_per_100k\": 13.538337020974765, \"ci_low\": -5.653385662823265, \"ci_high\": 32.7300597047728, \"Before/After\": \"Washington\"}, {\"Year\": 2009.1599999999999, \"overdose_per_100k\": 13.537231415354398, \"ci_low\": -5.42106788200368, \"ci_high\": 32.49553071271248, \"Before/After\": \"Washington\"}, {\"Year\": 2009.1799999999998, \"overdose_per_100k\": 13.536125809734031, \"ci_low\": -5.191435083501723, \"ci_high\": 32.263686702969785, \"Before/After\": \"Washington\"}, {\"Year\": 2009.1999999999998, \"overdose_per_100k\": 13.535020204113664, \"ci_low\": -4.96458772575377, \"ci_high\": 32.0346281339811, \"Before/After\": \"Washington\"}, {\"Year\": 2009.2199999999998, \"overdose_per_100k\": 13.533914598493297, \"ci_low\": -4.740630052199286, \"ci_high\": 31.80845924918588, \"Before/After\": \"Washington\"}, {\"Year\": 2009.2399999999998, \"overdose_per_100k\": 13.532808992872916, \"ci_low\": -4.519670137606241, \"ci_high\": 31.585288123352072, \"Before/After\": \"Washington\"}, {\"Year\": 2009.2599999999998, \"overdose_per_100k\": 13.531703387252549, \"ci_low\": -4.301819967862279, \"ci_high\": 31.365226742367376, \"Before/After\": \"Washington\"}, {\"Year\": 2009.2799999999997, \"overdose_per_100k\": 13.530597781632181, \"ci_low\": -4.087195483864555, \"ci_high\": 31.148391047128918, \"Before/After\": \"Washington\"}, {\"Year\": 2009.2999999999997, \"overdose_per_100k\": 13.529492176011814, \"ci_low\": -3.8759166360958126, \"ci_high\": 30.93490098811944, \"Before/After\": \"Washington\"}, {\"Year\": 2009.3199999999997, \"overdose_per_100k\": 13.528386570391447, \"ci_low\": -3.6681073810574247, \"ci_high\": 30.72488052184032, \"Before/After\": \"Washington\"}, {\"Year\": 2009.3399999999997, \"overdose_per_100k\": 13.52728096477108, \"ci_low\": -3.463895695930116, \"ci_high\": 30.518457625472276, \"Before/After\": \"Washington\"}, {\"Year\": 2009.3599999999997, \"overdose_per_100k\": 13.526175359150699, \"ci_low\": -3.2634135724008537, \"ci_high\": 30.31576429070225, \"Before/After\": \"Washington\"}, {\"Year\": 2009.3799999999997, \"overdose_per_100k\": 13.525069753530332, \"ci_low\": -3.0667969422434034, \"ci_high\": 30.116936449304067, \"Before/After\": \"Washington\"}, {\"Year\": 2009.3999999999996, \"overdose_per_100k\": 13.523964147909965, \"ci_low\": -2.8741856363750955, \"ci_high\": 29.922113932195025, \"Before/After\": \"Washington\"}, {\"Year\": 2009.4199999999996, \"overdose_per_100k\": 13.522858542289597, \"ci_low\": -2.6857232688287382, \"ci_high\": 29.731440353407933, \"Before/After\": \"Washington\"}, {\"Year\": 2009.4399999999996, \"overdose_per_100k\": 13.52175293666923, \"ci_low\": -2.5015570909895253, \"ci_high\": 29.545062964327986, \"Before/After\": \"Washington\"}, {\"Year\": 2009.4599999999996, \"overdose_per_100k\": 13.520647331048849, \"ci_low\": -2.321837830443606, \"ci_high\": 29.363132492541304, \"Before/After\": \"Washington\"}, {\"Year\": 2009.4799999999996, \"overdose_per_100k\": 13.519541725428482, \"ci_low\": -2.1467194663500617, \"ci_high\": 29.185802917207027, \"Before/After\": \"Washington\"}, {\"Year\": 2009.4999999999995, \"overdose_per_100k\": 13.518436119808115, \"ci_low\": -1.9763589884972266, \"ci_high\": 29.013231228113455, \"Before/After\": \"Washington\"}, {\"Year\": 2009.5199999999995, \"overdose_per_100k\": 13.517330514187748, \"ci_low\": -1.810916062068518, \"ci_high\": 28.845577090444014, \"Before/After\": \"Washington\"}, {\"Year\": 2009.5399999999995, \"overdose_per_100k\": 13.51622490856738, \"ci_low\": -1.650552684053043, \"ci_high\": 28.683002501187804, \"Before/After\": \"Washington\"}, {\"Year\": 2009.5599999999995, \"overdose_per_100k\": 13.515119302947, \"ci_low\": -1.4954327877622617, \"ci_high\": 28.52567139365626, \"Before/After\": \"Washington\"}, {\"Year\": 2009.5799999999995, \"overdose_per_100k\": 13.514013697326632, \"ci_low\": -1.3457217487257243, \"ci_high\": 28.373749143378987, \"Before/After\": \"Washington\"}, {\"Year\": 2009.5999999999995, \"overdose_per_100k\": 13.512908091706265, \"ci_low\": -1.2015858724894635, \"ci_high\": 28.227402055901994, \"Before/After\": \"Washington\"}, {\"Year\": 2009.6199999999994, \"overdose_per_100k\": 13.511802486085898, \"ci_low\": -1.0631918518484689, \"ci_high\": 28.086796824020265, \"Before/After\": \"Washington\"}, {\"Year\": 2009.6399999999994, \"overdose_per_100k\": 13.510696880465531, \"ci_low\": -0.9307060712596691, \"ci_high\": 27.952099832190733, \"Before/After\": \"Washington\"}, {\"Year\": 2009.6599999999994, \"overdose_per_100k\": 13.509591274845164, \"ci_low\": -0.8042939563651714, \"ci_high\": 27.8234765060555, \"Before/After\": \"Washington\"}, {\"Year\": 2009.6799999999994, \"overdose_per_100k\": 13.508485669224783, \"ci_low\": -0.684119214930238, \"ci_high\": 27.701090553379803, \"Before/After\": \"Washington\"}, {\"Year\": 2009.6999999999994, \"overdose_per_100k\": 13.507380063604415, \"ci_low\": -0.5703430642895011, \"ci_high\": 27.585103191498334, \"Before/After\": \"Washington\"}, {\"Year\": 2009.7199999999993, \"overdose_per_100k\": 13.506274457984048, \"ci_low\": -0.4631233625509559, \"ci_high\": 27.475672278519053, \"Before/After\": \"Washington\"}, {\"Year\": 2009.7399999999993, \"overdose_per_100k\": 13.505168852363681, \"ci_low\": -0.3626137482684104, \"ci_high\": 27.37295145299577, \"Before/After\": \"Washington\"}, {\"Year\": 2009.7599999999993, \"overdose_per_100k\": 13.504063246743314, \"ci_low\": -0.26896275086661525, \"ci_high\": 27.277089244353242, \"Before/After\": \"Washington\"}, {\"Year\": 2009.7799999999993, \"overdose_per_100k\": 13.502957641122933, \"ci_low\": -0.18231283257003916, \"ci_high\": 27.188228114815907, \"Before/After\": \"Washington\"}, {\"Year\": 2009.7999999999993, \"overdose_per_100k\": 13.501852035502566, \"ci_low\": -0.10279946803628803, \"ci_high\": 27.10650353904142, \"Before/After\": \"Washington\"}, {\"Year\": 2009.8199999999993, \"overdose_per_100k\": 13.500746429882199, \"ci_low\": -0.030550221192738647, \"ci_high\": 27.032043080957138, \"Before/After\": \"Washington\"}, {\"Year\": 2009.8399999999992, \"overdose_per_100k\": 13.499640824261832, \"ci_low\": 0.034316183866030414, \"ci_high\": 26.96496546465763, \"Before/After\": \"Washington\"}, {\"Year\": 2009.8599999999992, \"overdose_per_100k\": 13.498535218641464, \"ci_low\": 0.0916907644838787, \"ci_high\": 26.90537967279905, \"Before/After\": \"Washington\"}, {\"Year\": 2009.8799999999992, \"overdose_per_100k\": 13.497429613021097, \"ci_low\": 0.14147511504568122, \"ci_high\": 26.853384110996515, \"Before/After\": \"Washington\"}, {\"Year\": 2009.8999999999992, \"overdose_per_100k\": 13.496324007400716, \"ci_low\": 0.18358217979727165, \"ci_high\": 26.809065835004162, \"Before/After\": \"Washington\"}, {\"Year\": 2009.9199999999992, \"overdose_per_100k\": 13.495218401780349, \"ci_low\": 0.21793700385431158, \"ci_high\": 26.772499799706388, \"Before/After\": \"Washington\"}, {\"Year\": 2009.9399999999991, \"overdose_per_100k\": 13.494112796159982, \"ci_low\": 0.24447734991895054, \"ci_high\": 26.74374824240101, \"Before/After\": \"Washington\"}, {\"Year\": 2009.9599999999991, \"overdose_per_100k\": 13.493007190539615, \"ci_low\": 0.2631542178386663, \"ci_high\": 26.72286016324056, \"Before/After\": \"Washington\"}, {\"Year\": 2009.979999999999, \"overdose_per_100k\": 13.491901584919248, \"ci_low\": 0.2739323068818855, \"ci_high\": 26.70987086295661, \"Before/After\": \"Washington\"}, {\"Year\": 2009.999999999999, \"overdose_per_100k\": 13.490795979298866, \"ci_low\": 0.2767903118913342, \"ci_high\": 26.7048016467064, \"Before/After\": \"Washington\"}, {\"Year\": 2010.019999999999, \"overdose_per_100k\": 13.4896903736785, \"ci_low\": 0.27172109682500434, \"ci_high\": 26.707659650531994, \"Before/After\": \"Washington\"}, {\"Year\": 2010.039999999999, \"overdose_per_100k\": 13.488584768058132, \"ci_low\": 0.2587317978282293, \"ci_high\": 26.718437738288035, \"Before/After\": \"Washington\"}, {\"Year\": 2010.059999999999, \"overdose_per_100k\": 13.487479162437765, \"ci_low\": 0.2378437142762131, \"ci_high\": 26.737114610599317, \"Before/After\": \"Washington\"}, {\"Year\": 2010.079999999999, \"overdose_per_100k\": 13.486373556817398, \"ci_low\": 0.20909216371074102, \"ci_high\": 26.763654949924053, \"Before/After\": \"Washington\"}, {\"Year\": 2010.099999999999, \"overdose_per_100k\": 13.485267951197017, \"ci_low\": 0.17252612403303935, \"ci_high\": 26.798009778360992, \"Before/After\": \"Washington\"}, {\"Year\": 2010.119999999999, \"overdose_per_100k\": 13.48416234557665, \"ci_low\": 0.12820784368632765, \"ci_high\": 26.840116847466973, \"Before/After\": \"Washington\"}, {\"Year\": 2010.139999999999, \"overdose_per_100k\": 13.483056739956282, \"ci_low\": 0.07621228856928575, \"ci_high\": 26.889901191343277, \"Before/After\": \"Washington\"}, {\"Year\": 2010.159999999999, \"overdose_per_100k\": 13.481951134335915, \"ci_low\": 0.016626492380737545, \"ci_high\": 26.947275776291093, \"Before/After\": \"Washington\"}, {\"Year\": 2010.179999999999, \"overdose_per_100k\": 13.480845528715548, \"ci_low\": -0.05045112820702791, \"ci_high\": 27.012142185638126, \"Before/After\": \"Washington\"}, {\"Year\": 2010.199999999999, \"overdose_per_100k\": 13.479739923095181, \"ci_low\": -0.12491157958292476, \"ci_high\": 27.084391425773287, \"Before/After\": \"Washington\"}, {\"Year\": 2010.219999999999, \"overdose_per_100k\": 13.4786343174748, \"ci_low\": -0.20663615422047954, \"ci_high\": 27.16390478917008, \"Before/After\": \"Washington\"}, {\"Year\": 2010.2399999999989, \"overdose_per_100k\": 13.477528711854433, \"ci_low\": -0.2954972825325122, \"ci_high\": 27.250554706241378, \"Before/After\": \"Washington\"}, {\"Year\": 2010.2599999999989, \"overdose_per_100k\": 13.476423106234066, \"ci_low\": -0.39135949538935044, \"ci_high\": 27.344205707857483, \"Before/After\": \"Washington\"}, {\"Year\": 2010.2799999999988, \"overdose_per_100k\": 13.475317500613698, \"ci_low\": -0.49408031450341383, \"ci_high\": 27.44471531573081, \"Before/After\": \"Washington\"}, {\"Year\": 2010.2999999999988, \"overdose_per_100k\": 13.474211894993331, \"ci_low\": -0.6035112316535045, \"ci_high\": 27.55193502164017, \"Before/After\": \"Washington\"}, {\"Year\": 2010.3199999999988, \"overdose_per_100k\": 13.47310628937295, \"ci_low\": -0.7194985976427226, \"ci_high\": 27.665711176388623, \"Before/After\": \"Washington\"}, {\"Year\": 2010.3399999999988, \"overdose_per_100k\": 13.472000683752583, \"ci_low\": -0.8418845440455947, \"ci_high\": 27.78588591155076, \"Before/After\": \"Washington\"}, {\"Year\": 2010.3599999999988, \"overdose_per_100k\": 13.470895078132216, \"ci_low\": -0.970507874237363, \"ci_high\": 27.912298030501795, \"Before/After\": \"Washington\"}, {\"Year\": 2010.3799999999987, \"overdose_per_100k\": 13.469789472511849, \"ci_low\": -1.1052048700479737, \"ci_high\": 28.04478381507167, \"Before/After\": \"Washington\"}, {\"Year\": 2010.3999999999987, \"overdose_per_100k\": 13.468683866891482, \"ci_low\": -1.2458101008218403, \"ci_high\": 28.183177834604805, \"Before/After\": \"Washington\"}, {\"Year\": 2010.4199999999987, \"overdose_per_100k\": 13.467578261271115, \"ci_low\": -1.3921571821527774, \"ci_high\": 28.32731370469501, \"Before/After\": \"Washington\"}, {\"Year\": 2010.4399999999987, \"overdose_per_100k\": 13.466472655650733, \"ci_low\": -1.5440794363302093, \"ci_high\": 28.477024747631674, \"Before/After\": \"Washington\"}, {\"Year\": 2010.4599999999987, \"overdose_per_100k\": 13.465367050030366, \"ci_low\": -1.701410542725597, \"ci_high\": 28.63214464278633, \"Before/After\": \"Washington\"}, {\"Year\": 2010.4799999999987, \"overdose_per_100k\": 13.464261444409999, \"ci_low\": -1.8639851261453124, \"ci_high\": 28.79250801496531, \"Before/After\": \"Washington\"}, {\"Year\": 2010.4999999999986, \"overdose_per_100k\": 13.463155838789632, \"ci_low\": -2.0316392676275257, \"ci_high\": 28.95795094520679, \"Before/After\": \"Washington\"}, {\"Year\": 2010.5199999999986, \"overdose_per_100k\": 13.462050233169265, \"ci_low\": -2.2042109604533664, \"ci_high\": 29.128311426791896, \"Before/After\": \"Washington\"}, {\"Year\": 2010.5399999999986, \"overdose_per_100k\": 13.460944627548884, \"ci_low\": -2.381540530121482, \"ci_high\": 29.30342978521925, \"Before/After\": \"Washington\"}, {\"Year\": 2010.5599999999986, \"overdose_per_100k\": 13.459839021928516, \"ci_low\": -2.5634710055801797, \"ci_high\": 29.483149049437213, \"Before/After\": \"Washington\"}, {\"Year\": 2010.5799999999986, \"overdose_per_100k\": 13.45873341630815, \"ci_low\": -2.749848398249263, \"ci_high\": 29.66731523086556, \"Before/After\": \"Washington\"}, {\"Year\": 2010.5999999999985, \"overdose_per_100k\": 13.457627810687782, \"ci_low\": -2.9405219760395944, \"ci_high\": 29.85577759741516, \"Before/After\": \"Washington\"}, {\"Year\": 2010.6199999999985, \"overdose_per_100k\": 13.456522205067415, \"ci_low\": -3.1353444921787137, \"ci_high\": 30.048388902313544, \"Before/After\": \"Washington\"}, {\"Year\": 2010.6399999999985, \"overdose_per_100k\": 13.455416599447034, \"ci_low\": -3.3341723325439894, \"ci_high\": 30.245005531438057, \"Before/After\": \"Washington\"}, {\"Year\": 2010.6599999999985, \"overdose_per_100k\": 13.454310993826667, \"ci_low\": -3.5368656707309682, \"ci_high\": 30.4454876583843, \"Before/After\": \"Washington\"}, {\"Year\": 2010.6799999999985, \"overdose_per_100k\": 13.4532053882063, \"ci_low\": -3.7432885574810832, \"ci_high\": 30.649699333893683, \"Before/After\": \"Washington\"}, {\"Year\": 2010.6999999999985, \"overdose_per_100k\": 13.452099782585933, \"ci_low\": -3.953309027167993, \"ci_high\": 30.857508592339858, \"Before/After\": \"Washington\"}, {\"Year\": 2010.7199999999984, \"overdose_per_100k\": 13.450994176965565, \"ci_low\": -4.166799089508395, \"ci_high\": 31.068787443439525, \"Before/After\": \"Washington\"}, {\"Year\": 2010.7399999999984, \"overdose_per_100k\": 13.449888571345198, \"ci_low\": -4.383634779718651, \"ci_high\": 31.283411922409048, \"Before/After\": \"Washington\"}, {\"Year\": 2010.7599999999984, \"overdose_per_100k\": 13.448782965724817, \"ci_low\": -4.603696163971456, \"ci_high\": 31.50126209542109, \"Before/After\": \"Washington\"}, {\"Year\": 2010.7799999999984, \"overdose_per_100k\": 13.44767736010445, \"ci_low\": -4.826867292998632, \"ci_high\": 31.72222201320753, \"Before/After\": \"Washington\"}, {\"Year\": 2010.7999999999984, \"overdose_per_100k\": 13.446571754484083, \"ci_low\": -5.053036176917221, \"ci_high\": 31.946179685885387, \"Before/After\": \"Washington\"}, {\"Year\": 2010.8199999999983, \"overdose_per_100k\": 13.445466148863716, \"ci_low\": -5.282094745052213, \"ci_high\": 32.173027042779644, \"Before/After\": \"Washington\"}, {\"Year\": 2010.8399999999983, \"overdose_per_100k\": 13.444360543243349, \"ci_low\": -5.513938757853726, \"ci_high\": 32.40265984434042, \"Before/After\": \"Washington\"}, {\"Year\": 2010.8599999999983, \"overdose_per_100k\": 13.443254937622967, \"ci_low\": -5.748467748979156, \"ci_high\": 32.63497762422509, \"Before/After\": \"Washington\"}, {\"Year\": 2010.8799999999983, \"overdose_per_100k\": 13.4421493320026, \"ci_low\": -5.98558493517692, \"ci_high\": 32.86988359918212, \"Before/After\": \"Washington\"}, {\"Year\": 2010.8999999999983, \"overdose_per_100k\": 13.441043726382233, \"ci_low\": -6.225197138740249, \"ci_high\": 33.107284591504715, \"Before/After\": \"Washington\"}, {\"Year\": 2010.9199999999983, \"overdose_per_100k\": 13.439938120761866, \"ci_low\": -6.4672146856807835, \"ci_high\": 33.34709092720452, \"Before/After\": \"Washington\"}, {\"Year\": 2010.9399999999982, \"overdose_per_100k\": 13.438832515141499, \"ci_low\": -6.7115512961000015, \"ci_high\": 33.589216326382996, \"Before/After\": \"Washington\"}, {\"Year\": 2010.9599999999982, \"overdose_per_100k\": 13.437726909521132, \"ci_low\": -6.958124009333876, \"ci_high\": 33.833577828376136, \"Before/After\": \"Washington\"}, {\"Year\": 2010.9799999999982, \"overdose_per_100k\": 13.43662130390075, \"ci_low\": -7.206853054907793, \"ci_high\": 34.0800956627093, \"Before/After\": \"Washington\"}, {\"Year\": 2010.9999999999982, \"overdose_per_100k\": 13.435515698280383, \"ci_low\": -7.45766175965203, \"ci_high\": 34.32869315621279, \"Before/After\": \"Washington\"}], \"data-904780b9122a279b3e5b4a5769eb7137\": [{\"Year\": 2012.0, \"overdose_per_100k\": 13.673565313346273, \"ci_low\": 11.69750012680809, \"ci_high\": 15.649630499884458, \"Before/After\": \"Washington\"}, {\"Year\": 2012.03, \"overdose_per_100k\": 13.67611735551904, \"ci_low\": 11.725366804056698, \"ci_high\": 15.626867906981381, \"Before/After\": \"Washington\"}, {\"Year\": 2012.06, \"overdose_per_100k\": 13.678669397691806, \"ci_low\": 11.753044821796687, \"ci_high\": 15.604293973586925, \"Before/After\": \"Washington\"}, {\"Year\": 2012.09, \"overdose_per_100k\": 13.681221439864572, \"ci_low\": 11.78052669855743, \"ci_high\": 15.581916181171714, \"Before/After\": \"Washington\"}, {\"Year\": 2012.12, \"overdose_per_100k\": 13.683773482037338, \"ci_low\": 11.807804614315618, \"ci_high\": 15.559742349759059, \"Before/After\": \"Washington\"}, {\"Year\": 2012.1499999999999, \"overdose_per_100k\": 13.686325524210105, \"ci_low\": 11.834870397460396, \"ci_high\": 15.537780650959814, \"Before/After\": \"Washington\"}, {\"Year\": 2012.1799999999998, \"overdose_per_100k\": 13.688877566382871, \"ci_low\": 11.861715510161954, \"ci_high\": 15.516039622603788, \"Before/After\": \"Washington\"}, {\"Year\": 2012.2099999999998, \"overdose_per_100k\": 13.691429608555637, \"ci_low\": 11.888331033000773, \"ci_high\": 15.494528184110502, \"Before/After\": \"Washington\"}, {\"Year\": 2012.2399999999998, \"overdose_per_100k\": 13.693981650728404, \"ci_low\": 11.914707650811199, \"ci_high\": 15.473255650645608, \"Before/After\": \"Washington\"}, {\"Year\": 2012.2699999999998, \"overdose_per_100k\": 13.69653369290117, \"ci_low\": 11.940835637837862, \"ci_high\": 15.452231747964477, \"Before/After\": \"Washington\"}, {\"Year\": 2012.2999999999997, \"overdose_per_100k\": 13.699085735073936, \"ci_low\": 11.966704843216245, \"ci_high\": 15.431466626931627, \"Before/After\": \"Washington\"}, {\"Year\": 2012.3299999999997, \"overdose_per_100k\": 13.70163777724673, \"ci_low\": 11.992304676569196, \"ci_high\": 15.410970877924266, \"Before/After\": \"Washington\"}, {\"Year\": 2012.3599999999997, \"overdose_per_100k\": 13.704189819419497, \"ci_low\": 12.017624095010621, \"ci_high\": 15.390755543828373, \"Before/After\": \"Washington\"}, {\"Year\": 2012.3899999999996, \"overdose_per_100k\": 13.706741861592263, \"ci_low\": 12.042651588464796, \"ci_high\": 15.37083213471973, \"Before/After\": \"Washington\"}, {\"Year\": 2012.4199999999996, \"overdose_per_100k\": 13.70929390376503, \"ci_low\": 12.067375168820542, \"ci_high\": 15.351212638709518, \"Before/After\": \"Washington\"}, {\"Year\": 2012.4499999999996, \"overdose_per_100k\": 13.711845945937796, \"ci_low\": 12.091782358659431, \"ci_high\": 15.33190953321616, \"Before/After\": \"Washington\"}, {\"Year\": 2012.4799999999996, \"overdose_per_100k\": 13.714397988110562, \"ci_low\": 12.115860180726148, \"ci_high\": 15.312935795494976, \"Before/After\": \"Washington\"}, {\"Year\": 2012.5099999999995, \"overdose_per_100k\": 13.716950030283328, \"ci_low\": 12.139595150559405, \"ci_high\": 15.294304910007252, \"Before/After\": \"Washington\"}, {\"Year\": 2012.5399999999995, \"overdose_per_100k\": 13.719502072456095, \"ci_low\": 12.162973270378071, \"ci_high\": 15.276030874534118, \"Before/After\": \"Washington\"}, {\"Year\": 2012.5699999999995, \"overdose_per_100k\": 13.722054114628861, \"ci_low\": 12.185980025609513, \"ci_high\": 15.258128203648209, \"Before/After\": \"Washington\"}, {\"Year\": 2012.5999999999995, \"overdose_per_100k\": 13.724606156801627, \"ci_low\": 12.208600384090666, \"ci_high\": 15.240611929512589, \"Before/After\": \"Washington\"}, {\"Year\": 2012.6299999999994, \"overdose_per_100k\": 13.727158198974394, \"ci_low\": 12.230818799670372, \"ci_high\": 15.223497598278415, \"Before/After\": \"Washington\"}, {\"Year\": 2012.6599999999994, \"overdose_per_100k\": 13.72971024114716, \"ci_low\": 12.252619217000895, \"ci_high\": 15.206801265293425, \"Before/After\": \"Washington\"}, {\"Year\": 2012.6899999999994, \"overdose_per_100k\": 13.732262283319926, \"ci_low\": 12.273985084020751, \"ci_high\": 15.190539482619101, \"Before/After\": \"Washington\"}, {\"Year\": 2012.7199999999993, \"overdose_per_100k\": 13.734814325492692, \"ci_low\": 12.29489936758815, \"ci_high\": 15.174729283397236, \"Before/After\": \"Washington\"}, {\"Year\": 2012.7499999999993, \"overdose_per_100k\": 13.737366367665487, \"ci_low\": 12.315344573828549, \"ci_high\": 15.159388161502426, \"Before/After\": \"Washington\"}, {\"Year\": 2012.7799999999993, \"overdose_per_100k\": 13.739918409838253, \"ci_low\": 12.33530277613749, \"ci_high\": 15.144534043539016, \"Before/After\": \"Washington\"}, {\"Year\": 2012.8099999999993, \"overdose_per_100k\": 13.74247045201102, \"ci_low\": 12.354755648860255, \"ci_high\": 15.130185255161784, \"Before/After\": \"Washington\"}, {\"Year\": 2012.8399999999992, \"overdose_per_100k\": 13.745022494183786, \"ci_low\": 12.373684508317504, \"ci_high\": 15.116360480050067, \"Before/After\": \"Washington\"}, {\"Year\": 2012.8699999999992, \"overdose_per_100k\": 13.747574536356552, \"ci_low\": 12.392070361241723, \"ci_high\": 15.103078711471381, \"Before/After\": \"Washington\"}, {\"Year\": 2012.8999999999992, \"overdose_per_100k\": 13.750126578529319, \"ci_low\": 12.409893962485317, \"ci_high\": 15.09035919457332, \"Before/After\": \"Washington\"}, {\"Year\": 2012.9299999999992, \"overdose_per_100k\": 13.752678620702085, \"ci_low\": 12.427135878218857, \"ci_high\": 15.078221363185312, \"Before/After\": \"Washington\"}, {\"Year\": 2012.9599999999991, \"overdose_per_100k\": 13.755230662874851, \"ci_low\": 12.443776561554413, \"ci_high\": 15.066684764195289, \"Before/After\": \"Washington\"}, {\"Year\": 2012.989999999999, \"overdose_per_100k\": 13.757782705047617, \"ci_low\": 12.459796435008837, \"ci_high\": 15.055768975086398, \"Before/After\": \"Washington\"}, {\"Year\": 2013.019999999999, \"overdose_per_100k\": 13.760334747220384, \"ci_low\": 12.475175980881804, \"ci_high\": 15.045493513558963, \"Before/After\": \"Washington\"}, {\"Year\": 2013.049999999999, \"overdose_per_100k\": 13.76288678939315, \"ci_low\": 12.489895841929606, \"ci_high\": 15.035877736856694, \"Before/After\": \"Washington\"}, {\"Year\": 2013.079999999999, \"overdose_per_100k\": 13.765438831565916, \"ci_low\": 12.503936929027057, \"ci_high\": 15.026940734104775, \"Before/After\": \"Washington\"}, {\"Year\": 2013.109999999999, \"overdose_per_100k\": 13.767990873738682, \"ci_low\": 12.517280536141483, \"ci_high\": 15.018701211335882, \"Before/After\": \"Washington\"}, {\"Year\": 2013.139999999999, \"overdose_per_100k\": 13.770542915911449, \"ci_low\": 12.529908462635689, \"ci_high\": 15.011177369187209, \"Before/After\": \"Washington\"}, {\"Year\": 2013.169999999999, \"overdose_per_100k\": 13.773094958084215, \"ci_low\": 12.541803138755023, \"ci_high\": 15.004386777413407, \"Before/After\": \"Washington\"}, {\"Year\": 2013.199999999999, \"overdose_per_100k\": 13.77564700025701, \"ci_low\": 12.552947755448116, \"ci_high\": 14.998346245065903, \"Before/After\": \"Washington\"}, {\"Year\": 2013.2299999999989, \"overdose_per_100k\": 13.778199042429776, \"ci_low\": 12.563326398164339, \"ci_high\": 14.993071686695213, \"Before/After\": \"Washington\"}, {\"Year\": 2013.2599999999989, \"overdose_per_100k\": 13.780751084602542, \"ci_low\": 12.57292417628275, \"ci_high\": 14.988577992922334, \"Before/After\": \"Washington\"}, {\"Year\": 2013.2899999999988, \"overdose_per_100k\": 13.783303126775309, \"ci_low\": 12.581727353127816, \"ci_high\": 14.984878900422801, \"Before/After\": \"Washington\"}, {\"Year\": 2013.3199999999988, \"overdose_per_100k\": 13.785855168948075, \"ci_low\": 12.589723471244206, \"ci_high\": 14.981986866651944, \"Before/After\": \"Washington\"}, {\"Year\": 2013.3499999999988, \"overdose_per_100k\": 13.788407211120841, \"ci_low\": 12.596901467376917, \"ci_high\": 14.979912954864766, \"Before/After\": \"Washington\"}, {\"Year\": 2013.3799999999987, \"overdose_per_100k\": 13.790959253293607, \"ci_low\": 12.603251782080319, \"ci_high\": 14.978666724506896, \"Before/After\": \"Washington\"}, {\"Year\": 2013.4099999999987, \"overdose_per_100k\": 13.793511295466374, \"ci_low\": 12.608766455175447, \"ci_high\": 14.9782561357573, \"Before/After\": \"Washington\"}, {\"Year\": 2013.4399999999987, \"overdose_per_100k\": 13.79606333763914, \"ci_low\": 12.613439206469007, \"ci_high\": 14.978687468809273, \"Before/After\": \"Washington\"}, {\"Year\": 2013.4699999999987, \"overdose_per_100k\": 13.798615379811906, \"ci_low\": 12.617265501125246, \"ci_high\": 14.979965258498567, \"Before/After\": \"Washington\"}, {\"Year\": 2013.4999999999986, \"overdose_per_100k\": 13.801167421984673, \"ci_low\": 12.62024259976312, \"ci_high\": 14.982092244206225, \"Before/After\": \"Washington\"}, {\"Year\": 2013.5299999999986, \"overdose_per_100k\": 13.803719464157439, \"ci_low\": 12.622369585521286, \"ci_high\": 14.985069342793592, \"Before/After\": \"Washington\"}, {\"Year\": 2013.5599999999986, \"overdose_per_100k\": 13.806271506330205, \"ci_low\": 12.62364737481306, \"ci_high\": 14.98889563784735, \"Before/After\": \"Washington\"}, {\"Year\": 2013.5899999999986, \"overdose_per_100k\": 13.808823548502971, \"ci_low\": 12.624078708370789, \"ci_high\": 14.993568388635154, \"Before/After\": \"Washington\"}, {\"Year\": 2013.6199999999985, \"overdose_per_100k\": 13.811375590675766, \"ci_low\": 12.623668119671052, \"ci_high\": 14.99908306168048, \"Before/After\": \"Washington\"}, {\"Year\": 2013.6499999999985, \"overdose_per_100k\": 13.813927632848532, \"ci_low\": 12.622421888918032, \"ci_high\": 15.005433376779033, \"Before/After\": \"Washington\"}, {\"Year\": 2013.6799999999985, \"overdose_per_100k\": 13.816479675021299, \"ci_low\": 12.62034797718145, \"ci_high\": 15.012611372861148, \"Before/After\": \"Washington\"}, {\"Year\": 2013.7099999999984, \"overdose_per_100k\": 13.819031717194065, \"ci_low\": 12.617455943685085, \"ci_high\": 15.020607490703044, \"Before/After\": \"Washington\"}, {\"Year\": 2013.7399999999984, \"overdose_per_100k\": 13.821583759366831, \"ci_low\": 12.61375685101867, \"ci_high\": 15.029410667714993, \"Before/After\": \"Washington\"}, {\"Year\": 2013.7699999999984, \"overdose_per_100k\": 13.824135801539597, \"ci_low\": 12.60926315729511, \"ci_high\": 15.039008445784084, \"Before/After\": \"Washington\"}, {\"Year\": 2013.7999999999984, \"overdose_per_100k\": 13.826687843712364, \"ci_low\": 12.603988598973075, \"ci_high\": 15.049387088451653, \"Before/After\": \"Washington\"}, {\"Year\": 2013.8299999999983, \"overdose_per_100k\": 13.82923988588513, \"ci_low\": 12.597948066243294, \"ci_high\": 15.060531705526966, \"Before/After\": \"Washington\"}, {\"Year\": 2013.8599999999983, \"overdose_per_100k\": 13.831791928057896, \"ci_low\": 12.591157474954217, \"ci_high\": 15.072426381161575, \"Before/After\": \"Washington\"}, {\"Year\": 2013.8899999999983, \"overdose_per_100k\": 13.834343970230663, \"ci_low\": 12.583633632851855, \"ci_high\": 15.08505430760947, \"Before/After\": \"Washington\"}, {\"Year\": 2013.9199999999983, \"overdose_per_100k\": 13.836896012403429, \"ci_low\": 12.575394109708473, \"ci_high\": 15.098397915098385, \"Before/After\": \"Washington\"}, {\"Year\": 2013.9499999999982, \"overdose_per_100k\": 13.839448054576195, \"ci_low\": 12.566457107004824, \"ci_high\": 15.112439002147566, \"Before/After\": \"Washington\"}, {\"Year\": 2013.9799999999982, \"overdose_per_100k\": 13.842000096748961, \"ci_low\": 12.556841330353574, \"ci_high\": 15.127158863144349, \"Before/After\": \"Washington\"}, {\"Year\": 2014.0099999999982, \"overdose_per_100k\": 13.844552138921728, \"ci_low\": 12.546565868876156, \"ci_high\": 15.1425384089673, \"Before/After\": \"Washington\"}, {\"Year\": 2014.0399999999981, \"overdose_per_100k\": 13.847104181094522, \"ci_low\": 12.5356500798129, \"ci_high\": 15.158558282376145, \"Before/After\": \"Washington\"}, {\"Year\": 2014.0699999999981, \"overdose_per_100k\": 13.849656223267289, \"ci_low\": 12.524113480667658, \"ci_high\": 15.175198965866919, \"Before/After\": \"Washington\"}, {\"Year\": 2014.099999999998, \"overdose_per_100k\": 13.852208265440055, \"ci_low\": 12.511975649127812, \"ci_high\": 15.192440881752297, \"Before/After\": \"Washington\"}, {\"Year\": 2014.129999999998, \"overdose_per_100k\": 13.854760307612821, \"ci_low\": 12.49925613267422, \"ci_high\": 15.210264482551421, \"Before/After\": \"Washington\"}, {\"Year\": 2014.159999999998, \"overdose_per_100k\": 13.857312349785587, \"ci_low\": 12.485974363943956, \"ci_high\": 15.228650335627218, \"Before/After\": \"Washington\"}, {\"Year\": 2014.189999999998, \"overdose_per_100k\": 13.859864391958354, \"ci_low\": 12.472149588683983, \"ci_high\": 15.247579195232724, \"Before/After\": \"Washington\"}, {\"Year\": 2014.219999999998, \"overdose_per_100k\": 13.86241643413112, \"ci_low\": 12.457800800350755, \"ci_high\": 15.267032067911485, \"Before/After\": \"Washington\"}, {\"Year\": 2014.249999999998, \"overdose_per_100k\": 13.864968476303886, \"ci_low\": 12.442946682433554, \"ci_high\": 15.286990270174218, \"Before/After\": \"Washington\"}, {\"Year\": 2014.279999999998, \"overdose_per_100k\": 13.867520518476653, \"ci_low\": 12.42760556058371, \"ci_high\": 15.307435476369594, \"Before/After\": \"Washington\"}, {\"Year\": 2014.309999999998, \"overdose_per_100k\": 13.870072560649419, \"ci_low\": 12.411795361402561, \"ci_high\": 15.328349759896277, \"Before/After\": \"Washington\"}, {\"Year\": 2014.3399999999979, \"overdose_per_100k\": 13.872624602822185, \"ci_low\": 12.395533578588646, \"ci_high\": 15.349715627055724, \"Before/After\": \"Washington\"}, {\"Year\": 2014.3699999999978, \"overdose_per_100k\": 13.875176644994951, \"ci_low\": 12.378837245467642, \"ci_high\": 15.371516044522261, \"Before/After\": \"Washington\"}, {\"Year\": 2014.3999999999978, \"overdose_per_100k\": 13.877728687167718, \"ci_low\": 12.36172291463116, \"ci_high\": 15.393734459704275, \"Before/After\": \"Washington\"}, {\"Year\": 2014.4299999999978, \"overdose_per_100k\": 13.880280729340484, \"ci_low\": 12.344206640359758, \"ci_high\": 15.41635481832121, \"Before/After\": \"Washington\"}, {\"Year\": 2014.4599999999978, \"overdose_per_100k\": 13.882832771513279, \"ci_low\": 12.32630396934145, \"ci_high\": 15.439361573685108, \"Before/After\": \"Washington\"}, {\"Year\": 2014.4899999999977, \"overdose_per_100k\": 13.885384813686045, \"ci_low\": 12.308029933907331, \"ci_high\": 15.462739693464759, \"Before/After\": \"Washington\"}, {\"Year\": 2014.5199999999977, \"overdose_per_100k\": 13.887936855858811, \"ci_low\": 12.289399048460574, \"ci_high\": 15.486474663257049, \"Before/After\": \"Washington\"}, {\"Year\": 2014.5499999999977, \"overdose_per_100k\": 13.890488898031577, \"ci_low\": 12.270425310779196, \"ci_high\": 15.51055248528396, \"Before/After\": \"Washington\"}, {\"Year\": 2014.5799999999977, \"overdose_per_100k\": 13.893040940204344, \"ci_low\": 12.251122205321863, \"ci_high\": 15.534959675086824, \"Before/After\": \"Washington\"}, {\"Year\": 2014.6099999999976, \"overdose_per_100k\": 13.89559298237711, \"ci_low\": 12.231502709187671, \"ci_high\": 15.559683255566549, \"Before/After\": \"Washington\"}, {\"Year\": 2014.6399999999976, \"overdose_per_100k\": 13.898145024549876, \"ci_low\": 12.211579299957872, \"ci_high\": 15.58471074914188, \"Before/After\": \"Washington\"}, {\"Year\": 2014.6699999999976, \"overdose_per_100k\": 13.900697066722643, \"ci_low\": 12.191363966214563, \"ci_high\": 15.610030167230722, \"Before/After\": \"Washington\"}, {\"Year\": 2014.6999999999975, \"overdose_per_100k\": 13.903249108895409, \"ci_low\": 12.170868217086616, \"ci_high\": 15.635630000704202, \"Before/After\": \"Washington\"}, {\"Year\": 2014.7299999999975, \"overdose_per_100k\": 13.905801151068175, \"ci_low\": 12.150103095936089, \"ci_high\": 15.661499206200261, \"Before/After\": \"Washington\"}, {\"Year\": 2014.7599999999975, \"overdose_per_100k\": 13.908353193240941, \"ci_low\": 12.129079193289433, \"ci_high\": 15.68762719319245, \"Before/After\": \"Washington\"}, {\"Year\": 2014.7899999999975, \"overdose_per_100k\": 13.910905235413708, \"ci_low\": 12.10780665986074, \"ci_high\": 15.714003810966675, \"Before/After\": \"Washington\"}, {\"Year\": 2014.8199999999974, \"overdose_per_100k\": 13.913457277586474, \"ci_low\": 12.08629522140256, \"ci_high\": 15.740619333770388, \"Before/After\": \"Washington\"}, {\"Year\": 2014.8499999999974, \"overdose_per_100k\": 13.91600931975924, \"ci_low\": 12.064554193078306, \"ci_high\": 15.767464446440174, \"Before/After\": \"Washington\"}, {\"Year\": 2014.8799999999974, \"overdose_per_100k\": 13.918561361932007, \"ci_low\": 12.042592494168776, \"ci_high\": 15.794530229695237, \"Before/After\": \"Washington\"}, {\"Year\": 2014.9099999999974, \"overdose_per_100k\": 13.921113404104801, \"ci_low\": 12.020418662648726, \"ci_high\": 15.821808145560876, \"Before/After\": \"Washington\"}, {\"Year\": 2014.9399999999973, \"overdose_per_100k\": 13.923665446277568, \"ci_low\": 11.998040870546122, \"ci_high\": 15.849290022009013, \"Before/After\": \"Washington\"}, {\"Year\": 2014.9699999999973, \"overdose_per_100k\": 13.926217488450334, \"ci_low\": 11.975466937044498, \"ci_high\": 15.87696803985617, \"Before/After\": \"Washington\"}, {\"Year\": 2014.9999999999973, \"overdose_per_100k\": 13.9287695306231, \"ci_low\": 11.952704344036722, \"ci_high\": 15.904834717209479, \"Before/After\": \"Washington\"}], \"data-bc192cafe596218981a7feb4f595fd71\": [{\"Year\": 2009.0, \"overdose_per_100k\": 13.33497958583689, \"ci_low\": -10.153164434078263, \"ci_high\": 36.823123605752045, \"Before/After\": \"Control States - CO,MD,NC\"}, {\"Year\": 2009.02, \"overdose_per_100k\": 13.351585878619971, \"ci_low\": -9.855841512152953, \"ci_high\": 36.55901326939289, \"Before/After\": \"Control States - CO,MD,NC\"}, {\"Year\": 2009.04, \"overdose_per_100k\": 13.368192171402825, \"ci_low\": -9.560856547243436, \"ci_high\": 36.29724089004908, \"Before/After\": \"Control States - CO,MD,NC\"}, {\"Year\": 2009.06, \"overdose_per_100k\": 13.384798464185906, \"ci_low\": -9.268295738001221, \"ci_high\": 36.03789266637303, \"Before/After\": \"Control States - CO,MD,NC\"}, {\"Year\": 2009.08, \"overdose_per_100k\": 13.401404756968986, \"ci_low\": -8.97824874516585, \"ci_high\": 35.78105825910382, \"Before/After\": \"Control States - CO,MD,NC\"}, {\"Year\": 2009.1, \"overdose_per_100k\": 13.418011049752067, \"ci_low\": -8.690808861317713, \"ci_high\": 35.52683096082185, \"Before/After\": \"Control States - CO,MD,NC\"}, {\"Year\": 2009.12, \"overdose_per_100k\": 13.434617342535148, \"ci_low\": -8.406073060722477, \"ci_high\": 35.27530774579277, \"Before/After\": \"Control States - CO,MD,NC\"}, {\"Year\": 2009.1399999999999, \"overdose_per_100k\": 13.451223635318001, \"ci_low\": -8.124142166189003, \"ci_high\": 35.026589436825006, \"Before/After\": \"Control States - CO,MD,NC\"}, {\"Year\": 2009.1599999999999, \"overdose_per_100k\": 13.467829928101082, \"ci_low\": -7.8451209256183745, \"ci_high\": 34.78078078182054, \"Before/After\": \"Control States - CO,MD,NC\"}, {\"Year\": 2009.1799999999998, \"overdose_per_100k\": 13.484436220884163, \"ci_low\": -7.569118138637773, \"ci_high\": 34.5379905804061, \"Before/After\": \"Control States - CO,MD,NC\"}, {\"Year\": 2009.1999999999998, \"overdose_per_100k\": 13.501042513667244, \"ci_low\": -7.296246756498643, \"ci_high\": 34.298331783833135, \"Before/After\": \"Control States - CO,MD,NC\"}, {\"Year\": 2009.2199999999998, \"overdose_per_100k\": 13.517648806450097, \"ci_low\": -7.02662396120034, \"ci_high\": 34.06192157410054, \"Before/After\": \"Control States - CO,MD,NC\"}, {\"Year\": 2009.2399999999998, \"overdose_per_100k\": 13.534255099233178, \"ci_low\": -6.760371247724386, \"ci_high\": 33.82888144619074, \"Before/After\": \"Control States - CO,MD,NC\"}, {\"Year\": 2009.2599999999998, \"overdose_per_100k\": 13.550861392016259, \"ci_low\": -6.497614518154055, \"ci_high\": 33.59933730218657, \"Before/After\": \"Control States - CO,MD,NC\"}, {\"Year\": 2009.2799999999997, \"overdose_per_100k\": 13.56746768479934, \"ci_low\": -6.23848410323842, \"ci_high\": 33.3734194728371, \"Before/After\": \"Control States - CO,MD,NC\"}, {\"Year\": 2009.2999999999997, \"overdose_per_100k\": 13.584073977582193, \"ci_low\": -5.983114864495253, \"ci_high\": 33.151262819659635, \"Before/After\": \"Control States - CO,MD,NC\"}, {\"Year\": 2009.3199999999997, \"overdose_per_100k\": 13.600680270365274, \"ci_low\": -5.7316461436846495, \"ci_high\": 32.9330066844152, \"Before/After\": \"Control States - CO,MD,NC\"}, {\"Year\": 2009.3399999999997, \"overdose_per_100k\": 13.617286563148355, \"ci_low\": -5.484221825568106, \"ci_high\": 32.718794951864815, \"Before/After\": \"Control States - CO,MD,NC\"}, {\"Year\": 2009.3599999999997, \"overdose_per_100k\": 13.633892855931435, \"ci_low\": -5.240990277888837, \"ci_high\": 32.50877598975171, \"Before/After\": \"Control States - CO,MD,NC\"}, {\"Year\": 2009.3799999999997, \"overdose_per_100k\": 13.650499148714516, \"ci_low\": -5.002104325294198, \"ci_high\": 32.30310262272323, \"Before/After\": \"Control States - CO,MD,NC\"}, {\"Year\": 2009.3999999999996, \"overdose_per_100k\": 13.66710544149737, \"ci_low\": -4.767721168567572, \"ci_high\": 32.101932051562315, \"Before/After\": \"Control States - CO,MD,NC\"}, {\"Year\": 2009.4199999999996, \"overdose_per_100k\": 13.68371173428045, \"ci_low\": -4.538002254113806, \"ci_high\": 31.905425722674707, \"Before/After\": \"Control States - CO,MD,NC\"}, {\"Year\": 2009.4399999999996, \"overdose_per_100k\": 13.700318027063531, \"ci_low\": -4.313113118967156, \"ci_high\": 31.713749173094218, \"Before/After\": \"Control States - CO,MD,NC\"}, {\"Year\": 2009.4599999999996, \"overdose_per_100k\": 13.716924319846612, \"ci_low\": -4.093223219628225, \"ci_high\": 31.52707185932145, \"Before/After\": \"Control States - CO,MD,NC\"}, {\"Year\": 2009.4799999999996, \"overdose_per_100k\": 13.733530612629465, \"ci_low\": -3.8785056482385443, \"ci_high\": 31.345566873497475, \"Before/After\": \"Control States - CO,MD,NC\"}, {\"Year\": 2009.4999999999995, \"overdose_per_100k\": 13.750136905412546, \"ci_low\": -3.669136907596762, \"ci_high\": 31.169410718421855, \"Before/After\": \"Control States - CO,MD,NC\"}, {\"Year\": 2009.5199999999995, \"overdose_per_100k\": 13.766743198195627, \"ci_low\": -3.4652964819279077, \"ci_high\": 30.99878287831916, \"Before/After\": \"Control States - CO,MD,NC\"}, {\"Year\": 2009.5399999999995, \"overdose_per_100k\": 13.783349490978708, \"ci_low\": -3.2671665026562984, \"ci_high\": 30.833865484613714, \"Before/After\": \"Control States - CO,MD,NC\"}, {\"Year\": 2009.5599999999995, \"overdose_per_100k\": 13.799955783761561, \"ci_low\": -3.0749312442262813, \"ci_high\": 30.674842811749404, \"Before/After\": \"Control States - CO,MD,NC\"}, {\"Year\": 2009.5799999999995, \"overdose_per_100k\": 13.816562076544642, \"ci_low\": -2.888776627519075, \"ci_high\": 30.52190078060836, \"Before/After\": \"Control States - CO,MD,NC\"}, {\"Year\": 2009.5999999999995, \"overdose_per_100k\": 13.833168369327723, \"ci_low\": -2.7088896335033397, \"ci_high\": 30.375226372158785, \"Before/After\": \"Control States - CO,MD,NC\"}, {\"Year\": 2009.6199999999994, \"overdose_per_100k\": 13.849774662110804, \"ci_low\": -2.535457636140457, \"ci_high\": 30.235006960362064, \"Before/After\": \"Control States - CO,MD,NC\"}, {\"Year\": 2009.6399999999994, \"overdose_per_100k\": 13.866380954893657, \"ci_low\": -2.36866768724423, \"ci_high\": 30.101429597031544, \"Before/After\": \"Control States - CO,MD,NC\"}, {\"Year\": 2009.6599999999994, \"overdose_per_100k\": 13.882987247676738, \"ci_low\": -2.208705767808027, \"ci_high\": 29.974680263161503, \"Before/After\": \"Control States - CO,MD,NC\"}, {\"Year\": 2009.6799999999994, \"overdose_per_100k\": 13.899593540459819, \"ci_low\": -2.0557559056617105, \"ci_high\": 29.85494298658135, \"Before/After\": \"Control States - CO,MD,NC\"}, {\"Year\": 2009.6999999999994, \"overdose_per_100k\": 13.9161998332429, \"ci_low\": -1.9099993577586307, \"ci_high\": 29.742399024244428, \"Before/After\": \"Control States - CO,MD,NC\"}, {\"Year\": 2009.7199999999993, \"overdose_per_100k\": 13.93280612602598, \"ci_low\": -1.7716135756045883, \"ci_high\": 29.63722582765655, \"Before/After\": \"Control States - CO,MD,NC\"}, {\"Year\": 2009.7399999999993, \"overdose_per_100k\": 13.949412418808834, \"ci_low\": -1.6407712954312945, \"ci_high\": 29.53959613304896, \"Before/After\": \"Control States - CO,MD,NC\"}, {\"Year\": 2009.7599999999993, \"overdose_per_100k\": 13.966018711591914, \"ci_low\": -1.5176394727296127, \"ci_high\": 29.44967689591344, \"Before/After\": \"Control States - CO,MD,NC\"}, {\"Year\": 2009.7799999999993, \"overdose_per_100k\": 13.982625004374995, \"ci_low\": -1.4023782697868352, \"ci_high\": 29.367628278536827, \"Before/After\": \"Control States - CO,MD,NC\"}, {\"Year\": 2009.7999999999993, \"overdose_per_100k\": 13.999231297158076, \"ci_low\": -1.2951400029146942, \"ci_high\": 29.293602597230844, \"Before/After\": \"Control States - CO,MD,NC\"}, {\"Year\": 2009.8199999999993, \"overdose_per_100k\": 14.01583758994093, \"ci_low\": -1.1960680740468472, \"ci_high\": 29.227743253928708, \"Before/After\": \"Control States - CO,MD,NC\"}, {\"Year\": 2009.8399999999992, \"overdose_per_100k\": 14.03244388272401, \"ci_low\": -1.1052959367467334, \"ci_high\": 29.170183702194755, \"Before/After\": \"Control States - CO,MD,NC\"}, {\"Year\": 2009.8599999999992, \"overdose_per_100k\": 14.049050175507091, \"ci_low\": -1.0229461256121741, \"ci_high\": 29.121046476626354, \"Before/After\": \"Control States - CO,MD,NC\"}, {\"Year\": 2009.8799999999992, \"overdose_per_100k\": 14.065656468290172, \"ci_low\": -0.9491292646551788, \"ci_high\": 29.08044220123552, \"Before/After\": \"Control States - CO,MD,NC\"}, {\"Year\": 2009.8999999999992, \"overdose_per_100k\": 14.082262761073025, \"ci_low\": -0.8839432098301732, \"ci_high\": 29.04846873197622, \"Before/After\": \"Control States - CO,MD,NC\"}, {\"Year\": 2009.9199999999992, \"overdose_per_100k\": 14.098869053856106, \"ci_low\": -0.8274722413911366, \"ci_high\": 29.025210349103347, \"Before/After\": \"Control States - CO,MD,NC\"}, {\"Year\": 2009.9399999999991, \"overdose_per_100k\": 14.115475346639187, \"ci_low\": -0.7797863331015513, \"ci_high\": 29.010737026379925, \"Before/After\": \"Control States - CO,MD,NC\"}, {\"Year\": 2009.9599999999991, \"overdose_per_100k\": 14.132081639422267, \"ci_low\": -0.7409405484199336, \"ci_high\": 29.00510382726447, \"Before/After\": \"Control States - CO,MD,NC\"}, {\"Year\": 2009.979999999999, \"overdose_per_100k\": 14.14868793220512, \"ci_low\": -0.7109745837754797, \"ci_high\": 29.008350448185723, \"Before/After\": \"Control States - CO,MD,NC\"}, {\"Year\": 2009.999999999999, \"overdose_per_100k\": 14.165294224988202, \"ci_low\": -0.6899123918699406, \"ci_high\": 29.020500841846342, \"Before/After\": \"Control States - CO,MD,NC\"}, {\"Year\": 2010.019999999999, \"overdose_per_100k\": 14.181900517771282, \"ci_low\": -0.677761992249847, \"ci_high\": 29.041563027792414, \"Before/After\": \"Control States - CO,MD,NC\"}, {\"Year\": 2010.039999999999, \"overdose_per_100k\": 14.198506810554363, \"ci_low\": -0.6745153753017412, \"ci_high\": 29.071528996410468, \"Before/After\": \"Control States - CO,MD,NC\"}, {\"Year\": 2010.059999999999, \"overdose_per_100k\": 14.215113103337444, \"ci_low\": -0.680148573334872, \"ci_high\": 29.11037478000976, \"Before/After\": \"Control States - CO,MD,NC\"}, {\"Year\": 2010.079999999999, \"overdose_per_100k\": 14.231719396120297, \"ci_low\": -0.6946219050551825, \"ci_high\": 29.158060697295777, \"Before/After\": \"Control States - CO,MD,NC\"}, {\"Year\": 2010.099999999999, \"overdose_per_100k\": 14.248325688903378, \"ci_low\": -0.7178802769716022, \"ci_high\": 29.21453165477836, \"Before/After\": \"Control States - CO,MD,NC\"}, {\"Year\": 2010.119999999999, \"overdose_per_100k\": 14.264931981686459, \"ci_low\": -0.7498537453567131, \"ci_high\": 29.27971770872963, \"Before/After\": \"Control States - CO,MD,NC\"}, {\"Year\": 2010.139999999999, \"overdose_per_100k\": 14.28153827446954, \"ci_low\": -0.7904580196973825, \"ci_high\": 29.353534568636462, \"Before/After\": \"Control States - CO,MD,NC\"}, {\"Year\": 2010.159999999999, \"overdose_per_100k\": 14.298144567252393, \"ci_low\": -0.8395952541607699, \"ci_high\": 29.435884388665556, \"Before/After\": \"Control States - CO,MD,NC\"}, {\"Year\": 2010.179999999999, \"overdose_per_100k\": 14.314750860035474, \"ci_low\": -0.8971548048228541, \"ci_high\": 29.526656524893802, \"Before/After\": \"Control States - CO,MD,NC\"}, {\"Year\": 2010.199999999999, \"overdose_per_100k\": 14.331357152818555, \"ci_low\": -0.9630141472446141, \"ci_high\": 29.625728452881724, \"Before/After\": \"Control States - CO,MD,NC\"}, {\"Year\": 2010.219999999999, \"overdose_per_100k\": 14.347963445601636, \"ci_low\": -1.0370398274996084, \"ci_high\": 29.73296671870288, \"Before/After\": \"Control States - CO,MD,NC\"}, {\"Year\": 2010.2399999999989, \"overdose_per_100k\": 14.364569738384489, \"ci_low\": -1.11908844402023, \"ci_high\": 29.848227920789206, \"Before/After\": \"Control States - CO,MD,NC\"}, {\"Year\": 2010.2599999999989, \"overdose_per_100k\": 14.38117603116757, \"ci_low\": -1.2090076801328173, \"ci_high\": 29.971359742467957, \"Before/After\": \"Control States - CO,MD,NC\"}, {\"Year\": 2010.2799999999988, \"overdose_per_100k\": 14.39778232395065, \"ci_low\": -1.30663738330626, \"ci_high\": 30.10220203120756, \"Before/After\": \"Control States - CO,MD,NC\"}, {\"Year\": 2010.2999999999988, \"overdose_per_100k\": 14.414388616733731, \"ci_low\": -1.411810569503535, \"ci_high\": 30.240587802971, \"Before/After\": \"Control States - CO,MD,NC\"}, {\"Year\": 2010.3199999999988, \"overdose_per_100k\": 14.430994909516812, \"ci_low\": -1.524354540289334, \"ci_high\": 30.38634435932296, \"Before/After\": \"Control States - CO,MD,NC\"}, {\"Year\": 2010.3399999999988, \"overdose_per_100k\": 14.447601202299666, \"ci_low\": -1.644091806665326, \"ci_high\": 30.539294211264657, \"Before/After\": \"Control States - CO,MD,NC\"}, {\"Year\": 2010.3599999999988, \"overdose_per_100k\": 14.464207495082746, \"ci_low\": -1.7708411488583593, \"ci_high\": 30.699256139023852, \"Before/After\": \"Control States - CO,MD,NC\"}, {\"Year\": 2010.3799999999987, \"overdose_per_100k\": 14.480813787865827, \"ci_low\": -1.904418511185245, \"ci_high\": 30.8660460869169, \"Before/After\": \"Control States - CO,MD,NC\"}, {\"Year\": 2010.3999999999987, \"overdose_per_100k\": 14.497420080648908, \"ci_low\": -2.0446379221644015, \"ci_high\": 31.039478083462217, \"Before/After\": \"Control States - CO,MD,NC\"}, {\"Year\": 2010.4199999999987, \"overdose_per_100k\": 14.514026373431761, \"ci_low\": -2.1913123296464008, \"ci_high\": 31.219365076509924, \"Before/After\": \"Control States - CO,MD,NC\"}, {\"Year\": 2010.4399999999987, \"overdose_per_100k\": 14.530632666214842, \"ci_low\": -2.3442543600066053, \"ci_high\": 31.40551969243629, \"Before/After\": \"Control States - CO,MD,NC\"}, {\"Year\": 2010.4599999999987, \"overdose_per_100k\": 14.547238958997923, \"ci_low\": -2.503277031940513, \"ci_high\": 31.59775494993636, \"Before/After\": \"Control States - CO,MD,NC\"}, {\"Year\": 2010.4799999999987, \"overdose_per_100k\": 14.563845251781004, \"ci_low\": -2.6681944334626415, \"ci_high\": 31.79588493702465, \"Before/After\": \"Control States - CO,MD,NC\"}, {\"Year\": 2010.4999999999986, \"overdose_per_100k\": 14.580451544563857, \"ci_low\": -2.8388222641084724, \"ci_high\": 31.999725353236187, \"Before/After\": \"Control States - CO,MD,NC\"}, {\"Year\": 2010.5199999999986, \"overdose_per_100k\": 14.597057837346938, \"ci_low\": -3.014978426851801, \"ci_high\": 32.20909410154567, \"Before/After\": \"Control States - CO,MD,NC\"}, {\"Year\": 2010.5399999999986, \"overdose_per_100k\": 14.613664130130019, \"ci_low\": -3.1964834034458782, \"ci_high\": 32.42381166370592, \"Before/After\": \"Control States - CO,MD,NC\"}, {\"Year\": 2010.5599999999986, \"overdose_per_100k\": 14.6302704229131, \"ci_low\": -3.3831607247356494, \"ci_high\": 32.643701570561845, \"Before/After\": \"Control States - CO,MD,NC\"}, {\"Year\": 2010.5799999999986, \"overdose_per_100k\": 14.646876715695953, \"ci_low\": -3.574837273409443, \"ci_high\": 32.86859070480135, \"Before/After\": \"Control States - CO,MD,NC\"}, {\"Year\": 2010.5999999999985, \"overdose_per_100k\": 14.663483008479034, \"ci_low\": -3.7713436095689623, \"ci_high\": 33.098309626527026, \"Before/After\": \"Control States - CO,MD,NC\"}, {\"Year\": 2010.6199999999985, \"overdose_per_100k\": 14.680089301262115, \"ci_low\": -3.972514171855078, \"ci_high\": 33.33269277437931, \"Before/After\": \"Control States - CO,MD,NC\"}, {\"Year\": 2010.6399999999985, \"overdose_per_100k\": 14.696695594045195, \"ci_low\": -4.17818753819002, \"ci_high\": 33.57157872628041, \"Before/After\": \"Control States - CO,MD,NC\"}, {\"Year\": 2010.6599999999985, \"overdose_per_100k\": 14.713301886828276, \"ci_low\": -4.388206499474425, \"ci_high\": 33.81481027313097, \"Before/After\": \"Control States - CO,MD,NC\"}, {\"Year\": 2010.6799999999985, \"overdose_per_100k\": 14.72990817961113, \"ci_low\": -4.602418238994101, \"ci_high\": 34.062234598216364, \"Before/After\": \"Control States - CO,MD,NC\"}, {\"Year\": 2010.6999999999985, \"overdose_per_100k\": 14.74651447239421, \"ci_low\": -4.820674373360287, \"ci_high\": 34.31370331814871, \"Before/After\": \"Control States - CO,MD,NC\"}, {\"Year\": 2010.7199999999984, \"overdose_per_100k\": 14.763120765177291, \"ci_low\": -5.04283102581298, \"ci_high\": 34.56907255616756, \"Before/After\": \"Control States - CO,MD,NC\"}, {\"Year\": 2010.7399999999984, \"overdose_per_100k\": 14.779727057960372, \"ci_low\": -5.2687488469640975, \"ci_high\": 34.828202962884845, \"Before/After\": \"Control States - CO,MD,NC\"}, {\"Year\": 2010.7599999999984, \"overdose_per_100k\": 14.796333350743225, \"ci_low\": -5.49829299764329, \"ci_high\": 35.09095969912974, \"Before/After\": \"Control States - CO,MD,NC\"}, {\"Year\": 2010.7799999999984, \"overdose_per_100k\": 14.812939643526306, \"ci_low\": -5.7313331247495185, \"ci_high\": 35.35721241180213, \"Before/After\": \"Control States - CO,MD,NC\"}, {\"Year\": 2010.7999999999984, \"overdose_per_100k\": 14.829545936309387, \"ci_low\": -5.967743340925654, \"ci_high\": 35.626835213544425, \"Before/After\": \"Control States - CO,MD,NC\"}, {\"Year\": 2010.8199999999983, \"overdose_per_100k\": 14.846152229092468, \"ci_low\": -6.207402129632644, \"ci_high\": 35.899706587817576, \"Before/After\": \"Control States - CO,MD,NC\"}, {\"Year\": 2010.8399999999983, \"overdose_per_100k\": 14.862758521875321, \"ci_low\": -6.450192330431786, \"ci_high\": 36.17570937418243, \"Before/After\": \"Control States - CO,MD,NC\"}, {\"Year\": 2010.8599999999983, \"overdose_per_100k\": 14.879364814658402, \"ci_low\": -6.696000984704803, \"ci_high\": 36.45473061402161, \"Before/After\": \"Control States - CO,MD,NC\"}, {\"Year\": 2010.8799999999983, \"overdose_per_100k\": 14.895971107441483, \"ci_low\": -6.944719299843239, \"ci_high\": 36.73666151472621, \"Before/After\": \"Control States - CO,MD,NC\"}, {\"Year\": 2010.8999999999983, \"overdose_per_100k\": 14.912577400224563, \"ci_low\": -7.196242514091249, \"ci_high\": 37.02139731454038, \"Before/After\": \"Control States - CO,MD,NC\"}, {\"Year\": 2010.9199999999983, \"overdose_per_100k\": 14.929183693007417, \"ci_low\": -7.450469811733829, \"ci_high\": 37.30883719774866, \"Before/After\": \"Control States - CO,MD,NC\"}, {\"Year\": 2010.9399999999982, \"overdose_per_100k\": 14.945789985790498, \"ci_low\": -7.707304211747466, \"ci_high\": 37.598884183328465, \"Before/After\": \"Control States - CO,MD,NC\"}, {\"Year\": 2010.9599999999982, \"overdose_per_100k\": 14.962396278573578, \"ci_low\": -7.96665244133105, \"ci_high\": 37.89144499847821, \"Before/After\": \"Control States - CO,MD,NC\"}, {\"Year\": 2010.9799999999982, \"overdose_per_100k\": 14.97900257135666, \"ci_low\": -8.22842481996356, \"ci_high\": 38.18642996267688, \"Before/After\": \"Control States - CO,MD,NC\"}, {\"Year\": 2010.9999999999982, \"overdose_per_100k\": 14.99560886413974, \"ci_low\": -8.492535158829263, \"ci_high\": 38.48375288710874, \"Before/After\": \"Control States - CO,MD,NC\"}], \"data-72eae45c696c0768b3c71ad3feef72b4\": [{\"Year\": 2012.0, \"overdose_per_100k\": 13.116066501754176, \"ci_low\": 9.318669351239556, \"ci_high\": 16.913463652268796, \"Before/After\": \"Control States - CO,MD,NC\"}, {\"Year\": 2012.03, \"overdose_per_100k\": 13.16465340300465, \"ci_low\": 9.415903293321872, \"ci_high\": 16.913403512687427, \"Before/After\": \"Control States - CO,MD,NC\"}, {\"Year\": 2012.06, \"overdose_per_100k\": 13.213240304254668, \"ci_low\": 9.512774688821088, \"ci_high\": 16.913705919688248, \"Before/After\": \"Control States - CO,MD,NC\"}, {\"Year\": 2012.09, \"overdose_per_100k\": 13.261827205505142, \"ci_low\": 9.609269160679098, \"ci_high\": 16.914385250331186, \"Before/After\": \"Control States - CO,MD,NC\"}, {\"Year\": 2012.12, \"overdose_per_100k\": 13.310414106755616, \"ci_low\": 9.705371681410648, \"ci_high\": 16.91545653210058, \"Before/After\": \"Control States - CO,MD,NC\"}, {\"Year\": 2012.1499999999999, \"overdose_per_100k\": 13.35900100800609, \"ci_low\": 9.801066548256635, \"ci_high\": 16.916935467755543, \"Before/After\": \"Control States - CO,MD,NC\"}, {\"Year\": 2012.1799999999998, \"overdose_per_100k\": 13.407587909256563, \"ci_low\": 9.896337353254742, \"ci_high\": 16.918838465258382, \"Before/After\": \"Control States - CO,MD,NC\"}, {\"Year\": 2012.2099999999998, \"overdose_per_100k\": 13.456174810507036, \"ci_low\": 9.991166955960994, \"ci_high\": 16.921182665053077, \"Before/After\": \"Control States - CO,MD,NC\"}, {\"Year\": 2012.2399999999998, \"overdose_per_100k\": 13.50476171175751, \"ci_low\": 10.085537455747446, \"ci_high\": 16.923985967767575, \"Before/After\": \"Control States - CO,MD,NC\"}, {\"Year\": 2012.2699999999998, \"overdose_per_100k\": 13.553348613007984, \"ci_low\": 10.179430163309775, \"ci_high\": 16.927267062706193, \"Before/After\": \"Control States - CO,MD,NC\"}, {\"Year\": 2012.2999999999997, \"overdose_per_100k\": 13.601935514258003, \"ci_low\": 10.272825570506107, \"ci_high\": 16.931045458009898, \"Before/After\": \"Control States - CO,MD,NC\"}, {\"Year\": 2012.3299999999997, \"overdose_per_100k\": 13.650522415508476, \"ci_low\": 10.365703327092284, \"ci_high\": 16.93534150392467, \"Before/After\": \"Control States - CO,MD,NC\"}, {\"Year\": 2012.3599999999997, \"overdose_per_100k\": 13.69910931675895, \"ci_low\": 10.458042210457029, \"ci_high\": 16.94017642306087, \"Before/After\": \"Control States - CO,MD,NC\"}, {\"Year\": 2012.3899999999996, \"overdose_per_100k\": 13.747696218009423, \"ci_low\": 10.549820103288422, \"ci_high\": 16.945572332730425, \"Before/After\": \"Control States - CO,MD,NC\"}, {\"Year\": 2012.4199999999996, \"overdose_per_100k\": 13.796283119259897, \"ci_low\": 10.64101396775019, \"ci_high\": 16.951552270769604, \"Before/After\": \"Control States - CO,MD,NC\"}, {\"Year\": 2012.4499999999996, \"overdose_per_100k\": 13.84487002051037, \"ci_low\": 10.731599825084047, \"ci_high\": 16.958140215936695, \"Before/After\": \"Control States - CO,MD,NC\"}, {\"Year\": 2012.4799999999996, \"overdose_per_100k\": 13.893456921760844, \"ci_low\": 10.821552737583392, \"ci_high\": 16.965361105938296, \"Before/After\": \"Control States - CO,MD,NC\"}, {\"Year\": 2012.5099999999995, \"overdose_per_100k\": 13.942043823011318, \"ci_low\": 10.910846792907769, \"ci_high\": 16.973240853114866, \"Before/After\": \"Control States - CO,MD,NC\"}, {\"Year\": 2012.5399999999995, \"overdose_per_100k\": 13.990630724261337, \"ci_low\": 10.999455090183705, \"ci_high\": 16.981806358338968, \"Before/After\": \"Control States - CO,MD,NC\"}, {\"Year\": 2012.5699999999995, \"overdose_per_100k\": 14.03921762551181, \"ci_low\": 11.087349737859892, \"ci_high\": 16.99108551316373, \"Before/After\": \"Control States - CO,MD,NC\"}, {\"Year\": 2012.5999999999995, \"overdose_per_100k\": 14.087804526762284, \"ci_low\": 11.174501848306813, \"ci_high\": 17.001107205217757, \"Before/After\": \"Control States - CO,MD,NC\"}, {\"Year\": 2012.6299999999994, \"overdose_per_100k\": 14.136391428012757, \"ci_low\": 11.260881546259105, \"ci_high\": 17.01190130976641, \"Before/After\": \"Control States - CO,MD,NC\"}, {\"Year\": 2012.6599999999994, \"overdose_per_100k\": 14.184978329263231, \"ci_low\": 11.346457978861475, \"ci_high\": 17.02349867966499, \"Before/After\": \"Control States - CO,MD,NC\"}, {\"Year\": 2012.6899999999994, \"overdose_per_100k\": 14.233565230513705, \"ci_low\": 11.431199337715043, \"ci_high\": 17.035931123312366, \"Before/After\": \"Control States - CO,MD,NC\"}, {\"Year\": 2012.7199999999993, \"overdose_per_100k\": 14.282152131764178, \"ci_low\": 11.515072889968849, \"ci_high\": 17.049231373559508, \"Before/After\": \"Control States - CO,MD,NC\"}, {\"Year\": 2012.7499999999993, \"overdose_per_100k\": 14.330739033014652, \"ci_low\": 11.598045018835135, \"ci_high\": 17.063433047194167, \"Before/After\": \"Control States - CO,MD,NC\"}, {\"Year\": 2012.7799999999993, \"overdose_per_100k\": 14.37932593426467, \"ci_low\": 11.680081273264115, \"ci_high\": 17.078570595265226, \"Before/After\": \"Control States - CO,MD,NC\"}, {\"Year\": 2012.8099999999993, \"overdose_per_100k\": 14.427912835515144, \"ci_low\": 11.761146438095576, \"ci_high\": 17.094679232934713, \"Before/After\": \"Control States - CO,MD,NC\"}, {\"Year\": 2012.8399999999992, \"overdose_per_100k\": 14.476499736765618, \"ci_low\": 11.841204608176096, \"ci_high\": 17.11179486535514, \"Before/After\": \"Control States - CO,MD,NC\"}, {\"Year\": 2012.8699999999992, \"overdose_per_100k\": 14.525086638016091, \"ci_low\": 11.92021928539503, \"ci_high\": 17.129953990637155, \"Before/After\": \"Control States - CO,MD,NC\"}, {\"Year\": 2012.8999999999992, \"overdose_per_100k\": 14.573673539266565, \"ci_low\": 11.998153484879614, \"ci_high\": 17.149193593653518, \"Before/After\": \"Control States - CO,MD,NC\"}, {\"Year\": 2012.9299999999992, \"overdose_per_100k\": 14.622260440517039, \"ci_low\": 12.074969861442582, \"ci_high\": 17.169551019591495, \"Before/After\": \"Control States - CO,MD,NC\"}, {\"Year\": 2012.9599999999991, \"overdose_per_100k\": 14.670847341767512, \"ci_low\": 12.150630852314443, \"ci_high\": 17.191063831220582, \"Before/After\": \"Control States - CO,MD,NC\"}, {\"Year\": 2012.989999999999, \"overdose_per_100k\": 14.719434243017986, \"ci_low\": 12.225098835602841, \"ci_high\": 17.21376965043313, \"Before/After\": \"Control States - CO,MD,NC\"}, {\"Year\": 2013.019999999999, \"overdose_per_100k\": 14.768021144268005, \"ci_low\": 12.298336302894793, \"ci_high\": 17.237705985641217, \"Before/After\": \"Control States - CO,MD,NC\"}, {\"Year\": 2013.049999999999, \"overdose_per_100k\": 14.816608045518478, \"ci_low\": 12.370306056721807, \"ci_high\": 17.262910034315148, \"Before/After\": \"Control States - CO,MD,NC\"}, {\"Year\": 2013.079999999999, \"overdose_per_100k\": 14.865194946768952, \"ci_low\": 12.44097141317862, \"ci_high\": 17.289418480359284, \"Before/After\": \"Control States - CO,MD,NC\"}, {\"Year\": 2013.109999999999, \"overdose_per_100k\": 14.913781848019426, \"ci_low\": 12.510296424895735, \"ci_high\": 17.317267271143116, \"Before/After\": \"Control States - CO,MD,NC\"}, {\"Year\": 2013.139999999999, \"overdose_per_100k\": 14.9623687492699, \"ci_low\": 12.578246115850714, \"ci_high\": 17.346491382689084, \"Before/After\": \"Control States - CO,MD,NC\"}, {\"Year\": 2013.169999999999, \"overdose_per_100k\": 15.010955650520373, \"ci_low\": 12.644786721409314, \"ci_high\": 17.37712457963143, \"Before/After\": \"Control States - CO,MD,NC\"}, {\"Year\": 2013.199999999999, \"overdose_per_100k\": 15.059542551770846, \"ci_low\": 12.70988594183369, \"ci_high\": 17.409199161708003, \"Before/After\": \"Control States - CO,MD,NC\"}, {\"Year\": 2013.2299999999989, \"overdose_per_100k\": 15.10812945302132, \"ci_low\": 12.773513192483943, \"ci_high\": 17.442745713558697, \"Before/After\": \"Control States - CO,MD,NC\"}, {\"Year\": 2013.2599999999989, \"overdose_per_100k\": 15.156716354271339, \"ci_low\": 12.835639858072794, \"ci_high\": 17.477792850469886, \"Before/After\": \"Control States - CO,MD,NC\"}, {\"Year\": 2013.2899999999988, \"overdose_per_100k\": 15.205303255521812, \"ci_low\": 12.896239542216396, \"ci_high\": 17.51436696882723, \"Before/After\": \"Control States - CO,MD,NC\"}, {\"Year\": 2013.3199999999988, \"overdose_per_100k\": 15.253890156772286, \"ci_low\": 12.95528830374456, \"ci_high\": 17.552492009800012, \"Before/After\": \"Control States - CO,MD,NC\"}, {\"Year\": 2013.3499999999988, \"overdose_per_100k\": 15.30247705802276, \"ci_low\": 13.012764883247641, \"ci_high\": 17.592189232797878, \"Before/After\": \"Control States - CO,MD,NC\"}, {\"Year\": 2013.3799999999987, \"overdose_per_100k\": 15.351063959273233, \"ci_low\": 13.068650911303443, \"ci_high\": 17.633477007243023, \"Before/After\": \"Control States - CO,MD,NC\"}, {\"Year\": 2013.4099999999987, \"overdose_per_100k\": 15.399650860523707, \"ci_low\": 13.122931089083284, \"ci_high\": 17.67637063196413, \"Before/After\": \"Control States - CO,MD,NC\"}, {\"Year\": 2013.4399999999987, \"overdose_per_100k\": 15.44823776177418, \"ci_low\": 13.175593348889803, \"ci_high\": 17.720882174658556, \"Before/After\": \"Control States - CO,MD,NC\"}, {\"Year\": 2013.4699999999987, \"overdose_per_100k\": 15.4968246630242, \"ci_low\": 13.226628976970947, \"ci_high\": 17.767020349077452, \"Before/After\": \"Control States - CO,MD,NC\"}, {\"Year\": 2013.4999999999986, \"overdose_per_100k\": 15.545411564274673, \"ci_low\": 13.276032707311636, \"ci_high\": 17.81479042123771, \"Before/After\": \"Control States - CO,MD,NC\"}, {\"Year\": 2013.5299999999986, \"overdose_per_100k\": 15.593998465525146, \"ci_low\": 13.323802779346295, \"ci_high\": 17.864194151703998, \"Before/After\": \"Control States - CO,MD,NC\"}, {\"Year\": 2013.5599999999986, \"overdose_per_100k\": 15.64258536677562, \"ci_low\": 13.369940954114458, \"ci_high\": 17.915229779436782, \"Before/After\": \"Control States - CO,MD,NC\"}, {\"Year\": 2013.5899999999986, \"overdose_per_100k\": 15.691172268026094, \"ci_low\": 13.41445249669123, \"ci_high\": 17.967892039360958, \"Before/After\": \"Control States - CO,MD,NC\"}, {\"Year\": 2013.6199999999985, \"overdose_per_100k\": 15.739759169276567, \"ci_low\": 13.457346121287154, \"ci_high\": 18.022172217265982, \"Before/After\": \"Control States - CO,MD,NC\"}, {\"Year\": 2013.6499999999985, \"overdose_per_100k\": 15.78834607052704, \"ci_low\": 13.498633895607782, \"ci_high\": 18.0780582454463, \"Before/After\": \"Control States - CO,MD,NC\"}, {\"Year\": 2013.6799999999985, \"overdose_per_100k\": 15.836932971777514, \"ci_low\": 13.538331118490092, \"ci_high\": 18.135534825064937, \"Before/After\": \"Control States - CO,MD,NC\"}, {\"Year\": 2013.7099999999984, \"overdose_per_100k\": 15.885519873027533, \"ci_low\": 13.576456159806826, \"ci_high\": 18.19458358624824, \"Before/After\": \"Control States - CO,MD,NC\"}, {\"Year\": 2013.7399999999984, \"overdose_per_100k\": 15.934106774278007, \"ci_low\": 13.61303027804081, \"ci_high\": 18.255183270515204, \"Before/After\": \"Control States - CO,MD,NC\"}, {\"Year\": 2013.7699999999984, \"overdose_per_100k\": 15.98269367552848, \"ci_low\": 13.64807741483058, \"ci_high\": 18.31730993622638, \"Before/After\": \"Control States - CO,MD,NC\"}, {\"Year\": 2013.7999999999984, \"overdose_per_100k\": 16.031280576778954, \"ci_low\": 13.6816239670196, \"ci_high\": 18.380937186538308, \"Before/After\": \"Control States - CO,MD,NC\"}, {\"Year\": 2013.8299999999983, \"overdose_per_100k\": 16.079867478029428, \"ci_low\": 13.71369854898208, \"ci_high\": 18.446036407076775, \"Before/After\": \"Control States - CO,MD,NC\"}, {\"Year\": 2013.8599999999983, \"overdose_per_100k\": 16.1284543792799, \"ci_low\": 13.74433174580433, \"ci_high\": 18.512577012755475, \"Before/After\": \"Control States - CO,MD,NC\"}, {\"Year\": 2013.8899999999983, \"overdose_per_100k\": 16.177041280530375, \"ci_low\": 13.773555857231988, \"ci_high\": 18.580526703828763, \"Before/After\": \"Control States - CO,MD,NC\"}, {\"Year\": 2013.9199999999983, \"overdose_per_100k\": 16.22562818178085, \"ci_low\": 13.801404647907162, \"ci_high\": 18.649851715654535, \"Before/After\": \"Control States - CO,MD,NC\"}, {\"Year\": 2013.9499999999982, \"overdose_per_100k\": 16.274215083030867, \"ci_low\": 13.827913094277429, \"ci_high\": 18.720517071784307, \"Before/After\": \"Control States - CO,MD,NC\"}, {\"Year\": 2013.9799999999982, \"overdose_per_100k\": 16.32280198428134, \"ci_low\": 13.85311714283548, \"ci_high\": 18.792486825727202, \"Before/After\": \"Control States - CO,MD,NC\"}, {\"Year\": 2014.0099999999982, \"overdose_per_100k\": 16.371388885531815, \"ci_low\": 13.877053477930618, \"ci_high\": 18.865724293133013, \"Before/After\": \"Control States - CO,MD,NC\"}, {\"Year\": 2014.0399999999981, \"overdose_per_100k\": 16.419975786782288, \"ci_low\": 13.899759297886865, \"ci_high\": 18.94019227567771, \"Before/After\": \"Control States - CO,MD,NC\"}, {\"Year\": 2014.0699999999981, \"overdose_per_100k\": 16.468562688032762, \"ci_low\": 13.921272108982164, \"ci_high\": 19.01585326708336, \"Before/After\": \"Control States - CO,MD,NC\"}, {\"Year\": 2014.099999999998, \"overdose_per_100k\": 16.517149589283235, \"ci_low\": 13.941629534809458, \"ci_high\": 19.092669643757013, \"Before/After\": \"Control States - CO,MD,NC\"}, {\"Year\": 2014.129999999998, \"overdose_per_100k\": 16.56573649053371, \"ci_low\": 13.960869137716916, \"ci_high\": 19.170603843350502, \"Before/After\": \"Control States - CO,MD,NC\"}, {\"Year\": 2014.159999999998, \"overdose_per_100k\": 16.614323391784183, \"ci_low\": 13.979028263308866, \"ci_high\": 19.2496185202595, \"Before/After\": \"Control States - CO,MD,NC\"}, {\"Year\": 2014.189999999998, \"overdose_per_100k\": 16.6629102930342, \"ci_low\": 13.99614389562075, \"ci_high\": 19.329676690447656, \"Before/After\": \"Control States - CO,MD,NC\"}, {\"Year\": 2014.219999999998, \"overdose_per_100k\": 16.711497194284675, \"ci_low\": 14.01225253318451, \"ci_high\": 19.410741855384842, \"Before/After\": \"Control States - CO,MD,NC\"}, {\"Year\": 2014.249999999998, \"overdose_per_100k\": 16.76008409553515, \"ci_low\": 14.027390081153076, \"ci_high\": 19.49277810991722, \"Before/After\": \"Control States - CO,MD,NC\"}, {\"Year\": 2014.279999999998, \"overdose_per_100k\": 16.808670996785622, \"ci_low\": 14.041591755465673, \"ci_high\": 19.57575023810557, \"Before/After\": \"Control States - CO,MD,NC\"}, {\"Year\": 2014.309999999998, \"overdose_per_100k\": 16.857257898036096, \"ci_low\": 14.054892005227106, \"ci_high\": 19.659623790845085, \"Before/After\": \"Control States - CO,MD,NC\"}, {\"Year\": 2014.3399999999979, \"overdose_per_100k\": 16.90584479928657, \"ci_low\": 14.067324448774334, \"ci_high\": 19.744365149798803, \"Before/After\": \"Control States - CO,MD,NC\"}, {\"Year\": 2014.3699999999978, \"overdose_per_100k\": 16.954431700537043, \"ci_low\": 14.078921818574974, \"ci_high\": 19.829941582499114, \"Before/After\": \"Control States - CO,MD,NC\"}, {\"Year\": 2014.3999999999978, \"overdose_per_100k\": 17.003018601787517, \"ci_low\": 14.08971592340465, \"ci_high\": 19.916321280170383, \"Before/After\": \"Control States - CO,MD,NC\"}, {\"Year\": 2014.4299999999978, \"overdose_per_100k\": 17.051605503037536, \"ci_low\": 14.099737615360839, \"ci_high\": 20.00347339071423, \"Before/After\": \"Control States - CO,MD,NC\"}, {\"Year\": 2014.4599999999978, \"overdose_per_100k\": 17.10019240428801, \"ci_low\": 14.10901677009041, \"ci_high\": 20.09136803848561, \"Before/After\": \"Control States - CO,MD,NC\"}, {\"Year\": 2014.4899999999977, \"overdose_per_100k\": 17.148779305538483, \"ci_low\": 14.11758227557814, \"ci_high\": 20.179976335498825, \"Before/After\": \"Control States - CO,MD,NC\"}, {\"Year\": 2014.5199999999977, \"overdose_per_100k\": 17.197366206788956, \"ci_low\": 14.125462023010595, \"ci_high\": 20.269270390567318, \"Before/After\": \"Control States - CO,MD,NC\"}, {\"Year\": 2014.5499999999977, \"overdose_per_100k\": 17.24595310803943, \"ci_low\": 14.132682912575078, \"ci_high\": 20.359223303503782, \"Before/After\": \"Control States - CO,MD,NC\"}, {\"Year\": 2014.5799999999977, \"overdose_per_100k\": 17.294540009289904, \"ci_low\": 14.139270857652294, \"ci_high\": 20.449809160927515, \"Before/After\": \"Control States - CO,MD,NC\"}, {\"Year\": 2014.6099999999976, \"overdose_per_100k\": 17.343126910540377, \"ci_low\": 14.145250795940804, \"ci_high\": 20.54100302513995, \"Before/After\": \"Control States - CO,MD,NC\"}, {\"Year\": 2014.6399999999976, \"overdose_per_100k\": 17.39171381179085, \"ci_low\": 14.15064670552643, \"ci_high\": 20.63278091805527, \"Before/After\": \"Control States - CO,MD,NC\"}, {\"Year\": 2014.6699999999976, \"overdose_per_100k\": 17.44030071304087, \"ci_low\": 14.155481624575021, \"ci_high\": 20.725119801506718, \"Before/After\": \"Control States - CO,MD,NC\"}, {\"Year\": 2014.6999999999975, \"overdose_per_100k\": 17.488887614291343, \"ci_low\": 14.159777670404473, \"ci_high\": 20.817997558178213, \"Before/After\": \"Control States - CO,MD,NC\"}, {\"Year\": 2014.7299999999975, \"overdose_per_100k\": 17.537474515541817, \"ci_low\": 14.163556065945912, \"ci_high\": 20.911392965137722, \"Before/After\": \"Control States - CO,MD,NC\"}, {\"Year\": 2014.7599999999975, \"overdose_per_100k\": 17.58606141679229, \"ci_low\": 14.166837161114616, \"ci_high\": 21.005285672469967, \"Before/After\": \"Control States - CO,MD,NC\"}, {\"Year\": 2014.7899999999975, \"overdose_per_100k\": 17.634648318042764, \"ci_low\": 14.16964046343659, \"ci_high\": 21.09965617264894, \"Before/After\": \"Control States - CO,MD,NC\"}, {\"Year\": 2014.8199999999974, \"overdose_per_100k\": 17.683235219293238, \"ci_low\": 14.171984663151155, \"ci_high\": 21.194485775435318, \"Before/After\": \"Control States - CO,MD,NC\"}, {\"Year\": 2014.8499999999974, \"overdose_per_100k\": 17.73182212054371, \"ci_low\": 14.173887660878256, \"ci_high\": 21.28975658020917, \"Before/After\": \"Control States - CO,MD,NC\"}, {\"Year\": 2014.8799999999974, \"overdose_per_100k\": 17.780409021794185, \"ci_low\": 14.175366596457975, \"ci_high\": 21.385451447130393, \"Before/After\": \"Control States - CO,MD,NC\"}, {\"Year\": 2014.9099999999974, \"overdose_per_100k\": 17.828995923044204, \"ci_low\": 14.176437878149013, \"ci_high\": 21.481553967939394, \"Before/After\": \"Control States - CO,MD,NC\"}, {\"Year\": 2014.9399999999973, \"overdose_per_100k\": 17.877582824294677, \"ci_low\": 14.17711720871578, \"ci_high\": 21.578048439873577, \"Before/After\": \"Control States - CO,MD,NC\"}, {\"Year\": 2014.9699999999973, \"overdose_per_100k\": 17.92616972554515, \"ci_low\": 14.177419615930306, \"ci_high\": 21.674919835159997, \"Before/After\": \"Control States - CO,MD,NC\"}, {\"Year\": 2014.9999999999973, \"overdose_per_100k\": 17.974756626795624, \"ci_low\": 14.177359476556738, \"ci_high\": 21.77215377703451, \"Before/After\": \"Control States - CO,MD,NC\"}], \"data-12fa130837655ae321383954ec916afe\": [{\"Year\": 2012, \"color\": \"black\"}]}}, {\"mode\": \"vega-lite\"});\n",
       "</script>"
      ],
      "text/plain": [
       "alt.LayerChart(...)"
      ]
     },
     "execution_count": 32,
     "metadata": {},
     "output_type": "execute_result"
    }
   ],
   "source": [
    "# creating the final plot for pre-post analysis of drug overdose deaths in Florida\n",
    " \n",
    "washington_before_chart = build_chart(\n",
    "    wa_b4, \"orange\", \"Year\",\"overdose_per_100k\", \"Washington\",  alpha=0.05\n",
    ")\n",
    " \n",
    "washington_after_chart = build_chart(\n",
    "    wa_after, \"orange\", \"Year\", \"overdose_per_100k\", \"Washington\", alpha=0.05\n",
    ")\n",
    "\n",
    "other_states_before_chart = build_chart(\n",
    "    comp_b4, \"blue\", \"Year\",\"overdose_per_100k\", \"Control States - CO,MD,NC\",  alpha=0.05\n",
    ")\n",
    " \n",
    "other_states_after_chart = build_chart(\n",
    "    comp_after, \"blue\", \"Year\", \"overdose_per_100k\", \"Control States - CO,MD,NC\", alpha=0.05\n",
    ")\n",
    " \n",
    "washington_final_diff_in_diff_deaths = (washington_before_chart + washington_after_chart + other_states_before_chart + other_states_after_chart + line).properties(title=\"Difference-In-Difference Analysis Of Opioid Overdose Deaths In Washington\")\n",
    " \n",
    "washington_final_diff_in_diff_deaths"
   ]
  }
 ],
 "metadata": {
  "kernelspec": {
   "display_name": "base",
   "language": "python",
   "name": "python3"
  },
  "language_info": {
   "codemirror_mode": {
    "name": "ipython",
    "version": 3
   },
   "file_extension": ".py",
   "mimetype": "text/x-python",
   "name": "python",
   "nbconvert_exporter": "python",
   "pygments_lexer": "ipython3",
   "version": "3.10.6"
  },
  "orig_nbformat": 4,
  "vscode": {
   "interpreter": {
    "hash": "5e5707f4ad9c4f37a6b2df8d93f22391df514f9ef0254645a2ae8a9db16a7e3b"
   }
  }
 },
 "nbformat": 4,
 "nbformat_minor": 2
}
