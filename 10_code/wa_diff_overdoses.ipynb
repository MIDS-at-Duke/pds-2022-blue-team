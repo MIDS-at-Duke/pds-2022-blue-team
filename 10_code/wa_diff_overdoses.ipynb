{
 "cells": [
  {
   "cell_type": "code",
   "execution_count": 102,
   "metadata": {},
   "outputs": [],
   "source": [
    "import pandas as pd\n",
    "import numpy as np\n",
    "import matplotlib.pyplot as plt\n",
    "import seaborn as sns\n",
    "import altair as alt\n",
    "from plotnine import *\n",
    "import statsmodels.api as sm\n",
    "import statsmodels.formula.api as smf"
   ]
  },
  {
   "cell_type": "code",
   "execution_count": 103,
   "metadata": {},
   "outputs": [],
   "source": [
    "# load in pre-cleaned deaths data for Texas and comparison states\n",
    "deaths = pd.read_csv(\"../20_intermediate_files/deaths_wa.csv\")\n"
   ]
  },
  {
   "cell_type": "code",
   "execution_count": 104,
   "metadata": {},
   "outputs": [],
   "source": [
    "# two separate dfs - one for texas and one for comp states\n",
    "\n",
    "washington = deaths[deaths[\"StateName\"] == \"Washington\"]\n",
    "comp = deaths[deaths[\"StateName\"] != \"Washington\"]"
   ]
  },
  {
   "cell_type": "markdown",
   "metadata": {},
   "source": [
    "### Helper functions "
   ]
  },
  {
   "cell_type": "code",
   "execution_count": 105,
   "metadata": {},
   "outputs": [],
   "source": [
    "# function to select only overdose records\n",
    "# double check this\n",
    "\n",
    "def select_overdose(record):\n",
    "    \"\"\"Simple function to select only overdose records\"\"\"\n",
    "\n",
    "    if record == \"All other non-drug and non-alcohol causes\":\n",
    "        return 0\n",
    "\n",
    "    if record == \"All other alcohol-induced causes\":\n",
    "        return 0\n",
    "\n",
    "    if record == \"All other drug-induced causes\":\n",
    "        return 0\n",
    "\n",
    "    if record == \"Alcohol poisonings (overdose) (X45, X65, Y15)\":\n",
    "        return 0\n",
    "\n",
    "    if record == \"Drug poisonings (overdose) Unintentional (X40-X44)\":\n",
    "        return 1\n",
    "\n",
    "    if record == \"Drug poisonings (overdose) Suicide (X60-X64)\":\n",
    "        return 1\n",
    "\n",
    "    if record == \"Drug poisonings (overdose) Undetermined (Y10-Y14)\":\n",
    "        return 1\n",
    "\n",
    "    else:\n",
    "        return \"error\"\n",
    "    \n",
    "\n",
    "# copy to fix the dreaded \"A value is trying to be set on a copy of a slice\" error\n",
    "wa_deaths = washington.copy()\n",
    "comp_deaths = comp.copy()\n",
    "\n",
    "# apply new function to our df\n",
    "wa_deaths[\"overdose\"] = wa_deaths[\"Drug/Alcohol Induced Cause\"].apply(lambda x: select_overdose(x))\n",
    "comp_deaths[\"overdose\"] = comp_deaths[\"Drug/Alcohol Induced Cause\"].apply(lambda x: select_overdose(x))\n",
    "\n",
    "assert len(wa_deaths[wa_deaths[\"overdose\"] == \"error\"]) == 0\n",
    "assert len(comp_deaths[comp_deaths[\"overdose\"] == \"error\"]) == 0\n",
    "\n",
    "# filter accordingly based on new column\n",
    "wa_deaths = wa_deaths[wa_deaths[\"overdose\"] != 0]\n",
    "comp_deaths = comp_deaths[comp_deaths[\"overdose\"] != 0]"
   ]
  },
  {
   "cell_type": "code",
   "execution_count": 106,
   "metadata": {},
   "outputs": [],
   "source": [
    "# calculate overdoses per 100_000 residents\n",
    "\n",
    "wa_deaths[\"overdose_per_100k\"] = wa_deaths[\"Deaths\"] / wa_deaths[\"Population\"] * 100_000\n",
    "comp_deaths[\"overdose_per_100k\"] = comp_deaths[\"Deaths\"] / comp_deaths[\"Population\"] * 100_000"
   ]
  },
  {
   "cell_type": "code",
   "execution_count": 107,
   "metadata": {},
   "outputs": [],
   "source": [
    "# groupby year and county\n",
    "wa_result = wa_deaths.groupby([\"Year\", \"County\"])[\"overdose_per_100k\"].sum().reset_index()\n",
    "comp_result = comp_deaths.groupby([\"Year\", \"StateName\", \"CountyName\"])[\"overdose_per_100k\"].sum().reset_index()"
   ]
  },
  {
   "cell_type": "code",
   "execution_count": 108,
   "metadata": {},
   "outputs": [
    {
     "data": {
      "text/html": [
       "<div>\n",
       "<style scoped>\n",
       "    .dataframe tbody tr th:only-of-type {\n",
       "        vertical-align: middle;\n",
       "    }\n",
       "\n",
       "    .dataframe tbody tr th {\n",
       "        vertical-align: top;\n",
       "    }\n",
       "\n",
       "    .dataframe thead th {\n",
       "        text-align: right;\n",
       "    }\n",
       "</style>\n",
       "<table border=\"1\" class=\"dataframe\">\n",
       "  <thead>\n",
       "    <tr style=\"text-align: right;\">\n",
       "      <th></th>\n",
       "      <th>Year</th>\n",
       "      <th>County</th>\n",
       "      <th>overdose_per_100k</th>\n",
       "    </tr>\n",
       "  </thead>\n",
       "  <tbody>\n",
       "    <tr>\n",
       "      <th>0</th>\n",
       "      <td>2009.0</td>\n",
       "      <td>Benton</td>\n",
       "      <td>9.934433</td>\n",
       "    </tr>\n",
       "    <tr>\n",
       "      <th>1</th>\n",
       "      <td>2009.0</td>\n",
       "      <td>Clallam</td>\n",
       "      <td>18.290023</td>\n",
       "    </tr>\n",
       "    <tr>\n",
       "      <th>2</th>\n",
       "      <td>2009.0</td>\n",
       "      <td>Clark</td>\n",
       "      <td>14.006400</td>\n",
       "    </tr>\n",
       "    <tr>\n",
       "      <th>3</th>\n",
       "      <td>2009.0</td>\n",
       "      <td>Cowlitz</td>\n",
       "      <td>17.625286</td>\n",
       "    </tr>\n",
       "    <tr>\n",
       "      <th>4</th>\n",
       "      <td>2009.0</td>\n",
       "      <td>Grant</td>\n",
       "      <td>19.464163</td>\n",
       "    </tr>\n",
       "    <tr>\n",
       "      <th>...</th>\n",
       "      <td>...</td>\n",
       "      <td>...</td>\n",
       "      <td>...</td>\n",
       "    </tr>\n",
       "    <tr>\n",
       "      <th>105</th>\n",
       "      <td>2015.0</td>\n",
       "      <td>Snohomish</td>\n",
       "      <td>16.499978</td>\n",
       "    </tr>\n",
       "    <tr>\n",
       "      <th>106</th>\n",
       "      <td>2015.0</td>\n",
       "      <td>Spokane</td>\n",
       "      <td>18.828923</td>\n",
       "    </tr>\n",
       "    <tr>\n",
       "      <th>107</th>\n",
       "      <td>2015.0</td>\n",
       "      <td>Thurston</td>\n",
       "      <td>9.702289</td>\n",
       "    </tr>\n",
       "    <tr>\n",
       "      <th>108</th>\n",
       "      <td>2015.0</td>\n",
       "      <td>Whatcom</td>\n",
       "      <td>10.857456</td>\n",
       "    </tr>\n",
       "    <tr>\n",
       "      <th>109</th>\n",
       "      <td>2015.0</td>\n",
       "      <td>Yakima</td>\n",
       "      <td>10.492333</td>\n",
       "    </tr>\n",
       "  </tbody>\n",
       "</table>\n",
       "<p>110 rows × 3 columns</p>\n",
       "</div>"
      ],
      "text/plain": [
       "       Year     County  overdose_per_100k\n",
       "0    2009.0     Benton           9.934433\n",
       "1    2009.0    Clallam          18.290023\n",
       "2    2009.0      Clark          14.006400\n",
       "3    2009.0    Cowlitz          17.625286\n",
       "4    2009.0      Grant          19.464163\n",
       "..      ...        ...                ...\n",
       "105  2015.0  Snohomish          16.499978\n",
       "106  2015.0    Spokane          18.828923\n",
       "107  2015.0   Thurston           9.702289\n",
       "108  2015.0    Whatcom          10.857456\n",
       "109  2015.0     Yakima          10.492333\n",
       "\n",
       "[110 rows x 3 columns]"
      ]
     },
     "execution_count": 108,
     "metadata": {},
     "output_type": "execute_result"
    }
   ],
   "source": [
    "wa_result"
   ]
  },
  {
   "cell_type": "code",
   "execution_count": 109,
   "metadata": {},
   "outputs": [],
   "source": [
    "# calculate summary stats\n",
    "wa_res = pd.DataFrame(wa_result.describe()[\"overdose_per_100k\"]).rename(columns={\"overdose_per_100k\": \"Overdoses per 100k Residents - Washington\"})\n",
    "comp_res = pd.DataFrame(comp_result.describe()[\"overdose_per_100k\"]).rename(columns={\"overdose_per_100k\": \"Overdoses per 100k Residents - Comp States\"})"
   ]
  },
  {
   "cell_type": "code",
   "execution_count": 110,
   "metadata": {},
   "outputs": [
    {
     "data": {
      "text/html": [
       "<div>\n",
       "<style scoped>\n",
       "    .dataframe tbody tr th:only-of-type {\n",
       "        vertical-align: middle;\n",
       "    }\n",
       "\n",
       "    .dataframe tbody tr th {\n",
       "        vertical-align: top;\n",
       "    }\n",
       "\n",
       "    .dataframe thead th {\n",
       "        text-align: right;\n",
       "    }\n",
       "</style>\n",
       "<table border=\"1\" class=\"dataframe\">\n",
       "  <thead>\n",
       "    <tr style=\"text-align: right;\">\n",
       "      <th></th>\n",
       "      <th>Overdoses per 100k Residents - Washington</th>\n",
       "      <th>Overdoses per 100k Residents - Comp States</th>\n",
       "    </tr>\n",
       "  </thead>\n",
       "  <tbody>\n",
       "    <tr>\n",
       "      <th>count</th>\n",
       "      <td>110.000000</td>\n",
       "      <td>432.000000</td>\n",
       "    </tr>\n",
       "    <tr>\n",
       "      <th>mean</th>\n",
       "      <td>13.685771</td>\n",
       "      <td>15.081958</td>\n",
       "    </tr>\n",
       "    <tr>\n",
       "      <th>std</th>\n",
       "      <td>4.513948</td>\n",
       "      <td>8.240315</td>\n",
       "    </tr>\n",
       "    <tr>\n",
       "      <th>min</th>\n",
       "      <td>5.666846</td>\n",
       "      <td>1.845015</td>\n",
       "    </tr>\n",
       "    <tr>\n",
       "      <th>25%</th>\n",
       "      <td>9.990164</td>\n",
       "      <td>9.607172</td>\n",
       "    </tr>\n",
       "    <tr>\n",
       "      <th>50%</th>\n",
       "      <td>13.668037</td>\n",
       "      <td>13.405339</td>\n",
       "    </tr>\n",
       "    <tr>\n",
       "      <th>75%</th>\n",
       "      <td>16.473949</td>\n",
       "      <td>18.537336</td>\n",
       "    </tr>\n",
       "    <tr>\n",
       "      <th>max</th>\n",
       "      <td>26.390640</td>\n",
       "      <td>78.330841</td>\n",
       "    </tr>\n",
       "  </tbody>\n",
       "</table>\n",
       "</div>"
      ],
      "text/plain": [
       "       Overdoses per 100k Residents - Washington  \\\n",
       "count                                 110.000000   \n",
       "mean                                   13.685771   \n",
       "std                                     4.513948   \n",
       "min                                     5.666846   \n",
       "25%                                     9.990164   \n",
       "50%                                    13.668037   \n",
       "75%                                    16.473949   \n",
       "max                                    26.390640   \n",
       "\n",
       "       Overdoses per 100k Residents - Comp States  \n",
       "count                                  432.000000  \n",
       "mean                                    15.081958  \n",
       "std                                      8.240315  \n",
       "min                                      1.845015  \n",
       "25%                                      9.607172  \n",
       "50%                                     13.405339  \n",
       "75%                                     18.537336  \n",
       "max                                     78.330841  "
      ]
     },
     "execution_count": 110,
     "metadata": {},
     "output_type": "execute_result"
    }
   ],
   "source": [
    "stats = pd.concat([wa_res, comp_res], axis=1)\n",
    "stats"
   ]
  },
  {
   "cell_type": "code",
   "execution_count": 111,
   "metadata": {},
   "outputs": [],
   "source": [
    "# overwrite wa result to be grouped by year only\n",
    "wa_result = wa_result.groupby(\"Year\")[\"overdose_per_100k\"].mean().reset_index()\n",
    "comp_result = comp_result.groupby([\"Year\"])[\"overdose_per_100k\"].mean().reset_index()"
   ]
  },
  {
   "cell_type": "code",
   "execution_count": 112,
   "metadata": {},
   "outputs": [],
   "source": [
    "wa_res_checkpoint = wa_result.copy()\n",
    "comp_res_checkpoint = comp_result.copy()\n",
    "\n",
    "\n",
    "# assert length is the same\n",
    "assert (len(wa_result) == len(wa_res_checkpoint)) & (len(comp_result) == len(comp_res_checkpoint))"
   ]
  },
  {
   "cell_type": "markdown",
   "metadata": {},
   "source": [
    "## Pre-post plot - overdoses per 100k through the years"
   ]
  },
  {
   "cell_type": "code",
   "execution_count": 113,
   "metadata": {},
   "outputs": [],
   "source": [
    "\n",
    "wa_b4 = wa_result[wa_result[\"Year\"] < 2012]\n",
    "wa_after = wa_result[wa_result[\"Year\"] >= 2012]"
   ]
  },
  {
   "cell_type": "code",
   "execution_count": 114,
   "metadata": {},
   "outputs": [],
   "source": [
    "comp_b4 = comp_result[comp_result[\"Year\"] < 2012]\n",
    "comp_after = comp_result[comp_result[\"Year\"] >= 2012]\n"
   ]
  },
  {
   "cell_type": "code",
   "execution_count": 115,
   "metadata": {},
   "outputs": [],
   "source": [
    "x = \"Year\"\n",
    "y = \"overdose_per_100k\""
   ]
  },
  {
   "cell_type": "code",
   "execution_count": 116,
   "metadata": {},
   "outputs": [],
   "source": [
    "def vertical_line(year):\n",
    "    \"\"\"Function to plot a vertical line at year of policy implementation\"\"\"\n",
    "    line = alt.Chart(pd.DataFrame({\n",
    "    'Date': [year],\n",
    "    'color': [\"black\"]\n",
    "    })).mark_rule().encode(\n",
    "    x='Date:Q',\n",
    "    color=alt.Color('color:N', scale=None)\n",
    "    )\n",
    "\n",
    "    return line"
   ]
  },
  {
   "cell_type": "code",
   "execution_count": 117,
   "metadata": {},
   "outputs": [],
   "source": [
    "def get_reg_fit(data, yvar, xvar, color, title, alpha=0.05):\n",
    "    import statsmodels.formula.api as smf\n",
    "\n",
    "    # Grid for predicted values\n",
    "    x = data.loc[pd.notnull(data[yvar]), xvar]\n",
    "    xmin = x.min()\n",
    "    xmax = x.max()\n",
    "    step = (xmax - xmin) / 100\n",
    "    grid = np.arange(xmin, xmax + step, step)\n",
    "    predictions = pd.DataFrame({xvar: grid})\n",
    "\n",
    "    # Fit model, get predictions\n",
    "    model = smf.ols(f\"{yvar} ~ {xvar}\", data=data).fit()\n",
    "    model_predict = model.get_prediction(predictions[xvar])\n",
    "    predictions[yvar] = model_predict.summary_frame()[\"mean\"]\n",
    "    predictions[[\"ci_low\", \"ci_high\"]] = model_predict.conf_int(alpha=alpha)\n",
    "\n",
    "    # Build chart\n",
    "    reg = (\n",
    "        alt.Chart(predictions)\n",
    "        .mark_line()\n",
    "        .encode(\n",
    "            x=alt.X(xvar, scale=alt.Scale(zero=False), title=\"Year\"),\n",
    "            y=alt.Y(\n",
    "                yvar, scale=alt.Scale(zero=False), title=\"Overdoses per 100k Residents\"\n",
    "            ),\n",
    "            color=alt.value(color)\n",
    "        ).properties(title=title)\n",
    "    )\n",
    "    ci = (\n",
    "        alt.Chart(predictions)\n",
    "        .mark_errorband()\n",
    "        .encode(\n",
    "            x=xvar,\n",
    "            y=alt.Y(\"ci_low\", title=yvar),\n",
    "            y2=\"ci_high\",\n",
    "            color=alt.value(color),\n",
    "        )\n",
    "    )\n",
    "    chart = ci + reg\n",
    "    return predictions, chart\n"
   ]
  },
  {
   "cell_type": "code",
   "execution_count": 118,
   "metadata": {},
   "outputs": [],
   "source": [
    "line = vertical_line(2012)"
   ]
  },
  {
   "cell_type": "code",
   "execution_count": 119,
   "metadata": {},
   "outputs": [],
   "source": [
    "fit_wa_b4, reg_chart_wa_b4 = get_reg_fit(\n",
    "    wa_b4, yvar=\"overdose_per_100k\", xvar=\"Year\", color=\"blue\", title= \"Overdoses per 100k Residents - Washington\", alpha=0.05\n",
    ")\n",
    "\n",
    "\n",
    "fit_wa_b4, reg_chart_wa_after = get_reg_fit(\n",
    "    wa_after, yvar=\"overdose_per_100k\", xvar=\"Year\", color=\"blue\", title= \"Overdoses per 100k Residents - Washington\",alpha=0.05\n",
    ")\n",
    "# (reg_chart_wa_b4 + reg_chart_wa_after + line).properties(width=700, height=500)\n",
    "\n"
   ]
  },
  {
   "cell_type": "markdown",
   "metadata": {},
   "source": [
    "# Diff-in-Diff Plot"
   ]
  },
  {
   "cell_type": "code",
   "execution_count": 120,
   "metadata": {},
   "outputs": [],
   "source": [
    "# remaking these plots to change the title for diff in diff\n",
    "fit_wa_b4, reg_chart_wa_b4 = get_reg_fit(\n",
    "    wa_b4, yvar=\"overdose_per_100k\", xvar=\"Year\", color=\"blue\", title= \"Overdoses per 100k Residents - Washington (blue) vs. Comp States (green)\", alpha=0.05\n",
    ")\n",
    "\n",
    "\n",
    "fit_wa_b4, reg_chart_wa_after = get_reg_fit(\n",
    "    wa_after, yvar=\"overdose_per_100k\", xvar=\"Year\", color=\"blue\", title= \"Overdoses per 100k Residents - Washington (blue) vs. Comp States (green)\",alpha=0.05\n",
    ")\n",
    "(reg_chart_wa_b4 + reg_chart_wa_after + line).properties(width=700, height=500)\n",
    "\n",
    "# texas above\n",
    "################################################################\n",
    "# comp below\n",
    "\n",
    "fit_comp_b4, reg_chart_comp_b4 = get_reg_fit(\n",
    "    comp_b4, yvar=\"overdose_per_100k\", xvar=\"Year\", color=\"green\", title= \"Overdoses per 100k Residents - Comp States\",alpha=0.05\n",
    ")\n",
    "reg_chart_comp_b4\n",
    "\n",
    "\n",
    "fit_comp_after, reg_chart_comp_after = get_reg_fit(\n",
    "    comp_after, yvar=\"overdose_per_100k\", xvar=\"Year\", color=\"green\", title= \"Overdoses per 100k Residents - Comp States\",alpha=0.05\n",
    ")\n",
    "# reg_chart_comp_b4 + reg_chart_comp_after\n"
   ]
  },
  {
   "cell_type": "code",
   "execution_count": 121,
   "metadata": {},
   "outputs": [
    {
     "data": {
      "text/html": [
       "\n",
       "<div id=\"altair-viz-429d5ad3f3354939b54eb0ab4ed7e429\"></div>\n",
       "<script type=\"text/javascript\">\n",
       "  var VEGA_DEBUG = (typeof VEGA_DEBUG == \"undefined\") ? {} : VEGA_DEBUG;\n",
       "  (function(spec, embedOpt){\n",
       "    let outputDiv = document.currentScript.previousElementSibling;\n",
       "    if (outputDiv.id !== \"altair-viz-429d5ad3f3354939b54eb0ab4ed7e429\") {\n",
       "      outputDiv = document.getElementById(\"altair-viz-429d5ad3f3354939b54eb0ab4ed7e429\");\n",
       "    }\n",
       "    const paths = {\n",
       "      \"vega\": \"https://cdn.jsdelivr.net/npm//vega@5?noext\",\n",
       "      \"vega-lib\": \"https://cdn.jsdelivr.net/npm//vega-lib?noext\",\n",
       "      \"vega-lite\": \"https://cdn.jsdelivr.net/npm//vega-lite@4.17.0?noext\",\n",
       "      \"vega-embed\": \"https://cdn.jsdelivr.net/npm//vega-embed@6?noext\",\n",
       "    };\n",
       "\n",
       "    function maybeLoadScript(lib, version) {\n",
       "      var key = `${lib.replace(\"-\", \"\")}_version`;\n",
       "      return (VEGA_DEBUG[key] == version) ?\n",
       "        Promise.resolve(paths[lib]) :\n",
       "        new Promise(function(resolve, reject) {\n",
       "          var s = document.createElement('script');\n",
       "          document.getElementsByTagName(\"head\")[0].appendChild(s);\n",
       "          s.async = true;\n",
       "          s.onload = () => {\n",
       "            VEGA_DEBUG[key] = version;\n",
       "            return resolve(paths[lib]);\n",
       "          };\n",
       "          s.onerror = () => reject(`Error loading script: ${paths[lib]}`);\n",
       "          s.src = paths[lib];\n",
       "        });\n",
       "    }\n",
       "\n",
       "    function showError(err) {\n",
       "      outputDiv.innerHTML = `<div class=\"error\" style=\"color:red;\">${err}</div>`;\n",
       "      throw err;\n",
       "    }\n",
       "\n",
       "    function displayChart(vegaEmbed) {\n",
       "      vegaEmbed(outputDiv, spec, embedOpt)\n",
       "        .catch(err => showError(`Javascript Error: ${err.message}<br>This usually means there's a typo in your chart specification. See the javascript console for the full traceback.`));\n",
       "    }\n",
       "\n",
       "    if(typeof define === \"function\" && define.amd) {\n",
       "      requirejs.config({paths});\n",
       "      require([\"vega-embed\"], displayChart, err => showError(`Error loading script: ${err.message}`));\n",
       "    } else {\n",
       "      maybeLoadScript(\"vega\", \"5\")\n",
       "        .then(() => maybeLoadScript(\"vega-lite\", \"4.17.0\"))\n",
       "        .then(() => maybeLoadScript(\"vega-embed\", \"6\"))\n",
       "        .catch(showError)\n",
       "        .then(() => displayChart(vegaEmbed));\n",
       "    }\n",
       "  })({\"config\": {\"view\": {\"continuousWidth\": 400, \"continuousHeight\": 300}}, \"layer\": [{\"mark\": \"errorband\", \"encoding\": {\"color\": {\"value\": \"blue\"}, \"x\": {\"field\": \"Year\", \"type\": \"quantitative\"}, \"y\": {\"field\": \"ci_low\", \"title\": \"overdose_per_100k\", \"type\": \"quantitative\"}, \"y2\": {\"field\": \"ci_high\"}}}, {\"mark\": \"line\", \"encoding\": {\"color\": {\"value\": \"blue\"}, \"x\": {\"field\": \"Year\", \"scale\": {\"zero\": false}, \"title\": \"Year\", \"type\": \"quantitative\"}, \"y\": {\"field\": \"overdose_per_100k\", \"scale\": {\"zero\": false}, \"title\": \"Overdoses per 100k Residents\", \"type\": \"quantitative\"}}, \"title\": \"Overdoses per 100k Residents - Washington (blue) vs. Comp States (green)\"}, {\"layer\": [{\"mark\": \"errorband\", \"encoding\": {\"color\": {\"value\": \"blue\"}, \"x\": {\"field\": \"Year\", \"type\": \"quantitative\"}, \"y\": {\"field\": \"ci_low\", \"title\": \"overdose_per_100k\", \"type\": \"quantitative\"}, \"y2\": {\"field\": \"ci_high\"}}}, {\"mark\": \"line\", \"encoding\": {\"color\": {\"value\": \"blue\"}, \"x\": {\"field\": \"Year\", \"scale\": {\"zero\": false}, \"title\": \"Year\", \"type\": \"quantitative\"}, \"y\": {\"field\": \"overdose_per_100k\", \"scale\": {\"zero\": false}, \"title\": \"Overdoses per 100k Residents\", \"type\": \"quantitative\"}}, \"title\": \"Overdoses per 100k Residents - Washington (blue) vs. Comp States (green)\"}], \"data\": {\"name\": \"data-2ee5554caa9afa2e5df17f7aa84cf6f4\"}}, {\"layer\": [{\"mark\": \"errorband\", \"encoding\": {\"color\": {\"value\": \"green\"}, \"x\": {\"field\": \"Year\", \"type\": \"quantitative\"}, \"y\": {\"field\": \"ci_low\", \"title\": \"overdose_per_100k\", \"type\": \"quantitative\"}, \"y2\": {\"field\": \"ci_high\"}}}, {\"mark\": \"line\", \"encoding\": {\"color\": {\"value\": \"green\"}, \"x\": {\"field\": \"Year\", \"scale\": {\"zero\": false}, \"title\": \"Year\", \"type\": \"quantitative\"}, \"y\": {\"field\": \"overdose_per_100k\", \"scale\": {\"zero\": false}, \"title\": \"Overdoses per 100k Residents\", \"type\": \"quantitative\"}}, \"title\": \"Overdoses per 100k Residents - Comp States\"}], \"data\": {\"name\": \"data-5d7da10934dfac8da9b6c003c0be6fff\"}}, {\"layer\": [{\"mark\": \"errorband\", \"encoding\": {\"color\": {\"value\": \"green\"}, \"x\": {\"field\": \"Year\", \"type\": \"quantitative\"}, \"y\": {\"field\": \"ci_low\", \"title\": \"overdose_per_100k\", \"type\": \"quantitative\"}, \"y2\": {\"field\": \"ci_high\"}}}, {\"mark\": \"line\", \"encoding\": {\"color\": {\"value\": \"green\"}, \"x\": {\"field\": \"Year\", \"scale\": {\"zero\": false}, \"title\": \"Year\", \"type\": \"quantitative\"}, \"y\": {\"field\": \"overdose_per_100k\", \"scale\": {\"zero\": false}, \"title\": \"Overdoses per 100k Residents\", \"type\": \"quantitative\"}}, \"title\": \"Overdoses per 100k Residents - Comp States\"}], \"data\": {\"name\": \"data-e6bb1ad12405e7cfe3620be34aa9ac45\"}}, {\"data\": {\"name\": \"data-424a16bd626ddffb6ec885f6abd1efe5\"}, \"mark\": \"rule\", \"encoding\": {\"color\": {\"field\": \"color\", \"scale\": null, \"type\": \"nominal\"}, \"x\": {\"field\": \"Date\", \"type\": \"quantitative\"}}}], \"data\": {\"name\": \"data-b2687f85f5b290da2ba8563e233dc468\"}, \"height\": 500, \"width\": 700, \"$schema\": \"https://vega.github.io/schema/vega-lite/v4.17.0.json\", \"datasets\": {\"data-b2687f85f5b290da2ba8563e233dc468\": [{\"Year\": 2009.0, \"overdose_per_100k\": 13.546076260314857, \"ci_low\": -7.347101202524806, \"ci_high\": 34.43925372315452}, {\"Year\": 2009.02, \"overdose_per_100k\": 13.544970654694486, \"ci_low\": -7.098503706914775, \"ci_high\": 34.188445016303746}, {\"Year\": 2009.04, \"overdose_per_100k\": 13.543865049074117, \"ci_low\": -6.851985874039272, \"ci_high\": 33.93971597218751}, {\"Year\": 2009.06, \"overdose_per_100k\": 13.542759443453747, \"ci_low\": -6.607624373542659, \"ci_high\": 33.69314326045016}, {\"Year\": 2009.08, \"overdose_per_100k\": 13.541653837833378, \"ci_low\": -6.365498972186648, \"ci_high\": 33.4488066478534}, {\"Year\": 2009.1, \"overdose_per_100k\": 13.540548232213007, \"ci_low\": -6.125692638009015, \"ci_high\": 33.20678910243503}, {\"Year\": 2009.12, \"overdose_per_100k\": 13.539442626592638, \"ci_low\": -5.888291643375805, \"ci_high\": 32.967176896561085}, {\"Year\": 2009.1399999999999, \"overdose_per_100k\": 13.538337020972268, \"ci_low\": -5.653385666123345, \"ci_high\": 32.730059708067884}, {\"Year\": 2009.1599999999999, \"overdose_per_100k\": 13.537231415351899, \"ci_low\": -5.421067887776351, \"ci_high\": 32.49553071848015}, {\"Year\": 2009.1799999999998, \"overdose_per_100k\": 13.536125809731528, \"ci_low\": -5.191435087793044, \"ci_high\": 32.2636867072561}, {\"Year\": 2009.1999999999998, \"overdose_per_100k\": 13.53502020411116, \"ci_low\": -4.964587732514829, \"ci_high\": 32.03462814073715}, {\"Year\": 2009.2199999999998, \"overdose_per_100k\": 13.533914598490789, \"ci_low\": -4.7406300574526625, \"ci_high\": 31.80845925443424}, {\"Year\": 2009.2399999999998, \"overdose_per_100k\": 13.53280899287042, \"ci_low\": -4.519670141313695, \"ci_high\": 31.585288127054532}, {\"Year\": 2009.2599999999998, \"overdose_per_100k\": 13.53170338725005, \"ci_low\": -4.301819969984956, \"ci_high\": 31.365226744485057}, {\"Year\": 2009.2799999999997, \"overdose_per_100k\": 13.53059778162968, \"ci_low\": -4.087195488551053, \"ci_high\": 31.148391051810414}, {\"Year\": 2009.2999999999997, \"overdose_per_100k\": 13.52949217600931, \"ci_low\": -3.875916639169102, \"ci_high\": 30.93490099118772}, {\"Year\": 2009.3199999999997, \"overdose_per_100k\": 13.52838657038894, \"ci_low\": -3.668107382475222, \"ci_high\": 30.724880523253105}, {\"Year\": 2009.3399999999997, \"overdose_per_100k\": 13.52728096476857, \"ci_low\": -3.4638956999986323, \"ci_high\": 30.518457629535774}, {\"Year\": 2009.3599999999997, \"overdose_per_100k\": 13.526175359148201, \"ci_low\": -3.263413574784355, \"ci_high\": 30.315764293080758}, {\"Year\": 2009.3799999999997, \"overdose_per_100k\": 13.52506975352783, \"ci_low\": -3.0667969474374566, \"ci_high\": 30.116936454493118}, {\"Year\": 2009.3999999999996, \"overdose_per_100k\": 13.523964147907462, \"ci_low\": -2.874185644355981, \"ci_high\": 29.922113940170902}, {\"Year\": 2009.4199999999996, \"overdose_per_100k\": 13.522858542287091, \"ci_low\": -2.685723275110357, \"ci_high\": 29.73144035968454}, {\"Year\": 2009.4399999999996, \"overdose_per_100k\": 13.521752936666722, \"ci_low\": -2.5015570955293, \"ci_high\": 29.545062968862744}, {\"Year\": 2009.4599999999996, \"overdose_per_100k\": 13.520647331046352, \"ci_low\": -2.3218378331988436, \"ci_high\": 29.363132495291545}, {\"Year\": 2009.4799999999996, \"overdose_per_100k\": 13.519541725425983, \"ci_low\": -2.1467194719902647, \"ci_high\": 29.185802922842228}, {\"Year\": 2009.4999999999995, \"overdose_per_100k\": 13.518436119805612, \"ci_low\": -1.9763589923246663, \"ci_high\": 29.01323123193589}, {\"Year\": 2009.5199999999995, \"overdose_per_100k\": 13.517330514185243, \"ci_low\": -1.8109160640419883, \"ci_high\": 28.845577092412476}, {\"Year\": 2009.5399999999995, \"overdose_per_100k\": 13.516224908564872, \"ci_low\": -1.6505526889942814, \"ci_high\": 28.683002506124026}, {\"Year\": 2009.5599999999995, \"overdose_per_100k\": 13.515119302944504, \"ci_low\": -1.4954327908180165, \"ci_high\": 28.525671396707025}, {\"Year\": 2009.5799999999995, \"overdose_per_100k\": 13.514013697324133, \"ci_low\": -1.3457217498547074, \"ci_high\": 28.373749144502973}, {\"Year\": 2009.5999999999995, \"overdose_per_100k\": 13.512908091703764, \"ci_low\": -1.2015858817774152, \"ci_high\": 28.227402065184943}, {\"Year\": 2009.6199999999994, \"overdose_per_100k\": 13.511802486083393, \"ci_low\": -1.0631918592305478, \"ci_high\": 28.086796831397336}, {\"Year\": 2009.6399999999994, \"overdose_per_100k\": 13.510696880463025, \"ci_low\": -0.9307060766993516, \"ci_high\": 27.9520998376254}, {\"Year\": 2009.6599999999994, \"overdose_per_100k\": 13.509591274842654, \"ci_low\": -0.8042939598221555, \"ci_high\": 27.823476509507465}, {\"Year\": 2009.6799999999994, \"overdose_per_100k\": 13.508485669222285, \"ci_low\": -0.6841192215657728, \"ci_high\": 27.701090560010343}, {\"Year\": 2009.6999999999994, \"overdose_per_100k\": 13.507380063601914, \"ci_low\": -0.5703430689139566, \"ci_high\": 27.585103196117785}, {\"Year\": 2009.7199999999993, \"overdose_per_100k\": 13.506274457981545, \"ci_low\": -0.46312336513002705, \"ci_high\": 27.475672281093118}, {\"Year\": 2009.7399999999993, \"overdose_per_100k\": 13.505168852361175, \"ci_low\": -0.3626137540911536, \"ci_high\": 27.372951458813503}, {\"Year\": 2009.7599999999993, \"overdose_per_100k\": 13.504063246740806, \"ci_low\": -0.2689627546185047, \"ci_high\": 27.27708924810012}, {\"Year\": 2009.7799999999993, \"overdose_per_100k\": 13.502957641120435, \"ci_low\": -0.18231283422152522, \"ci_high\": 27.188228116462398}, {\"Year\": 2009.7999999999993, \"overdose_per_100k\": 13.501852035500066, \"ci_low\": -0.10279947298470482, \"ci_high\": 27.106503543984836}, {\"Year\": 2009.8199999999993, \"overdose_per_100k\": 13.500746429879696, \"ci_low\": -0.03055022957536302, \"ci_high\": 27.032043089334756}, {\"Year\": 2009.8399999999992, \"overdose_per_100k\": 13.499640824259327, \"ci_low\": 0.03431617760148242, \"ci_high\": 26.96496547091717}, {\"Year\": 2009.8599999999992, \"overdose_per_100k\": 13.498535218638956, \"ci_low\": 0.091690760360569, \"ci_high\": 26.90537967691734}, {\"Year\": 2009.8799999999992, \"overdose_per_100k\": 13.497429613018587, \"ci_low\": 0.14147510755932657, \"ci_high\": 26.853384118477848}, {\"Year\": 2009.8999999999992, \"overdose_per_100k\": 13.496324007398217, \"ci_low\": 0.18358217447017644, \"ci_high\": 26.809065840326255}, {\"Year\": 2009.9199999999992, \"overdose_per_100k\": 13.495218401777848, \"ci_low\": 0.21793700070271171, \"ci_high\": 26.772499802852984}, {\"Year\": 2009.9399999999991, \"overdose_per_100k\": 13.494112796157477, \"ci_low\": 0.24447734338605542, \"ci_high\": 26.7437482489289}, {\"Year\": 2009.9599999999991, \"overdose_per_100k\": 13.493007190537108, \"ci_low\": 0.2631542134935714, \"ci_high\": 26.722860167580645}, {\"Year\": 2009.979999999999, \"overdose_per_100k\": 13.491901584916738, \"ci_low\": 0.273932304732341, \"ci_high\": 26.709870865101134}, {\"Year\": 2009.999999999999, \"overdose_per_100k\": 13.490795979296369, \"ci_low\": 0.2767903063573005, \"ci_high\": 26.70480165223544}, {\"Year\": 2010.019999999999, \"overdose_per_100k\": 13.489690373675998, \"ci_low\": 0.2717210934920331, \"ci_high\": 26.707659653859963}, {\"Year\": 2010.039999999999, \"overdose_per_100k\": 13.48858476805563, \"ci_low\": 0.25873179101313326, \"ci_high\": 26.718437745098125}, {\"Year\": 2010.059999999999, \"overdose_per_100k\": 13.487479162435259, \"ci_low\": 0.23784370966556878, \"ci_high\": 26.73711461520495}, {\"Year\": 2010.079999999999, \"overdose_per_100k\": 13.48637355681489, \"ci_low\": 0.20909215574217122, \"ci_high\": 26.76365495788761}, {\"Year\": 2010.099999999999, \"overdose_per_100k\": 13.485267951194519, \"ci_low\": 0.17252611826923747, \"ci_high\": 26.7980097841198}, {\"Year\": 2010.119999999999, \"overdose_per_100k\": 13.48416234557415, \"ci_low\": 0.12820784011798203, \"ci_high\": 26.840116851030317}, {\"Year\": 2010.139999999999, \"overdose_per_100k\": 13.48305673995378, \"ci_low\": 0.07621228167949745, \"ci_high\": 26.88990119822806}, {\"Year\": 2010.159999999999, \"overdose_per_100k\": 13.48195113433341, \"ci_low\": 0.01662648767965713, \"ci_high\": 26.947275780987162}, {\"Year\": 2010.179999999999, \"overdose_per_100k\": 13.48084552871304, \"ci_low\": -0.0504511307365938, \"ci_high\": 27.012142188162674}, {\"Year\": 2010.199999999999, \"overdose_per_100k\": 13.479739923092671, \"ci_low\": -0.1249115853853553, \"ci_high\": 27.084391431570698}, {\"Year\": 2010.219999999999, \"overdose_per_100k\": 13.4786343174723, \"ci_low\": -0.20663615786429368, \"ci_high\": 27.163904792808893}, {\"Year\": 2010.2399999999989, \"overdose_per_100k\": 13.477528711851932, \"ci_low\": -0.29549728950071774, \"ci_high\": 27.25055471320458}, {\"Year\": 2010.2599999999989, \"overdose_per_100k\": 13.476423106231561, \"ci_low\": -0.39135950021415056, \"ci_high\": 27.344205712677272}, {\"Year\": 2010.2799999999988, \"overdose_per_100k\": 13.475317500611192, \"ci_low\": -0.49408032249315426, \"ci_high\": 27.44471532371554}, {\"Year\": 2010.2999999999988, \"overdose_per_100k\": 13.474211894990821, \"ci_low\": -0.6035112375178784, \"ci_high\": 27.55193502749952}, {\"Year\": 2010.3199999999988, \"overdose_per_100k\": 13.473106289370453, \"ci_low\": -0.7194986014111393, \"ci_high\": 27.665711180152044}, {\"Year\": 2010.3399999999988, \"overdose_per_100k\": 13.472000683750082, \"ci_low\": -0.8418845509057498, \"ci_high\": 27.785885918405913}, {\"Year\": 2010.3599999999988, \"overdose_per_100k\": 13.470895078129713, \"ci_low\": -0.9705078790237653, \"ci_high\": 27.912298035283193}, {\"Year\": 2010.3799999999987, \"overdose_per_100k\": 13.469789472509342, \"ci_low\": -1.105204872795781, \"ci_high\": 28.044783817814466}, {\"Year\": 2010.3999999999987, \"overdose_per_100k\": 13.468683866888973, \"ci_low\": -1.2458101065822262, \"ci_high\": 28.183177840360173}, {\"Year\": 2010.4199999999987, \"overdose_per_100k\": 13.467578261268603, \"ci_low\": -1.3921571859003574, \"ci_high\": 28.327313708437565}, {\"Year\": 2010.4399999999987, \"overdose_per_100k\": 13.466472655648234, \"ci_low\": -1.5440794381032799, \"ci_high\": 28.477024749399746}, {\"Year\": 2010.4599999999987, \"overdose_per_100k\": 13.465367050027863, \"ci_low\": -1.7014105475203998, \"ci_high\": 28.632144647576126}, {\"Year\": 2010.4799999999987, \"overdose_per_100k\": 13.464261444407494, \"ci_low\": -1.8639851338077627, \"ci_high\": 28.79250802262275}, {\"Year\": 2010.4999999999986, \"overdose_per_100k\": 13.463155838787124, \"ci_low\": -2.0316392733301214, \"ci_high\": 28.95795095090437}, {\"Year\": 2010.5199999999986, \"overdose_per_100k\": 13.462050233166755, \"ci_low\": -2.204210964236605, \"ci_high\": 29.128311430570115}, {\"Year\": 2010.5399999999986, \"overdose_per_100k\": 13.460944627546384, \"ci_low\": -2.3815405366860656, \"ci_high\": 29.303429791778832}, {\"Year\": 2010.5599999999986, \"overdose_per_100k\": 13.459839021926015, \"ci_low\": -2.5634710102562615, \"ci_high\": 29.483149054108292}, {\"Year\": 2010.5799999999986, \"overdose_per_100k\": 13.458733416305645, \"ci_low\": -2.7498484010770845, \"ci_high\": 29.667315233688374}, {\"Year\": 2010.5999999999985, \"overdose_per_100k\": 13.457627810685276, \"ci_low\": -2.940521981564734, \"ci_high\": 29.855777602935284}, {\"Year\": 2010.6199999999985, \"overdose_per_100k\": 13.456522205064905, \"ci_low\": -3.135344495884892, \"ci_high\": 30.0483889060147}, {\"Year\": 2010.6399999999985, \"overdose_per_100k\": 13.455416599444536, \"ci_low\": -3.3341723344770884, \"ci_high\": 30.24500553336616}, {\"Year\": 2010.6599999999985, \"overdose_per_100k\": 13.454310993824166, \"ci_low\": -3.536865670927913, \"ci_high\": 30.445487658576244}, {\"Year\": 2010.6799999999985, \"overdose_per_100k\": 13.453205388203797, \"ci_low\": -3.743288564647555, \"ci_high\": 30.649699341055147}, {\"Year\": 2010.6999999999985, \"overdose_per_100k\": 13.452099782583426, \"ci_low\": -3.9533090325781135, \"ci_high\": 30.857508597744967}, {\"Year\": 2010.7199999999984, \"overdose_per_100k\": 13.450994176963057, \"ci_low\": -4.1667990932030925, \"ci_high\": 31.068787447129207}, {\"Year\": 2010.7399999999984, \"overdose_per_100k\": 13.449888571342687, \"ci_low\": -4.383634785875849, \"ci_high\": 31.28341192856122}, {\"Year\": 2010.7599999999984, \"overdose_per_100k\": 13.448782965722318, \"ci_low\": -4.603696168445529, \"ci_high\": 31.501262099890162}, {\"Year\": 2010.7799999999984, \"overdose_per_100k\": 13.447677360101947, \"ci_low\": -4.826867295823424, \"ci_high\": 31.722222016027317}, {\"Year\": 2010.7999999999984, \"overdose_per_100k\": 13.446571754481578, \"ci_low\": -5.053036182126551, \"ci_high\": 31.946179691089707}, {\"Year\": 2010.8199999999983, \"overdose_per_100k\": 13.445466148861208, \"ci_low\": -5.282094748647687, \"ci_high\": 32.1730270463701}, {\"Year\": 2010.8399999999983, \"overdose_per_100k\": 13.444360543240839, \"ci_low\": -5.513938759871921, \"ci_high\": 32.4026598463536}, {\"Year\": 2010.8599999999983, \"overdose_per_100k\": 13.443254937620468, \"ci_low\": -5.748467749457928, \"ci_high\": 32.63497762469886}, {\"Year\": 2010.8799999999983, \"overdose_per_100k\": 13.442149332000099, \"ci_low\": -5.985584937953227, \"ci_high\": 32.869883601953426}, {\"Year\": 2010.8999999999983, \"overdose_per_100k\": 13.441043726379728, \"ci_low\": -6.225197143825497, \"ci_high\": 33.107284596584954}, {\"Year\": 2010.9199999999983, \"overdose_per_100k\": 13.43993812075936, \"ci_low\": -6.467214689244068, \"ci_high\": 33.34709093076279}, {\"Year\": 2010.9399999999982, \"overdose_per_100k\": 13.438832515138989, \"ci_low\": -6.7115513018410216, \"ci_high\": 33.589216332119}, {\"Year\": 2010.9599999999982, \"overdose_per_100k\": 13.43772690951862, \"ci_low\": -6.9581240135767715, \"ci_high\": 33.83357783261401}, {\"Year\": 2010.9799999999982, \"overdose_per_100k\": 13.43662130389825, \"ci_low\": -7.20685305769323, \"ci_high\": 34.08009566548973}, {\"Year\": 2010.9999999999982, \"overdose_per_100k\": 13.43551569827788, \"ci_low\": -7.457661764542456, \"ci_high\": 34.328693161098215}], \"data-2ee5554caa9afa2e5df17f7aa84cf6f4\": [{\"Year\": 2012.0, \"overdose_per_100k\": 13.673565313343486, \"ci_low\": 11.697500126497761, \"ci_high\": 15.649630500189211}, {\"Year\": 2012.03, \"overdose_per_100k\": 13.676117355516256, \"ci_low\": 11.725366803727006, \"ci_high\": 15.626867907305506}, {\"Year\": 2012.06, \"overdose_per_100k\": 13.678669397689026, \"ci_low\": 11.753044821584874, \"ci_high\": 15.604293973793178}, {\"Year\": 2012.09, \"overdose_per_100k\": 13.681221439861796, \"ci_low\": 11.780526698185504, \"ci_high\": 15.581916181538087}, {\"Year\": 2012.12, \"overdose_per_100k\": 13.683773482034566, \"ci_low\": 11.807804613922842, \"ci_high\": 15.559742350146289}, {\"Year\": 2012.1499999999999, \"overdose_per_100k\": 13.686325524207335, \"ci_low\": 11.834870397189636, \"ci_high\": 15.537780651225034}, {\"Year\": 2012.1799999999998, \"overdose_per_100k\": 13.688877566380105, \"ci_low\": 11.86171550987122, \"ci_high\": 15.516039622888991}, {\"Year\": 2012.2099999999998, \"overdose_per_100k\": 13.691429608552875, \"ci_low\": 11.888331032689711, \"ci_high\": 15.494528184416039}, {\"Year\": 2012.2399999999998, \"overdose_per_100k\": 13.693981650725645, \"ci_low\": 11.914707650476643, \"ci_high\": 15.473255650974647}, {\"Year\": 2012.2699999999998, \"overdose_per_100k\": 13.696533692898415, \"ci_low\": 11.940835637481921, \"ci_high\": 15.452231748314908}, {\"Year\": 2012.2999999999997, \"overdose_per_100k\": 13.699085735071185, \"ci_low\": 11.966704842838393, \"ci_high\": 15.431466627303976}, {\"Year\": 2012.3299999999997, \"overdose_per_100k\": 13.701637777243954, \"ci_low\": 11.992304676323858, \"ci_high\": 15.41097087816405}, {\"Year\": 2012.3599999999997, \"overdose_per_100k\": 13.704189819416724, \"ci_low\": 12.017624094584498, \"ci_high\": 15.39075554424895}, {\"Year\": 2012.3899999999996, \"overdose_per_100k\": 13.706741861589494, \"ci_low\": 12.042651588015095, \"ci_high\": 15.370832135163893}, {\"Year\": 2012.4199999999996, \"overdose_per_100k\": 13.709293903762264, \"ci_low\": 12.067375168508054, \"ci_high\": 15.351212639016474}, {\"Year\": 2012.4499999999996, \"overdose_per_100k\": 13.711845945935034, \"ci_low\": 12.091782358324338, \"ci_high\": 15.33190953354573}, {\"Year\": 2012.4799999999996, \"overdose_per_100k\": 13.714397988107804, \"ci_low\": 12.115860180367985, \"ci_high\": 15.312935795847622}, {\"Year\": 2012.5099999999995, \"overdose_per_100k\": 13.716950030280573, \"ci_low\": 12.139595150174706, \"ci_high\": 15.29430491038644}, {\"Year\": 2012.5399999999995, \"overdose_per_100k\": 13.719502072453343, \"ci_low\": 12.162973269969081, \"ci_high\": 15.276030874937605}, {\"Year\": 2012.5699999999995, \"overdose_per_100k\": 13.722054114626113, \"ci_low\": 12.185980025175766, \"ci_high\": 15.25812820407646}, {\"Year\": 2012.5999999999995, \"overdose_per_100k\": 13.724606156798883, \"ci_low\": 12.208600383806356, \"ci_high\": 15.24061192979141}, {\"Year\": 2012.6299999999994, \"overdose_per_100k\": 13.727158198971653, \"ci_low\": 12.230818799182375, \"ci_high\": 15.22349759876093}, {\"Year\": 2012.6599999999994, \"overdose_per_100k\": 13.729710241144423, \"ci_low\": 12.25261921648636, \"ci_high\": 15.206801265802484}, {\"Year\": 2012.6899999999994, \"overdose_per_100k\": 13.732262283317192, \"ci_low\": 12.273985083660811, \"ci_high\": 15.190539482973573}, {\"Year\": 2012.7199999999993, \"overdose_per_100k\": 13.734814325489962, \"ci_low\": 12.294899367203104, \"ci_high\": 15.17472928377682}, {\"Year\": 2012.7499999999993, \"overdose_per_100k\": 13.737366367662732, \"ci_low\": 12.315344573417669, \"ci_high\": 15.159388161907795}, {\"Year\": 2012.7799999999993, \"overdose_per_100k\": 13.739918409835502, \"ci_low\": 12.335302775697116, \"ci_high\": 15.144534043973888}, {\"Year\": 2012.8099999999993, \"overdose_per_100k\": 13.742470452008272, \"ci_low\": 12.35475564839313, \"ci_high\": 15.130185255623413}, {\"Year\": 2012.8399999999992, \"overdose_per_100k\": 13.745022494181041, \"ci_low\": 12.373684507823063, \"ci_high\": 15.11636048053902}, {\"Year\": 2012.8699999999992, \"overdose_per_100k\": 13.747574536353811, \"ci_low\": 12.392070360914957, \"ci_high\": 15.103078711792666}, {\"Year\": 2012.8999999999992, \"overdose_per_100k\": 13.750126578526581, \"ci_low\": 12.409893961931575, \"ci_high\": 15.090359195121588}, {\"Year\": 2012.9299999999992, \"overdose_per_100k\": 13.752678620699351, \"ci_low\": 12.427135877636585, \"ci_high\": 15.078221363762117}, {\"Year\": 2012.9599999999991, \"overdose_per_100k\": 13.75523066287212, \"ci_low\": 12.443776561145258, \"ci_high\": 15.066684764598984}, {\"Year\": 2012.989999999999, \"overdose_per_100k\": 13.75778270504489, \"ci_low\": 12.459796434572464, \"ci_high\": 15.055768975517317}, {\"Year\": 2013.019999999999, \"overdose_per_100k\": 13.76033474721766, \"ci_low\": 12.475175980417871, \"ci_high\": 15.04549351401745}, {\"Year\": 2013.049999999999, \"overdose_per_100k\": 13.76288678939043, \"ci_low\": 12.4898958414343, \"ci_high\": 15.03587773734656}, {\"Year\": 2013.079999999999, \"overdose_per_100k\": 13.7654388315632, \"ci_low\": 12.503936928503704, \"ci_high\": 15.026940734622697}, {\"Year\": 2013.109999999999, \"overdose_per_100k\": 13.76799087373597, \"ci_low\": 12.517280535801586, \"ci_high\": 15.018701211670354}, {\"Year\": 2013.139999999999, \"overdose_per_100k\": 13.77054291590874, \"ci_low\": 12.529908462269091, \"ci_high\": 15.011177369548388}, {\"Year\": 2013.169999999999, \"overdose_per_100k\": 13.77309495808151, \"ci_low\": 12.541803138142626, \"ci_high\": 15.004386778020393}, {\"Year\": 2013.199999999999, \"overdose_per_100k\": 13.77564700025428, \"ci_low\": 12.552947755023606, \"ci_high\": 14.998346245484953}, {\"Year\": 2013.2299999999989, \"overdose_per_100k\": 13.77819904242705, \"ci_low\": 12.5633263977127, \"ci_high\": 14.993071687141398}, {\"Year\": 2013.2599999999989, \"overdose_per_100k\": 13.78075108459982, \"ci_low\": 12.572924175803776, \"ci_high\": 14.988577993395863}, {\"Year\": 2013.2899999999988, \"overdose_per_100k\": 13.783303126772589, \"ci_low\": 12.581727352842025, \"ci_high\": 14.984878900703153}, {\"Year\": 2013.3199999999988, \"overdose_per_100k\": 13.785855168945359, \"ci_low\": 12.589723470707023, \"ci_high\": 14.981986867183695}, {\"Year\": 2013.3499999999988, \"overdose_per_100k\": 13.788407211118129, \"ci_low\": 12.596901466812657, \"ci_high\": 14.9799129554236}, {\"Year\": 2013.3799999999987, \"overdose_per_100k\": 13.790959253290898, \"ci_low\": 12.603251781712167, \"ci_high\": 14.97866672486963}, {\"Year\": 2013.4099999999987, \"overdose_per_100k\": 13.793511295463668, \"ci_low\": 12.608766454781252, \"ci_high\": 14.978256136146085}, {\"Year\": 2013.4399999999987, \"overdose_per_100k\": 13.796063337636438, \"ci_low\": 12.613439205821132, \"ci_high\": 14.978687469451744}, {\"Year\": 2013.4699999999987, \"overdose_per_100k\": 13.798615379809208, \"ci_low\": 12.61726550067565, \"ci_high\": 14.979965258942766}, {\"Year\": 2013.4999999999986, \"overdose_per_100k\": 13.801167421981978, \"ci_low\": 12.620242599288146, \"ci_high\": 14.98209224467581}, {\"Year\": 2013.5299999999986, \"overdose_per_100k\": 13.803719464154748, \"ci_low\": 12.622369585021259, \"ci_high\": 14.985069343288236}, {\"Year\": 2013.5599999999986, \"overdose_per_100k\": 13.806271506327517, \"ci_low\": 12.62364737451235, \"ci_high\": 14.988895638142685}, {\"Year\": 2013.5899999999986, \"overdose_per_100k\": 13.808823548500287, \"ci_low\": 12.624078707818079, \"ci_high\": 14.993568389182496}, {\"Year\": 2013.6199999999985, \"overdose_per_100k\": 13.811375590673057, \"ci_low\": 12.623668119094603, \"ci_high\": 14.999083062251511}, {\"Year\": 2013.6499999999985, \"overdose_per_100k\": 13.813927632845827, \"ci_low\": 12.622421888540714, \"ci_high\": 15.00543337715094}, {\"Year\": 2013.6799999999985, \"overdose_per_100k\": 13.816479675018597, \"ci_low\": 12.620347976780675, \"ci_high\": 15.012611373256519}, {\"Year\": 2013.7099999999984, \"overdose_per_100k\": 13.819031717191367, \"ci_low\": 12.617455943261294, \"ci_high\": 15.020607491121439}, {\"Year\": 2013.7399999999984, \"overdose_per_100k\": 13.821583759364136, \"ci_low\": 12.613756850568691, \"ci_high\": 15.029410668159581}, {\"Year\": 2013.7699999999984, \"overdose_per_100k\": 13.824135801536906, \"ci_low\": 12.609263156823152, \"ci_high\": 15.03900844625066}, {\"Year\": 2013.7999999999984, \"overdose_per_100k\": 13.826687843709676, \"ci_low\": 12.603988598479756, \"ci_high\": 15.049387088939596}, {\"Year\": 2013.8299999999983, \"overdose_per_100k\": 13.829239885882446, \"ci_low\": 12.597948065944312, \"ci_high\": 15.06053170582058}, {\"Year\": 2013.8599999999983, \"overdose_per_100k\": 13.831791928055216, \"ci_low\": 12.591157474416363, \"ci_high\": 15.072426381694068}, {\"Year\": 2013.8899999999983, \"overdose_per_100k\": 13.834343970227986, \"ci_low\": 12.583633632294442, \"ci_high\": 15.08505430816153}, {\"Year\": 2013.9199999999983, \"overdose_per_100k\": 13.836896012400755, \"ci_low\": 12.575394109342197, \"ci_high\": 15.098397915459314}, {\"Year\": 2013.9499999999982, \"overdose_per_100k\": 13.839448054573525, \"ci_low\": 12.566457106618376, \"ci_high\": 15.112439002528674}, {\"Year\": 2013.9799999999982, \"overdose_per_100k\": 13.842000096746295, \"ci_low\": 12.55684132994758, \"ci_high\": 15.12715886354501}, {\"Year\": 2014.0099999999982, \"overdose_per_100k\": 13.844552138919065, \"ci_low\": 12.546565868447752, \"ci_high\": 15.142538409390378}, {\"Year\": 2014.0399999999981, \"overdose_per_100k\": 13.847104181091835, \"ci_low\": 12.535650079366075, \"ci_high\": 15.158558282817594}, {\"Year\": 2014.0699999999981, \"overdose_per_100k\": 13.849656223264605, \"ci_low\": 12.524113480203031, \"ci_high\": 15.175198966326178}, {\"Year\": 2014.099999999998, \"overdose_per_100k\": 13.852208265437374, \"ci_low\": 12.511975648843643, \"ci_high\": 15.192440882031105}, {\"Year\": 2014.129999999998, \"overdose_per_100k\": 13.854760307610144, \"ci_low\": 12.499256132172551, \"ci_high\": 15.210264483047737}, {\"Year\": 2014.159999999998, \"overdose_per_100k\": 13.857312349782914, \"ci_low\": 12.485974363426374, \"ci_high\": 15.228650336139454}, {\"Year\": 2014.189999999998, \"overdose_per_100k\": 13.859864391955684, \"ci_low\": 12.47214958834187, \"ci_high\": 15.247579195569498}, {\"Year\": 2014.219999999998, \"overdose_per_100k\": 13.862416434128454, \"ci_low\": 12.457800799991471, \"ci_high\": 15.267032068265436}, {\"Year\": 2014.249999999998, \"overdose_per_100k\": 13.864968476301224, \"ci_low\": 12.44294668205764, \"ci_high\": 15.286990270544807}, {\"Year\": 2014.279999999998, \"overdose_per_100k\": 13.867520518473993, \"ci_low\": 12.427605560188598, \"ci_high\": 15.30743547675939}, {\"Year\": 2014.309999999998, \"overdose_per_100k\": 13.870072560646763, \"ci_low\": 12.411795360992006, \"ci_high\": 15.32834976030152}, {\"Year\": 2014.3399999999979, \"overdose_per_100k\": 13.872624602819533, \"ci_low\": 12.395533578163075, \"ci_high\": 15.349715627475991}, {\"Year\": 2014.3699999999978, \"overdose_per_100k\": 13.875176644992303, \"ci_low\": 12.378837245204695, \"ci_high\": 15.371516044779911}, {\"Year\": 2014.3999999999978, \"overdose_per_100k\": 13.877728687165073, \"ci_low\": 12.36172291417411, \"ci_high\": 15.393734460156036}, {\"Year\": 2014.4299999999978, \"overdose_per_100k\": 13.880280729337843, \"ci_low\": 12.344206639889208, \"ci_high\": 15.416354818786477}, {\"Year\": 2014.4599999999978, \"overdose_per_100k\": 13.882832771510612, \"ci_low\": 12.32630396902821, \"ci_high\": 15.439361573993015}, {\"Year\": 2014.4899999999977, \"overdose_per_100k\": 13.885384813683382, \"ci_low\": 12.308029933579181, \"ci_high\": 15.462739693787583}, {\"Year\": 2014.5199999999977, \"overdose_per_100k\": 13.887936855856152, \"ci_low\": 12.289399048118145, \"ci_high\": 15.486474663594159}, {\"Year\": 2014.5499999999977, \"overdose_per_100k\": 13.890488898028922, \"ci_low\": 12.270425310420093, \"ci_high\": 15.510552485637751}, {\"Year\": 2014.5799999999977, \"overdose_per_100k\": 13.893040940201692, \"ci_low\": 12.251122204949404, \"ci_high\": 15.53495967545398}, {\"Year\": 2014.6099999999976, \"overdose_per_100k\": 13.895592982374461, \"ci_low\": 12.231502708802118, \"ci_high\": 15.559683255946805}, {\"Year\": 2014.6399999999976, \"overdose_per_100k\": 13.898145024547231, \"ci_low\": 12.211579299716878, \"ci_high\": 15.584710749377585}, {\"Year\": 2014.6699999999976, \"overdose_per_100k\": 13.900697066720001, \"ci_low\": 12.191363965801598, \"ci_high\": 15.610030167638405}, {\"Year\": 2014.6999999999975, \"overdose_per_100k\": 13.903249108892771, \"ci_low\": 12.170868216661955, \"ci_high\": 15.635630001123587}, {\"Year\": 2014.7299999999975, \"overdose_per_100k\": 13.90580115106554, \"ci_low\": 12.150103095650996, \"ci_high\": 15.661499206480086}, {\"Year\": 2014.7599999999975, \"overdose_per_100k\": 13.90835319323831, \"ci_low\": 12.129079192991378, \"ci_high\": 15.687627193485243}, {\"Year\": 2014.7899999999975, \"overdose_per_100k\": 13.91090523541108, \"ci_low\": 12.107806659549814, \"ci_high\": 15.714003811272347}, {\"Year\": 2014.8199999999974, \"overdose_per_100k\": 13.91345727758385, \"ci_low\": 12.08629522107698, \"ci_high\": 15.74061933409072}, {\"Year\": 2014.8499999999974, \"overdose_per_100k\": 13.91600931975662, \"ci_low\": 12.064554192740909, \"ci_high\": 15.767464446772331}, {\"Year\": 2014.8799999999974, \"overdose_per_100k\": 13.91856136192939, \"ci_low\": 12.04259249381991, \"ci_high\": 15.79453023003887}, {\"Year\": 2014.9099999999974, \"overdose_per_100k\": 13.92111340410216, \"ci_low\": 12.020418662428082, \"ci_high\": 15.821808145776238}, {\"Year\": 2014.9399999999973, \"overdose_per_100k\": 13.92366544627493, \"ci_low\": 11.99804087017269, \"ci_high\": 15.849290022377168}, {\"Year\": 2014.9699999999973, \"overdose_per_100k\": 13.9262174884477, \"ci_low\": 11.975466936660473, \"ci_high\": 15.876968040234926}, {\"Year\": 2014.9999999999973, \"overdose_per_100k\": 13.92876953062047, \"ci_low\": 11.952704343776874, \"ci_high\": 15.904834717464064}], \"data-5d7da10934dfac8da9b6c003c0be6fff\": [{\"Year\": 2009.0, \"overdose_per_100k\": 13.33497958583554, \"ci_low\": -10.15316444020294, \"ci_high\": 36.823123611874024}, {\"Year\": 2009.02, \"overdose_per_100k\": 13.351585878618568, \"ci_low\": -9.85584151546027, \"ci_high\": 36.559013272697406}, {\"Year\": 2009.04, \"overdose_per_100k\": 13.368192171401596, \"ci_low\": -9.560856550946127, \"ci_high\": 36.29724089374932}, {\"Year\": 2009.06, \"overdose_per_100k\": 13.384798464184623, \"ci_low\": -9.268295738786819, \"ci_high\": 36.037892667156065}, {\"Year\": 2009.08, \"overdose_per_100k\": 13.40140475696765, \"ci_low\": -8.97824875291424, \"ci_high\": 35.78105826684954}, {\"Year\": 2009.1, \"overdose_per_100k\": 13.418011049750678, \"ci_low\": -8.690808866124229, \"ci_high\": 35.526830965625585}, {\"Year\": 2009.12, \"overdose_per_100k\": 13.434617342533706, \"ci_low\": -8.406073065959479, \"ci_high\": 35.27530775102689}, {\"Year\": 2009.1399999999999, \"overdose_per_100k\": 13.451223635316733, \"ci_low\": -8.124142168380008, \"ci_high\": 35.02658943901348}, {\"Year\": 2009.1599999999999, \"overdose_per_100k\": 13.46782992809976, \"ci_low\": -7.845120928217039, \"ci_high\": 34.780780784416564}, {\"Year\": 2009.1799999999998, \"overdose_per_100k\": 13.484436220882788, \"ci_low\": -7.569118145088719, \"ci_high\": 34.53799058685429}, {\"Year\": 2009.1999999999998, \"overdose_per_100k\": 13.501042513665816, \"ci_low\": -7.296246763417429, \"ci_high\": 34.29833179074906}, {\"Year\": 2009.2199999999998, \"overdose_per_100k\": 13.517648806448843, \"ci_low\": -7.0266239649396205, \"ci_high\": 34.06192157783731}, {\"Year\": 2009.2399999999998, \"overdose_per_100k\": 13.53425509923187, \"ci_low\": -6.760371251909451, \"ci_high\": 33.82888145037319}, {\"Year\": 2009.2599999999998, \"overdose_per_100k\": 13.550861392014898, \"ci_low\": -6.497614519041623, \"ci_high\": 33.59933730307142}, {\"Year\": 2009.2799999999997, \"overdose_per_100k\": 13.567467684797926, \"ci_low\": -6.238484111993582, \"ci_high\": 33.37341948158944}, {\"Year\": 2009.2999999999997, \"overdose_per_100k\": 13.584073977580953, \"ci_low\": -5.983114869929523, \"ci_high\": 33.15126282509143}, {\"Year\": 2009.3199999999997, \"overdose_per_100k\": 13.600680270363982, \"ci_low\": -5.731646149600818, \"ci_high\": 32.93300669032878}, {\"Year\": 2009.3399999999997, \"overdose_per_100k\": 13.61728656314701, \"ci_low\": -5.484221828044708, \"ci_high\": 32.718794954338726}, {\"Year\": 2009.3599999999997, \"overdose_per_100k\": 13.633892855930037, \"ci_low\": -5.240990280825022, \"ci_high\": 32.508775992685095}, {\"Year\": 2009.3799999999997, \"overdose_per_100k\": 13.650499148713065, \"ci_low\": -5.002104332577369, \"ci_high\": 32.3031026300035}, {\"Year\": 2009.3999999999996, \"overdose_per_100k\": 13.667105441496092, \"ci_low\": -4.76772117637667, \"ci_high\": 32.101932059368856}, {\"Year\": 2009.4199999999996, \"overdose_per_100k\": 13.68371173427912, \"ci_low\": -4.538002258329618, \"ci_high\": 31.905425726887856}, {\"Year\": 2009.4399999999996, \"overdose_per_100k\": 13.700318027062147, \"ci_low\": -4.313113123680084, \"ci_high\": 31.71374917780438}, {\"Year\": 2009.4599999999996, \"overdose_per_100k\": 13.716924319845175, \"ci_low\": -4.09322322062725, \"ci_high\": 31.527071860317598}, {\"Year\": 2009.4799999999996, \"overdose_per_100k\": 13.733530612628202, \"ci_low\": -3.8785056580860893, \"ci_high\": 31.345566883342492}, {\"Year\": 2009.4999999999995, \"overdose_per_100k\": 13.75013690541123, \"ci_low\": -3.6691369137010366, \"ci_high\": 31.169410724523495}, {\"Year\": 2009.5199999999995, \"overdose_per_100k\": 13.766743198194257, \"ci_low\": -3.4652964885682724, \"ci_high\": 30.99878288495679}, {\"Year\": 2009.5399999999995, \"overdose_per_100k\": 13.783349490977285, \"ci_low\": -3.267166505431801, \"ci_high\": 30.83386548738637}, {\"Year\": 2009.5599999999995, \"overdose_per_100k\": 13.799955783760312, \"ci_low\": -3.074931247510145, \"ci_high\": 30.67484281503077}, {\"Year\": 2009.5799999999995, \"overdose_per_100k\": 13.81656207654334, \"ci_low\": -2.8887766356508937, \"ci_high\": 30.521900788737575}, {\"Year\": 2009.5999999999995, \"overdose_per_100k\": 13.833168369326367, \"ci_low\": -2.7088896422047863, \"ci_high\": 30.37522638085752}, {\"Year\": 2009.6199999999994, \"overdose_per_100k\": 13.849774662109395, \"ci_low\": -2.535457640829831, \"ci_high\": 30.23500696504862}, {\"Year\": 2009.6399999999994, \"overdose_per_100k\": 13.866380954892422, \"ci_low\": -2.368667692475368, \"ci_high\": 30.10142960226021}, {\"Year\": 2009.6599999999994, \"overdose_per_100k\": 13.88298724767545, \"ci_low\": -2.2087057689157117, \"ci_high\": 29.97468026426661}, {\"Year\": 2009.6799999999994, \"overdose_per_100k\": 13.899593540458477, \"ci_low\": -2.0557559165328474, \"ci_high\": 29.854942997449804}, {\"Year\": 2009.6999999999994, \"overdose_per_100k\": 13.916199833241505, \"ci_low\": -1.9099993644784696, \"ci_high\": 29.74239903096148}, {\"Year\": 2009.7199999999993, \"overdose_per_100k\": 13.932806126024532, \"ci_low\": -1.7716135828919946, \"ci_high\": 29.63722583494106}, {\"Year\": 2009.7399999999993, \"overdose_per_100k\": 13.94941241880756, \"ci_low\": -1.6407712984676746, \"ci_high\": 29.539596136082793}, {\"Year\": 2009.7599999999993, \"overdose_per_100k\": 13.966018711590587, \"ci_low\": -1.517639476307913, \"ci_high\": 29.449676899489088}, {\"Year\": 2009.7799999999993, \"overdose_per_100k\": 13.982625004373615, \"ci_low\": -1.4023782786182828, \"ci_high\": 29.367628287365513}, {\"Year\": 2009.7999999999993, \"overdose_per_100k\": 13.999231297156642, \"ci_low\": -1.2951400123265575, \"ci_high\": 29.293602606639844}, {\"Year\": 2009.8199999999993, \"overdose_per_100k\": 14.01583758993967, \"ci_low\": -1.1960680790988754, \"ci_high\": 29.227743258978215}, {\"Year\": 2009.8399999999992, \"overdose_per_100k\": 14.032443882722697, \"ci_low\": -1.105295942357058, \"ci_high\": 29.17018370780245}, {\"Year\": 2009.8599999999992, \"overdose_per_100k\": 14.049050175505725, \"ci_low\": -1.0229461267954, \"ci_high\": 29.12104647780685}, {\"Year\": 2009.8799999999992, \"overdose_per_100k\": 14.065656468288752, \"ci_low\": -0.9491292663808313, \"ci_high\": 29.080442202958338}, {\"Year\": 2009.8999999999992, \"overdose_per_100k\": 14.08226276107178, \"ci_low\": -0.8839432169374533, \"ci_high\": 29.048468739081013}, {\"Year\": 2009.9199999999992, \"overdose_per_100k\": 14.098869053854807, \"ci_low\": -0.8274722490585038, \"ci_high\": 29.02521035676812}, {\"Year\": 2009.9399999999991, \"overdose_per_100k\": 14.115475346637835, \"ci_low\": -0.7797863362802211, \"ci_high\": 29.01073702955589}, {\"Year\": 2009.9599999999991, \"overdose_per_100k\": 14.132081639420862, \"ci_low\": -0.7409405521465562, \"ci_high\": 29.005103830988283}, {\"Year\": 2009.979999999999, \"overdose_per_100k\": 14.14868793220389, \"ci_low\": -0.7109745880486855, \"ci_high\": 29.008350452456465}, {\"Year\": 2009.999999999999, \"overdose_per_100k\": 14.16529422498692, \"ci_low\": -0.6899124015612426, \"ci_high\": 29.020500851535083}, {\"Year\": 2010.019999999999, \"overdose_per_100k\": 14.181900517769947, \"ci_low\": -0.677762002481936, \"ci_high\": 29.041563038021827}, {\"Year\": 2010.039999999999, \"overdose_per_100k\": 14.198506810552974, \"ci_low\": -0.6745153810129008, \"ci_high\": 29.07152900211885}, {\"Year\": 2010.059999999999, \"overdose_per_100k\": 14.215113103336002, \"ci_low\": -0.6801485795798996, \"ci_high\": 29.110374786251903}, {\"Year\": 2010.079999999999, \"overdose_per_100k\": 14.23171939611903, \"ci_low\": -0.6946219067912072, \"ci_high\": 29.158060699029264}, {\"Year\": 2010.099999999999, \"overdose_per_100k\": 14.248325688902057, \"ci_low\": -0.7178802891034977, \"ci_high\": 29.21453166690761}, {\"Year\": 2010.119999999999, \"overdose_per_100k\": 14.264931981685084, \"ci_low\": -0.7498537529799147, \"ci_high\": 29.279717716350085}, {\"Year\": 2010.139999999999, \"overdose_per_100k\": 14.281538274468112, \"ci_low\": -0.7904580278281443, \"ci_high\": 29.353534576764368}, {\"Year\": 2010.159999999999, \"overdose_per_100k\": 14.29814456725114, \"ci_low\": -0.8395952578225536, \"ci_high\": 29.43588439232483}, {\"Year\": 2010.179999999999, \"overdose_per_100k\": 14.314750860034167, \"ci_low\": -0.8971548089983461, \"ci_high\": 29.526656529066678}, {\"Year\": 2010.199999999999, \"overdose_per_100k\": 14.331357152817194, \"ci_low\": -0.9630141566588062, \"ci_high\": 29.625728462293196}, {\"Year\": 2010.219999999999, \"overdose_per_100k\": 14.347963445600222, \"ci_low\": -1.037039837383924, \"ci_high\": 29.732966728584366}, {\"Year\": 2010.2399999999989, \"overdose_per_100k\": 14.36456973838325, \"ci_low\": -1.119088449506954, \"ci_high\": 29.848227926273452}, {\"Year\": 2010.2599999999989, \"overdose_per_100k\": 14.381176031166277, \"ci_low\": -1.2090076860995378, \"ci_high\": 29.971359748432093}, {\"Year\": 2010.2799999999988, \"overdose_per_100k\": 14.397782323949304, \"ci_low\": -1.306637384956705, \"ci_high\": 30.102202032855313}, {\"Year\": 2010.2999999999988, \"overdose_per_100k\": 14.414388616732332, \"ci_low\": -1.4118105809772068, \"ci_high\": 30.24058781444187}, {\"Year\": 2010.3199999999988, \"overdose_per_100k\": 14.43099490951536, \"ci_low\": -1.5243545474644637, \"ci_high\": 30.38634436649518}, {\"Year\": 2010.3399999999988, \"overdose_per_100k\": 14.447601202298387, \"ci_low\": -1.6440918142802303, \"ci_high\": 30.539294218877004}, {\"Year\": 2010.3599999999988, \"overdose_per_100k\": 14.464207495081414, \"ci_low\": -1.7708411522739418, \"ci_high\": 30.69925614243677}, {\"Year\": 2010.3799999999987, \"overdose_per_100k\": 14.480813787864442, \"ci_low\": -1.9044185150613444, \"ci_high\": 30.866046090790228}, {\"Year\": 2010.3999999999987, \"overdose_per_100k\": 14.49742008064747, \"ci_low\": -2.044637930870369, \"ci_high\": 31.039478092165307}, {\"Year\": 2010.4199999999987, \"overdose_per_100k\": 14.514026373430497, \"ci_low\": -2.191312338750553, \"ci_high\": 31.219365085611546}, {\"Year\": 2010.4399999999987, \"overdose_per_100k\": 14.530632666213524, \"ci_low\": -2.3442543650417065, \"ci_high\": 31.405519697468755}, {\"Year\": 2010.4599999999987, \"overdose_per_100k\": 14.547238958996552, \"ci_low\": -2.503277037397467, \"ci_high\": 31.59775495539057}, {\"Year\": 2010.4799999999987, \"overdose_per_100k\": 14.56384525177958, \"ci_low\": -2.66819443496804, \"ci_high\": 31.795884938527198}, {\"Year\": 2010.4999999999986, \"overdose_per_100k\": 14.580451544562607, \"ci_low\": -2.8388222745328022, \"ci_high\": 31.999725363658015}, {\"Year\": 2010.5199999999986, \"overdose_per_100k\": 14.597057837345634, \"ci_low\": -3.0149784333519847, \"ci_high\": 32.20909410804325}, {\"Year\": 2010.5399999999986, \"overdose_per_100k\": 14.613664130128662, \"ci_low\": -3.196483410327275, \"ci_high\": 32.4238116705846}, {\"Year\": 2010.5599999999986, \"overdose_per_100k\": 14.630270422911689, \"ci_low\": -3.3831607278142393, \"ci_high\": 32.643701573637614}, {\"Year\": 2010.5799999999986, \"overdose_per_100k\": 14.646876715694717, \"ci_low\": -3.5748372768958916, \"ci_high\": 32.868590708285325}, {\"Year\": 2010.5999999999985, \"overdose_per_100k\": 14.663483008477744, \"ci_low\": -3.771343609375105, \"ci_high\": 33.09830962633059}, {\"Year\": 2010.6199999999985, \"overdose_per_100k\": 14.680089301260772, \"ci_low\": -3.9725141800119523, \"ci_high\": 33.3326927825335}, {\"Year\": 2010.6399999999985, \"overdose_per_100k\": 14.696695594043799, \"ci_low\": -4.178187542691813, \"ci_high\": 33.57157873077941}, {\"Year\": 2010.6599999999985, \"overdose_per_100k\": 14.713301886826827, \"ci_low\": -4.388206504345671, \"ci_high\": 33.81481027799933}, {\"Year\": 2010.6799999999985, \"overdose_per_100k\": 14.729908179609854, \"ci_low\": -4.6024182403359575, \"ci_high\": 34.062234599555666}, {\"Year\": 2010.6999999999985, \"overdose_per_100k\": 14.746514472392883, \"ci_low\": -4.820674375096955, \"ci_high\": 34.31370331988272}, {\"Year\": 2010.7199999999984, \"overdose_per_100k\": 14.76312076517591, \"ci_low\": -5.042831031595208, \"ci_high\": 34.56907256194703}, {\"Year\": 2010.7399999999984, \"overdose_per_100k\": 14.779727057958938, \"ci_low\": -5.268748853079272, \"ci_high\": 34.82820296899715}, {\"Year\": 2010.7599999999984, \"overdose_per_100k\": 14.796333350741966, \"ci_low\": -5.4982930003776485, \"ci_high\": 35.09095970186158}, {\"Year\": 2010.7799999999984, \"overdose_per_100k\": 14.812939643524993, \"ci_low\": -5.73133312784203, \"ci_high\": 35.35721241489202}, {\"Year\": 2010.7999999999984, \"overdose_per_100k\": 14.82954593630802, \"ci_low\": -5.967743340754042, \"ci_high\": 35.626835213370086}, {\"Year\": 2010.8199999999983, \"overdose_per_100k\": 14.846152229091048, \"ci_low\": -6.207402136857793, \"ci_high\": 35.89970659503989}, {\"Year\": 2010.8399999999983, \"overdose_per_100k\": 14.862758521874076, \"ci_low\": -6.4501923344203345, \"ci_high\": 36.175709378168484}, {\"Year\": 2010.8599999999983, \"overdose_per_100k\": 14.879364814657103, \"ci_low\": -6.696000989017518, \"ci_high\": 36.45473061833172}, {\"Year\": 2010.8799999999983, \"overdose_per_100k\": 14.89597110744013, \"ci_low\": -6.944719301031208, \"ci_high\": 36.73666151591147}, {\"Year\": 2010.8999999999983, \"overdose_per_100k\": 14.912577400223158, \"ci_low\": -7.196242515630162, \"ci_high\": 37.02139731607648}, {\"Year\": 2010.9199999999983, \"overdose_per_100k\": 14.929183693006186, \"ci_low\": -7.450469816851099, \"ci_high\": 37.30883720286347}, {\"Year\": 2010.9399999999982, \"overdose_per_100k\": 14.945789985789213, \"ci_low\": -7.707304217159541, \"ci_high\": 37.59888418873797}, {\"Year\": 2010.9599999999982, \"overdose_per_100k\": 14.96239627857224, \"ci_low\": -7.966652443751469, \"ci_high\": 37.89144500089595}, {\"Year\": 2010.9799999999982, \"overdose_per_100k\": 14.979002571355268, \"ci_low\": -8.228424822701426, \"ci_high\": 38.18642996541196}, {\"Year\": 2010.9999999999982, \"overdose_per_100k\": 14.995608864138296, \"ci_low\": -8.492535161878306, \"ci_high\": 38.483752890154896}], \"data-e6bb1ad12405e7cfe3620be34aa9ac45\": [{\"Year\": 2012.0, \"overdose_per_100k\": 13.11606650175415, \"ci_low\": 9.31866935082967, \"ci_high\": 16.91346365267863}, {\"Year\": 2012.03, \"overdose_per_100k\": 13.164653403004577, \"ci_low\": 9.415903292516145, \"ci_high\": 16.91340351349301}, {\"Year\": 2012.06, \"overdose_per_100k\": 13.213240304255004, \"ci_low\": 9.512774688186692, \"ci_high\": 16.913705920323316}, {\"Year\": 2012.09, \"overdose_per_100k\": 13.261827205505432, \"ci_low\": 9.609269159930305, \"ci_high\": 16.914385251080557}, {\"Year\": 2012.12, \"overdose_per_100k\": 13.310414106755857, \"ci_low\": 9.705371680838756, \"ci_high\": 16.91545653267296}, {\"Year\": 2012.1499999999999, \"overdose_per_100k\": 13.359001008006285, \"ci_low\": 9.801066547562952, \"ci_high\": 16.916935468449616}, {\"Year\": 2012.1799999999998, \"overdose_per_100k\": 13.407587909256712, \"ci_low\": 9.896337352442098, \"ci_high\": 16.91883846607133}, {\"Year\": 2012.2099999999998, \"overdose_per_100k\": 13.45617481050714, \"ci_low\": 9.991166955331218, \"ci_high\": 16.921182665683062}, {\"Year\": 2012.2399999999998, \"overdose_per_100k\": 13.504761711757567, \"ci_low\": 10.085537455305854, \"ci_high\": 16.92398596820928}, {\"Year\": 2012.2699999999998, \"overdose_per_100k\": 13.553348613007994, \"ci_low\": 10.179430162428662, \"ci_high\": 16.927267063587326}, {\"Year\": 2012.2999999999997, \"overdose_per_100k\": 13.601935514258422, \"ci_low\": 10.272825569814898, \"ci_high\": 16.931045458701945}, {\"Year\": 2012.3299999999997, \"overdose_per_100k\": 13.650522415508847, \"ci_low\": 10.365703326274128, \"ci_high\": 16.935341504743565}, {\"Year\": 2012.3599999999997, \"overdose_per_100k\": 13.699109316759275, \"ci_low\": 10.458042209835092, \"ci_high\": 16.940176423683457}, {\"Year\": 2012.3899999999996, \"overdose_per_100k\": 13.747696218009702, \"ci_low\": 10.549820102531342, \"ci_high\": 16.945572333488062}, {\"Year\": 2012.4199999999996, \"overdose_per_100k\": 13.79628311926013, \"ci_low\": 10.641013966860436, \"ci_high\": 16.95155227165982}, {\"Year\": 2012.4499999999996, \"overdose_per_100k\": 13.844870020510557, \"ci_low\": 10.73159982439823, \"ci_high\": 16.958140216622883}, {\"Year\": 2012.4799999999996, \"overdose_per_100k\": 13.893456921760984, \"ci_low\": 10.821552737107023, \"ci_high\": 16.965361106414946}, {\"Year\": 2012.5099999999995, \"overdose_per_100k\": 13.942043823011412, \"ci_low\": 10.910846791941871, \"ci_high\": 16.973240854080952}, {\"Year\": 2012.5399999999995, \"overdose_per_100k\": 13.990630724261838, \"ci_low\": 10.999455089430274, \"ci_high\": 16.9818063590934}, {\"Year\": 2012.5699999999995, \"overdose_per_100k\": 14.039217625512265, \"ci_low\": 11.08734973696536, \"ci_high\": 16.991085514059172}, {\"Year\": 2012.5999999999995, \"overdose_per_100k\": 14.087804526762692, \"ci_low\": 11.174501847631024, \"ci_high\": 17.00110720589436}, {\"Year\": 2012.6299999999994, \"overdose_per_100k\": 14.13639142801312, \"ci_low\": 11.260881545433303, \"ci_high\": 17.011901310592936}, {\"Year\": 2012.6599999999994, \"overdose_per_100k\": 14.184978329263547, \"ci_low\": 11.346457977888804, \"ci_high\": 17.02349868063829}, {\"Year\": 2012.6899999999994, \"overdose_per_100k\": 14.233565230513975, \"ci_low\": 11.431199336969915, \"ci_high\": 17.035931124058035}, {\"Year\": 2012.7199999999993, \"overdose_per_100k\": 14.282152131764402, \"ci_low\": 11.515072889456992, \"ci_high\": 17.049231374071812}, {\"Year\": 2012.7499999999993, \"overdose_per_100k\": 14.330739033014828, \"ci_low\": 11.598045017780937, \"ci_high\": 17.06343304824872}, {\"Year\": 2012.7799999999993, \"overdose_per_100k\": 14.379325934265255, \"ci_low\": 11.68008127244638, \"ci_high\": 17.07857059608413}, {\"Year\": 2012.8099999999993, \"overdose_per_100k\": 14.427912835515682, \"ci_low\": 11.761146437122612, \"ci_high\": 17.094679233908753}, {\"Year\": 2012.8399999999992, \"overdose_per_100k\": 14.47649973676611, \"ci_low\": 11.841204607446825, \"ci_high\": 17.111794866085393}, {\"Year\": 2012.8699999999992, \"overdose_per_100k\": 14.525086638016537, \"ci_low\": 11.920219284501453, \"ci_high\": 17.12995399153162}, {\"Year\": 2012.8999999999992, \"overdose_per_100k\": 14.573673539266965, \"ci_low\": 11.99815348382585, \"ci_high\": 17.14919359470808}, {\"Year\": 2012.9299999999992, \"overdose_per_100k\": 14.622260440517392, \"ci_low\": 12.074969860640866, \"ci_high\": 17.169551020393918}, {\"Year\": 2012.9599999999991, \"overdose_per_100k\": 14.670847341767818, \"ci_low\": 12.150630851770986, \"ci_high\": 17.19106383176465}, {\"Year\": 2012.989999999999, \"overdose_per_100k\": 14.719434243018245, \"ci_low\": 12.225098834466639, \"ci_high\": 17.21376965156985}, {\"Year\": 2013.019999999999, \"overdose_per_100k\": 14.768021144268673, \"ci_low\": 12.298336302019825, \"ci_high\": 17.23770598651752}, {\"Year\": 2013.049999999999, \"overdose_per_100k\": 14.8166080455191, \"ci_low\": 12.370306055680228, \"ci_high\": 17.262910035357972}, {\"Year\": 2013.079999999999, \"overdose_per_100k\": 14.865194946769527, \"ci_low\": 12.440971411960378, \"ci_high\": 17.28941848157868}, {\"Year\": 2013.109999999999, \"overdose_per_100k\": 14.913781848019955, \"ci_low\": 12.510296423946707, \"ci_high\": 17.3172672720932}, {\"Year\": 2013.139999999999, \"overdose_per_100k\": 14.962368749270382, \"ci_low\": 12.578246114731717, \"ci_high\": 17.346491383809045}, {\"Year\": 2013.169999999999, \"overdose_per_100k\": 15.010955650520808, \"ci_low\": 12.644786720565966, \"ci_high\": 17.377124580475652}, {\"Year\": 2013.199999999999, \"overdose_per_100k\": 15.059542551771235, \"ci_low\": 12.709885940812047, \"ci_high\": 17.409199162730424}, {\"Year\": 2013.2299999999989, \"overdose_per_100k\": 15.108129453021663, \"ci_low\": 12.773513191289794, \"ci_high\": 17.44274571475353}, {\"Year\": 2013.2599999999989, \"overdose_per_100k\": 15.15671635427209, \"ci_low\": 12.83563985716174, \"ci_high\": 17.477792851382443}, {\"Year\": 2013.2899999999988, \"overdose_per_100k\": 15.205303255522518, \"ci_low\": 12.896239541133067, \"ci_high\": 17.51436696991197}, {\"Year\": 2013.3199999999988, \"overdose_per_100k\": 15.253890156772945, \"ci_low\": 12.955288302479993, \"ci_high\": 17.552492011065898}, {\"Year\": 2013.3499999999988, \"overdose_per_100k\": 15.302477058023372, \"ci_low\": 13.012764882271794, \"ci_high\": 17.592189233774953}, {\"Year\": 2013.3799999999987, \"overdose_per_100k\": 15.351063959273798, \"ci_low\": 13.0686509101549, \"ci_high\": 17.633477008392695}, {\"Year\": 2013.4099999999987, \"overdose_per_100k\": 15.399650860524225, \"ci_low\": 13.122931088227148, \"ci_high\": 17.676370632821303}, {\"Year\": 2013.4399999999987, \"overdose_per_100k\": 15.448237761774653, \"ci_low\": 13.175593347853827, \"ci_high\": 17.72088217569548}, {\"Year\": 2013.4699999999987, \"overdose_per_100k\": 15.49682466302508, \"ci_low\": 13.226628975763814, \"ci_high\": 17.767020350286344}, {\"Year\": 2013.4999999999986, \"overdose_per_100k\": 15.545411564275508, \"ci_low\": 13.276032706400327, \"ci_high\": 17.814790422150686}, {\"Year\": 2013.5299999999986, \"overdose_per_100k\": 15.593998465525935, \"ci_low\": 13.323802778264806, \"ci_high\": 17.864194152787064}, {\"Year\": 2013.5599999999986, \"overdose_per_100k\": 15.642585366776363, \"ci_low\": 13.369940952855826, \"ci_high\": 17.915229780696897}, {\"Year\": 2013.5899999999986, \"overdose_per_100k\": 15.691172268026788, \"ci_low\": 13.414452495730144, \"ci_high\": 17.967892040323434}, {\"Year\": 2013.6199999999985, \"overdose_per_100k\": 15.739759169277216, \"ci_low\": 13.457346120158865, \"ci_high\": 18.022172218395568}, {\"Year\": 2013.6499999999985, \"overdose_per_100k\": 15.788346070527643, \"ci_low\": 13.498633894776754, \"ci_high\": 18.07805824627853}, {\"Year\": 2013.6799999999985, \"overdose_per_100k\": 15.83693297177807, \"ci_low\": 13.538331117485976, \"ci_high\": 18.135534826070163}, {\"Year\": 2013.7099999999984, \"overdose_per_100k\": 15.885519873028498, \"ci_low\": 13.576456158640072, \"ci_high\": 18.194583587416922}, {\"Year\": 2013.7399999999984, \"overdose_per_100k\": 15.934106774278925, \"ci_low\": 13.613030277169763, \"ci_high\": 18.255183271388088}, {\"Year\": 2013.7699999999984, \"overdose_per_100k\": 15.982693675529353, \"ci_low\": 13.648077413798838, \"ci_high\": 18.317309937259868}, {\"Year\": 2013.7999999999984, \"overdose_per_100k\": 16.03128057677978, \"ci_low\": 13.681623965821935, \"ci_high\": 18.380937187737622}, {\"Year\": 2013.8299999999983, \"overdose_per_100k\": 16.079867478030206, \"ci_low\": 13.71369854807681, \"ci_high\": 18.446036407983602}, {\"Year\": 2013.8599999999983, \"overdose_per_100k\": 16.128454379280633, \"ci_low\": 13.744331744743624, \"ci_high\": 18.51257701381764}, {\"Year\": 2013.8899999999983, \"overdose_per_100k\": 16.17704128053106, \"ci_low\": 13.773555856459675, \"ci_high\": 18.58052670460245}, {\"Year\": 2013.9199999999983, \"overdose_per_100k\": 16.225628181781488, \"ci_low\": 13.801404646974182, \"ci_high\": 18.649851716588792}, {\"Year\": 2013.9499999999982, \"overdose_per_100k\": 16.274215083031915, \"ci_low\": 13.827913093195194, \"ci_high\": 18.720517072868635}, {\"Year\": 2013.9799999999982, \"overdose_per_100k\": 16.322801984282343, \"ci_low\": 13.853117142035627, \"ci_high\": 18.79248682652906}, {\"Year\": 2014.0099999999982, \"overdose_per_100k\": 16.37138888553277, \"ci_low\": 13.877053476983377, \"ci_high\": 18.865724294082163}, {\"Year\": 2014.0399999999981, \"overdose_per_100k\": 16.419975786783198, \"ci_low\": 13.899759296788663, \"ci_high\": 18.940192276777733}, {\"Year\": 2014.0699999999981, \"overdose_per_100k\": 16.468562688033625, \"ci_low\": 13.921272108159682, \"ci_high\": 19.015853267907566}, {\"Year\": 2014.099999999998, \"overdose_per_100k\": 16.51714958928405, \"ci_low\": 13.94162953384559, \"ci_high\": 19.092669644722505}, {\"Year\": 2014.129999999998, \"overdose_per_100k\": 16.565736490534476, \"ci_low\": 13.960869137022017, \"ci_high\": 19.170603844046934}, {\"Year\": 2014.159999999998, \"overdose_per_100k\": 16.614323391784904, \"ci_low\": 13.979028262468216, \"ci_high\": 19.249618521101592}, {\"Year\": 2014.189999999998, \"overdose_per_100k\": 16.66291029303533, \"ci_low\": 13.99614389464522, \"ci_high\": 19.329676691425444}, {\"Year\": 2014.219999999998, \"overdose_per_100k\": 16.71149719428576, \"ci_low\": 14.012252532469807, \"ci_high\": 19.41074185610171}, {\"Year\": 2014.249999999998, \"overdose_per_100k\": 16.760084095536186, \"ci_low\": 14.027390080305375, \"ci_high\": 19.492778110767}, {\"Year\": 2014.279999999998, \"overdose_per_100k\": 16.808670996786613, \"ci_low\": 14.041591754482246, \"ci_high\": 19.57575023909098}, {\"Year\": 2014.309999999998, \"overdose_per_100k\": 16.85725789803704, \"ci_low\": 14.054892004495985, \"ci_high\": 19.6596237915781}, {\"Year\": 2014.3399999999979, \"overdose_per_100k\": 16.90584479928747, \"ci_low\": 14.067324447915876, \"ci_high\": 19.74436515065906}, {\"Year\": 2014.3699999999978, \"overdose_per_100k\": 16.954431700537896, \"ci_low\": 14.078921817961557, \"ci_high\": 19.829941583114234}, {\"Year\": 2014.3999999999978, \"overdose_per_100k\": 17.003018601788323, \"ci_low\": 14.089715922660268, \"ci_high\": 19.916321280916378}, {\"Year\": 2014.4299999999978, \"overdose_per_100k\": 17.05160550303875, \"ci_low\": 14.099737614495233, \"ci_high\": 20.00347339158227}, {\"Year\": 2014.4599999999978, \"overdose_per_100k\": 17.100192404289178, \"ci_low\": 14.109016769460956, \"ci_high\": 20.0913680391174}, {\"Year\": 2014.4899999999977, \"overdose_per_100k\": 17.148779305539605, \"ci_low\": 14.11758227447371, \"ci_high\": 20.179976336605502}, {\"Year\": 2014.5199999999977, \"overdose_per_100k\": 17.19736620679003, \"ci_low\": 14.125462022140006, \"ci_high\": 20.269270391440052}, {\"Year\": 2014.5499999999977, \"overdose_per_100k\": 17.245953108040457, \"ci_low\": 14.132682911931848, \"ci_high\": 20.359223304149065}, {\"Year\": 2014.5799999999977, \"overdose_per_100k\": 17.294540009290884, \"ci_low\": 14.139270856894859, \"ci_high\": 20.449809161686908}, {\"Year\": 2014.6099999999976, \"overdose_per_100k\": 17.34312691054131, \"ci_low\": 14.145250795066735, \"ci_high\": 20.541003026015886}, {\"Year\": 2014.6399999999976, \"overdose_per_100k\": 17.39171381179174, \"ci_low\": 14.150646704871777, \"ci_high\": 20.632780918711703}, {\"Year\": 2014.6699999999976, \"overdose_per_100k\": 17.440300713042166, \"ci_low\": 14.155481623811612, \"ci_high\": 20.725119802272722}, {\"Year\": 2014.6999999999975, \"overdose_per_100k\": 17.488887614292594, \"ci_low\": 14.15977766985318, \"ci_high\": 20.817997558732007}, {\"Year\": 2014.7299999999975, \"overdose_per_100k\": 17.53747451554302, \"ci_low\": 14.163556064967432, \"ci_high\": 20.911392966118612}, {\"Year\": 2014.7599999999975, \"overdose_per_100k\": 17.58606141679345, \"ci_low\": 14.166837160345736, \"ci_high\": 21.00528567324116}, {\"Year\": 2014.7899999999975, \"overdose_per_100k\": 17.634648318043876, \"ci_low\": 14.169640462871904, \"ci_high\": 21.09965617321585}, {\"Year\": 2014.8199999999974, \"overdose_per_100k\": 17.683235219294303, \"ci_low\": 14.171984662483585, \"ci_high\": 21.194485776105022}, {\"Year\": 2014.8499999999974, \"overdose_per_100k\": 17.73182212054473, \"ci_low\": 14.173887660105835, \"ci_high\": 21.289756580983628}, {\"Year\": 2014.8799999999974, \"overdose_per_100k\": 17.78040902179516, \"ci_low\": 14.17536659588185, \"ci_high\": 21.385451447708466}, {\"Year\": 2014.9099999999974, \"overdose_per_100k\": 17.828995923045586, \"ci_low\": 14.176437877475069, \"ci_high\": 21.4815539686161}, {\"Year\": 2014.9399999999973, \"overdose_per_100k\": 17.87758282429601, \"ci_low\": 14.177117208232247, \"ci_high\": 21.578048440359773}, {\"Year\": 2014.9699999999973, \"overdose_per_100k\": 17.926169725546437, \"ci_low\": 14.177419615062217, \"ci_high\": 21.674919836030657}, {\"Year\": 2014.9999999999973, \"overdose_per_100k\": 17.974756626796864, \"ci_low\": 14.17735947587654, \"ci_high\": 21.772153777717186}], \"data-424a16bd626ddffb6ec885f6abd1efe5\": [{\"Date\": 2012, \"color\": \"black\"}]}}, {\"mode\": \"vega-lite\"});\n",
       "</script>"
      ],
      "text/plain": [
       "alt.LayerChart(...)"
      ]
     },
     "execution_count": 121,
     "metadata": {},
     "output_type": "execute_result"
    }
   ],
   "source": [
    "(reg_chart_wa_b4 + reg_chart_wa_after + reg_chart_comp_b4 + reg_chart_comp_after + line).properties(width=700, height=500)"
   ]
  }
 ],
 "metadata": {
  "kernelspec": {
   "display_name": "Python 3.10.6 ('base')",
   "language": "python",
   "name": "python3"
  },
  "language_info": {
   "codemirror_mode": {
    "name": "ipython",
    "version": 3
   },
   "file_extension": ".py",
   "mimetype": "text/x-python",
   "name": "python",
   "nbconvert_exporter": "python",
   "pygments_lexer": "ipython3",
   "version": "3.10.6"
  },
  "orig_nbformat": 4,
  "vscode": {
   "interpreter": {
    "hash": "0cbab566eb69d4626bfa9b6d912ef507e99cc521a1cee991b94f63b60c388b6e"
   }
  }
 },
 "nbformat": 4,
 "nbformat_minor": 2
}
