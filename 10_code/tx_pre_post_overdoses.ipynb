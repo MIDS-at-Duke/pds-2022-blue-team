{
 "cells": [
  {
   "cell_type": "code",
   "execution_count": 1,
   "metadata": {},
   "outputs": [],
   "source": [
    "import pandas as pd\n",
    "import numpy as np\n",
    "import matplotlib.pyplot as plt\n",
    "import seaborn as sns\n",
    "import altair as alt\n",
    "from plotnine import *\n",
    "import statsmodels.api as sm\n",
    "import statsmodels.formula.api as smf"
   ]
  },
  {
   "cell_type": "code",
   "execution_count": 2,
   "metadata": {},
   "outputs": [],
   "source": [
    "# load in pre-cleaned deaths data for Texas and comparison states\n",
    "deaths = pd.read_csv(r\"../20_intermediate_files/deaths_tx.csv\")\n"
   ]
  },
  {
   "cell_type": "code",
   "execution_count": 3,
   "metadata": {},
   "outputs": [],
   "source": [
    "# two separate dfs - one for texas and one for comp states\n",
    "\n",
    "texas = deaths[deaths[\"StateName\"] == \"Texas\"]\n",
    "comp = deaths[deaths[\"StateName\"] != \"Texas\"]"
   ]
  },
  {
   "cell_type": "markdown",
   "metadata": {},
   "source": [
    "### Helper functions "
   ]
  },
  {
   "cell_type": "code",
   "execution_count": 4,
   "metadata": {},
   "outputs": [],
   "source": [
    "# function to select only overdose records\n",
    "# double check this\n",
    "\n",
    "def select_overdose(record):\n",
    "    \"\"\"Simple function to select only overdose records\"\"\"\n",
    "\n",
    "    if record == \"All other non-drug and non-alcohol causes\":\n",
    "        return 0\n",
    "\n",
    "    if record == \"All other alcohol-induced causes\":\n",
    "        return 0\n",
    "\n",
    "    if record == \"All other drug-induced causes\":\n",
    "        return 0\n",
    "\n",
    "    if record == \"Alcohol poisonings (overdose) (X45, X65, Y15)\":\n",
    "        return 0\n",
    "\n",
    "    if record == \"Drug poisonings (overdose) Unintentional (X40-X44)\":\n",
    "        return 1\n",
    "\n",
    "    if record == \"Drug poisonings (overdose) Suicide (X60-X64)\":\n",
    "        return 1\n",
    "\n",
    "    if record == \"Drug poisonings (overdose) Undetermined (Y10-Y14)\":\n",
    "        return 1\n",
    "\n",
    "    else:\n",
    "        return \"error\"\n",
    "    \n",
    "\n",
    "# copy to fix the dreaded \"A value is trying to be set on a copy of a slice\" error\n",
    "tx_deaths = texas.copy()\n",
    "comp_deaths = comp.copy()\n",
    "\n",
    "# apply new function to our df\n",
    "tx_deaths[\"overdose\"] = tx_deaths[\"Drug/Alcohol Induced Cause\"].apply(lambda x: select_overdose(x))\n",
    "comp_deaths[\"overdose\"] = comp_deaths[\"Drug/Alcohol Induced Cause\"].apply(lambda x: select_overdose(x))\n",
    "\n",
    "assert len(tx_deaths[tx_deaths[\"overdose\"] == \"error\"]) == 0\n",
    "assert len(comp_deaths[comp_deaths[\"overdose\"] == \"error\"]) == 0\n",
    "\n",
    "# filter accordingly based on new column\n",
    "tx_deaths = tx_deaths[tx_deaths[\"overdose\"] != 0]\n",
    "comp_deaths = comp_deaths[comp_deaths[\"overdose\"] != 0]"
   ]
  },
  {
   "cell_type": "code",
   "execution_count": 5,
   "metadata": {},
   "outputs": [],
   "source": [
    "# calculate overdoses per 100_000 residents\n",
    "\n",
    "tx_deaths[\"overdose_per_100k\"] = tx_deaths[\"Deaths\"] / tx_deaths[\"Population\"] * 100_000\n",
    "comp_deaths[\"overdose_per_100k\"] = comp_deaths[\"Deaths\"] / comp_deaths[\"Population\"] * 100_000"
   ]
  },
  {
   "cell_type": "code",
   "execution_count": 6,
   "metadata": {},
   "outputs": [],
   "source": [
    "# groupby year and county\n",
    "tx_result = tx_deaths.groupby([\"Year\", \"County\"])[\"overdose_per_100k\"].sum().reset_index()\n",
    "comp_result = comp_deaths.groupby([\"Year\", \"StateName\", \"CountyName\"])[\"overdose_per_100k\"].sum().reset_index()"
   ]
  },
  {
   "cell_type": "code",
   "execution_count": 7,
   "metadata": {},
   "outputs": [
    {
     "data": {
      "text/html": [
       "<div>\n",
       "<style scoped>\n",
       "    .dataframe tbody tr th:only-of-type {\n",
       "        vertical-align: middle;\n",
       "    }\n",
       "\n",
       "    .dataframe tbody tr th {\n",
       "        vertical-align: top;\n",
       "    }\n",
       "\n",
       "    .dataframe thead th {\n",
       "        text-align: right;\n",
       "    }\n",
       "</style>\n",
       "<table border=\"1\" class=\"dataframe\">\n",
       "  <thead>\n",
       "    <tr style=\"text-align: right;\">\n",
       "      <th></th>\n",
       "      <th>Year</th>\n",
       "      <th>County</th>\n",
       "      <th>overdose_per_100k</th>\n",
       "    </tr>\n",
       "  </thead>\n",
       "  <tbody>\n",
       "    <tr>\n",
       "      <th>0</th>\n",
       "      <td>2004.0</td>\n",
       "      <td>Anderson</td>\n",
       "      <td>19.557294</td>\n",
       "    </tr>\n",
       "    <tr>\n",
       "      <th>1</th>\n",
       "      <td>2004.0</td>\n",
       "      <td>Bexar</td>\n",
       "      <td>8.461483</td>\n",
       "    </tr>\n",
       "    <tr>\n",
       "      <th>2</th>\n",
       "      <td>2004.0</td>\n",
       "      <td>Brazoria</td>\n",
       "      <td>7.088203</td>\n",
       "    </tr>\n",
       "    <tr>\n",
       "      <th>3</th>\n",
       "      <td>2004.0</td>\n",
       "      <td>Cameron</td>\n",
       "      <td>4.368016</td>\n",
       "    </tr>\n",
       "    <tr>\n",
       "      <th>4</th>\n",
       "      <td>2004.0</td>\n",
       "      <td>Collin</td>\n",
       "      <td>6.474566</td>\n",
       "    </tr>\n",
       "    <tr>\n",
       "      <th>...</th>\n",
       "      <td>...</td>\n",
       "      <td>...</td>\n",
       "      <td>...</td>\n",
       "    </tr>\n",
       "    <tr>\n",
       "      <th>221</th>\n",
       "      <td>2010.0</td>\n",
       "      <td>Tom Green</td>\n",
       "      <td>18.070439</td>\n",
       "    </tr>\n",
       "    <tr>\n",
       "      <th>222</th>\n",
       "      <td>2010.0</td>\n",
       "      <td>Travis</td>\n",
       "      <td>11.450719</td>\n",
       "    </tr>\n",
       "    <tr>\n",
       "      <th>223</th>\n",
       "      <td>2010.0</td>\n",
       "      <td>Webb</td>\n",
       "      <td>9.149859</td>\n",
       "    </tr>\n",
       "    <tr>\n",
       "      <th>224</th>\n",
       "      <td>2010.0</td>\n",
       "      <td>Wichita</td>\n",
       "      <td>12.140158</td>\n",
       "    </tr>\n",
       "    <tr>\n",
       "      <th>225</th>\n",
       "      <td>2010.0</td>\n",
       "      <td>Williamson</td>\n",
       "      <td>6.333761</td>\n",
       "    </tr>\n",
       "  </tbody>\n",
       "</table>\n",
       "<p>226 rows × 3 columns</p>\n",
       "</div>"
      ],
      "text/plain": [
       "       Year      County  overdose_per_100k\n",
       "0    2004.0    Anderson          19.557294\n",
       "1    2004.0       Bexar           8.461483\n",
       "2    2004.0    Brazoria           7.088203\n",
       "3    2004.0     Cameron           4.368016\n",
       "4    2004.0      Collin           6.474566\n",
       "..      ...         ...                ...\n",
       "221  2010.0   Tom Green          18.070439\n",
       "222  2010.0      Travis          11.450719\n",
       "223  2010.0        Webb           9.149859\n",
       "224  2010.0     Wichita          12.140158\n",
       "225  2010.0  Williamson           6.333761\n",
       "\n",
       "[226 rows x 3 columns]"
      ]
     },
     "execution_count": 7,
     "metadata": {},
     "output_type": "execute_result"
    }
   ],
   "source": [
    "tx_result"
   ]
  },
  {
   "cell_type": "code",
   "execution_count": 8,
   "metadata": {},
   "outputs": [],
   "source": [
    "# calculate summary stats\n",
    "tx_res = pd.DataFrame(tx_result.describe()[\"overdose_per_100k\"]).rename(columns={\"overdose_per_100k\": \"Overdoses per 100k Residents - Texas\"})\n",
    "comp_res = pd.DataFrame(comp_result.describe()[\"overdose_per_100k\"]).rename(columns={\"overdose_per_100k\": \"Overdoses per 100k Residents - Comp States\"})"
   ]
  },
  {
   "cell_type": "code",
   "execution_count": 9,
   "metadata": {},
   "outputs": [
    {
     "data": {
      "text/html": [
       "<div>\n",
       "<style scoped>\n",
       "    .dataframe tbody tr th:only-of-type {\n",
       "        vertical-align: middle;\n",
       "    }\n",
       "\n",
       "    .dataframe tbody tr th {\n",
       "        vertical-align: top;\n",
       "    }\n",
       "\n",
       "    .dataframe thead th {\n",
       "        text-align: right;\n",
       "    }\n",
       "</style>\n",
       "<table border=\"1\" class=\"dataframe\">\n",
       "  <thead>\n",
       "    <tr style=\"text-align: right;\">\n",
       "      <th></th>\n",
       "      <th>Overdoses per 100k Residents - Texas</th>\n",
       "      <th>Overdoses per 100k Residents - Comp States</th>\n",
       "    </tr>\n",
       "  </thead>\n",
       "  <tbody>\n",
       "    <tr>\n",
       "      <th>count</th>\n",
       "      <td>226.000000</td>\n",
       "      <td>301.000000</td>\n",
       "    </tr>\n",
       "    <tr>\n",
       "      <th>mean</th>\n",
       "      <td>10.471761</td>\n",
       "      <td>11.017577</td>\n",
       "    </tr>\n",
       "    <tr>\n",
       "      <th>std</th>\n",
       "      <td>6.469153</td>\n",
       "      <td>4.808954</td>\n",
       "    </tr>\n",
       "    <tr>\n",
       "      <th>min</th>\n",
       "      <td>1.438121</td>\n",
       "      <td>3.163785</td>\n",
       "    </tr>\n",
       "    <tr>\n",
       "      <th>25%</th>\n",
       "      <td>6.541813</td>\n",
       "      <td>7.680168</td>\n",
       "    </tr>\n",
       "    <tr>\n",
       "      <th>50%</th>\n",
       "      <td>9.107748</td>\n",
       "      <td>10.058255</td>\n",
       "    </tr>\n",
       "    <tr>\n",
       "      <th>75%</th>\n",
       "      <td>11.957830</td>\n",
       "      <td>13.130388</td>\n",
       "    </tr>\n",
       "    <tr>\n",
       "      <th>max</th>\n",
       "      <td>42.744176</td>\n",
       "      <td>39.497591</td>\n",
       "    </tr>\n",
       "  </tbody>\n",
       "</table>\n",
       "</div>"
      ],
      "text/plain": [
       "       Overdoses per 100k Residents - Texas  \\\n",
       "count                            226.000000   \n",
       "mean                              10.471761   \n",
       "std                                6.469153   \n",
       "min                                1.438121   \n",
       "25%                                6.541813   \n",
       "50%                                9.107748   \n",
       "75%                               11.957830   \n",
       "max                               42.744176   \n",
       "\n",
       "       Overdoses per 100k Residents - Comp States  \n",
       "count                                  301.000000  \n",
       "mean                                    11.017577  \n",
       "std                                      4.808954  \n",
       "min                                      3.163785  \n",
       "25%                                      7.680168  \n",
       "50%                                     10.058255  \n",
       "75%                                     13.130388  \n",
       "max                                     39.497591  "
      ]
     },
     "execution_count": 9,
     "metadata": {},
     "output_type": "execute_result"
    }
   ],
   "source": [
    "stats = pd.concat([tx_res, comp_res], axis=1)\n",
    "stats"
   ]
  },
  {
   "cell_type": "code",
   "execution_count": 10,
   "metadata": {},
   "outputs": [],
   "source": [
    "# overwrite tx result to be grouped by year only\n",
    "tx_result = tx_result.groupby(\"Year\")[\"overdose_per_100k\"].mean().reset_index()\n",
    "comp_result = comp_result.groupby([\"Year\"])[\"overdose_per_100k\"].mean().reset_index()"
   ]
  },
  {
   "cell_type": "code",
   "execution_count": 11,
   "metadata": {},
   "outputs": [],
   "source": [
    "tx_res_checkpoint = tx_result.copy()\n",
    "comp_res_checkpoint = comp_result.copy()\n",
    "\n",
    "\n",
    "# assert length is the same\n",
    "assert (len(tx_result) == len(tx_res_checkpoint)) & (len(comp_result) == len(comp_res_checkpoint))"
   ]
  },
  {
   "cell_type": "markdown",
   "metadata": {},
   "source": [
    "## Pre-post plot - overdoses per 100k through the years"
   ]
  },
  {
   "cell_type": "code",
   "execution_count": 12,
   "metadata": {},
   "outputs": [],
   "source": [
    "# split into before 2007 and after 2007\n",
    "\n",
    "tx_b4 = tx_result[tx_result[\"Year\"] < 2007]\n",
    "tx_after = tx_result[tx_result[\"Year\"] >= 2007]\n",
    "\n",
    "\n",
    "#tx_after = tx_after[tx_after[\"Year\"] != 2007]"
   ]
  },
  {
   "cell_type": "code",
   "execution_count": 13,
   "metadata": {},
   "outputs": [],
   "source": [
    "comp_b4 = comp_result[comp_result[\"Year\"] < 2007]\n",
    "comp_after = comp_result[comp_result[\"Year\"] >= 2007]\n"
   ]
  },
  {
   "cell_type": "code",
   "execution_count": 14,
   "metadata": {},
   "outputs": [],
   "source": [
    "x = \"Year\"\n",
    "y = \"overdose_per_100k\""
   ]
  },
  {
   "cell_type": "code",
   "execution_count": 15,
   "metadata": {},
   "outputs": [],
   "source": [
    "# Function to plot a vertical line at year of policy implementation\n",
    "def vertical_line(year):\n",
    "   \n",
    "    line = alt.Chart(pd.DataFrame({\n",
    "    'Year': [year],\n",
    "    'color': [\"black\"]\n",
    "    })).mark_rule().encode(\n",
    "    x='Year:Q',\n",
    "    color=alt.Color('color:N', scale=None)\n",
    "    )\n",
    " \n",
    "    return line\n"
   ]
  },
  {
   "cell_type": "code",
   "execution_count": 16,
   "metadata": {},
   "outputs": [],
   "source": [
    "# creating the vertical line at 2007, the year of implementation of policy changes in Texas\n",
    "line = vertical_line(2007)\n",
    "\n"
   ]
  },
  {
   "cell_type": "code",
   "execution_count": 17,
   "metadata": {},
   "outputs": [],
   "source": [
    "# creating the regression model and calculating the error bands for creating the plots\n",
    " \n",
    "def get_reg_fit_and_ci(data, color, xvar, yvar, legend, alpha=0.05):\n",
    "   \n",
    "    # Creating the grid for predicted values\n",
    "    colour = color\n",
    "    years = [2004,2005,2006,2007,2008,2009,2010]\n",
    "    x = data.loc[pd.notnull(data[yvar]), xvar]\n",
    "    xmin = x.min()\n",
    "    xmax = x.max()\n",
    "    step = (xmax - xmin) / 100\n",
    "    grid = np.arange(xmin, xmax + step, step)\n",
    "    predictions = pd.DataFrame({xvar: grid})\n",
    " \n",
    "    # Fitting the model and making the predictions\n",
    "    model = smf.ols(f\"{yvar} ~ {xvar}\", data=data).fit()\n",
    "    model_predict = model.get_prediction(predictions[xvar])\n",
    "    predictions[yvar] = model_predict.summary_frame()[\"mean\"]\n",
    "    predictions[[\"ci_low\", \"ci_high\"]] = model_predict.conf_int(alpha=alpha)\n",
    "   \n",
    "    # Utilizing the predictions to create the points and error bands in the chart\n",
    "    predictions[\"Before/After\"] = f\"{legend}\"\n",
    "    reg = (\n",
    "        alt.Chart(predictions)\n",
    "        .mark_line()\n",
    "        .encode(\n",
    "            x=xvar,\n",
    "            y=alt.Y(yvar),\n",
    "            color = alt.Color(\"Before/After\",legend=alt.Legend(title = \"Before/After Policy Change\"))\n",
    "        )\n",
    "    )\n",
    " \n",
    "    ci = (\n",
    "        alt.Chart(predictions)\n",
    "        .mark_errorband()\n",
    "        .encode(\n",
    "            alt.X(f\"{xvar}:Q\", axis=alt.Axis(format=\".0f\", values=years)),\n",
    "            y=alt.Y(\n",
    "                \"ci_low\",\n",
    "                title=\"Opioid Overdose Deaths Per 100K Residents\",\n",
    "                scale=alt.Scale(zero=False),\n",
    "            ),\n",
    "            y2=\"ci_high\",\n",
    "            color=alt.value(f\"{color}\"),\n",
    "        )\n",
    "    )\n",
    "    chart = ci + reg\n",
    "    return predictions, chart\n",
    " \n"
   ]
  },
  {
   "cell_type": "code",
   "execution_count": 18,
   "metadata": {},
   "outputs": [],
   "source": [
    "# Using the get_reg_fit_and_ci function to create the charts\n",
    " \n",
    "def build_chart(data, color, xvar, yvar, legend, alpha=0.05):\n",
    "    fit, reg_chart = get_reg_fit_and_ci(\n",
    "        data=data, color=color, xvar=xvar, yvar=yvar,  legend=legend, alpha=alpha,\n",
    "    )\n",
    "    return reg_chart\n"
   ]
  },
  {
   "cell_type": "code",
   "execution_count": 19,
   "metadata": {},
   "outputs": [
    {
     "data": {
      "text/html": [
       "\n",
       "<div id=\"altair-viz-ae9821b4ad1a4af5b2fdb415bebb2cbd\"></div>\n",
       "<script type=\"text/javascript\">\n",
       "  var VEGA_DEBUG = (typeof VEGA_DEBUG == \"undefined\") ? {} : VEGA_DEBUG;\n",
       "  (function(spec, embedOpt){\n",
       "    let outputDiv = document.currentScript.previousElementSibling;\n",
       "    if (outputDiv.id !== \"altair-viz-ae9821b4ad1a4af5b2fdb415bebb2cbd\") {\n",
       "      outputDiv = document.getElementById(\"altair-viz-ae9821b4ad1a4af5b2fdb415bebb2cbd\");\n",
       "    }\n",
       "    const paths = {\n",
       "      \"vega\": \"https://cdn.jsdelivr.net/npm//vega@5?noext\",\n",
       "      \"vega-lib\": \"https://cdn.jsdelivr.net/npm//vega-lib?noext\",\n",
       "      \"vega-lite\": \"https://cdn.jsdelivr.net/npm//vega-lite@4.17.0?noext\",\n",
       "      \"vega-embed\": \"https://cdn.jsdelivr.net/npm//vega-embed@6?noext\",\n",
       "    };\n",
       "\n",
       "    function maybeLoadScript(lib, version) {\n",
       "      var key = `${lib.replace(\"-\", \"\")}_version`;\n",
       "      return (VEGA_DEBUG[key] == version) ?\n",
       "        Promise.resolve(paths[lib]) :\n",
       "        new Promise(function(resolve, reject) {\n",
       "          var s = document.createElement('script');\n",
       "          document.getElementsByTagName(\"head\")[0].appendChild(s);\n",
       "          s.async = true;\n",
       "          s.onload = () => {\n",
       "            VEGA_DEBUG[key] = version;\n",
       "            return resolve(paths[lib]);\n",
       "          };\n",
       "          s.onerror = () => reject(`Error loading script: ${paths[lib]}`);\n",
       "          s.src = paths[lib];\n",
       "        });\n",
       "    }\n",
       "\n",
       "    function showError(err) {\n",
       "      outputDiv.innerHTML = `<div class=\"error\" style=\"color:red;\">${err}</div>`;\n",
       "      throw err;\n",
       "    }\n",
       "\n",
       "    function displayChart(vegaEmbed) {\n",
       "      vegaEmbed(outputDiv, spec, embedOpt)\n",
       "        .catch(err => showError(`Javascript Error: ${err.message}<br>This usually means there's a typo in your chart specification. See the javascript console for the full traceback.`));\n",
       "    }\n",
       "\n",
       "    if(typeof define === \"function\" && define.amd) {\n",
       "      requirejs.config({paths});\n",
       "      require([\"vega-embed\"], displayChart, err => showError(`Error loading script: ${err.message}`));\n",
       "    } else {\n",
       "      maybeLoadScript(\"vega\", \"5\")\n",
       "        .then(() => maybeLoadScript(\"vega-lite\", \"4.17.0\"))\n",
       "        .then(() => maybeLoadScript(\"vega-embed\", \"6\"))\n",
       "        .catch(showError)\n",
       "        .then(() => displayChart(vegaEmbed));\n",
       "    }\n",
       "  })({\"config\": {\"view\": {\"continuousWidth\": 400, \"continuousHeight\": 300}}, \"layer\": [{\"mark\": \"errorband\", \"encoding\": {\"color\": {\"value\": \"orange\"}, \"x\": {\"axis\": {\"format\": \".0f\", \"values\": [2004, 2005, 2006, 2007, 2008, 2009, 2010]}, \"field\": \"Year\", \"type\": \"quantitative\"}, \"y\": {\"field\": \"ci_low\", \"scale\": {\"zero\": false}, \"title\": \"Opioid Overdose Deaths Per 100K Residents\", \"type\": \"quantitative\"}, \"y2\": {\"field\": \"ci_high\"}}}, {\"mark\": \"line\", \"encoding\": {\"color\": {\"field\": \"Before/After\", \"legend\": {\"title\": \"Before/After Policy Change\"}, \"type\": \"nominal\"}, \"x\": {\"field\": \"Year\", \"type\": \"quantitative\"}, \"y\": {\"field\": \"overdose_per_100k\", \"type\": \"quantitative\"}}}, {\"layer\": [{\"mark\": \"errorband\", \"encoding\": {\"color\": {\"value\": \"blue\"}, \"x\": {\"axis\": {\"format\": \".0f\", \"values\": [2004, 2005, 2006, 2007, 2008, 2009, 2010]}, \"field\": \"Year\", \"type\": \"quantitative\"}, \"y\": {\"field\": \"ci_low\", \"scale\": {\"zero\": false}, \"title\": \"Opioid Overdose Deaths Per 100K Residents\", \"type\": \"quantitative\"}, \"y2\": {\"field\": \"ci_high\"}}}, {\"mark\": \"line\", \"encoding\": {\"color\": {\"field\": \"Before/After\", \"legend\": {\"title\": \"Before/After Policy Change\"}, \"type\": \"nominal\"}, \"x\": {\"field\": \"Year\", \"type\": \"quantitative\"}, \"y\": {\"field\": \"overdose_per_100k\", \"type\": \"quantitative\"}}}], \"data\": {\"name\": \"data-a89b477e1bbd16fb7bc200d1f09015aa\"}}, {\"data\": {\"name\": \"data-7db994d7bfb930e88fd1045d9c719047\"}, \"mark\": \"rule\", \"encoding\": {\"color\": {\"field\": \"color\", \"scale\": null, \"type\": \"nominal\"}, \"x\": {\"field\": \"Year\", \"type\": \"quantitative\"}}}], \"data\": {\"name\": \"data-bd404b8aca5a53da39f186b398f3875e\"}, \"title\": \"Pre Post Analysis Of Opioid Overdose Deaths In Texas\", \"$schema\": \"https://vega.github.io/schema/vega-lite/v4.17.0.json\", \"datasets\": {\"data-bd404b8aca5a53da39f186b398f3875e\": [{\"Year\": 2004.0, \"overdose_per_100k\": 7.686844687305893, \"ci_low\": -4.135064326318018, \"ci_high\": 19.5087537009298, \"Before/After\": \"Texas Before\"}, {\"Year\": 2004.02, \"overdose_per_100k\": 7.734153858896207, \"ci_low\": -3.946466575378407, \"ci_high\": 19.414774293170822, \"Before/After\": \"Texas Before\"}, {\"Year\": 2004.04, \"overdose_per_100k\": 7.78146303048652, \"ci_low\": -3.759045552262698, \"ci_high\": 19.32197161323574, \"Before/After\": \"Texas Before\"}, {\"Year\": 2004.06, \"overdose_per_100k\": 7.828772202075925, \"ci_low\": -3.5728446403177383, \"ci_high\": 19.23038904446959, \"Before/After\": \"Texas Before\"}, {\"Year\": 2004.08, \"overdose_per_100k\": 7.8760813736662385, \"ci_low\": -3.3879089703971417, \"ci_high\": 19.14007171772962, \"Before/After\": \"Texas Before\"}, {\"Year\": 2004.1, \"overdose_per_100k\": 7.923390545255643, \"ci_low\": -3.2042854896257946, \"ci_high\": 19.051066580137082, \"Before/After\": \"Texas Before\"}, {\"Year\": 2004.12, \"overdose_per_100k\": 7.970699716845957, \"ci_low\": -3.022023013175012, \"ci_high\": 18.963422446866925, \"Before/After\": \"Texas Before\"}, {\"Year\": 2004.1399999999999, \"overdose_per_100k\": 8.01800888843536, \"ci_low\": -2.841172286509236, \"ci_high\": 18.877190063379956, \"Before/After\": \"Texas Before\"}, {\"Year\": 2004.1599999999999, \"overdose_per_100k\": 8.065318060025675, \"ci_low\": -2.6617860292041478, \"ci_high\": 18.792422149255497, \"Before/After\": \"Texas Before\"}, {\"Year\": 2004.1799999999998, \"overdose_per_100k\": 8.112627231615079, \"ci_low\": -2.4839190014847894, \"ci_high\": 18.709173464714947, \"Before/After\": \"Texas Before\"}, {\"Year\": 2004.1999999999998, \"overdose_per_100k\": 8.159936403205393, \"ci_low\": -2.3076280515757777, \"ci_high\": 18.62750085798656, \"Before/After\": \"Texas Before\"}, {\"Year\": 2004.2199999999998, \"overdose_per_100k\": 8.207245574794797, \"ci_low\": -2.1329721586726738, \"ci_high\": 18.547463308262266, \"Before/After\": \"Texas Before\"}, {\"Year\": 2004.2399999999998, \"overdose_per_100k\": 8.25455474638511, \"ci_low\": -1.9600124783848862, \"ci_high\": 18.469121971155108, \"Before/After\": \"Texas Before\"}, {\"Year\": 2004.2599999999998, \"overdose_per_100k\": 8.301863917974515, \"ci_low\": -1.788812371617155, \"ci_high\": 18.392540207566185, \"Before/After\": \"Texas Before\"}, {\"Year\": 2004.2799999999997, \"overdose_per_100k\": 8.349173089564829, \"ci_low\": -1.619437448650416, \"ci_high\": 18.317783627780074, \"Before/After\": \"Texas Before\"}, {\"Year\": 2004.2999999999997, \"overdose_per_100k\": 8.396482261154233, \"ci_low\": -1.4519555685760857, \"ci_high\": 18.244920090884552, \"Before/After\": \"Texas Before\"}, {\"Year\": 2004.3199999999997, \"overdose_per_100k\": 8.443791432744547, \"ci_low\": -1.2864368752261228, \"ci_high\": 18.174019740715217, \"Before/After\": \"Texas Before\"}, {\"Year\": 2004.3399999999997, \"overdose_per_100k\": 8.49110060433486, \"ci_low\": -1.1229537858657697, \"ci_high\": 18.10515499453549, \"Before/After\": \"Texas Before\"}, {\"Year\": 2004.3599999999997, \"overdose_per_100k\": 8.538409775924265, \"ci_low\": -0.9615809760907954, \"ci_high\": 18.038400527939324, \"Before/After\": \"Texas Before\"}, {\"Year\": 2004.3799999999997, \"overdose_per_100k\": 8.585718947514579, \"ci_low\": -0.8023953665918881, \"ci_high\": 17.973833261621046, \"Before/After\": \"Texas Before\"}, {\"Year\": 2004.3999999999996, \"overdose_per_100k\": 8.633028119103983, \"ci_low\": -0.6454760748289772, \"ci_high\": 17.911532313036943, \"Before/After\": \"Texas Before\"}, {\"Year\": 2004.4199999999996, \"overdose_per_100k\": 8.680337290694297, \"ci_low\": -0.4909043628800518, \"ci_high\": 17.851578944268645, \"Before/After\": \"Texas Before\"}, {\"Year\": 2004.4399999999996, \"overdose_per_100k\": 8.727646462283701, \"ci_low\": -0.338763546061001, \"ci_high\": 17.794056470628405, \"Before/After\": \"Texas Before\"}, {\"Year\": 2004.4599999999996, \"overdose_per_100k\": 8.774955633874015, \"ci_low\": -0.18913890984328496, \"ci_high\": 17.739050177591317, \"Before/After\": \"Texas Before\"}, {\"Year\": 2004.4799999999996, \"overdose_per_100k\": 8.82226480546342, \"ci_low\": -0.042117584401745845, \"ci_high\": 17.686647195328582, \"Before/After\": \"Texas Before\"}, {\"Year\": 2004.4999999999995, \"overdose_per_100k\": 8.869573977053733, \"ci_low\": 0.10221160661950712, \"ci_high\": 17.63693634748796, \"Before/After\": \"Texas Before\"}, {\"Year\": 2004.5199999999995, \"overdose_per_100k\": 8.916883148643137, \"ci_low\": 0.24375831782223223, \"ci_high\": 17.59000797946404, \"Before/After\": \"Texas Before\"}, {\"Year\": 2004.5399999999995, \"overdose_per_100k\": 8.964192320233451, \"ci_low\": 0.38243088211243936, \"ci_high\": 17.545953758354464, \"Before/After\": \"Texas Before\"}, {\"Year\": 2004.5599999999995, \"overdose_per_100k\": 9.011501491822855, \"ci_low\": 0.5181365472107871, \"ci_high\": 17.504866436434924, \"Before/After\": \"Texas Before\"}, {\"Year\": 2004.5799999999995, \"overdose_per_100k\": 9.058810663413169, \"ci_low\": 0.6507817430264797, \"ci_high\": 17.46683958379986, \"Before/After\": \"Texas Before\"}, {\"Year\": 2004.5999999999995, \"overdose_per_100k\": 9.106119835002573, \"ci_low\": 0.7802723594908283, \"ci_high\": 17.431967310514317, \"Before/After\": \"Texas Before\"}, {\"Year\": 2004.6199999999994, \"overdose_per_100k\": 9.153429006592887, \"ci_low\": 0.9065140888406589, \"ci_high\": 17.400343924345115, \"Before/After\": \"Texas Before\"}, {\"Year\": 2004.6399999999994, \"overdose_per_100k\": 9.200738178183201, \"ci_low\": 1.0294127784010048, \"ci_high\": 17.3720635779654, \"Before/After\": \"Texas Before\"}, {\"Year\": 2004.6599999999994, \"overdose_per_100k\": 9.248047349772605, \"ci_low\": 1.1488748305740852, \"ci_high\": 17.347219868971123, \"Before/After\": \"Texas Before\"}, {\"Year\": 2004.6799999999994, \"overdose_per_100k\": 9.295356521362919, \"ci_low\": 1.2648076099810126, \"ci_high\": 17.325905432744825, \"Before/After\": \"Texas Before\"}, {\"Year\": 2004.6999999999994, \"overdose_per_100k\": 9.342665692952323, \"ci_low\": 1.377119901470972, \"ci_high\": 17.308211484433674, \"Before/After\": \"Texas Before\"}, {\"Year\": 2004.7199999999993, \"overdose_per_100k\": 9.389974864542637, \"ci_low\": 1.4857223772045058, \"ci_high\": 17.294227351880767, \"Before/After\": \"Texas Before\"}, {\"Year\": 2004.7399999999993, \"overdose_per_100k\": 9.437284036132041, \"ci_low\": 1.5905281083147838, \"ci_high\": 17.284039963949297, \"Before/After\": \"Texas Before\"}, {\"Year\": 2004.7599999999993, \"overdose_per_100k\": 9.484593207722355, \"ci_low\": 1.6914530591033472, \"ci_high\": 17.277733356341365, \"Before/After\": \"Texas Before\"}, {\"Year\": 2004.7799999999993, \"overdose_per_100k\": 9.53190237931176, \"ci_low\": 1.7884166153271517, \"ci_high\": 17.275388143296368, \"Before/After\": \"Texas Before\"}, {\"Year\": 2004.7999999999993, \"overdose_per_100k\": 9.579211550902073, \"ci_low\": 1.881342118794275, \"ci_high\": 17.27708098300987, \"Before/After\": \"Texas Before\"}, {\"Year\": 2004.8199999999993, \"overdose_per_100k\": 9.626520722491477, \"ci_low\": 1.970157390997243, \"ci_high\": 17.28288405398571, \"Before/After\": \"Texas Before\"}, {\"Year\": 2004.8399999999992, \"overdose_per_100k\": 9.673829894081791, \"ci_low\": 2.0547952628399857, \"ci_high\": 17.292864525323598, \"Before/After\": \"Texas Before\"}, {\"Year\": 2004.8599999999992, \"overdose_per_100k\": 9.721139065671196, \"ci_low\": 2.135194058646742, \"ci_high\": 17.30708407269565, \"Before/After\": \"Texas Before\"}, {\"Year\": 2004.8799999999992, \"overdose_per_100k\": 9.76844823726151, \"ci_low\": 2.2112981044881224, \"ci_high\": 17.325598370034896, \"Before/After\": \"Texas Before\"}, {\"Year\": 2004.8999999999992, \"overdose_per_100k\": 9.815757408851823, \"ci_low\": 2.2830581433370405, \"ci_high\": 17.348456674366606, \"Before/After\": \"Texas Before\"}, {\"Year\": 2004.9199999999992, \"overdose_per_100k\": 9.863066580441227, \"ci_low\": 2.350431758129065, \"ci_high\": 17.37570140275339, \"Before/After\": \"Texas Before\"}, {\"Year\": 2004.9399999999991, \"overdose_per_100k\": 9.910375752031541, \"ci_low\": 2.4133837352097105, \"ci_high\": 17.407367768853373, \"Before/After\": \"Texas Before\"}, {\"Year\": 2004.9599999999991, \"overdose_per_100k\": 9.957684923620945, \"ci_low\": 2.4718863528006096, \"ci_high\": 17.44348349444128, \"Before/After\": \"Texas Before\"}, {\"Year\": 2004.979999999999, \"overdose_per_100k\": 10.00499409521126, \"ci_low\": 2.525919633673074, \"ci_high\": 17.484068556749445, \"Before/After\": \"Texas Before\"}, {\"Year\": 2004.999999999999, \"overdose_per_100k\": 10.052303266800664, \"ci_low\": 2.5754715147212037, \"ci_high\": 17.529135018880122, \"Before/After\": \"Texas Before\"}, {\"Year\": 2005.019999999999, \"overdose_per_100k\": 10.099612438390977, \"ci_low\": 2.6205379718345974, \"ci_high\": 17.578686904947357, \"Before/After\": \"Texas Before\"}, {\"Year\": 2005.039999999999, \"overdose_per_100k\": 10.146921609980382, \"ci_low\": 2.661123036559495, \"ci_high\": 17.63272018340127, \"Before/After\": \"Texas Before\"}, {\"Year\": 2005.059999999999, \"overdose_per_100k\": 10.194230781570695, \"ci_low\": 2.6972387645617264, \"ci_high\": 17.691222798579666, \"Before/After\": \"Texas Before\"}, {\"Year\": 2005.079999999999, \"overdose_per_100k\": 10.2415399531601, \"ci_low\": 2.7289051330657044, \"ci_high\": 17.754174773254494, \"Before/After\": \"Texas Before\"}, {\"Year\": 2005.099999999999, \"overdose_per_100k\": 10.288849124750413, \"ci_low\": 2.7561498613504813, \"ci_high\": 17.821548388150347, \"Before/After\": \"Texas Before\"}, {\"Year\": 2005.119999999999, \"overdose_per_100k\": 10.336158296339818, \"ci_low\": 2.7790081655775927, \"ci_high\": 17.893308427102042, \"Before/After\": \"Texas Before\"}, {\"Year\": 2005.139999999999, \"overdose_per_100k\": 10.383467467930132, \"ci_low\": 2.7975224604390094, \"ci_high\": 17.969412475421255, \"Before/After\": \"Texas Before\"}, {\"Year\": 2005.159999999999, \"overdose_per_100k\": 10.430776639519536, \"ci_low\": 2.8117420053543727, \"ci_high\": 18.0498112736847, \"Before/After\": \"Texas Before\"}, {\"Year\": 2005.179999999999, \"overdose_per_100k\": 10.47808581110985, \"ci_low\": 2.8217224790657376, \"ci_high\": 18.13444914315396, \"Before/After\": \"Texas Before\"}, {\"Year\": 2005.199999999999, \"overdose_per_100k\": 10.525394982700163, \"ci_low\": 2.827525549950675, \"ci_high\": 18.223264415449652, \"Before/After\": \"Texas Before\"}, {\"Year\": 2005.219999999999, \"overdose_per_100k\": 10.572704154289568, \"ci_low\": 2.8292183895725325, \"ci_high\": 18.316189919006604, \"Before/After\": \"Texas Before\"}, {\"Year\": 2005.2399999999989, \"overdose_per_100k\": 10.620013325879881, \"ci_low\": 2.826873178851228, \"ci_high\": 18.413153472908533, \"Before/After\": \"Texas Before\"}, {\"Year\": 2005.2599999999989, \"overdose_per_100k\": 10.667322497469286, \"ci_low\": 2.8205665735337915, \"ci_high\": 18.51407842140478, \"Before/After\": \"Texas Before\"}, {\"Year\": 2005.2799999999988, \"overdose_per_100k\": 10.7146316690596, \"ci_low\": 2.8103791808257164, \"ci_high\": 18.618884157293483, \"Before/After\": \"Texas Before\"}, {\"Year\": 2005.2999999999988, \"overdose_per_100k\": 10.761940840649004, \"ci_low\": 2.7963950459273246, \"ci_high\": 18.72748663537068, \"Before/After\": \"Texas Before\"}, {\"Year\": 2005.3199999999988, \"overdose_per_100k\": 10.809250012239318, \"ci_low\": 2.77870109755246, \"ci_high\": 18.839798926926175, \"Before/After\": \"Texas Before\"}, {\"Year\": 2005.3399999999988, \"overdose_per_100k\": 10.856559183828722, \"ci_low\": 2.7573866635832083, \"ci_high\": 18.955731704074235, \"Before/After\": \"Texas Before\"}, {\"Year\": 2005.3599999999988, \"overdose_per_100k\": 10.903868355419036, \"ci_low\": 2.732542956810482, \"ci_high\": 19.075193754027588, \"Before/After\": \"Texas Before\"}, {\"Year\": 2005.3799999999987, \"overdose_per_100k\": 10.95117752700844, \"ci_low\": 2.704262610330071, \"ci_high\": 19.19809244368681, \"Before/After\": \"Texas Before\"}, {\"Year\": 2005.3999999999987, \"overdose_per_100k\": 10.998486698598754, \"ci_low\": 2.6726392263204826, \"ci_high\": 19.324334170877023, \"Before/After\": \"Texas Before\"}, {\"Year\": 2005.4199999999987, \"overdose_per_100k\": 11.045795870188158, \"ci_low\": 2.637766948538621, \"ci_high\": 19.453824791837697, \"Before/After\": \"Texas Before\"}, {\"Year\": 2005.4399999999987, \"overdose_per_100k\": 11.093105041778472, \"ci_low\": 2.5997400980427052, \"ci_high\": 19.58646998551424, \"Before/After\": \"Texas Before\"}, {\"Year\": 2005.4599999999987, \"overdose_per_100k\": 11.140414213367876, \"ci_low\": 2.5586527739320513, \"ci_high\": 19.7221756528037, \"Before/After\": \"Texas Before\"}, {\"Year\": 2005.4799999999987, \"overdose_per_100k\": 11.18772338495819, \"ci_low\": 2.514598552752201, \"ci_high\": 19.86084821716418, \"Before/After\": \"Texas Before\"}, {\"Year\": 2005.4999999999986, \"overdose_per_100k\": 11.235032556548504, \"ci_low\": 2.467670184660342, \"ci_high\": 20.002394928436665, \"Before/After\": \"Texas Before\"}, {\"Year\": 2005.5199999999986, \"overdose_per_100k\": 11.282341728137908, \"ci_low\": 2.4179593388732137, \"ci_high\": 20.146724117402602, \"Before/After\": \"Texas Before\"}, {\"Year\": 2005.5399999999986, \"overdose_per_100k\": 11.329650899728222, \"ci_low\": 2.3655563586184805, \"ci_high\": 20.293745440837963, \"Before/After\": \"Texas Before\"}, {\"Year\": 2005.5599999999986, \"overdose_per_100k\": 11.376960071317626, \"ci_low\": 2.3105500634840954, \"ci_high\": 20.44337007915116, \"Before/After\": \"Texas Before\"}, {\"Year\": 2005.5799999999986, \"overdose_per_100k\": 11.42426924290794, \"ci_low\": 2.2530275897598706, \"ci_high\": 20.59551089605601, \"Before/After\": \"Texas Before\"}, {\"Year\": 2005.5999999999985, \"overdose_per_100k\": 11.471578414497344, \"ci_low\": 2.1930742169413637, \"ci_high\": 20.750082612053326, \"Before/After\": \"Texas Before\"}, {\"Year\": 2005.6199999999985, \"overdose_per_100k\": 11.518887586087658, \"ci_low\": 2.130773270324264, \"ci_high\": 20.907001901851054, \"Before/After\": \"Texas Before\"}, {\"Year\": 2005.6399999999985, \"overdose_per_100k\": 11.566196757677062, \"ci_low\": 2.066206005926693, \"ci_high\": 21.06618750942743, \"Before/After\": \"Texas Before\"}, {\"Year\": 2005.6599999999985, \"overdose_per_100k\": 11.613505929267376, \"ci_low\": 1.9994515412078346, \"ci_high\": 21.22756031732692, \"Before/After\": \"Texas Before\"}, {\"Year\": 2005.6799999999985, \"overdose_per_100k\": 11.66081510085678, \"ci_low\": 1.9305867949261817, \"ci_high\": 21.39104340678738, \"Before/After\": \"Texas Before\"}, {\"Year\": 2005.6999999999985, \"overdose_per_100k\": 11.708124272447094, \"ci_low\": 1.8596864446578145, \"ci_high\": 21.556562100236373, \"Before/After\": \"Texas Before\"}, {\"Year\": 2005.7199999999984, \"overdose_per_100k\": 11.755433444036498, \"ci_low\": 1.7868229058580791, \"ci_high\": 21.724043982214916, \"Before/After\": \"Texas Before\"}, {\"Year\": 2005.7399999999984, \"overdose_per_100k\": 11.802742615626812, \"ci_low\": 1.7120663242152787, \"ci_high\": 21.893418907038345, \"Before/After\": \"Texas Before\"}, {\"Year\": 2005.7599999999984, \"overdose_per_100k\": 11.850051787217126, \"ci_low\": 1.6354845624174796, \"ci_high\": 22.06461901201677, \"Before/After\": \"Texas Before\"}, {\"Year\": 2005.7799999999984, \"overdose_per_100k\": 11.89736095880653, \"ci_low\": 1.5571432252396562, \"ci_high\": 22.237578692373404, \"Before/After\": \"Texas Before\"}, {\"Year\": 2005.7999999999984, \"overdose_per_100k\": 11.944670130396844, \"ci_low\": 1.4771056754473424, \"ci_high\": 22.412234585346347, \"Before/After\": \"Texas Before\"}, {\"Year\": 2005.8199999999983, \"overdose_per_100k\": 11.991979301986248, \"ci_low\": 1.3954330704253675, \"ci_high\": 22.588525533547127, \"Before/After\": \"Texas Before\"}, {\"Year\": 2005.8399999999983, \"overdose_per_100k\": 12.039288473576562, \"ci_low\": 1.3121843875506567, \"ci_high\": 22.766392559602465, \"Before/After\": \"Texas Before\"}, {\"Year\": 2005.8599999999983, \"overdose_per_100k\": 12.086597645165966, \"ci_low\": 1.2274164699289614, \"ci_high\": 22.94577882040297, \"Before/After\": \"Texas Before\"}, {\"Year\": 2005.8799999999983, \"overdose_per_100k\": 12.13390681675628, \"ci_low\": 1.141184084743367, \"ci_high\": 23.126629548769195, \"Before/After\": \"Texas Before\"}, {\"Year\": 2005.8999999999983, \"overdose_per_100k\": 12.181215988345684, \"ci_low\": 1.053539951431306, \"ci_high\": 23.308892025260064, \"Before/After\": \"Texas Before\"}, {\"Year\": 2005.9199999999983, \"overdose_per_100k\": 12.228525159935998, \"ci_low\": 0.9645348154676903, \"ci_high\": 23.492515504404306, \"Before/After\": \"Texas Before\"}, {\"Year\": 2005.9399999999982, \"overdose_per_100k\": 12.275834331525402, \"ci_low\": 0.8742174903157558, \"ci_high\": 23.677451172735047, \"Before/After\": \"Texas Before\"}, {\"Year\": 2005.9599999999982, \"overdose_per_100k\": 12.323143503115716, \"ci_low\": 0.7826349214726473, \"ci_high\": 23.863652084758783, \"Before/After\": \"Texas Before\"}, {\"Year\": 2005.9799999999982, \"overdose_per_100k\": 12.37045267470512, \"ci_low\": 0.6898322430703931, \"ci_high\": 24.05107310633985, \"Before/After\": \"Texas Before\"}, {\"Year\": 2005.9999999999982, \"overdose_per_100k\": 12.417761846295434, \"ci_low\": 0.5958528321032794, \"ci_high\": 24.23967086048759, \"Before/After\": \"Texas Before\"}], \"data-a89b477e1bbd16fb7bc200d1f09015aa\": [{\"Year\": 2007.0, \"overdose_per_100k\": 9.93328895044192, \"ci_low\": 7.415507354409942, \"ci_high\": 12.451070546473897, \"Before/After\": \"Texas After\"}, {\"Year\": 2007.03, \"overdose_per_100k\": 9.945767314992054, \"ci_low\": 7.460240081235181, \"ci_high\": 12.431294548748927, \"Before/After\": \"Texas After\"}, {\"Year\": 2007.06, \"overdose_per_100k\": 9.958245679542188, \"ci_low\": 7.504732429811251, \"ci_high\": 12.411758929273123, \"Before/After\": \"Texas After\"}, {\"Year\": 2007.09, \"overdose_per_100k\": 9.970724044092321, \"ci_low\": 7.548974866958707, \"ci_high\": 12.392473221225936, \"Before/After\": \"Texas After\"}, {\"Year\": 2007.12, \"overdose_per_100k\": 9.983202408642569, \"ci_low\": 7.592957429845972, \"ci_high\": 12.373447387439166, \"Before/After\": \"Texas After\"}, {\"Year\": 2007.1499999999999, \"overdose_per_100k\": 9.995680773192703, \"ci_low\": 7.636669706266076, \"ci_high\": 12.35469184011933, \"Before/After\": \"Texas After\"}, {\"Year\": 2007.1799999999998, \"overdose_per_100k\": 10.008159137742837, \"ci_low\": 7.6801008179292864, \"ci_high\": 12.336217457556387, \"Before/After\": \"Texas After\"}, {\"Year\": 2007.2099999999998, \"overdose_per_100k\": 10.02063750229297, \"ci_low\": 7.72323940021035, \"ci_high\": 12.318035604375591, \"Before/After\": \"Texas After\"}, {\"Year\": 2007.2399999999998, \"overdose_per_100k\": 10.033115866843104, \"ci_low\": 7.766073584290577, \"ci_high\": 12.300158149395632, \"Before/After\": \"Texas After\"}, {\"Year\": 2007.2699999999998, \"overdose_per_100k\": 10.045594231393238, \"ci_low\": 7.808590978213436, \"ci_high\": 12.28259748457304, \"Before/After\": \"Texas After\"}, {\"Year\": 2007.2999999999997, \"overdose_per_100k\": 10.058072595943372, \"ci_low\": 7.850778647880478, \"ci_high\": 12.265366544006266, \"Before/After\": \"Texas After\"}, {\"Year\": 2007.3299999999997, \"overdose_per_100k\": 10.070550960493506, \"ci_low\": 7.892623100837124, \"ci_high\": 12.248478820149888, \"Before/After\": \"Texas After\"}, {\"Year\": 2007.3599999999997, \"overdose_per_100k\": 10.08302932504364, \"ci_low\": 7.934110265839984, \"ci_high\": 12.231948384247296, \"Before/After\": \"Texas After\"}, {\"Year\": 2007.3899999999996, \"overdose_per_100k\": 10.095507689593774, \"ci_low\": 7.9752254780526055, \"ci_high\": 12.215789901134942, \"Before/After\": \"Texas After\"}, {\"Year\": 2007.4199999999996, \"overdose_per_100k\": 10.107986054143907, \"ci_low\": 8.015953462960034, \"ci_high\": 12.20001864532778, \"Before/After\": \"Texas After\"}, {\"Year\": 2007.4499999999996, \"overdose_per_100k\": 10.120464418694041, \"ci_low\": 8.056278322189772, \"ci_high\": 12.18465051519831, \"Before/After\": \"Texas After\"}, {\"Year\": 2007.4799999999996, \"overdose_per_100k\": 10.132942783244175, \"ci_low\": 8.09618352059442, \"ci_high\": 12.16970204589393, \"Before/After\": \"Texas After\"}, {\"Year\": 2007.5099999999995, \"overdose_per_100k\": 10.145421147794309, \"ci_low\": 8.135651878133629, \"ci_high\": 12.155190417454989, \"Before/After\": \"Texas After\"}, {\"Year\": 2007.5399999999995, \"overdose_per_100k\": 10.157899512344557, \"ci_low\": 8.174665559180388, \"ci_high\": 12.141133465508725, \"Before/After\": \"Texas After\"}, {\"Year\": 2007.5699999999995, \"overdose_per_100k\": 10.17037787689469, \"ci_low\": 8.213206070148452, \"ci_high\": 12.127549683640929, \"Before/After\": \"Texas After\"}, {\"Year\": 2007.5999999999995, \"overdose_per_100k\": 10.182856241444824, \"ci_low\": 8.251254258196226, \"ci_high\": 12.114458224693422, \"Before/After\": \"Texas After\"}, {\"Year\": 2007.6299999999994, \"overdose_per_100k\": 10.195334605994958, \"ci_low\": 8.288790314413202, \"ci_high\": 12.101878897576714, \"Before/After\": \"Texas After\"}, {\"Year\": 2007.6599999999994, \"overdose_per_100k\": 10.207812970545092, \"ci_low\": 8.32579378329237, \"ci_high\": 12.089832157797813, \"Before/After\": \"Texas After\"}, {\"Year\": 2007.6899999999994, \"overdose_per_100k\": 10.220291335095226, \"ci_low\": 8.362243574649805, \"ci_high\": 12.078339095540647, \"Before/After\": \"Texas After\"}, {\"Year\": 2007.7199999999993, \"overdose_per_100k\": 10.23276969964536, \"ci_low\": 8.398117986001331, \"ci_high\": 12.067421413289388, \"Before/After\": \"Texas After\"}, {\"Year\": 2007.7499999999993, \"overdose_per_100k\": 10.245248064195493, \"ci_low\": 8.433394727667917, \"ci_high\": 12.05710140072307, \"Before/After\": \"Texas After\"}, {\"Year\": 2007.7799999999993, \"overdose_per_100k\": 10.257726428745627, \"ci_low\": 8.4680509583598, \"ci_high\": 12.047401899131454, \"Before/After\": \"Texas After\"}, {\"Year\": 2007.8099999999993, \"overdose_per_100k\": 10.270204793295761, \"ci_low\": 8.502063329253161, \"ci_high\": 12.038346257338361, \"Before/After\": \"Texas After\"}, {\"Year\": 2007.8399999999992, \"overdose_per_100k\": 10.282683157845895, \"ci_low\": 8.535408034443579, \"ci_high\": 12.029958281248211, \"Before/After\": \"Texas After\"}, {\"Year\": 2007.8699999999992, \"overdose_per_100k\": 10.295161522396029, \"ci_low\": 8.568060873812065, \"ci_high\": 12.022262170979992, \"Before/After\": \"Texas After\"}, {\"Year\": 2007.8999999999992, \"overdose_per_100k\": 10.307639886946163, \"ci_low\": 8.599997326223969, \"ci_high\": 12.015282447668357, \"Before/After\": \"Texas After\"}, {\"Year\": 2007.9299999999992, \"overdose_per_100k\": 10.320118251496297, \"ci_low\": 8.631192630733587, \"ci_high\": 12.009043872259006, \"Before/After\": \"Texas After\"}, {\"Year\": 2007.9599999999991, \"overdose_per_100k\": 10.332596616046544, \"ci_low\": 8.661621881571612, \"ci_high\": 12.003571350521476, \"Before/After\": \"Texas After\"}, {\"Year\": 2007.989999999999, \"overdose_per_100k\": 10.345074980596678, \"ci_low\": 8.691260134433643, \"ci_high\": 11.998889826759713, \"Before/After\": \"Texas After\"}, {\"Year\": 2008.019999999999, \"overdose_per_100k\": 10.357553345146812, \"ci_low\": 8.720082520993564, \"ci_high\": 11.99502416930006, \"Before/After\": \"Texas After\"}, {\"Year\": 2008.049999999999, \"overdose_per_100k\": 10.370031709696946, \"ci_low\": 8.74806437742878, \"ci_high\": 11.991999041965112, \"Before/After\": \"Texas After\"}, {\"Year\": 2008.079999999999, \"overdose_per_100k\": 10.38251007424708, \"ci_low\": 8.775181381221804, \"ci_high\": 11.989838767272355, \"Before/After\": \"Texas After\"}, {\"Year\": 2008.109999999999, \"overdose_per_100k\": 10.394988438797213, \"ci_low\": 8.801409698869845, \"ci_high\": 11.988567178724582, \"Before/After\": \"Texas After\"}, {\"Year\": 2008.139999999999, \"overdose_per_100k\": 10.407466803347347, \"ci_low\": 8.826726140042403, \"ci_high\": 11.988207466652291, \"Before/After\": \"Texas After\"}, {\"Year\": 2008.169999999999, \"overdose_per_100k\": 10.419945167897481, \"ci_low\": 8.851108318084485, \"ci_high\": 11.988782017710477, \"Before/After\": \"Texas After\"}, {\"Year\": 2008.199999999999, \"overdose_per_100k\": 10.432423532447615, \"ci_low\": 8.874534816760626, \"ci_high\": 11.990312248134604, \"Before/After\": \"Texas After\"}, {\"Year\": 2008.2299999999989, \"overdose_per_100k\": 10.444901896997749, \"ci_low\": 8.896985357895321, \"ci_high\": 11.992818436100176, \"Before/After\": \"Texas After\"}, {\"Year\": 2008.2599999999989, \"overdose_per_100k\": 10.457380261547883, \"ci_low\": 8.918440968348992, \"ci_high\": 11.996319554746773, \"Before/After\": \"Texas After\"}, {\"Year\": 2008.2899999999988, \"overdose_per_100k\": 10.469858626098016, \"ci_low\": 8.938884147352475, \"ci_high\": 12.000833104843558, \"Before/After\": \"Texas After\"}, {\"Year\": 2008.3199999999988, \"overdose_per_100k\": 10.48233699064815, \"ci_low\": 8.958299020839933, \"ci_high\": 12.006374960456368, \"Before/After\": \"Texas After\"}, {\"Year\": 2008.3499999999988, \"overdose_per_100k\": 10.494815355198398, \"ci_low\": 8.976671493539559, \"ci_high\": 12.012959216857237, \"Before/After\": \"Texas After\"}, {\"Year\": 2008.3799999999987, \"overdose_per_100k\": 10.507293719748532, \"ci_low\": 8.993989385387456, \"ci_high\": 12.020598054109607, \"Before/After\": \"Texas After\"}, {\"Year\": 2008.4099999999987, \"overdose_per_100k\": 10.519772084298666, \"ci_low\": 9.010242553085215, \"ci_high\": 12.029301615512116, \"Before/After\": \"Texas After\"}, {\"Year\": 2008.4399999999987, \"overdose_per_100k\": 10.5322504488488, \"ci_low\": 9.025422995499962, \"ci_high\": 12.039077902197636, \"Before/After\": \"Texas After\"}, {\"Year\": 2008.4699999999987, \"overdose_per_100k\": 10.544728813398933, \"ci_low\": 9.039524934779479, \"ci_high\": 12.049932692018388, \"Before/After\": \"Texas After\"}, {\"Year\": 2008.4999999999986, \"overdose_per_100k\": 10.557207177949067, \"ci_low\": 9.05254488041254, \"ci_high\": 12.061869475485594, \"Before/After\": \"Texas After\"}, {\"Year\": 2008.5299999999986, \"overdose_per_100k\": 10.569685542499201, \"ci_low\": 9.064481664124896, \"ci_high\": 12.074889420873506, \"Before/After\": \"Texas After\"}, {\"Year\": 2008.5599999999986, \"overdose_per_100k\": 10.582163907049335, \"ci_low\": 9.075336453839604, \"ci_high\": 12.088991360259065, \"Before/After\": \"Texas After\"}, {\"Year\": 2008.5899999999986, \"overdose_per_100k\": 10.594642271599469, \"ci_low\": 9.085112740412379, \"ci_high\": 12.104171802786558, \"Before/After\": \"Texas After\"}, {\"Year\": 2008.6199999999985, \"overdose_per_100k\": 10.607120636149602, \"ci_low\": 9.093816301702626, \"ci_high\": 12.120424970596579, \"Before/After\": \"Texas After\"}, {\"Year\": 2008.6499999999985, \"overdose_per_100k\": 10.619599000699736, \"ci_low\": 9.101455138850255, \"ci_high\": 12.137742862549217, \"Before/After\": \"Texas After\"}, {\"Year\": 2008.6799999999985, \"overdose_per_100k\": 10.63207736524987, \"ci_low\": 9.10803939549387, \"ci_high\": 12.15611533500587, \"Before/After\": \"Texas After\"}, {\"Year\": 2008.7099999999984, \"overdose_per_100k\": 10.644555729800004, \"ci_low\": 9.11358125134745, \"ci_high\": 12.175530208252558, \"Before/After\": \"Texas After\"}, {\"Year\": 2008.7399999999984, \"overdose_per_100k\": 10.657034094350138, \"ci_low\": 9.118094801332413, \"ci_high\": 12.195973387367863, \"Before/After\": \"Texas After\"}, {\"Year\": 2008.7699999999984, \"overdose_per_100k\": 10.669512458900385, \"ci_low\": 9.121595919527042, \"ci_high\": 12.217428998273729, \"Before/After\": \"Texas After\"}, {\"Year\": 2008.7999999999984, \"overdose_per_100k\": 10.68199082345052, \"ci_low\": 9.124102107731233, \"ci_high\": 12.239879539169806, \"Before/After\": \"Texas After\"}, {\"Year\": 2008.8299999999983, \"overdose_per_100k\": 10.694469188000653, \"ci_low\": 9.125632338053922, \"ci_high\": 12.263306037947384, \"Before/After\": \"Texas After\"}, {\"Year\": 2008.8599999999983, \"overdose_per_100k\": 10.706947552550787, \"ci_low\": 9.126206889346532, \"ci_high\": 12.287688215755042, \"Before/After\": \"Texas After\"}, {\"Year\": 2008.8899999999983, \"overdose_per_100k\": 10.71942591710092, \"ci_low\": 9.125847177166866, \"ci_high\": 12.313004657034975, \"Before/After\": \"Texas After\"}, {\"Year\": 2008.9199999999983, \"overdose_per_100k\": 10.731904281651055, \"ci_low\": 9.12457558851358, \"ci_high\": 12.33923297478853, \"Before/After\": \"Texas After\"}, {\"Year\": 2008.9499999999982, \"overdose_per_100k\": 10.744382646201188, \"ci_low\": 9.12241531372354, \"ci_high\": 12.366349978678837, \"Before/After\": \"Texas After\"}, {\"Year\": 2008.9799999999982, \"overdose_per_100k\": 10.756861010751322, \"ci_low\": 9.11939018661599, \"ci_high\": 12.394331834886655, \"Before/After\": \"Texas After\"}, {\"Year\": 2009.0099999999982, \"overdose_per_100k\": 10.769339375301456, \"ci_low\": 9.115524529379263, \"ci_high\": 12.42315422122365, \"Before/After\": \"Texas After\"}, {\"Year\": 2009.0399999999981, \"overdose_per_100k\": 10.78181773985159, \"ci_low\": 9.110843005197093, \"ci_high\": 12.452792474506087, \"Before/After\": \"Texas After\"}, {\"Year\": 2009.0699999999981, \"overdose_per_100k\": 10.794296104401724, \"ci_low\": 9.105370483360808, \"ci_high\": 12.48322172544264, \"Before/After\": \"Texas After\"}, {\"Year\": 2009.099999999998, \"overdose_per_100k\": 10.806774468951858, \"ci_low\": 9.099131908170582, \"ci_high\": 12.514417029733133, \"Before/After\": \"Texas After\"}, {\"Year\": 2009.129999999998, \"overdose_per_100k\": 10.819252833501992, \"ci_low\": 9.09215218507325, \"ci_high\": 12.546353481930733, \"Before/After\": \"Texas After\"}, {\"Year\": 2009.159999999998, \"overdose_per_100k\": 10.831731198052125, \"ci_low\": 9.084456074712143, \"ci_high\": 12.579006321392107, \"Before/After\": \"Texas After\"}, {\"Year\": 2009.189999999998, \"overdose_per_100k\": 10.844209562602373, \"ci_low\": 9.076068098830124, \"ci_high\": 12.612351026374622, \"Before/After\": \"Texas After\"}, {\"Year\": 2009.219999999998, \"overdose_per_100k\": 10.856687927152507, \"ci_low\": 9.067012456643493, \"ci_high\": 12.64636339766152, \"Before/After\": \"Texas After\"}, {\"Year\": 2009.249999999998, \"overdose_per_100k\": 10.86916629170264, \"ci_low\": 9.05731295495973, \"ci_high\": 12.68101962844555, \"Before/After\": \"Texas After\"}, {\"Year\": 2009.279999999998, \"overdose_per_100k\": 10.881644656252774, \"ci_low\": 9.04699294259713, \"ci_high\": 12.716296369908418, \"Before/After\": \"Texas After\"}, {\"Year\": 2009.309999999998, \"overdose_per_100k\": 10.894123020802908, \"ci_low\": 9.03607526054467, \"ci_high\": 12.752170781061146, \"Before/After\": \"Texas After\"}, {\"Year\": 2009.3399999999979, \"overdose_per_100k\": 10.906601385353042, \"ci_low\": 9.024582198200548, \"ci_high\": 12.788620572505536, \"Before/After\": \"Texas After\"}, {\"Year\": 2009.3699999999978, \"overdose_per_100k\": 10.919079749903176, \"ci_low\": 9.012535458331218, \"ci_high\": 12.825624041475134, \"Before/After\": \"Texas After\"}, {\"Year\": 2009.3999999999978, \"overdose_per_100k\": 10.93155811445331, \"ci_low\": 8.999956131126533, \"ci_high\": 12.863160097780087, \"Before/After\": \"Texas After\"}, {\"Year\": 2009.4299999999978, \"overdose_per_100k\": 10.944036479003444, \"ci_low\": 8.986864672098456, \"ci_high\": 12.901208285908432, \"Before/After\": \"Texas After\"}, {\"Year\": 2009.4599999999978, \"overdose_per_100k\": 10.956514843553578, \"ci_low\": 8.97328089041886, \"ci_high\": 12.939748796688296, \"Before/After\": \"Texas After\"}, {\"Year\": 2009.4899999999977, \"overdose_per_100k\": 10.968993208103711, \"ci_low\": 8.959223938655747, \"ci_high\": 12.978762477551676, \"Before/After\": \"Texas After\"}, {\"Year\": 2009.5199999999977, \"overdose_per_100k\": 10.981471572653845, \"ci_low\": 8.944712310130546, \"ci_high\": 13.018230835177144, \"Before/After\": \"Texas After\"}, {\"Year\": 2009.5499999999977, \"overdose_per_100k\": 10.993949937203979, \"ci_low\": 8.929763840486357, \"ci_high\": 13.0581360339216, \"Before/After\": \"Texas After\"}, {\"Year\": 2009.5799999999977, \"overdose_per_100k\": 11.006428301754227, \"ci_low\": 8.914395710536148, \"ci_high\": 13.098460892972305, \"Before/After\": \"Texas After\"}, {\"Year\": 2009.6099999999976, \"overdose_per_100k\": 11.01890666630436, \"ci_low\": 8.898624454654126, \"ci_high\": 13.139188877954595, \"Before/After\": \"Texas After\"}, {\"Year\": 2009.6399999999976, \"overdose_per_100k\": 11.031385030854494, \"ci_low\": 8.88246597171499, \"ci_high\": 13.180304089994, \"Before/After\": \"Texas After\"}, {\"Year\": 2009.6699999999976, \"overdose_per_100k\": 11.043863395404628, \"ci_low\": 8.86593553573351, \"ci_high\": 13.221791255075747, \"Before/After\": \"Texas After\"}, {\"Year\": 2009.6999999999975, \"overdose_per_100k\": 11.056341759954762, \"ci_low\": 8.849047812044548, \"ci_high\": 13.263635707864976, \"Before/After\": \"Texas After\"}, {\"Year\": 2009.7299999999975, \"overdose_per_100k\": 11.068820124504896, \"ci_low\": 8.831816871163857, \"ci_high\": 13.305823377845934, \"Before/After\": \"Texas After\"}, {\"Year\": 2009.7599999999975, \"overdose_per_100k\": 11.08129848905503, \"ci_low\": 8.814256206506215, \"ci_high\": 13.348340771603844, \"Before/After\": \"Texas After\"}, {\"Year\": 2009.7899999999975, \"overdose_per_100k\": 11.093776853605164, \"ci_low\": 8.79637875168664, \"ci_high\": 13.391174955523686, \"Before/After\": \"Texas After\"}, {\"Year\": 2009.8199999999974, \"overdose_per_100k\": 11.106255218155297, \"ci_low\": 8.77819689843509, \"ci_high\": 13.434313537875505, \"Before/After\": \"Texas After\"}, {\"Year\": 2009.8499999999974, \"overdose_per_100k\": 11.118733582705431, \"ci_low\": 8.759722515798877, \"ci_high\": 13.477744649611985, \"Before/After\": \"Texas After\"}, {\"Year\": 2009.8799999999974, \"overdose_per_100k\": 11.131211947255565, \"ci_low\": 8.740966968407898, \"ci_high\": 13.521456926103232, \"Before/After\": \"Texas After\"}, {\"Year\": 2009.9099999999974, \"overdose_per_100k\": 11.143690311805699, \"ci_low\": 8.721941134773983, \"ci_high\": 13.565439488837415, \"Before/After\": \"Texas After\"}, {\"Year\": 2009.9399999999973, \"overdose_per_100k\": 11.156168676355833, \"ci_low\": 8.70265542666071, \"ci_high\": 13.609681926050955, \"Before/After\": \"Texas After\"}, {\"Year\": 2009.9699999999973, \"overdose_per_100k\": 11.168647040905967, \"ci_low\": 8.683119807332844, \"ci_high\": 13.65417427447909, \"Before/After\": \"Texas After\"}, {\"Year\": 2009.9999999999973, \"overdose_per_100k\": 11.181125405456214, \"ci_low\": 8.663343809328104, \"ci_high\": 13.698907001584324, \"Before/After\": \"Texas After\"}], \"data-7db994d7bfb930e88fd1045d9c719047\": [{\"Year\": 2007, \"color\": \"black\"}]}}, {\"mode\": \"vega-lite\"});\n",
       "</script>"
      ],
      "text/plain": [
       "alt.LayerChart(...)"
      ]
     },
     "execution_count": 19,
     "metadata": {},
     "output_type": "execute_result"
    }
   ],
   "source": [
    "# creating the final plot for pre-post analysis of drug overdose deaths in Texas\n",
    " \n",
    "texas_before_chart = build_chart(\n",
    "    tx_b4, \"orange\", \"Year\",\"overdose_per_100k\", \"Texas Before\",  alpha=0.05\n",
    ")\n",
    " \n",
    "texas_after_chart = build_chart(\n",
    "    tx_after, \"blue\", \"Year\", \"overdose_per_100k\", \"Texas After\", alpha=0.05\n",
    ")\n",
    " \n",
    "texas_final_pre_post_deaths = (texas_before_chart + texas_after_chart + line).properties(title=\"Pre Post Analysis Of Opioid Overdose Deaths In Texas\")\n",
    " \n",
    "texas_final_pre_post_deaths\n",
    " \n"
   ]
  }
 ],
 "metadata": {
  "kernelspec": {
   "display_name": "base",
   "language": "python",
   "name": "python3"
  },
  "language_info": {
   "codemirror_mode": {
    "name": "ipython",
    "version": 3
   },
   "file_extension": ".py",
   "mimetype": "text/x-python",
   "name": "python",
   "nbconvert_exporter": "python",
   "pygments_lexer": "ipython3",
   "version": "3.10.6"
  },
  "orig_nbformat": 4,
  "vscode": {
   "interpreter": {
    "hash": "5e5707f4ad9c4f37a6b2df8d93f22391df514f9ef0254645a2ae8a9db16a7e3b"
   }
  }
 },
 "nbformat": 4,
 "nbformat_minor": 2
}
