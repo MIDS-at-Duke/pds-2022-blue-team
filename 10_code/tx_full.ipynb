{
 "cells": [
  {
   "cell_type": "code",
   "execution_count": 158,
   "metadata": {},
   "outputs": [],
   "source": [
    "import pandas as pd\n",
    "import numpy as np\n",
    "import matplotlib.pyplot as plt\n",
    "import seaborn as sns\n",
    "import altair as alt\n",
    "from plotnine import *\n",
    "import statsmodels.api as sm\n",
    "import statsmodels.formula.api as smf"
   ]
  },
  {
   "cell_type": "code",
   "execution_count": 159,
   "metadata": {},
   "outputs": [],
   "source": [
    "# load in pre-cleaned deaths data for Texas and comparison states\n",
    "deaths = pd.read_csv(\"../20_intermediate_files/deaths_tx.csv\")\n"
   ]
  },
  {
   "cell_type": "code",
   "execution_count": 160,
   "metadata": {},
   "outputs": [],
   "source": [
    "# two separate dfs - one for texas and one for comp states\n",
    "\n",
    "texas = deaths[deaths[\"StateName\"] == \"Texas\"]\n",
    "comp = deaths[deaths[\"StateName\"] != \"Texas\"]"
   ]
  },
  {
   "cell_type": "markdown",
   "metadata": {},
   "source": [
    "### Helper functions "
   ]
  },
  {
   "cell_type": "code",
   "execution_count": 161,
   "metadata": {},
   "outputs": [],
   "source": [
    "# function to select only overdose records\n",
    "# double check this\n",
    "\n",
    "def select_overdose(record):\n",
    "    \"\"\"Simple function to select only overdose records\"\"\"\n",
    "\n",
    "    if record == \"All other non-drug and non-alcohol causes\":\n",
    "        return 0\n",
    "\n",
    "    if record == \"All other alcohol-induced causes\":\n",
    "        return 0\n",
    "\n",
    "    if record == \"All other drug-induced causes\":\n",
    "        return 0\n",
    "\n",
    "    if record == \"Alcohol poisonings (overdose) (X45, X65, Y15)\":\n",
    "        return 0\n",
    "\n",
    "    if record == \"Drug poisonings (overdose) Unintentional (X40-X44)\":\n",
    "        return 1\n",
    "\n",
    "    if record == \"Drug poisonings (overdose) Suicide (X60-X64)\":\n",
    "        return 1\n",
    "\n",
    "    if record == \"Drug poisonings (overdose) Undetermined (Y10-Y14)\":\n",
    "        return 1\n",
    "\n",
    "    else:\n",
    "        return \"error\"\n",
    "    \n",
    "\n",
    "# copy to fix the dreaded \"A value is trying to be set on a copy of a slice\" error\n",
    "tx_deaths = texas.copy()\n",
    "comp_deaths = comp.copy()\n",
    "\n",
    "# apply new function to our df\n",
    "tx_deaths[\"overdose\"] = tx_deaths[\"Drug/Alcohol Induced Cause\"].apply(lambda x: select_overdose(x))\n",
    "comp_deaths[\"overdose\"] = comp_deaths[\"Drug/Alcohol Induced Cause\"].apply(lambda x: select_overdose(x))\n",
    "\n",
    "assert len(tx_deaths[tx_deaths[\"overdose\"] == \"error\"]) == 0\n",
    "assert len(comp_deaths[comp_deaths[\"overdose\"] == \"error\"]) == 0\n",
    "\n",
    "# filter accordingly based on new column\n",
    "tx_deaths = tx_deaths[tx_deaths[\"overdose\"] != 0]\n",
    "comp_deaths = comp_deaths[comp_deaths[\"overdose\"] != 0]"
   ]
  },
  {
   "cell_type": "code",
   "execution_count": 162,
   "metadata": {},
   "outputs": [],
   "source": [
    "# calculate overdoses per 100_000 residents\n",
    "\n",
    "tx_deaths[\"overdose_per_100k\"] = tx_deaths[\"Deaths\"] / tx_deaths[\"Population\"] * 100_000\n",
    "comp_deaths[\"overdose_per_100k\"] = comp_deaths[\"Deaths\"] / comp_deaths[\"Population\"] * 100_000"
   ]
  },
  {
   "cell_type": "code",
   "execution_count": 163,
   "metadata": {},
   "outputs": [],
   "source": [
    "tx_result = tx_deaths.groupby([\"Year\", \"County\"])[\"overdose_per_100k\"].sum().reset_index()\n",
    "comp_result = comp_deaths.groupby([\"Year\", \"StateName\", \"CountyName\"])[\"overdose_per_100k\"].sum().reset_index()\n",
    "\n",
    "# keep validating num counties\n",
    "\n",
    "\n",
    "# recent change - added county to both results above, removed state from comp_result"
   ]
  },
  {
   "cell_type": "code",
   "execution_count": 164,
   "metadata": {},
   "outputs": [],
   "source": [
    "# Summary stats - tx and comp states"
   ]
  },
  {
   "cell_type": "code",
   "execution_count": 165,
   "metadata": {},
   "outputs": [],
   "source": [
    "tx_res = pd.DataFrame(tx_result.describe()[\"overdose_per_100k\"]).rename(columns={\"overdose_per_100k\": \"Overdoses per 100k Residents - Texas\"})\n",
    "comp_res = pd.DataFrame(comp_result.describe()[\"overdose_per_100k\"]).rename(columns={\"overdose_per_100k\": \"Overdoses per 100k Residents - Comp States\"})"
   ]
  },
  {
   "cell_type": "code",
   "execution_count": 166,
   "metadata": {},
   "outputs": [
    {
     "data": {
      "text/html": [
       "<div>\n",
       "<style scoped>\n",
       "    .dataframe tbody tr th:only-of-type {\n",
       "        vertical-align: middle;\n",
       "    }\n",
       "\n",
       "    .dataframe tbody tr th {\n",
       "        vertical-align: top;\n",
       "    }\n",
       "\n",
       "    .dataframe thead th {\n",
       "        text-align: right;\n",
       "    }\n",
       "</style>\n",
       "<table border=\"1\" class=\"dataframe\">\n",
       "  <thead>\n",
       "    <tr style=\"text-align: right;\">\n",
       "      <th></th>\n",
       "      <th>Overdoses per 100k Residents - Texas</th>\n",
       "      <th>Overdoses per 100k Residents - Comp States</th>\n",
       "    </tr>\n",
       "  </thead>\n",
       "  <tbody>\n",
       "    <tr>\n",
       "      <th>count</th>\n",
       "      <td>226.000000</td>\n",
       "      <td>301.000000</td>\n",
       "    </tr>\n",
       "    <tr>\n",
       "      <th>mean</th>\n",
       "      <td>10.471761</td>\n",
       "      <td>11.017577</td>\n",
       "    </tr>\n",
       "    <tr>\n",
       "      <th>std</th>\n",
       "      <td>6.469153</td>\n",
       "      <td>4.808954</td>\n",
       "    </tr>\n",
       "    <tr>\n",
       "      <th>min</th>\n",
       "      <td>1.438121</td>\n",
       "      <td>3.163785</td>\n",
       "    </tr>\n",
       "    <tr>\n",
       "      <th>25%</th>\n",
       "      <td>6.541813</td>\n",
       "      <td>7.680168</td>\n",
       "    </tr>\n",
       "    <tr>\n",
       "      <th>50%</th>\n",
       "      <td>9.107748</td>\n",
       "      <td>10.058255</td>\n",
       "    </tr>\n",
       "    <tr>\n",
       "      <th>75%</th>\n",
       "      <td>11.957830</td>\n",
       "      <td>13.130388</td>\n",
       "    </tr>\n",
       "    <tr>\n",
       "      <th>max</th>\n",
       "      <td>42.744176</td>\n",
       "      <td>39.497591</td>\n",
       "    </tr>\n",
       "  </tbody>\n",
       "</table>\n",
       "</div>"
      ],
      "text/plain": [
       "       Overdoses per 100k Residents - Texas  \\\n",
       "count                            226.000000   \n",
       "mean                              10.471761   \n",
       "std                                6.469153   \n",
       "min                                1.438121   \n",
       "25%                                6.541813   \n",
       "50%                                9.107748   \n",
       "75%                               11.957830   \n",
       "max                               42.744176   \n",
       "\n",
       "       Overdoses per 100k Residents - Comp States  \n",
       "count                                  301.000000  \n",
       "mean                                    11.017577  \n",
       "std                                      4.808954  \n",
       "min                                      3.163785  \n",
       "25%                                      7.680168  \n",
       "50%                                     10.058255  \n",
       "75%                                     13.130388  \n",
       "max                                     39.497591  "
      ]
     },
     "execution_count": 166,
     "metadata": {},
     "output_type": "execute_result"
    }
   ],
   "source": [
    "stats = pd.concat([tx_res, comp_res], axis=1)\n",
    "stats"
   ]
  },
  {
   "cell_type": "code",
   "execution_count": 167,
   "metadata": {},
   "outputs": [],
   "source": [
    "# idea for counties -> histogram of population, drop the outliers?\n",
    "\n",
    "#plt.hist(tx_deaths[\"Population\"], bins=20)"
   ]
  },
  {
   "cell_type": "code",
   "execution_count": 168,
   "metadata": {},
   "outputs": [],
   "source": [
    "tx_std = tx_result.groupby(\"Year\")[\"overdose_per_100k\"].std().reset_index()\n",
    "comp_std = comp_result.groupby([\"Year\"])[\"overdose_per_100k\"].std().reset_index()"
   ]
  },
  {
   "cell_type": "code",
   "execution_count": 169,
   "metadata": {},
   "outputs": [],
   "source": [
    "tx_std.rename(columns={\"overdose_per_100k\": \"stddev\"}, inplace=True)\n",
    "comp_std.rename(columns={\"overdose_per_100k\": \"stddev\"}, inplace=True)"
   ]
  },
  {
   "cell_type": "code",
   "execution_count": 170,
   "metadata": {},
   "outputs": [],
   "source": [
    "tx_result = tx_result.groupby(\"Year\")[\"overdose_per_100k\"].mean().reset_index()\n",
    "comp_result = comp_result.groupby([\"Year\"])[\"overdose_per_100k\"].mean().reset_index()"
   ]
  },
  {
   "cell_type": "code",
   "execution_count": 171,
   "metadata": {},
   "outputs": [],
   "source": [
    "tx_res_checkpoint = tx_result.copy()\n",
    "comp_res_checkpoint = comp_result.copy()\n",
    "\n",
    "tx_result = tx_result.merge(tx_std, on=\"Year\", how=\"outer\")\n",
    "comp_result = comp_result.merge(comp_std, on=\"Year\", how=\"outer\")\n",
    "\n",
    "\n",
    "# assert length is the same\n",
    "assert (len(tx_result) == len(tx_res_checkpoint)) & (len(comp_result) == len(comp_res_checkpoint))"
   ]
  },
  {
   "cell_type": "code",
   "execution_count": 172,
   "metadata": {},
   "outputs": [
    {
     "data": {
      "text/html": [
       "<div>\n",
       "<style scoped>\n",
       "    .dataframe tbody tr th:only-of-type {\n",
       "        vertical-align: middle;\n",
       "    }\n",
       "\n",
       "    .dataframe tbody tr th {\n",
       "        vertical-align: top;\n",
       "    }\n",
       "\n",
       "    .dataframe thead th {\n",
       "        text-align: right;\n",
       "    }\n",
       "</style>\n",
       "<table border=\"1\" class=\"dataframe\">\n",
       "  <thead>\n",
       "    <tr style=\"text-align: right;\">\n",
       "      <th></th>\n",
       "      <th>Year</th>\n",
       "      <th>overdose_per_100k</th>\n",
       "      <th>stddev</th>\n",
       "    </tr>\n",
       "  </thead>\n",
       "  <tbody>\n",
       "    <tr>\n",
       "      <th>0</th>\n",
       "      <td>2004.0</td>\n",
       "      <td>8.329368</td>\n",
       "      <td>3.196467</td>\n",
       "    </tr>\n",
       "    <tr>\n",
       "      <th>1</th>\n",
       "      <td>2005.0</td>\n",
       "      <td>8.955484</td>\n",
       "      <td>3.272332</td>\n",
       "    </tr>\n",
       "    <tr>\n",
       "      <th>2</th>\n",
       "      <td>2006.0</td>\n",
       "      <td>10.954411</td>\n",
       "      <td>4.264703</td>\n",
       "    </tr>\n",
       "    <tr>\n",
       "      <th>3</th>\n",
       "      <td>2007.0</td>\n",
       "      <td>11.855421</td>\n",
       "      <td>5.901127</td>\n",
       "    </tr>\n",
       "    <tr>\n",
       "      <th>4</th>\n",
       "      <td>2008.0</td>\n",
       "      <td>11.298480</td>\n",
       "      <td>4.178085</td>\n",
       "    </tr>\n",
       "    <tr>\n",
       "      <th>5</th>\n",
       "      <td>2009.0</td>\n",
       "      <td>12.037253</td>\n",
       "      <td>4.425370</td>\n",
       "    </tr>\n",
       "    <tr>\n",
       "      <th>6</th>\n",
       "      <td>2010.0</td>\n",
       "      <td>12.361303</td>\n",
       "      <td>5.805978</td>\n",
       "    </tr>\n",
       "  </tbody>\n",
       "</table>\n",
       "</div>"
      ],
      "text/plain": [
       "     Year  overdose_per_100k    stddev\n",
       "0  2004.0           8.329368  3.196467\n",
       "1  2005.0           8.955484  3.272332\n",
       "2  2006.0          10.954411  4.264703\n",
       "3  2007.0          11.855421  5.901127\n",
       "4  2008.0          11.298480  4.178085\n",
       "5  2009.0          12.037253  4.425370\n",
       "6  2010.0          12.361303  5.805978"
      ]
     },
     "execution_count": 172,
     "metadata": {},
     "output_type": "execute_result"
    }
   ],
   "source": [
    "comp_result"
   ]
  },
  {
   "cell_type": "code",
   "execution_count": 173,
   "metadata": {},
   "outputs": [],
   "source": [
    "#tx_result = tx_deaths.groupby([\"Year\", \"County\"])[\"overdose_per_100k\"].sum().reset_index()\n",
    "#comp_result = comp_deaths.groupby([\"Year\", \"County\"])[\"overdose_per_100k\"].sum().reset_index()\n",
    "#\n",
    "#tx_result = tx_result.groupby(\"Year\")[\"overdose_per_100k\"].mean().reset_index()\n",
    "#comp_result = comp_result.groupby([\"Year\"])[\"overdose_per_100k\"].mean().reset_index()"
   ]
  },
  {
   "cell_type": "code",
   "execution_count": 174,
   "metadata": {},
   "outputs": [],
   "source": [
    "# collapse state column with a mean aggregation\n",
    "# gives us the average overdoses of our comparison states over the years\n",
    "#comp_result = comp_result.groupby([\"Year\"])[\"overdose_per_100k\"].mean().reset_index()"
   ]
  },
  {
   "cell_type": "markdown",
   "metadata": {},
   "source": [
    "## Pre-post plot - overdoses per 100k through the years"
   ]
  },
  {
   "cell_type": "code",
   "execution_count": 219,
   "metadata": {},
   "outputs": [],
   "source": [
    "# split into before 2007 and after 2007\n",
    "\n",
    "tx_b4 = tx_result[tx_result[\"Year\"] < 2007]\n",
    "tx_after = tx_result[tx_result[\"Year\"] >= 2007]\n",
    "\n",
    "\n",
    "tx_after = tx_after[tx_after[\"Year\"] != 2007] # may need to handle this differently"
   ]
  },
  {
   "cell_type": "code",
   "execution_count": 176,
   "metadata": {},
   "outputs": [],
   "source": [
    "from sklearn.linear_model import LinearRegression \n",
    "\n",
    "regressor_b4 = LinearRegression() \n",
    "regressor_after = LinearRegression()\n",
    "\n",
    "\n",
    "X_b4 = np.array(tx_b4[\"Year\"]).reshape(-1, 1)\n",
    "y_b4 = np.array(tx_b4[\"overdose_per_100k\"]).reshape(-1, 1)\n",
    "\n",
    "X_after = np.array(tx_after[\"Year\"]).reshape(-1, 1)\n",
    "y_after = np.array(tx_after[\"overdose_per_100k\"]).reshape(-1, 1)\n",
    "\n",
    "\n",
    "regressor_b4.fit(X_b4,y_b4) \n",
    "regressor_after.fit(X_after,y_after) \n",
    "\n",
    "\n",
    "y_pred_b4 = regressor_b4.predict(X_b4)\n",
    "y_pred_after = regressor_after.predict(X_after)\n",
    "\n"
   ]
  },
  {
   "cell_type": "code",
   "execution_count": 177,
   "metadata": {},
   "outputs": [
    {
     "data": {
      "text/plain": [
       "[<matplotlib.lines.Line2D at 0x1747169eb20>]"
      ]
     },
     "execution_count": 177,
     "metadata": {},
     "output_type": "execute_result"
    },
    {
     "data": {
      "image/png": "[encoded data removed]",
      "text/plain": [
       "<Figure size 432x288 with 1 Axes>"
      ]
     },
     "metadata": {
      "needs_background": "light"
     },
     "output_type": "display_data"
    }
   ],
   "source": [
    "plt.xlim(-3, 3)\n",
    "#plt.ylim(0, 500)\n",
    "\n",
    "plt.title(\"Overdose Deaths in Texas\")\n",
    "\n",
    "plt.plot(X_b4, y_pred_b4,color='k')\n",
    "plt.plot(X_after, y_pred_after,color='k')\n",
    "\n",
    "# plot avg value in each year\n"
   ]
  },
  {
   "cell_type": "code",
   "execution_count": 178,
   "metadata": {},
   "outputs": [],
   "source": [
    "# diff in diff"
   ]
  },
  {
   "cell_type": "code",
   "execution_count": 179,
   "metadata": {},
   "outputs": [],
   "source": [
    "comp_b4 = comp_result[comp_result[\"Year\"] < 2007]\n",
    "comp_after = comp_result[comp_result[\"Year\"] >= 2007]\n",
    "\n",
    "comp_after = comp_after[comp_after[\"Year\"] != 2007] # may need to handle this differently\n"
   ]
  },
  {
   "cell_type": "code",
   "execution_count": 180,
   "metadata": {},
   "outputs": [],
   "source": [
    "regressor_b4 = LinearRegression() \n",
    "regressor_after = LinearRegression()\n",
    "\n",
    "\n",
    "X_b4 = np.array(comp_b4[\"Year\"]).reshape(-1, 1)\n",
    "y_b4 = np.array(comp_b4[\"overdose_per_100k\"]).reshape(-1, 1)\n",
    "\n",
    "X_after = np.array(comp_after[\"Year\"]).reshape(-1, 1)\n",
    "y_after = np.array(comp_after[\"overdose_per_100k\"]).reshape(-1, 1)\n",
    "\n",
    "\n",
    "regressor_b4.fit(X_b4,y_b4) \n",
    "regressor_after.fit(X_after,y_after) \n",
    "\n",
    "\n",
    "y_pred_b4 = regressor_b4.predict(X_b4)\n",
    "y_pred_after = regressor_after.predict(X_after)\n",
    "\n"
   ]
  },
  {
   "cell_type": "code",
   "execution_count": 181,
   "metadata": {},
   "outputs": [
    {
     "data": {
      "text/plain": [
       "array([[ 8.10056605],\n",
       "       [ 9.4130878 ],\n",
       "       [10.72560955]])"
      ]
     },
     "execution_count": 181,
     "metadata": {},
     "output_type": "execute_result"
    }
   ],
   "source": [
    "y_pred_b4"
   ]
  },
  {
   "cell_type": "code",
   "execution_count": 182,
   "metadata": {},
   "outputs": [
    {
     "data": {
      "text/plain": [
       "array([[11.3676003 ],\n",
       "       [11.89901202],\n",
       "       [12.43042374]])"
      ]
     },
     "execution_count": 182,
     "metadata": {},
     "output_type": "execute_result"
    }
   ],
   "source": [
    "y_pred_after"
   ]
  },
  {
   "cell_type": "code",
   "execution_count": 183,
   "metadata": {},
   "outputs": [
    {
     "data": {
      "text/plain": [
       "[<matplotlib.lines.Line2D at 0x174715f77c0>]"
      ]
     },
     "execution_count": 183,
     "metadata": {},
     "output_type": "execute_result"
    },
    {
     "data": {
      "image/png": "[encoded data removed]",
      "text/plain": [
       "<Figure size 432x288 with 1 Axes>"
      ]
     },
     "metadata": {
      "needs_background": "light"
     },
     "output_type": "display_data"
    }
   ],
   "source": [
    "plt.xlim(-3, 3)\n",
    "#plt.ylim(0, 500)\n",
    "\n",
    "plt.plot(X_b4, y_pred_b4,color='k')\n",
    "plt.plot(X_after, y_pred_after,color='k')\n"
   ]
  },
  {
   "cell_type": "code",
   "execution_count": 184,
   "metadata": {},
   "outputs": [],
   "source": [
    "# new method after working more with reshaping exercises\n",
    "# using statsmodels now, wrapping stuff in functions\n",
    "# thinking it could be easier to break it down by task"
   ]
  },
  {
   "cell_type": "markdown",
   "metadata": {},
   "source": [
    "## Helper functions\n",
    "\n",
    "1) vertical_line()\n",
    "    - takes in a year and plots a vertical line at that year\n",
    "2) get_charts()\n",
    "    - takes in two dataframes (one for before policy, one for after)\n",
    "    - returns chart for each\n",
    "    - not much utility by itself - used as a parameter for our get_fit() function"
   ]
  },
  {
   "cell_type": "code",
   "execution_count": 185,
   "metadata": {},
   "outputs": [],
   "source": [
    "x = \"Year\"\n",
    "y = \"overdose_per_100k\""
   ]
  },
  {
   "cell_type": "code",
   "execution_count": 186,
   "metadata": {},
   "outputs": [],
   "source": [
    "def vertical_line(year):\n",
    "    \"\"\"Function to plot a vertical line at year of policy implementation\"\"\"\n",
    "    line = alt.Chart(pd.DataFrame({\n",
    "    'Date': [year],\n",
    "    'color': [\"black\"]\n",
    "    })).mark_rule().encode(\n",
    "    x='Date:Q', # use q for \"quantitative\" - as per altair docs\n",
    "    color=alt.Color('color:N', scale=None)\n",
    "    )\n",
    "\n",
    "    return line"
   ]
  },
  {
   "cell_type": "code",
   "execution_count": 187,
   "metadata": {},
   "outputs": [],
   "source": [
    "# test function\n",
    "line = vertical_line(2007)"
   ]
  },
  {
   "cell_type": "code",
   "execution_count": 188,
   "metadata": {},
   "outputs": [],
   "source": [
    "def get_charts(b4, after, title_b4, title_after):\n",
    "    \"\"\"\n",
    "    Function to plot the pre and post charts.\n",
    "    Will not use in final plot - used as a baseline for our fit charts later.\n",
    "\n",
    "    \"\"\"\n",
    "\n",
    "    base_before = (\n",
    "        alt.Chart(b4)\n",
    "        .mark_point()\n",
    "        .encode(\n",
    "            y=alt.Y(\"overdose_per_100k\", scale=alt.Scale(zero=False)),\n",
    "            x=alt.X(\"Year\", scale=alt.Scale(zero=False)),\n",
    "        )\n",
    "        .properties(title=title_b4)\n",
    "        \n",
    "    )\n",
    "\n",
    "    base_after = (\n",
    "        alt.Chart(after)\n",
    "        .mark_point()\n",
    "        .encode(\n",
    "            y=alt.Y(\"overdose_per_100k\", scale=alt.Scale(zero=False)),\n",
    "            x=alt.X(\"Year\", scale=alt.Scale(zero=False)),\n",
    "        )\n",
    "        .properties(title=title_after)\n",
    "    )\n",
    "\n",
    "    return base_before, base_after"
   ]
  },
  {
   "cell_type": "code",
   "execution_count": 189,
   "metadata": {},
   "outputs": [
    {
     "name": "stderr",
     "output_type": "stream",
     "text": [
      "c:\\Users\\abzdel\\AppData\\Local\\Programs\\Python\\Python39\\lib\\site-packages\\altair\\utils\\core.py:317: FutureWarning: iteritems is deprecated and will be removed in a future version. Use .items instead.\n"
     ]
    },
    {
     "data": {
      "text/html": [
       "\n",
       "<div id=\"altair-viz-33863b07008740898226709c87a2fc84\"></div>\n",
       "<script type=\"text/javascript\">\n",
       "  var VEGA_DEBUG = (typeof VEGA_DEBUG == \"undefined\") ? {} : VEGA_DEBUG;\n",
       "  (function(spec, embedOpt){\n",
       "    let outputDiv = document.currentScript.previousElementSibling;\n",
       "    if (outputDiv.id !== \"altair-viz-33863b07008740898226709c87a2fc84\") {\n",
       "      outputDiv = document.getElementById(\"altair-viz-33863b07008740898226709c87a2fc84\");\n",
       "    }\n",
       "    const paths = {\n",
       "      \"vega\": \"https://cdn.jsdelivr.net/npm//vega@5?noext\",\n",
       "      \"vega-lib\": \"https://cdn.jsdelivr.net/npm//vega-lib?noext\",\n",
       "      \"vega-lite\": \"https://cdn.jsdelivr.net/npm//vega-lite@4.17.0?noext\",\n",
       "      \"vega-embed\": \"https://cdn.jsdelivr.net/npm//vega-embed@6?noext\",\n",
       "    };\n",
       "\n",
       "    function maybeLoadScript(lib, version) {\n",
       "      var key = `${lib.replace(\"-\", \"\")}_version`;\n",
       "      return (VEGA_DEBUG[key] == version) ?\n",
       "        Promise.resolve(paths[lib]) :\n",
       "        new Promise(function(resolve, reject) {\n",
       "          var s = document.createElement('script');\n",
       "          document.getElementsByTagName(\"head\")[0].appendChild(s);\n",
       "          s.async = true;\n",
       "          s.onload = () => {\n",
       "            VEGA_DEBUG[key] = version;\n",
       "            return resolve(paths[lib]);\n",
       "          };\n",
       "          s.onerror = () => reject(`Error loading script: ${paths[lib]}`);\n",
       "          s.src = paths[lib];\n",
       "        });\n",
       "    }\n",
       "\n",
       "    function showError(err) {\n",
       "      outputDiv.innerHTML = `<div class=\"error\" style=\"color:red;\">${err}</div>`;\n",
       "      throw err;\n",
       "    }\n",
       "\n",
       "    function displayChart(vegaEmbed) {\n",
       "      vegaEmbed(outputDiv, spec, embedOpt)\n",
       "        .catch(err => showError(`Javascript Error: ${err.message}<br>This usually means there's a typo in your chart specification. See the javascript console for the full traceback.`));\n",
       "    }\n",
       "\n",
       "    if(typeof define === \"function\" && define.amd) {\n",
       "      requirejs.config({paths});\n",
       "      require([\"vega-embed\"], displayChart, err => showError(`Error loading script: ${err.message}`));\n",
       "    } else {\n",
       "      maybeLoadScript(\"vega\", \"5\")\n",
       "        .then(() => maybeLoadScript(\"vega-lite\", \"4.17.0\"))\n",
       "        .then(() => maybeLoadScript(\"vega-embed\", \"6\"))\n",
       "        .catch(showError)\n",
       "        .then(() => displayChart(vegaEmbed));\n",
       "    }\n",
       "  })({\"config\": {\"view\": {\"continuousWidth\": 400, \"continuousHeight\": 300}}, \"layer\": [{\"data\": {\"name\": \"data-7f13d72b7c7fdba6c7f14d7cd8b8f3a3\"}, \"mark\": \"point\", \"encoding\": {\"x\": {\"field\": \"Year\", \"scale\": {\"zero\": false}, \"type\": \"quantitative\"}, \"y\": {\"field\": \"overdose_per_100k\", \"scale\": {\"zero\": false}, \"type\": \"quantitative\"}}, \"title\": \"deaths before policy\"}, {\"data\": {\"name\": \"data-89163bff90d98b3bec0d238c74d22f35\"}, \"mark\": \"point\", \"encoding\": {\"x\": {\"field\": \"Year\", \"scale\": {\"zero\": false}, \"type\": \"quantitative\"}, \"y\": {\"field\": \"overdose_per_100k\", \"scale\": {\"zero\": false}, \"type\": \"quantitative\"}}, \"title\": \"deaths after policy\"}], \"$schema\": \"https://vega.github.io/schema/vega-lite/v4.17.0.json\", \"datasets\": {\"data-7f13d72b7c7fdba6c7f14d7cd8b8f3a3\": [{\"Year\": 2004.0, \"overdose_per_100k\": 8.102934192098285, \"stddev\": 4.3791519808858235}, {\"Year\": 2005.0, \"overdose_per_100k\": 9.22012425721344, \"stddev\": 4.639798382633227}, {\"Year\": 2006.0, \"overdose_per_100k\": 12.83385135109181, \"stddev\": 9.533536230075878}], \"data-89163bff90d98b3bec0d238c74d22f35\": [{\"Year\": 2008.0, \"overdose_per_100k\": 10.315215028761699, \"stddev\": 5.596812241618217}, {\"Year\": 2009.0, \"overdose_per_100k\": 11.567287418113091, \"stddev\": 6.5874720947806225}, {\"Year\": 2010.0, \"overdose_per_100k\": 10.657726875910054, \"stddev\": 5.957536150460596}]}}, {\"mode\": \"vega-lite\"});\n",
       "</script>"
      ],
      "text/plain": [
       "alt.LayerChart(...)"
      ]
     },
     "execution_count": 189,
     "metadata": {},
     "output_type": "execute_result"
    }
   ],
   "source": [
    "# test the function\n",
    "# may remove title parameters later - not really necessary as we aren't plotting this part in our final analysis\n",
    "# however, if we can't add a title to our fit/regression line charts, we may need to add them here\n",
    "base_before, base_after = get_charts(b4 = tx_b4, after = tx_after, title_b4 = \"deaths before policy\", title_after=\"deaths after policy\")\n",
    "base_before + base_after"
   ]
  },
  {
   "cell_type": "code",
   "execution_count": 190,
   "metadata": {},
   "outputs": [],
   "source": [
    "# starting here in final report\n",
    "# no longer calculating base chart above - just adding in regression line at same time"
   ]
  },
  {
   "cell_type": "code",
   "execution_count": 191,
   "metadata": {},
   "outputs": [],
   "source": [
    "def get_preds(df, X, y):\n",
    "\n",
    "    # init new empty df for our predictions\n",
    "    predictions = pd.DataFrame()\n",
    "\n",
    "    # fit our model and predict values\n",
    "    model = smf.ols(f\"{y} ~ {X}\", data=df).fit()\n",
    "    model_predict = model.get_prediction(df[X])\n",
    "\n",
    "    # save predictions back to df, calculate confidence intervals\n",
    "    predictions[\"overdose_per_100k\"] = model.predict(df[X])\n",
    "    predictions[[\"ci_low\", \"ci_high\"]] = model_predict.conf_int(alpha=0.05)\n",
    "\n",
    "    # save original year columns to new predictions df\n",
    "    predictions[\"Year\"] = df[\"Year\"]\n",
    "    return predictions"
   ]
  },
  {
   "cell_type": "code",
   "execution_count": 192,
   "metadata": {},
   "outputs": [],
   "source": [
    "tx_b4_preds = get_preds(tx_b4, x, y)\n",
    "tx_after_preds = get_preds(tx_after, x, y)"
   ]
  },
  {
   "cell_type": "code",
   "execution_count": 193,
   "metadata": {},
   "outputs": [],
   "source": [
    "def get_charts(b4, after, title_b4, title_after, color):\n",
    "    \"\"\"\n",
    "    Function to plot the pre and post charts.\n",
    "    Will not use in final plot - used as a baseline for our fit charts later.\n",
    "\n",
    "    \"\"\"\n",
    "\n",
    "    base_before = (\n",
    "        alt.Chart(b4)\n",
    "        .mark_point()\n",
    "        .encode(\n",
    "            y=alt.Y(\"overdose_per_100k\", scale=alt.Scale(zero=False)),\n",
    "            x=alt.X(\"Year\", scale=alt.Scale(zero=False)),\n",
    "        )\n",
    "        .properties(title=title_b4)\n",
    "        .transform_regression(\"Year\", \"overdose_per_100k\")\n",
    "        .mark_line()\n",
    "        .encode(color=alt.value(color))\n",
    "        #.mark_errorband(color=\"red\", opacity=0.5)\n",
    "        #.encode(x=x, y=alt.Y(\"ci_low\"), y2=\"ci_high\")\n",
    "    )\n",
    "\n",
    "    base_after = (\n",
    "        alt.Chart(after)\n",
    "        .mark_point()\n",
    "        .encode(\n",
    "            y=alt.Y(\n",
    "                \"overdose_per_100k\",\n",
    "                scale=alt.Scale(zero=False),\n",
    "                title=\"Overdoses per 100k\",\n",
    "            ),\n",
    "            x=alt.X(\n",
    "                \"Year\",\n",
    "                scale=alt.Scale(zero=False),\n",
    "                title=\"Year (relative to policy)\",\n",
    "            ),\n",
    "        )\n",
    "        .properties(title=title_after)\n",
    "        .transform_regression(\"Year\", \"overdose_per_100k\")\n",
    "        #.mark_errorband(color=\"red\", opacity=0.5)\n",
    "        #.encode(x=x, y=alt.Y(\"ci_low\"), y2=\"ci_high\")\n",
    "        .mark_line()\n",
    "        .encode(color=alt.value(color))\n",
    "    )\n",
    "\n",
    "    return base_before, base_after"
   ]
  },
  {
   "cell_type": "code",
   "execution_count": 194,
   "metadata": {},
   "outputs": [],
   "source": [
    "# get ci bands\n",
    "def get_ci_chart(preds_df, X, y, color):\n",
    "    ci_chart = (\n",
    "        alt.Chart(preds_df)\n",
    "        .mark_errorband()\n",
    "        .encode(\n",
    "            x=X,\n",
    "            y=alt.Y(\"ci_low\", title=y),\n",
    "            y2=\"ci_high\",\n",
    "            color=alt.value(color)\n",
    "        )\n",
    "    )\n",
    "    return ci_chart\n",
    "\n",
    "\n",
    "    \n",
    "#tx_b4_preds = get_preds(tx_b4, x, y)\n",
    "#tx_after_preds = get_preds(tx_after, x, y)\n",
    "\n",
    "tx_b4_bands = get_ci_chart(tx_b4_preds, x, y, \"blue\")\n",
    "tx_after_bands = get_ci_chart(tx_after_preds, x, y, \"blue\")\n"
   ]
  },
  {
   "cell_type": "code",
   "execution_count": null,
   "metadata": {},
   "outputs": [],
   "source": []
  },
  {
   "cell_type": "code",
   "execution_count": null,
   "metadata": {},
   "outputs": [],
   "source": []
  },
  {
   "cell_type": "code",
   "execution_count": 214,
   "metadata": {},
   "outputs": [],
   "source": [
    "def get_reg_fit(data, yvar, xvar, alpha=0.05):\n",
    "    import statsmodels.formula.api as smf\n",
    "\n",
    "    # Grid for predicted values\n",
    "    x = data.loc[pd.notnull(data[yvar]), xvar]\n",
    "    xmin = x.min()\n",
    "    xmax = x.max()\n",
    "    step = (xmax - xmin) / 100\n",
    "    grid = np.arange(xmin, xmax + step, step)\n",
    "    predictions = pd.DataFrame({xvar: grid})\n",
    "\n",
    "    # Fit model, get predictions\n",
    "    model = smf.ols(f\"{yvar} ~ {xvar}\", data=data).fit()\n",
    "    model_predict = model.get_prediction(predictions[xvar])\n",
    "    predictions[yvar] = model_predict.summary_frame()[\"mean\"]\n",
    "    predictions[[\"ci_low\", \"ci_high\"]] = model_predict.conf_int(alpha=alpha)\n",
    "\n",
    "    # Build chart\n",
    "    reg = alt.Chart(predictions).mark_line().encode(x=xvar, y=yvar)\n",
    "    ci = (\n",
    "        alt.Chart(predictions)\n",
    "        .mark_errorband()\n",
    "        .encode(\n",
    "            x=xvar,\n",
    "            y=alt.Y(\"ci_low\", title=yvar),\n",
    "            y2=\"ci_high\",\n",
    "        )\n",
    "    )\n",
    "    chart = ci + reg\n",
    "    return predictions, chart"
   ]
  },
  {
   "cell_type": "code",
   "execution_count": 225,
   "metadata": {},
   "outputs": [
    {
     "data": {
      "text/html": [
       "<div>\n",
       "<style scoped>\n",
       "    .dataframe tbody tr th:only-of-type {\n",
       "        vertical-align: middle;\n",
       "    }\n",
       "\n",
       "    .dataframe tbody tr th {\n",
       "        vertical-align: top;\n",
       "    }\n",
       "\n",
       "    .dataframe thead th {\n",
       "        text-align: right;\n",
       "    }\n",
       "</style>\n",
       "<table border=\"1\" class=\"dataframe\">\n",
       "  <thead>\n",
       "    <tr style=\"text-align: right;\">\n",
       "      <th></th>\n",
       "      <th>Year</th>\n",
       "      <th>overdose_per_100k</th>\n",
       "      <th>ci_low</th>\n",
       "      <th>ci_high</th>\n",
       "    </tr>\n",
       "  </thead>\n",
       "  <tbody>\n",
       "    <tr>\n",
       "      <th>0</th>\n",
       "      <td>2004.00</td>\n",
       "      <td>7.686845</td>\n",
       "      <td>-4.135064</td>\n",
       "      <td>19.508754</td>\n",
       "    </tr>\n",
       "    <tr>\n",
       "      <th>1</th>\n",
       "      <td>2004.02</td>\n",
       "      <td>7.734154</td>\n",
       "      <td>-3.946467</td>\n",
       "      <td>19.414774</td>\n",
       "    </tr>\n",
       "    <tr>\n",
       "      <th>2</th>\n",
       "      <td>2004.04</td>\n",
       "      <td>7.781463</td>\n",
       "      <td>-3.759046</td>\n",
       "      <td>19.321972</td>\n",
       "    </tr>\n",
       "    <tr>\n",
       "      <th>3</th>\n",
       "      <td>2004.06</td>\n",
       "      <td>7.828772</td>\n",
       "      <td>-3.572845</td>\n",
       "      <td>19.230389</td>\n",
       "    </tr>\n",
       "    <tr>\n",
       "      <th>4</th>\n",
       "      <td>2004.08</td>\n",
       "      <td>7.876081</td>\n",
       "      <td>-3.387909</td>\n",
       "      <td>19.140072</td>\n",
       "    </tr>\n",
       "    <tr>\n",
       "      <th>...</th>\n",
       "      <td>...</td>\n",
       "      <td>...</td>\n",
       "      <td>...</td>\n",
       "      <td>...</td>\n",
       "    </tr>\n",
       "    <tr>\n",
       "      <th>96</th>\n",
       "      <td>2005.92</td>\n",
       "      <td>12.228525</td>\n",
       "      <td>0.964535</td>\n",
       "      <td>23.492516</td>\n",
       "    </tr>\n",
       "    <tr>\n",
       "      <th>97</th>\n",
       "      <td>2005.94</td>\n",
       "      <td>12.275834</td>\n",
       "      <td>0.874217</td>\n",
       "      <td>23.677451</td>\n",
       "    </tr>\n",
       "    <tr>\n",
       "      <th>98</th>\n",
       "      <td>2005.96</td>\n",
       "      <td>12.323144</td>\n",
       "      <td>0.782635</td>\n",
       "      <td>23.863652</td>\n",
       "    </tr>\n",
       "    <tr>\n",
       "      <th>99</th>\n",
       "      <td>2005.98</td>\n",
       "      <td>12.370453</td>\n",
       "      <td>0.689832</td>\n",
       "      <td>24.051073</td>\n",
       "    </tr>\n",
       "    <tr>\n",
       "      <th>100</th>\n",
       "      <td>2006.00</td>\n",
       "      <td>12.417762</td>\n",
       "      <td>0.595853</td>\n",
       "      <td>24.239671</td>\n",
       "    </tr>\n",
       "  </tbody>\n",
       "</table>\n",
       "<p>101 rows × 4 columns</p>\n",
       "</div>"
      ],
      "text/plain": [
       "        Year  overdose_per_100k    ci_low    ci_high\n",
       "0    2004.00           7.686845 -4.135064  19.508754\n",
       "1    2004.02           7.734154 -3.946467  19.414774\n",
       "2    2004.04           7.781463 -3.759046  19.321972\n",
       "3    2004.06           7.828772 -3.572845  19.230389\n",
       "4    2004.08           7.876081 -3.387909  19.140072\n",
       "..       ...                ...       ...        ...\n",
       "96   2005.92          12.228525  0.964535  23.492516\n",
       "97   2005.94          12.275834  0.874217  23.677451\n",
       "98   2005.96          12.323144  0.782635  23.863652\n",
       "99   2005.98          12.370453  0.689832  24.051073\n",
       "100  2006.00          12.417762  0.595853  24.239671\n",
       "\n",
       "[101 rows x 4 columns]"
      ]
     },
     "execution_count": 225,
     "metadata": {},
     "output_type": "execute_result"
    }
   ],
   "source": [
    "fit_tx_b4, reg_chart_tx_b4 = get_reg_fit(\n",
    "    tx_b4, yvar=\"overdose_per_100k\", xvar=\"Year\", alpha=0.05\n",
    ")\n",
    "fit_tx_b4\n"
   ]
  },
  {
   "cell_type": "code",
   "execution_count": 226,
   "metadata": {},
   "outputs": [
    {
     "data": {
      "text/html": [
       "<div>\n",
       "<style scoped>\n",
       "    .dataframe tbody tr th:only-of-type {\n",
       "        vertical-align: middle;\n",
       "    }\n",
       "\n",
       "    .dataframe tbody tr th {\n",
       "        vertical-align: top;\n",
       "    }\n",
       "\n",
       "    .dataframe thead th {\n",
       "        text-align: right;\n",
       "    }\n",
       "</style>\n",
       "<table border=\"1\" class=\"dataframe\">\n",
       "  <thead>\n",
       "    <tr style=\"text-align: right;\">\n",
       "      <th></th>\n",
       "      <th>Year</th>\n",
       "      <th>overdose_per_100k</th>\n",
       "      <th>ci_low</th>\n",
       "      <th>ci_high</th>\n",
       "    </tr>\n",
       "  </thead>\n",
       "  <tbody>\n",
       "    <tr>\n",
       "      <th>0</th>\n",
       "      <td>2008.00</td>\n",
       "      <td>10.675487</td>\n",
       "      <td>0.439457</td>\n",
       "      <td>20.911517</td>\n",
       "    </tr>\n",
       "    <tr>\n",
       "      <th>1</th>\n",
       "      <td>2008.02</td>\n",
       "      <td>10.678912</td>\n",
       "      <td>0.565217</td>\n",
       "      <td>20.792607</td>\n",
       "    </tr>\n",
       "    <tr>\n",
       "      <th>2</th>\n",
       "      <td>2008.04</td>\n",
       "      <td>10.682337</td>\n",
       "      <td>0.689959</td>\n",
       "      <td>20.674716</td>\n",
       "    </tr>\n",
       "    <tr>\n",
       "      <th>3</th>\n",
       "      <td>2008.06</td>\n",
       "      <td>10.685763</td>\n",
       "      <td>0.813644</td>\n",
       "      <td>20.557881</td>\n",
       "    </tr>\n",
       "    <tr>\n",
       "      <th>4</th>\n",
       "      <td>2008.08</td>\n",
       "      <td>10.689188</td>\n",
       "      <td>0.936233</td>\n",
       "      <td>20.442142</td>\n",
       "    </tr>\n",
       "    <tr>\n",
       "      <th>...</th>\n",
       "      <td>...</td>\n",
       "      <td>...</td>\n",
       "      <td>...</td>\n",
       "      <td>...</td>\n",
       "    </tr>\n",
       "    <tr>\n",
       "      <th>96</th>\n",
       "      <td>2009.92</td>\n",
       "      <td>11.004299</td>\n",
       "      <td>1.251344</td>\n",
       "      <td>20.757253</td>\n",
       "    </tr>\n",
       "    <tr>\n",
       "      <th>97</th>\n",
       "      <td>2009.94</td>\n",
       "      <td>11.007724</td>\n",
       "      <td>1.135605</td>\n",
       "      <td>20.879843</td>\n",
       "    </tr>\n",
       "    <tr>\n",
       "      <th>98</th>\n",
       "      <td>2009.96</td>\n",
       "      <td>11.011149</td>\n",
       "      <td>1.018770</td>\n",
       "      <td>21.003527</td>\n",
       "    </tr>\n",
       "    <tr>\n",
       "      <th>99</th>\n",
       "      <td>2009.98</td>\n",
       "      <td>11.014574</td>\n",
       "      <td>0.900879</td>\n",
       "      <td>21.128269</td>\n",
       "    </tr>\n",
       "    <tr>\n",
       "      <th>100</th>\n",
       "      <td>2010.00</td>\n",
       "      <td>11.017999</td>\n",
       "      <td>0.781969</td>\n",
       "      <td>21.254029</td>\n",
       "    </tr>\n",
       "  </tbody>\n",
       "</table>\n",
       "<p>101 rows × 4 columns</p>\n",
       "</div>"
      ],
      "text/plain": [
       "        Year  overdose_per_100k    ci_low    ci_high\n",
       "0    2008.00          10.675487  0.439457  20.911517\n",
       "1    2008.02          10.678912  0.565217  20.792607\n",
       "2    2008.04          10.682337  0.689959  20.674716\n",
       "3    2008.06          10.685763  0.813644  20.557881\n",
       "4    2008.08          10.689188  0.936233  20.442142\n",
       "..       ...                ...       ...        ...\n",
       "96   2009.92          11.004299  1.251344  20.757253\n",
       "97   2009.94          11.007724  1.135605  20.879843\n",
       "98   2009.96          11.011149  1.018770  21.003527\n",
       "99   2009.98          11.014574  0.900879  21.128269\n",
       "100  2010.00          11.017999  0.781969  21.254029\n",
       "\n",
       "[101 rows x 4 columns]"
      ]
     },
     "execution_count": 226,
     "metadata": {},
     "output_type": "execute_result"
    }
   ],
   "source": [
    "fit_tx_after, reg_chart_tx_after = get_reg_fit(\n",
    "    tx_after, yvar=\"overdose_per_100k\", xvar=\"Year\", alpha=0.05\n",
    ")\n",
    "fit_tx_after\n"
   ]
  },
  {
   "cell_type": "code",
   "execution_count": 227,
   "metadata": {},
   "outputs": [
    {
     "name": "stderr",
     "output_type": "stream",
     "text": [
      "c:\\Users\\abzdel\\AppData\\Local\\Programs\\Python\\Python39\\lib\\site-packages\\altair\\utils\\core.py:317: FutureWarning: iteritems is deprecated and will be removed in a future version. Use .items instead.\n"
     ]
    },
    {
     "data": {
      "text/html": [
       "\n",
       "<div id=\"altair-viz-428031e8730c4a0ebec1d99eac5eb7a9\"></div>\n",
       "<script type=\"text/javascript\">\n",
       "  var VEGA_DEBUG = (typeof VEGA_DEBUG == \"undefined\") ? {} : VEGA_DEBUG;\n",
       "  (function(spec, embedOpt){\n",
       "    let outputDiv = document.currentScript.previousElementSibling;\n",
       "    if (outputDiv.id !== \"altair-viz-428031e8730c4a0ebec1d99eac5eb7a9\") {\n",
       "      outputDiv = document.getElementById(\"altair-viz-428031e8730c4a0ebec1d99eac5eb7a9\");\n",
       "    }\n",
       "    const paths = {\n",
       "      \"vega\": \"https://cdn.jsdelivr.net/npm//vega@5?noext\",\n",
       "      \"vega-lib\": \"https://cdn.jsdelivr.net/npm//vega-lib?noext\",\n",
       "      \"vega-lite\": \"https://cdn.jsdelivr.net/npm//vega-lite@4.17.0?noext\",\n",
       "      \"vega-embed\": \"https://cdn.jsdelivr.net/npm//vega-embed@6?noext\",\n",
       "    };\n",
       "\n",
       "    function maybeLoadScript(lib, version) {\n",
       "      var key = `${lib.replace(\"-\", \"\")}_version`;\n",
       "      return (VEGA_DEBUG[key] == version) ?\n",
       "        Promise.resolve(paths[lib]) :\n",
       "        new Promise(function(resolve, reject) {\n",
       "          var s = document.createElement('script');\n",
       "          document.getElementsByTagName(\"head\")[0].appendChild(s);\n",
       "          s.async = true;\n",
       "          s.onload = () => {\n",
       "            VEGA_DEBUG[key] = version;\n",
       "            return resolve(paths[lib]);\n",
       "          };\n",
       "          s.onerror = () => reject(`Error loading script: ${paths[lib]}`);\n",
       "          s.src = paths[lib];\n",
       "        });\n",
       "    }\n",
       "\n",
       "    function showError(err) {\n",
       "      outputDiv.innerHTML = `<div class=\"error\" style=\"color:red;\">${err}</div>`;\n",
       "      throw err;\n",
       "    }\n",
       "\n",
       "    function displayChart(vegaEmbed) {\n",
       "      vegaEmbed(outputDiv, spec, embedOpt)\n",
       "        .catch(err => showError(`Javascript Error: ${err.message}<br>This usually means there's a typo in your chart specification. See the javascript console for the full traceback.`));\n",
       "    }\n",
       "\n",
       "    if(typeof define === \"function\" && define.amd) {\n",
       "      requirejs.config({paths});\n",
       "      require([\"vega-embed\"], displayChart, err => showError(`Error loading script: ${err.message}`));\n",
       "    } else {\n",
       "      maybeLoadScript(\"vega\", \"5\")\n",
       "        .then(() => maybeLoadScript(\"vega-lite\", \"4.17.0\"))\n",
       "        .then(() => maybeLoadScript(\"vega-embed\", \"6\"))\n",
       "        .catch(showError)\n",
       "        .then(() => displayChart(vegaEmbed));\n",
       "    }\n",
       "  })({\"config\": {\"view\": {\"continuousWidth\": 400, \"continuousHeight\": 300}}, \"layer\": [{\"mark\": \"errorband\", \"encoding\": {\"x\": {\"field\": \"Year\", \"type\": \"quantitative\"}, \"y\": {\"field\": \"ci_low\", \"title\": \"overdose_per_100k\", \"type\": \"quantitative\"}, \"y2\": {\"field\": \"ci_high\"}}}, {\"mark\": \"line\", \"encoding\": {\"x\": {\"field\": \"Year\", \"type\": \"quantitative\"}, \"y\": {\"field\": \"overdose_per_100k\", \"type\": \"quantitative\"}}}, {\"layer\": [{\"mark\": \"errorband\", \"encoding\": {\"x\": {\"field\": \"Year\", \"type\": \"quantitative\"}, \"y\": {\"field\": \"ci_low\", \"title\": \"overdose_per_100k\", \"type\": \"quantitative\"}, \"y2\": {\"field\": \"ci_high\"}}}, {\"mark\": \"line\", \"encoding\": {\"x\": {\"field\": \"Year\", \"type\": \"quantitative\"}, \"y\": {\"field\": \"overdose_per_100k\", \"type\": \"quantitative\"}}}], \"data\": {\"name\": \"data-f80d17f5be9961bc15fd5a73a9fd0d7a\"}}], \"data\": {\"name\": \"data-170b0f9d3f0b2bb10b5957f3c18a6f65\"}, \"$schema\": \"https://vega.github.io/schema/vega-lite/v4.17.0.json\", \"datasets\": {\"data-170b0f9d3f0b2bb10b5957f3c18a6f65\": [{\"Year\": 2004.0, \"overdose_per_100k\": 7.686844687305893, \"ci_low\": -4.135064328831648, \"ci_high\": 19.508753703443432}, {\"Year\": 2004.02, \"overdose_per_100k\": 7.734153858895297, \"ci_low\": -3.9464665786972457, \"ci_high\": 19.414774296487842}, {\"Year\": 2004.04, \"overdose_per_100k\": 7.781463030485611, \"ci_low\": -3.759045556403521, \"ci_high\": 19.321971617374743}, {\"Year\": 2004.06, \"overdose_per_100k\": 7.828772202075015, \"ci_low\": -3.572844643652571, \"ci_high\": 19.230389047802603}, {\"Year\": 2004.08, \"overdose_per_100k\": 7.876081373665329, \"ci_low\": -3.3879089745744135, \"ci_high\": 19.140071721905073}, {\"Year\": 2004.1, \"overdose_per_100k\": 7.923390545254733, \"ci_low\": -3.204285494665754, \"ci_high\": 19.05106658517522}, {\"Year\": 2004.12, \"overdose_per_100k\": 7.970699716845047, \"ci_low\": -3.022023019098322, \"ci_high\": 18.963422452788414}, {\"Year\": 2004.1399999999999, \"overdose_per_100k\": 8.018008888434451, \"ci_low\": -2.841172289949755, \"ci_high\": 18.877190066818656}, {\"Year\": 2004.1599999999999, \"overdose_per_100k\": 8.065318060024765, \"ci_low\": -2.6617860317776003, \"ci_high\": 18.792422151827132}, {\"Year\": 2004.1799999999998, \"overdose_per_100k\": 8.11262723161417, \"ci_low\": -2.4839190049412743, \"ci_high\": 18.709173468169613}, {\"Year\": 2004.1999999999998, \"overdose_per_100k\": 8.159936403204483, \"ci_low\": -2.3076280559375455, \"ci_high\": 18.627500862346512}, {\"Year\": 2004.2199999999998, \"overdose_per_100k\": 8.207245574793887, \"ci_low\": -2.132972163961478, \"ci_high\": 18.54746331354925}, {\"Year\": 2004.2399999999998, \"overdose_per_100k\": 8.254554746384201, \"ci_low\": -1.9600124827818917, \"ci_high\": 18.469121975550294}, {\"Year\": 2004.2599999999998, \"overdose_per_100k\": 8.301863917974515, \"ci_low\": -1.7888123769621505, \"ci_high\": 18.39254021291118}, {\"Year\": 2004.2799999999997, \"overdose_per_100k\": 8.34917308956392, \"ci_low\": -1.6194374512778342, \"ci_high\": 18.31778363040567}, {\"Year\": 2004.2999999999997, \"overdose_per_100k\": 8.396482261154233, \"ci_low\": -1.451955572151581, \"ci_high\": 18.24492009446005}, {\"Year\": 2004.3199999999997, \"overdose_per_100k\": 8.443791432743637, \"ci_low\": -1.2864368797731007, \"ci_high\": 18.174019745260374}, {\"Year\": 2004.3399999999997, \"overdose_per_100k\": 8.491100604333951, \"ci_low\": -1.1229537894520227, \"ci_high\": 18.105154998119925}, {\"Year\": 2004.3599999999997, \"overdose_per_100k\": 8.538409775923355, \"ci_low\": -0.9615809806716342, \"ci_high\": 18.038400532518345}, {\"Year\": 2004.3799999999997, \"overdose_per_100k\": 8.58571894751367, \"ci_low\": -0.8023953721892028, \"ci_high\": 17.97383326721654}, {\"Year\": 2004.3999999999996, \"overdose_per_100k\": 8.633028119103074, \"ci_low\": -0.645476081465663, \"ci_high\": 17.91153231967181}, {\"Year\": 2004.4199999999996, \"overdose_per_100k\": 8.680337290693387, \"ci_low\": -0.4909043665673689, \"ci_high\": 17.851578947954145}, {\"Year\": 2004.4399999999996, \"overdose_per_100k\": 8.727646462282792, \"ci_low\": -0.33876354871393843, \"ci_high\": 17.79405647327952}, {\"Year\": 2004.4599999999996, \"overdose_per_100k\": 8.774955633873105, \"ci_low\": -0.18913891353388834, \"ci_high\": 17.7390501812801}, {\"Year\": 2004.4799999999996, \"overdose_per_100k\": 8.82226480546251, \"ci_low\": -0.04211758915258024, \"ci_high\": 17.6866472000776}, {\"Year\": 2004.4999999999995, \"overdose_per_100k\": 8.869573977052823, \"ci_low\": 0.10221160078610758, \"ci_high\": 17.63693635331954}, {\"Year\": 2004.5199999999995, \"overdose_per_100k\": 8.916883148642228, \"ci_low\": 0.24375831088479316, \"ci_high\": 17.590007986399662}, {\"Year\": 2004.5399999999995, \"overdose_per_100k\": 8.964192320232542, \"ci_low\": 0.3824308762384483, \"ci_high\": 17.545953764226635}, {\"Year\": 2004.5599999999995, \"overdose_per_100k\": 9.011501491822855, \"ci_low\": 0.5181365445451487, \"ci_high\": 17.50486643910056}, {\"Year\": 2004.5799999999995, \"overdose_per_100k\": 9.05881066341226, \"ci_low\": 0.6507817392588571, \"ci_high\": 17.466839587565662}, {\"Year\": 2004.5999999999995, \"overdose_per_100k\": 9.106119835002573, \"ci_low\": 0.780272354602312, \"ci_high\": 17.431967315402837}, {\"Year\": 2004.6199999999994, \"overdose_per_100k\": 9.153429006591978, \"ci_low\": 0.9065140828099985, \"ci_high\": 17.400343930373957}, {\"Year\": 2004.6399999999994, \"overdose_per_100k\": 9.200738178182291, \"ci_low\": 1.029412773509545, \"ci_high\": 17.372063582855038}, {\"Year\": 2004.6599999999994, \"overdose_per_100k\": 9.248047349771696, \"ci_low\": 1.1488748245235119, \"ci_high\": 17.34721987501988}, {\"Year\": 2004.6799999999994, \"overdose_per_100k\": 9.29535652136201, \"ci_low\": 1.2648076027536685, \"ci_high\": 17.32590543997035}, {\"Year\": 2004.6999999999994, \"overdose_per_100k\": 9.342665692951414, \"ci_low\": 1.3771198930515487, \"ci_high\": 17.308211492851278}, {\"Year\": 2004.7199999999993, \"overdose_per_100k\": 9.389974864541728, \"ci_low\": 1.4857223722325577, \"ci_high\": 17.294227356850897}, {\"Year\": 2004.7399999999993, \"overdose_per_100k\": 9.437284036131132, \"ci_low\": 1.5905281045508213, \"ci_high\": 17.284039967711443}, {\"Year\": 2004.7599999999993, \"overdose_per_100k\": 9.484593207721446, \"ci_low\": 1.6914530541544384, \"ci_high\": 17.277733361288455}, {\"Year\": 2004.7799999999993, \"overdose_per_100k\": 9.53190237931085, \"ci_low\": 1.7884166091806177, \"ci_high\": 17.27538814944108}, {\"Year\": 2004.7999999999993, \"overdose_per_100k\": 9.579211550901164, \"ci_low\": 1.8813421114379212, \"ci_high\": 17.277080990364407}, {\"Year\": 2004.8199999999993, \"overdose_per_100k\": 9.626520722490568, \"ci_low\": 1.9701573848763676, \"ci_high\": 17.28288406010477}, {\"Year\": 2004.8399999999992, \"overdose_per_100k\": 9.673829894080882, \"ci_low\": 2.054795255503886, \"ci_high\": 17.292864532657877}, {\"Year\": 2004.8599999999992, \"overdose_per_100k\": 9.721139065670286, \"ci_low\": 2.1351940549384976, \"ci_high\": 17.307084076402074}, {\"Year\": 2004.8799999999992, \"overdose_per_100k\": 9.7684482372606, \"ci_low\": 2.211298099570956, \"ci_high\": 17.325598374950243}, {\"Year\": 2004.8999999999992, \"overdose_per_100k\": 9.815757408850914, \"ci_low\": 2.2830581372050895, \"ci_high\": 17.34845668049674}, {\"Year\": 2004.9199999999992, \"overdose_per_100k\": 9.863066580440318, \"ci_low\": 2.3504317532803407, \"ci_high\": 17.375701407600296}, {\"Year\": 2004.9399999999991, \"overdose_per_100k\": 9.910375752030632, \"ci_low\": 2.4133837291462585, \"ci_high\": 17.407367774915006}, {\"Year\": 2004.9599999999991, \"overdose_per_100k\": 9.957684923620036, \"ci_low\": 2.471886345521755, \"ci_high\": 17.44348350171832}, {\"Year\": 2004.979999999999, \"overdose_per_100k\": 10.00499409521035, \"ci_low\": 2.5259196251801006, \"ci_high\": 17.484068565240598}, {\"Year\": 2004.999999999999, \"overdose_per_100k\": 10.052303266799754, \"ci_low\": 2.575471509939776, \"ci_high\": 17.529135023659734}, {\"Year\": 2005.019999999999, \"overdose_per_100k\": 10.099612438390068, \"ci_low\": 2.620537968360087, \"ci_high\": 17.57868690842005}, {\"Year\": 2005.039999999999, \"overdose_per_100k\": 10.146921609979472, \"ci_low\": 2.6611230318817274, \"ci_high\": 17.632720188077215}, {\"Year\": 2005.059999999999, \"overdose_per_100k\": 10.194230781569786, \"ci_low\": 2.6972387586862547, \"ci_high\": 17.691222804453318}, {\"Year\": 2005.079999999999, \"overdose_per_100k\": 10.24153995315919, \"ci_low\": 2.7289051260002815, \"ci_high\": 17.7541747803181}, {\"Year\": 2005.099999999999, \"overdose_per_100k\": 10.288849124749504, \"ci_low\": 2.7561498531050512, \"ci_high\": 17.821548396393958}, {\"Year\": 2005.119999999999, \"overdose_per_100k\": 10.336158296338908, \"ci_low\": 2.7790081586509343, \"ci_high\": 17.89330843402688}, {\"Year\": 2005.139999999999, \"overdose_per_100k\": 10.383467467929222, \"ci_low\": 2.797522457199249, \"ci_high\": 17.969412478659194}, {\"Year\": 2005.159999999999, \"overdose_per_100k\": 10.430776639518626, \"ci_low\": 2.811742000943436, \"ci_high\": 18.049811278093816}, {\"Year\": 2005.179999999999, \"overdose_per_100k\": 10.47808581110894, \"ci_low\": 2.821722473497138, \"ci_high\": 18.13444914872074}, {\"Year\": 2005.199999999999, \"overdose_per_100k\": 10.525394982699254, \"ci_low\": 2.8275255432383952, \"ci_high\": 18.223264422160113}, {\"Year\": 2005.219999999999, \"overdose_per_100k\": 10.572704154288658, \"ci_low\": 2.8292183841607956, \"ci_high\": 18.31618992441652}, {\"Year\": 2005.2399999999989, \"overdose_per_100k\": 10.620013325878972, \"ci_low\": 2.826873172315202, \"ci_high\": 18.41315347944274}, {\"Year\": 2005.2599999999989, \"overdose_per_100k\": 10.667322497468376, \"ci_low\": 2.8205665658909904, \"ci_high\": 18.51407842904576}, {\"Year\": 2005.2799999999988, \"overdose_per_100k\": 10.71463166905869, \"ci_low\": 2.8103791767524235, \"ci_high\": 18.618884161364956}, {\"Year\": 2005.2999999999988, \"overdose_per_100k\": 10.761940840648094, \"ci_low\": 2.7963950407522606, \"ci_high\": 18.72748664054393}, {\"Year\": 2005.3199999999988, \"overdose_per_100k\": 10.809250012238408, \"ci_low\": 2.7787010936346377, \"ci_high\": 18.83979893084218}, {\"Year\": 2005.3399999999988, \"overdose_per_100k\": 10.856559183827812, \"ci_low\": 2.7573866585835933, \"ci_high\": 18.955731709072033}, {\"Year\": 2005.3599999999988, \"overdose_per_100k\": 10.903868355418126, \"ci_low\": 2.732542950749311, \"ci_high\": 19.07519376008694}, {\"Year\": 2005.3799999999987, \"overdose_per_100k\": 10.95117752700753, \"ci_low\": 2.704262603229445, \"ci_high\": 19.198092450785616}, {\"Year\": 2005.3999999999987, \"overdose_per_100k\": 10.998486698597844, \"ci_low\": 2.6726392182025425, \"ci_high\": 19.324334178993148}, {\"Year\": 2005.4199999999987, \"overdose_per_100k\": 11.045795870187249, \"ci_low\": 2.637766946038756, \"ci_high\": 19.45382479433574}, {\"Year\": 2005.4399999999987, \"overdose_per_100k\": 11.093105041777562, \"ci_low\": 2.5997400945052593, \"ci_high\": 19.586469989049867}, {\"Year\": 2005.4599999999987, \"overdose_per_100k\": 11.140414213366967, \"ci_low\": 2.55865276937822, \"ci_high\": 19.722175657355713}, {\"Year\": 2005.4799999999987, \"overdose_per_100k\": 11.18772338495728, \"ci_low\": 2.514598547204608, \"ci_high\": 19.860848222709954}, {\"Year\": 2005.4999999999986, \"overdose_per_100k\": 11.235032556546685, \"ci_low\": 2.467670180285202, \"ci_high\": 20.002394932808166}, {\"Year\": 2005.5199999999986, \"overdose_per_100k\": 11.282341728136998, \"ci_low\": 2.4179593335281204, \"ci_high\": 20.146724122745876}, {\"Year\": 2005.5399999999986, \"overdose_per_100k\": 11.329650899727312, \"ci_low\": 2.365556352325438, \"ci_high\": 20.293745447129186}, {\"Year\": 2005.5599999999986, \"overdose_per_100k\": 11.376960071316716, \"ci_low\": 2.31055006032606, \"ci_high\": 20.443370082307375}, {\"Year\": 2005.5799999999986, \"overdose_per_100k\": 11.42426924290703, \"ci_low\": 2.25302758565328, \"ci_high\": 20.595510900160782}, {\"Year\": 2005.5999999999985, \"overdose_per_100k\": 11.471578414496435, \"ci_low\": 2.1930742139336328, \"ci_high\": 20.750082615059235}, {\"Year\": 2005.6199999999985, \"overdose_per_100k\": 11.518887586086748, \"ci_low\": 2.1307732663897436, \"ci_high\": 20.90700190578375}, {\"Year\": 2005.6399999999985, \"overdose_per_100k\": 11.566196757676153, \"ci_low\": 2.066206001088892, \"ci_high\": 21.06618751426341}, {\"Year\": 2005.6599999999985, \"overdose_per_100k\": 11.613505929266466, \"ci_low\": 1.9994515354871734, \"ci_high\": 21.227560323045758}, {\"Year\": 2005.6799999999985, \"overdose_per_100k\": 11.66081510085587, \"ci_low\": 1.9305867883457353, \"ci_high\": 21.391043413366006}, {\"Year\": 2005.6999999999985, \"overdose_per_100k\": 11.708124272446184, \"ci_low\": 1.8596864391478256, \"ci_high\": 21.556562105744543}, {\"Year\": 2005.7199999999984, \"overdose_per_100k\": 11.755433444035589, \"ci_low\": 1.7868229032021201, \"ci_high\": 21.724043984869056}, {\"Year\": 2005.7399999999984, \"overdose_per_100k\": 11.802742615625903, \"ci_low\": 1.7120663206965148, \"ci_high\": 21.89341891055529}, {\"Year\": 2005.7599999999984, \"overdose_per_100k\": 11.850051787215307, \"ci_low\": 1.6354845580555022, \"ci_high\": 22.06461901637511}, {\"Year\": 2005.7799999999984, \"overdose_per_100k\": 11.89736095880562, \"ci_low\": 1.5571432200582436, \"ci_high\": 22.237578697552998}, {\"Year\": 2005.7999999999984, \"overdose_per_100k\": 11.944670130395025, \"ci_low\": 1.477105671260011, \"ci_high\": 22.412234589530037}, {\"Year\": 2005.8199999999983, \"overdose_per_100k\": 11.991979301985339, \"ci_low\": 1.3954330654376896, \"ci_high\": 22.588525538532988}, {\"Year\": 2005.8399999999983, \"overdose_per_100k\": 12.039288473575652, \"ci_low\": 1.3121843817826964, \"ci_high\": 22.76639256536861}, {\"Year\": 2005.8599999999983, \"overdose_per_100k\": 12.086597645165057, \"ci_low\": 1.2274164667893004, \"ci_high\": 22.945778823540813}, {\"Year\": 2005.8799999999983, \"overdose_per_100k\": 12.13390681675537, \"ci_low\": 1.1411840808203504, \"ci_high\": 23.12662955269039}, {\"Year\": 2005.8999999999983, \"overdose_per_100k\": 12.181215988344775, \"ci_low\": 1.053539948432535, \"ci_high\": 23.308892028257013}, {\"Year\": 2005.9199999999983, \"overdose_per_100k\": 12.228525159935089, \"ci_low\": 0.9645348117043078, \"ci_high\": 23.49251550816587}, {\"Year\": 2005.9399999999982, \"overdose_per_100k\": 12.275834331524493, \"ci_low\": 0.8742174858049552, \"ci_high\": 23.67745117724403}, {\"Year\": 2005.9599999999982, \"overdose_per_100k\": 12.323143503114807, \"ci_low\": 0.7826349162336275, \"ci_high\": 23.863652089995988}, {\"Year\": 2005.9799999999982, \"overdose_per_100k\": 12.370452674704211, \"ci_low\": 0.6898322371203118, \"ci_high\": 24.05107311228811}, {\"Year\": 2005.9999999999982, \"overdose_per_100k\": 12.417761846294525, \"ci_low\": 0.5958528301663009, \"ci_high\": 24.23967086242275}], \"data-f80d17f5be9961bc15fd5a73a9fd0d7a\": [{\"Year\": 2008.0, \"overdose_per_100k\": 10.675487184020142, \"ci_low\": 0.4394572173405127, \"ci_high\": 20.911517150699773}, {\"Year\": 2008.02, \"overdose_per_100k\": 10.678912302491653, \"ci_low\": 0.5652174106633474, \"ci_high\": 20.79260719431996}, {\"Year\": 2008.04, \"overdose_per_100k\": 10.682337420963108, \"ci_low\": 0.6899587311928563, \"ci_high\": 20.67471611073336}, {\"Year\": 2008.06, \"overdose_per_100k\": 10.68576253943462, \"ci_low\": 0.8136436167755257, \"ci_high\": 20.557881462093714}, {\"Year\": 2008.08, \"overdose_per_100k\": 10.689187657906075, \"ci_low\": 0.9362329879077951, \"ci_high\": 20.442142327904357}, {\"Year\": 2008.1, \"overdose_per_100k\": 10.692612776377587, \"ci_low\": 1.0576861967139504, \"ci_high\": 20.32753935604122}, {\"Year\": 2008.12, \"overdose_per_100k\": 10.696037894849042, \"ci_low\": 1.1779609764508283, \"ci_high\": 20.214114813247257}, {\"Year\": 2008.1399999999999, \"overdose_per_100k\": 10.699463013320496, \"ci_low\": 1.297013391963878, \"ci_high\": 20.101912634677113}, {\"Year\": 2008.1599999999999, \"overdose_per_100k\": 10.702888131792008, \"ci_low\": 1.414797791561389, \"ci_high\": 19.990978472022626}, {\"Year\": 2008.1799999999998, \"overdose_per_100k\": 10.706313250263463, \"ci_low\": 1.5312667608440123, \"ci_high\": 19.881359739682914}, {\"Year\": 2008.1999999999998, \"overdose_per_100k\": 10.709738368734975, \"ci_low\": 1.6463710791300166, \"ci_high\": 19.773105658339933}, {\"Year\": 2008.2199999999998, \"overdose_per_100k\": 10.71316348720643, \"ci_low\": 1.7600596791339207, \"ci_high\": 19.66626729527894}, {\"Year\": 2008.2399999999998, \"overdose_per_100k\": 10.716588605677941, \"ci_low\": 1.8722796107065314, \"ci_high\": 19.56089760064935}, {\"Year\": 2008.2599999999998, \"overdose_per_100k\": 10.720013724149396, \"ci_low\": 1.9829760094825772, \"ci_high\": 19.457051438816215}, {\"Year\": 2008.2799999999997, \"overdose_per_100k\": 10.723438842620908, \"ci_low\": 2.092092071402627, \"ci_high\": 19.35478561383919}, {\"Year\": 2008.2999999999997, \"overdose_per_100k\": 10.726863961092363, \"ci_low\": 2.1995690341475616, \"ci_high\": 19.254158888037164}, {\"Year\": 2008.3199999999997, \"overdose_per_100k\": 10.730289079563875, \"ci_low\": 2.305346166656676, \"ci_high\": 19.155231992471073}, {\"Year\": 2008.3399999999997, \"overdose_per_100k\": 10.73371419803533, \"ci_low\": 2.4093607679518865, \"ci_high\": 19.05806762811877}, {\"Year\": 2008.3599999999997, \"overdose_per_100k\": 10.737139316506784, \"ci_low\": 2.5115481766119547, \"ci_high\": 18.962730456401616}, {\"Year\": 2008.3799999999997, \"overdose_per_100k\": 10.740564434978296, \"ci_low\": 2.611841792333834, \"ci_high\": 18.869287077622758}, {\"Year\": 2008.3999999999996, \"overdose_per_100k\": 10.743989553449751, \"ci_low\": 2.7101731110648757, \"ci_high\": 18.777805995834626}, {\"Year\": 2008.4199999999996, \"overdose_per_100k\": 10.747414671921263, \"ci_low\": 2.806471775301464, \"ci_high\": 18.68835756854106}, {\"Year\": 2008.4399999999996, \"overdose_per_100k\": 10.750839790392718, \"ci_low\": 2.900665641153825, \"ci_high\": 18.60101393963161}, {\"Year\": 2008.4599999999996, \"overdose_per_100k\": 10.75426490886423, \"ci_low\": 2.9926808638410574, \"ci_high\": 18.5158489538874}, {\"Year\": 2008.4799999999996, \"overdose_per_100k\": 10.757690027335684, \"ci_low\": 3.0824420032593265, \"ci_high\": 18.43293805141204}, {\"Year\": 2008.4999999999995, \"overdose_per_100k\": 10.761115145807196, \"ci_low\": 3.169872151226069, \"ci_high\": 18.352358140388322}, {\"Year\": 2008.5199999999995, \"overdose_per_100k\": 10.76454026427865, \"ci_low\": 3.2548930819514768, \"ci_high\": 18.274187446605826}, {\"Year\": 2008.5399999999995, \"overdose_per_100k\": 10.767965382750162, \"ci_low\": 3.3374254271451917, \"ci_high\": 18.198505338355133}, {\"Year\": 2008.5599999999995, \"overdose_per_100k\": 10.771390501221617, \"ci_low\": 3.417388876988251, \"ci_high\": 18.125392125454983}, {\"Year\": 2008.5799999999995, \"overdose_per_100k\": 10.774815619693072, \"ci_low\": 3.494702407992908, \"ci_high\": 18.054928831393237}, {\"Year\": 2008.5999999999995, \"overdose_per_100k\": 10.778240738164584, \"ci_low\": 3.569284538432443, \"ci_high\": 17.987196937896726}, {\"Year\": 2008.6199999999994, \"overdose_per_100k\": 10.781665856636039, \"ci_low\": 3.6410536116867833, \"ci_high\": 17.922278101585295}, {\"Year\": 2008.6399999999994, \"overdose_per_100k\": 10.78509097510755, \"ci_low\": 3.7099281074174177, \"ci_high\": 17.860253842797682}, {\"Year\": 2008.6599999999994, \"overdose_per_100k\": 10.788516093579005, \"ci_low\": 3.7758269799426865, \"ci_high\": 17.801205207215325}, {\"Year\": 2008.6799999999994, \"overdose_per_100k\": 10.791941212050517, \"ci_low\": 3.8386700226567214, \"ci_high\": 17.745212401444313}, {\"Year\": 2008.6999999999994, \"overdose_per_100k\": 10.795366330521972, \"ci_low\": 3.898378256691619, \"ci_high\": 17.692354404352326}, {\"Year\": 2008.7199999999993, \"overdose_per_100k\": 10.798791448993484, \"ci_low\": 3.9548743413407568, \"ci_high\": 17.642708556646213}, {\"Year\": 2008.7399999999993, \"overdose_per_100k\": 10.802216567464939, \"ci_low\": 4.008083003069179, \"ci_high\": 17.5963501318607}, {\"Year\": 2008.7599999999993, \"overdose_per_100k\": 10.80564168593645, \"ci_low\": 4.057931479219239, \"ci_high\": 17.553351892653662}, {\"Year\": 2008.7799999999993, \"overdose_per_100k\": 10.809066804407905, \"ci_low\": 4.104349971805542, \"ci_high\": 17.51378363701027}, {\"Year\": 2008.7999999999993, \"overdose_per_100k\": 10.81249192287936, \"ci_low\": 4.147272106137638, \"ci_high\": 17.477711739621082}, {\"Year\": 2008.8199999999993, \"overdose_per_100k\": 10.815917041350872, \"ci_low\": 4.186635388399668, \"ci_high\": 17.445198694302075}, {\"Year\": 2008.8399999999992, \"overdose_per_100k\": 10.819342159822327, \"ci_low\": 4.22238165581854, \"ci_high\": 17.416302663826112}, {\"Year\": 2008.8599999999992, \"overdose_per_100k\": 10.822767278293838, \"ci_low\": 4.254457512671061, \"ci_high\": 17.391077043916617}, {\"Year\": 2008.8799999999992, \"overdose_per_100k\": 10.826192396765293, \"ci_low\": 4.282814745160064, \"ci_high\": 17.369570048370523}, {\"Year\": 2008.8999999999992, \"overdose_per_100k\": 10.829617515236805, \"ci_low\": 4.307410708147699, \"ci_high\": 17.35182432232591}, {\"Year\": 2008.9199999999992, \"overdose_per_100k\": 10.83304263370826, \"ci_low\": 4.328208676879404, \"ci_high\": 17.337876590537114}, {\"Year\": 2008.9399999999991, \"overdose_per_100k\": 10.836467752179772, \"ci_low\": 4.345178157195795, \"ci_high\": 17.327757347163747}, {\"Year\": 2008.9599999999991, \"overdose_per_100k\": 10.839892870651227, \"ci_low\": 4.358295148288103, \"ci_high\": 17.32149059301435}, {\"Year\": 2008.979999999999, \"overdose_per_100k\": 10.843317989122738, \"ci_low\": 4.367542352822572, \"ci_high\": 17.319093625422905}, {\"Year\": 2008.999999999999, \"overdose_per_100k\": 10.846743107594193, \"ci_low\": 4.372909330193333, \"ci_high\": 17.320576884995052}, {\"Year\": 2009.019999999999, \"overdose_per_100k\": 10.850168226065648, \"ci_low\": 4.374392589765792, \"ci_high\": 17.325943862365506}, {\"Year\": 2009.039999999999, \"overdose_per_100k\": 10.85359334453716, \"ci_low\": 4.371995622174744, \"ci_high\": 17.335191066899576}, {\"Year\": 2009.059999999999, \"overdose_per_100k\": 10.857018463008615, \"ci_low\": 4.365728868025698, \"ci_high\": 17.34830805799153}, {\"Year\": 2009.079999999999, \"overdose_per_100k\": 10.860443581480126, \"ci_low\": 4.355609624652681, \"ci_high\": 17.365277538307573}, {\"Year\": 2009.099999999999, \"overdose_per_100k\": 10.863868699951581, \"ci_low\": 4.341661892864058, \"ci_high\": 17.386075507039106}, {\"Year\": 2009.119999999999, \"overdose_per_100k\": 10.867293818423093, \"ci_low\": 4.323916166819968, \"ci_high\": 17.410671470026216}, {\"Year\": 2009.139999999999, \"overdose_per_100k\": 10.870718936894548, \"ci_low\": 4.302409171274215, \"ci_high\": 17.439028702514882}, {\"Year\": 2009.159999999999, \"overdose_per_100k\": 10.87414405536606, \"ci_low\": 4.277183551364882, \"ci_high\": 17.471104559367237}, {\"Year\": 2009.179999999999, \"overdose_per_100k\": 10.877569173837514, \"ci_low\": 4.248287520889079, \"ci_high\": 17.50685082678595}, {\"Year\": 2009.199999999999, \"overdose_per_100k\": 10.880994292309026, \"ci_low\": 4.215774475570402, \"ci_high\": 17.54621410904765}, {\"Year\": 2009.219999999999, \"overdose_per_100k\": 10.884419410780481, \"ci_low\": 4.179702578181881, \"ci_high\": 17.58913624337908}, {\"Year\": 2009.2399999999989, \"overdose_per_100k\": 10.887844529251936, \"ci_low\": 4.140134322538804, \"ci_high\": 17.635554735965066}, {\"Year\": 2009.2599999999989, \"overdose_per_100k\": 10.891269647723448, \"ci_low\": 4.097136083332078, \"ci_high\": 17.685403212114817}, {\"Year\": 2009.2799999999988, \"overdose_per_100k\": 10.894694766194903, \"ci_low\": 4.050777658546869, \"ci_high\": 17.738611873842935}, {\"Year\": 2009.2999999999988, \"overdose_per_100k\": 10.898119884666414, \"ci_low\": 4.001131810840718, \"ci_high\": 17.79510795849211}, {\"Year\": 2009.3199999999988, \"overdose_per_100k\": 10.90154500313787, \"ci_low\": 3.948273813748692, \"ci_high\": 17.854816192527046}, {\"Year\": 2009.3399999999988, \"overdose_per_100k\": 10.90497012160938, \"ci_low\": 3.892281007978297, \"ci_high\": 17.917659235240464}, {\"Year\": 2009.3599999999988, \"overdose_per_100k\": 10.908395240080836, \"ci_low\": 3.8332323723971893, \"ci_high\": 17.98355810776448}, {\"Year\": 2009.3799999999987, \"overdose_per_100k\": 10.911820358552347, \"ci_low\": 3.771208113609517, \"ci_high\": 18.052432603495177}, {\"Year\": 2009.3999999999987, \"overdose_per_100k\": 10.915245477023802, \"ci_low\": 3.7062892772980263, \"ci_high\": 18.12420167674958}, {\"Year\": 2009.4199999999987, \"overdose_per_100k\": 10.918670595495314, \"ci_low\": 3.638557383802712, \"ci_high\": 18.198783807187915}, {\"Year\": 2009.4399999999987, \"overdose_per_100k\": 10.922095713966769, \"ci_low\": 3.568094089740266, \"ci_high\": 18.27609733819327}, {\"Year\": 2009.4599999999987, \"overdose_per_100k\": 10.925520832438224, \"ci_low\": 3.4949808768394277, \"ci_high\": 18.35606078803702}, {\"Year\": 2009.4799999999987, \"overdose_per_100k\": 10.928945950909736, \"ci_low\": 3.4192987685898943, \"ci_high\": 18.438593133229578}, {\"Year\": 2009.4999999999986, \"overdose_per_100k\": 10.93237106938119, \"ci_low\": 3.3411280748067123, \"ci_high\": 18.52361406395567}, {\"Year\": 2009.5199999999986, \"overdose_per_100k\": 10.935796187852702, \"ci_low\": 3.260548163784116, \"ci_high\": 18.61104421192129}, {\"Year\": 2009.5399999999986, \"overdose_per_100k\": 10.939221306324157, \"ci_low\": 3.177637261309262, \"ci_high\": 18.700805351339053}, {\"Year\": 2009.5599999999986, \"overdose_per_100k\": 10.942646424795669, \"ci_low\": 3.0924722755643756, \"ci_high\": 18.792820574026962}, {\"Year\": 2009.5799999999986, \"overdose_per_100k\": 10.946071543267124, \"ci_low\": 3.005128646655992, \"ci_high\": 18.887014439878257}, {\"Year\": 2009.5999999999985, \"overdose_per_100k\": 10.949496661738635, \"ci_low\": 2.9156802193628995, \"ci_high\": 18.983313104114373}, {\"Year\": 2009.6199999999985, \"overdose_per_100k\": 10.95292178021009, \"ci_low\": 2.8241991375740962, \"ci_high\": 19.081644422846082}, {\"Year\": 2009.6399999999985, \"overdose_per_100k\": 10.956346898681602, \"ci_low\": 2.7307557587962545, \"ci_high\": 19.181938038566948}, {\"Year\": 2009.6599999999985, \"overdose_per_100k\": 10.959772017153057, \"ci_low\": 2.6354185870784317, \"ci_high\": 19.28412544722768}, {\"Year\": 2009.6799999999985, \"overdose_per_100k\": 10.963197135624512, \"ci_low\": 2.538254222726028, \"ci_high\": 19.388140048522995}, {\"Year\": 2009.6999999999985, \"overdose_per_100k\": 10.966622254096023, \"ci_low\": 2.439327327159832, \"ci_high\": 19.493917181032216}, {\"Year\": 2009.7199999999984, \"overdose_per_100k\": 10.970047372567478, \"ci_low\": 2.3387006013587666, \"ci_high\": 19.60139414377619}, {\"Year\": 2009.7399999999984, \"overdose_per_100k\": 10.97347249103899, \"ci_low\": 2.2364347763826746, \"ci_high\": 19.710510205695307}, {\"Year\": 2009.7599999999984, \"overdose_per_100k\": 10.976897609510445, \"ci_low\": 2.1325886145483732, \"ci_high\": 19.821206604472515}, {\"Year\": 2009.7799999999984, \"overdose_per_100k\": 10.980322727981957, \"ci_low\": 2.0272189199186723, \"ci_high\": 19.93342653604524}, {\"Year\": 2009.7999999999984, \"overdose_per_100k\": 10.983747846453412, \"ci_low\": 1.9203805568575678, \"ci_high\": 20.047115136049257}, {\"Year\": 2009.8199999999983, \"overdose_per_100k\": 10.987172964924923, \"ci_low\": 1.812126475514475, \"ci_high\": 20.16221945433537}, {\"Year\": 2009.8399999999983, \"overdose_per_100k\": 10.990598083396378, \"ci_low\": 1.7025077431756408, \"ci_high\": 20.278688423617115}, {\"Year\": 2009.8599999999983, \"overdose_per_100k\": 10.99402320186789, \"ci_low\": 1.5915735805220077, \"ci_high\": 20.39647282321377}, {\"Year\": 2009.8799999999983, \"overdose_per_100k\": 10.997448320339345, \"ci_low\": 1.4793714019507735, \"ci_high\": 20.515525238727918}, {\"Year\": 2009.8999999999983, \"overdose_per_100k\": 11.000873438810856, \"ci_low\": 1.365946859157697, \"ci_high\": 20.635800018464018}, {\"Year\": 2009.9199999999983, \"overdose_per_100k\": 11.004298557282311, \"ci_low\": 1.2513438872943805, \"ci_high\": 20.75725322727024}, {\"Year\": 2009.9399999999982, \"overdose_per_100k\": 11.007723675753766, \"ci_low\": 1.1356047531048983, \"ci_high\": 20.879842598402632}, {\"Year\": 2009.9599999999982, \"overdose_per_100k\": 11.011148794225278, \"ci_low\": 1.0187701044660464, \"ci_high\": 21.00352748398451}, {\"Year\": 2009.9799999999982, \"overdose_per_100k\": 11.014573912696733, \"ci_low\": 0.9008790208802218, \"ci_high\": 21.128268804513244}, {\"Year\": 2009.9999999999982, \"overdose_per_100k\": 11.017999031168245, \"ci_low\": 0.7819690645002702, \"ci_high\": 21.25402899783622}]}}, {\"mode\": \"vega-lite\"});\n",
       "</script>"
      ],
      "text/plain": [
       "alt.LayerChart(...)"
      ]
     },
     "execution_count": 227,
     "metadata": {},
     "output_type": "execute_result"
    }
   ],
   "source": [
    "reg_chart_tx_b4 + reg_chart_tx_after"
   ]
  },
  {
   "cell_type": "code",
   "execution_count": null,
   "metadata": {},
   "outputs": [],
   "source": []
  },
  {
   "cell_type": "code",
   "execution_count": null,
   "metadata": {},
   "outputs": [],
   "source": []
  },
  {
   "cell_type": "code",
   "execution_count": null,
   "metadata": {},
   "outputs": [],
   "source": []
  },
  {
   "cell_type": "code",
   "execution_count": 195,
   "metadata": {},
   "outputs": [
    {
     "name": "stderr",
     "output_type": "stream",
     "text": [
      "c:\\Users\\abzdel\\AppData\\Local\\Programs\\Python\\Python39\\lib\\site-packages\\altair\\utils\\core.py:317: FutureWarning: iteritems is deprecated and will be removed in a future version. Use .items instead.\n"
     ]
    },
    {
     "data": {
      "text/html": [
       "\n",
       "<div id=\"altair-viz-70154ff1c26045839351261aa56c1975\"></div>\n",
       "<script type=\"text/javascript\">\n",
       "  var VEGA_DEBUG = (typeof VEGA_DEBUG == \"undefined\") ? {} : VEGA_DEBUG;\n",
       "  (function(spec, embedOpt){\n",
       "    let outputDiv = document.currentScript.previousElementSibling;\n",
       "    if (outputDiv.id !== \"altair-viz-70154ff1c26045839351261aa56c1975\") {\n",
       "      outputDiv = document.getElementById(\"altair-viz-70154ff1c26045839351261aa56c1975\");\n",
       "    }\n",
       "    const paths = {\n",
       "      \"vega\": \"https://cdn.jsdelivr.net/npm//vega@5?noext\",\n",
       "      \"vega-lib\": \"https://cdn.jsdelivr.net/npm//vega-lib?noext\",\n",
       "      \"vega-lite\": \"https://cdn.jsdelivr.net/npm//vega-lite@4.17.0?noext\",\n",
       "      \"vega-embed\": \"https://cdn.jsdelivr.net/npm//vega-embed@6?noext\",\n",
       "    };\n",
       "\n",
       "    function maybeLoadScript(lib, version) {\n",
       "      var key = `${lib.replace(\"-\", \"\")}_version`;\n",
       "      return (VEGA_DEBUG[key] == version) ?\n",
       "        Promise.resolve(paths[lib]) :\n",
       "        new Promise(function(resolve, reject) {\n",
       "          var s = document.createElement('script');\n",
       "          document.getElementsByTagName(\"head\")[0].appendChild(s);\n",
       "          s.async = true;\n",
       "          s.onload = () => {\n",
       "            VEGA_DEBUG[key] = version;\n",
       "            return resolve(paths[lib]);\n",
       "          };\n",
       "          s.onerror = () => reject(`Error loading script: ${paths[lib]}`);\n",
       "          s.src = paths[lib];\n",
       "        });\n",
       "    }\n",
       "\n",
       "    function showError(err) {\n",
       "      outputDiv.innerHTML = `<div class=\"error\" style=\"color:red;\">${err}</div>`;\n",
       "      throw err;\n",
       "    }\n",
       "\n",
       "    function displayChart(vegaEmbed) {\n",
       "      vegaEmbed(outputDiv, spec, embedOpt)\n",
       "        .catch(err => showError(`Javascript Error: ${err.message}<br>This usually means there's a typo in your chart specification. See the javascript console for the full traceback.`));\n",
       "    }\n",
       "\n",
       "    if(typeof define === \"function\" && define.amd) {\n",
       "      requirejs.config({paths});\n",
       "      require([\"vega-embed\"], displayChart, err => showError(`Error loading script: ${err.message}`));\n",
       "    } else {\n",
       "      maybeLoadScript(\"vega\", \"5\")\n",
       "        .then(() => maybeLoadScript(\"vega-lite\", \"4.17.0\"))\n",
       "        .then(() => maybeLoadScript(\"vega-embed\", \"6\"))\n",
       "        .catch(showError)\n",
       "        .then(() => displayChart(vegaEmbed));\n",
       "    }\n",
       "  })({\"config\": {\"view\": {\"continuousWidth\": 400, \"continuousHeight\": 300}}, \"layer\": [{\"data\": {\"name\": \"data-fe7c419fd14b5753974ad19cd871ade5\"}, \"mark\": \"line\", \"encoding\": {\"color\": {\"value\": \"blue\"}, \"x\": {\"field\": \"Year\", \"scale\": {\"zero\": false}, \"type\": \"quantitative\"}, \"y\": {\"field\": \"overdose_per_100k\", \"scale\": {\"zero\": false}, \"type\": \"quantitative\"}}, \"title\": \"Texas - Overdose Deaths Before and After Policy\", \"transform\": [{\"on\": \"Year\", \"regression\": \"overdose_per_100k\"}]}, {\"data\": {\"name\": \"data-be71de59e69e13ff77033e49d37c52a7\"}, \"mark\": \"line\", \"encoding\": {\"color\": {\"value\": \"blue\"}, \"x\": {\"field\": \"Year\", \"scale\": {\"zero\": false}, \"title\": \"Year (relative to policy)\", \"type\": \"quantitative\"}, \"y\": {\"field\": \"overdose_per_100k\", \"scale\": {\"zero\": false}, \"title\": \"Overdoses per 100k\", \"type\": \"quantitative\"}}, \"title\": \"Deaths After Policy Implementation\", \"transform\": [{\"on\": \"Year\", \"regression\": \"overdose_per_100k\"}]}, {\"data\": {\"name\": \"data-666077794fe9b0ba4baa1b4b43e5789c\"}, \"mark\": \"rule\", \"encoding\": {\"color\": {\"field\": \"color\", \"scale\": null, \"type\": \"nominal\"}, \"x\": {\"field\": \"Date\", \"type\": \"quantitative\"}}}, {\"data\": {\"name\": \"data-fe7c419fd14b5753974ad19cd871ade5\"}, \"mark\": \"errorband\", \"encoding\": {\"color\": {\"value\": \"blue\"}, \"x\": {\"field\": \"Year\", \"type\": \"quantitative\"}, \"y\": {\"field\": \"ci_low\", \"title\": \"overdose_per_100k\", \"type\": \"quantitative\"}, \"y2\": {\"field\": \"ci_high\"}}}, {\"data\": {\"name\": \"data-be71de59e69e13ff77033e49d37c52a7\"}, \"mark\": \"errorband\", \"encoding\": {\"color\": {\"value\": \"blue\"}, \"x\": {\"field\": \"Year\", \"type\": \"quantitative\"}, \"y\": {\"field\": \"ci_low\", \"title\": \"overdose_per_100k\", \"type\": \"quantitative\"}, \"y2\": {\"field\": \"ci_high\"}}}], \"$schema\": \"https://vega.github.io/schema/vega-lite/v4.17.0.json\", \"datasets\": {\"data-fe7c419fd14b5753974ad19cd871ade5\": [{\"overdose_per_100k\": 7.686844687305893, \"ci_low\": -4.135064328831648, \"ci_high\": 19.508753703443432, \"Year\": 2004.0}, {\"overdose_per_100k\": 10.052303266802483, \"ci_low\": 2.5754715099425045, \"ci_high\": 17.529135023662462, \"Year\": 2005.0}, {\"overdose_per_100k\": 12.417761846299072, \"ci_low\": 0.5958528301568737, \"ci_high\": 24.239670862441272, \"Year\": 2006.0}], \"data-be71de59e69e13ff77033e49d37c52a7\": [{\"overdose_per_100k\": 10.675487184020142, \"ci_low\": 0.4394572173405127, \"ci_high\": 20.911517150699773, \"Year\": 2008.0}, {\"overdose_per_100k\": 10.846743107594364, \"ci_low\": 4.372909330193504, \"ci_high\": 17.320576884995223, \"Year\": 2009.0}, {\"overdose_per_100k\": 11.017999031168529, \"ci_low\": 0.7819690644888997, \"ci_high\": 21.25402899784816, \"Year\": 2010.0}], \"data-666077794fe9b0ba4baa1b4b43e5789c\": [{\"Date\": 2007, \"color\": \"black\"}]}}, {\"mode\": \"vega-lite\"});\n",
       "</script>"
      ],
      "text/plain": [
       "alt.LayerChart(...)"
      ]
     },
     "execution_count": 195,
     "metadata": {},
     "output_type": "execute_result"
    }
   ],
   "source": [
    "# test the function\n",
    "# may remove title parameters later - not really necessary as we aren't plotting this part in our final analysis\n",
    "# however, if we can't add a title to our fit/regression line charts, we may need to add them here\n",
    "base_before, base_after = get_charts(b4 = tx_b4_preds, after = tx_after_preds, title_b4 = \"Texas - Overdose Deaths Before and After Policy\", title_after=\"Deaths After Policy Implementation\", color=\"blue\")\n",
    "base_before + base_after + line + tx_b4_bands + tx_after_bands"
   ]
  },
  {
   "cell_type": "code",
   "execution_count": null,
   "metadata": {},
   "outputs": [],
   "source": []
  },
  {
   "cell_type": "code",
   "execution_count": null,
   "metadata": {},
   "outputs": [],
   "source": []
  },
  {
   "cell_type": "code",
   "execution_count": 196,
   "metadata": {},
   "outputs": [],
   "source": [
    "# same for comparison states (diff in diff)"
   ]
  },
  {
   "cell_type": "code",
   "execution_count": 197,
   "metadata": {},
   "outputs": [
    {
     "data": {
      "text/html": [
       "<div>\n",
       "<style scoped>\n",
       "    .dataframe tbody tr th:only-of-type {\n",
       "        vertical-align: middle;\n",
       "    }\n",
       "\n",
       "    .dataframe tbody tr th {\n",
       "        vertical-align: top;\n",
       "    }\n",
       "\n",
       "    .dataframe thead th {\n",
       "        text-align: right;\n",
       "    }\n",
       "</style>\n",
       "<table border=\"1\" class=\"dataframe\">\n",
       "  <thead>\n",
       "    <tr style=\"text-align: right;\">\n",
       "      <th></th>\n",
       "      <th>overdose_per_100k</th>\n",
       "      <th>ci_low</th>\n",
       "      <th>ci_high</th>\n",
       "      <th>Year</th>\n",
       "    </tr>\n",
       "  </thead>\n",
       "  <tbody>\n",
       "    <tr>\n",
       "      <th>0</th>\n",
       "      <td>8.100566</td>\n",
       "      <td>1.599863</td>\n",
       "      <td>14.601270</td>\n",
       "      <td>2004.0</td>\n",
       "    </tr>\n",
       "    <tr>\n",
       "      <th>1</th>\n",
       "      <td>9.413088</td>\n",
       "      <td>5.301682</td>\n",
       "      <td>13.524494</td>\n",
       "      <td>2005.0</td>\n",
       "    </tr>\n",
       "    <tr>\n",
       "      <th>2</th>\n",
       "      <td>10.725610</td>\n",
       "      <td>4.224906</td>\n",
       "      <td>17.226313</td>\n",
       "      <td>2006.0</td>\n",
       "    </tr>\n",
       "  </tbody>\n",
       "</table>\n",
       "</div>"
      ],
      "text/plain": [
       "   overdose_per_100k    ci_low    ci_high    Year\n",
       "0           8.100566  1.599863  14.601270  2004.0\n",
       "1           9.413088  5.301682  13.524494  2005.0\n",
       "2          10.725610  4.224906  17.226313  2006.0"
      ]
     },
     "execution_count": 197,
     "metadata": {},
     "output_type": "execute_result"
    }
   ],
   "source": [
    "comp_b4_preds"
   ]
  },
  {
   "cell_type": "code",
   "execution_count": 198,
   "metadata": {},
   "outputs": [],
   "source": [
    "comp_b4_preds = get_preds(comp_b4, x, y)\n",
    "comp_after_preds = get_preds(comp_after, x, y)"
   ]
  },
  {
   "cell_type": "code",
   "execution_count": 199,
   "metadata": {},
   "outputs": [],
   "source": [
    "comp_b4_bands = get_ci_chart(comp_b4_preds, x, y, \"green\")\n",
    "comp_after_bands = get_ci_chart(comp_after_preds, x, y, \"green\")"
   ]
  },
  {
   "cell_type": "code",
   "execution_count": 201,
   "metadata": {},
   "outputs": [
    {
     "data": {
      "text/html": [
       "\n",
       "<div id=\"altair-viz-ff381b0f0aea4a31a99548f4505c9362\"></div>\n",
       "<script type=\"text/javascript\">\n",
       "  var VEGA_DEBUG = (typeof VEGA_DEBUG == \"undefined\") ? {} : VEGA_DEBUG;\n",
       "  (function(spec, embedOpt){\n",
       "    let outputDiv = document.currentScript.previousElementSibling;\n",
       "    if (outputDiv.id !== \"altair-viz-ff381b0f0aea4a31a99548f4505c9362\") {\n",
       "      outputDiv = document.getElementById(\"altair-viz-ff381b0f0aea4a31a99548f4505c9362\");\n",
       "    }\n",
       "    const paths = {\n",
       "      \"vega\": \"https://cdn.jsdelivr.net/npm//vega@5?noext\",\n",
       "      \"vega-lib\": \"https://cdn.jsdelivr.net/npm//vega-lib?noext\",\n",
       "      \"vega-lite\": \"https://cdn.jsdelivr.net/npm//vega-lite@4.17.0?noext\",\n",
       "      \"vega-embed\": \"https://cdn.jsdelivr.net/npm//vega-embed@6?noext\",\n",
       "    };\n",
       "\n",
       "    function maybeLoadScript(lib, version) {\n",
       "      var key = `${lib.replace(\"-\", \"\")}_version`;\n",
       "      return (VEGA_DEBUG[key] == version) ?\n",
       "        Promise.resolve(paths[lib]) :\n",
       "        new Promise(function(resolve, reject) {\n",
       "          var s = document.createElement('script');\n",
       "          document.getElementsByTagName(\"head\")[0].appendChild(s);\n",
       "          s.async = true;\n",
       "          s.onload = () => {\n",
       "            VEGA_DEBUG[key] = version;\n",
       "            return resolve(paths[lib]);\n",
       "          };\n",
       "          s.onerror = () => reject(`Error loading script: ${paths[lib]}`);\n",
       "          s.src = paths[lib];\n",
       "        });\n",
       "    }\n",
       "\n",
       "    function showError(err) {\n",
       "      outputDiv.innerHTML = `<div class=\"error\" style=\"color:red;\">${err}</div>`;\n",
       "      throw err;\n",
       "    }\n",
       "\n",
       "    function displayChart(vegaEmbed) {\n",
       "      vegaEmbed(outputDiv, spec, embedOpt)\n",
       "        .catch(err => showError(`Javascript Error: ${err.message}<br>This usually means there's a typo in your chart specification. See the javascript console for the full traceback.`));\n",
       "    }\n",
       "\n",
       "    if(typeof define === \"function\" && define.amd) {\n",
       "      requirejs.config({paths});\n",
       "      require([\"vega-embed\"], displayChart, err => showError(`Error loading script: ${err.message}`));\n",
       "    } else {\n",
       "      maybeLoadScript(\"vega\", \"5\")\n",
       "        .then(() => maybeLoadScript(\"vega-lite\", \"4.17.0\"))\n",
       "        .then(() => maybeLoadScript(\"vega-embed\", \"6\"))\n",
       "        .catch(showError)\n",
       "        .then(() => displayChart(vegaEmbed));\n",
       "    }\n",
       "  })({\"config\": {\"view\": {\"continuousWidth\": 400, \"continuousHeight\": 300}}, \"layer\": [{\"data\": {\"name\": \"data-fe7c419fd14b5753974ad19cd871ade5\"}, \"mark\": \"line\", \"encoding\": {\"color\": {\"value\": \"blue\"}, \"x\": {\"field\": \"Year\", \"scale\": {\"zero\": false}, \"type\": \"quantitative\"}, \"y\": {\"field\": \"overdose_per_100k\", \"scale\": {\"zero\": false}, \"type\": \"quantitative\"}}, \"title\": \"Texas - Overdose Deaths Before and After Policy\", \"transform\": [{\"on\": \"Year\", \"regression\": \"overdose_per_100k\"}]}, {\"data\": {\"name\": \"data-be71de59e69e13ff77033e49d37c52a7\"}, \"mark\": \"line\", \"encoding\": {\"color\": {\"value\": \"blue\"}, \"x\": {\"field\": \"Year\", \"scale\": {\"zero\": false}, \"title\": \"Year (relative to policy)\", \"type\": \"quantitative\"}, \"y\": {\"field\": \"overdose_per_100k\", \"scale\": {\"zero\": false}, \"title\": \"Overdoses per 100k\", \"type\": \"quantitative\"}}, \"title\": \"Deaths After Policy Implementation\", \"transform\": [{\"on\": \"Year\", \"regression\": \"overdose_per_100k\"}]}, {\"data\": {\"name\": \"data-62d981b68ebd7f65df9a4b0a584a51e9\"}, \"mark\": \"line\", \"encoding\": {\"color\": {\"value\": \"green\"}, \"x\": {\"field\": \"Year\", \"scale\": {\"zero\": false}, \"type\": \"quantitative\"}, \"y\": {\"field\": \"overdose_per_100k\", \"scale\": {\"zero\": false}, \"type\": \"quantitative\"}}, \"title\": \"deaths before policy\", \"transform\": [{\"on\": \"Year\", \"regression\": \"overdose_per_100k\"}]}, {\"data\": {\"name\": \"data-74ccafe748a9450759f9365f6e0db46a\"}, \"mark\": \"line\", \"encoding\": {\"color\": {\"value\": \"green\"}, \"x\": {\"field\": \"Year\", \"scale\": {\"zero\": false}, \"title\": \"Year (relative to policy)\", \"type\": \"quantitative\"}, \"y\": {\"field\": \"overdose_per_100k\", \"scale\": {\"zero\": false}, \"title\": \"Overdoses per 100k\", \"type\": \"quantitative\"}}, \"title\": \"deaths after policy\", \"transform\": [{\"on\": \"Year\", \"regression\": \"overdose_per_100k\"}]}, {\"data\": {\"name\": \"data-666077794fe9b0ba4baa1b4b43e5789c\"}, \"mark\": \"rule\", \"encoding\": {\"color\": {\"field\": \"color\", \"scale\": null, \"type\": \"nominal\"}, \"x\": {\"field\": \"Date\", \"type\": \"quantitative\"}}}, {\"data\": {\"name\": \"data-fe7c419fd14b5753974ad19cd871ade5\"}, \"mark\": \"errorband\", \"encoding\": {\"color\": {\"value\": \"blue\"}, \"x\": {\"field\": \"Year\", \"type\": \"quantitative\"}, \"y\": {\"field\": \"ci_low\", \"title\": \"overdose_per_100k\", \"type\": \"quantitative\"}, \"y2\": {\"field\": \"ci_high\"}}}, {\"data\": {\"name\": \"data-be71de59e69e13ff77033e49d37c52a7\"}, \"mark\": \"errorband\", \"encoding\": {\"color\": {\"value\": \"blue\"}, \"x\": {\"field\": \"Year\", \"type\": \"quantitative\"}, \"y\": {\"field\": \"ci_low\", \"title\": \"overdose_per_100k\", \"type\": \"quantitative\"}, \"y2\": {\"field\": \"ci_high\"}}}, {\"data\": {\"name\": \"data-62d981b68ebd7f65df9a4b0a584a51e9\"}, \"mark\": \"errorband\", \"encoding\": {\"color\": {\"value\": \"green\"}, \"x\": {\"field\": \"Year\", \"type\": \"quantitative\"}, \"y\": {\"field\": \"ci_low\", \"title\": \"overdose_per_100k\", \"type\": \"quantitative\"}, \"y2\": {\"field\": \"ci_high\"}}}, {\"data\": {\"name\": \"data-74ccafe748a9450759f9365f6e0db46a\"}, \"mark\": \"errorband\", \"encoding\": {\"color\": {\"value\": \"green\"}, \"x\": {\"field\": \"Year\", \"type\": \"quantitative\"}, \"y\": {\"field\": \"ci_low\", \"title\": \"overdose_per_100k\", \"type\": \"quantitative\"}, \"y2\": {\"field\": \"ci_high\"}}}], \"$schema\": \"https://vega.github.io/schema/vega-lite/v4.17.0.json\", \"datasets\": {\"data-fe7c419fd14b5753974ad19cd871ade5\": [{\"overdose_per_100k\": 7.686844687305893, \"ci_low\": -4.135064328831648, \"ci_high\": 19.508753703443432, \"Year\": 2004.0}, {\"overdose_per_100k\": 10.052303266802483, \"ci_low\": 2.5754715099425045, \"ci_high\": 17.529135023662462, \"Year\": 2005.0}, {\"overdose_per_100k\": 12.417761846299072, \"ci_low\": 0.5958528301568737, \"ci_high\": 24.239670862441272, \"Year\": 2006.0}], \"data-be71de59e69e13ff77033e49d37c52a7\": [{\"overdose_per_100k\": 10.675487184020142, \"ci_low\": 0.4394572173405127, \"ci_high\": 20.911517150699773, \"Year\": 2008.0}, {\"overdose_per_100k\": 10.846743107594364, \"ci_low\": 4.372909330193504, \"ci_high\": 17.320576884995223, \"Year\": 2009.0}, {\"overdose_per_100k\": 11.017999031168529, \"ci_low\": 0.7819690644888997, \"ci_high\": 21.25402899784816, \"Year\": 2010.0}], \"data-62d981b68ebd7f65df9a4b0a584a51e9\": [{\"overdose_per_100k\": 8.100566049251483, \"ci_low\": 1.599862507571884, \"ci_high\": 14.601269590931082, \"Year\": 2004.0}, {\"overdose_per_100k\": 9.413087800140602, \"ci_low\": 5.301681882731401, \"ci_high\": 13.524493717549802, \"Year\": 2005.0}, {\"overdose_per_100k\": 10.72560955102972, \"ci_low\": 4.224906009348003, \"ci_high\": 17.226313092711436, \"Year\": 2006.0}], \"data-74ccafe748a9450759f9365f6e0db46a\": [{\"overdose_per_100k\": 11.36760029786069, \"ci_low\": 9.403748268210597, \"ci_high\": 13.331452327510783, \"Year\": 2008.0}, {\"overdose_per_100k\": 11.899012021176304, \"ci_low\": 10.65696294140261, \"ci_high\": 13.14106110095, \"Year\": 2009.0}, {\"overdose_per_100k\": 12.430423744492145, \"ci_low\": 10.466571714842344, \"ci_high\": 14.394275774141947, \"Year\": 2010.0}], \"data-666077794fe9b0ba4baa1b4b43e5789c\": [{\"Date\": 2007, \"color\": \"black\"}]}}, {\"mode\": \"vega-lite\"});\n",
       "</script>"
      ],
      "text/plain": [
       "alt.LayerChart(...)"
      ]
     },
     "execution_count": 201,
     "metadata": {},
     "output_type": "execute_result"
    }
   ],
   "source": [
    "comp_before, comp_after = get_charts(b4 = comp_b4_preds, after = comp_after_preds, title_b4 = \"deaths before policy\", title_after=\"deaths after policy\", color=\"green\")\n",
    "base_before + base_after + comp_before + comp_after + line + tx_b4_bands + tx_after_bands + comp_b4_bands + comp_after_bands"
   ]
  }
 ],
 "metadata": {
  "kernelspec": {
   "display_name": "Python 3.9.6 64-bit",
   "language": "python",
   "name": "python3"
  },
  "language_info": {
   "codemirror_mode": {
    "name": "ipython",
    "version": 3
   },
   "file_extension": ".py",
   "mimetype": "text/x-python",
   "name": "python",
   "nbconvert_exporter": "python",
   "pygments_lexer": "ipython3",
   "version": "3.9.6"
  },
  "orig_nbformat": 4,
  "vscode": {
   "interpreter": {
    "hash": "49aa7209ac0e1a36a89cb04290394fd089cb5ce56cb44c9d4652c0180c6152a2"
   }
  }
 },
 "nbformat": 4,
 "nbformat_minor": 2
}
