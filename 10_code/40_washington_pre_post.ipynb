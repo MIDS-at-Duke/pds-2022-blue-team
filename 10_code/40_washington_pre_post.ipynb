{
 "cells": [
  {
   "cell_type": "code",
   "execution_count": 1,
   "metadata": {},
   "outputs": [],
   "source": [
    "import numpy as np\n",
    "import pandas as pd\n",
    "import altair as alt\n",
    "import matplotlib.pyplot as plt\n",
    "import statsmodels.api as sm\n",
    "import statsmodels.formula.api as smf"
   ]
  },
  {
   "cell_type": "code",
   "execution_count": 2,
   "metadata": {},
   "outputs": [],
   "source": [
    "deaths = pd.read_csv(\"../05_cleaned_data/deaths_wa.csv\")"
   ]
  },
  {
   "cell_type": "code",
   "execution_count": 3,
   "metadata": {},
   "outputs": [
    {
     "data": {
      "text/plain": [
       "Washington    570\n",
       "Oregon        469\n",
       "Montana       421\n",
       "Idaho         366\n",
       "Wyoming       195\n",
       "Nevada        190\n",
       "Name: StateName, dtype: int64"
      ]
     },
     "execution_count": 3,
     "metadata": {},
     "output_type": "execute_result"
    }
   ],
   "source": [
    "deaths[\"StateName\"].value_counts()"
   ]
  },
  {
   "cell_type": "code",
   "execution_count": 4,
   "metadata": {},
   "outputs": [
    {
     "data": {
      "text/plain": [
       "Index(['County', 'County Code', 'Year', 'Year Code',\n",
       "       'Drug/Alcohol Induced Cause', 'Drug/Alcohol Induced Cause Code',\n",
       "       'Deaths', 'State', 'StateFIPS', 'CountyName', 'StateName', 'CountyFIPS',\n",
       "       'StateAbbr', 'STATE_COUNTY', 'state_abbrev', 'FIP_unique', 'Population',\n",
       "       'county_test'],\n",
       "      dtype='object')"
      ]
     },
     "execution_count": 4,
     "metadata": {},
     "output_type": "execute_result"
    }
   ],
   "source": [
    "deaths.columns"
   ]
  },
  {
   "cell_type": "code",
   "execution_count": 5,
   "metadata": {},
   "outputs": [
    {
     "data": {
      "text/plain": [
       "array(['Drug poisonings (overdose) Unintentional (X40-X44)',\n",
       "       'Drug poisonings (overdose) Suicide (X60-X64)',\n",
       "       'All other alcohol-induced causes',\n",
       "       'All other non-drug and non-alcohol causes',\n",
       "       'Drug poisonings (overdose) Undetermined (Y10-Y14)',\n",
       "       'All other drug-induced causes',\n",
       "       'Alcohol poisonings (overdose) (X45, X65, Y15)'], dtype=object)"
      ]
     },
     "execution_count": 5,
     "metadata": {},
     "output_type": "execute_result"
    }
   ],
   "source": [
    "deaths[\"Drug/Alcohol Induced Cause\"].unique()"
   ]
  },
  {
   "cell_type": "code",
   "execution_count": 6,
   "metadata": {},
   "outputs": [],
   "source": [
    "washington = deaths[deaths[\"StateName\"] == \"Washington\"]\n",
    "comp = deaths[deaths[\"StateName\"] != \"Washington\"]"
   ]
  },
  {
   "cell_type": "code",
   "execution_count": 7,
   "metadata": {},
   "outputs": [],
   "source": [
    "wa_deaths = washington.copy()\n",
    "comp_deaths = comp.copy()"
   ]
  },
  {
   "cell_type": "code",
   "execution_count": 8,
   "metadata": {},
   "outputs": [],
   "source": [
    "overdose_list = ['Drug poisonings (overdose) Unintentional (X40-X44)',\n",
    "       'Drug poisonings (overdose) Suicide (X60-X64)',\n",
    "       'Drug poisonings (overdose) Undetermined (Y10-Y14)',\n",
    "       'Alcohol poisonings (overdose) (X45, X65, Y15)']"
   ]
  },
  {
   "cell_type": "code",
   "execution_count": 9,
   "metadata": {},
   "outputs": [],
   "source": [
    "wa_deaths[\"overdose\"] = 0\n",
    "comp_deaths[\"overdose\"] = 0"
   ]
  },
  {
   "cell_type": "code",
   "execution_count": 10,
   "metadata": {},
   "outputs": [],
   "source": [
    "wa_deaths.loc[wa_deaths[\"Drug/Alcohol Induced Cause\"].isin(overdose_list), \"overdose\"] = 1\n",
    "comp_deaths.loc[comp_deaths[\"Drug/Alcohol Induced Cause\"].isin(overdose_list), \"overdose\"] = 1"
   ]
  },
  {
   "cell_type": "code",
   "execution_count": 11,
   "metadata": {},
   "outputs": [],
   "source": [
    "wa_deaths = wa_deaths[wa_deaths[\"overdose\"] == 1]\n",
    "comp_deaths = comp_deaths[comp_deaths[\"overdose\"] == 1]"
   ]
  },
  {
   "cell_type": "code",
   "execution_count": 12,
   "metadata": {},
   "outputs": [],
   "source": [
    "wa_deaths[\"overdose_per_100k\"] = wa_deaths[\"Deaths\"] / wa_deaths[\"Population\"] * 100_000\n",
    "comp_deaths[\"overdose_per_100k\"] = comp_deaths[\"Deaths\"] / comp_deaths[\"Population\"] * 100_000"
   ]
  },
  {
   "cell_type": "code",
   "execution_count": 13,
   "metadata": {},
   "outputs": [],
   "source": [
    "wa_result = wa_deaths.groupby([\"Year\", \"County\"])[\"overdose_per_100k\"].sum().reset_index()\n",
    "comp_result = comp_deaths.groupby([\"Year\", \"StateName\", \"CountyName\"])[\"overdose_per_100k\"].sum().reset_index()"
   ]
  },
  {
   "cell_type": "code",
   "execution_count": 14,
   "metadata": {},
   "outputs": [],
   "source": [
    "wa_stats = wa_deaths.groupby([\"Year\"])[\"overdose_per_100k\"].mean().reset_index()\n",
    "comp_stats = comp_deaths.groupby([\"Year\"])[\"overdose_per_100k\"].mean().reset_index()"
   ]
  },
  {
   "cell_type": "code",
   "execution_count": null,
   "metadata": {},
   "outputs": [],
   "source": [
    "wa_res = pd.DataFrame(wa_stats.describe()[\"overdose_per_100k\"]).rename(columns={\"overdose_per_100k\": \"Overdoses per 100k Residents - Washington\"})\n",
    "comp_res = pd.DataFrame(comp_stats.describe()[\"overdose_per_100k\"]).rename(columns={\"overdose_per_100k\": \"Overdoses per 100k Residents - Comp States\"})\n",
    "stats = pd.concat([wa_res, comp_res], axis=1)\n",
    "stats"
   ]
  },
  {
   "cell_type": "code",
   "execution_count": 43,
   "metadata": {},
   "outputs": [
    {
     "data": {
      "text/html": [
       "\n",
       "<div id=\"altair-viz-6da88d3f903e4c6c872a7e67d30fe784\"></div>\n",
       "<script type=\"text/javascript\">\n",
       "  var VEGA_DEBUG = (typeof VEGA_DEBUG == \"undefined\") ? {} : VEGA_DEBUG;\n",
       "  (function(spec, embedOpt){\n",
       "    let outputDiv = document.currentScript.previousElementSibling;\n",
       "    if (outputDiv.id !== \"altair-viz-6da88d3f903e4c6c872a7e67d30fe784\") {\n",
       "      outputDiv = document.getElementById(\"altair-viz-6da88d3f903e4c6c872a7e67d30fe784\");\n",
       "    }\n",
       "    const paths = {\n",
       "      \"vega\": \"https://cdn.jsdelivr.net/npm//vega@5?noext\",\n",
       "      \"vega-lib\": \"https://cdn.jsdelivr.net/npm//vega-lib?noext\",\n",
       "      \"vega-lite\": \"https://cdn.jsdelivr.net/npm//vega-lite@4.17.0?noext\",\n",
       "      \"vega-embed\": \"https://cdn.jsdelivr.net/npm//vega-embed@6?noext\",\n",
       "    };\n",
       "\n",
       "    function maybeLoadScript(lib, version) {\n",
       "      var key = `${lib.replace(\"-\", \"\")}_version`;\n",
       "      return (VEGA_DEBUG[key] == version) ?\n",
       "        Promise.resolve(paths[lib]) :\n",
       "        new Promise(function(resolve, reject) {\n",
       "          var s = document.createElement('script');\n",
       "          document.getElementsByTagName(\"head\")[0].appendChild(s);\n",
       "          s.async = true;\n",
       "          s.onload = () => {\n",
       "            VEGA_DEBUG[key] = version;\n",
       "            return resolve(paths[lib]);\n",
       "          };\n",
       "          s.onerror = () => reject(`Error loading script: ${paths[lib]}`);\n",
       "          s.src = paths[lib];\n",
       "        });\n",
       "    }\n",
       "\n",
       "    function showError(err) {\n",
       "      outputDiv.innerHTML = `<div class=\"error\" style=\"color:red;\">${err}</div>`;\n",
       "      throw err;\n",
       "    }\n",
       "\n",
       "    function displayChart(vegaEmbed) {\n",
       "      vegaEmbed(outputDiv, spec, embedOpt)\n",
       "        .catch(err => showError(`Javascript Error: ${err.message}<br>This usually means there's a typo in your chart specification. See the javascript console for the full traceback.`));\n",
       "    }\n",
       "\n",
       "    if(typeof define === \"function\" && define.amd) {\n",
       "      requirejs.config({paths});\n",
       "      require([\"vega-embed\"], displayChart, err => showError(`Error loading script: ${err.message}`));\n",
       "    } else {\n",
       "      maybeLoadScript(\"vega\", \"5\")\n",
       "        .then(() => maybeLoadScript(\"vega-lite\", \"4.17.0\"))\n",
       "        .then(() => maybeLoadScript(\"vega-embed\", \"6\"))\n",
       "        .catch(showError)\n",
       "        .then(() => displayChart(vegaEmbed));\n",
       "    }\n",
       "  })({\"config\": {\"view\": {\"continuousWidth\": 400, \"continuousHeight\": 300}}, \"layer\": [{\"mark\": \"point\", \"encoding\": {\"x\": {\"field\": \"Year\", \"scale\": {\"zero\": false}, \"type\": \"ordinal\"}, \"y\": {\"field\": \"mean_overdose\", \"scale\": {\"zero\": false}, \"type\": \"quantitative\"}}, \"transform\": [{\"aggregate\": [{\"op\": \"mean\", \"field\": \"overdose_per_100k\", \"as\": \"mean_overdose\"}], \"groupby\": [\"Year\"]}]}, {\"mark\": \"line\", \"encoding\": {\"x\": {\"field\": \"Year\", \"scale\": {\"zero\": false}, \"type\": \"ordinal\"}, \"y\": {\"field\": \"mean_overdose\", \"scale\": {\"zero\": false}, \"type\": \"quantitative\"}}, \"transform\": [{\"aggregate\": [{\"op\": \"mean\", \"field\": \"overdose_per_100k\", \"as\": \"mean_overdose\"}], \"groupby\": [\"Year\"]}, {\"on\": \"Year\", \"regression\": \"mean_overdose\", \"method\": \"linear\"}]}, {\"data\": {\"name\": \"data-f55a150dc32fdc83c8e30ac57d2f4b8e\"}, \"mark\": \"point\", \"encoding\": {\"x\": {\"field\": \"Year\", \"scale\": {\"zero\": false}, \"type\": \"ordinal\"}, \"y\": {\"field\": \"mean_overdose\", \"scale\": {\"zero\": false}, \"type\": \"quantitative\"}}, \"transform\": [{\"aggregate\": [{\"op\": \"mean\", \"field\": \"overdose_per_100k\", \"as\": \"mean_overdose\"}], \"groupby\": [\"Year\"]}]}, {\"data\": {\"name\": \"data-f55a150dc32fdc83c8e30ac57d2f4b8e\"}, \"mark\": \"line\", \"encoding\": {\"x\": {\"field\": \"Year\", \"scale\": {\"zero\": false}, \"type\": \"ordinal\"}, \"y\": {\"field\": \"mean_overdose\", \"scale\": {\"zero\": false}, \"type\": \"quantitative\"}}, \"transform\": [{\"aggregate\": [{\"op\": \"mean\", \"field\": \"overdose_per_100k\", \"as\": \"mean_overdose\"}], \"groupby\": [\"Year\"]}, {\"on\": \"Year\", \"regression\": \"mean_overdose\", \"method\": \"linear\"}]}], \"data\": {\"name\": \"data-e0672e990363b7365f253ebfee6e5c49\"}, \"$schema\": \"https://vega.github.io/schema/vega-lite/v4.17.0.json\", \"datasets\": {\"data-e0672e990363b7365f253ebfee6e5c49\": [{\"County\": \"Benton\", \"County Code\": 53005.0, \"Year\": 2009.0, \"Year Code\": 2009.0, \"Drug/Alcohol Induced Cause\": \"Drug poisonings (overdose) Unintentional (X40-X44)\", \"Drug/Alcohol Induced Cause Code\": \"D1\", \"Deaths\": 17.0, \"State\": \"WA\", \"StateFIPS\": 53, \"CountyName\": \"Benton\", \"StateName\": \"Washington\", \"CountyFIPS\": 53005, \"StateAbbr\": \"WA\", \"STATE_COUNTY\": \"WA | BENTON\", \"state_abbrev\": \"WA\", \"FIP_unique\": 5300553, \"Population\": 171122.0, \"county_test\": \"Benton\", \"overdose\": 1, \"overdose_per_100k\": 9.934432743890325}, {\"County\": \"Benton\", \"County Code\": 53005.0, \"Year\": 2010.0, \"Year Code\": 2010.0, \"Drug/Alcohol Induced Cause\": \"Drug poisonings (overdose) Unintentional (X40-X44)\", \"Drug/Alcohol Induced Cause Code\": \"D1\", \"Deaths\": 10.0, \"State\": \"WA\", \"StateFIPS\": 53, \"CountyName\": \"Benton\", \"StateName\": \"Washington\", \"CountyFIPS\": 53005, \"StateAbbr\": \"WA\", \"STATE_COUNTY\": \"WA | BENTON\", \"state_abbrev\": \"WA\", \"FIP_unique\": 5300553, \"Population\": 176465.0, \"county_test\": \"Benton\", \"overdose\": 1, \"overdose_per_100k\": 5.666846116793698}, {\"County\": \"Benton\", \"County Code\": 53005.0, \"Year\": 2011.0, \"Year Code\": 2011.0, \"Drug/Alcohol Induced Cause\": \"Drug poisonings (overdose) Unintentional (X40-X44)\", \"Drug/Alcohol Induced Cause Code\": \"D1\", \"Deaths\": 16.0, \"State\": \"WA\", \"StateFIPS\": 53, \"CountyName\": \"Benton\", \"StateName\": \"Washington\", \"CountyFIPS\": 53005, \"StateAbbr\": \"WA\", \"STATE_COUNTY\": \"WA | BENTON\", \"state_abbrev\": \"WA\", \"FIP_unique\": 5300553, \"Population\": 180436.0, \"county_test\": \"Benton\", \"overdose\": 1, \"overdose_per_100k\": 8.867410051209294}, {\"County\": \"Chelan\", \"County Code\": 53007.0, \"Year\": 2010.0, \"Year Code\": 2010.0, \"Drug/Alcohol Induced Cause\": \"Drug poisonings (overdose) Unintentional (X40-X44)\", \"Drug/Alcohol Induced Cause Code\": \"D1\", \"Deaths\": 11.0, \"State\": \"WA\", \"StateFIPS\": 53, \"CountyName\": \"Chelan\", \"StateName\": \"Washington\", \"CountyFIPS\": 53007, \"StateAbbr\": \"WA\", \"STATE_COUNTY\": \"WA | CHELAN\", \"state_abbrev\": \"WA\", \"FIP_unique\": 5300753, \"Population\": 72750.0, \"county_test\": \"Chelan\", \"overdose\": 1, \"overdose_per_100k\": 15.120274914089347}, {\"County\": \"Chelan\", \"County Code\": 53007.0, \"Year\": 2011.0, \"Year Code\": 2011.0, \"Drug/Alcohol Induced Cause\": \"Drug poisonings (overdose) Unintentional (X40-X44)\", \"Drug/Alcohol Induced Cause Code\": \"D1\", \"Deaths\": 10.0, \"State\": \"WA\", \"StateFIPS\": 53, \"CountyName\": \"Chelan\", \"StateName\": \"Washington\", \"CountyFIPS\": 53007, \"StateAbbr\": \"WA\", \"STATE_COUNTY\": \"WA | CHELAN\", \"state_abbrev\": \"WA\", \"FIP_unique\": 5300753, \"Population\": 73214.0, \"county_test\": \"Chelan\", \"overdose\": 1, \"overdose_per_100k\": 13.658589887180048}, {\"County\": \"Clallam\", \"County Code\": 53009.0, \"Year\": 2009.0, \"Year Code\": 2009.0, \"Drug/Alcohol Induced Cause\": \"Drug poisonings (overdose) Unintentional (X40-X44)\", \"Drug/Alcohol Induced Cause Code\": \"D1\", \"Deaths\": 13.0, \"State\": \"WA\", \"StateFIPS\": 53, \"CountyName\": \"Clallam\", \"StateName\": \"Washington\", \"CountyFIPS\": 53009, \"StateAbbr\": \"WA\", \"STATE_COUNTY\": \"WA | CLALLAM\", \"state_abbrev\": \"WA\", \"FIP_unique\": 5300953, \"Population\": 71077.0, \"county_test\": \"Clallam\", \"overdose\": 1, \"overdose_per_100k\": 18.290023495645567}, {\"County\": \"Clallam\", \"County Code\": 53009.0, \"Year\": 2010.0, \"Year Code\": 2010.0, \"Drug/Alcohol Induced Cause\": \"Drug poisonings (overdose) Unintentional (X40-X44)\", \"Drug/Alcohol Induced Cause Code\": \"D1\", \"Deaths\": 11.0, \"State\": \"WA\", \"StateFIPS\": 53, \"CountyName\": \"Clallam\", \"StateName\": \"Washington\", \"CountyFIPS\": 53009, \"StateAbbr\": \"WA\", \"STATE_COUNTY\": \"WA | CLALLAM\", \"state_abbrev\": \"WA\", \"FIP_unique\": 5300953, \"Population\": 71503.0, \"county_test\": \"Clallam\", \"overdose\": 1, \"overdose_per_100k\": 15.383969903360697}, {\"County\": \"Clark\", \"County Code\": 53011.0, \"Year\": 2009.0, \"Year Code\": 2009.0, \"Drug/Alcohol Induced Cause\": \"Drug poisonings (overdose) Unintentional (X40-X44)\", \"Drug/Alcohol Induced Cause Code\": \"D1\", \"Deaths\": 44.0, \"State\": \"WA\", \"StateFIPS\": 53, \"CountyName\": \"Clark\", \"StateName\": \"Washington\", \"CountyFIPS\": 53011, \"StateAbbr\": \"WA\", \"STATE_COUNTY\": \"WA | CLARK\", \"state_abbrev\": \"WA\", \"FIP_unique\": 5301153, \"Population\": 421236.0, \"county_test\": \"Clark\", \"overdose\": 1, \"overdose_per_100k\": 10.445451006086849}, {\"County\": \"Clark\", \"County Code\": 53011.0, \"Year\": 2009.0, \"Year Code\": 2009.0, \"Drug/Alcohol Induced Cause\": \"Drug poisonings (overdose) Suicide (X60-X64)\", \"Drug/Alcohol Induced Cause Code\": \"D2\", \"Deaths\": 15.0, \"State\": \"WA\", \"StateFIPS\": 53, \"CountyName\": \"Clark\", \"StateName\": \"Washington\", \"CountyFIPS\": 53011, \"StateAbbr\": \"WA\", \"STATE_COUNTY\": \"WA | CLARK\", \"state_abbrev\": \"WA\", \"FIP_unique\": 5301153, \"Population\": 421236.0, \"county_test\": \"Clark\", \"overdose\": 1, \"overdose_per_100k\": 3.560949206620517}, {\"County\": \"Clark\", \"County Code\": 53011.0, \"Year\": 2010.0, \"Year Code\": 2010.0, \"Drug/Alcohol Induced Cause\": \"Drug poisonings (overdose) Unintentional (X40-X44)\", \"Drug/Alcohol Induced Cause Code\": \"D1\", \"Deaths\": 37.0, \"State\": \"WA\", \"StateFIPS\": 53, \"CountyName\": \"Clark\", \"StateName\": \"Washington\", \"CountyFIPS\": 53011, \"StateAbbr\": \"WA\", \"STATE_COUNTY\": \"WA | CLARK\", \"state_abbrev\": \"WA\", \"FIP_unique\": 5301153, \"Population\": 426704.0, \"county_test\": \"Clark\", \"overdose\": 1, \"overdose_per_100k\": 8.671116277325734}, {\"County\": \"Clark\", \"County Code\": 53011.0, \"Year\": 2010.0, \"Year Code\": 2010.0, \"Drug/Alcohol Induced Cause\": \"Drug poisonings (overdose) Suicide (X60-X64)\", \"Drug/Alcohol Induced Cause Code\": \"D2\", \"Deaths\": 13.0, \"State\": \"WA\", \"StateFIPS\": 53, \"CountyName\": \"Clark\", \"StateName\": \"Washington\", \"CountyFIPS\": 53011, \"StateAbbr\": \"WA\", \"STATE_COUNTY\": \"WA | CLARK\", \"state_abbrev\": \"WA\", \"FIP_unique\": 5301153, \"Population\": 426704.0, \"county_test\": \"Clark\", \"overdose\": 1, \"overdose_per_100k\": 3.0466084217630955}, {\"County\": \"Clark\", \"County Code\": 53011.0, \"Year\": 2011.0, \"Year Code\": 2011.0, \"Drug/Alcohol Induced Cause\": \"Drug poisonings (overdose) Unintentional (X40-X44)\", \"Drug/Alcohol Induced Cause Code\": \"D1\", \"Deaths\": 43.0, \"State\": \"WA\", \"StateFIPS\": 53, \"CountyName\": \"Clark\", \"StateName\": \"Washington\", \"CountyFIPS\": 53011, \"StateAbbr\": \"WA\", \"STATE_COUNTY\": \"WA | CLARK\", \"state_abbrev\": \"WA\", \"FIP_unique\": 5301153, \"Population\": 432283.0, \"county_test\": \"Clark\", \"overdose\": 1, \"overdose_per_100k\": 9.947187374937252}, {\"County\": \"Clark\", \"County Code\": 53011.0, \"Year\": 2011.0, \"Year Code\": 2011.0, \"Drug/Alcohol Induced Cause\": \"Drug poisonings (overdose) Suicide (X60-X64)\", \"Drug/Alcohol Induced Cause Code\": \"D2\", \"Deaths\": 12.0, \"State\": \"WA\", \"StateFIPS\": 53, \"CountyName\": \"Clark\", \"StateName\": \"Washington\", \"CountyFIPS\": 53011, \"StateAbbr\": \"WA\", \"STATE_COUNTY\": \"WA | CLARK\", \"state_abbrev\": \"WA\", \"FIP_unique\": 5301153, \"Population\": 432283.0, \"county_test\": \"Clark\", \"overdose\": 1, \"overdose_per_100k\": 2.775959267424349}, {\"County\": \"Cowlitz\", \"County Code\": 53015.0, \"Year\": 2009.0, \"Year Code\": 2009.0, \"Drug/Alcohol Induced Cause\": \"Drug poisonings (overdose) Unintentional (X40-X44)\", \"Drug/Alcohol Induced Cause Code\": \"D1\", \"Deaths\": 18.0, \"State\": \"WA\", \"StateFIPS\": 53, \"CountyName\": \"Cowlitz\", \"StateName\": \"Washington\", \"CountyFIPS\": 53015, \"StateAbbr\": \"WA\", \"STATE_COUNTY\": \"WA | COWLITZ\", \"state_abbrev\": \"WA\", \"FIP_unique\": 5301553, \"Population\": 102126.0, \"county_test\": \"Cowlitz\", \"overdose\": 1, \"overdose_per_100k\": 17.625286410904177}, {\"County\": \"Cowlitz\", \"County Code\": 53015.0, \"Year\": 2010.0, \"Year Code\": 2010.0, \"Drug/Alcohol Induced Cause\": \"Drug poisonings (overdose) Unintentional (X40-X44)\", \"Drug/Alcohol Induced Cause Code\": \"D1\", \"Deaths\": 14.0, \"State\": \"WA\", \"StateFIPS\": 53, \"CountyName\": \"Cowlitz\", \"StateName\": \"Washington\", \"CountyFIPS\": 53015, \"StateAbbr\": \"WA\", \"STATE_COUNTY\": \"WA | COWLITZ\", \"state_abbrev\": \"WA\", \"FIP_unique\": 5301553, \"Population\": 102358.0, \"county_test\": \"Cowlitz\", \"overdose\": 1, \"overdose_per_100k\": 13.677484905918444}, {\"County\": \"Cowlitz\", \"County Code\": 53015.0, \"Year\": 2011.0, \"Year Code\": 2011.0, \"Drug/Alcohol Induced Cause\": \"Drug poisonings (overdose) Unintentional (X40-X44)\", \"Drug/Alcohol Induced Cause Code\": \"D1\", \"Deaths\": 27.0, \"State\": \"WA\", \"StateFIPS\": 53, \"CountyName\": \"Cowlitz\", \"StateName\": \"Washington\", \"CountyFIPS\": 53015, \"StateAbbr\": \"WA\", \"STATE_COUNTY\": \"WA | COWLITZ\", \"state_abbrev\": \"WA\", \"FIP_unique\": 5301553, \"Population\": 102309.0, \"county_test\": \"Cowlitz\", \"overdose\": 1, \"overdose_per_100k\": 26.390640119637567}, {\"County\": \"Grant\", \"County Code\": 53025.0, \"Year\": 2009.0, \"Year Code\": 2009.0, \"Drug/Alcohol Induced Cause\": \"Drug poisonings (overdose) Unintentional (X40-X44)\", \"Drug/Alcohol Induced Cause Code\": \"D1\", \"Deaths\": 17.0, \"State\": \"WA\", \"StateFIPS\": 53, \"CountyName\": \"Grant\", \"StateName\": \"Washington\", \"CountyFIPS\": 53025, \"StateAbbr\": \"WA\", \"STATE_COUNTY\": \"WA | GRANT\", \"state_abbrev\": \"WA\", \"FIP_unique\": 5302553, \"Population\": 87340.0, \"county_test\": \"Grant\", \"overdose\": 1, \"overdose_per_100k\": 19.464163040989238}, {\"County\": \"Grays Harbor\", \"County Code\": 53027.0, \"Year\": 2009.0, \"Year Code\": 2009.0, \"Drug/Alcohol Induced Cause\": \"Drug poisonings (overdose) Unintentional (X40-X44)\", \"Drug/Alcohol Induced Cause Code\": \"D1\", \"Deaths\": 16.0, \"State\": \"WA\", \"StateFIPS\": 53, \"CountyName\": \"Grays Harbor\", \"StateName\": \"Washington\", \"CountyFIPS\": 53027, \"StateAbbr\": \"WA\", \"STATE_COUNTY\": \"WA | GRAYS HARBOR\", \"state_abbrev\": \"WA\", \"FIP_unique\": 5302753, \"Population\": 72468.0, \"county_test\": \"Grays Harbor\", \"overdose\": 1, \"overdose_per_100k\": 22.078710603300767}, {\"County\": \"Grays Harbor\", \"County Code\": 53027.0, \"Year\": 2011.0, \"Year Code\": 2011.0, \"Drug/Alcohol Induced Cause\": \"Drug poisonings (overdose) Unintentional (X40-X44)\", \"Drug/Alcohol Induced Cause Code\": \"D1\", \"Deaths\": 10.0, \"State\": \"WA\", \"StateFIPS\": 53, \"CountyName\": \"Grays Harbor\", \"StateName\": \"Washington\", \"CountyFIPS\": 53027, \"StateAbbr\": \"WA\", \"STATE_COUNTY\": \"WA | GRAYS HARBOR\", \"state_abbrev\": \"WA\", \"FIP_unique\": 5302753, \"Population\": 72366.0, \"county_test\": \"Grays Harbor\", \"overdose\": 1, \"overdose_per_100k\": 13.818644114639472}, {\"County\": \"King\", \"County Code\": 53033.0, \"Year\": 2009.0, \"Year Code\": 2009.0, \"Drug/Alcohol Induced Cause\": \"Drug poisonings (overdose) Unintentional (X40-X44)\", \"Drug/Alcohol Induced Cause Code\": \"D1\", \"Deaths\": 203.0, \"State\": \"WA\", \"StateFIPS\": 53, \"CountyName\": \"King\", \"StateName\": \"Washington\", \"CountyFIPS\": 53033, \"StateAbbr\": \"WA\", \"STATE_COUNTY\": \"WA | KING\", \"state_abbrev\": \"WA\", \"FIP_unique\": 5303353, \"Population\": 1912012.0, \"county_test\": \"King\", \"overdose\": 1, \"overdose_per_100k\": 10.617088177270855}, {\"County\": \"King\", \"County Code\": 53033.0, \"Year\": 2009.0, \"Year Code\": 2009.0, \"Drug/Alcohol Induced Cause\": \"Drug poisonings (overdose) Suicide (X60-X64)\", \"Drug/Alcohol Induced Cause Code\": \"D2\", \"Deaths\": 28.0, \"State\": \"WA\", \"StateFIPS\": 53, \"CountyName\": \"King\", \"StateName\": \"Washington\", \"CountyFIPS\": 53033, \"StateAbbr\": \"WA\", \"STATE_COUNTY\": \"WA | KING\", \"state_abbrev\": \"WA\", \"FIP_unique\": 5303353, \"Population\": 1912012.0, \"county_test\": \"King\", \"overdose\": 1, \"overdose_per_100k\": 1.464425955485635}, {\"County\": \"King\", \"County Code\": 53033.0, \"Year\": 2010.0, \"Year Code\": 2010.0, \"Drug/Alcohol Induced Cause\": \"Drug poisonings (overdose) Unintentional (X40-X44)\", \"Drug/Alcohol Induced Cause Code\": \"D1\", \"Deaths\": 191.0, \"State\": \"WA\", \"StateFIPS\": 53, \"CountyName\": \"King\", \"StateName\": \"Washington\", \"CountyFIPS\": 53033, \"StateAbbr\": \"WA\", \"STATE_COUNTY\": \"WA | KING\", \"state_abbrev\": \"WA\", \"FIP_unique\": 5303353, \"Population\": 1938351.0, \"county_test\": \"King\", \"overdose\": 1, \"overdose_per_100k\": 9.853736500767921}, {\"County\": \"King\", \"County Code\": 53033.0, \"Year\": 2010.0, \"Year Code\": 2010.0, \"Drug/Alcohol Induced Cause\": \"Drug poisonings (overdose) Suicide (X60-X64)\", \"Drug/Alcohol Induced Cause Code\": \"D2\", \"Deaths\": 47.0, \"State\": \"WA\", \"StateFIPS\": 53, \"CountyName\": \"King\", \"StateName\": \"Washington\", \"CountyFIPS\": 53033, \"StateAbbr\": \"WA\", \"STATE_COUNTY\": \"WA | KING\", \"state_abbrev\": \"WA\", \"FIP_unique\": 5303353, \"Population\": 1938351.0, \"county_test\": \"King\", \"overdose\": 1, \"overdose_per_100k\": 2.424741442597342}, {\"County\": \"King\", \"County Code\": 53033.0, \"Year\": 2010.0, \"Year Code\": 2010.0, \"Drug/Alcohol Induced Cause\": \"Alcohol poisonings (overdose) (X45, X65, Y15)\", \"Drug/Alcohol Induced Cause Code\": \"A1\", \"Deaths\": 12.0, \"State\": \"WA\", \"StateFIPS\": 53, \"CountyName\": \"King\", \"StateName\": \"Washington\", \"CountyFIPS\": 53033, \"StateAbbr\": \"WA\", \"STATE_COUNTY\": \"WA | KING\", \"state_abbrev\": \"WA\", \"FIP_unique\": 5303353, \"Population\": 1938351.0, \"county_test\": \"King\", \"overdose\": 1, \"overdose_per_100k\": 0.6190829215142148}, {\"County\": \"King\", \"County Code\": 53033.0, \"Year\": 2011.0, \"Year Code\": 2011.0, \"Drug/Alcohol Induced Cause\": \"Drug poisonings (overdose) Unintentional (X40-X44)\", \"Drug/Alcohol Induced Cause Code\": \"D1\", \"Deaths\": 179.0, \"State\": \"WA\", \"StateFIPS\": 53, \"CountyName\": \"King\", \"StateName\": \"Washington\", \"CountyFIPS\": 53033, \"StateAbbr\": \"WA\", \"STATE_COUNTY\": \"WA | KING\", \"state_abbrev\": \"WA\", \"FIP_unique\": 5303353, \"Population\": 1974200.0, \"county_test\": \"King\", \"overdose\": 1, \"overdose_per_100k\": 9.066963833451524}, {\"County\": \"King\", \"County Code\": 53033.0, \"Year\": 2011.0, \"Year Code\": 2011.0, \"Drug/Alcohol Induced Cause\": \"Drug poisonings (overdose) Suicide (X60-X64)\", \"Drug/Alcohol Induced Cause Code\": \"D2\", \"Deaths\": 45.0, \"State\": \"WA\", \"StateFIPS\": 53, \"CountyName\": \"King\", \"StateName\": \"Washington\", \"CountyFIPS\": 53033, \"StateAbbr\": \"WA\", \"STATE_COUNTY\": \"WA | KING\", \"state_abbrev\": \"WA\", \"FIP_unique\": 5303353, \"Population\": 1974200.0, \"county_test\": \"King\", \"overdose\": 1, \"overdose_per_100k\": 2.279404315672171}, {\"County\": \"King\", \"County Code\": 53033.0, \"Year\": 2011.0, \"Year Code\": 2011.0, \"Drug/Alcohol Induced Cause\": \"Drug poisonings (overdose) Undetermined (Y10-Y14)\", \"Drug/Alcohol Induced Cause Code\": \"D4\", \"Deaths\": 12.0, \"State\": \"WA\", \"StateFIPS\": 53, \"CountyName\": \"King\", \"StateName\": \"Washington\", \"CountyFIPS\": 53033, \"StateAbbr\": \"WA\", \"STATE_COUNTY\": \"WA | KING\", \"state_abbrev\": \"WA\", \"FIP_unique\": 5303353, \"Population\": 1974200.0, \"county_test\": \"King\", \"overdose\": 1, \"overdose_per_100k\": 0.6078411508459123}, {\"County\": \"Kitsap\", \"County Code\": 53035.0, \"Year\": 2009.0, \"Year Code\": 2009.0, \"Drug/Alcohol Induced Cause\": \"Drug poisonings (overdose) Unintentional (X40-X44)\", \"Drug/Alcohol Induced Cause Code\": \"D1\", \"Deaths\": 24.0, \"State\": \"WA\", \"StateFIPS\": 53, \"CountyName\": \"Kitsap\", \"StateName\": \"Washington\", \"CountyFIPS\": 53035, \"StateAbbr\": \"WA\", \"STATE_COUNTY\": \"WA | KITSAP\", \"state_abbrev\": \"WA\", \"FIP_unique\": 5303553, \"Population\": 248800.0, \"county_test\": \"Kitsap\", \"overdose\": 1, \"overdose_per_100k\": 9.646302250803858}, {\"County\": \"Kitsap\", \"County Code\": 53035.0, \"Year\": 2010.0, \"Year Code\": 2010.0, \"Drug/Alcohol Induced Cause\": \"Drug poisonings (overdose) Unintentional (X40-X44)\", \"Drug/Alcohol Induced Cause Code\": \"D1\", \"Deaths\": 19.0, \"State\": \"WA\", \"StateFIPS\": 53, \"CountyName\": \"Kitsap\", \"StateName\": \"Washington\", \"CountyFIPS\": 53035, \"StateAbbr\": \"WA\", \"STATE_COUNTY\": \"WA | KITSAP\", \"state_abbrev\": \"WA\", \"FIP_unique\": 5303553, \"Population\": 251681.0, \"county_test\": \"Kitsap\", \"overdose\": 1, \"overdose_per_100k\": 7.549238917518604}, {\"County\": \"Kitsap\", \"County Code\": 53035.0, \"Year\": 2011.0, \"Year Code\": 2011.0, \"Drug/Alcohol Induced Cause\": \"Drug poisonings (overdose) Unintentional (X40-X44)\", \"Drug/Alcohol Induced Cause Code\": \"D1\", \"Deaths\": 25.0, \"State\": \"WA\", \"StateFIPS\": 53, \"CountyName\": \"Kitsap\", \"StateName\": \"Washington\", \"CountyFIPS\": 53035, \"StateAbbr\": \"WA\", \"STATE_COUNTY\": \"WA | KITSAP\", \"state_abbrev\": \"WA\", \"FIP_unique\": 5303553, \"Population\": 254297.0, \"county_test\": \"Kitsap\", \"overdose\": 1, \"overdose_per_100k\": 9.831024353413529}, {\"County\": \"Lewis\", \"County Code\": 53041.0, \"Year\": 2009.0, \"Year Code\": 2009.0, \"Drug/Alcohol Induced Cause\": \"Drug poisonings (overdose) Unintentional (X40-X44)\", \"Drug/Alcohol Induced Cause Code\": \"D1\", \"Deaths\": 11.0, \"State\": \"WA\", \"StateFIPS\": 53, \"CountyName\": \"Lewis\", \"StateName\": \"Washington\", \"CountyFIPS\": 53041, \"StateAbbr\": \"WA\", \"STATE_COUNTY\": \"WA | LEWIS\", \"state_abbrev\": \"WA\", \"FIP_unique\": 5304153, \"Population\": 75316.0, \"county_test\": \"Lewis\", \"overdose\": 1, \"overdose_per_100k\": 14.605130383982157}, {\"County\": \"Lewis\", \"County Code\": 53041.0, \"Year\": 2010.0, \"Year Code\": 2010.0, \"Drug/Alcohol Induced Cause\": \"Drug poisonings (overdose) Unintentional (X40-X44)\", \"Drug/Alcohol Induced Cause Code\": \"D1\", \"Deaths\": 11.0, \"State\": \"WA\", \"StateFIPS\": 53, \"CountyName\": \"Lewis\", \"StateName\": \"Washington\", \"CountyFIPS\": 53041, \"StateAbbr\": \"WA\", \"STATE_COUNTY\": \"WA | LEWIS\", \"state_abbrev\": \"WA\", \"FIP_unique\": 5304153, \"Population\": 75502.0, \"county_test\": \"Lewis\", \"overdose\": 1, \"overdose_per_100k\": 14.569150486079838}, {\"County\": \"Lewis\", \"County Code\": 53041.0, \"Year\": 2011.0, \"Year Code\": 2011.0, \"Drug/Alcohol Induced Cause\": \"Drug poisonings (overdose) Unintentional (X40-X44)\", \"Drug/Alcohol Induced Cause Code\": \"D1\", \"Deaths\": 17.0, \"State\": \"WA\", \"StateFIPS\": 53, \"CountyName\": \"Lewis\", \"StateName\": \"Washington\", \"CountyFIPS\": 53041, \"StateAbbr\": \"WA\", \"STATE_COUNTY\": \"WA | LEWIS\", \"state_abbrev\": \"WA\", \"FIP_unique\": 5304153, \"Population\": 75668.0, \"county_test\": \"Lewis\", \"overdose\": 1, \"overdose_per_100k\": 22.46656446582439}, {\"County\": \"Pierce\", \"County Code\": 53053.0, \"Year\": 2009.0, \"Year Code\": 2009.0, \"Drug/Alcohol Induced Cause\": \"Drug poisonings (overdose) Unintentional (X40-X44)\", \"Drug/Alcohol Induced Cause Code\": \"D1\", \"Deaths\": 102.0, \"State\": \"WA\", \"StateFIPS\": 53, \"CountyName\": \"Pierce\", \"StateName\": \"Washington\", \"CountyFIPS\": 53053, \"StateAbbr\": \"WA\", \"STATE_COUNTY\": \"WA | PIERCE\", \"state_abbrev\": \"WA\", \"FIP_unique\": 5305353, \"Population\": 796483.0, \"county_test\": \"Pierce\", \"overdose\": 1, \"overdose_per_100k\": 12.806299695034294}, {\"County\": \"Pierce\", \"County Code\": 53053.0, \"Year\": 2009.0, \"Year Code\": 2009.0, \"Drug/Alcohol Induced Cause\": \"Alcohol poisonings (overdose) (X45, X65, Y15)\", \"Drug/Alcohol Induced Cause Code\": \"A1\", \"Deaths\": 10.0, \"State\": \"WA\", \"StateFIPS\": 53, \"CountyName\": \"Pierce\", \"StateName\": \"Washington\", \"CountyFIPS\": 53053, \"StateAbbr\": \"WA\", \"STATE_COUNTY\": \"WA | PIERCE\", \"state_abbrev\": \"WA\", \"FIP_unique\": 5305353, \"Population\": 796483.0, \"county_test\": \"Pierce\", \"overdose\": 1, \"overdose_per_100k\": 1.2555195779445387}, {\"County\": \"Pierce\", \"County Code\": 53053.0, \"Year\": 2010.0, \"Year Code\": 2010.0, \"Drug/Alcohol Induced Cause\": \"Drug poisonings (overdose) Unintentional (X40-X44)\", \"Drug/Alcohol Induced Cause Code\": \"D1\", \"Deaths\": 84.0, \"State\": \"WA\", \"StateFIPS\": 53, \"CountyName\": \"Pierce\", \"StateName\": \"Washington\", \"CountyFIPS\": 53053, \"StateAbbr\": \"WA\", \"STATE_COUNTY\": \"WA | PIERCE\", \"state_abbrev\": \"WA\", \"FIP_unique\": 5305353, \"Population\": 795390.0, \"county_test\": \"Pierce\", \"overdose\": 1, \"overdose_per_100k\": 10.560856938105834}, {\"County\": \"Pierce\", \"County Code\": 53053.0, \"Year\": 2010.0, \"Year Code\": 2010.0, \"Drug/Alcohol Induced Cause\": \"Drug poisonings (overdose) Suicide (X60-X64)\", \"Drug/Alcohol Induced Cause Code\": \"D2\", \"Deaths\": 29.0, \"State\": \"WA\", \"StateFIPS\": 53, \"CountyName\": \"Pierce\", \"StateName\": \"Washington\", \"CountyFIPS\": 53053, \"StateAbbr\": \"WA\", \"STATE_COUNTY\": \"WA | PIERCE\", \"state_abbrev\": \"WA\", \"FIP_unique\": 5305353, \"Population\": 795390.0, \"county_test\": \"Pierce\", \"overdose\": 1, \"overdose_per_100k\": 3.6460101333936814}, {\"County\": \"Pierce\", \"County Code\": 53053.0, \"Year\": 2011.0, \"Year Code\": 2011.0, \"Drug/Alcohol Induced Cause\": \"Drug poisonings (overdose) Unintentional (X40-X44)\", \"Drug/Alcohol Induced Cause Code\": \"D1\", \"Deaths\": 98.0, \"State\": \"WA\", \"StateFIPS\": 53, \"CountyName\": \"Pierce\", \"StateName\": \"Washington\", \"CountyFIPS\": 53053, \"StateAbbr\": \"WA\", \"STATE_COUNTY\": \"WA | PIERCE\", \"state_abbrev\": \"WA\", \"FIP_unique\": 5305353, \"Population\": 807623.0, \"county_test\": \"Pierce\", \"overdose\": 1, \"overdose_per_100k\": 12.134374578237619}, {\"County\": \"Pierce\", \"County Code\": 53053.0, \"Year\": 2011.0, \"Year Code\": 2011.0, \"Drug/Alcohol Induced Cause\": \"Drug poisonings (overdose) Suicide (X60-X64)\", \"Drug/Alcohol Induced Cause Code\": \"D2\", \"Deaths\": 30.0, \"State\": \"WA\", \"StateFIPS\": 53, \"CountyName\": \"Pierce\", \"StateName\": \"Washington\", \"CountyFIPS\": 53053, \"StateAbbr\": \"WA\", \"STATE_COUNTY\": \"WA | PIERCE\", \"state_abbrev\": \"WA\", \"FIP_unique\": 5305353, \"Population\": 807623.0, \"county_test\": \"Pierce\", \"overdose\": 1, \"overdose_per_100k\": 3.7146044627258017}, {\"County\": \"Skagit\", \"County Code\": 53057.0, \"Year\": 2009.0, \"Year Code\": 2009.0, \"Drug/Alcohol Induced Cause\": \"Drug poisonings (overdose) Unintentional (X40-X44)\", \"Drug/Alcohol Induced Cause Code\": \"D1\", \"Deaths\": 20.0, \"State\": \"WA\", \"StateFIPS\": 53, \"CountyName\": \"Skagit\", \"StateName\": \"Washington\", \"CountyFIPS\": 53057, \"StateAbbr\": \"WA\", \"STATE_COUNTY\": \"WA | SKAGIT\", \"state_abbrev\": \"WA\", \"FIP_unique\": 5305753, \"Population\": 116557.0, \"county_test\": \"Skagit\", \"overdose\": 1, \"overdose_per_100k\": 17.158986590251978}, {\"County\": \"Skagit\", \"County Code\": 53057.0, \"Year\": 2010.0, \"Year Code\": 2010.0, \"Drug/Alcohol Induced Cause\": \"Drug poisonings (overdose) Unintentional (X40-X44)\", \"Drug/Alcohol Induced Cause Code\": \"D1\", \"Deaths\": 16.0, \"State\": \"WA\", \"StateFIPS\": 53, \"CountyName\": \"Skagit\", \"StateName\": \"Washington\", \"CountyFIPS\": 53057, \"StateAbbr\": \"WA\", \"STATE_COUNTY\": \"WA | SKAGIT\", \"state_abbrev\": \"WA\", \"FIP_unique\": 5305753, \"Population\": 116944.0, \"county_test\": \"Skagit\", \"overdose\": 1, \"overdose_per_100k\": 13.681762210972773}, {\"County\": \"Skagit\", \"County Code\": 53057.0, \"Year\": 2011.0, \"Year Code\": 2011.0, \"Drug/Alcohol Induced Cause\": \"Drug poisonings (overdose) Unintentional (X40-X44)\", \"Drug/Alcohol Induced Cause Code\": \"D1\", \"Deaths\": 15.0, \"State\": \"WA\", \"StateFIPS\": 53, \"CountyName\": \"Skagit\", \"StateName\": \"Washington\", \"CountyFIPS\": 53057, \"StateAbbr\": \"WA\", \"STATE_COUNTY\": \"WA | SKAGIT\", \"state_abbrev\": \"WA\", \"FIP_unique\": 5305753, \"Population\": 117578.0, \"county_test\": \"Skagit\", \"overdose\": 1, \"overdose_per_100k\": 12.757488645835105}, {\"County\": \"Snohomish\", \"County Code\": 53061.0, \"Year\": 2009.0, \"Year Code\": 2009.0, \"Drug/Alcohol Induced Cause\": \"Drug poisonings (overdose) Unintentional (X40-X44)\", \"Drug/Alcohol Induced Cause Code\": \"D1\", \"Deaths\": 109.0, \"State\": \"WA\", \"StateFIPS\": 53, \"CountyName\": \"Snohomish\", \"StateName\": \"Washington\", \"CountyFIPS\": 53061, \"StateAbbr\": \"WA\", \"STATE_COUNTY\": \"WA | SNOHOMISH\", \"state_abbrev\": \"WA\", \"FIP_unique\": 5306153, \"Population\": 706302.0, \"county_test\": \"Snohomish\", \"overdose\": 1, \"overdose_per_100k\": 15.432492050142857}, {\"County\": \"Snohomish\", \"County Code\": 53061.0, \"Year\": 2009.0, \"Year Code\": 2009.0, \"Drug/Alcohol Induced Cause\": \"Drug poisonings (overdose) Suicide (X60-X64)\", \"Drug/Alcohol Induced Cause Code\": \"D2\", \"Deaths\": 16.0, \"State\": \"WA\", \"StateFIPS\": 53, \"CountyName\": \"Snohomish\", \"StateName\": \"Washington\", \"CountyFIPS\": 53061, \"StateAbbr\": \"WA\", \"STATE_COUNTY\": \"WA | SNOHOMISH\", \"state_abbrev\": \"WA\", \"FIP_unique\": 5306153, \"Population\": 706302.0, \"county_test\": \"Snohomish\", \"overdose\": 1, \"overdose_per_100k\": 2.265319933965924}, {\"County\": \"Snohomish\", \"County Code\": 53061.0, \"Year\": 2010.0, \"Year Code\": 2010.0, \"Drug/Alcohol Induced Cause\": \"Drug poisonings (overdose) Unintentional (X40-X44)\", \"Drug/Alcohol Induced Cause Code\": \"D1\", \"Deaths\": 89.0, \"State\": \"WA\", \"StateFIPS\": 53, \"CountyName\": \"Snohomish\", \"StateName\": \"Washington\", \"CountyFIPS\": 53061, \"StateAbbr\": \"WA\", \"STATE_COUNTY\": \"WA | SNOHOMISH\", \"state_abbrev\": \"WA\", \"FIP_unique\": 5306153, \"Population\": 715500.0, \"county_test\": \"Snohomish\", \"overdose\": 1, \"overdose_per_100k\": 12.438853948287909}, {\"County\": \"Snohomish\", \"County Code\": 53061.0, \"Year\": 2010.0, \"Year Code\": 2010.0, \"Drug/Alcohol Induced Cause\": \"Drug poisonings (overdose) Suicide (X60-X64)\", \"Drug/Alcohol Induced Cause Code\": \"D2\", \"Deaths\": 19.0, \"State\": \"WA\", \"StateFIPS\": 53, \"CountyName\": \"Snohomish\", \"StateName\": \"Washington\", \"CountyFIPS\": 53061, \"StateAbbr\": \"WA\", \"STATE_COUNTY\": \"WA | SNOHOMISH\", \"state_abbrev\": \"WA\", \"FIP_unique\": 5306153, \"Population\": 715500.0, \"county_test\": \"Snohomish\", \"overdose\": 1, \"overdose_per_100k\": 2.655485674353599}, {\"County\": \"Snohomish\", \"County Code\": 53061.0, \"Year\": 2011.0, \"Year Code\": 2011.0, \"Drug/Alcohol Induced Cause\": \"Drug poisonings (overdose) Unintentional (X40-X44)\", \"Drug/Alcohol Induced Cause Code\": \"D1\", \"Deaths\": 143.0, \"State\": \"WA\", \"StateFIPS\": 53, \"CountyName\": \"Snohomish\", \"StateName\": \"Washington\", \"CountyFIPS\": 53061, \"StateAbbr\": \"WA\", \"STATE_COUNTY\": \"WA | SNOHOMISH\", \"state_abbrev\": \"WA\", \"FIP_unique\": 5306153, \"Population\": 722068.0, \"county_test\": \"Snohomish\", \"overdose\": 1, \"overdose_per_100k\": 19.80422896458505}, {\"County\": \"Snohomish\", \"County Code\": 53061.0, \"Year\": 2011.0, \"Year Code\": 2011.0, \"Drug/Alcohol Induced Cause\": \"Drug poisonings (overdose) Suicide (X60-X64)\", \"Drug/Alcohol Induced Cause Code\": \"D2\", \"Deaths\": 25.0, \"State\": \"WA\", \"StateFIPS\": 53, \"CountyName\": \"Snohomish\", \"StateName\": \"Washington\", \"CountyFIPS\": 53061, \"StateAbbr\": \"WA\", \"STATE_COUNTY\": \"WA | SNOHOMISH\", \"state_abbrev\": \"WA\", \"FIP_unique\": 5306153, \"Population\": 722068.0, \"county_test\": \"Snohomish\", \"overdose\": 1, \"overdose_per_100k\": 3.4622777910113727}, {\"County\": \"Spokane\", \"County Code\": 53063.0, \"Year\": 2009.0, \"Year Code\": 2009.0, \"Drug/Alcohol Induced Cause\": \"Drug poisonings (overdose) Unintentional (X40-X44)\", \"Drug/Alcohol Induced Cause Code\": \"D1\", \"Deaths\": 74.0, \"State\": \"WA\", \"StateFIPS\": 53, \"CountyName\": \"Spokane\", \"StateName\": \"Washington\", \"CountyFIPS\": 53063, \"StateAbbr\": \"WA\", \"STATE_COUNTY\": \"WA | SPOKANE\", \"state_abbrev\": \"WA\", \"FIP_unique\": 5306353, \"Population\": 468235.0, \"county_test\": \"Spokane\", \"overdose\": 1, \"overdose_per_100k\": 15.804030027657053}, {\"County\": \"Spokane\", \"County Code\": 53063.0, \"Year\": 2010.0, \"Year Code\": 2010.0, \"Drug/Alcohol Induced Cause\": \"Drug poisonings (overdose) Unintentional (X40-X44)\", \"Drug/Alcohol Induced Cause Code\": \"D1\", \"Deaths\": 61.0, \"State\": \"WA\", \"StateFIPS\": 53, \"CountyName\": \"Spokane\", \"StateName\": \"Washington\", \"CountyFIPS\": 53063, \"StateAbbr\": \"WA\", \"STATE_COUNTY\": \"WA | SPOKANE\", \"state_abbrev\": \"WA\", \"FIP_unique\": 5306353, \"Population\": 472081.0, \"county_test\": \"Spokane\", \"overdose\": 1, \"overdose_per_100k\": 12.921511350806323}, {\"County\": \"Spokane\", \"County Code\": 53063.0, \"Year\": 2010.0, \"Year Code\": 2010.0, \"Drug/Alcohol Induced Cause\": \"Drug poisonings (overdose) Suicide (X60-X64)\", \"Drug/Alcohol Induced Cause Code\": \"D2\", \"Deaths\": 14.0, \"State\": \"WA\", \"StateFIPS\": 53, \"CountyName\": \"Spokane\", \"StateName\": \"Washington\", \"CountyFIPS\": 53063, \"StateAbbr\": \"WA\", \"STATE_COUNTY\": \"WA | SPOKANE\", \"state_abbrev\": \"WA\", \"FIP_unique\": 5306353, \"Population\": 472081.0, \"county_test\": \"Spokane\", \"overdose\": 1, \"overdose_per_100k\": 2.965592769037517}, {\"County\": \"Spokane\", \"County Code\": 53063.0, \"Year\": 2011.0, \"Year Code\": 2011.0, \"Drug/Alcohol Induced Cause\": \"Drug poisonings (overdose) Unintentional (X40-X44)\", \"Drug/Alcohol Induced Cause Code\": \"D1\", \"Deaths\": 63.0, \"State\": \"WA\", \"StateFIPS\": 53, \"CountyName\": \"Spokane\", \"StateName\": \"Washington\", \"CountyFIPS\": 53063, \"StateAbbr\": \"WA\", \"STATE_COUNTY\": \"WA | SPOKANE\", \"state_abbrev\": \"WA\", \"FIP_unique\": 5306353, \"Population\": 473436.0, \"county_test\": \"Spokane\", \"overdose\": 1, \"overdose_per_100k\": 13.30697285377538}, {\"County\": \"Spokane\", \"County Code\": 53063.0, \"Year\": 2011.0, \"Year Code\": 2011.0, \"Drug/Alcohol Induced Cause\": \"Drug poisonings (overdose) Suicide (X60-X64)\", \"Drug/Alcohol Induced Cause Code\": \"D2\", \"Deaths\": 10.0, \"State\": \"WA\", \"StateFIPS\": 53, \"CountyName\": \"Spokane\", \"StateName\": \"Washington\", \"CountyFIPS\": 53063, \"StateAbbr\": \"WA\", \"STATE_COUNTY\": \"WA | SPOKANE\", \"state_abbrev\": \"WA\", \"FIP_unique\": 5306353, \"Population\": 473436.0, \"county_test\": \"Spokane\", \"overdose\": 1, \"overdose_per_100k\": 2.112217913297679}, {\"County\": \"Thurston\", \"County Code\": 53067.0, \"Year\": 2009.0, \"Year Code\": 2009.0, \"Drug/Alcohol Induced Cause\": \"Drug poisonings (overdose) Unintentional (X40-X44)\", \"Drug/Alcohol Induced Cause Code\": \"D1\", \"Deaths\": 28.0, \"State\": \"WA\", \"StateFIPS\": 53, \"CountyName\": \"Thurston\", \"StateName\": \"Washington\", \"CountyFIPS\": 53067, \"StateAbbr\": \"WA\", \"STATE_COUNTY\": \"WA | THURSTON\", \"state_abbrev\": \"WA\", \"FIP_unique\": 5306753, \"Population\": 249936.0, \"county_test\": \"Thurston\", \"overdose\": 1, \"overdose_per_100k\": 11.202867934191154}, {\"County\": \"Thurston\", \"County Code\": 53067.0, \"Year\": 2010.0, \"Year Code\": 2010.0, \"Drug/Alcohol Induced Cause\": \"Drug poisonings (overdose) Unintentional (X40-X44)\", \"Drug/Alcohol Induced Cause Code\": \"D1\", \"Deaths\": 22.0, \"State\": \"WA\", \"StateFIPS\": 53, \"CountyName\": \"Thurston\", \"StateName\": \"Washington\", \"CountyFIPS\": 53067, \"StateAbbr\": \"WA\", \"STATE_COUNTY\": \"WA | THURSTON\", \"state_abbrev\": \"WA\", \"FIP_unique\": 5306753, \"Population\": 253001.0, \"county_test\": \"Thurston\", \"overdose\": 1, \"overdose_per_100k\": 8.695617803882199}, {\"County\": \"Thurston\", \"County Code\": 53067.0, \"Year\": 2011.0, \"Year Code\": 2011.0, \"Drug/Alcohol Induced Cause\": \"Drug poisonings (overdose) Unintentional (X40-X44)\", \"Drug/Alcohol Induced Cause Code\": \"D1\", \"Deaths\": 27.0, \"State\": \"WA\", \"StateFIPS\": 53, \"CountyName\": \"Thurston\", \"StateName\": \"Washington\", \"CountyFIPS\": 53067, \"StateAbbr\": \"WA\", \"STATE_COUNTY\": \"WA | THURSTON\", \"state_abbrev\": \"WA\", \"FIP_unique\": 5306753, \"Population\": 256386.0, \"county_test\": \"Thurston\", \"overdose\": 1, \"overdose_per_100k\": 10.53099623224357}, {\"County\": \"Whatcom\", \"County Code\": 53073.0, \"Year\": 2009.0, \"Year Code\": 2009.0, \"Drug/Alcohol Induced Cause\": \"Drug poisonings (overdose) Unintentional (X40-X44)\", \"Drug/Alcohol Induced Cause Code\": \"D1\", \"Deaths\": 18.0, \"State\": \"WA\", \"StateFIPS\": 53, \"CountyName\": \"Whatcom\", \"StateName\": \"Washington\", \"CountyFIPS\": 53073, \"StateAbbr\": \"WA\", \"STATE_COUNTY\": \"WA | WHATCOM\", \"state_abbrev\": \"WA\", \"FIP_unique\": 5307353, \"Population\": 199865.0, \"county_test\": \"Whatcom\", \"overdose\": 1, \"overdose_per_100k\": 9.006079103394791}, {\"County\": \"Whatcom\", \"County Code\": 53073.0, \"Year\": 2010.0, \"Year Code\": 2010.0, \"Drug/Alcohol Induced Cause\": \"Drug poisonings (overdose) Unintentional (X40-X44)\", \"Drug/Alcohol Induced Cause Code\": \"D1\", \"Deaths\": 14.0, \"State\": \"WA\", \"StateFIPS\": 53, \"CountyName\": \"Whatcom\", \"StateName\": \"Washington\", \"CountyFIPS\": 53073, \"StateAbbr\": \"WA\", \"STATE_COUNTY\": \"WA | WHATCOM\", \"state_abbrev\": \"WA\", \"FIP_unique\": 5307353, \"Population\": 201545.0, \"county_test\": \"Whatcom\", \"overdose\": 1, \"overdose_per_100k\": 6.946339527152745}, {\"County\": \"Whatcom\", \"County Code\": 53073.0, \"Year\": 2011.0, \"Year Code\": 2011.0, \"Drug/Alcohol Induced Cause\": \"Drug poisonings (overdose) Unintentional (X40-X44)\", \"Drug/Alcohol Induced Cause Code\": \"D1\", \"Deaths\": 19.0, \"State\": \"WA\", \"StateFIPS\": 53, \"CountyName\": \"Whatcom\", \"StateName\": \"Washington\", \"CountyFIPS\": 53073, \"StateAbbr\": \"WA\", \"STATE_COUNTY\": \"WA | WHATCOM\", \"state_abbrev\": \"WA\", \"FIP_unique\": 5307353, \"Population\": 203490.0, \"county_test\": \"Whatcom\", \"overdose\": 1, \"overdose_per_100k\": 9.337068160597571}, {\"County\": \"Yakima\", \"County Code\": 53077.0, \"Year\": 2009.0, \"Year Code\": 2009.0, \"Drug/Alcohol Induced Cause\": \"Drug poisonings (overdose) Unintentional (X40-X44)\", \"Drug/Alcohol Induced Cause Code\": \"D1\", \"Deaths\": 17.0, \"State\": \"WA\", \"StateFIPS\": 53, \"CountyName\": \"Yakima\", \"StateName\": \"Washington\", \"CountyFIPS\": 53077, \"StateAbbr\": \"WA\", \"STATE_COUNTY\": \"WA | YAKIMA\", \"state_abbrev\": \"WA\", \"FIP_unique\": 5307753, \"Population\": 239604.0, \"county_test\": \"Yakima\", \"overdose\": 1, \"overdose_per_100k\": 7.095040149580141}, {\"County\": \"Yakima\", \"County Code\": 53077.0, \"Year\": 2010.0, \"Year Code\": 2010.0, \"Drug/Alcohol Induced Cause\": \"Drug poisonings (overdose) Unintentional (X40-X44)\", \"Drug/Alcohol Induced Cause Code\": \"D1\", \"Deaths\": 24.0, \"State\": \"WA\", \"StateFIPS\": 53, \"CountyName\": \"Yakima\", \"StateName\": \"Washington\", \"CountyFIPS\": 53077, \"StateAbbr\": \"WA\", \"STATE_COUNTY\": \"WA | YAKIMA\", \"state_abbrev\": \"WA\", \"FIP_unique\": 5307753, \"Population\": 244256.0, \"county_test\": \"Yakima\", \"overdose\": 1, \"overdose_per_100k\": 9.82575658325691}, {\"County\": \"Yakima\", \"County Code\": 53077.0, \"Year\": 2011.0, \"Year Code\": 2011.0, \"Drug/Alcohol Induced Cause\": \"Drug poisonings (overdose) Unintentional (X40-X44)\", \"Drug/Alcohol Induced Cause Code\": \"D1\", \"Deaths\": 14.0, \"State\": \"WA\", \"StateFIPS\": 53, \"CountyName\": \"Yakima\", \"StateName\": \"Washington\", \"CountyFIPS\": 53077, \"StateAbbr\": \"WA\", \"STATE_COUNTY\": \"WA | YAKIMA\", \"state_abbrev\": \"WA\", \"FIP_unique\": 5307753, \"Population\": 245926.0, \"county_test\": \"Yakima\", \"overdose\": 1, \"overdose_per_100k\": 5.69276936964778}], \"data-f55a150dc32fdc83c8e30ac57d2f4b8e\": [{\"County\": \"Benton\", \"County Code\": 53005.0, \"Year\": 2012.0, \"Year Code\": 2012.0, \"Drug/Alcohol Induced Cause\": \"Drug poisonings (overdose) Unintentional (X40-X44)\", \"Drug/Alcohol Induced Cause Code\": \"D1\", \"Deaths\": 16.0, \"State\": \"WA\", \"StateFIPS\": 53, \"CountyName\": \"Benton\", \"StateName\": \"Washington\", \"CountyFIPS\": 53005, \"StateAbbr\": \"WA\", \"STATE_COUNTY\": \"WA | BENTON\", \"state_abbrev\": \"WA\", \"FIP_unique\": 5300553, \"Population\": 182373.0, \"county_test\": \"Benton\", \"overdose\": 1, \"overdose_per_100k\": 8.773228493252839}, {\"County\": \"Benton\", \"County Code\": 53005.0, \"Year\": 2013.0, \"Year Code\": 2013.0, \"Drug/Alcohol Induced Cause\": \"Drug poisonings (overdose) Unintentional (X40-X44)\", \"Drug/Alcohol Induced Cause Code\": \"D1\", \"Deaths\": 18.0, \"State\": \"WA\", \"StateFIPS\": 53, \"CountyName\": \"Benton\", \"StateName\": \"Washington\", \"CountyFIPS\": 53005, \"StateAbbr\": \"WA\", \"STATE_COUNTY\": \"WA | BENTON\", \"state_abbrev\": \"WA\", \"FIP_unique\": 5300553, \"Population\": 184318.0, \"county_test\": \"Benton\", \"overdose\": 1, \"overdose_per_100k\": 9.765730964962728}, {\"County\": \"Benton\", \"County Code\": 53005.0, \"Year\": 2014.0, \"Year Code\": 2014.0, \"Drug/Alcohol Induced Cause\": \"Drug poisonings (overdose) Unintentional (X40-X44)\", \"Drug/Alcohol Induced Cause Code\": \"D1\", \"Deaths\": 20.0, \"State\": \"WA\", \"StateFIPS\": 53, \"CountyName\": \"Benton\", \"StateName\": \"Washington\", \"CountyFIPS\": 53005, \"StateAbbr\": \"WA\", \"STATE_COUNTY\": \"WA | BENTON\", \"state_abbrev\": \"WA\", \"FIP_unique\": 5300553, \"Population\": 186489.0, \"county_test\": \"Benton\", \"overdose\": 1, \"overdose_per_100k\": 10.724493133643271}, {\"County\": \"Benton\", \"County Code\": 53005.0, \"Year\": 2015.0, \"Year Code\": 2015.0, \"Drug/Alcohol Induced Cause\": \"Drug poisonings (overdose) Unintentional (X40-X44)\", \"Drug/Alcohol Induced Cause Code\": \"D1\", \"Deaths\": 28.0, \"State\": \"WA\", \"StateFIPS\": 53, \"CountyName\": \"Benton\", \"StateName\": \"Washington\", \"CountyFIPS\": 53005, \"StateAbbr\": \"WA\", \"STATE_COUNTY\": \"WA | BENTON\", \"state_abbrev\": \"WA\", \"FIP_unique\": 5300553, \"Population\": 190218.0, \"county_test\": \"Benton\", \"overdose\": 1, \"overdose_per_100k\": 14.719952896150732}, {\"County\": \"Clallam\", \"County Code\": 53009.0, \"Year\": 2012.0, \"Year Code\": 2012.0, \"Drug/Alcohol Induced Cause\": \"Drug poisonings (overdose) Unintentional (X40-X44)\", \"Drug/Alcohol Induced Cause Code\": \"D1\", \"Deaths\": 12.0, \"State\": \"WA\", \"StateFIPS\": 53, \"CountyName\": \"Clallam\", \"StateName\": \"Washington\", \"CountyFIPS\": 53009, \"StateAbbr\": \"WA\", \"STATE_COUNTY\": \"WA | CLALLAM\", \"state_abbrev\": \"WA\", \"FIP_unique\": 5300953, \"Population\": 71766.0, \"county_test\": \"Clallam\", \"overdose\": 1, \"overdose_per_100k\": 16.72100994900092}, {\"County\": \"Clallam\", \"County Code\": 53009.0, \"Year\": 2013.0, \"Year Code\": 2013.0, \"Drug/Alcohol Induced Cause\": \"Drug poisonings (overdose) Unintentional (X40-X44)\", \"Drug/Alcohol Induced Cause Code\": \"D1\", \"Deaths\": 15.0, \"State\": \"WA\", \"StateFIPS\": 53, \"CountyName\": \"Clallam\", \"StateName\": \"Washington\", \"CountyFIPS\": 53009, \"StateAbbr\": \"WA\", \"STATE_COUNTY\": \"WA | CLALLAM\", \"state_abbrev\": \"WA\", \"FIP_unique\": 5300953, \"Population\": 72046.0, \"county_test\": \"Clallam\", \"overdose\": 1, \"overdose_per_100k\": 20.8200316464481}, {\"County\": \"Clallam\", \"County Code\": 53009.0, \"Year\": 2015.0, \"Year Code\": 2015.0, \"Drug/Alcohol Induced Cause\": \"Drug poisonings (overdose) Unintentional (X40-X44)\", \"Drug/Alcohol Induced Cause Code\": \"D1\", \"Deaths\": 12.0, \"State\": \"WA\", \"StateFIPS\": 53, \"CountyName\": \"Clallam\", \"StateName\": \"Washington\", \"CountyFIPS\": 53009, \"StateAbbr\": \"WA\", \"STATE_COUNTY\": \"WA | CLALLAM\", \"state_abbrev\": \"WA\", \"FIP_unique\": 5300953, \"Population\": 73202.0, \"county_test\": \"Clallam\", \"overdose\": 1, \"overdose_per_100k\": 16.39299472692003}, {\"County\": \"Clark\", \"County Code\": 53011.0, \"Year\": 2012.0, \"Year Code\": 2012.0, \"Drug/Alcohol Induced Cause\": \"Drug poisonings (overdose) Unintentional (X40-X44)\", \"Drug/Alcohol Induced Cause Code\": \"D1\", \"Deaths\": 52.0, \"State\": \"WA\", \"StateFIPS\": 53, \"CountyName\": \"Clark\", \"StateName\": \"Washington\", \"CountyFIPS\": 53011, \"StateAbbr\": \"WA\", \"STATE_COUNTY\": \"WA | CLARK\", \"state_abbrev\": \"WA\", \"FIP_unique\": 5301153, \"Population\": 436361.0, \"county_test\": \"Clark\", \"overdose\": 1, \"overdose_per_100k\": 11.916738663629426}, {\"County\": \"Clark\", \"County Code\": 53011.0, \"Year\": 2012.0, \"Year Code\": 2012.0, \"Drug/Alcohol Induced Cause\": \"Drug poisonings (overdose) Suicide (X60-X64)\", \"Drug/Alcohol Induced Cause Code\": \"D2\", \"Deaths\": 10.0, \"State\": \"WA\", \"StateFIPS\": 53, \"CountyName\": \"Clark\", \"StateName\": \"Washington\", \"CountyFIPS\": 53011, \"StateAbbr\": \"WA\", \"STATE_COUNTY\": \"WA | CLARK\", \"state_abbrev\": \"WA\", \"FIP_unique\": 5301153, \"Population\": 436361.0, \"county_test\": \"Clark\", \"overdose\": 1, \"overdose_per_100k\": 2.2916805122364283}, {\"County\": \"Clark\", \"County Code\": 53011.0, \"Year\": 2013.0, \"Year Code\": 2013.0, \"Drug/Alcohol Induced Cause\": \"Drug poisonings (overdose) Unintentional (X40-X44)\", \"Drug/Alcohol Induced Cause Code\": \"D1\", \"Deaths\": 46.0, \"State\": \"WA\", \"StateFIPS\": 53, \"CountyName\": \"Clark\", \"StateName\": \"Washington\", \"CountyFIPS\": 53011, \"StateAbbr\": \"WA\", \"STATE_COUNTY\": \"WA | CLARK\", \"state_abbrev\": \"WA\", \"FIP_unique\": 5301153, \"Population\": 441341.0, \"county_test\": \"Clark\", \"overdose\": 1, \"overdose_per_100k\": 10.42277966470371}, {\"County\": \"Clark\", \"County Code\": 53011.0, \"Year\": 2013.0, \"Year Code\": 2013.0, \"Drug/Alcohol Induced Cause\": \"Drug poisonings (overdose) Suicide (X60-X64)\", \"Drug/Alcohol Induced Cause Code\": \"D2\", \"Deaths\": 11.0, \"State\": \"WA\", \"StateFIPS\": 53, \"CountyName\": \"Clark\", \"StateName\": \"Washington\", \"CountyFIPS\": 53011, \"StateAbbr\": \"WA\", \"STATE_COUNTY\": \"WA | CLARK\", \"state_abbrev\": \"WA\", \"FIP_unique\": 5301153, \"Population\": 441341.0, \"county_test\": \"Clark\", \"overdose\": 1, \"overdose_per_100k\": 2.4924038328639306}, {\"County\": \"Clark\", \"County Code\": 53011.0, \"Year\": 2014.0, \"Year Code\": 2014.0, \"Drug/Alcohol Induced Cause\": \"Drug poisonings (overdose) Unintentional (X40-X44)\", \"Drug/Alcohol Induced Cause Code\": \"D1\", \"Deaths\": 45.0, \"State\": \"WA\", \"StateFIPS\": 53, \"CountyName\": \"Clark\", \"StateName\": \"Washington\", \"CountyFIPS\": 53011, \"StateAbbr\": \"WA\", \"STATE_COUNTY\": \"WA | CLARK\", \"state_abbrev\": \"WA\", \"FIP_unique\": 5301153, \"Population\": 448202.0, \"county_test\": \"Clark\", \"overdose\": 1, \"overdose_per_100k\": 10.040115840625432}, {\"County\": \"Clark\", \"County Code\": 53011.0, \"Year\": 2014.0, \"Year Code\": 2014.0, \"Drug/Alcohol Induced Cause\": \"Drug poisonings (overdose) Suicide (X60-X64)\", \"Drug/Alcohol Induced Cause Code\": \"D2\", \"Deaths\": 14.0, \"State\": \"WA\", \"StateFIPS\": 53, \"CountyName\": \"Clark\", \"StateName\": \"Washington\", \"CountyFIPS\": 53011, \"StateAbbr\": \"WA\", \"STATE_COUNTY\": \"WA | CLARK\", \"state_abbrev\": \"WA\", \"FIP_unique\": 5301153, \"Population\": 448202.0, \"county_test\": \"Clark\", \"overdose\": 1, \"overdose_per_100k\": 3.123591594861246}, {\"County\": \"Clark\", \"County Code\": 53011.0, \"Year\": 2015.0, \"Year Code\": 2015.0, \"Drug/Alcohol Induced Cause\": \"Drug poisonings (overdose) Unintentional (X40-X44)\", \"Drug/Alcohol Induced Cause Code\": \"D1\", \"Deaths\": 59.0, \"State\": \"WA\", \"StateFIPS\": 53, \"CountyName\": \"Clark\", \"StateName\": \"Washington\", \"CountyFIPS\": 53011, \"StateAbbr\": \"WA\", \"STATE_COUNTY\": \"WA | CLARK\", \"state_abbrev\": \"WA\", \"FIP_unique\": 5301153, \"Population\": 456939.0, \"county_test\": \"Clark\", \"overdose\": 1, \"overdose_per_100k\": 12.912007948544556}, {\"County\": \"Cowlitz\", \"County Code\": 53015.0, \"Year\": 2012.0, \"Year Code\": 2012.0, \"Drug/Alcohol Induced Cause\": \"Drug poisonings (overdose) Unintentional (X40-X44)\", \"Drug/Alcohol Induced Cause Code\": \"D1\", \"Deaths\": 23.0, \"State\": \"WA\", \"StateFIPS\": 53, \"CountyName\": \"Cowlitz\", \"StateName\": \"Washington\", \"CountyFIPS\": 53015, \"StateAbbr\": \"WA\", \"STATE_COUNTY\": \"WA | COWLITZ\", \"state_abbrev\": \"WA\", \"FIP_unique\": 5301553, \"Population\": 101663.0, \"county_test\": \"Cowlitz\", \"overdose\": 1, \"overdose_per_100k\": 22.62376675880114}, {\"County\": \"Cowlitz\", \"County Code\": 53015.0, \"Year\": 2013.0, \"Year Code\": 2013.0, \"Drug/Alcohol Induced Cause\": \"Drug poisonings (overdose) Unintentional (X40-X44)\", \"Drug/Alcohol Induced Cause Code\": \"D1\", \"Deaths\": 21.0, \"State\": \"WA\", \"StateFIPS\": 53, \"CountyName\": \"Cowlitz\", \"StateName\": \"Washington\", \"CountyFIPS\": 53015, \"StateAbbr\": \"WA\", \"STATE_COUNTY\": \"WA | COWLITZ\", \"state_abbrev\": \"WA\", \"FIP_unique\": 5301553, \"Population\": 101483.0, \"county_test\": \"Cowlitz\", \"overdose\": 1, \"overdose_per_100k\": 20.69312101534247}, {\"County\": \"Cowlitz\", \"County Code\": 53015.0, \"Year\": 2014.0, \"Year Code\": 2014.0, \"Drug/Alcohol Induced Cause\": \"Drug poisonings (overdose) Unintentional (X40-X44)\", \"Drug/Alcohol Induced Cause Code\": \"D1\", \"Deaths\": 21.0, \"State\": \"WA\", \"StateFIPS\": 53, \"CountyName\": \"Cowlitz\", \"StateName\": \"Washington\", \"CountyFIPS\": 53015, \"StateAbbr\": \"WA\", \"STATE_COUNTY\": \"WA | COWLITZ\", \"state_abbrev\": \"WA\", \"FIP_unique\": 5301553, \"Population\": 101790.0, \"county_test\": \"Cowlitz\", \"overdose\": 1, \"overdose_per_100k\": 20.6307102858827}, {\"County\": \"Cowlitz\", \"County Code\": 53015.0, \"Year\": 2015.0, \"Year Code\": 2015.0, \"Drug/Alcohol Induced Cause\": \"Drug poisonings (overdose) Unintentional (X40-X44)\", \"Drug/Alcohol Induced Cause Code\": \"D1\", \"Deaths\": 15.0, \"State\": \"WA\", \"StateFIPS\": 53, \"CountyName\": \"Cowlitz\", \"StateName\": \"Washington\", \"CountyFIPS\": 53015, \"StateAbbr\": \"WA\", \"STATE_COUNTY\": \"WA | COWLITZ\", \"state_abbrev\": \"WA\", \"FIP_unique\": 5301553, \"Population\": 102999.0, \"county_test\": \"Cowlitz\", \"overdose\": 1, \"overdose_per_100k\": 14.563248186875601}, {\"County\": \"Grant\", \"County Code\": 53025.0, \"Year\": 2015.0, \"Year Code\": 2015.0, \"Drug/Alcohol Induced Cause\": \"Drug poisonings (overdose) Unintentional (X40-X44)\", \"Drug/Alcohol Induced Cause Code\": \"D1\", \"Deaths\": 11.0, \"State\": \"WA\", \"StateFIPS\": 53, \"CountyName\": \"Grant\", \"StateName\": \"Washington\", \"CountyFIPS\": 53025, \"StateAbbr\": \"WA\", \"STATE_COUNTY\": \"WA | GRANT\", \"state_abbrev\": \"WA\", \"FIP_unique\": 5302553, \"Population\": 93527.0, \"county_test\": \"Grant\", \"overdose\": 1, \"overdose_per_100k\": 11.76130956835994}, {\"County\": \"Grays Harbor\", \"County Code\": 53027.0, \"Year\": 2012.0, \"Year Code\": 2012.0, \"Drug/Alcohol Induced Cause\": \"Drug poisonings (overdose) Unintentional (X40-X44)\", \"Drug/Alcohol Induced Cause Code\": \"D1\", \"Deaths\": 11.0, \"State\": \"WA\", \"StateFIPS\": 53, \"CountyName\": \"Grays Harbor\", \"StateName\": \"Washington\", \"CountyFIPS\": 53027, \"StateAbbr\": \"WA\", \"STATE_COUNTY\": \"WA | GRAYS HARBOR\", \"state_abbrev\": \"WA\", \"FIP_unique\": 5302753, \"Population\": 71773.0, \"county_test\": \"Grays Harbor\", \"overdose\": 1, \"overdose_per_100k\": 15.326097557577363}, {\"County\": \"Grays Harbor\", \"County Code\": 53027.0, \"Year\": 2013.0, \"Year Code\": 2013.0, \"Drug/Alcohol Induced Cause\": \"Drug poisonings (overdose) Unintentional (X40-X44)\", \"Drug/Alcohol Induced Cause Code\": \"D1\", \"Deaths\": 12.0, \"State\": \"WA\", \"StateFIPS\": 53, \"CountyName\": \"Grays Harbor\", \"StateName\": \"Washington\", \"CountyFIPS\": 53027, \"StateAbbr\": \"WA\", \"STATE_COUNTY\": \"WA | GRAYS HARBOR\", \"state_abbrev\": \"WA\", \"FIP_unique\": 5302753, \"Population\": 71046.0, \"county_test\": \"Grays Harbor\", \"overdose\": 1, \"overdose_per_100k\": 16.890465332319906}, {\"County\": \"Grays Harbor\", \"County Code\": 53027.0, \"Year\": 2014.0, \"Year Code\": 2014.0, \"Drug/Alcohol Induced Cause\": \"Drug poisonings (overdose) Unintentional (X40-X44)\", \"Drug/Alcohol Induced Cause Code\": \"D1\", \"Deaths\": 15.0, \"State\": \"WA\", \"StateFIPS\": 53, \"CountyName\": \"Grays Harbor\", \"StateName\": \"Washington\", \"CountyFIPS\": 53027, \"StateAbbr\": \"WA\", \"STATE_COUNTY\": \"WA | GRAYS HARBOR\", \"state_abbrev\": \"WA\", \"FIP_unique\": 5302753, \"Population\": 70780.0, \"county_test\": \"Grays Harbor\", \"overdose\": 1, \"overdose_per_100k\": 21.192427239333146}, {\"County\": \"Grays Harbor\", \"County Code\": 53027.0, \"Year\": 2015.0, \"Year Code\": 2015.0, \"Drug/Alcohol Induced Cause\": \"Drug poisonings (overdose) Unintentional (X40-X44)\", \"Drug/Alcohol Induced Cause Code\": \"D1\", \"Deaths\": 15.0, \"State\": \"WA\", \"StateFIPS\": 53, \"CountyName\": \"Grays Harbor\", \"StateName\": \"Washington\", \"CountyFIPS\": 53027, \"StateAbbr\": \"WA\", \"STATE_COUNTY\": \"WA | GRAYS HARBOR\", \"state_abbrev\": \"WA\", \"FIP_unique\": 5302753, \"Population\": 71011.0, \"county_test\": \"Grays Harbor\", \"overdose\": 1, \"overdose_per_100k\": 21.123487910323753}, {\"County\": \"Island\", \"County Code\": 53029.0, \"Year\": 2012.0, \"Year Code\": 2012.0, \"Drug/Alcohol Induced Cause\": \"Drug poisonings (overdose) Unintentional (X40-X44)\", \"Drug/Alcohol Induced Cause Code\": \"D1\", \"Deaths\": 10.0, \"State\": \"WA\", \"StateFIPS\": 53, \"CountyName\": \"Island\", \"StateName\": \"Washington\", \"CountyFIPS\": 53029, \"StateAbbr\": \"WA\", \"STATE_COUNTY\": \"WA | ISLAND\", \"state_abbrev\": \"WA\", \"FIP_unique\": 5302953, \"Population\": 79039.0, \"county_test\": \"Island\", \"overdose\": 1, \"overdose_per_100k\": 12.651981932969798}, {\"County\": \"Island\", \"County Code\": 53029.0, \"Year\": 2014.0, \"Year Code\": 2014.0, \"Drug/Alcohol Induced Cause\": \"Drug poisonings (overdose) Unintentional (X40-X44)\", \"Drug/Alcohol Induced Cause Code\": \"D1\", \"Deaths\": 13.0, \"State\": \"WA\", \"StateFIPS\": 53, \"CountyName\": \"Island\", \"StateName\": \"Washington\", \"CountyFIPS\": 53029, \"StateAbbr\": \"WA\", \"STATE_COUNTY\": \"WA | ISLAND\", \"state_abbrev\": \"WA\", \"FIP_unique\": 5302953, \"Population\": 78690.0, \"county_test\": \"Island\", \"overdose\": 1, \"overdose_per_100k\": 16.52052357351633}, {\"County\": \"Island\", \"County Code\": 53029.0, \"Year\": 2015.0, \"Year Code\": 2015.0, \"Drug/Alcohol Induced Cause\": \"Drug poisonings (overdose) Unintentional (X40-X44)\", \"Drug/Alcohol Induced Cause Code\": \"D1\", \"Deaths\": 11.0, \"State\": \"WA\", \"StateFIPS\": 53, \"CountyName\": \"Island\", \"StateName\": \"Washington\", \"CountyFIPS\": 53029, \"StateAbbr\": \"WA\", \"STATE_COUNTY\": \"WA | ISLAND\", \"state_abbrev\": \"WA\", \"FIP_unique\": 5302953, \"Population\": 80022.0, \"county_test\": \"Island\", \"overdose\": 1, \"overdose_per_100k\": 13.746219789557873}, {\"County\": \"King\", \"County Code\": 53033.0, \"Year\": 2012.0, \"Year Code\": 2012.0, \"Drug/Alcohol Induced Cause\": \"Drug poisonings (overdose) Unintentional (X40-X44)\", \"Drug/Alcohol Induced Cause Code\": \"D1\", \"Deaths\": 201.0, \"State\": \"WA\", \"StateFIPS\": 53, \"CountyName\": \"King\", \"StateName\": \"Washington\", \"CountyFIPS\": 53033, \"StateAbbr\": \"WA\", \"STATE_COUNTY\": \"WA | KING\", \"state_abbrev\": \"WA\", \"FIP_unique\": 5303353, \"Population\": 2011197.0, \"county_test\": \"King\", \"overdose\": 1, \"overdose_per_100k\": 9.994048320477805}, {\"County\": \"King\", \"County Code\": 53033.0, \"Year\": 2012.0, \"Year Code\": 2012.0, \"Drug/Alcohol Induced Cause\": \"Drug poisonings (overdose) Suicide (X60-X64)\", \"Drug/Alcohol Induced Cause Code\": \"D2\", \"Deaths\": 50.0, \"State\": \"WA\", \"StateFIPS\": 53, \"CountyName\": \"King\", \"StateName\": \"Washington\", \"CountyFIPS\": 53033, \"StateAbbr\": \"WA\", \"STATE_COUNTY\": \"WA | KING\", \"state_abbrev\": \"WA\", \"FIP_unique\": 5303353, \"Population\": 2011197.0, \"county_test\": \"King\", \"overdose\": 1, \"overdose_per_100k\": 2.486081671760648}, {\"County\": \"King\", \"County Code\": 53033.0, \"Year\": 2012.0, \"Year Code\": 2012.0, \"Drug/Alcohol Induced Cause\": \"Drug poisonings (overdose) Undetermined (Y10-Y14)\", \"Drug/Alcohol Induced Cause Code\": \"D4\", \"Deaths\": 10.0, \"State\": \"WA\", \"StateFIPS\": 53, \"CountyName\": \"King\", \"StateName\": \"Washington\", \"CountyFIPS\": 53033, \"StateAbbr\": \"WA\", \"STATE_COUNTY\": \"WA | KING\", \"state_abbrev\": \"WA\", \"FIP_unique\": 5303353, \"Population\": 2011197.0, \"county_test\": \"King\", \"overdose\": 1, \"overdose_per_100k\": 0.49721633435212964}, {\"County\": \"King\", \"County Code\": 53033.0, \"Year\": 2012.0, \"Year Code\": 2012.0, \"Drug/Alcohol Induced Cause\": \"Alcohol poisonings (overdose) (X45, X65, Y15)\", \"Drug/Alcohol Induced Cause Code\": \"A1\", \"Deaths\": 14.0, \"State\": \"WA\", \"StateFIPS\": 53, \"CountyName\": \"King\", \"StateName\": \"Washington\", \"CountyFIPS\": 53033, \"StateAbbr\": \"WA\", \"STATE_COUNTY\": \"WA | KING\", \"state_abbrev\": \"WA\", \"FIP_unique\": 5303353, \"Population\": 2011197.0, \"county_test\": \"King\", \"overdose\": 1, \"overdose_per_100k\": 0.6961028680929814}, {\"County\": \"King\", \"County Code\": 53033.0, \"Year\": 2013.0, \"Year Code\": 2013.0, \"Drug/Alcohol Induced Cause\": \"Drug poisonings (overdose) Unintentional (X40-X44)\", \"Drug/Alcohol Induced Cause Code\": \"D1\", \"Deaths\": 242.0, \"State\": \"WA\", \"StateFIPS\": 53, \"CountyName\": \"King\", \"StateName\": \"Washington\", \"CountyFIPS\": 53033, \"StateAbbr\": \"WA\", \"STATE_COUNTY\": \"WA | KING\", \"state_abbrev\": \"WA\", \"FIP_unique\": 5303353, \"Population\": 2047223.0, \"county_test\": \"King\", \"overdose\": 1, \"overdose_per_100k\": 11.82089103141182}, {\"County\": \"King\", \"County Code\": 53033.0, \"Year\": 2013.0, \"Year Code\": 2013.0, \"Drug/Alcohol Induced Cause\": \"Drug poisonings (overdose) Suicide (X60-X64)\", \"Drug/Alcohol Induced Cause Code\": \"D2\", \"Deaths\": 34.0, \"State\": \"WA\", \"StateFIPS\": 53, \"CountyName\": \"King\", \"StateName\": \"Washington\", \"CountyFIPS\": 53033, \"StateAbbr\": \"WA\", \"STATE_COUNTY\": \"WA | KING\", \"state_abbrev\": \"WA\", \"FIP_unique\": 5303353, \"Population\": 2047223.0, \"county_test\": \"King\", \"overdose\": 1, \"overdose_per_100k\": 1.660786343256206}, {\"County\": \"King\", \"County Code\": 53033.0, \"Year\": 2013.0, \"Year Code\": 2013.0, \"Drug/Alcohol Induced Cause\": \"Alcohol poisonings (overdose) (X45, X65, Y15)\", \"Drug/Alcohol Induced Cause Code\": \"A1\", \"Deaths\": 13.0, \"State\": \"WA\", \"StateFIPS\": 53, \"CountyName\": \"King\", \"StateName\": \"Washington\", \"CountyFIPS\": 53033, \"StateAbbr\": \"WA\", \"STATE_COUNTY\": \"WA | KING\", \"state_abbrev\": \"WA\", \"FIP_unique\": 5303353, \"Population\": 2047223.0, \"county_test\": \"King\", \"overdose\": 1, \"overdose_per_100k\": 0.6350065430097258}, {\"County\": \"King\", \"County Code\": 53033.0, \"Year\": 2014.0, \"Year Code\": 2014.0, \"Drug/Alcohol Induced Cause\": \"Drug poisonings (overdose) Unintentional (X40-X44)\", \"Drug/Alcohol Induced Cause Code\": \"D1\", \"Deaths\": 251.0, \"State\": \"WA\", \"StateFIPS\": 53, \"CountyName\": \"King\", \"StateName\": \"Washington\", \"CountyFIPS\": 53033, \"StateAbbr\": \"WA\", \"STATE_COUNTY\": \"WA | KING\", \"state_abbrev\": \"WA\", \"FIP_unique\": 5303353, \"Population\": 2085225.0, \"county_test\": \"King\", \"overdose\": 1, \"overdose_per_100k\": 12.03707034013116}, {\"County\": \"King\", \"County Code\": 53033.0, \"Year\": 2014.0, \"Year Code\": 2014.0, \"Drug/Alcohol Induced Cause\": \"Drug poisonings (overdose) Suicide (X60-X64)\", \"Drug/Alcohol Induced Cause Code\": \"D2\", \"Deaths\": 42.0, \"State\": \"WA\", \"StateFIPS\": 53, \"CountyName\": \"King\", \"StateName\": \"Washington\", \"CountyFIPS\": 53033, \"StateAbbr\": \"WA\", \"STATE_COUNTY\": \"WA | KING\", \"state_abbrev\": \"WA\", \"FIP_unique\": 5303353, \"Population\": 2085225.0, \"county_test\": \"King\", \"overdose\": 1, \"overdose_per_100k\": 2.014171132611589}, {\"County\": \"King\", \"County Code\": 53033.0, \"Year\": 2014.0, \"Year Code\": 2014.0, \"Drug/Alcohol Induced Cause\": \"Alcohol poisonings (overdose) (X45, X65, Y15)\", \"Drug/Alcohol Induced Cause Code\": \"A1\", \"Deaths\": 15.0, \"State\": \"WA\", \"StateFIPS\": 53, \"CountyName\": \"King\", \"StateName\": \"Washington\", \"CountyFIPS\": 53033, \"StateAbbr\": \"WA\", \"STATE_COUNTY\": \"WA | KING\", \"state_abbrev\": \"WA\", \"FIP_unique\": 5303353, \"Population\": 2085225.0, \"county_test\": \"King\", \"overdose\": 1, \"overdose_per_100k\": 0.7193468330755673}, {\"County\": \"King\", \"County Code\": 53033.0, \"Year\": 2015.0, \"Year Code\": 2015.0, \"Drug/Alcohol Induced Cause\": \"Drug poisonings (overdose) Unintentional (X40-X44)\", \"Drug/Alcohol Induced Cause Code\": \"D1\", \"Deaths\": 241.0, \"State\": \"WA\", \"StateFIPS\": 53, \"CountyName\": \"King\", \"StateName\": \"Washington\", \"CountyFIPS\": 53033, \"StateAbbr\": \"WA\", \"STATE_COUNTY\": \"WA | KING\", \"state_abbrev\": \"WA\", \"FIP_unique\": 5303353, \"Population\": 2126178.0, \"county_test\": \"King\", \"overdose\": 1, \"overdose_per_100k\": 11.334892939349386}, {\"County\": \"King\", \"County Code\": 53033.0, \"Year\": 2015.0, \"Year Code\": 2015.0, \"Drug/Alcohol Induced Cause\": \"Drug poisonings (overdose) Suicide (X60-X64)\", \"Drug/Alcohol Induced Cause Code\": \"D2\", \"Deaths\": 34.0, \"State\": \"WA\", \"StateFIPS\": 53, \"CountyName\": \"King\", \"StateName\": \"Washington\", \"CountyFIPS\": 53033, \"StateAbbr\": \"WA\", \"STATE_COUNTY\": \"WA | KING\", \"state_abbrev\": \"WA\", \"FIP_unique\": 5303353, \"Population\": 2126178.0, \"county_test\": \"King\", \"overdose\": 1, \"overdose_per_100k\": 1.5991135267131913}, {\"County\": \"King\", \"County Code\": 53033.0, \"Year\": 2015.0, \"Year Code\": 2015.0, \"Drug/Alcohol Induced Cause\": \"Drug poisonings (overdose) Undetermined (Y10-Y14)\", \"Drug/Alcohol Induced Cause Code\": \"D4\", \"Deaths\": 10.0, \"State\": \"WA\", \"StateFIPS\": 53, \"CountyName\": \"King\", \"StateName\": \"Washington\", \"CountyFIPS\": 53033, \"StateAbbr\": \"WA\", \"STATE_COUNTY\": \"WA | KING\", \"state_abbrev\": \"WA\", \"FIP_unique\": 5303353, \"Population\": 2126178.0, \"county_test\": \"King\", \"overdose\": 1, \"overdose_per_100k\": 0.470327507856821}, {\"County\": \"King\", \"County Code\": 53033.0, \"Year\": 2015.0, \"Year Code\": 2015.0, \"Drug/Alcohol Induced Cause\": \"Alcohol poisonings (overdose) (X45, X65, Y15)\", \"Drug/Alcohol Induced Cause Code\": \"A1\", \"Deaths\": 13.0, \"State\": \"WA\", \"StateFIPS\": 53, \"CountyName\": \"King\", \"StateName\": \"Washington\", \"CountyFIPS\": 53033, \"StateAbbr\": \"WA\", \"STATE_COUNTY\": \"WA | KING\", \"state_abbrev\": \"WA\", \"FIP_unique\": 5303353, \"Population\": 2126178.0, \"county_test\": \"King\", \"overdose\": 1, \"overdose_per_100k\": 0.6114257602138673}, {\"County\": \"Kitsap\", \"County Code\": 53035.0, \"Year\": 2012.0, \"Year Code\": 2012.0, \"Drug/Alcohol Induced Cause\": \"Drug poisonings (overdose) Unintentional (X40-X44)\", \"Drug/Alcohol Induced Cause Code\": \"D1\", \"Deaths\": 20.0, \"State\": \"WA\", \"StateFIPS\": 53, \"CountyName\": \"Kitsap\", \"StateName\": \"Washington\", \"CountyFIPS\": 53035, \"StateAbbr\": \"WA\", \"STATE_COUNTY\": \"WA | KITSAP\", \"state_abbrev\": \"WA\", \"FIP_unique\": 5303553, \"Population\": 254339.0, \"county_test\": \"Kitsap\", \"overdose\": 1, \"overdose_per_100k\": 7.863520734138296}, {\"County\": \"Kitsap\", \"County Code\": 53035.0, \"Year\": 2013.0, \"Year Code\": 2013.0, \"Drug/Alcohol Induced Cause\": \"Drug poisonings (overdose) Unintentional (X40-X44)\", \"Drug/Alcohol Induced Cause Code\": \"D1\", \"Deaths\": 16.0, \"State\": \"WA\", \"StateFIPS\": 53, \"CountyName\": \"Kitsap\", \"StateName\": \"Washington\", \"CountyFIPS\": 53035, \"StateAbbr\": \"WA\", \"STATE_COUNTY\": \"WA | KITSAP\", \"state_abbrev\": \"WA\", \"FIP_unique\": 5303553, \"Population\": 252401.0, \"county_test\": \"Kitsap\", \"overdose\": 1, \"overdose_per_100k\": 6.339119100162043}, {\"County\": \"Kitsap\", \"County Code\": 53035.0, \"Year\": 2014.0, \"Year Code\": 2014.0, \"Drug/Alcohol Induced Cause\": \"Drug poisonings (overdose) Unintentional (X40-X44)\", \"Drug/Alcohol Induced Cause Code\": \"D1\", \"Deaths\": 20.0, \"State\": \"WA\", \"StateFIPS\": 53, \"CountyName\": \"Kitsap\", \"StateName\": \"Washington\", \"CountyFIPS\": 53035, \"StateAbbr\": \"WA\", \"STATE_COUNTY\": \"WA | KITSAP\", \"state_abbrev\": \"WA\", \"FIP_unique\": 5303553, \"Population\": 253387.0, \"county_test\": \"Kitsap\", \"overdose\": 1, \"overdose_per_100k\": 7.893064758649813}, {\"County\": \"Kitsap\", \"County Code\": 53035.0, \"Year\": 2015.0, \"Year Code\": 2015.0, \"Drug/Alcohol Induced Cause\": \"Drug poisonings (overdose) Unintentional (X40-X44)\", \"Drug/Alcohol Induced Cause Code\": \"D1\", \"Deaths\": 29.0, \"State\": \"WA\", \"StateFIPS\": 53, \"CountyName\": \"Kitsap\", \"StateName\": \"Washington\", \"CountyFIPS\": 53035, \"StateAbbr\": \"WA\", \"STATE_COUNTY\": \"WA | KITSAP\", \"state_abbrev\": \"WA\", \"FIP_unique\": 5303553, \"Population\": 259232.0, \"county_test\": \"Kitsap\", \"overdose\": 1, \"overdose_per_100k\": 11.186890507344772}, {\"County\": \"Lewis\", \"County Code\": 53041.0, \"Year\": 2014.0, \"Year Code\": 2014.0, \"Drug/Alcohol Induced Cause\": \"Drug poisonings (overdose) Unintentional (X40-X44)\", \"Drug/Alcohol Induced Cause Code\": \"D1\", \"Deaths\": 10.0, \"State\": \"WA\", \"StateFIPS\": 53, \"CountyName\": \"Lewis\", \"StateName\": \"Washington\", \"CountyFIPS\": 53041, \"StateAbbr\": \"WA\", \"STATE_COUNTY\": \"WA | LEWIS\", \"state_abbrev\": \"WA\", \"FIP_unique\": 5304153, \"Population\": 74844.0, \"county_test\": \"Lewis\", \"overdose\": 1, \"overdose_per_100k\": 13.361124472235582}, {\"County\": \"Mason\", \"County Code\": 53045.0, \"Year\": 2012.0, \"Year Code\": 2012.0, \"Drug/Alcohol Induced Cause\": \"Drug poisonings (overdose) Unintentional (X40-X44)\", \"Drug/Alcohol Induced Cause Code\": \"D1\", \"Deaths\": 14.0, \"State\": \"WA\", \"StateFIPS\": 53, \"CountyName\": \"Mason\", \"StateName\": \"Washington\", \"CountyFIPS\": 53045, \"StateAbbr\": \"WA\", \"STATE_COUNTY\": \"WA | MASON\", \"state_abbrev\": \"WA\", \"FIP_unique\": 5304553, \"Population\": 60681.0, \"county_test\": \"Mason\", \"overdose\": 1, \"overdose_per_100k\": 23.071472124717786}, {\"County\": \"Mason\", \"County Code\": 53045.0, \"Year\": 2013.0, \"Year Code\": 2013.0, \"Drug/Alcohol Induced Cause\": \"Drug poisonings (overdose) Unintentional (X40-X44)\", \"Drug/Alcohol Induced Cause Code\": \"D1\", \"Deaths\": 10.0, \"State\": \"WA\", \"StateFIPS\": 53, \"CountyName\": \"Mason\", \"StateName\": \"Washington\", \"CountyFIPS\": 53045, \"StateAbbr\": \"WA\", \"STATE_COUNTY\": \"WA | MASON\", \"state_abbrev\": \"WA\", \"FIP_unique\": 5304553, \"Population\": 60474.0, \"county_test\": \"Mason\", \"overdose\": 1, \"overdose_per_100k\": 16.53603201375798}, {\"County\": \"Mason\", \"County Code\": 53045.0, \"Year\": 2015.0, \"Year Code\": 2015.0, \"Drug/Alcohol Induced Cause\": \"Drug poisonings (overdose) Unintentional (X40-X44)\", \"Drug/Alcohol Induced Cause Code\": \"D1\", \"Deaths\": 10.0, \"State\": \"WA\", \"StateFIPS\": 53, \"CountyName\": \"Mason\", \"StateName\": \"Washington\", \"CountyFIPS\": 53045, \"StateAbbr\": \"WA\", \"STATE_COUNTY\": \"WA | MASON\", \"state_abbrev\": \"WA\", \"FIP_unique\": 5304553, \"Population\": 60991.0, \"county_test\": \"Mason\", \"overdose\": 1, \"overdose_per_100k\": 16.39586168451083}, {\"County\": \"Pierce\", \"County Code\": 53053.0, \"Year\": 2012.0, \"Year Code\": 2012.0, \"Drug/Alcohol Induced Cause\": \"Drug poisonings (overdose) Unintentional (X40-X44)\", \"Drug/Alcohol Induced Cause Code\": \"D1\", \"Deaths\": 80.0, \"State\": \"WA\", \"StateFIPS\": 53, \"CountyName\": \"Pierce\", \"StateName\": \"Washington\", \"CountyFIPS\": 53053, \"StateAbbr\": \"WA\", \"STATE_COUNTY\": \"WA | PIERCE\", \"state_abbrev\": \"WA\", \"FIP_unique\": 5305353, \"Population\": 815535.0, \"county_test\": \"Pierce\", \"overdose\": 1, \"overdose_per_100k\": 9.809511547634376}, {\"County\": \"Pierce\", \"County Code\": 53053.0, \"Year\": 2012.0, \"Year Code\": 2012.0, \"Drug/Alcohol Induced Cause\": \"Drug poisonings (overdose) Suicide (X60-X64)\", \"Drug/Alcohol Induced Cause Code\": \"D2\", \"Deaths\": 29.0, \"State\": \"WA\", \"StateFIPS\": 53, \"CountyName\": \"Pierce\", \"StateName\": \"Washington\", \"CountyFIPS\": 53053, \"StateAbbr\": \"WA\", \"STATE_COUNTY\": \"WA | PIERCE\", \"state_abbrev\": \"WA\", \"FIP_unique\": 5305353, \"Population\": 815535.0, \"county_test\": \"Pierce\", \"overdose\": 1, \"overdose_per_100k\": 3.555947936017461}, {\"County\": \"Pierce\", \"County Code\": 53053.0, \"Year\": 2012.0, \"Year Code\": 2012.0, \"Drug/Alcohol Induced Cause\": \"Alcohol poisonings (overdose) (X45, X65, Y15)\", \"Drug/Alcohol Induced Cause Code\": \"A1\", \"Deaths\": 11.0, \"State\": \"WA\", \"StateFIPS\": 53, \"CountyName\": \"Pierce\", \"StateName\": \"Washington\", \"CountyFIPS\": 53053, \"StateAbbr\": \"WA\", \"STATE_COUNTY\": \"WA | PIERCE\", \"state_abbrev\": \"WA\", \"FIP_unique\": 5305353, \"Population\": 815535.0, \"county_test\": \"Pierce\", \"overdose\": 1, \"overdose_per_100k\": 1.3488078377997266}, {\"County\": \"Pierce\", \"County Code\": 53053.0, \"Year\": 2013.0, \"Year Code\": 2013.0, \"Drug/Alcohol Induced Cause\": \"Drug poisonings (overdose) Unintentional (X40-X44)\", \"Drug/Alcohol Induced Cause Code\": \"D1\", \"Deaths\": 97.0, \"State\": \"WA\", \"StateFIPS\": 53, \"CountyName\": \"Pierce\", \"StateName\": \"Washington\", \"CountyFIPS\": 53053, \"StateAbbr\": \"WA\", \"STATE_COUNTY\": \"WA | PIERCE\", \"state_abbrev\": \"WA\", \"FIP_unique\": 5305353, \"Population\": 821012.0, \"county_test\": \"Pierce\", \"overdose\": 1, \"overdose_per_100k\": 11.814687239650578}, {\"County\": \"Pierce\", \"County Code\": 53053.0, \"Year\": 2013.0, \"Year Code\": 2013.0, \"Drug/Alcohol Induced Cause\": \"Drug poisonings (overdose) Suicide (X60-X64)\", \"Drug/Alcohol Induced Cause Code\": \"D2\", \"Deaths\": 25.0, \"State\": \"WA\", \"StateFIPS\": 53, \"CountyName\": \"Pierce\", \"StateName\": \"Washington\", \"CountyFIPS\": 53053, \"StateAbbr\": \"WA\", \"STATE_COUNTY\": \"WA | PIERCE\", \"state_abbrev\": \"WA\", \"FIP_unique\": 5305353, \"Population\": 821012.0, \"county_test\": \"Pierce\", \"overdose\": 1, \"overdose_per_100k\": 3.045022484446025}, {\"County\": \"Pierce\", \"County Code\": 53053.0, \"Year\": 2014.0, \"Year Code\": 2014.0, \"Drug/Alcohol Induced Cause\": \"Drug poisonings (overdose) Unintentional (X40-X44)\", \"Drug/Alcohol Induced Cause Code\": \"D1\", \"Deaths\": 94.0, \"State\": \"WA\", \"StateFIPS\": 53, \"CountyName\": \"Pierce\", \"StateName\": \"Washington\", \"CountyFIPS\": 53053, \"StateAbbr\": \"WA\", \"STATE_COUNTY\": \"WA | PIERCE\", \"state_abbrev\": \"WA\", \"FIP_unique\": 5305353, \"Population\": 832696.0, \"county_test\": \"Pierce\", \"overdose\": 1, \"overdose_per_100k\": 11.288633546936698}, {\"County\": \"Pierce\", \"County Code\": 53053.0, \"Year\": 2014.0, \"Year Code\": 2014.0, \"Drug/Alcohol Induced Cause\": \"Drug poisonings (overdose) Suicide (X60-X64)\", \"Drug/Alcohol Induced Cause Code\": \"D2\", \"Deaths\": 30.0, \"State\": \"WA\", \"StateFIPS\": 53, \"CountyName\": \"Pierce\", \"StateName\": \"Washington\", \"CountyFIPS\": 53053, \"StateAbbr\": \"WA\", \"STATE_COUNTY\": \"WA | PIERCE\", \"state_abbrev\": \"WA\", \"FIP_unique\": 5305353, \"Population\": 832696.0, \"county_test\": \"Pierce\", \"overdose\": 1, \"overdose_per_100k\": 3.6027553873202227}, {\"County\": \"Pierce\", \"County Code\": 53053.0, \"Year\": 2015.0, \"Year Code\": 2015.0, \"Drug/Alcohol Induced Cause\": \"Drug poisonings (overdose) Unintentional (X40-X44)\", \"Drug/Alcohol Induced Cause Code\": \"D1\", \"Deaths\": 110.0, \"State\": \"WA\", \"StateFIPS\": 53, \"CountyName\": \"Pierce\", \"StateName\": \"Washington\", \"CountyFIPS\": 53053, \"StateAbbr\": \"WA\", \"STATE_COUNTY\": \"WA | PIERCE\", \"state_abbrev\": \"WA\", \"FIP_unique\": 5305353, \"Population\": 843778.0, \"county_test\": \"Pierce\", \"overdose\": 1, \"overdose_per_100k\": 13.036604414905343}, {\"County\": \"Pierce\", \"County Code\": 53053.0, \"Year\": 2015.0, \"Year Code\": 2015.0, \"Drug/Alcohol Induced Cause\": \"Drug poisonings (overdose) Suicide (X60-X64)\", \"Drug/Alcohol Induced Cause Code\": \"D2\", \"Deaths\": 30.0, \"State\": \"WA\", \"StateFIPS\": 53, \"CountyName\": \"Pierce\", \"StateName\": \"Washington\", \"CountyFIPS\": 53053, \"StateAbbr\": \"WA\", \"STATE_COUNTY\": \"WA | PIERCE\", \"state_abbrev\": \"WA\", \"FIP_unique\": 5305353, \"Population\": 843778.0, \"county_test\": \"Pierce\", \"overdose\": 1, \"overdose_per_100k\": 3.555437567701457}, {\"County\": \"Skagit\", \"County Code\": 53057.0, \"Year\": 2012.0, \"Year Code\": 2012.0, \"Drug/Alcohol Induced Cause\": \"Drug poisonings (overdose) Unintentional (X40-X44)\", \"Drug/Alcohol Induced Cause Code\": \"D1\", \"Deaths\": 17.0, \"State\": \"WA\", \"StateFIPS\": 53, \"CountyName\": \"Skagit\", \"StateName\": \"Washington\", \"CountyFIPS\": 53057, \"StateAbbr\": \"WA\", \"STATE_COUNTY\": \"WA | SKAGIT\", \"state_abbrev\": \"WA\", \"FIP_unique\": 5305753, \"Population\": 117714.0, \"county_test\": \"Skagit\", \"overdose\": 1, \"overdose_per_100k\": 14.441782625685985}, {\"County\": \"Skagit\", \"County Code\": 53057.0, \"Year\": 2013.0, \"Year Code\": 2013.0, \"Drug/Alcohol Induced Cause\": \"Drug poisonings (overdose) Unintentional (X40-X44)\", \"Drug/Alcohol Induced Cause Code\": \"D1\", \"Deaths\": 23.0, \"State\": \"WA\", \"StateFIPS\": 53, \"CountyName\": \"Skagit\", \"StateName\": \"Washington\", \"CountyFIPS\": 53057, \"StateAbbr\": \"WA\", \"STATE_COUNTY\": \"WA | SKAGIT\", \"state_abbrev\": \"WA\", \"FIP_unique\": 5305753, \"Population\": 118255.0, \"county_test\": \"Skagit\", \"overdose\": 1, \"overdose_per_100k\": 19.44949473595197}, {\"County\": \"Skagit\", \"County Code\": 53057.0, \"Year\": 2014.0, \"Year Code\": 2014.0, \"Drug/Alcohol Induced Cause\": \"Drug poisonings (overdose) Unintentional (X40-X44)\", \"Drug/Alcohol Induced Cause Code\": \"D1\", \"Deaths\": 10.0, \"State\": \"WA\", \"StateFIPS\": 53, \"CountyName\": \"Skagit\", \"StateName\": \"Washington\", \"CountyFIPS\": 53057, \"StateAbbr\": \"WA\", \"STATE_COUNTY\": \"WA | SKAGIT\", \"state_abbrev\": \"WA\", \"FIP_unique\": 5305753, \"Population\": 119966.0, \"county_test\": \"Skagit\", \"overdose\": 1, \"overdose_per_100k\": 8.335695113615525}, {\"County\": \"Skagit\", \"County Code\": 53057.0, \"Year\": 2015.0, \"Year Code\": 2015.0, \"Drug/Alcohol Induced Cause\": \"Drug poisonings (overdose) Unintentional (X40-X44)\", \"Drug/Alcohol Induced Cause Code\": \"D1\", \"Deaths\": 18.0, \"State\": \"WA\", \"StateFIPS\": 53, \"CountyName\": \"Skagit\", \"StateName\": \"Washington\", \"CountyFIPS\": 53057, \"StateAbbr\": \"WA\", \"STATE_COUNTY\": \"WA | SKAGIT\", \"state_abbrev\": \"WA\", \"FIP_unique\": 5305753, \"Population\": 121559.0, \"county_test\": \"Skagit\", \"overdose\": 1, \"overdose_per_100k\": 14.807624281213238}, {\"County\": \"Snohomish\", \"County Code\": 53061.0, \"Year\": 2012.0, \"Year Code\": 2012.0, \"Drug/Alcohol Induced Cause\": \"Drug poisonings (overdose) Unintentional (X40-X44)\", \"Drug/Alcohol Induced Cause Code\": \"D1\", \"Deaths\": 114.0, \"State\": \"WA\", \"StateFIPS\": 53, \"CountyName\": \"Snohomish\", \"StateName\": \"Washington\", \"CountyFIPS\": 53061, \"StateAbbr\": \"WA\", \"STATE_COUNTY\": \"WA | SNOHOMISH\", \"state_abbrev\": \"WA\", \"FIP_unique\": 5306153, \"Population\": 732097.0, \"county_test\": \"Snohomish\", \"overdose\": 1, \"overdose_per_100k\": 15.571707027893844}, {\"County\": \"Snohomish\", \"County Code\": 53061.0, \"Year\": 2012.0, \"Year Code\": 2012.0, \"Drug/Alcohol Induced Cause\": \"Drug poisonings (overdose) Suicide (X60-X64)\", \"Drug/Alcohol Induced Cause Code\": \"D2\", \"Deaths\": 17.0, \"State\": \"WA\", \"StateFIPS\": 53, \"CountyName\": \"Snohomish\", \"StateName\": \"Washington\", \"CountyFIPS\": 53061, \"StateAbbr\": \"WA\", \"STATE_COUNTY\": \"WA | SNOHOMISH\", \"state_abbrev\": \"WA\", \"FIP_unique\": 5306153, \"Population\": 732097.0, \"county_test\": \"Snohomish\", \"overdose\": 1, \"overdose_per_100k\": 2.3220966620543453}, {\"County\": \"Snohomish\", \"County Code\": 53061.0, \"Year\": 2013.0, \"Year Code\": 2013.0, \"Drug/Alcohol Induced Cause\": \"Drug poisonings (overdose) Unintentional (X40-X44)\", \"Drug/Alcohol Induced Cause Code\": \"D1\", \"Deaths\": 112.0, \"State\": \"WA\", \"StateFIPS\": 53, \"CountyName\": \"Snohomish\", \"StateName\": \"Washington\", \"CountyFIPS\": 53061, \"StateAbbr\": \"WA\", \"STATE_COUNTY\": \"WA | SNOHOMISH\", \"state_abbrev\": \"WA\", \"FIP_unique\": 5306153, \"Population\": 744112.0, \"county_test\": \"Snohomish\", \"overdose\": 1, \"overdose_per_100k\": 15.05149762401359}, {\"County\": \"Snohomish\", \"County Code\": 53061.0, \"Year\": 2013.0, \"Year Code\": 2013.0, \"Drug/Alcohol Induced Cause\": \"Drug poisonings (overdose) Suicide (X60-X64)\", \"Drug/Alcohol Induced Cause Code\": \"D2\", \"Deaths\": 14.0, \"State\": \"WA\", \"StateFIPS\": 53, \"CountyName\": \"Snohomish\", \"StateName\": \"Washington\", \"CountyFIPS\": 53061, \"StateAbbr\": \"WA\", \"STATE_COUNTY\": \"WA | SNOHOMISH\", \"state_abbrev\": \"WA\", \"FIP_unique\": 5306153, \"Population\": 744112.0, \"county_test\": \"Snohomish\", \"overdose\": 1, \"overdose_per_100k\": 1.8814372030016988}, {\"County\": \"Snohomish\", \"County Code\": 53061.0, \"Year\": 2014.0, \"Year Code\": 2014.0, \"Drug/Alcohol Induced Cause\": \"Drug poisonings (overdose) Unintentional (X40-X44)\", \"Drug/Alcohol Induced Cause Code\": \"D1\", \"Deaths\": 102.0, \"State\": \"WA\", \"StateFIPS\": 53, \"CountyName\": \"Snohomish\", \"StateName\": \"Washington\", \"CountyFIPS\": 53061, \"StateAbbr\": \"WA\", \"STATE_COUNTY\": \"WA | SNOHOMISH\", \"state_abbrev\": \"WA\", \"FIP_unique\": 5306153, \"Population\": 757239.0, \"county_test\": \"Snohomish\", \"overdose\": 1, \"overdose_per_100k\": 13.469987678923033}, {\"County\": \"Snohomish\", \"County Code\": 53061.0, \"Year\": 2014.0, \"Year Code\": 2014.0, \"Drug/Alcohol Induced Cause\": \"Drug poisonings (overdose) Suicide (X60-X64)\", \"Drug/Alcohol Induced Cause Code\": \"D2\", \"Deaths\": 22.0, \"State\": \"WA\", \"StateFIPS\": 53, \"CountyName\": \"Snohomish\", \"StateName\": \"Washington\", \"CountyFIPS\": 53061, \"StateAbbr\": \"WA\", \"STATE_COUNTY\": \"WA | SNOHOMISH\", \"state_abbrev\": \"WA\", \"FIP_unique\": 5306153, \"Population\": 757239.0, \"county_test\": \"Snohomish\", \"overdose\": 1, \"overdose_per_100k\": 2.9052914601598703}, {\"County\": \"Snohomish\", \"County Code\": 53061.0, \"Year\": 2015.0, \"Year Code\": 2015.0, \"Drug/Alcohol Induced Cause\": \"Drug poisonings (overdose) Unintentional (X40-X44)\", \"Drug/Alcohol Induced Cause Code\": \"D1\", \"Deaths\": 114.0, \"State\": \"WA\", \"StateFIPS\": 53, \"CountyName\": \"Snohomish\", \"StateName\": \"Washington\", \"CountyFIPS\": 53061, \"StateAbbr\": \"WA\", \"STATE_COUNTY\": \"WA | SNOHOMISH\", \"state_abbrev\": \"WA\", \"FIP_unique\": 5306153, \"Population\": 769698.0, \"county_test\": \"Snohomish\", \"overdose\": 1, \"overdose_per_100k\": 14.811003796294132}, {\"County\": \"Snohomish\", \"County Code\": 53061.0, \"Year\": 2015.0, \"Year Code\": 2015.0, \"Drug/Alcohol Induced Cause\": \"Drug poisonings (overdose) Suicide (X60-X64)\", \"Drug/Alcohol Induced Cause Code\": \"D2\", \"Deaths\": 13.0, \"State\": \"WA\", \"StateFIPS\": 53, \"CountyName\": \"Snohomish\", \"StateName\": \"Washington\", \"CountyFIPS\": 53061, \"StateAbbr\": \"WA\", \"STATE_COUNTY\": \"WA | SNOHOMISH\", \"state_abbrev\": \"WA\", \"FIP_unique\": 5306153, \"Population\": 769698.0, \"county_test\": \"Snohomish\", \"overdose\": 1, \"overdose_per_100k\": 1.6889741171212607}, {\"County\": \"Spokane\", \"County Code\": 53063.0, \"Year\": 2012.0, \"Year Code\": 2012.0, \"Drug/Alcohol Induced Cause\": \"Drug poisonings (overdose) Unintentional (X40-X44)\", \"Drug/Alcohol Induced Cause Code\": \"D1\", \"Deaths\": 74.0, \"State\": \"WA\", \"StateFIPS\": 53, \"CountyName\": \"Spokane\", \"StateName\": \"Washington\", \"CountyFIPS\": 53063, \"StateAbbr\": \"WA\", \"STATE_COUNTY\": \"WA | SPOKANE\", \"state_abbrev\": \"WA\", \"FIP_unique\": 5306353, \"Population\": 475447.0, \"county_test\": \"Spokane\", \"overdose\": 1, \"overdose_per_100k\": 15.564300542436905}, {\"County\": \"Spokane\", \"County Code\": 53063.0, \"Year\": 2012.0, \"Year Code\": 2012.0, \"Drug/Alcohol Induced Cause\": \"Drug poisonings (overdose) Suicide (X60-X64)\", \"Drug/Alcohol Induced Cause Code\": \"D2\", \"Deaths\": 10.0, \"State\": \"WA\", \"StateFIPS\": 53, \"CountyName\": \"Spokane\", \"StateName\": \"Washington\", \"CountyFIPS\": 53063, \"StateAbbr\": \"WA\", \"STATE_COUNTY\": \"WA | SPOKANE\", \"state_abbrev\": \"WA\", \"FIP_unique\": 5306353, \"Population\": 475447.0, \"county_test\": \"Spokane\", \"overdose\": 1, \"overdose_per_100k\": 2.1032838570860686}, {\"County\": \"Spokane\", \"County Code\": 53063.0, \"Year\": 2013.0, \"Year Code\": 2013.0, \"Drug/Alcohol Induced Cause\": \"Drug poisonings (overdose) Unintentional (X40-X44)\", \"Drug/Alcohol Induced Cause Code\": \"D1\", \"Deaths\": 48.0, \"State\": \"WA\", \"StateFIPS\": 53, \"CountyName\": \"Spokane\", \"StateName\": \"Washington\", \"CountyFIPS\": 53063, \"StateAbbr\": \"WA\", \"STATE_COUNTY\": \"WA | SPOKANE\", \"state_abbrev\": \"WA\", \"FIP_unique\": 5306353, \"Population\": 478332.0, \"county_test\": \"Spokane\", \"overdose\": 1, \"overdose_per_100k\": 10.03487117734126}, {\"County\": \"Spokane\", \"County Code\": 53063.0, \"Year\": 2013.0, \"Year Code\": 2013.0, \"Drug/Alcohol Induced Cause\": \"Drug poisonings (overdose) Suicide (X60-X64)\", \"Drug/Alcohol Induced Cause Code\": \"D2\", \"Deaths\": 15.0, \"State\": \"WA\", \"StateFIPS\": 53, \"CountyName\": \"Spokane\", \"StateName\": \"Washington\", \"CountyFIPS\": 53063, \"StateAbbr\": \"WA\", \"STATE_COUNTY\": \"WA | SPOKANE\", \"state_abbrev\": \"WA\", \"FIP_unique\": 5306353, \"Population\": 478332.0, \"county_test\": \"Spokane\", \"overdose\": 1, \"overdose_per_100k\": 3.135897242919144}, {\"County\": \"Spokane\", \"County Code\": 53063.0, \"Year\": 2013.0, \"Year Code\": 2013.0, \"Drug/Alcohol Induced Cause\": \"Alcohol poisonings (overdose) (X45, X65, Y15)\", \"Drug/Alcohol Induced Cause Code\": \"A1\", \"Deaths\": 11.0, \"State\": \"WA\", \"StateFIPS\": 53, \"CountyName\": \"Spokane\", \"StateName\": \"Washington\", \"CountyFIPS\": 53063, \"StateAbbr\": \"WA\", \"STATE_COUNTY\": \"WA | SPOKANE\", \"state_abbrev\": \"WA\", \"FIP_unique\": 5306353, \"Population\": 478332.0, \"county_test\": \"Spokane\", \"overdose\": 1, \"overdose_per_100k\": 2.2996579781407056}, {\"County\": \"Spokane\", \"County Code\": 53063.0, \"Year\": 2014.0, \"Year Code\": 2014.0, \"Drug/Alcohol Induced Cause\": \"Drug poisonings (overdose) Unintentional (X40-X44)\", \"Drug/Alcohol Induced Cause Code\": \"D1\", \"Deaths\": 50.0, \"State\": \"WA\", \"StateFIPS\": 53, \"CountyName\": \"Spokane\", \"StateName\": \"Washington\", \"CountyFIPS\": 53063, \"StateAbbr\": \"WA\", \"STATE_COUNTY\": \"WA | SPOKANE\", \"state_abbrev\": \"WA\", \"FIP_unique\": 5306353, \"Population\": 482857.0, \"county_test\": \"Spokane\", \"overdose\": 1, \"overdose_per_100k\": 10.355032649417945}, {\"County\": \"Spokane\", \"County Code\": 53063.0, \"Year\": 2015.0, \"Year Code\": 2015.0, \"Drug/Alcohol Induced Cause\": \"Drug poisonings (overdose) Unintentional (X40-X44)\", \"Drug/Alcohol Induced Cause Code\": \"D1\", \"Deaths\": 74.0, \"State\": \"WA\", \"StateFIPS\": 53, \"CountyName\": \"Spokane\", \"StateName\": \"Washington\", \"CountyFIPS\": 53063, \"StateAbbr\": \"WA\", \"STATE_COUNTY\": \"WA | SPOKANE\", \"state_abbrev\": \"WA\", \"FIP_unique\": 5306353, \"Population\": 488610.0, \"county_test\": \"Spokane\", \"overdose\": 1, \"overdose_per_100k\": 15.145003172264179}, {\"County\": \"Spokane\", \"County Code\": 53063.0, \"Year\": 2015.0, \"Year Code\": 2015.0, \"Drug/Alcohol Induced Cause\": \"Drug poisonings (overdose) Suicide (X60-X64)\", \"Drug/Alcohol Induced Cause Code\": \"D2\", \"Deaths\": 18.0, \"State\": \"WA\", \"StateFIPS\": 53, \"CountyName\": \"Spokane\", \"StateName\": \"Washington\", \"CountyFIPS\": 53063, \"StateAbbr\": \"WA\", \"STATE_COUNTY\": \"WA | SPOKANE\", \"state_abbrev\": \"WA\", \"FIP_unique\": 5306353, \"Population\": 488610.0, \"county_test\": \"Spokane\", \"overdose\": 1, \"overdose_per_100k\": 3.683919690550746}, {\"County\": \"Thurston\", \"County Code\": 53067.0, \"Year\": 2012.0, \"Year Code\": 2012.0, \"Drug/Alcohol Induced Cause\": \"Drug poisonings (overdose) Unintentional (X40-X44)\", \"Drug/Alcohol Induced Cause Code\": \"D1\", \"Deaths\": 25.0, \"State\": \"WA\", \"StateFIPS\": 53, \"CountyName\": \"Thurston\", \"StateName\": \"Washington\", \"CountyFIPS\": 53067, \"StateAbbr\": \"WA\", \"STATE_COUNTY\": \"WA | THURSTON\", \"state_abbrev\": \"WA\", \"FIP_unique\": 5306753, \"Population\": 258527.0, \"county_test\": \"Thurston\", \"overdose\": 1, \"overdose_per_100k\": 9.67016984686319}, {\"County\": \"Thurston\", \"County Code\": 53067.0, \"Year\": 2013.0, \"Year Code\": 2013.0, \"Drug/Alcohol Induced Cause\": \"Drug poisonings (overdose) Unintentional (X40-X44)\", \"Drug/Alcohol Induced Cause Code\": \"D1\", \"Deaths\": 25.0, \"State\": \"WA\", \"StateFIPS\": 53, \"CountyName\": \"Thurston\", \"StateName\": \"Washington\", \"CountyFIPS\": 53067, \"StateAbbr\": \"WA\", \"STATE_COUNTY\": \"WA | THURSTON\", \"state_abbrev\": \"WA\", \"FIP_unique\": 5306753, \"Population\": 261852.0, \"county_test\": \"Thurston\", \"overdose\": 1, \"overdose_per_100k\": 9.547377908131311}, {\"County\": \"Thurston\", \"County Code\": 53067.0, \"Year\": 2014.0, \"Year Code\": 2014.0, \"Drug/Alcohol Induced Cause\": \"Drug poisonings (overdose) Unintentional (X40-X44)\", \"Drug/Alcohol Induced Cause Code\": \"D1\", \"Deaths\": 20.0, \"State\": \"WA\", \"StateFIPS\": 53, \"CountyName\": \"Thurston\", \"StateName\": \"Washington\", \"CountyFIPS\": 53067, \"StateAbbr\": \"WA\", \"STATE_COUNTY\": \"WA | THURSTON\", \"state_abbrev\": \"WA\", \"FIP_unique\": 5306753, \"Population\": 264909.0, \"county_test\": \"Thurston\", \"overdose\": 1, \"overdose_per_100k\": 7.549762371229366}, {\"County\": \"Thurston\", \"County Code\": 53067.0, \"Year\": 2015.0, \"Year Code\": 2015.0, \"Drug/Alcohol Induced Cause\": \"Drug poisonings (overdose) Unintentional (X40-X44)\", \"Drug/Alcohol Induced Cause Code\": \"D1\", \"Deaths\": 26.0, \"State\": \"WA\", \"StateFIPS\": 53, \"CountyName\": \"Thurston\", \"StateName\": \"Washington\", \"CountyFIPS\": 53067, \"StateAbbr\": \"WA\", \"STATE_COUNTY\": \"WA | THURSTON\", \"state_abbrev\": \"WA\", \"FIP_unique\": 5306753, \"Population\": 267978.0, \"county_test\": \"Thurston\", \"overdose\": 1, \"overdose_per_100k\": 9.702288993872632}, {\"County\": \"Walla Walla\", \"County Code\": 53071.0, \"Year\": 2014.0, \"Year Code\": 2014.0, \"Drug/Alcohol Induced Cause\": \"Drug poisonings (overdose) Unintentional (X40-X44)\", \"Drug/Alcohol Induced Cause Code\": \"D1\", \"Deaths\": 13.0, \"State\": \"WA\", \"StateFIPS\": 53, \"CountyName\": \"Walla Walla\", \"StateName\": \"Washington\", \"CountyFIPS\": 53071, \"StateAbbr\": \"WA\", \"STATE_COUNTY\": \"WA | WALLA WALLA\", \"state_abbrev\": \"WA\", \"FIP_unique\": 5307153, \"Population\": 59510.0, \"county_test\": \"Walla Walla\", \"overdose\": 1, \"overdose_per_100k\": 21.845068055788943}, {\"County\": \"Whatcom\", \"County Code\": 53073.0, \"Year\": 2012.0, \"Year Code\": 2012.0, \"Drug/Alcohol Induced Cause\": \"Drug poisonings (overdose) Unintentional (X40-X44)\", \"Drug/Alcohol Induced Cause Code\": \"D1\", \"Deaths\": 13.0, \"State\": \"WA\", \"StateFIPS\": 53, \"CountyName\": \"Whatcom\", \"StateName\": \"Washington\", \"CountyFIPS\": 53073, \"StateAbbr\": \"WA\", \"STATE_COUNTY\": \"WA | WHATCOM\", \"state_abbrev\": \"WA\", \"FIP_unique\": 5307353, \"Population\": 204863.0, \"county_test\": \"Whatcom\", \"overdose\": 1, \"overdose_per_100k\": 6.345704202320576}, {\"County\": \"Whatcom\", \"County Code\": 53073.0, \"Year\": 2013.0, \"Year Code\": 2013.0, \"Drug/Alcohol Induced Cause\": \"Drug poisonings (overdose) Unintentional (X40-X44)\", \"Drug/Alcohol Induced Cause Code\": \"D1\", \"Deaths\": 13.0, \"State\": \"WA\", \"StateFIPS\": 53, \"CountyName\": \"Whatcom\", \"StateName\": \"Washington\", \"CountyFIPS\": 53073, \"StateAbbr\": \"WA\", \"STATE_COUNTY\": \"WA | WHATCOM\", \"state_abbrev\": \"WA\", \"FIP_unique\": 5307353, \"Population\": 206073.0, \"county_test\": \"Whatcom\", \"overdose\": 1, \"overdose_per_100k\": 6.308444095053694}, {\"County\": \"Whatcom\", \"County Code\": 53073.0, \"Year\": 2014.0, \"Year Code\": 2014.0, \"Drug/Alcohol Induced Cause\": \"Drug poisonings (overdose) Unintentional (X40-X44)\", \"Drug/Alcohol Induced Cause Code\": \"D1\", \"Deaths\": 14.0, \"State\": \"WA\", \"StateFIPS\": 53, \"CountyName\": \"Whatcom\", \"StateName\": \"Washington\", \"CountyFIPS\": 53073, \"StateAbbr\": \"WA\", \"STATE_COUNTY\": \"WA | WHATCOM\", \"state_abbrev\": \"WA\", \"FIP_unique\": 5307353, \"Population\": 208154.0, \"county_test\": \"Whatcom\", \"overdose\": 1, \"overdose_per_100k\": 6.72578955965295}, {\"County\": \"Whatcom\", \"County Code\": 53073.0, \"Year\": 2015.0, \"Year Code\": 2015.0, \"Drug/Alcohol Induced Cause\": \"Drug poisonings (overdose) Unintentional (X40-X44)\", \"Drug/Alcohol Induced Cause Code\": \"D1\", \"Deaths\": 23.0, \"State\": \"WA\", \"StateFIPS\": 53, \"CountyName\": \"Whatcom\", \"StateName\": \"Washington\", \"CountyFIPS\": 53073, \"StateAbbr\": \"WA\", \"STATE_COUNTY\": \"WA | WHATCOM\", \"state_abbrev\": \"WA\", \"FIP_unique\": 5307353, \"Population\": 211836.0, \"county_test\": \"Whatcom\", \"overdose\": 1, \"overdose_per_100k\": 10.857455767669329}, {\"County\": \"Yakima\", \"County Code\": 53077.0, \"Year\": 2012.0, \"Year Code\": 2012.0, \"Drug/Alcohol Induced Cause\": \"Drug poisonings (overdose) Unintentional (X40-X44)\", \"Drug/Alcohol Induced Cause Code\": \"D1\", \"Deaths\": 25.0, \"State\": \"WA\", \"StateFIPS\": 53, \"CountyName\": \"Yakima\", \"StateName\": \"Washington\", \"CountyFIPS\": 53077, \"StateAbbr\": \"WA\", \"STATE_COUNTY\": \"WA | YAKIMA\", \"state_abbrev\": \"WA\", \"FIP_unique\": 5307753, \"Population\": 246127.0, \"county_test\": \"Yakima\", \"overdose\": 1, \"overdose_per_100k\": 10.157357786833627}, {\"County\": \"Yakima\", \"County Code\": 53077.0, \"Year\": 2013.0, \"Year Code\": 2013.0, \"Drug/Alcohol Induced Cause\": \"Drug poisonings (overdose) Unintentional (X40-X44)\", \"Drug/Alcohol Induced Cause Code\": \"D1\", \"Deaths\": 14.0, \"State\": \"WA\", \"StateFIPS\": 53, \"CountyName\": \"Yakima\", \"StateName\": \"Washington\", \"CountyFIPS\": 53077, \"StateAbbr\": \"WA\", \"STATE_COUNTY\": \"WA | YAKIMA\", \"state_abbrev\": \"WA\", \"FIP_unique\": 5307753, \"Population\": 246485.0, \"county_test\": \"Yakima\", \"overdose\": 1, \"overdose_per_100k\": 5.6798588149380285}, {\"County\": \"Yakima\", \"County Code\": 53077.0, \"Year\": 2014.0, \"Year Code\": 2014.0, \"Drug/Alcohol Induced Cause\": \"Drug poisonings (overdose) Unintentional (X40-X44)\", \"Drug/Alcohol Induced Cause Code\": \"D1\", \"Deaths\": 23.0, \"State\": \"WA\", \"StateFIPS\": 53, \"CountyName\": \"Yakima\", \"StateName\": \"Washington\", \"CountyFIPS\": 53077, \"StateAbbr\": \"WA\", \"STATE_COUNTY\": \"WA | YAKIMA\", \"state_abbrev\": \"WA\", \"FIP_unique\": 5307753, \"Population\": 246870.0, \"county_test\": \"Yakima\", \"overdose\": 1, \"overdose_per_100k\": 9.316644387734435}, {\"County\": \"Yakima\", \"County Code\": 53077.0, \"Year\": 2015.0, \"Year Code\": 2015.0, \"Drug/Alcohol Induced Cause\": \"Drug poisonings (overdose) Unintentional (X40-X44)\", \"Drug/Alcohol Induced Cause Code\": \"D1\", \"Deaths\": 26.0, \"State\": \"WA\", \"StateFIPS\": 53, \"CountyName\": \"Yakima\", \"StateName\": \"Washington\", \"CountyFIPS\": 53077, \"StateAbbr\": \"WA\", \"STATE_COUNTY\": \"WA | YAKIMA\", \"state_abbrev\": \"WA\", \"FIP_unique\": 5307753, \"Population\": 247800.0, \"county_test\": \"Yakima\", \"overdose\": 1, \"overdose_per_100k\": 10.49233252623083}]}}, {\"mode\": \"vega-lite\"});\n",
       "</script>"
      ],
      "text/plain": [
       "alt.LayerChart(...)"
      ]
     },
     "execution_count": 43,
     "metadata": {},
     "output_type": "execute_result"
    }
   ],
   "source": [
    "# saved original code for plotting\n",
    "wa_deaths.groupby(\"Year\")[\"overdose_per_100k\"].agg([np.mean, np.std])\n",
    "\n",
    "wa_deaths_b4 = wa_deaths[wa_deaths[\"Year\"] < 2012]\n",
    "wa_deaths_after = wa_deaths[wa_deaths[\"Year\"] >= 2012]\n",
    "\n",
    "source_data = wa_deaths_b4\n",
    "\n",
    "plot_wa_b4 = alt.Chart(source_data).mark_point().encode(\n",
    "    y=alt.Y(\"mean_overdose:Q\", scale=alt.Scale(zero=False)),\n",
    "    x=alt.X(\"Year:O\", scale=alt.Scale(zero=False))\n",
    ").transform_aggregate(\n",
    "    mean_overdose='mean(overdose_per_100k)',\n",
    "    groupby=[\"Year\"]\n",
    ")\n",
    "\n",
    "plot_wa_b4\n",
    "\n",
    "fit_wa_b4 = plot_wa_b4.transform_regression('Year', 'mean_overdose',method=\"linear\"\n",
    ").mark_line()\n",
    "\n",
    "fit_wa_b4\n",
    "\n",
    "source_data = wa_deaths_after\n",
    "\n",
    "plot_wa_after = alt.Chart(source_data).mark_point().encode(\n",
    "    y=alt.Y(\"mean_overdose:Q\", scale=alt.Scale(zero=False)),\n",
    "    x=alt.X(\"Year:O\", scale=alt.Scale(zero=False))\n",
    ").transform_aggregate(\n",
    "    mean_overdose='mean(overdose_per_100k)',\n",
    "    groupby=[\"Year\"]\n",
    ")\n",
    "\n",
    "plot_wa_after\n",
    "\n",
    "fit_wa_after = plot_wa_after.transform_regression('Year', 'mean_overdose',method=\"linear\"\n",
    ").mark_line()\n",
    "\n",
    "fit_wa_after\n",
    "\n",
    "plot_wa_b4 + fit_wa_b4 + plot_wa_after + fit_wa_after"
   ]
  },
  {
   "cell_type": "code",
   "execution_count": 19,
   "metadata": {},
   "outputs": [],
   "source": [
    "# create a scale for number of years before and after 2007 (target year)\n",
    "\n",
    "def scale_years(year):\n",
    "    if year == 2009:\n",
    "        return -3\n",
    "    if year == 2010:\n",
    "        return -2\n",
    "    if year == 2011:\n",
    "        return -1\n",
    "    if year == 2012:\n",
    "        return 0\n",
    "    if year == 2013:\n",
    "        return 1\n",
    "    if year == 2014:\n",
    "        return 2\n",
    "    if year == 2015:\n",
    "        return 3\n",
    "\n",
    "wa_stats[\"year relative to policy\"] = wa_stats[\"Year\"].apply(lambda x: scale_years(x))\n",
    "# comp_result[\"year relative to policy\"] = comp_result[\"Year\"].apply(lambda x: scale_years(x))\n",
    "\n",
    "# double check no nulls in \"year relative to policy\"\n",
    "\n",
    "assert (wa_stats[\"year relative to policy\"].isnull().sum() == 0)\n",
    "# assert (comp_result[\"year relative to policy\"].isnull().sum() == 0)\n",
    "\n",
    "# doing this in case the float == int comparison causes issues"
   ]
  },
  {
   "cell_type": "code",
   "execution_count": 25,
   "metadata": {},
   "outputs": [],
   "source": [
    "# split into before 2007 and after 2007\n",
    "\n",
    "wa_b4 = wa_stats[wa_stats[\"Year\"] < 2012]\n",
    "wa_after = wa_stats[wa_stats[\"Year\"] > 2012]\n",
    "\n",
    "\n",
    "# wa_after = wa_after[wa_after[\"Year\"] != 2007] # may need to handle this differently"
   ]
  },
  {
   "cell_type": "code",
   "execution_count": 26,
   "metadata": {},
   "outputs": [],
   "source": [
    "from sklearn.linear_model import LinearRegression \n",
    "\n",
    "regressor_b4 = LinearRegression() \n",
    "regressor_after = LinearRegression()\n",
    "\n",
    "\n",
    "X_b4 = np.array(wa_b4[\"year relative to policy\"]).reshape(-1, 1)\n",
    "y_b4 = np.array(wa_b4[\"overdose_per_100k\"]).reshape(-1, 1)\n",
    "\n",
    "X_after = np.array(wa_after[\"year relative to policy\"]).reshape(-1, 1)\n",
    "y_after = np.array(wa_after[\"overdose_per_100k\"]).reshape(-1, 1)\n",
    "\n",
    "\n",
    "regressor_b4.fit(X_b4,y_b4) \n",
    "regressor_after.fit(X_after,y_after) \n",
    "\n",
    "\n",
    "y_pred_b4 = regressor_b4.predict(X_b4)\n",
    "y_pred_after = regressor_after.predict(X_b4)"
   ]
  },
  {
   "cell_type": "code",
   "execution_count": 27,
   "metadata": {},
   "outputs": [
    {
     "data": {
      "text/plain": [
       "array([[10.75801182],\n",
       "       [10.07507609],\n",
       "       [ 9.39214037]])"
      ]
     },
     "execution_count": 27,
     "metadata": {},
     "output_type": "execute_result"
    }
   ],
   "source": [
    "y_pred_b4"
   ]
  },
  {
   "cell_type": "code",
   "execution_count": 28,
   "metadata": {},
   "outputs": [
    {
     "data": {
      "text/plain": [
       "array([[6.92152372],\n",
       "       [7.54968398],\n",
       "       [8.17784423]])"
      ]
     },
     "execution_count": 28,
     "metadata": {},
     "output_type": "execute_result"
    }
   ],
   "source": [
    "y_pred_after"
   ]
  },
  {
   "cell_type": "code",
   "execution_count": 29,
   "metadata": {},
   "outputs": [
    {
     "data": {
      "text/plain": [
       "[<matplotlib.lines.Line2D at 0x147a6f400>]"
      ]
     },
     "execution_count": 29,
     "metadata": {},
     "output_type": "execute_result"
    },
    {
     "data": {
      "image/png": "[encoded data removed]",
      "text/plain": [
       "<Figure size 640x480 with 1 Axes>"
      ]
     },
     "metadata": {},
     "output_type": "display_data"
    }
   ],
   "source": [
    "plt.xlim(-3, 3)\n",
    "#plt.ylim(0, 500)\n",
    "\n",
    "plt.title(\"Overdose Deaths in Washington\")\n",
    "\n",
    "plt.plot(X_b4, y_pred_b4,color='k')\n",
    "plt.plot(X_after, y_pred_after,color='k')\n",
    "\n",
    "# plot avg value in each year"
   ]
  },
  {
   "cell_type": "code",
   "execution_count": 30,
   "metadata": {},
   "outputs": [],
   "source": [
    "x = \"Year\"\n",
    "y = \"overdose_per_100k\""
   ]
  },
  {
   "cell_type": "code",
   "execution_count": 31,
   "metadata": {},
   "outputs": [],
   "source": [
    "def vertical_line(year):\n",
    "    \"\"\"Function to plot a vertical line at year of policy implementation\"\"\"\n",
    "    line = alt.Chart(pd.DataFrame({\n",
    "    'Date': [year],\n",
    "    'color': [\"black\"]\n",
    "    })).mark_rule().encode(\n",
    "    x='Date:Q', # use q for \"quantitative\" - as per altair docs\n",
    "    color=alt.Color('color:N', scale=None)\n",
    "    )\n",
    "\n",
    "    return line"
   ]
  },
  {
   "cell_type": "code",
   "execution_count": 32,
   "metadata": {},
   "outputs": [],
   "source": [
    "# test function\n",
    "line = vertical_line(2004)"
   ]
  },
  {
   "cell_type": "code",
   "execution_count": 33,
   "metadata": {},
   "outputs": [],
   "source": [
    "def get_charts(b4, after, title_b4, title_after):\n",
    "    \"\"\"\n",
    "    Function to plot the pre and post charts.\n",
    "    Will not use in final plot - used as a baseline for our fit charts later.\n",
    "\n",
    "    \"\"\"\n",
    "\n",
    "    base_before = (\n",
    "        alt.Chart(b4)\n",
    "        .mark_point()\n",
    "        .encode(\n",
    "            y=alt.Y(\"overdose_per_100k\", scale=alt.Scale(zero=False)),\n",
    "            x=alt.X(\"year relative to policy\", scale=alt.Scale(zero=False)),\n",
    "        )\n",
    "        .properties(title=title_b4)\n",
    "        \n",
    "    )\n",
    "\n",
    "    base_after = (\n",
    "        alt.Chart(after)\n",
    "        .mark_point()\n",
    "        .encode(\n",
    "            y=alt.Y(\"overdose_per_100k\", scale=alt.Scale(zero=False)),\n",
    "            x=alt.X(\"year relative to policy\", scale=alt.Scale(zero=False)),\n",
    "        )\n",
    "        .properties(title=title_after)\n",
    "    )\n",
    "\n",
    "    return base_before, base_after"
   ]
  },
  {
   "cell_type": "code",
   "execution_count": 35,
   "metadata": {},
   "outputs": [
    {
     "data": {
      "text/html": [
       "\n",
       "<div id=\"altair-viz-6a8a1be619fc4321ad7edfddb6f45bbe\"></div>\n",
       "<script type=\"text/javascript\">\n",
       "  var VEGA_DEBUG = (typeof VEGA_DEBUG == \"undefined\") ? {} : VEGA_DEBUG;\n",
       "  (function(spec, embedOpt){\n",
       "    let outputDiv = document.currentScript.previousElementSibling;\n",
       "    if (outputDiv.id !== \"altair-viz-6a8a1be619fc4321ad7edfddb6f45bbe\") {\n",
       "      outputDiv = document.getElementById(\"altair-viz-6a8a1be619fc4321ad7edfddb6f45bbe\");\n",
       "    }\n",
       "    const paths = {\n",
       "      \"vega\": \"https://cdn.jsdelivr.net/npm//vega@5?noext\",\n",
       "      \"vega-lib\": \"https://cdn.jsdelivr.net/npm//vega-lib?noext\",\n",
       "      \"vega-lite\": \"https://cdn.jsdelivr.net/npm//vega-lite@4.17.0?noext\",\n",
       "      \"vega-embed\": \"https://cdn.jsdelivr.net/npm//vega-embed@6?noext\",\n",
       "    };\n",
       "\n",
       "    function maybeLoadScript(lib, version) {\n",
       "      var key = `${lib.replace(\"-\", \"\")}_version`;\n",
       "      return (VEGA_DEBUG[key] == version) ?\n",
       "        Promise.resolve(paths[lib]) :\n",
       "        new Promise(function(resolve, reject) {\n",
       "          var s = document.createElement('script');\n",
       "          document.getElementsByTagName(\"head\")[0].appendChild(s);\n",
       "          s.async = true;\n",
       "          s.onload = () => {\n",
       "            VEGA_DEBUG[key] = version;\n",
       "            return resolve(paths[lib]);\n",
       "          };\n",
       "          s.onerror = () => reject(`Error loading script: ${paths[lib]}`);\n",
       "          s.src = paths[lib];\n",
       "        });\n",
       "    }\n",
       "\n",
       "    function showError(err) {\n",
       "      outputDiv.innerHTML = `<div class=\"error\" style=\"color:red;\">${err}</div>`;\n",
       "      throw err;\n",
       "    }\n",
       "\n",
       "    function displayChart(vegaEmbed) {\n",
       "      vegaEmbed(outputDiv, spec, embedOpt)\n",
       "        .catch(err => showError(`Javascript Error: ${err.message}<br>This usually means there's a typo in your chart specification. See the javascript console for the full traceback.`));\n",
       "    }\n",
       "\n",
       "    if(typeof define === \"function\" && define.amd) {\n",
       "      requirejs.config({paths});\n",
       "      require([\"vega-embed\"], displayChart, err => showError(`Error loading script: ${err.message}`));\n",
       "    } else {\n",
       "      maybeLoadScript(\"vega\", \"5\")\n",
       "        .then(() => maybeLoadScript(\"vega-lite\", \"4.17.0\"))\n",
       "        .then(() => maybeLoadScript(\"vega-embed\", \"6\"))\n",
       "        .catch(showError)\n",
       "        .then(() => displayChart(vegaEmbed));\n",
       "    }\n",
       "  })({\"config\": {\"view\": {\"continuousWidth\": 400, \"continuousHeight\": 300}}, \"layer\": [{\"data\": {\"name\": \"data-22172bb1dc749e6070dff576804a60d4\"}, \"mark\": \"point\", \"encoding\": {\"x\": {\"field\": \"year relative to policy\", \"scale\": {\"zero\": false}, \"type\": \"quantitative\"}, \"y\": {\"field\": \"overdose_per_100k\", \"scale\": {\"zero\": false}, \"type\": \"quantitative\"}}, \"title\": \"deaths before policy\"}, {\"data\": {\"name\": \"data-36bc583f4aa8dd717e17bbc1b6f49b83\"}, \"mark\": \"point\", \"encoding\": {\"x\": {\"field\": \"year relative to policy\", \"scale\": {\"zero\": false}, \"type\": \"quantitative\"}, \"y\": {\"field\": \"overdose_per_100k\", \"scale\": {\"zero\": false}, \"type\": \"quantitative\"}}, \"title\": \"deaths after policy\"}], \"$schema\": \"https://vega.github.io/schema/vega-lite/v4.17.0.json\", \"datasets\": {\"data-22172bb1dc749e6070dff576804a60d4\": [{\"Year\": 2009.0, \"overdose_per_100k\": 11.487929916857134, \"year relative to policy\": -3}, {\"Year\": 2010.0, \"overdose_per_100k\": 8.615239892713257, \"year relative to policy\": -2}, {\"Year\": 2011.0, \"overdose_per_100k\": 10.122058471723449, \"year relative to policy\": -1}], \"data-36bc583f4aa8dd717e17bbc1b6f49b83\": [{\"Year\": 2013.0, \"overdose_per_100k\": 9.378391545083028, \"year relative to policy\": 1}, {\"Year\": 2014.0, \"overdose_per_100k\": 10.173871400730706, \"year relative to policy\": 2}, {\"Year\": 2015.0, \"overdose_per_100k\": 10.634712055675848, \"year relative to policy\": 3}]}}, {\"mode\": \"vega-lite\"});\n",
       "</script>"
      ],
      "text/plain": [
       "alt.LayerChart(...)"
      ]
     },
     "execution_count": 35,
     "metadata": {},
     "output_type": "execute_result"
    }
   ],
   "source": [
    "# test the function\n",
    "# may remove title parameters later - not really necessary as we aren't plotting this part in our final analysis\n",
    "# however, if we can't add a title to our fit/regression line charts, we may need to add them here\n",
    "base_before, base_after = get_charts(b4 = wa_b4, after = wa_after, title_b4 = \"deaths before policy\", title_after=\"deaths after policy\")\n",
    "base_before + base_after"
   ]
  },
  {
   "cell_type": "code",
   "execution_count": 37,
   "metadata": {},
   "outputs": [],
   "source": [
    "# starting here in final report\n",
    "# no longer calculating base chart above - just adding in regression line at same time\n",
    "def get_preds(df, x, y):\n",
    "\n",
    "    # init new empty df for our predictions\n",
    "    predictions = pd.DataFrame()\n",
    "\n",
    "    # fit our model and predict values\n",
    "    model = smf.ols(f\"{y} ~ {x}\", data=df).fit()\n",
    "    model_predict = model.get_prediction(df[x])\n",
    "\n",
    "    # save predictions back to df, calculate confidence intervals\n",
    "    predictions[\"overdose_per_100k\"] = model.predict(df[x])\n",
    "    predictions[[\"ci_low\", \"ci_high\"]] = model_predict.conf_int(alpha=0.05)\n",
    "\n",
    "    # save original year columns to new predictions df\n",
    "    predictions[\"Year\"] = df[\"Year\"]\n",
    "    predictions[\"year relative to policy\"] = df[\"year relative to policy\"]\n",
    "    return predictions"
   ]
  },
  {
   "cell_type": "code",
   "execution_count": 39,
   "metadata": {},
   "outputs": [],
   "source": [
    "wa_b4_preds = get_preds(wa_b4, x, y)\n",
    "wa_after_preds = get_preds(wa_after, x, y)"
   ]
  },
  {
   "cell_type": "code",
   "execution_count": 40,
   "metadata": {},
   "outputs": [],
   "source": [
    "def get_charts(b4, after, title_b4, title_after, color):\n",
    "    \"\"\"\n",
    "    Function to plot the pre and post charts.\n",
    "    Will not use in final plot - used as a baseline for our fit charts later.\n",
    "\n",
    "    \"\"\"\n",
    "\n",
    "    base_before = (\n",
    "        alt.Chart(b4)\n",
    "        .mark_point()\n",
    "        .encode(\n",
    "            y=alt.Y(\"overdose_per_100k\", scale=alt.Scale(zero=False)),\n",
    "            x=alt.X(\"year relative to policy\", scale=alt.Scale(zero=False)),\n",
    "        )\n",
    "        .properties(title=title_b4).transform_regression(\"year relative to policy\", \"overdose_per_100k\")\n",
    "    .mark_line()\n",
    "    .encode(color=alt.value(color))\n",
    "        \n",
    "    )\n",
    "\n",
    "    base_after = (\n",
    "        alt.Chart(after)\n",
    "        .mark_point()\n",
    "        .encode(\n",
    "            y=alt.Y(\"overdose_per_100k\", scale=alt.Scale(zero=False)),\n",
    "            x=alt.X(\"year relative to policy\", scale=alt.Scale(zero=False)),\n",
    "            \n",
    "        )\n",
    "        .properties(title=title_after).transform_regression(\"year relative to policy\", \"overdose_per_100k\")\n",
    "    .mark_line()\n",
    "    .encode(color=alt.value(color))\n",
    "    )\n",
    "\n",
    "    return base_before, base_after"
   ]
  },
  {
   "cell_type": "code",
   "execution_count": 41,
   "metadata": {},
   "outputs": [
    {
     "data": {
      "text/html": [
       "\n",
       "<div id=\"altair-viz-a8026e04b1cc4b02b36e566973b9e3ff\"></div>\n",
       "<script type=\"text/javascript\">\n",
       "  var VEGA_DEBUG = (typeof VEGA_DEBUG == \"undefined\") ? {} : VEGA_DEBUG;\n",
       "  (function(spec, embedOpt){\n",
       "    let outputDiv = document.currentScript.previousElementSibling;\n",
       "    if (outputDiv.id !== \"altair-viz-a8026e04b1cc4b02b36e566973b9e3ff\") {\n",
       "      outputDiv = document.getElementById(\"altair-viz-a8026e04b1cc4b02b36e566973b9e3ff\");\n",
       "    }\n",
       "    const paths = {\n",
       "      \"vega\": \"https://cdn.jsdelivr.net/npm//vega@5?noext\",\n",
       "      \"vega-lib\": \"https://cdn.jsdelivr.net/npm//vega-lib?noext\",\n",
       "      \"vega-lite\": \"https://cdn.jsdelivr.net/npm//vega-lite@4.17.0?noext\",\n",
       "      \"vega-embed\": \"https://cdn.jsdelivr.net/npm//vega-embed@6?noext\",\n",
       "    };\n",
       "\n",
       "    function maybeLoadScript(lib, version) {\n",
       "      var key = `${lib.replace(\"-\", \"\")}_version`;\n",
       "      return (VEGA_DEBUG[key] == version) ?\n",
       "        Promise.resolve(paths[lib]) :\n",
       "        new Promise(function(resolve, reject) {\n",
       "          var s = document.createElement('script');\n",
       "          document.getElementsByTagName(\"head\")[0].appendChild(s);\n",
       "          s.async = true;\n",
       "          s.onload = () => {\n",
       "            VEGA_DEBUG[key] = version;\n",
       "            return resolve(paths[lib]);\n",
       "          };\n",
       "          s.onerror = () => reject(`Error loading script: ${paths[lib]}`);\n",
       "          s.src = paths[lib];\n",
       "        });\n",
       "    }\n",
       "\n",
       "    function showError(err) {\n",
       "      outputDiv.innerHTML = `<div class=\"error\" style=\"color:red;\">${err}</div>`;\n",
       "      throw err;\n",
       "    }\n",
       "\n",
       "    function displayChart(vegaEmbed) {\n",
       "      vegaEmbed(outputDiv, spec, embedOpt)\n",
       "        .catch(err => showError(`Javascript Error: ${err.message}<br>This usually means there's a typo in your chart specification. See the javascript console for the full traceback.`));\n",
       "    }\n",
       "\n",
       "    if(typeof define === \"function\" && define.amd) {\n",
       "      requirejs.config({paths});\n",
       "      require([\"vega-embed\"], displayChart, err => showError(`Error loading script: ${err.message}`));\n",
       "    } else {\n",
       "      maybeLoadScript(\"vega\", \"5\")\n",
       "        .then(() => maybeLoadScript(\"vega-lite\", \"4.17.0\"))\n",
       "        .then(() => maybeLoadScript(\"vega-embed\", \"6\"))\n",
       "        .catch(showError)\n",
       "        .then(() => displayChart(vegaEmbed));\n",
       "    }\n",
       "  })({\"config\": {\"view\": {\"continuousWidth\": 400, \"continuousHeight\": 300}}, \"layer\": [{\"data\": {\"name\": \"data-8ddcdb4b7f76ddcc91e85c63db0279ed\"}, \"mark\": \"line\", \"encoding\": {\"color\": {\"value\": \"red\"}, \"x\": {\"field\": \"year relative to policy\", \"scale\": {\"zero\": false}, \"type\": \"quantitative\"}, \"y\": {\"field\": \"overdose_per_100k\", \"scale\": {\"zero\": false}, \"type\": \"quantitative\"}}, \"title\": \"Deaths Before Policy Implementation\", \"transform\": [{\"on\": \"year relative to policy\", \"regression\": \"overdose_per_100k\"}]}, {\"data\": {\"name\": \"data-2eb905f7a8e007b53865ef009fed619f\"}, \"mark\": \"line\", \"encoding\": {\"color\": {\"value\": \"red\"}, \"x\": {\"field\": \"year relative to policy\", \"scale\": {\"zero\": false}, \"type\": \"quantitative\"}, \"y\": {\"field\": \"overdose_per_100k\", \"scale\": {\"zero\": false}, \"type\": \"quantitative\"}}, \"title\": \"Deaths After Policy Implementation\", \"transform\": [{\"on\": \"year relative to policy\", \"regression\": \"overdose_per_100k\"}]}], \"$schema\": \"https://vega.github.io/schema/vega-lite/v4.17.0.json\", \"datasets\": {\"data-8ddcdb4b7f76ddcc91e85c63db0279ed\": [{\"overdose_per_100k\": 10.758011816332328, \"ci_low\": -9.980375654793946, \"ci_high\": 31.4963992874586, \"Year\": 2009.0, \"year relative to policy\": -3}, {\"overdose_per_100k\": 10.075076093765347, \"ci_low\": -3.04103178722932, \"ci_high\": 23.191183974760015, \"Year\": 2010.0, \"year relative to policy\": -2}, {\"overdose_per_100k\": 9.392140371198593, \"ci_low\": -11.34624709992768, \"ci_high\": 30.130527842324867, \"Year\": 2011.0, \"year relative to policy\": -1}], \"data-2eb905f7a8e007b53865ef009fed619f\": [{\"overdose_per_100k\": 9.434164745200633, \"ci_low\": 7.849540068004508, \"ci_high\": 11.018789422396758, \"Year\": 2013.0, \"year relative to policy\": 1}, {\"overdose_per_100k\": 10.062325000496912, \"ci_low\": 9.060120357392654, \"ci_high\": 11.06452964360117, \"Year\": 2014.0, \"year relative to policy\": 2}, {\"overdose_per_100k\": 10.69048525579342, \"ci_low\": 9.105860578597657, \"ci_high\": 12.275109932989182, \"Year\": 2015.0, \"year relative to policy\": 3}]}}, {\"mode\": \"vega-lite\"});\n",
       "</script>"
      ],
      "text/plain": [
       "alt.LayerChart(...)"
      ]
     },
     "execution_count": 41,
     "metadata": {},
     "output_type": "execute_result"
    }
   ],
   "source": [
    "# test the function\n",
    "# may remove title parameters later - not really necessary as we aren't plotting this part in our final analysis\n",
    "# however, if we can't add a title to our fit/regression line charts, we may need to add them here\n",
    "base_before, base_after = get_charts(b4 = wa_b4_preds, after = wa_after_preds, title_b4 = \"Deaths Before Policy Implementation\", title_after=\"Deaths After Policy Implementation\", color=\"red\")\n",
    "base_before + base_after"
   ]
  }
 ],
 "metadata": {
  "kernelspec": {
   "display_name": "Python 3.9.6 64-bit",
   "language": "python",
   "name": "python3"
  },
  "language_info": {
   "codemirror_mode": {
    "name": "ipython",
    "version": 3
   },
   "file_extension": ".py",
   "mimetype": "text/x-python",
   "name": "python",
   "nbconvert_exporter": "python",
   "pygments_lexer": "ipython3",
   "version": "3.9.6"
  },
  "orig_nbformat": 4,
  "vscode": {
   "interpreter": {
    "hash": "49aa7209ac0e1a36a89cb04290394fd089cb5ce56cb44c9d4652c0180c6152a2"
   }
  }
 },
 "nbformat": 4,
 "nbformat_minor": 2
}
