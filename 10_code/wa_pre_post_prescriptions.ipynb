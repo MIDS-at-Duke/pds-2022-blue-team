{
 "cells": [
  {
   "cell_type": "code",
   "execution_count": null,
   "metadata": {},
   "outputs": [],
   "source": [
    "import numpy as np\n",
    "import pandas as pd\n",
    "import altair as alt\n",
    "import matplotlib.pyplot as plt\n",
    "import statsmodels.api as sm\n",
    "import statsmodels.formula.api as smf"
   ]
  },
  {
   "cell_type": "code",
   "execution_count": null,
   "metadata": {},
   "outputs": [],
   "source": [
    "prescriptions = pd.read_parquet(\"../20_intermediate_files/prescriptions_wa.parquet\", engine = \"fastparquet\")"
   ]
  },
  {
   "cell_type": "code",
   "execution_count": null,
   "metadata": {},
   "outputs": [],
   "source": [
    "prescriptions.columns"
   ]
  },
  {
   "cell_type": "code",
   "execution_count": null,
   "metadata": {},
   "outputs": [],
   "source": [
    "# reducing the number of columns in the drug prescriptions dataset by including only the relevant attributes to create a new dataset\n",
    "\n",
    "prescriptions_reduced = prescriptions[\n",
    "    [\n",
    "        \"DRUG_CODE\",\n",
    "        \"DRUG_NAME\",\n",
    "        \"QUANTITY\",\n",
    "        \"UNIT\",\n",
    "        \"STRENGTH\",\n",
    "        \"CALC_BASE_WT_IN_GM\",\n",
    "        \"DOSAGE_UNIT\",\n",
    "        \"Product_Name\",\n",
    "        \"Ingredient_Name\",\n",
    "        \"Measure\",\n",
    "        \"MME_Conversion_Factor\",\n",
    "        \"dos_str\",\n",
    "        \"Year\",\n",
    "        \"Month\",\n",
    "        \"StateFIPS\",\n",
    "        \"StateName\",\n",
    "        \"CountyFIPS\",\n",
    "        \"state_abbrev\",\n",
    "        \"FIP_unique\",\n",
    "        \"Population\",\n",
    "        \"county_test\",\n",
    "    ]\n",
    "]"
   ]
  },
  {
   "cell_type": "code",
   "execution_count": null,
   "metadata": {},
   "outputs": [],
   "source": [
    "# creating a copy of reduced dataset of prescriptions and converting some of the attributes to appropriate data type\n",
    "\n",
    "prescriptions_reduced_copy = prescriptions_reduced.copy()\n",
    "\n",
    "prescriptions_reduced_copy[\"Year\"] = prescriptions_reduced_copy[\"Year\"].astype(\"int64\")\n",
    "prescriptions_reduced_copy[\"DRUG_CODE\"] = prescriptions_reduced_copy[\n",
    "    \"DRUG_CODE\"\n",
    "].astype(\"int64\")\n",
    "prescriptions_reduced_copy[\"Month\"] = prescriptions_reduced_copy[\"Month\"].astype(\n",
    "    \"int64\"\n",
    ")\n",
    "prescriptions_reduced_copy[\"Population\"] = prescriptions_reduced_copy[\n",
    "    \"Population\"\n",
    "].astype(\"int64\")\n",
    "\n",
    "prescriptions_reduced_copy.rename(\n",
    "    columns={\n",
    "        \"DRUG_CODE\": \"Drug Code\",\n",
    "        \"DRUG_NAME\": \"Drug Name\",\n",
    "        \"QUANTITY\": \"Quantity\",\n",
    "        \"UNIT\": \"Unit\",\n",
    "        \"STRENGTH\": \"Strength\",\n",
    "        \"CALC_BASE_WT_IN_GM\": \"Calc Base Weight (In Gm)\",\n",
    "        \"DOSAGE_UNIT\": \"Dosage Unit\",\n",
    "        \"dos_str\": \"Dosage Strength\",\n",
    "        \"StateFIPS\": \"State FIPS\",\n",
    "        \"StateName\": \"State\",\n",
    "        \"CountyFIPS\": \"County FIPS\",\n",
    "        \"state_abbrev\": \"State Abbreviation\",\n",
    "        \"FIP_unique\": \"FIPS_Unique\",\n",
    "        \"county_test\": \"County\",\n",
    "    },\n",
    "    inplace=True,\n",
    ")"
   ]
  },
  {
   "cell_type": "code",
   "execution_count": null,
   "metadata": {},
   "outputs": [],
   "source": [
    "prescriptions_reduced_copy.head(3)"
   ]
  },
  {
   "cell_type": "code",
   "execution_count": null,
   "metadata": {},
   "outputs": [],
   "source": [
    "# creating a dataset that has all the drug prescriptions in the state of Washington\n",
    "\n",
    "washington_prescriptions = prescriptions_reduced_copy[\n",
    "    prescriptions_reduced_copy[\"State\"] == \"Washington\"\n",
    "]\n",
    "\n",
    "washington_prescriptions.head()"
   ]
  },
  {
   "cell_type": "code",
   "execution_count": null,
   "metadata": {},
   "outputs": [],
   "source": [
    "washington_prescriptions_copy = washington_prescriptions.copy()\n",
    "washington_prescriptions_copy[\"shipment_per_100k\"] = washington_prescriptions_copy[\"Quantity\"] / washington_prescriptions_copy[\"Population\"] * 100_000"
   ]
  },
  {
   "cell_type": "code",
   "execution_count": null,
   "metadata": {},
   "outputs": [],
   "source": [
    "# washington_prescriptions_copy = washington_prescriptions.copy()\n",
    "\n",
    "# washington_prescriptions_copy[\"shipment_per_100k\"] = (\n",
    "#     (\n",
    "#         washington_prescriptions_copy[\"Dosage Strength\"]\n",
    "#         * washington_prescriptions_copy[\"Dosage Unit\"]\n",
    "#         * washington_prescriptions_copy[\"MME_Conversion_Factor\"]\n",
    "#     )\n",
    "#     / (washington_prescriptions_copy[\"Population\"])\n",
    "#     * 100000\n",
    "# )\n",
    "\n",
    "# washington_prescriptions_copy.head(3)"
   ]
  },
  {
   "cell_type": "code",
   "execution_count": null,
   "metadata": {},
   "outputs": [],
   "source": [
    "wa_result = washington_prescriptions_copy.groupby([\"Year\", \"County\"])[\"shipment_per_100k\"].sum().reset_index()"
   ]
  },
  {
   "cell_type": "code",
   "execution_count": null,
   "metadata": {},
   "outputs": [],
   "source": [
    "wa_stats = washington_prescriptions_copy.groupby([\"Year\"])[\"shipment_per_100k\"].sum().reset_index()"
   ]
  },
  {
   "cell_type": "code",
   "execution_count": null,
   "metadata": {},
   "outputs": [],
   "source": [
    "# wa_res = pd.DataFrame(wa_stats.describe()[\"overdose_per_100k\"]).rename(columns={\"overdose_per_100k\": \"Overdoses per 100k Residents - Washington\"})\n",
    "# comp_res = pd.DataFrame(comp_stats.describe()[\"overdose_per_100k\"]).rename(columns={\"overdose_per_100k\": \"Overdoses per 100k Residents - Comp States\"})\n",
    "# stats = pd.concat([wa_res, comp_res], axis=1)\n",
    "# stats"
   ]
  },
  {
   "cell_type": "code",
   "execution_count": null,
   "metadata": {},
   "outputs": [],
   "source": [
    "# create a scale for number of years before and after 2007 (target year)\n",
    "\n",
    "def scale_years(year):\n",
    "    if year == 2009:\n",
    "        return -2\n",
    "    if year == 2010:\n",
    "        return -1\n",
    "    if year == 2011:\n",
    "        return 0\n",
    "    if year == 2012:\n",
    "        return 1\n",
    "    # if year == 2013:\n",
    "    #     return 1\n",
    "    # if year == 2014:\n",
    "    #     return 2\n",
    "    # if year == 2015:\n",
    "    #     return 3\n",
    "\n",
    "wa_stats[\"year relative to policy\"] = wa_stats[\"Year\"].apply(lambda x: scale_years(x))\n",
    "# comp_result[\"year relative to policy\"] = comp_result[\"Year\"].apply(lambda x: scale_years(x))\n",
    "\n",
    "# double check no nulls in \"year relative to policy\"\n",
    "\n",
    "assert (wa_stats[\"year relative to policy\"].isnull().sum() == 0)\n",
    "# assert (comp_result[\"year relative to policy\"].isnull().sum() == 0)\n",
    "\n",
    "# doing this in case the float == int comparison causes issues"
   ]
  },
  {
   "cell_type": "code",
   "execution_count": null,
   "metadata": {},
   "outputs": [],
   "source": [
    "# split into before 2007 and after 2007\n",
    "\n",
    "wa_b4 = wa_stats[wa_stats[\"Year\"] <= 2011]\n",
    "wa_after = wa_stats[wa_stats[\"Year\"] >= 2011]\n",
    "\n",
    "\n",
    "# wa_after = wa_after[wa_after[\"Year\"] != 2007] # may need to handle this differently"
   ]
  },
  {
   "cell_type": "code",
   "execution_count": null,
   "metadata": {},
   "outputs": [],
   "source": [
    "from sklearn.linear_model import LinearRegression \n",
    "\n",
    "regressor_b4 = LinearRegression() \n",
    "regressor_after = LinearRegression()\n",
    "\n",
    "\n",
    "X_b4 = np.array(wa_b4[\"year relative to policy\"]).reshape(-1, 1)\n",
    "y_b4 = np.array(wa_b4[\"shipment_per_100k\"]).reshape(-1, 1)\n",
    "\n",
    "X_after = np.array(wa_after[\"year relative to policy\"]).reshape(-1, 1)\n",
    "y_after = np.array(wa_after[\"shipment_per_100k\"]).reshape(-1, 1)\n",
    "\n",
    "\n",
    "regressor_b4.fit(X_b4,y_b4) \n",
    "regressor_after.fit(X_after,y_after) \n",
    "\n",
    "\n",
    "y_pred_b4 = regressor_b4.predict(X_b4)\n",
    "y_pred_after = regressor_after.predict(X_b4)"
   ]
  },
  {
   "cell_type": "code",
   "execution_count": null,
   "metadata": {},
   "outputs": [],
   "source": [
    "y_pred_b4"
   ]
  },
  {
   "cell_type": "code",
   "execution_count": null,
   "metadata": {},
   "outputs": [],
   "source": [
    "y_pred_after"
   ]
  },
  {
   "cell_type": "code",
   "execution_count": null,
   "metadata": {},
   "outputs": [],
   "source": [
    "# plt.xlim(-3, 3)\n",
    "# #plt.ylim(0, 500)\n",
    "\n",
    "# plt.title(\"Opioid Shipments in Washington\")\n",
    "\n",
    "# plt.plot(X_b4, y_pred_b4,color='k')\n",
    "# plt.plot(X_after, y_pred_after,color='k')\n",
    "\n",
    "# # plot avg value in each year"
   ]
  },
  {
   "cell_type": "code",
   "execution_count": null,
   "metadata": {},
   "outputs": [],
   "source": [
    "x = \"Year\"\n",
    "y = \"shipment_per_100k\""
   ]
  },
  {
   "cell_type": "code",
   "execution_count": null,
   "metadata": {},
   "outputs": [],
   "source": [
    "def vertical_line(year):\n",
    "    \"\"\"Function to plot a vertical line at year of policy implementation\"\"\"\n",
    "    line = alt.Chart(pd.DataFrame({\n",
    "    'Date': [year],\n",
    "    'color': [\"black\"]\n",
    "    })).mark_rule().encode(\n",
    "    x='Date:Q', # use q for \"quantitative\" - as per altair docs\n",
    "    color=alt.Color('color:N', scale=None)\n",
    "    )\n",
    "\n",
    "    return line"
   ]
  },
  {
   "cell_type": "code",
   "execution_count": null,
   "metadata": {},
   "outputs": [],
   "source": [
    "# test function\n",
    "line = vertical_line(2004)"
   ]
  },
  {
   "cell_type": "code",
   "execution_count": null,
   "metadata": {},
   "outputs": [],
   "source": [
    "def get_charts(b4, after, title_b4, title_after):\n",
    "    \"\"\"\n",
    "    Function to plot the pre and post charts.\n",
    "    Will not use in final plot - used as a baseline for our fit charts later.\n",
    "\n",
    "    \"\"\"\n",
    "\n",
    "    base_before = (\n",
    "        alt.Chart(b4)\n",
    "        .mark_point()\n",
    "        .encode(\n",
    "            y=alt.Y(\"shipment_per_100k\", scale=alt.Scale(zero=False)),\n",
    "            x=alt.X(\"year relative to policy\", scale=alt.Scale(zero=False)),\n",
    "        )\n",
    "        .properties(title=title_b4)\n",
    "        \n",
    "    )\n",
    "\n",
    "    base_after = (\n",
    "        alt.Chart(after)\n",
    "        .mark_point()\n",
    "        .encode(\n",
    "            y=alt.Y(\"shipment_per_100k\", scale=alt.Scale(zero=False)),\n",
    "            x=alt.X(\"year relative to policy\", scale=alt.Scale(zero=False)),\n",
    "        )\n",
    "        .properties(title=title_after)\n",
    "    )\n",
    "\n",
    "    return base_before, base_after"
   ]
  },
  {
   "cell_type": "code",
   "execution_count": null,
   "metadata": {},
   "outputs": [],
   "source": [
    "# test the function\n",
    "# may remove title parameters later - not really necessary as we aren't plotting this part in our final analysis\n",
    "# however, if we can't add a title to our fit/regression line charts, we may need to add them here\n",
    "base_before, base_after = get_charts(b4 = wa_b4, after = wa_after, title_b4 = \"shipments before policy\", title_after=\"shipments after policy\")\n",
    "base_before + base_after"
   ]
  },
  {
   "cell_type": "code",
   "execution_count": null,
   "metadata": {},
   "outputs": [],
   "source": [
    "# starting here in final report\n",
    "# no longer calculating base chart above - just adding in regression line at same time\n",
    "def get_preds(df, x, y):\n",
    "\n",
    "    # init new empty df for our predictions\n",
    "    predictions = pd.DataFrame()\n",
    "\n",
    "    # fit our model and predict values\n",
    "    model = smf.ols(f\"{y} ~ {x}\", data=df).fit()\n",
    "    model_predict = model.get_prediction(df[x])\n",
    "\n",
    "    # save predictions back to df, calculate confidence intervals\n",
    "    predictions[\"shipment_per_100k\"] = model.predict(df[x])\n",
    "    predictions[[\"ci_low\", \"ci_high\"]] = model_predict.conf_int(alpha=0.05)\n",
    "\n",
    "    # save original year columns to new predictions df\n",
    "    predictions[\"Year\"] = df[\"Year\"]\n",
    "    predictions[\"year relative to policy\"] = df[\"year relative to policy\"]\n",
    "    return predictions"
   ]
  },
  {
   "cell_type": "code",
   "execution_count": null,
   "metadata": {},
   "outputs": [],
   "source": [
    "wa_b4_preds = get_preds(wa_b4, x, y)\n",
    "wa_after_preds = get_preds(wa_after, x, y)"
   ]
  },
  {
   "cell_type": "code",
   "execution_count": null,
   "metadata": {},
   "outputs": [],
   "source": [
    "def get_charts(b4, after, title_b4, title_after, color):\n",
    "    \"\"\"\n",
    "    Function to plot the pre and post charts.\n",
    "    Will not use in final plot - used as a baseline for our fit charts later.\n",
    "\n",
    "    \"\"\"\n",
    "\n",
    "    base_before = (\n",
    "        alt.Chart(b4)\n",
    "        .mark_point()\n",
    "        .encode(\n",
    "            y=alt.Y(\"shipment_per_100k\", scale=alt.Scale(zero=False)),\n",
    "            x=alt.X(\"year relative to policy\", scale=alt.Scale(zero=False)),\n",
    "        )\n",
    "        .properties(title=title_b4).transform_regression(\"year relative to policy\", \"shipment_per_100k\")\n",
    "    .mark_line()\n",
    "    .encode(color=alt.value(color))\n",
    "        \n",
    "    )\n",
    "\n",
    "    base_after = (\n",
    "        alt.Chart(after)\n",
    "        .mark_point()\n",
    "        .encode(\n",
    "            y=alt.Y(\"shipment_per_100k\", scale=alt.Scale(zero=False)),\n",
    "            x=alt.X(\"year relative to policy\", scale=alt.Scale(zero=False)),\n",
    "            \n",
    "        )\n",
    "        .properties(title=title_after).transform_regression(\"year relative to policy\", \"shipment_per_100k\")\n",
    "    .mark_line()\n",
    "    .encode(color=alt.value(color))\n",
    "    )\n",
    "\n",
    "    return base_before, base_after"
   ]
  },
  {
   "cell_type": "code",
   "execution_count": null,
   "metadata": {},
   "outputs": [],
   "source": [
    "# test the function\n",
    "# may remove title parameters later - not really necessary as we aren't plotting this part in our final analysis\n",
    "# however, if we can't add a title to our fit/regression line charts, we may need to add them here\n",
    "base_before, base_after = get_charts(b4 = wa_b4_preds, after = wa_after_preds, title_b4 = \"Opioid Shipments Before and After Policy Implementation in Washington\", title_after=\"Shipments After Policy Implementation\", color=\"red\")\n",
    "base_before + base_after"
   ]
  },
  {
   "cell_type": "code",
   "execution_count": null,
   "metadata": {},
   "outputs": [],
   "source": [
    "   "
   ]
  },
  {
   "cell_type": "code",
   "execution_count": null,
   "metadata": {},
   "outputs": [],
   "source": []
  },
  {
   "cell_type": "code",
   "execution_count": null,
   "metadata": {},
   "outputs": [],
   "source": []
  },
  {
   "cell_type": "code",
   "execution_count": null,
   "metadata": {},
   "outputs": [],
   "source": []
  },
  {
   "cell_type": "code",
   "execution_count": null,
   "metadata": {},
   "outputs": [],
   "source": []
  },
  {
   "cell_type": "code",
   "execution_count": null,
   "metadata": {},
   "outputs": [],
   "source": []
  },
  {
   "cell_type": "code",
   "execution_count": null,
   "metadata": {},
   "outputs": [],
   "source": []
  },
  {
   "cell_type": "code",
   "execution_count": null,
   "metadata": {},
   "outputs": [],
   "source": []
  },
  {
   "cell_type": "code",
   "execution_count": null,
   "metadata": {},
   "outputs": [],
   "source": []
  },
  {
   "cell_type": "code",
   "execution_count": null,
   "metadata": {},
   "outputs": [],
   "source": []
  },
  {
   "cell_type": "code",
   "execution_count": null,
   "metadata": {},
   "outputs": [],
   "source": [
    "#####################################\n",
    "# updated code for final report ends here "
   ]
  },
  {
   "cell_type": "code",
   "execution_count": null,
   "metadata": {},
   "outputs": [],
   "source": [
    "prescriptions[\"QUANTITY\"].describe()"
   ]
  },
  {
   "cell_type": "code",
   "execution_count": null,
   "metadata": {},
   "outputs": [],
   "source": [
    "prescriptions_reduced = prescriptions[['QUANTITY', 'Year', 'StateFIPS', 'StateName', 'CountyFIPS', 'FIP_unique', 'Population','county_test']]"
   ]
  },
  {
   "cell_type": "code",
   "execution_count": null,
   "metadata": {},
   "outputs": [],
   "source": [
    "prescriptions_reduced[\"StateName\"].value_counts()"
   ]
  },
  {
   "cell_type": "code",
   "execution_count": null,
   "metadata": {},
   "outputs": [],
   "source": [
    "washington = prescriptions_reduced[prescriptions_reduced[\"StateName\"] == \"Washington\"]\n",
    "comp = prescriptions_reduced[prescriptions_reduced[\"StateName\"] != \"Washington\"]"
   ]
  },
  {
   "cell_type": "code",
   "execution_count": null,
   "metadata": {},
   "outputs": [],
   "source": [
    "wa_prescriptions = washington.copy()\n",
    "comp_prescriptions = comp.copy()"
   ]
  },
  {
   "cell_type": "code",
   "execution_count": null,
   "metadata": {},
   "outputs": [],
   "source": [
    "wa_prescriptions[\"quantity_sum\"] = wa_prescriptions.groupby([\"Year\", \"FIP_unique\"])[\"QUANTITY\"].transform('sum')\n",
    "comp_prescriptions[\"quantity_sum\"] = comp_prescriptions.groupby([\"Year\", \"FIP_unique\"])[\"QUANTITY\"].transform('sum')"
   ]
  },
  {
   "cell_type": "code",
   "execution_count": null,
   "metadata": {},
   "outputs": [],
   "source": [
    "wa_prescriptions = wa_prescriptions.drop('QUANTITY', axis=1)\n",
    "comp_prescriptions = comp_prescriptions.drop('QUANTITY', axis=1)"
   ]
  },
  {
   "cell_type": "code",
   "execution_count": null,
   "metadata": {},
   "outputs": [],
   "source": [
    "wa_result = wa_prescriptions.drop_duplicates()\n",
    "comp_result = comp_prescriptions.drop_duplicates()"
   ]
  },
  {
   "cell_type": "code",
   "execution_count": null,
   "metadata": {},
   "outputs": [],
   "source": [
    "wa_result[\"shipment_per_100k\"] = wa_result[\"quantity_sum\"] / wa_result[\"Population\"] * 100_000\n",
    "comp_result[\"shipment_per_100k\"] = comp_result[\"quantity_sum\"] / comp_result[\"Population\"] * 100_000"
   ]
  },
  {
   "cell_type": "code",
   "execution_count": null,
   "metadata": {},
   "outputs": [],
   "source": [
    "wa_result.groupby(\"Year\")[\"shipment_per_100k\"].agg([np.mean, np.std])"
   ]
  },
  {
   "cell_type": "code",
   "execution_count": null,
   "metadata": {},
   "outputs": [],
   "source": [
    "wa_result_b4 = wa_result[wa_result[\"Year\"] < 2012]\n",
    "wa_result_after = wa_result[wa_result[\"Year\"] >= 2012]"
   ]
  },
  {
   "cell_type": "code",
   "execution_count": null,
   "metadata": {},
   "outputs": [],
   "source": [
    "\n",
    "# washington\n",
    "\n",
    "source_data = wa_result_b4\n",
    "\n",
    "plot_wa_b4 = alt.Chart(source_data).mark_point().encode(\n",
    "    y=alt.Y(\"mean_shipment:Q\", scale=alt.Scale(zero=False)),\n",
    "    x=alt.X(\"Year:O\", scale=alt.Scale(zero=False))\n",
    ").transform_aggregate(\n",
    "    mean_shipment='mean(shipment_per_100k)',\n",
    "    groupby=[\"Year\"]\n",
    ")\n",
    "\n",
    "plot_wa_b4"
   ]
  },
  {
   "cell_type": "code",
   "execution_count": null,
   "metadata": {},
   "outputs": [],
   "source": [
    "fit_wa_b4 = plot_wa_b4.transform_regression('Year', 'mean_shipment',method=\"linear\"\n",
    ").mark_line()\n",
    "\n",
    "fit_wa_b4"
   ]
  },
  {
   "cell_type": "code",
   "execution_count": null,
   "metadata": {},
   "outputs": [],
   "source": [
    "source_data = wa_result_after\n",
    "\n",
    "plot_wa_after = alt.Chart(source_data).mark_point().encode(\n",
    "    y=alt.Y(\"mean_shipment:Q\", scale=alt.Scale(zero=False)),\n",
    "    x=alt.X(\"Year:O\", scale=alt.Scale(zero=False))\n",
    ").transform_aggregate(\n",
    "    mean_shipment='mean(shipment_per_100k)',\n",
    "    groupby=[\"Year\"]\n",
    ")\n",
    "\n",
    "plot_wa_after"
   ]
  },
  {
   "cell_type": "code",
   "execution_count": null,
   "metadata": {},
   "outputs": [],
   "source": [
    "fit_wa_after = plot_wa_after.transform_regression('Year', 'mean_overdose',method=\"linear\"\n",
    ").mark_line()\n",
    "\n",
    "fit_wa_after"
   ]
  },
  {
   "cell_type": "code",
   "execution_count": null,
   "metadata": {},
   "outputs": [],
   "source": [
    "plot_wa_b4 + fit_wa_b4 + plot_wa_after + fit_wa_after"
   ]
  }
 ],
 "metadata": {
  "kernelspec": {
   "display_name": "base",
   "language": "python",
   "name": "python3"
  },
  "language_info": {
   "codemirror_mode": {
    "name": "ipython",
    "version": 3
   },
   "file_extension": ".py",
   "mimetype": "text/x-python",
   "name": "python",
   "nbconvert_exporter": "python",
   "pygments_lexer": "ipython3",
   "version": "3.10.6 | packaged by conda-forge | (main, Aug 22 2022, 20:41:54) [Clang 13.0.1 ]"
  },
  "orig_nbformat": 4,
  "vscode": {
   "interpreter": {
    "hash": "3d597f4c481aa0f25dceb95d2a0067e73c0966dcbd003d741d821a7208527ecf"
   }
  }
 },
 "nbformat": 4,
 "nbformat_minor": 2
}
