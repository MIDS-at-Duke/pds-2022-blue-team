{
 "cells": [
  {
   "cell_type": "code",
   "execution_count": 311,
   "metadata": {},
   "outputs": [],
   "source": [
    "import numpy as np\n",
    "import pandas as pd\n",
    "import altair as alt\n",
    "import matplotlib.pyplot as plt\n",
    "import statsmodels.api as sm\n",
    "import statsmodels.formula.api as smf"
   ]
  },
  {
   "cell_type": "code",
   "execution_count": 312,
   "metadata": {},
   "outputs": [],
   "source": [
    "deaths = pd.read_csv(\"../20_intermediate_files/deaths_wa.csv\")"
   ]
  },
  {
   "cell_type": "code",
   "execution_count": 313,
   "metadata": {},
   "outputs": [
    {
     "data": {
      "text/plain": [
       "North Carolina    1142\n",
       "Colorado           642\n",
       "Washington         570\n",
       "Maryland           363\n",
       "Name: StateName, dtype: int64"
      ]
     },
     "execution_count": 313,
     "metadata": {},
     "output_type": "execute_result"
    }
   ],
   "source": [
    "# check Washington and all other three comparison states are included \n",
    "deaths[\"StateName\"].value_counts()"
   ]
  },
  {
   "cell_type": "code",
   "execution_count": 314,
   "metadata": {},
   "outputs": [
    {
     "data": {
      "text/plain": [
       "Index(['County', 'County Code', 'Year', 'Year Code',\n",
       "       'Drug/Alcohol Induced Cause', 'Drug/Alcohol Induced Cause Code',\n",
       "       'Deaths', 'State', 'StateFIPS', 'CountyName', 'StateName', 'CountyFIPS',\n",
       "       'StateAbbr', 'STATE_COUNTY', 'state_abbrev', 'FIP_unique', 'Population',\n",
       "       'county_test'],\n",
       "      dtype='object')"
      ]
     },
     "execution_count": 314,
     "metadata": {},
     "output_type": "execute_result"
    }
   ],
   "source": [
    "deaths.columns"
   ]
  },
  {
   "cell_type": "code",
   "execution_count": 315,
   "metadata": {},
   "outputs": [
    {
     "data": {
      "text/plain": [
       "array(['Drug poisonings (overdose) Unintentional (X40-X44)',\n",
       "       'Drug poisonings (overdose) Suicide (X60-X64)',\n",
       "       'All other alcohol-induced causes',\n",
       "       'All other non-drug and non-alcohol causes',\n",
       "       'Alcohol poisonings (overdose) (X45, X65, Y15)',\n",
       "       'Drug poisonings (overdose) Undetermined (Y10-Y14)',\n",
       "       'All other drug-induced causes'], dtype=object)"
      ]
     },
     "execution_count": 315,
     "metadata": {},
     "output_type": "execute_result"
    }
   ],
   "source": [
    "# identify overdose related causes to make a list\n",
    "deaths[\"Drug/Alcohol Induced Cause\"].unique()"
   ]
  },
  {
   "cell_type": "code",
   "execution_count": 316,
   "metadata": {},
   "outputs": [],
   "source": [
    "# stratify by Washington and comparison states \n",
    "washington = deaths[deaths[\"StateName\"] == \"Washington\"]\n",
    "comp = deaths[deaths[\"StateName\"] != \"Washington\"]"
   ]
  },
  {
   "cell_type": "code",
   "execution_count": 317,
   "metadata": {},
   "outputs": [],
   "source": [
    "wa_deaths = washington.copy()\n",
    "comp_deaths = comp.copy()"
   ]
  },
  {
   "cell_type": "code",
   "execution_count": 318,
   "metadata": {},
   "outputs": [],
   "source": [
    "overdose_list = ['Drug poisonings (overdose) Unintentional (X40-X44)',\n",
    "       'Drug poisonings (overdose) Suicide (X60-X64)',\n",
    "       'Drug poisonings (overdose) Undetermined (Y10-Y14)',\n",
    "       'Alcohol poisonings (overdose) (X45, X65, Y15)']"
   ]
  },
  {
   "cell_type": "code",
   "execution_count": 319,
   "metadata": {},
   "outputs": [],
   "source": [
    "# add a new column for overdose with sentinel value \n",
    "wa_deaths[\"overdose\"] = 0\n",
    "comp_deaths[\"overdose\"] = 0"
   ]
  },
  {
   "cell_type": "code",
   "execution_count": 320,
   "metadata": {},
   "outputs": [],
   "source": [
    "# recode overdose to 1 if in the list \n",
    "wa_deaths.loc[wa_deaths[\"Drug/Alcohol Induced Cause\"].isin(overdose_list), \"overdose\"] = 1\n",
    "comp_deaths.loc[comp_deaths[\"Drug/Alcohol Induced Cause\"].isin(overdose_list), \"overdose\"] = 1"
   ]
  },
  {
   "cell_type": "code",
   "execution_count": 321,
   "metadata": {},
   "outputs": [],
   "source": [
    "# take subsets with overdoses only \n",
    "wa_deaths = wa_deaths[wa_deaths[\"overdose\"] == 1]\n",
    "comp_deaths = comp_deaths[comp_deaths[\"overdose\"] == 1]"
   ]
  },
  {
   "cell_type": "code",
   "execution_count": 322,
   "metadata": {},
   "outputs": [],
   "source": [
    "# standardize overdose deaths by population \n",
    "wa_deaths[\"overdose_per_100k\"] = wa_deaths[\"Deaths\"] / wa_deaths[\"Population\"] * 100_000\n",
    "comp_deaths[\"overdose_per_100k\"] = comp_deaths[\"Deaths\"] / comp_deaths[\"Population\"] * 100_000"
   ]
  },
  {
   "cell_type": "code",
   "execution_count": 323,
   "metadata": {},
   "outputs": [],
   "source": [
    "# calculate total deaths by year, state, county\n",
    "wa_result = wa_deaths.groupby([\"Year\", \"County\"])[\"overdose_per_100k\"].sum().reset_index()\n",
    "comp_result = comp_deaths.groupby([\"Year\", \"StateName\", \"CountyName\"])[\"overdose_per_100k\"].sum().reset_index()"
   ]
  },
  {
   "cell_type": "code",
   "execution_count": 324,
   "metadata": {},
   "outputs": [],
   "source": [
    "# create new dataframes for plotting - mean of deaths each year \n",
    "wa_stats = wa_deaths.groupby([\"Year\"])[\"overdose_per_100k\"].mean().reset_index()\n",
    "comp_stats = comp_deaths.groupby([\"Year\"])[\"overdose_per_100k\"].mean().reset_index()"
   ]
  },
  {
   "cell_type": "code",
   "execution_count": 325,
   "metadata": {},
   "outputs": [
    {
     "data": {
      "text/html": [
       "<div>\n",
       "<style scoped>\n",
       "    .dataframe tbody tr th:only-of-type {\n",
       "        vertical-align: middle;\n",
       "    }\n",
       "\n",
       "    .dataframe tbody tr th {\n",
       "        vertical-align: top;\n",
       "    }\n",
       "\n",
       "    .dataframe thead th {\n",
       "        text-align: right;\n",
       "    }\n",
       "</style>\n",
       "<table border=\"1\" class=\"dataframe\">\n",
       "  <thead>\n",
       "    <tr style=\"text-align: right;\">\n",
       "      <th></th>\n",
       "      <th>Overdoses per 100k Residents - Washington</th>\n",
       "      <th>Overdoses per 100k Residents - Comp States</th>\n",
       "    </tr>\n",
       "  </thead>\n",
       "  <tbody>\n",
       "    <tr>\n",
       "      <th>count</th>\n",
       "      <td>110.000000</td>\n",
       "      <td>432.000000</td>\n",
       "    </tr>\n",
       "    <tr>\n",
       "      <th>mean</th>\n",
       "      <td>13.760180</td>\n",
       "      <td>15.142326</td>\n",
       "    </tr>\n",
       "    <tr>\n",
       "      <th>std</th>\n",
       "      <td>4.515969</td>\n",
       "      <td>8.280981</td>\n",
       "    </tr>\n",
       "    <tr>\n",
       "      <th>min</th>\n",
       "      <td>5.666846</td>\n",
       "      <td>1.845015</td>\n",
       "    </tr>\n",
       "    <tr>\n",
       "      <th>25%</th>\n",
       "      <td>9.990164</td>\n",
       "      <td>9.649632</td>\n",
       "    </tr>\n",
       "    <tr>\n",
       "      <th>50%</th>\n",
       "      <td>14.011080</td>\n",
       "      <td>13.405339</td>\n",
       "    </tr>\n",
       "    <tr>\n",
       "      <th>75%</th>\n",
       "      <td>16.473949</td>\n",
       "      <td>18.800017</td>\n",
       "    </tr>\n",
       "    <tr>\n",
       "      <th>max</th>\n",
       "      <td>26.390640</td>\n",
       "      <td>78.330841</td>\n",
       "    </tr>\n",
       "  </tbody>\n",
       "</table>\n",
       "</div>"
      ],
      "text/plain": [
       "       Overdoses per 100k Residents - Washington  \\\n",
       "count                                 110.000000   \n",
       "mean                                   13.760180   \n",
       "std                                     4.515969   \n",
       "min                                     5.666846   \n",
       "25%                                     9.990164   \n",
       "50%                                    14.011080   \n",
       "75%                                    16.473949   \n",
       "max                                    26.390640   \n",
       "\n",
       "       Overdoses per 100k Residents - Comp States  \n",
       "count                                  432.000000  \n",
       "mean                                    15.142326  \n",
       "std                                      8.280981  \n",
       "min                                      1.845015  \n",
       "25%                                      9.649632  \n",
       "50%                                     13.405339  \n",
       "75%                                     18.800017  \n",
       "max                                     78.330841  "
      ]
     },
     "execution_count": 325,
     "metadata": {},
     "output_type": "execute_result"
    }
   ],
   "source": [
    "# compute descriptive statistics for each \n",
    "wa_res = pd.DataFrame(wa_result.describe()[\"overdose_per_100k\"]).rename(columns={\"overdose_per_100k\": \"Overdoses per 100k Residents - Washington\"})\n",
    "comp_res = pd.DataFrame(comp_result.describe()[\"overdose_per_100k\"]).rename(columns={\"overdose_per_100k\": \"Overdoses per 100k Residents - Comp States\"})\n",
    "stats = pd.concat([wa_res, comp_res], axis=1)\n",
    "stats"
   ]
  },
  {
   "cell_type": "code",
   "execution_count": 326,
   "metadata": {},
   "outputs": [],
   "source": [
    "# wa_result = wa_result.groupby(\"Year\")[\"overdose_per_100k\"].mean().reset_index()\n",
    "# comp_result = comp_result.groupby([\"Year\"])[\"overdose_per_100k\"].mean().reset_index()"
   ]
  },
  {
   "cell_type": "code",
   "execution_count": 327,
   "metadata": {},
   "outputs": [],
   "source": [
    "wa_res_checkpoint = wa_stats.copy()\n",
    "comp_res_checkpoint = comp_stats.copy()\n",
    "\n",
    "\n",
    "# assert length is the same\n",
    "assert (len(wa_stats) == len(wa_res_checkpoint)) & (len(comp_stats) == len(comp_res_checkpoint))"
   ]
  },
  {
   "cell_type": "code",
   "execution_count": 328,
   "metadata": {},
   "outputs": [
    {
     "data": {
      "text/plain": [
       "Year                   int32\n",
       "overdose_per_100k    float64\n",
       "dtype: object"
      ]
     },
     "execution_count": 328,
     "metadata": {},
     "output_type": "execute_result"
    }
   ],
   "source": [
    "# change Year to be integer \n",
    "wa_stats[\"Year\"] = wa_stats[\"Year\"].astype(\"int\")\n",
    "wa_stats.dtypes"
   ]
  },
  {
   "cell_type": "code",
   "execution_count": 329,
   "metadata": {},
   "outputs": [],
   "source": [
    "# split into before and after policy implementation \n",
    "wa_b4 = wa_stats[wa_stats[\"Year\"] < 2012]\n",
    "wa_after = wa_stats[wa_stats[\"Year\"] >= 2012]"
   ]
  },
  {
   "cell_type": "code",
   "execution_count": 330,
   "metadata": {},
   "outputs": [],
   "source": [
    "x = \"Year\"\n",
    "y = \"overdose_per_100k\""
   ]
  },
  {
   "cell_type": "code",
   "execution_count": 331,
   "metadata": {},
   "outputs": [],
   "source": [
    "# Function to plot a vertical line at year of policy implementation\n",
    "def vertical_line(year):\n",
    "   \n",
    "    line = alt.Chart(pd.DataFrame({\n",
    "    'Year': [year],\n",
    "    'color': [\"black\"]\n",
    "    })).mark_rule().encode(\n",
    "    x='Year:Q',\n",
    "    color=alt.Color('color:N', scale=None)\n",
    "    )\n",
    " \n",
    "    return line\n"
   ]
  },
  {
   "cell_type": "code",
   "execution_count": 332,
   "metadata": {},
   "outputs": [],
   "source": [
    "# creating the vertical line at 2012, the year of implementation of policy changes in Washington\n",
    "line = vertical_line(2012)"
   ]
  },
  {
   "cell_type": "code",
   "execution_count": 333,
   "metadata": {},
   "outputs": [],
   "source": [
    "# creating the regression model and calculating the error bands for creating the plots\n",
    " \n",
    "def get_reg_fit_and_ci(data, color, xvar, yvar, legend, alpha=0.05):\n",
    "   \n",
    "    # Creating the grid for predicted values\n",
    "    colour = color\n",
    "    years = [2009,2010,2011,2012,2013,2014,2015]\n",
    "    x = data.loc[pd.notnull(data[yvar]), xvar]\n",
    "    xmin = x.min()\n",
    "    xmax = x.max()\n",
    "    step = (xmax - xmin) / 100\n",
    "    grid = np.arange(xmin, xmax + step, step)\n",
    "    predictions = pd.DataFrame({xvar: grid})\n",
    " \n",
    "    # Fitting the model and making the predictions\n",
    "    model = smf.ols(f\"{yvar} ~ {xvar}\", data=data).fit()\n",
    "    model_predict = model.get_prediction(predictions[xvar])\n",
    "    predictions[yvar] = model_predict.summary_frame()[\"mean\"]\n",
    "    predictions[[\"ci_low\", \"ci_high\"]] = model_predict.conf_int(alpha=alpha)\n",
    "   \n",
    "    # Utilizing the predictions to create the points and error bands in the chart\n",
    "    predictions[\"Before/After\"] = f\"{legend}\"\n",
    "    reg = (\n",
    "        alt.Chart(predictions)\n",
    "        .mark_line()\n",
    "        .encode(\n",
    "            x=xvar,\n",
    "            y=alt.Y(yvar),\n",
    "            color = alt.Color(\"Before/After\",legend=alt.Legend(title = \"Before/After Policy Change\"))\n",
    "        )\n",
    "    )\n",
    " \n",
    "    ci = (\n",
    "        alt.Chart(predictions)\n",
    "        .mark_errorband()\n",
    "        .encode(\n",
    "            alt.X(f\"{xvar}:Q\", axis=alt.Axis(format=\".0f\", values=years)),\n",
    "            y=alt.Y(\n",
    "                \"ci_low\",\n",
    "                title=\"Opioid Overdose Deaths Per 100K Residents\",\n",
    "                scale=alt.Scale(zero=False),\n",
    "            ),\n",
    "            y2=\"ci_high\",\n",
    "            color=alt.value(f\"{color}\"),\n",
    "        )\n",
    "    )\n",
    "    chart = ci + reg\n",
    "    return predictions, chart\n",
    " \n",
    " \n"
   ]
  },
  {
   "cell_type": "code",
   "execution_count": 334,
   "metadata": {},
   "outputs": [],
   "source": [
    "# Using the get_reg_fit_and_ci function to create the charts\n",
    " \n",
    "def build_chart(data, color, xvar, yvar, legend, alpha=0.05):\n",
    "    fit, reg_chart = get_reg_fit_and_ci(\n",
    "        data=data, color=color, xvar=xvar, yvar=yvar,  legend=legend, alpha=alpha,\n",
    "    )\n",
    "    return reg_chart\n",
    " \n"
   ]
  },
  {
   "cell_type": "code",
   "execution_count": 335,
   "metadata": {},
   "outputs": [
    {
     "data": {
      "text/html": [
       "\n",
       "<div id=\"altair-viz-6ca19d566a2244b9a7f4b4ed2fe89b49\"></div>\n",
       "<script type=\"text/javascript\">\n",
       "  var VEGA_DEBUG = (typeof VEGA_DEBUG == \"undefined\") ? {} : VEGA_DEBUG;\n",
       "  (function(spec, embedOpt){\n",
       "    let outputDiv = document.currentScript.previousElementSibling;\n",
       "    if (outputDiv.id !== \"altair-viz-6ca19d566a2244b9a7f4b4ed2fe89b49\") {\n",
       "      outputDiv = document.getElementById(\"altair-viz-6ca19d566a2244b9a7f4b4ed2fe89b49\");\n",
       "    }\n",
       "    const paths = {\n",
       "      \"vega\": \"https://cdn.jsdelivr.net/npm//vega@5?noext\",\n",
       "      \"vega-lib\": \"https://cdn.jsdelivr.net/npm//vega-lib?noext\",\n",
       "      \"vega-lite\": \"https://cdn.jsdelivr.net/npm//vega-lite@4.17.0?noext\",\n",
       "      \"vega-embed\": \"https://cdn.jsdelivr.net/npm//vega-embed@6?noext\",\n",
       "    };\n",
       "\n",
       "    function maybeLoadScript(lib, version) {\n",
       "      var key = `${lib.replace(\"-\", \"\")}_version`;\n",
       "      return (VEGA_DEBUG[key] == version) ?\n",
       "        Promise.resolve(paths[lib]) :\n",
       "        new Promise(function(resolve, reject) {\n",
       "          var s = document.createElement('script');\n",
       "          document.getElementsByTagName(\"head\")[0].appendChild(s);\n",
       "          s.async = true;\n",
       "          s.onload = () => {\n",
       "            VEGA_DEBUG[key] = version;\n",
       "            return resolve(paths[lib]);\n",
       "          };\n",
       "          s.onerror = () => reject(`Error loading script: ${paths[lib]}`);\n",
       "          s.src = paths[lib];\n",
       "        });\n",
       "    }\n",
       "\n",
       "    function showError(err) {\n",
       "      outputDiv.innerHTML = `<div class=\"error\" style=\"color:red;\">${err}</div>`;\n",
       "      throw err;\n",
       "    }\n",
       "\n",
       "    function displayChart(vegaEmbed) {\n",
       "      vegaEmbed(outputDiv, spec, embedOpt)\n",
       "        .catch(err => showError(`Javascript Error: ${err.message}<br>This usually means there's a typo in your chart specification. See the javascript console for the full traceback.`));\n",
       "    }\n",
       "\n",
       "    if(typeof define === \"function\" && define.amd) {\n",
       "      requirejs.config({paths});\n",
       "      require([\"vega-embed\"], displayChart, err => showError(`Error loading script: ${err.message}`));\n",
       "    } else {\n",
       "      maybeLoadScript(\"vega\", \"5\")\n",
       "        .then(() => maybeLoadScript(\"vega-lite\", \"4.17.0\"))\n",
       "        .then(() => maybeLoadScript(\"vega-embed\", \"6\"))\n",
       "        .catch(showError)\n",
       "        .then(() => displayChart(vegaEmbed));\n",
       "    }\n",
       "  })({\"config\": {\"view\": {\"continuousWidth\": 400, \"continuousHeight\": 300}}, \"layer\": [{\"mark\": \"errorband\", \"encoding\": {\"color\": {\"value\": \"orange\"}, \"x\": {\"axis\": {\"format\": \".0f\", \"values\": [2009, 2010, 2011, 2012, 2013, 2014, 2015]}, \"field\": \"Year\", \"type\": \"quantitative\"}, \"y\": {\"field\": \"ci_low\", \"scale\": {\"zero\": false}, \"title\": \"Opioid Overdose Deaths Per 100K Residents\", \"type\": \"quantitative\"}, \"y2\": {\"field\": \"ci_high\"}}}, {\"mark\": \"line\", \"encoding\": {\"color\": {\"field\": \"Before/After\", \"legend\": {\"title\": \"Before/After Policy Change\"}, \"type\": \"nominal\"}, \"x\": {\"field\": \"Year\", \"type\": \"quantitative\"}, \"y\": {\"field\": \"overdose_per_100k\", \"type\": \"quantitative\"}}}, {\"layer\": [{\"mark\": \"errorband\", \"encoding\": {\"color\": {\"value\": \"blue\"}, \"x\": {\"axis\": {\"format\": \".0f\", \"values\": [2009, 2010, 2011, 2012, 2013, 2014, 2015]}, \"field\": \"Year\", \"type\": \"quantitative\"}, \"y\": {\"field\": \"ci_low\", \"scale\": {\"zero\": false}, \"title\": \"Opioid Overdose Deaths Per 100K Residents\", \"type\": \"quantitative\"}, \"y2\": {\"field\": \"ci_high\"}}}, {\"mark\": \"line\", \"encoding\": {\"color\": {\"field\": \"Before/After\", \"legend\": {\"title\": \"Before/After Policy Change\"}, \"type\": \"nominal\"}, \"x\": {\"field\": \"Year\", \"type\": \"quantitative\"}, \"y\": {\"field\": \"overdose_per_100k\", \"type\": \"quantitative\"}}}], \"data\": {\"name\": \"data-8a0957f88e2d079ee49686a304174a64\"}}, {\"data\": {\"name\": \"data-12fa130837655ae321383954ec916afe\"}, \"mark\": \"rule\", \"encoding\": {\"color\": {\"field\": \"color\", \"scale\": null, \"type\": \"nominal\"}, \"x\": {\"field\": \"Year\", \"type\": \"quantitative\"}}}], \"data\": {\"name\": \"data-095da3b15b0981715251c17edfb5960c\"}, \"title\": \"Pre Post Analysis Of Opioid Overdose Deaths In Florida\", \"$schema\": \"https://vega.github.io/schema/vega-lite/v4.17.0.json\", \"datasets\": {\"data-095da3b15b0981715251c17edfb5960c\": [{\"Year\": 2009.0, \"overdose_per_100k\": 10.758011816333237, \"ci_low\": -9.980375656386123, \"ci_high\": 31.496399289052597, \"Before/After\": \"Washington Before\"}, {\"Year\": 2009.02, \"overdose_per_100k\": 10.74435310188187, \"ci_low\": -9.746181227629627, \"ci_high\": 31.234887431393368, \"Before/After\": \"Washington Before\"}, {\"Year\": 2009.04, \"overdose_per_100k\": 10.730694387430503, \"ci_low\": -9.514051057741195, \"ci_high\": 30.975439832602202, \"Before/After\": \"Washington Before\"}, {\"Year\": 2009.06, \"overdose_per_100k\": 10.717035672979364, \"ci_low\": -9.28406124102813, \"ci_high\": 30.718132586986858, \"Before/After\": \"Washington Before\"}, {\"Year\": 2009.08, \"overdose_per_100k\": 10.703376958527997, \"ci_low\": -9.056290960765804, \"ci_high\": 30.463044877821797, \"Before/After\": \"Washington Before\"}, {\"Year\": 2009.1, \"overdose_per_100k\": 10.68971824407663, \"ci_low\": -8.83082256659728, \"ci_high\": 30.21025905475054, \"Before/After\": \"Washington Before\"}, {\"Year\": 2009.12, \"overdose_per_100k\": 10.676059529625263, \"ci_low\": -8.607741684007777, \"ci_high\": 29.959860743258304, \"Before/After\": \"Washington Before\"}, {\"Year\": 2009.1399999999999, \"overdose_per_100k\": 10.662400815173896, \"ci_low\": -8.387137341791213, \"ci_high\": 29.711938972139006, \"Before/After\": \"Washington Before\"}, {\"Year\": 2009.1599999999999, \"overdose_per_100k\": 10.648742100722757, \"ci_low\": -8.169102023501274, \"ci_high\": 29.466586224946788, \"Before/After\": \"Washington Before\"}, {\"Year\": 2009.1799999999998, \"overdose_per_100k\": 10.63508338627139, \"ci_low\": -7.953731787545497, \"ci_high\": 29.223898560088276, \"Before/After\": \"Washington Before\"}, {\"Year\": 2009.1999999999998, \"overdose_per_100k\": 10.621424671820023, \"ci_low\": -7.741126363984126, \"ci_high\": 28.98397570762417, \"Before/After\": \"Washington Before\"}, {\"Year\": 2009.2199999999998, \"overdose_per_100k\": 10.607765957368656, \"ci_low\": -7.531389212096688, \"ci_high\": 28.746921126834, \"Before/After\": \"Washington Before\"}, {\"Year\": 2009.2399999999998, \"overdose_per_100k\": 10.59410724291729, \"ci_low\": -7.324627601557907, \"ci_high\": 28.512842087392485, \"Before/After\": \"Washington Before\"}, {\"Year\": 2009.2599999999998, \"overdose_per_100k\": 10.58044852846615, \"ci_low\": -7.12095270511918, \"ci_high\": 28.28184976205148, \"Before/After\": \"Washington Before\"}, {\"Year\": 2009.2799999999997, \"overdose_per_100k\": 10.566789814014783, \"ci_low\": -6.920479600656893, \"ci_high\": 28.05405922868646, \"Before/After\": \"Washington Before\"}, {\"Year\": 2009.2999999999997, \"overdose_per_100k\": 10.553131099563416, \"ci_low\": -6.723327337366946, \"ci_high\": 27.829589536493778, \"Before/After\": \"Washington Before\"}, {\"Year\": 2009.3199999999997, \"overdose_per_100k\": 10.539472385112049, \"ci_low\": -6.529618966165415, \"ci_high\": 27.608563736389513, \"Before/After\": \"Washington Before\"}, {\"Year\": 2009.3399999999997, \"overdose_per_100k\": 10.525813670660682, \"ci_low\": -6.3394815117287, \"ci_high\": 27.391108853050063, \"Before/After\": \"Washington Before\"}, {\"Year\": 2009.3599999999997, \"overdose_per_100k\": 10.512154956209315, \"ci_low\": -6.15304598348245, \"ci_high\": 27.17735589590108, \"Before/After\": \"Washington Before\"}, {\"Year\": 2009.3799999999997, \"overdose_per_100k\": 10.498496241758176, \"ci_low\": -5.970447319534561, \"ci_high\": 26.96743980305091, \"Before/After\": \"Washington Before\"}, {\"Year\": 2009.3999999999996, \"overdose_per_100k\": 10.484837527306809, \"ci_low\": -5.791824305910698, \"ci_high\": 26.761499360524315, \"Before/After\": \"Washington Before\"}, {\"Year\": 2009.4199999999996, \"overdose_per_100k\": 10.471178812855442, \"ci_low\": -5.6173194882290645, \"ci_high\": 26.559677113939948, \"Before/After\": \"Washington Before\"}, {\"Year\": 2009.4399999999996, \"overdose_per_100k\": 10.457520098404075, \"ci_low\": -5.447079026624214, \"ci_high\": 26.362119223432366, \"Before/After\": \"Washington Before\"}, {\"Year\": 2009.4599999999996, \"overdose_per_100k\": 10.443861383952708, \"ci_low\": -5.281252536706102, \"ci_high\": 26.168975304611518, \"Before/After\": \"Washington Before\"}, {\"Year\": 2009.4799999999996, \"overdose_per_100k\": 10.430202669501568, \"ci_low\": -5.119992866191323, \"ci_high\": 25.98039820519446, \"Before/After\": \"Washington Before\"}, {\"Year\": 2009.4999999999995, \"overdose_per_100k\": 10.416543955050201, \"ci_low\": -4.963455822961526, \"ci_high\": 25.79654373306193, \"Before/After\": \"Washington Before\"}, {\"Year\": 2009.5199999999995, \"overdose_per_100k\": 10.402885240598835, \"ci_low\": -4.81179990364674, \"ci_high\": 25.61757038484441, \"Before/After\": \"Washington Before\"}, {\"Year\": 2009.5399999999995, \"overdose_per_100k\": 10.389226526147468, \"ci_low\": -4.665185905049636, \"ci_high\": 25.44363895734457, \"Before/After\": \"Washington Before\"}, {\"Year\": 2009.5599999999995, \"overdose_per_100k\": 10.3755678116961, \"ci_low\": -4.523776526357025, \"ci_high\": 25.274912149749227, \"Before/After\": \"Washington Before\"}, {\"Year\": 2009.5799999999995, \"overdose_per_100k\": 10.361909097244961, \"ci_low\": -4.387735942560845, \"ci_high\": 25.111554137050767, \"Before/After\": \"Washington Before\"}, {\"Year\": 2009.5999999999995, \"overdose_per_100k\": 10.348250382793594, \"ci_low\": -4.257229227264716, \"ci_high\": 24.953729992851905, \"Before/After\": \"Washington Before\"}, {\"Year\": 2009.6199999999994, \"overdose_per_100k\": 10.334591668342227, \"ci_low\": -4.132421813097617, \"ci_high\": 24.80160514978207, \"Before/After\": \"Washington Before\"}, {\"Year\": 2009.6399999999994, \"overdose_per_100k\": 10.32093295389086, \"ci_low\": -4.013478872133273, \"ci_high\": 24.655344779914994, \"Before/After\": \"Washington Before\"}, {\"Year\": 2009.6599999999994, \"overdose_per_100k\": 10.307274239439494, \"ci_low\": -3.900564599282278, \"ci_high\": 24.515113078161264, \"Before/After\": \"Washington Before\"}, {\"Year\": 2009.6799999999994, \"overdose_per_100k\": 10.293615524988127, \"ci_low\": -3.79384148404643, \"ci_high\": 24.381072534022685, \"Before/After\": \"Washington Before\"}, {\"Year\": 2009.6999999999994, \"overdose_per_100k\": 10.279956810536987, \"ci_low\": -3.6934695601411995, \"ci_high\": 24.253383181215174, \"Before/After\": \"Washington Before\"}, {\"Year\": 2009.7199999999993, \"overdose_per_100k\": 10.26629809608562, \"ci_low\": -3.5996055107948557, \"ci_high\": 24.132201702966096, \"Before/After\": \"Washington Before\"}, {\"Year\": 2009.7399999999993, \"overdose_per_100k\": 10.252639381634253, \"ci_low\": -3.5124018361262763, \"ci_high\": 24.017680599394783, \"Before/After\": \"Washington Before\"}, {\"Year\": 2009.7599999999993, \"overdose_per_100k\": 10.238980667182886, \"ci_low\": -3.4320059655192345, \"ci_high\": 23.909967299885007, \"Before/After\": \"Washington Before\"}, {\"Year\": 2009.7799999999993, \"overdose_per_100k\": 10.22532195273152, \"ci_low\": -3.3585593001355214, \"ci_high\": 23.80920320559856, \"Before/After\": \"Washington Before\"}, {\"Year\": 2009.7999999999993, \"overdose_per_100k\": 10.21166323828038, \"ci_low\": -3.292196327162525, \"ci_high\": 23.715522803723285, \"Before/After\": \"Washington Before\"}, {\"Year\": 2009.8199999999993, \"overdose_per_100k\": 10.198004523829013, \"ci_low\": -3.233043649236466, \"ci_high\": 23.62905269689449, \"Before/After\": \"Washington Before\"}, {\"Year\": 2009.8399999999992, \"overdose_per_100k\": 10.184345809377646, \"ci_low\": -3.1812191163834687, \"ci_high\": 23.54991073513876, \"Before/After\": \"Washington Before\"}, {\"Year\": 2009.8599999999992, \"overdose_per_100k\": 10.17068709492628, \"ci_low\": -3.136830903762487, \"ci_high\": 23.478205093615045, \"Before/After\": \"Washington Before\"}, {\"Year\": 2009.8799999999992, \"overdose_per_100k\": 10.157028380474912, \"ci_low\": -3.099976687749706, \"ci_high\": 23.41403344869953, \"Before/After\": \"Washington Before\"}, {\"Year\": 2009.8999999999992, \"overdose_per_100k\": 10.143369666023546, \"ci_low\": -3.070742873924024, \"ci_high\": 23.357482205971117, \"Before/After\": \"Washington Before\"}, {\"Year\": 2009.9199999999992, \"overdose_per_100k\": 10.129710951572406, \"ci_low\": -3.0492038728198594, \"ci_high\": 23.30862577596467, \"Before/After\": \"Washington Before\"}, {\"Year\": 2009.9399999999991, \"overdose_per_100k\": 10.116052237121039, \"ci_low\": -3.0354214548872545, \"ci_high\": 23.267525929129334, \"Before/After\": \"Washington Before\"}, {\"Year\": 2009.9599999999991, \"overdose_per_100k\": 10.102393522669672, \"ci_low\": -3.0294442576301712, \"ci_high\": 23.234231302969516, \"Before/After\": \"Washington Before\"}, {\"Year\": 2009.979999999999, \"overdose_per_100k\": 10.088734808218305, \"ci_low\": -3.0313073200599447, \"ci_high\": 23.208776936496555, \"Before/After\": \"Washington Before\"}, {\"Year\": 2009.999999999999, \"overdose_per_100k\": 10.075076093766938, \"ci_low\": -3.041031783676006, \"ci_high\": 23.19118397120988, \"Before/After\": \"Washington Before\"}, {\"Year\": 2010.019999999999, \"overdose_per_100k\": 10.061417379315799, \"ci_low\": -3.058624743281957, \"ci_high\": 23.181459501913555, \"Before/After\": \"Washington Before\"}, {\"Year\": 2010.039999999999, \"overdose_per_100k\": 10.047758664864432, \"ci_low\": -3.0840791154282474, \"ci_high\": 23.17959644515711, \"Before/After\": \"Washington Before\"}, {\"Year\": 2010.059999999999, \"overdose_per_100k\": 10.034099950413065, \"ci_low\": -3.117373741531555, \"ci_high\": 23.185573642357685, \"Before/After\": \"Washington Before\"}, {\"Year\": 2010.079999999999, \"overdose_per_100k\": 10.020441235961698, \"ci_low\": -3.158473588310793, \"ci_high\": 23.199356060234187, \"Before/After\": \"Washington Before\"}, {\"Year\": 2010.099999999999, \"overdose_per_100k\": 10.006782521510331, \"ci_low\": -3.2073300239505453, \"ci_high\": 23.22089506697121, \"Before/After\": \"Washington Before\"}, {\"Year\": 2010.119999999999, \"overdose_per_100k\": 9.993123807059192, \"ci_low\": -3.263881255473356, \"ci_high\": 23.25012886959174, \"Before/After\": \"Washington Before\"}, {\"Year\": 2010.139999999999, \"overdose_per_100k\": 9.979465092607825, \"ci_low\": -3.328052900354617, \"ci_high\": 23.286983085570267, \"Before/After\": \"Washington Before\"}, {\"Year\": 2010.159999999999, \"overdose_per_100k\": 9.965806378156458, \"ci_low\": -3.3997585474721355, \"ci_high\": 23.33137130378505, \"Before/After\": \"Washington Before\"}, {\"Year\": 2010.179999999999, \"overdose_per_100k\": 9.952147663705091, \"ci_low\": -3.478900509173167, \"ci_high\": 23.383195836583347, \"Before/After\": \"Washington Before\"}, {\"Year\": 2010.199999999999, \"overdose_per_100k\": 9.938488949253724, \"ci_low\": -3.5653706159479217, \"ci_high\": 23.442348514455368, \"Before/After\": \"Washington Before\"}, {\"Year\": 2010.219999999999, \"overdose_per_100k\": 9.924830234802357, \"ci_low\": -3.659051017872814, \"ci_high\": 23.508711487477527, \"Before/After\": \"Washington Before\"}, {\"Year\": 2010.2399999999989, \"overdose_per_100k\": 9.911171520351218, \"ci_low\": -3.759815112207919, \"ci_high\": 23.582158152910353, \"Before/After\": \"Washington Before\"}, {\"Year\": 2010.2599999999989, \"overdose_per_100k\": 9.89751280589985, \"ci_low\": -3.867528411664667, \"ci_high\": 23.662554023464367, \"Before/After\": \"Washington Before\"}, {\"Year\": 2010.2799999999988, \"overdose_per_100k\": 9.883854091448484, \"ci_low\": -3.982049515183796, \"ci_high\": 23.749757698080764, \"Before/After\": \"Washington Before\"}, {\"Year\": 2010.2999999999988, \"overdose_per_100k\": 9.870195376997117, \"ci_low\": -4.103230998761791, \"ci_high\": 23.843621752756025, \"Before/After\": \"Washington Before\"}, {\"Year\": 2010.3199999999988, \"overdose_per_100k\": 9.85653666254575, \"ci_low\": -4.230920351474985, \"ci_high\": 23.943993676566485, \"Before/After\": \"Washington Before\"}, {\"Year\": 2010.3399999999988, \"overdose_per_100k\": 9.84287794809461, \"ci_low\": -4.364960885132902, \"ci_high\": 24.050716781322123, \"Before/After\": \"Washington Before\"}, {\"Year\": 2010.3599999999988, \"overdose_per_100k\": 9.829219233643244, \"ci_low\": -4.5051925921273615, \"ci_high\": 24.16363105941385, \"Before/After\": \"Washington Before\"}, {\"Year\": 2010.3799999999987, \"overdose_per_100k\": 9.815560519191877, \"ci_low\": -4.651452961946013, \"ci_high\": 24.282574000329767, \"Before/After\": \"Washington Before\"}, {\"Year\": 2010.3999999999987, \"overdose_per_100k\": 9.80190180474051, \"ci_low\": -4.803577804967183, \"ci_high\": 24.407381414448203, \"Before/After\": \"Washington Before\"}, {\"Year\": 2010.4199999999987, \"overdose_per_100k\": 9.788243090289143, \"ci_low\": -4.961401954216766, \"ci_high\": 24.537888134795054, \"Before/After\": \"Washington Before\"}, {\"Year\": 2010.4399999999987, \"overdose_per_100k\": 9.774584375838003, \"ci_low\": -5.124759961865262, \"ci_high\": 24.67392871354127, \"Before/After\": \"Washington Before\"}, {\"Year\": 2010.4599999999987, \"overdose_per_100k\": 9.760925661386636, \"ci_low\": -5.2934867645130055, \"ci_high\": 24.81533808728628, \"Before/After\": \"Washington Before\"}, {\"Year\": 2010.4799999999987, \"overdose_per_100k\": 9.74726694693527, \"ci_low\": -5.467418196961667, \"ci_high\": 24.961952090832206, \"Before/After\": \"Washington Before\"}, {\"Year\": 2010.4999999999986, \"overdose_per_100k\": 9.733608232483903, \"ci_low\": -5.646391545134005, \"ci_high\": 25.11360801010181, \"Before/After\": \"Washington Before\"}, {\"Year\": 2010.5199999999986, \"overdose_per_100k\": 9.719949518032536, \"ci_low\": -5.830246017223631, \"ci_high\": 25.2701450532887, \"Before/After\": \"Washington Before\"}, {\"Year\": 2010.5399999999986, \"overdose_per_100k\": 9.706290803581169, \"ci_low\": -6.0188231213799686, \"ci_high\": 25.431404728542304, \"Before/After\": \"Washington Before\"}, {\"Year\": 2010.5599999999986, \"overdose_per_100k\": 9.69263208913003, \"ci_low\": -6.211967030826273, \"ci_high\": 25.59723120908633, \"Before/After\": \"Washington Before\"}, {\"Year\": 2010.5799999999986, \"overdose_per_100k\": 9.678973374678662, \"ci_low\": -6.4095249213450565, \"ci_high\": 25.76747167070238, \"Before/After\": \"Washington Before\"}, {\"Year\": 2010.5999999999985, \"overdose_per_100k\": 9.665314660227295, \"ci_low\": -6.611347172561704, \"ci_high\": 25.941976493016295, \"Before/After\": \"Washington Before\"}, {\"Year\": 2010.6199999999985, \"overdose_per_100k\": 9.651655945775929, \"ci_low\": -6.817287619612557, \"ci_high\": 26.120599511164414, \"Before/After\": \"Washington Before\"}, {\"Year\": 2010.6399999999985, \"overdose_per_100k\": 9.637997231324562, \"ci_low\": -7.027203712369566, \"ci_high\": 26.30319817501869, \"Before/After\": \"Washington Before\"}, {\"Year\": 2010.6599999999985, \"overdose_per_100k\": 9.624338516873422, \"ci_low\": -7.240956665050167, \"ci_high\": 26.48963369879701, \"Before/After\": \"Washington Before\"}, {\"Year\": 2010.6799999999985, \"overdose_per_100k\": 9.610679802422055, \"ci_low\": -7.458411548433887, \"ci_high\": 26.679771153277997, \"Before/After\": \"Washington Before\"}, {\"Year\": 2010.6999999999985, \"overdose_per_100k\": 9.597021087970688, \"ci_low\": -7.679437348502841, \"ci_high\": 26.873479524444218, \"Before/After\": \"Washington Before\"}, {\"Year\": 2010.7199999999984, \"overdose_per_100k\": 9.583362373519321, \"ci_low\": -7.90390704065695, \"ci_high\": 27.070631787695593, \"Before/After\": \"Washington Before\"}, {\"Year\": 2010.7399999999984, \"overdose_per_100k\": 9.569703659067955, \"ci_low\": -8.131697578233602, \"ci_high\": 27.27110489636951, \"Before/After\": \"Washington Before\"}, {\"Year\": 2010.7599999999984, \"overdose_per_100k\": 9.556044944616815, \"ci_low\": -8.362689903488562, \"ci_high\": 27.47477979272219, \"Before/After\": \"Washington Before\"}, {\"Year\": 2010.7799999999984, \"overdose_per_100k\": 9.542386230165448, \"ci_low\": -8.596768934710052, \"ci_high\": 27.68154139504095, \"Before/After\": \"Washington Before\"}, {\"Year\": 2010.7999999999984, \"overdose_per_100k\": 9.528727515714081, \"ci_low\": -8.833823519610277, \"ci_high\": 27.89127855103844, \"Before/After\": \"Washington Before\"}, {\"Year\": 2010.8199999999983, \"overdose_per_100k\": 9.515068801262714, \"ci_low\": -9.073746372038752, \"ci_high\": 28.10388397456418, \"Before/After\": \"Washington Before\"}, {\"Year\": 2010.8399999999983, \"overdose_per_100k\": 9.501410086811347, \"ci_low\": -9.316434036864521, \"ci_high\": 28.319254210487216, \"Before/After\": \"Washington Before\"}, {\"Year\": 2010.8599999999983, \"overdose_per_100k\": 9.48775137235998, \"ci_low\": -9.561786787969712, \"ci_high\": 28.537289532689673, \"Before/After\": \"Washington Before\"}, {\"Year\": 2010.8799999999983, \"overdose_per_100k\": 9.474092657908841, \"ci_low\": -9.809708555181668, \"ci_high\": 28.75789387099935, \"Before/After\": \"Washington Before\"}, {\"Year\": 2010.8999999999983, \"overdose_per_100k\": 9.460433943457474, \"ci_low\": -10.060106862864892, \"ci_high\": 28.98097474977984, \"Before/After\": \"Washington Before\"}, {\"Year\": 2010.9199999999983, \"overdose_per_100k\": 9.446775229006107, \"ci_low\": -10.31289268975637, \"ci_high\": 29.206443147768585, \"Before/After\": \"Washington Before\"}, {\"Year\": 2010.9399999999982, \"overdose_per_100k\": 9.43311651455474, \"ci_low\": -10.567980398891137, \"ci_high\": 29.434213428000618, \"Before/After\": \"Washington Before\"}, {\"Year\": 2010.9599999999982, \"overdose_per_100k\": 9.419457800103373, \"ci_low\": -10.825287644475388, \"ci_high\": 29.664203244682135, \"Before/After\": \"Washington Before\"}, {\"Year\": 2010.9799999999982, \"overdose_per_100k\": 9.405799085652234, \"ci_low\": -11.084735246906618, \"ci_high\": 29.896333418211086, \"Before/After\": \"Washington Before\"}, {\"Year\": 2010.9999999999982, \"overdose_per_100k\": 9.392140371200867, \"ci_low\": -11.346247097378239, \"ci_high\": 30.130527839779973, \"Before/After\": \"Washington Before\"}], \"data-8a0957f88e2d079ee49686a304174a64\": [{\"Year\": 2012.0, \"overdose_per_100k\": 9.227740140950232, \"ci_low\": 8.318612655720207, \"ci_high\": 10.136867626180257, \"Before/After\": \"Washington After\"}, {\"Year\": 2012.03, \"overdose_per_100k\": 9.241162633095655, \"ci_low\": 8.343681641520664, \"ci_high\": 10.138643624670646, \"Before/After\": \"Washington After\"}, {\"Year\": 2012.06, \"overdose_per_100k\": 9.254585125241078, \"ci_low\": 8.36866383081012, \"ci_high\": 10.140506419672036, \"Before/After\": \"Washington After\"}, {\"Year\": 2012.09, \"overdose_per_100k\": 9.268007617386502, \"ci_low\": 8.393555781396422, \"ci_high\": 10.142459453376581, \"Before/After\": \"Washington After\"}, {\"Year\": 2012.12, \"overdose_per_100k\": 9.281430109531811, \"ci_low\": 8.418353895946188, \"ci_high\": 10.144506323117435, \"Before/After\": \"Washington After\"}, {\"Year\": 2012.1499999999999, \"overdose_per_100k\": 9.294852601677235, \"ci_low\": 8.443054414644116, \"ci_high\": 10.146650788710353, \"Before/After\": \"Washington After\"}, {\"Year\": 2012.1799999999998, \"overdose_per_100k\": 9.308275093822658, \"ci_low\": 8.467653409675032, \"ci_high\": 10.148896777970284, \"Before/After\": \"Washington After\"}, {\"Year\": 2012.2099999999998, \"overdose_per_100k\": 9.321697585968082, \"ci_low\": 8.492146777315963, \"ci_high\": 10.1512483946202, \"Before/After\": \"Washington After\"}, {\"Year\": 2012.2399999999998, \"overdose_per_100k\": 9.335120078113505, \"ci_low\": 8.516530231936489, \"ci_high\": 10.15370992429052, \"Before/After\": \"Washington After\"}, {\"Year\": 2012.2699999999998, \"overdose_per_100k\": 9.348542570258815, \"ci_low\": 8.5407992992603, \"ci_high\": 10.15628584125733, \"Before/After\": \"Washington After\"}, {\"Year\": 2012.2999999999997, \"overdose_per_100k\": 9.361965062404238, \"ci_low\": 8.564949308853917, \"ci_high\": 10.158980815954559, \"Before/After\": \"Washington After\"}, {\"Year\": 2012.3299999999997, \"overdose_per_100k\": 9.375387554549661, \"ci_low\": 8.588975388726634, \"ci_high\": 10.161799720372688, \"Before/After\": \"Washington After\"}, {\"Year\": 2012.3599999999997, \"overdose_per_100k\": 9.388810046695085, \"ci_low\": 8.61287245816953, \"ci_high\": 10.164747635220639, \"Before/After\": \"Washington After\"}, {\"Year\": 2012.3899999999996, \"overdose_per_100k\": 9.402232538840394, \"ci_low\": 8.636635221705655, \"ci_high\": 10.167829855975134, \"Before/After\": \"Washington After\"}, {\"Year\": 2012.4199999999996, \"overdose_per_100k\": 9.415655030985818, \"ci_low\": 8.660258164230308, \"ci_high\": 10.171051897741327, \"Before/After\": \"Washington After\"}, {\"Year\": 2012.4499999999996, \"overdose_per_100k\": 9.429077523131241, \"ci_low\": 8.683735545117472, \"ci_high\": 10.17441950114501, \"Before/After\": \"Washington After\"}, {\"Year\": 2012.4799999999996, \"overdose_per_100k\": 9.442500015276664, \"ci_low\": 8.707061393731907, \"ci_high\": 10.177938636821422, \"Before/After\": \"Washington After\"}, {\"Year\": 2012.5099999999995, \"overdose_per_100k\": 9.455922507421974, \"ci_low\": 8.730229506551197, \"ci_high\": 10.18161550829275, \"Before/After\": \"Washington After\"}, {\"Year\": 2012.5399999999995, \"overdose_per_100k\": 9.469344999567397, \"ci_low\": 8.753233443532944, \"ci_high\": 10.185456555601851, \"Before/After\": \"Washington After\"}, {\"Year\": 2012.5699999999995, \"overdose_per_100k\": 9.48276749171282, \"ci_low\": 8.776066526965629, \"ci_high\": 10.189468456460013, \"Before/After\": \"Washington After\"}, {\"Year\": 2012.5999999999995, \"overdose_per_100k\": 9.496189983858244, \"ci_low\": 8.79872184118181, \"ci_high\": 10.193658126534677, \"Before/After\": \"Washington After\"}, {\"Year\": 2012.6299999999994, \"overdose_per_100k\": 9.509612476003554, \"ci_low\": 8.821192233341305, \"ci_high\": 10.198032718665802, \"Before/After\": \"Washington After\"}, {\"Year\": 2012.6599999999994, \"overdose_per_100k\": 9.523034968148977, \"ci_low\": 8.843470317399108, \"ci_high\": 10.202599618898846, \"Before/After\": \"Washington After\"}, {\"Year\": 2012.6899999999994, \"overdose_per_100k\": 9.5364574602944, \"ci_low\": 8.86554847815864, \"ci_high\": 10.20736644243016, \"Before/After\": \"Washington After\"}, {\"Year\": 2012.7199999999993, \"overdose_per_100k\": 9.549879952439824, \"ci_low\": 8.88741887902683, \"ci_high\": 10.212341025852817, \"Before/After\": \"Washington After\"}, {\"Year\": 2012.7499999999993, \"overdose_per_100k\": 9.563302444585247, \"ci_low\": 8.909073471684941, \"ci_high\": 10.217531417485553, \"Before/After\": \"Washington After\"}, {\"Year\": 2012.7799999999993, \"overdose_per_100k\": 9.576724936730557, \"ci_low\": 8.930504008644125, \"ci_high\": 10.222945864816989, \"Before/After\": \"Washington After\"}, {\"Year\": 2012.8099999999993, \"overdose_per_100k\": 9.59014742887598, \"ci_low\": 8.951702058834819, \"ci_high\": 10.228592798917141, \"Before/After\": \"Washington After\"}, {\"Year\": 2012.8399999999992, \"overdose_per_100k\": 9.603569921021403, \"ci_low\": 8.97265902646116, \"ci_high\": 10.234480815581646, \"Before/After\": \"Washington After\"}, {\"Year\": 2012.8699999999992, \"overdose_per_100k\": 9.616992413166827, \"ci_low\": 8.993366173386494, \"ci_high\": 10.240618652947159, \"Before/After\": \"Washington After\"}, {\"Year\": 2012.8999999999992, \"overdose_per_100k\": 9.630414905312136, \"ci_low\": 9.013814645236174, \"ci_high\": 10.247015165388099, \"Before/After\": \"Washington After\"}, {\"Year\": 2012.9299999999992, \"overdose_per_100k\": 9.64383739745756, \"ci_low\": 9.033995501257156, \"ci_high\": 10.253679293657964, \"Before/After\": \"Washington After\"}, {\"Year\": 2012.9599999999991, \"overdose_per_100k\": 9.657259889602983, \"ci_low\": 9.053899748851672, \"ci_high\": 10.260620030354294, \"Before/After\": \"Washington After\"}, {\"Year\": 2012.989999999999, \"overdose_per_100k\": 9.670682381748406, \"ci_low\": 9.073518380502785, \"ci_high\": 10.267846382994028, \"Before/After\": \"Washington After\"}, {\"Year\": 2013.019999999999, \"overdose_per_100k\": 9.684104873893716, \"ci_low\": 9.092842416908725, \"ci_high\": 10.275367330878707, \"Before/After\": \"Washington After\"}, {\"Year\": 2013.049999999999, \"overdose_per_100k\": 9.69752736603914, \"ci_low\": 9.11186295239294, \"ci_high\": 10.283191779685339, \"Before/After\": \"Washington After\"}, {\"Year\": 2013.079999999999, \"overdose_per_100k\": 9.710949858184563, \"ci_low\": 9.130571204630808, \"ci_high\": 10.291328511738318, \"Before/After\": \"Washington After\"}, {\"Year\": 2013.109999999999, \"overdose_per_100k\": 9.724372350329986, \"ci_low\": 9.148958567639506, \"ci_high\": 10.299786133020467, \"Before/After\": \"Washington After\"}, {\"Year\": 2013.139999999999, \"overdose_per_100k\": 9.737794842475296, \"ci_low\": 9.167016667669296, \"ci_high\": 10.308573017281295, \"Before/After\": \"Washington After\"}, {\"Year\": 2013.169999999999, \"overdose_per_100k\": 9.75121733462072, \"ci_low\": 9.184737421285767, \"ci_high\": 10.317697247955671, \"Before/After\": \"Washington After\"}, {\"Year\": 2013.199999999999, \"overdose_per_100k\": 9.764639826766143, \"ci_low\": 9.202113095810502, \"ci_high\": 10.327166557721783, \"Before/After\": \"Washington After\"}, {\"Year\": 2013.2299999999989, \"overdose_per_100k\": 9.778062318911566, \"ci_low\": 9.219136368791688, \"ci_high\": 10.336988269031444, \"Before/After\": \"Washington After\"}, {\"Year\": 2013.2599999999989, \"overdose_per_100k\": 9.79148481105699, \"ci_low\": 9.235800389602181, \"ci_high\": 10.347169232511797, \"Before/After\": \"Washington After\"}, {\"Year\": 2013.2899999999988, \"overdose_per_100k\": 9.804907303202299, \"ci_low\": 9.252098838878247, \"ci_high\": 10.35771576752635, \"Before/After\": \"Washington After\"}, {\"Year\": 2013.3199999999988, \"overdose_per_100k\": 9.818329795347722, \"ci_low\": 9.268025984536049, \"ci_high\": 10.368633606159396, \"Before/After\": \"Washington After\"}, {\"Year\": 2013.3499999999988, \"overdose_per_100k\": 9.831752287493146, \"ci_low\": 9.283576737379505, \"ci_high\": 10.379927837606786, \"Before/After\": \"Washington After\"}, {\"Year\": 2013.3799999999987, \"overdose_per_100k\": 9.845174779638569, \"ci_low\": 9.29874669939726, \"ci_high\": 10.391602859879878, \"Before/After\": \"Washington After\"}, {\"Year\": 2013.4099999999987, \"overdose_per_100k\": 9.858597271783879, \"ci_low\": 9.3135322077825, \"ci_high\": 10.403662335785258, \"Before/After\": \"Washington After\"}, {\"Year\": 2013.4399999999987, \"overdose_per_100k\": 9.872019763929302, \"ci_low\": 9.327930373696399, \"ci_high\": 10.416109154162205, \"Before/After\": \"Washington After\"}, {\"Year\": 2013.4699999999987, \"overdose_per_100k\": 9.885442256074725, \"ci_low\": 9.34193911074499, \"ci_high\": 10.42894540140446, \"Before/After\": \"Washington After\"}, {\"Year\": 2013.4999999999986, \"overdose_per_100k\": 9.898864748220149, \"ci_low\": 9.355557158309049, \"ci_high\": 10.442172338131249, \"Before/After\": \"Washington After\"}, {\"Year\": 2013.5299999999986, \"overdose_per_100k\": 9.912287240365458, \"ci_low\": 9.36878409504129, \"ci_high\": 10.455790385689626, \"Before/After\": \"Washington After\"}, {\"Year\": 2013.5599999999986, \"overdose_per_100k\": 9.925709732510882, \"ci_low\": 9.381620342167402, \"ci_high\": 10.469799122854361, \"Before/After\": \"Washington After\"}, {\"Year\": 2013.5899999999986, \"overdose_per_100k\": 9.939132224656305, \"ci_low\": 9.394067160673659, \"ci_high\": 10.484197288638951, \"Before/After\": \"Washington After\"}, {\"Year\": 2013.6199999999985, \"overdose_per_100k\": 9.952554716801728, \"ci_low\": 9.406126636584643, \"ci_high\": 10.498982797018813, \"Before/After\": \"Washington After\"}, {\"Year\": 2013.6499999999985, \"overdose_per_100k\": 9.965977208947038, \"ci_low\": 9.417801658863048, \"ci_high\": 10.514152759031028, \"Before/After\": \"Washington After\"}, {\"Year\": 2013.6799999999985, \"overdose_per_100k\": 9.979399701092461, \"ci_low\": 9.429095890317882, \"ci_high\": 10.52970351186704, \"Before/After\": \"Washington After\"}, {\"Year\": 2013.7099999999984, \"overdose_per_100k\": 9.992822193237885, \"ci_low\": 9.440013728834417, \"ci_high\": 10.545630657641352, \"Before/After\": \"Washington After\"}, {\"Year\": 2013.7399999999984, \"overdose_per_100k\": 10.006244685383308, \"ci_low\": 9.450560263976124, \"ci_high\": 10.561929106790492, \"Before/After\": \"Washington After\"}, {\"Year\": 2013.7699999999984, \"overdose_per_100k\": 10.019667177528731, \"ci_low\": 9.460741227343146, \"ci_high\": 10.578593127714317, \"Before/After\": \"Washington After\"}, {\"Year\": 2013.7999999999984, \"overdose_per_100k\": 10.033089669674041, \"ci_low\": 9.470562938658507, \"ci_high\": 10.595616400689575, \"Before/After\": \"Washington After\"}, {\"Year\": 2013.8299999999983, \"overdose_per_100k\": 10.046512161819464, \"ci_low\": 9.48003224854927, \"ci_high\": 10.61299207508966, \"Before/After\": \"Washington After\"}, {\"Year\": 2013.8599999999983, \"overdose_per_100k\": 10.059934653964888, \"ci_low\": 9.489156479228457, \"ci_high\": 10.630712828701318, \"Before/After\": \"Washington After\"}, {\"Year\": 2013.8899999999983, \"overdose_per_100k\": 10.073357146110311, \"ci_low\": 9.497943363379026, \"ci_high\": 10.648770928841596, \"Before/After\": \"Washington After\"}, {\"Year\": 2013.9199999999983, \"overdose_per_100k\": 10.08677963825562, \"ci_low\": 9.506400984666595, \"ci_high\": 10.667158291844647, \"Before/After\": \"Washington After\"}, {\"Year\": 2013.9499999999982, \"overdose_per_100k\": 10.100202130401044, \"ci_low\": 9.514537716725085, \"ci_high\": 10.685866544077003, \"Before/After\": \"Washington After\"}, {\"Year\": 2013.9799999999982, \"overdose_per_100k\": 10.113624622546467, \"ci_low\": 9.522362165539034, \"ci_high\": 10.7048870795539, \"Before/After\": \"Washington After\"}, {\"Year\": 2014.0099999999982, \"overdose_per_100k\": 10.12704711469189, \"ci_low\": 9.529883113429086, \"ci_high\": 10.724211115954695, \"Before/After\": \"Washington After\"}, {\"Year\": 2014.0399999999981, \"overdose_per_100k\": 10.1404696068372, \"ci_low\": 9.537109466073925, \"ci_high\": 10.743829747600476, \"Before/After\": \"Washington After\"}, {\"Year\": 2014.0699999999981, \"overdose_per_100k\": 10.153892098982624, \"ci_low\": 9.544050202885755, \"ci_high\": 10.763733995079493, \"Before/After\": \"Washington After\"}, {\"Year\": 2014.099999999998, \"overdose_per_100k\": 10.167314591128047, \"ci_low\": 9.550714331052005, \"ci_high\": 10.78391485120409, \"Before/After\": \"Washington After\"}, {\"Year\": 2014.129999999998, \"overdose_per_100k\": 10.18073708327347, \"ci_low\": 9.557110843497936, \"ci_high\": 10.804363323049005, \"Before/After\": \"Washington After\"}, {\"Year\": 2014.159999999998, \"overdose_per_100k\": 10.19415957541878, \"ci_low\": 9.563248680868076, \"ci_high\": 10.825070469969484, \"Before/After\": \"Washington After\"}, {\"Year\": 2014.189999999998, \"overdose_per_100k\": 10.207582067564203, \"ci_low\": 9.569136697537207, \"ci_high\": 10.8460274375912, \"Before/After\": \"Washington After\"}, {\"Year\": 2014.219999999998, \"overdose_per_100k\": 10.221004559709627, \"ci_low\": 9.574783631643601, \"ci_high\": 10.867225487775652, \"Before/After\": \"Washington After\"}, {\"Year\": 2014.249999999998, \"overdose_per_100k\": 10.23442705185505, \"ci_low\": 9.580198078979526, \"ci_high\": 10.888656024730574, \"Before/After\": \"Washington After\"}, {\"Year\": 2014.279999999998, \"overdose_per_100k\": 10.247849544000474, \"ci_low\": 9.58538847061657, \"ci_high\": 10.910310617384377, \"Before/After\": \"Washington After\"}, {\"Year\": 2014.309999999998, \"overdose_per_100k\": 10.261272036145783, \"ci_low\": 9.590363054044923, \"ci_high\": 10.932181018246643, \"Before/After\": \"Washington After\"}, {\"Year\": 2014.3399999999979, \"overdose_per_100k\": 10.274694528291207, \"ci_low\": 9.59512987748109, \"ci_high\": 10.954259179101323, \"Before/After\": \"Washington After\"}, {\"Year\": 2014.3699999999978, \"overdose_per_100k\": 10.28811702043663, \"ci_low\": 9.599696777817183, \"ci_high\": 10.976537263056077, \"Before/After\": \"Washington After\"}, {\"Year\": 2014.3999999999978, \"overdose_per_100k\": 10.301539512582053, \"ci_low\": 9.604071369857293, \"ci_high\": 10.999007655306814, \"Before/After\": \"Washington After\"}, {\"Year\": 2014.4299999999978, \"overdose_per_100k\": 10.314962004727363, \"ci_low\": 9.60826103993666, \"ci_high\": 11.021662969518065, \"Before/After\": \"Washington After\"}, {\"Year\": 2014.4599999999978, \"overdose_per_100k\": 10.328384496872786, \"ci_low\": 9.61227294089376, \"ci_high\": 11.044496052851812, \"Before/After\": \"Washington After\"}, {\"Year\": 2014.4899999999977, \"overdose_per_100k\": 10.34180698901821, \"ci_low\": 9.616113988206209, \"ci_high\": 11.06749998983021, \"Before/After\": \"Washington After\"}, {\"Year\": 2014.5199999999977, \"overdose_per_100k\": 10.355229481163633, \"ci_low\": 9.619790859590974, \"ci_high\": 11.090668102736291, \"Before/After\": \"Washington After\"}, {\"Year\": 2014.5499999999977, \"overdose_per_100k\": 10.368651973308943, \"ci_low\": 9.623309995271745, \"ci_high\": 11.11399395134614, \"Before/After\": \"Washington After\"}, {\"Year\": 2014.5799999999977, \"overdose_per_100k\": 10.382074465454366, \"ci_low\": 9.626677598679702, \"ci_high\": 11.13747133222903, \"Before/After\": \"Washington After\"}, {\"Year\": 2014.6099999999976, \"overdose_per_100k\": 10.39549695759979, \"ci_low\": 9.629899640538115, \"ci_high\": 11.161094274661464, \"Before/After\": \"Washington After\"}, {\"Year\": 2014.6399999999976, \"overdose_per_100k\": 10.408919449745213, \"ci_low\": 9.632981861210334, \"ci_high\": 11.184857038280091, \"Before/After\": \"Washington After\"}, {\"Year\": 2014.6699999999976, \"overdose_per_100k\": 10.422341941890522, \"ci_low\": 9.6359297760621, \"ci_high\": 11.208754107718944, \"Before/After\": \"Washington After\"}, {\"Year\": 2014.6999999999975, \"overdose_per_100k\": 10.435764434035946, \"ci_low\": 9.6387486805686, \"ci_high\": 11.232780187503291, \"Before/After\": \"Washington After\"}, {\"Year\": 2014.7299999999975, \"overdose_per_100k\": 10.449186926181369, \"ci_low\": 9.641443655103139, \"ci_high\": 11.2569301972596, \"Before/After\": \"Washington After\"}, {\"Year\": 2014.7599999999975, \"overdose_per_100k\": 10.462609418326792, \"ci_low\": 9.644019572157088, \"ci_high\": 11.281199264496497, \"Before/After\": \"Washington After\"}, {\"Year\": 2014.7899999999975, \"overdose_per_100k\": 10.476031910472216, \"ci_low\": 9.64648110183096, \"ci_high\": 11.305582719113472, \"Before/After\": \"Washington After\"}, {\"Year\": 2014.8199999999974, \"overdose_per_100k\": 10.489454402617525, \"ci_low\": 9.648832718405506, \"ci_high\": 11.330076086829544, \"Before/After\": \"Washington After\"}, {\"Year\": 2014.8499999999974, \"overdose_per_100k\": 10.502876894762949, \"ci_low\": 9.651078707748827, \"ci_high\": 11.35467508177707, \"Before/After\": \"Washington After\"}, {\"Year\": 2014.8799999999974, \"overdose_per_100k\": 10.516299386908372, \"ci_low\": 9.653223173345001, \"ci_high\": 11.379375600471743, \"Before/After\": \"Washington After\"}, {\"Year\": 2014.9099999999974, \"overdose_per_100k\": 10.529721879053795, \"ci_low\": 9.655270043089063, \"ci_high\": 11.404173715018528, \"Before/After\": \"Washington After\"}, {\"Year\": 2014.9399999999973, \"overdose_per_100k\": 10.543144371199105, \"ci_low\": 9.657223076721897, \"ci_high\": 11.429065665676314, \"Before/After\": \"Washington After\"}, {\"Year\": 2014.9699999999973, \"overdose_per_100k\": 10.556566863344528, \"ci_low\": 9.659085871727253, \"ci_high\": 11.454047854961804, \"Before/After\": \"Washington After\"}, {\"Year\": 2014.9999999999973, \"overdose_per_100k\": 10.569989355489952, \"ci_low\": 9.660861870295593, \"ci_high\": 11.479116840684311, \"Before/After\": \"Washington After\"}], \"data-12fa130837655ae321383954ec916afe\": [{\"Year\": 2012, \"color\": \"black\"}]}}, {\"mode\": \"vega-lite\"});\n",
       "</script>"
      ],
      "text/plain": [
       "alt.LayerChart(...)"
      ]
     },
     "execution_count": 335,
     "metadata": {},
     "output_type": "execute_result"
    }
   ],
   "source": [
    "# creating the final plot for pre-post analysis of drug overdose deaths in Washington\n",
    " \n",
    "washington_before_chart = build_chart(\n",
    "    wa_b4, \"orange\", \"Year\",\"overdose_per_100k\", \"Washington Before\",  alpha=0.05\n",
    ")\n",
    " \n",
    "washington_after_chart = build_chart(\n",
    "    wa_after, \"blue\", \"Year\", \"overdose_per_100k\", \"Washington After\", alpha=0.05\n",
    ")\n",
    " \n",
    "washington_final_pre_post_deaths = (washington_before_chart + washington_after_chart + line).properties(title=\"Pre Post Analysis Of Opioid Overdose Deaths In Florida\")\n",
    " \n",
    "washington_final_pre_post_deaths\n",
    " \n",
    "\n"
   ]
  },
  {
   "cell_type": "code",
   "execution_count": 336,
   "metadata": {},
   "outputs": [],
   "source": [
    "########################################################################################################################\n",
    "# ends here for final report     "
   ]
  },
  {
   "cell_type": "code",
   "execution_count": 337,
   "metadata": {},
   "outputs": [],
   "source": [
    "# def get_reg_fit(data, yvar, xvar, alpha=0.05):\n",
    "#     import statsmodels.formula.api as smf\n",
    "\n",
    "#     # Grid for predicted values\n",
    "#     x = data.loc[pd.notnull(data[yvar]), xvar]\n",
    "#     xmin = x.min()\n",
    "#     xmax = x.max()\n",
    "#     step = (xmax - xmin) / 100\n",
    "#     grid = np.arange(xmin, xmax + step, step)\n",
    "#     predictions = pd.DataFrame({xvar: grid})\n",
    "\n",
    "#     # Fit model, get predictions\n",
    "#     model = smf.ols(f\"{yvar} ~ {xvar}\", data=data).fit()\n",
    "#     model_predict = model.get_prediction(predictions[xvar])\n",
    "#     predictions[yvar] = model_predict.summary_frame()[\"mean\"]\n",
    "#     predictions[[\"ci_low\", \"ci_high\"]] = model_predict.conf_int(alpha=alpha)\n",
    "\n",
    "#     # Build chart\n",
    "#     reg = alt.Chart(predictions).mark_line().encode(x=xvar, y=yvar)\n",
    "#     ci = (\n",
    "#         alt.Chart(predictions)\n",
    "#         .mark_errorband()\n",
    "#         .encode(\n",
    "#             x=xvar,\n",
    "#             y=alt.Y(\"ci_low\", title=yvar),\n",
    "#             y2=\"ci_high\",\n",
    "#         )\n",
    "#     )\n",
    "#     chart = ci + reg\n",
    "#     return predictions, chart"
   ]
  },
  {
   "cell_type": "code",
   "execution_count": 338,
   "metadata": {},
   "outputs": [],
   "source": [
    "# wa_deaths.groupby(\"Year\")[\"overdose_per_100k\"].agg([np.mean, np.std])\n",
    "\n",
    "# wa_deaths_b4 = wa_deaths[wa_deaths[\"Year\"] < 2012]\n",
    "# wa_deaths_after = wa_deaths[wa_deaths[\"Year\"] >= 2012]"
   ]
  },
  {
   "cell_type": "code",
   "execution_count": 339,
   "metadata": {},
   "outputs": [],
   "source": [
    "# source_data = wa_deaths_b4\n",
    "\n",
    "# plot_b4 = (\n",
    "#     alt.Chart(source_data)\n",
    "#     .mark_point()\n",
    "#     .encode(\n",
    "#         x=alt.X(\"Year:O\", scale=alt.Scale(zero=False)),\n",
    "#         y=alt.Y(\"mean_overdose:Q\", scale=alt.Scale(zero=False)),\n",
    "#     ).transform_aggregate(\n",
    "#         mean_overdose='mean(overdose_per_100k)',\n",
    "#         groupby=[\"Year\"]\n",
    "#     )\n",
    "# )\n"
   ]
  },
  {
   "cell_type": "code",
   "execution_count": 340,
   "metadata": {},
   "outputs": [],
   "source": [
    "# fit_b4, reg_chart_b4 = get_reg_fit(\n",
    "#     source_data, yvar=\"overdose_per_100k\", xvar=\"Year\", alpha=0.05\n",
    "# )\n",
    "# fit_b4"
   ]
  },
  {
   "cell_type": "code",
   "execution_count": 341,
   "metadata": {},
   "outputs": [],
   "source": [
    "# plot_b4 + reg_chart_b4"
   ]
  },
  {
   "cell_type": "code",
   "execution_count": 342,
   "metadata": {},
   "outputs": [],
   "source": [
    "\n",
    "# source_data = wa_deaths_after\n",
    "\n",
    "# plot_after = (\n",
    "#     alt.Chart(source_data)\n",
    "#     .mark_point()\n",
    "#     .encode(\n",
    "#         x=alt.X(\"Year:O\", scale=alt.Scale(zero=False)),\n",
    "#         y=alt.Y(\"mean_overdose:Q\", scale=alt.Scale(zero=False)),\n",
    "#     ).transform_aggregate(\n",
    "#         mean_overdose='mean(overdose_per_100k)',\n",
    "#         groupby=[\"Year\"]\n",
    "#     )\n",
    "# )\n",
    "# plot_after\n",
    "# fit_after, reg_chart_after = get_reg_fit(\n",
    "#     source_data, yvar=\"overdose_per_100k\", xvar=\"Year\", alpha=0.05\n",
    "# )\n",
    "# fit_after\n",
    "# plot_after + reg_chart_after"
   ]
  },
  {
   "cell_type": "code",
   "execution_count": 343,
   "metadata": {},
   "outputs": [],
   "source": [
    "#plot_b4 + reg_chart_b4 + plot_after + reg_chart_after"
   ]
  },
  {
   "cell_type": "code",
   "execution_count": 344,
   "metadata": {},
   "outputs": [],
   "source": [
    "################################"
   ]
  },
  {
   "cell_type": "code",
   "execution_count": 345,
   "metadata": {},
   "outputs": [],
   "source": [
    "# # saved original code for plotting\n",
    "# wa_deaths.groupby(\"Year\")[\"overdose_per_100k\"].agg([np.mean, np.std])\n",
    "\n",
    "# wa_deaths_b4 = wa_deaths[wa_deaths[\"Year\"] < 2012]\n",
    "# wa_deaths_after = wa_deaths[wa_deaths[\"Year\"] >= 2012]\n",
    "\n",
    "# source_data = wa_deaths_b4\n",
    "\n",
    "# plot_wa_b4 = alt.Chart(source_data).mark_point().encode(\n",
    "#     y=alt.Y(\"mean_overdose:Q\", scale=alt.Scale(zero=False)),\n",
    "#     x=alt.X(\"Year:O\", scale=alt.Scale(zero=False))\n",
    "# ).transform_aggregate(\n",
    "#     mean_overdose='mean(overdose_per_100k)',\n",
    "#     groupby=[\"Year\"]\n",
    "# )\n",
    "\n",
    "# plot_wa_b4\n",
    "\n",
    "# fit_wa_b4 = plot_wa_b4.transform_regression('Year', 'mean_overdose',method=\"linear\"\n",
    "# ).mark_line()\n",
    "\n",
    "# fit_wa_b4\n",
    "\n",
    "# source_data = wa_deaths_after\n",
    "\n",
    "# plot_wa_after = alt.Chart(source_data).mark_point().encode(\n",
    "#     y=alt.Y(\"mean_overdose:Q\", scale=alt.Scale(zero=False)),\n",
    "#     x=alt.X(\"Year:O\", scale=alt.Scale(zero=False))\n",
    "# ).transform_aggregate(\n",
    "#     mean_overdose='mean(overdose_per_100k)',\n",
    "#     groupby=[\"Year\"]\n",
    "# )\n",
    "\n",
    "# plot_wa_after\n",
    "\n",
    "# fit_wa_after = plot_wa_after.transform_regression('Year', 'mean_overdose',method=\"linear\"\n",
    "# ).mark_line()\n",
    "\n",
    "# fit_wa_after\n",
    "\n",
    "# plot_wa_b4 + fit_wa_b4 + plot_wa_after + fit_wa_after"
   ]
  },
  {
   "cell_type": "code",
   "execution_count": 346,
   "metadata": {},
   "outputs": [],
   "source": [
    "# create a scale for number of years before and after 2007 (target year)\n",
    "\n",
    "# def scale_years(year):\n",
    "#     if year == 2009:\n",
    "#         return -3\n",
    "#     if year == 2010:\n",
    "#         return -2\n",
    "#     if year == 2011:\n",
    "#         return -1\n",
    "#     if year == 2012:\n",
    "#         return 0\n",
    "#     if year == 2013:\n",
    "#         return 1\n",
    "#     if year == 2014:\n",
    "#         return 2\n",
    "#     if year == 2015:\n",
    "#         return 3\n",
    "\n",
    "# wa_stats[\"year relative to policy\"] = wa_stats[\"Year\"].apply(lambda x: scale_years(x))\n",
    "# # comp_result[\"year relative to policy\"] = comp_result[\"Year\"].apply(lambda x: scale_years(x))\n",
    "\n",
    "# double check no nulls in \"year relative to policy\"\n",
    "\n",
    "# assert (wa_stats[\"year relative to policy\"].isnull().sum() == 0)\n",
    "# assert (comp_result[\"year relative to policy\"].isnull().sum() == 0)\n",
    "\n",
    "# doing this in case the float == int comparison causes issues"
   ]
  },
  {
   "cell_type": "code",
   "execution_count": 347,
   "metadata": {},
   "outputs": [],
   "source": [
    "# split into before 2007 and after 2007\n",
    "\n",
    "wa_b4 = wa_stats[wa_stats[\"Year\"] < 2012]\n",
    "wa_after = wa_stats[wa_stats[\"Year\"] > 2012]\n",
    "\n",
    "\n",
    "# wa_after = wa_after[wa_after[\"Year\"] != 2007] # may need to handle this differently"
   ]
  },
  {
   "cell_type": "code",
   "execution_count": 348,
   "metadata": {},
   "outputs": [],
   "source": [
    "# from sklearn.linear_model import LinearRegression \n",
    "\n",
    "# regressor_b4 = LinearRegression() \n",
    "# regressor_after = LinearRegression()\n",
    "\n",
    "\n",
    "# X_b4 = np.array(wa_b4[\"year relative to policy\"]).reshape(-1, 1)\n",
    "# y_b4 = np.array(wa_b4[\"overdose_per_100k\"]).reshape(-1, 1)\n",
    "\n",
    "# X_after = np.array(wa_after[\"year relative to policy\"]).reshape(-1, 1)\n",
    "# y_after = np.array(wa_after[\"overdose_per_100k\"]).reshape(-1, 1)\n",
    "\n",
    "\n",
    "# regressor_b4.fit(X_b4,y_b4) \n",
    "# regressor_after.fit(X_after,y_after) \n",
    "\n",
    "\n",
    "# y_pred_b4 = regressor_b4.predict(X_b4)\n",
    "# y_pred_after = regressor_after.predict(X_b4)"
   ]
  },
  {
   "cell_type": "code",
   "execution_count": 349,
   "metadata": {},
   "outputs": [],
   "source": [
    "# plt.xlim(-3, 3)\n",
    "# #plt.ylim(0, 500)\n",
    "\n",
    "# plt.title(\"Overdose Deaths in Washington\")\n",
    "\n",
    "# plt.plot(X_b4, y_pred_b4,color='k')\n",
    "# plt.plot(X_after, y_pred_after,color='k')\n",
    "\n",
    "# # plot avg value in each year"
   ]
  },
  {
   "cell_type": "code",
   "execution_count": 350,
   "metadata": {},
   "outputs": [],
   "source": [
    "# x = \"Year\"\n",
    "# y = \"overdose_per_100k\""
   ]
  },
  {
   "cell_type": "code",
   "execution_count": 351,
   "metadata": {},
   "outputs": [],
   "source": [
    "# def vertical_line(year):\n",
    "#     \"\"\"Function to plot a vertical line at year of policy implementation\"\"\"\n",
    "#     line = alt.Chart(pd.DataFrame({\n",
    "#     'Date': [year],\n",
    "#     'color': [\"black\"]\n",
    "#     })).mark_rule().encode(\n",
    "#     x='Date:Q', # use q for \"quantitative\" - as per altair docs\n",
    "#     color=alt.Color('color:N', scale=None)\n",
    "#     )\n",
    "\n",
    "#     return line"
   ]
  },
  {
   "cell_type": "code",
   "execution_count": 352,
   "metadata": {},
   "outputs": [],
   "source": [
    "# # test function\n",
    "# line = vertical_line(2004)"
   ]
  },
  {
   "cell_type": "code",
   "execution_count": 353,
   "metadata": {},
   "outputs": [],
   "source": [
    "# def get_charts(b4, after, title_b4, title_after):\n",
    "#     \"\"\"\n",
    "#     Function to plot the pre and post charts.\n",
    "#     Will not use in final plot - used as a baseline for our fit charts later.\n",
    "\n",
    "#     \"\"\"\n",
    "\n",
    "#     base_before = (\n",
    "#         alt.Chart(b4)\n",
    "#         .mark_point()\n",
    "#         .encode(\n",
    "#             y=alt.Y(\"overdose_per_100k\", scale=alt.Scale(zero=False)),\n",
    "#             x=alt.X(\"year relative to policy\", scale=alt.Scale(zero=False)),\n",
    "#         )\n",
    "#         .properties(title=title_b4)\n",
    "        \n",
    "#     )\n",
    "\n",
    "#     base_after = (\n",
    "#         alt.Chart(after)\n",
    "#         .mark_point()\n",
    "#         .encode(\n",
    "#             y=alt.Y(\"overdose_per_100k\", scale=alt.Scale(zero=False)),\n",
    "#             x=alt.X(\"year relative to policy\", scale=alt.Scale(zero=False)),\n",
    "#         )\n",
    "#         .properties(title=title_after)\n",
    "#     )\n",
    "\n",
    "#     return base_before, base_after"
   ]
  },
  {
   "cell_type": "code",
   "execution_count": 354,
   "metadata": {},
   "outputs": [],
   "source": [
    "# # test the function\n",
    "# # may remove title parameters later - not really necessary as we aren't plotting this part in our final analysis\n",
    "# # however, if we can't add a title to our fit/regression line charts, we may need to add them here\n",
    "# base_before, base_after = get_charts(b4 = wa_b4, after = wa_after, title_b4 = \"deaths before policy\", title_after=\"deaths after policy\")\n",
    "# base_before + base_after"
   ]
  },
  {
   "cell_type": "code",
   "execution_count": 355,
   "metadata": {},
   "outputs": [],
   "source": [
    "# starting here in final report\n",
    "# no longer calculating base chart above - just adding in regression line at same time\n",
    "# def get_preds(df, x, y):\n",
    "\n",
    "#     # init new empty df for our predictions\n",
    "#     predictions = pd.DataFrame()\n",
    "\n",
    "#     # fit our model and predict values\n",
    "#     model = smf.ols(f\"{y} ~ {x}\", data=df).fit()\n",
    "#     model_predict = model.get_prediction(df[x])\n",
    "\n",
    "#     # save predictions back to df, calculate confidence intervals\n",
    "#     predictions[\"overdose_per_100k\"] = model.predict(df[x])\n",
    "#     predictions[[\"ci_low\", \"ci_high\"]] = model_predict.conf_int(alpha=0.05)\n",
    "\n",
    "#     # save original year columns to new predictions df\n",
    "#     predictions[\"Year\"] = df[\"Year\"]\n",
    "#     predictions[\"year relative to policy\"] = df[\"year relative to policy\"]\n",
    "#     return predictions"
   ]
  },
  {
   "cell_type": "code",
   "execution_count": 356,
   "metadata": {},
   "outputs": [],
   "source": [
    "# wa_b4_preds = get_preds(wa_b4, x, y)\n",
    "# wa_after_preds = get_preds(wa_after, x, y)"
   ]
  },
  {
   "cell_type": "code",
   "execution_count": 357,
   "metadata": {},
   "outputs": [],
   "source": [
    "# def get_charts(b4, after, title_b4, title_after, color):\n",
    "#     \"\"\"\n",
    "#     Function to plot the pre and post charts.\n",
    "#     Will not use in final plot - used as a baseline for our fit charts later.\n",
    "\n",
    "#     \"\"\"\n",
    "\n",
    "#     base_before = (\n",
    "#         alt.Chart(b4)\n",
    "#         .mark_point()\n",
    "#         .encode(\n",
    "#             y=alt.Y(\"overdose_per_100k\", scale=alt.Scale(zero=False)),\n",
    "#             x=alt.X(\"year relative to policy\", scale=alt.Scale(zero=False)),\n",
    "#         )\n",
    "#         .properties(title=title_b4).transform_regression(\"year relative to policy\", \"overdose_per_100k\")\n",
    "#     .mark_line()\n",
    "#     .encode(color=alt.value(color))\n",
    "        \n",
    "#     )\n",
    "\n",
    "#     base_after = (\n",
    "#         alt.Chart(after)\n",
    "#         .mark_point()\n",
    "#         .encode(\n",
    "#             y=alt.Y(\"overdose_per_100k\", scale=alt.Scale(zero=False)),\n",
    "#             x=alt.X(\"year relative to policy\", scale=alt.Scale(zero=False)),\n",
    "            \n",
    "#         )\n",
    "#         .properties(title=title_after).transform_regression(\"year relative to policy\", \"overdose_per_100k\")\n",
    "#     .mark_line()\n",
    "#     .encode(color=alt.value(color))\n",
    "#     )\n",
    "\n",
    "#     return base_before, base_after"
   ]
  },
  {
   "cell_type": "code",
   "execution_count": 358,
   "metadata": {},
   "outputs": [],
   "source": [
    "# # test the function\n",
    "# # may remove title parameters later - not really necessary as we aren't plotting this part in our final analysis\n",
    "# # however, if we can't add a title to our fit/regression line charts, we may need to add them here\n",
    "# base_before, base_after = get_charts(b4 = wa_b4_preds, after = wa_after_preds, title_b4 = \"Deaths Before Policy Implementation\", title_after=\"Deaths After Policy Implementation\", color=\"red\")\n",
    "# base_before + base_after"
   ]
  }
 ],
 "metadata": {
  "kernelspec": {
   "display_name": "base",
   "language": "python",
   "name": "python3"
  },
  "language_info": {
   "codemirror_mode": {
    "name": "ipython",
    "version": 3
   },
   "file_extension": ".py",
   "mimetype": "text/x-python",
   "name": "python",
   "nbconvert_exporter": "python",
   "pygments_lexer": "ipython3",
   "version": "3.10.6"
  },
  "orig_nbformat": 4,
  "vscode": {
   "interpreter": {
    "hash": "5e5707f4ad9c4f37a6b2df8d93f22391df514f9ef0254645a2ae8a9db16a7e3b"
   }
  }
 },
 "nbformat": 4,
 "nbformat_minor": 2
}
