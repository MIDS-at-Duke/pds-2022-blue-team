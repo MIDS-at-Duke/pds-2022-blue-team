{
 "cells": [
  {
   "cell_type": "code",
   "execution_count": 1,
   "metadata": {},
   "outputs": [],
   "source": [
    "import numpy as np\n",
    "import pandas as pd\n",
    "import altair as alt\n",
    "import matplotlib.pyplot as plt\n",
    "import statsmodels.api as sm\n",
    "import statsmodels.formula.api as smf"
   ]
  },
  {
   "cell_type": "code",
   "execution_count": 2,
   "metadata": {},
   "outputs": [],
   "source": [
    "deaths = pd.read_csv(\"../20_intermediate_files/deaths_wa.csv\")"
   ]
  },
  {
   "cell_type": "code",
   "execution_count": 3,
   "metadata": {},
   "outputs": [
    {
     "data": {
      "text/plain": [
       "North Carolina    1142\n",
       "Colorado           642\n",
       "Washington         570\n",
       "Maryland           363\n",
       "Name: StateName, dtype: int64"
      ]
     },
     "execution_count": 3,
     "metadata": {},
     "output_type": "execute_result"
    }
   ],
   "source": [
    "# check Washington and all other three comparison states are included \n",
    "deaths[\"StateName\"].value_counts()"
   ]
  },
  {
   "cell_type": "code",
   "execution_count": 4,
   "metadata": {},
   "outputs": [
    {
     "data": {
      "text/plain": [
       "Index(['County', 'County Code', 'Year', 'Year Code',\n",
       "       'Drug/Alcohol Induced Cause', 'Drug/Alcohol Induced Cause Code',\n",
       "       'Deaths', 'State', 'StateFIPS', 'CountyName', 'StateName', 'CountyFIPS',\n",
       "       'StateAbbr', 'STATE_COUNTY', 'state_abbrev', 'FIP_unique', 'Population',\n",
       "       'county_test'],\n",
       "      dtype='object')"
      ]
     },
     "execution_count": 4,
     "metadata": {},
     "output_type": "execute_result"
    }
   ],
   "source": [
    "deaths.columns"
   ]
  },
  {
   "cell_type": "code",
   "execution_count": 5,
   "metadata": {},
   "outputs": [
    {
     "data": {
      "text/plain": [
       "array(['Drug poisonings (overdose) Unintentional (X40-X44)',\n",
       "       'Drug poisonings (overdose) Suicide (X60-X64)',\n",
       "       'All other alcohol-induced causes',\n",
       "       'All other non-drug and non-alcohol causes',\n",
       "       'Alcohol poisonings (overdose) (X45, X65, Y15)',\n",
       "       'Drug poisonings (overdose) Undetermined (Y10-Y14)',\n",
       "       'All other drug-induced causes'], dtype=object)"
      ]
     },
     "execution_count": 5,
     "metadata": {},
     "output_type": "execute_result"
    }
   ],
   "source": [
    "# identify overdose related causes to make a list\n",
    "deaths[\"Drug/Alcohol Induced Cause\"].unique()"
   ]
  },
  {
   "cell_type": "code",
   "execution_count": 6,
   "metadata": {},
   "outputs": [],
   "source": [
    "# stratify by Washington and comparison states \n",
    "washington = deaths[deaths[\"StateName\"] == \"Washington\"]\n",
    "comp = deaths[deaths[\"StateName\"] != \"Washington\"]"
   ]
  },
  {
   "cell_type": "code",
   "execution_count": 7,
   "metadata": {},
   "outputs": [],
   "source": [
    "wa_deaths = washington.copy()\n",
    "comp_deaths = comp.copy()"
   ]
  },
  {
   "cell_type": "code",
   "execution_count": 8,
   "metadata": {},
   "outputs": [],
   "source": [
    "overdose_list = ['Drug poisonings (overdose) Unintentional (X40-X44)',\n",
    "       'Drug poisonings (overdose) Suicide (X60-X64)',\n",
    "       'Drug poisonings (overdose) Undetermined (Y10-Y14)',\n",
    "       'Alcohol poisonings (overdose) (X45, X65, Y15)']"
   ]
  },
  {
   "cell_type": "code",
   "execution_count": 9,
   "metadata": {},
   "outputs": [],
   "source": [
    "# add a new column for overdose with sentinel value \n",
    "wa_deaths[\"overdose\"] = 0\n",
    "comp_deaths[\"overdose\"] = 0"
   ]
  },
  {
   "cell_type": "code",
   "execution_count": 10,
   "metadata": {},
   "outputs": [],
   "source": [
    "# recode overdose to 1 if in the list \n",
    "wa_deaths.loc[wa_deaths[\"Drug/Alcohol Induced Cause\"].isin(overdose_list), \"overdose\"] = 1\n",
    "comp_deaths.loc[comp_deaths[\"Drug/Alcohol Induced Cause\"].isin(overdose_list), \"overdose\"] = 1"
   ]
  },
  {
   "cell_type": "code",
   "execution_count": 11,
   "metadata": {},
   "outputs": [],
   "source": [
    "# take subsets with overdoses only \n",
    "wa_deaths = wa_deaths[wa_deaths[\"overdose\"] == 1]\n",
    "comp_deaths = comp_deaths[comp_deaths[\"overdose\"] == 1]"
   ]
  },
  {
   "cell_type": "code",
   "execution_count": 12,
   "metadata": {},
   "outputs": [],
   "source": [
    "# standardize overdose deaths by population \n",
    "wa_deaths[\"overdose_per_100k\"] = wa_deaths[\"Deaths\"] / wa_deaths[\"Population\"] * 100_000\n",
    "comp_deaths[\"overdose_per_100k\"] = comp_deaths[\"Deaths\"] / comp_deaths[\"Population\"] * 100_000"
   ]
  },
  {
   "cell_type": "code",
   "execution_count": 13,
   "metadata": {},
   "outputs": [],
   "source": [
    "# calculate total deaths by year, state, county\n",
    "wa_result = wa_deaths.groupby([\"Year\", \"County\"])[\"overdose_per_100k\"].sum().reset_index()\n",
    "comp_result = comp_deaths.groupby([\"Year\", \"StateName\", \"CountyName\"])[\"overdose_per_100k\"].sum().reset_index()"
   ]
  },
  {
   "cell_type": "code",
   "execution_count": 14,
   "metadata": {},
   "outputs": [],
   "source": [
    "# create new dataframes for plotting - mean of deaths each year \n",
    "wa_stats = wa_deaths.groupby([\"Year\"])[\"overdose_per_100k\"].mean().reset_index()\n",
    "comp_stats = comp_deaths.groupby([\"Year\"])[\"overdose_per_100k\"].mean().reset_index()"
   ]
  },
  {
   "cell_type": "code",
   "execution_count": 15,
   "metadata": {},
   "outputs": [
    {
     "data": {
      "text/html": [
       "<div>\n",
       "<style scoped>\n",
       "    .dataframe tbody tr th:only-of-type {\n",
       "        vertical-align: middle;\n",
       "    }\n",
       "\n",
       "    .dataframe tbody tr th {\n",
       "        vertical-align: top;\n",
       "    }\n",
       "\n",
       "    .dataframe thead th {\n",
       "        text-align: right;\n",
       "    }\n",
       "</style>\n",
       "<table border=\"1\" class=\"dataframe\">\n",
       "  <thead>\n",
       "    <tr style=\"text-align: right;\">\n",
       "      <th></th>\n",
       "      <th>Overdoses per 100k Residents - Washington</th>\n",
       "      <th>Overdoses per 100k Residents - Comp States</th>\n",
       "    </tr>\n",
       "  </thead>\n",
       "  <tbody>\n",
       "    <tr>\n",
       "      <th>count</th>\n",
       "      <td>110.000000</td>\n",
       "      <td>432.000000</td>\n",
       "    </tr>\n",
       "    <tr>\n",
       "      <th>mean</th>\n",
       "      <td>13.760180</td>\n",
       "      <td>15.142326</td>\n",
       "    </tr>\n",
       "    <tr>\n",
       "      <th>std</th>\n",
       "      <td>4.515969</td>\n",
       "      <td>8.280981</td>\n",
       "    </tr>\n",
       "    <tr>\n",
       "      <th>min</th>\n",
       "      <td>5.666846</td>\n",
       "      <td>1.845015</td>\n",
       "    </tr>\n",
       "    <tr>\n",
       "      <th>25%</th>\n",
       "      <td>9.990164</td>\n",
       "      <td>9.649632</td>\n",
       "    </tr>\n",
       "    <tr>\n",
       "      <th>50%</th>\n",
       "      <td>14.011080</td>\n",
       "      <td>13.405339</td>\n",
       "    </tr>\n",
       "    <tr>\n",
       "      <th>75%</th>\n",
       "      <td>16.473949</td>\n",
       "      <td>18.800017</td>\n",
       "    </tr>\n",
       "    <tr>\n",
       "      <th>max</th>\n",
       "      <td>26.390640</td>\n",
       "      <td>78.330841</td>\n",
       "    </tr>\n",
       "  </tbody>\n",
       "</table>\n",
       "</div>"
      ],
      "text/plain": [
       "       Overdoses per 100k Residents - Washington  \\\n",
       "count                                 110.000000   \n",
       "mean                                   13.760180   \n",
       "std                                     4.515969   \n",
       "min                                     5.666846   \n",
       "25%                                     9.990164   \n",
       "50%                                    14.011080   \n",
       "75%                                    16.473949   \n",
       "max                                    26.390640   \n",
       "\n",
       "       Overdoses per 100k Residents - Comp States  \n",
       "count                                  432.000000  \n",
       "mean                                    15.142326  \n",
       "std                                      8.280981  \n",
       "min                                      1.845015  \n",
       "25%                                      9.649632  \n",
       "50%                                     13.405339  \n",
       "75%                                     18.800017  \n",
       "max                                     78.330841  "
      ]
     },
     "execution_count": 15,
     "metadata": {},
     "output_type": "execute_result"
    }
   ],
   "source": [
    "# compute descriptive statistics for each \n",
    "wa_res = pd.DataFrame(wa_result.describe()[\"overdose_per_100k\"]).rename(columns={\"overdose_per_100k\": \"Overdoses per 100k Residents - Washington\"})\n",
    "comp_res = pd.DataFrame(comp_result.describe()[\"overdose_per_100k\"]).rename(columns={\"overdose_per_100k\": \"Overdoses per 100k Residents - Comp States\"})\n",
    "stats = pd.concat([wa_res, comp_res], axis=1)\n",
    "stats"
   ]
  },
  {
   "cell_type": "code",
   "execution_count": 16,
   "metadata": {},
   "outputs": [],
   "source": [
    "# wa_result = wa_result.groupby(\"Year\")[\"overdose_per_100k\"].mean().reset_index()\n",
    "# comp_result = comp_result.groupby([\"Year\"])[\"overdose_per_100k\"].mean().reset_index()"
   ]
  },
  {
   "cell_type": "code",
   "execution_count": 17,
   "metadata": {},
   "outputs": [],
   "source": [
    "wa_res_checkpoint = wa_stats.copy()\n",
    "comp_res_checkpoint = comp_stats.copy()\n",
    "\n",
    "\n",
    "# assert length is the same\n",
    "assert (len(wa_stats) == len(wa_res_checkpoint)) & (len(comp_stats) == len(comp_res_checkpoint))"
   ]
  },
  {
   "cell_type": "code",
   "execution_count": 18,
   "metadata": {},
   "outputs": [
    {
     "data": {
      "text/plain": [
       "Year                   int64\n",
       "overdose_per_100k    float64\n",
       "dtype: object"
      ]
     },
     "execution_count": 18,
     "metadata": {},
     "output_type": "execute_result"
    }
   ],
   "source": [
    "# change Year to be integer \n",
    "wa_stats[\"Year\"] = wa_stats[\"Year\"].astype(\"int\")\n",
    "wa_stats.dtypes"
   ]
  },
  {
   "cell_type": "code",
   "execution_count": 19,
   "metadata": {},
   "outputs": [],
   "source": [
    "# split into before and after policy implementation \n",
    "wa_b4 = wa_stats[wa_stats[\"Year\"] < 2012]\n",
    "wa_after = wa_stats[wa_stats[\"Year\"] >= 2012]"
   ]
  },
  {
   "cell_type": "code",
   "execution_count": 20,
   "metadata": {},
   "outputs": [],
   "source": [
    "x = \"Year\"\n",
    "y = \"overdose_per_100k\""
   ]
  },
  {
   "cell_type": "code",
   "execution_count": 21,
   "metadata": {},
   "outputs": [],
   "source": [
    "\n",
    "# function for adding a vertical line\n",
    "def vertical_line(year):\n",
    "    \"\"\"Function to plot a vertical line at year of policy implementation\"\"\"\n",
    "    line = alt.Chart(pd.DataFrame({\n",
    "    'Date': [year],\n",
    "    'color': [\"black\"]\n",
    "    })).mark_rule().encode(\n",
    "    x='Date:Q',\n",
    "    color=alt.Color('color:N', scale=None)\n",
    "    )\n",
    "\n",
    "    return line"
   ]
  },
  {
   "cell_type": "code",
   "execution_count": 22,
   "metadata": {},
   "outputs": [],
   "source": [
    "# function for adding confidence intervals \n",
    "def get_reg_fit(data, yvar, xvar, color, title, alpha=0.05):\n",
    "    import statsmodels.formula.api as smf\n",
    "\n",
    "    # Grid for predicted values\n",
    "    x = data.loc[pd.notnull(data[yvar]), xvar]\n",
    "    xmin = x.min()\n",
    "    xmax = x.max()\n",
    "    step = (xmax - xmin) / 100\n",
    "    grid = np.arange(xmin, xmax + step, step)\n",
    "    predictions = pd.DataFrame({xvar: grid})\n",
    "\n",
    "    # Fit model, get predictions\n",
    "    model = smf.ols(f\"{yvar} ~ {xvar}\", data=data).fit()\n",
    "    model_predict = model.get_prediction(predictions[xvar])\n",
    "    predictions[yvar] = model_predict.summary_frame()[\"mean\"]\n",
    "    predictions[[\"ci_low\", \"ci_high\"]] = model_predict.conf_int(alpha=alpha)\n",
    "\n",
    "    # Build chart\n",
    "    reg = (\n",
    "        alt.Chart(predictions)\n",
    "        .mark_line()\n",
    "        .encode(\n",
    "            x=alt.X(xvar, scale=alt.Scale(zero=False), title=\"Year\"),\n",
    "            y=alt.Y(\n",
    "                yvar, scale=alt.Scale(zero=False), title=\"Overdoses per 100k Residents\"\n",
    "            ),\n",
    "            color=alt.value(color)\n",
    "        ).properties(title=title)\n",
    "    )\n",
    "    ci = (\n",
    "        alt.Chart(predictions)\n",
    "        .mark_errorband()\n",
    "        .encode(\n",
    "            x=xvar,\n",
    "            y=alt.Y(\"ci_low\", title=\"\"),\n",
    "            y2=\"ci_high\",\n",
    "            color=alt.value(color),\n",
    "        )\n",
    "    )\n",
    "    chart = ci + reg\n",
    "    return predictions, chart"
   ]
  },
  {
   "cell_type": "code",
   "execution_count": 23,
   "metadata": {},
   "outputs": [],
   "source": [
    "# add a cutoff year when policy was implemented \n",
    "line = vertical_line(2012)"
   ]
  },
  {
   "cell_type": "code",
   "execution_count": 24,
   "metadata": {},
   "outputs": [
    {
     "data": {
      "text/html": [
       "\n",
       "<div id=\"altair-viz-a8cb6f201efb4bea92dc9e5cf90fa92a\"></div>\n",
       "<script type=\"text/javascript\">\n",
       "  var VEGA_DEBUG = (typeof VEGA_DEBUG == \"undefined\") ? {} : VEGA_DEBUG;\n",
       "  (function(spec, embedOpt){\n",
       "    let outputDiv = document.currentScript.previousElementSibling;\n",
       "    if (outputDiv.id !== \"altair-viz-a8cb6f201efb4bea92dc9e5cf90fa92a\") {\n",
       "      outputDiv = document.getElementById(\"altair-viz-a8cb6f201efb4bea92dc9e5cf90fa92a\");\n",
       "    }\n",
       "    const paths = {\n",
       "      \"vega\": \"https://cdn.jsdelivr.net/npm//vega@5?noext\",\n",
       "      \"vega-lib\": \"https://cdn.jsdelivr.net/npm//vega-lib?noext\",\n",
       "      \"vega-lite\": \"https://cdn.jsdelivr.net/npm//vega-lite@4.17.0?noext\",\n",
       "      \"vega-embed\": \"https://cdn.jsdelivr.net/npm//vega-embed@6?noext\",\n",
       "    };\n",
       "\n",
       "    function maybeLoadScript(lib, version) {\n",
       "      var key = `${lib.replace(\"-\", \"\")}_version`;\n",
       "      return (VEGA_DEBUG[key] == version) ?\n",
       "        Promise.resolve(paths[lib]) :\n",
       "        new Promise(function(resolve, reject) {\n",
       "          var s = document.createElement('script');\n",
       "          document.getElementsByTagName(\"head\")[0].appendChild(s);\n",
       "          s.async = true;\n",
       "          s.onload = () => {\n",
       "            VEGA_DEBUG[key] = version;\n",
       "            return resolve(paths[lib]);\n",
       "          };\n",
       "          s.onerror = () => reject(`Error loading script: ${paths[lib]}`);\n",
       "          s.src = paths[lib];\n",
       "        });\n",
       "    }\n",
       "\n",
       "    function showError(err) {\n",
       "      outputDiv.innerHTML = `<div class=\"error\" style=\"color:red;\">${err}</div>`;\n",
       "      throw err;\n",
       "    }\n",
       "\n",
       "    function displayChart(vegaEmbed) {\n",
       "      vegaEmbed(outputDiv, spec, embedOpt)\n",
       "        .catch(err => showError(`Javascript Error: ${err.message}<br>This usually means there's a typo in your chart specification. See the javascript console for the full traceback.`));\n",
       "    }\n",
       "\n",
       "    if(typeof define === \"function\" && define.amd) {\n",
       "      requirejs.config({paths});\n",
       "      require([\"vega-embed\"], displayChart, err => showError(`Error loading script: ${err.message}`));\n",
       "    } else {\n",
       "      maybeLoadScript(\"vega\", \"5\")\n",
       "        .then(() => maybeLoadScript(\"vega-lite\", \"4.17.0\"))\n",
       "        .then(() => maybeLoadScript(\"vega-embed\", \"6\"))\n",
       "        .catch(showError)\n",
       "        .then(() => displayChart(vegaEmbed));\n",
       "    }\n",
       "  })({\"config\": {\"view\": {\"continuousWidth\": 400, \"continuousHeight\": 300}}, \"layer\": [{\"mark\": \"errorband\", \"encoding\": {\"color\": {\"value\": \"blue\"}, \"x\": {\"field\": \"Year\", \"type\": \"quantitative\"}, \"y\": {\"field\": \"ci_low\", \"title\": \"\", \"type\": \"quantitative\"}, \"y2\": {\"field\": \"ci_high\"}}}, {\"mark\": \"line\", \"encoding\": {\"color\": {\"value\": \"blue\"}, \"x\": {\"field\": \"Year\", \"scale\": {\"zero\": false}, \"title\": \"Year\", \"type\": \"quantitative\"}, \"y\": {\"field\": \"overdose_per_100k\", \"scale\": {\"zero\": false}, \"title\": \"Overdoses per 100k Residents\", \"type\": \"quantitative\"}}, \"title\": \"Overdoses per 100k Residents - Washington\"}, {\"layer\": [{\"mark\": \"errorband\", \"encoding\": {\"color\": {\"value\": \"blue\"}, \"x\": {\"field\": \"Year\", \"type\": \"quantitative\"}, \"y\": {\"field\": \"ci_low\", \"title\": \"\", \"type\": \"quantitative\"}, \"y2\": {\"field\": \"ci_high\"}}}, {\"mark\": \"line\", \"encoding\": {\"color\": {\"value\": \"blue\"}, \"x\": {\"field\": \"Year\", \"scale\": {\"zero\": false}, \"title\": \"Year\", \"type\": \"quantitative\"}, \"y\": {\"field\": \"overdose_per_100k\", \"scale\": {\"zero\": false}, \"title\": \"Overdoses per 100k Residents\", \"type\": \"quantitative\"}}, \"title\": \"Overdoses per 100k Residents - Washington\"}], \"data\": {\"name\": \"data-5a8a1c3dbc4b01b3db2689edefd8225f\"}}, {\"data\": {\"name\": \"data-424a16bd626ddffb6ec885f6abd1efe5\"}, \"mark\": \"rule\", \"encoding\": {\"color\": {\"field\": \"color\", \"scale\": null, \"type\": \"nominal\"}, \"x\": {\"field\": \"Date\", \"type\": \"quantitative\"}}}], \"data\": {\"name\": \"data-89a37137272784801a5c96ba76c82cce\"}, \"height\": 500, \"width\": 700, \"$schema\": \"https://vega.github.io/schema/vega-lite/v4.17.0.json\", \"datasets\": {\"data-89a37137272784801a5c96ba76c82cce\": [{\"Year\": 2009.0, \"overdose_per_100k\": 10.758011816332328, \"ci_low\": -9.980375654793946, \"ci_high\": 31.4963992874586}, {\"Year\": 2009.02, \"overdose_per_100k\": 10.74435310188096, \"ci_low\": -9.74618122780073, \"ci_high\": 31.23488743156265}, {\"Year\": 2009.04, \"overdose_per_100k\": 10.730694387429594, \"ci_low\": -9.514051056075719, \"ci_high\": 30.975439830934906}, {\"Year\": 2009.06, \"overdose_per_100k\": 10.717035672978227, \"ci_low\": -9.284061241240334, \"ci_high\": 30.718132587196788}, {\"Year\": 2009.08, \"overdose_per_100k\": 10.70337695852686, \"ci_low\": -9.056290959096803, \"ci_high\": 30.463044876150523}, {\"Year\": 2009.1, \"overdose_per_100k\": 10.68971824407572, \"ci_low\": -8.8308225630045, \"ci_high\": 30.21025905115594}, {\"Year\": 2009.12, \"overdose_per_100k\": 10.676059529624354, \"ci_low\": -8.607741686163582, \"ci_high\": 29.95986074541229}, {\"Year\": 2009.1399999999999, \"overdose_per_100k\": 10.662400815172987, \"ci_low\": -8.38713734201951, \"ci_high\": 29.711938972365484}, {\"Year\": 2009.1599999999999, \"overdose_per_100k\": 10.64874210072162, \"ci_low\": -8.169102021754536, \"ci_high\": 29.466586223197776}, {\"Year\": 2009.1799999999998, \"overdose_per_100k\": 10.635083386270253, \"ci_low\": -7.953731787819155, \"ci_high\": 29.22389856035966}, {\"Year\": 2009.1999999999998, \"overdose_per_100k\": 10.621424671819113, \"ci_low\": -7.741126362233807, \"ci_high\": 28.983975705872034}, {\"Year\": 2009.2199999999998, \"overdose_per_100k\": 10.607765957367747, \"ci_low\": -7.531389208272728, \"ci_high\": 28.74692112300822}, {\"Year\": 2009.2399999999998, \"overdose_per_100k\": 10.59410724291638, \"ci_low\": -7.324627603922941, \"ci_high\": 28.5128420897557}, {\"Year\": 2009.2599999999998, \"overdose_per_100k\": 10.580448528465013, \"ci_low\": -7.120952705408573, \"ci_high\": 28.2818497623386}, {\"Year\": 2009.2799999999997, \"overdose_per_100k\": 10.566789814013646, \"ci_low\": -6.920479598821249, \"ci_high\": 28.05405922684854}, {\"Year\": 2009.2999999999997, \"overdose_per_100k\": 10.553131099562279, \"ci_low\": -6.723327337710174, \"ci_high\": 27.82958953683473}, {\"Year\": 2009.3199999999997, \"overdose_per_100k\": 10.53947238511114, \"ci_low\": -6.529618964331853, \"ci_high\": 27.60856373455413}, {\"Year\": 2009.3399999999997, \"overdose_per_100k\": 10.525813670659772, \"ci_low\": -6.3394815120386845, \"ci_high\": 27.39110885335823}, {\"Year\": 2009.3599999999997, \"overdose_per_100k\": 10.512154956208406, \"ci_low\": -6.153045986073771, \"ci_high\": 27.177355898490582}, {\"Year\": 2009.3799999999997, \"overdose_per_100k\": 10.498496241757039, \"ci_low\": -5.970447319896792, \"ci_high\": 26.96743980341087}, {\"Year\": 2009.3999999999996, \"overdose_per_100k\": 10.484837527305672, \"ci_low\": -5.79182430399031, \"ci_high\": 26.761499358601654}, {\"Year\": 2009.4199999999996, \"overdose_per_100k\": 10.471178812854532, \"ci_low\": -5.6173194839723415, \"ci_high\": 26.559677109681406}, {\"Year\": 2009.4399999999996, \"overdose_per_100k\": 10.457520098403165, \"ci_low\": -5.447079024707117, \"ci_high\": 26.362119221513446}, {\"Year\": 2009.4599999999996, \"overdose_per_100k\": 10.443861383951798, \"ci_low\": -5.281252537091026, \"ci_high\": 26.168975304994625}, {\"Year\": 2009.4799999999996, \"overdose_per_100k\": 10.430202669500432, \"ci_low\": -5.119992864185885, \"ci_high\": 25.98039820318675}, {\"Year\": 2009.4999999999995, \"overdose_per_100k\": 10.416543955049065, \"ci_low\": -4.9634558234018336, \"ci_high\": 25.796543733499963}, {\"Year\": 2009.5199999999995, \"overdose_per_100k\": 10.402885240597925, \"ci_low\": -4.811799901646291, \"ci_high\": 25.61757038284214}, {\"Year\": 2009.5399999999995, \"overdose_per_100k\": 10.389226526146558, \"ci_low\": -4.665185900556542, \"ci_high\": 25.44363895284966}, {\"Year\": 2009.5599999999995, \"overdose_per_100k\": 10.375567811695191, \"ci_low\": -4.5237765293157235, \"ci_high\": 25.274912152706108}, {\"Year\": 2009.5799999999995, \"overdose_per_100k\": 10.361909097243824, \"ci_low\": -4.387735943026144, \"ci_high\": 25.111554137513792}, {\"Year\": 2009.5999999999995, \"overdose_per_100k\": 10.348250382792457, \"ci_low\": -4.257229225184783, \"ci_high\": 24.9537299907697}, {\"Year\": 2009.6199999999994, \"overdose_per_100k\": 10.33459166834109, \"ci_low\": -4.132421813622731, \"ci_high\": 24.801605150304912}, {\"Year\": 2009.6399999999994, \"overdose_per_100k\": 10.320932953889951, \"ci_low\": -4.013478870067539, \"ci_high\": 24.65534477784744}, {\"Year\": 2009.6599999999994, \"overdose_per_100k\": 10.307274239438584, \"ci_low\": -3.9005645945782526, \"ci_high\": 24.51511307345542}, {\"Year\": 2009.6799999999994, \"overdose_per_100k\": 10.293615524987217, \"ci_low\": -3.793841487232916, \"ci_high\": 24.381072537207352}, {\"Year\": 2009.6999999999994, \"overdose_per_100k\": 10.27995681053585, \"ci_low\": -3.693469560690735, \"ci_high\": 24.253383181762437}, {\"Year\": 2009.7199999999993, \"overdose_per_100k\": 10.266298096084483, \"ci_low\": -3.599605508664153, \"ci_high\": 24.13220170083312}, {\"Year\": 2009.7399999999993, \"overdose_per_100k\": 10.252639381633344, \"ci_low\": -3.5124018367372223, \"ci_high\": 24.01768060000391}, {\"Year\": 2009.7599999999993, \"overdose_per_100k\": 10.238980667181977, \"ci_low\": -3.432005963411614, \"ci_high\": 23.909967297775566}, {\"Year\": 2009.7799999999993, \"overdose_per_100k\": 10.22532195273061, \"ci_low\": -3.3585593007059575, \"ci_high\": 23.809203206167176}, {\"Year\": 2009.7999999999993, \"overdose_per_100k\": 10.211663238279243, \"ci_low\": -3.292196324980102, \"ci_high\": 23.71552280153859}, {\"Year\": 2009.8199999999993, \"overdose_per_100k\": 10.198004523827876, \"ci_low\": -3.233043649868275, \"ci_high\": 23.629052697524028}, {\"Year\": 2009.8399999999992, \"overdose_per_100k\": 10.184345809376737, \"ci_low\": -3.1812191142331567, \"ci_high\": 23.549910732986632}, {\"Year\": 2009.8599999999992, \"overdose_per_100k\": 10.17068709492537, \"ci_low\": -3.1368308988066964, \"ci_high\": 23.478205088657436}, {\"Year\": 2009.8799999999992, \"overdose_per_100k\": 10.157028380474003, \"ci_low\": -3.0999766856381985, \"ci_high\": 23.414033446586203}, {\"Year\": 2009.8999999999992, \"overdose_per_100k\": 10.143369666022636, \"ci_low\": -3.070742874571515, \"ci_high\": 23.357482206616787}, {\"Year\": 2009.9199999999992, \"overdose_per_100k\": 10.129710951571269, \"ci_low\": -3.0492038706455755, \"ci_high\": 23.308625773788116}, {\"Year\": 2009.9399999999991, \"overdose_per_100k\": 10.116052237119902, \"ci_low\": -3.0354214555945767, \"ci_high\": 23.26752592983438}, {\"Year\": 2009.9599999999991, \"overdose_per_100k\": 10.102393522668763, \"ci_low\": -3.0294442555037673, \"ci_high\": 23.234231300841294}, {\"Year\": 2009.979999999999, \"overdose_per_100k\": 10.088734808217396, \"ci_low\": -3.0313073150946206, \"ci_high\": 23.208776931529414}, {\"Year\": 2009.999999999999, \"overdose_per_100k\": 10.075076093766029, \"ci_low\": -3.041031787228638, \"ci_high\": 23.191183974760698}, {\"Year\": 2010.019999999999, \"overdose_per_100k\": 10.061417379314662, \"ci_low\": -3.0586247439967416, \"ci_high\": 23.181459502626065}, {\"Year\": 2010.039999999999, \"overdose_per_100k\": 10.047758664863295, \"ci_low\": -3.0840791133077516, \"ci_high\": 23.17959644303434}, {\"Year\": 2010.059999999999, \"overdose_per_100k\": 10.034099950412156, \"ci_low\": -3.117373742300055, \"ci_high\": 23.185573643124364}, {\"Year\": 2010.079999999999, \"overdose_per_100k\": 10.020441235960789, \"ci_low\": -3.158473586253269, \"ci_high\": 23.199356058174846}, {\"Year\": 2010.099999999999, \"overdose_per_100k\": 10.006782521509422, \"ci_low\": -3.207330019081949, \"ci_high\": 23.220895062100794}, {\"Year\": 2010.119999999999, \"overdose_per_100k\": 9.993123807058055, \"ci_low\": -3.2638812590499935, \"ci_high\": 23.250128873166105}, {\"Year\": 2010.139999999999, \"overdose_per_100k\": 9.979465092606688, \"ci_low\": -3.3280529011202056, \"ci_high\": 23.28698308633358}, {\"Year\": 2010.159999999999, \"overdose_per_100k\": 9.965806378155321, \"ci_low\": -3.399758545449769, \"ci_high\": 23.331371301760413}, {\"Year\": 2010.179999999999, \"overdose_per_100k\": 9.952147663704181, \"ci_low\": -3.4789005099865022, \"ci_high\": 23.383195837394865}, {\"Year\": 2010.199999999999, \"overdose_per_100k\": 9.938488949252815, \"ci_low\": -3.565370613999736, \"ci_high\": 23.442348512505365}, {\"Year\": 2010.219999999999, \"overdose_per_100k\": 9.924830234801448, \"ci_low\": -3.6590510186276894, \"ci_high\": 23.508711488230585}, {\"Year\": 2010.2399999999989, \"overdose_per_100k\": 9.91117152035008, \"ci_low\": -3.7598151102354542, \"ci_high\": 23.582158150935616}, {\"Year\": 2010.2599999999989, \"overdose_per_100k\": 9.897512805898714, \"ci_low\": -3.8675284124631855, \"ci_high\": 23.662554024260615}, {\"Year\": 2010.2799999999988, \"overdose_per_100k\": 9.883854091447574, \"ci_low\": -3.9820495132917966, \"ci_high\": 23.749757696186947}, {\"Year\": 2010.2999999999988, \"overdose_per_100k\": 9.870195376996207, \"ci_low\": -4.103230994220526, \"ci_high\": 23.84362174821294}, {\"Year\": 2010.3199999999988, \"overdose_per_100k\": 9.85653666254484, \"ci_low\": -4.230920349664871, \"ci_high\": 23.94399367475455}, {\"Year\": 2010.3399999999988, \"overdose_per_100k\": 9.842877948093474, \"ci_low\": -4.364960885911737, \"ci_high\": 24.050716782098682}, {\"Year\": 2010.3599999999988, \"overdose_per_100k\": 9.829219233642107, \"ci_low\": -4.505192590302579, \"ci_high\": 24.16363105758679}, {\"Year\": 2010.3799999999987, \"overdose_per_100k\": 9.815560519190967, \"ci_low\": -4.651452962761436, \"ci_high\": 24.28257400114337}, {\"Year\": 2010.3999999999987, \"overdose_per_100k\": 9.8019018047396, \"ci_low\": -4.8035778032263305, \"ci_high\": 24.407381412705533}, {\"Year\": 2010.4199999999987, \"overdose_per_100k\": 9.788243090288233, \"ci_low\": -4.961401949969289, \"ci_high\": 24.537888130545756}, {\"Year\": 2010.4399999999987, \"overdose_per_100k\": 9.774584375836866, \"ci_low\": -5.1247599651604965, \"ci_high\": 24.67392871683423}, {\"Year\": 2010.4599999999987, \"overdose_per_100k\": 9.7609256613855, \"ci_low\": -5.293486765302969, \"ci_high\": 24.81533808807397}, {\"Year\": 2010.4799999999987, \"overdose_per_100k\": 9.747266946934133, \"ci_low\": -5.467418195295606, \"ci_high\": 24.961952089163873}, {\"Year\": 2010.4999999999986, \"overdose_per_100k\": 9.733608232482993, \"ci_low\": -5.646391545954776, \"ci_high\": 25.113608010920764}, {\"Year\": 2010.5199999999986, \"overdose_per_100k\": 9.719949518031626, \"ci_low\": -5.830246015639345, \"ci_high\": 25.2701450517026}, {\"Year\": 2010.5399999999986, \"overdose_per_100k\": 9.70629080358026, \"ci_low\": -6.018823117446223, \"ci_high\": 25.431404724606743}, {\"Year\": 2010.5599999999986, \"overdose_per_100k\": 9.692632089128892, \"ci_low\": -6.211967033964079, \"ci_high\": 25.597231212221864}, {\"Year\": 2010.5799999999986, \"overdose_per_100k\": 9.678973374677525, \"ci_low\": -6.409524922133379, \"ci_high\": 25.76747167148843}, {\"Year\": 2010.5999999999985, \"overdose_per_100k\": 9.665314660226386, \"ci_low\": -6.611347171053808, \"ci_high\": 25.94197649150658}, {\"Year\": 2010.6199999999985, \"overdose_per_100k\": 9.651655945775019, \"ci_low\": -6.81728761586098, \"ci_high\": 26.12059950741102}, {\"Year\": 2010.6399999999985, \"overdose_per_100k\": 9.637997231323652, \"ci_low\": -7.027203710943109, \"ci_high\": 26.303198173590413}, {\"Year\": 2010.6599999999985, \"overdose_per_100k\": 9.624338516872285, \"ci_low\": -7.240956665808763, \"ci_high\": 26.489633699553334}, {\"Year\": 2010.6799999999985, \"overdose_per_100k\": 9.610679802420918, \"ci_low\": -7.458411547002719, \"ci_high\": 26.679771151844555}, {\"Year\": 2010.6999999999985, \"overdose_per_100k\": 9.597021087969779, \"ci_low\": -7.679437349283553, \"ci_high\": 26.87347952522311}, {\"Year\": 2010.7199999999984, \"overdose_per_100k\": 9.583362373518412, \"ci_low\": -7.903907039299689, \"ci_high\": 27.070631786336513}, {\"Year\": 2010.7399999999984, \"overdose_per_100k\": 9.569703659067045, \"ci_low\": -8.131697574787875, \"ci_high\": 27.271104892921965}, {\"Year\": 2010.7599999999984, \"overdose_per_100k\": 9.556044944615678, \"ci_low\": -8.362689902203154, \"ci_high\": 27.47477979143451}, {\"Year\": 2010.7799999999984, \"overdose_per_100k\": 9.542386230164311, \"ci_low\": -8.596768935455927, \"ci_high\": 27.68154139578455}, {\"Year\": 2010.7999999999984, \"overdose_per_100k\": 9.528727515712944, \"ci_low\": -8.833823518319985, \"ci_high\": 27.891278549745874}, {\"Year\": 2010.8199999999983, \"overdose_per_100k\": 9.515068801261805, \"ci_low\": -9.073746372805878, \"ci_high\": 28.103883975329488}, {\"Year\": 2010.8399999999983, \"overdose_per_100k\": 9.501410086810438, \"ci_low\": -9.31643403564621, \"ci_high\": 28.319254209267086}, {\"Year\": 2010.8599999999983, \"overdose_per_100k\": 9.487751372359071, \"ci_low\": -9.56178678481223, \"ci_high\": 28.537289529530373}, {\"Year\": 2010.8799999999983, \"overdose_per_100k\": 9.474092657907704, \"ci_low\": -9.809708557859292, \"ci_high\": 28.7578938736747}, {\"Year\": 2010.8999999999983, \"overdose_per_100k\": 9.460433943456337, \"ci_low\": -10.060106863601316, \"ci_high\": 28.98097475051399}, {\"Year\": 2010.9199999999983, \"overdose_per_100k\": 9.446775229005198, \"ci_low\": -10.31289268859803, \"ci_high\": 29.206443146608425}, {\"Year\": 2010.9399999999982, \"overdose_per_100k\": 9.43311651455383, \"ci_low\": -10.56798039964454, \"ci_high\": 29.4342134287522}, {\"Year\": 2010.9599999999982, \"overdose_per_100k\": 9.419457800102464, \"ci_low\": -10.825287643381092, \"ci_high\": 29.66420324358602}, {\"Year\": 2010.9799999999982, \"overdose_per_100k\": 9.405799085651097, \"ci_low\": -11.084735244009096, \"ci_high\": 29.89633341531129}, {\"Year\": 2010.9999999999982, \"overdose_per_100k\": 9.39214037119973, \"ci_low\": -11.346247099903536, \"ci_high\": 30.130527842302996}], \"data-5a8a1c3dbc4b01b3db2689edefd8225f\": [{\"Year\": 2012.0, \"overdose_per_100k\": 9.22774014095171, \"ci_low\": 8.318612655640948, \"ci_high\": 10.136867626262472}, {\"Year\": 2012.03, \"overdose_per_100k\": 9.241162633097133, \"ci_low\": 8.34368164136429, \"ci_high\": 10.138643624829976}, {\"Year\": 2012.06, \"overdose_per_100k\": 9.254585125242443, \"ci_low\": 8.368663830649272, \"ci_high\": 10.140506419835614}, {\"Year\": 2012.09, \"overdose_per_100k\": 9.268007617387866, \"ci_low\": 8.393555781307981, \"ci_high\": 10.142459453467751}, {\"Year\": 2012.12, \"overdose_per_100k\": 9.28143010953329, \"ci_low\": 8.418353895777576, \"ci_high\": 10.144506323289002}, {\"Year\": 2012.1499999999999, \"overdose_per_100k\": 9.294852601678713, \"ci_low\": 8.44305441454985, \"ci_high\": 10.146650788807575}, {\"Year\": 2012.1799999999998, \"overdose_per_100k\": 9.308275093824022, \"ci_low\": 8.46765340949832, \"ci_high\": 10.148896778149725}, {\"Year\": 2012.2099999999998, \"overdose_per_100k\": 9.321697585969446, \"ci_low\": 8.49214677713426, \"ci_high\": 10.151248394804632}, {\"Year\": 2012.2399999999998, \"overdose_per_100k\": 9.335120078114869, \"ci_low\": 8.516530231832038, \"ci_high\": 10.1537099243977}, {\"Year\": 2012.2699999999998, \"overdose_per_100k\": 9.348542570260292, \"ci_low\": 8.540799299070143, \"ci_high\": 10.156285841450442}, {\"Year\": 2012.2999999999997, \"overdose_per_100k\": 9.361965062405602, \"ci_low\": 8.564949308742845, \"ci_high\": 10.15898081606836}, {\"Year\": 2012.3299999999997, \"overdose_per_100k\": 9.375387554551025, \"ci_low\": 8.588975388611413, \"ci_high\": 10.161799720490638}, {\"Year\": 2012.3599999999997, \"overdose_per_100k\": 9.388810046696449, \"ci_low\": 8.612872457964793, \"ci_high\": 10.164747635428105}, {\"Year\": 2012.3899999999996, \"overdose_per_100k\": 9.402232538841872, \"ci_low\": 8.63663522158347, \"ci_high\": 10.167829856100274}, {\"Year\": 2012.4199999999996, \"overdose_per_100k\": 9.415655030987182, \"ci_low\": 8.660258164103597, \"ci_high\": 10.171051897870766}, {\"Year\": 2012.4499999999996, \"overdose_per_100k\": 9.429077523132605, \"ci_low\": 8.683735544897392, \"ci_high\": 10.174419501367819}, {\"Year\": 2012.4799999999996, \"overdose_per_100k\": 9.442500015278029, \"ci_low\": 8.707061393597606, \"ci_high\": 10.177938636958451}, {\"Year\": 2012.5099999999995, \"overdose_per_100k\": 9.455922507423452, \"ci_low\": 8.730229506412288, \"ci_high\": 10.181615508434616}, {\"Year\": 2012.5399999999995, \"overdose_per_100k\": 9.469344999568762, \"ci_low\": 8.753233443390801, \"ci_high\": 10.185456555746722}, {\"Year\": 2012.5699999999995, \"overdose_per_100k\": 9.482767491714185, \"ci_low\": 8.77606652681855, \"ci_high\": 10.18946845660982}, {\"Year\": 2012.5999999999995, \"overdose_per_100k\": 9.496189983859608, \"ci_low\": 8.798721840934933, \"ci_high\": 10.193658126784284}, {\"Year\": 2012.6299999999994, \"overdose_per_100k\": 9.509612476005032, \"ci_low\": 8.8211922331861, \"ci_high\": 10.198032718823963}, {\"Year\": 2012.6599999999994, \"overdose_per_100k\": 9.523034968150455, \"ci_low\": 8.843470317238763, \"ci_high\": 10.202599619062147}, {\"Year\": 2012.6899999999994, \"overdose_per_100k\": 9.536457460295765, \"ci_low\": 8.865548477994771, \"ci_high\": 10.207366442596758}, {\"Year\": 2012.7199999999993, \"overdose_per_100k\": 9.549879952441188, \"ci_low\": 8.887418878857677, \"ci_high\": 10.2123410260247}, {\"Year\": 2012.7499999999993, \"overdose_per_100k\": 9.563302444586611, \"ci_low\": 8.909073471510476, \"ci_high\": 10.217531417662746}, {\"Year\": 2012.7799999999993, \"overdose_per_100k\": 9.576724936732035, \"ci_low\": 8.930504008466118, \"ci_high\": 10.222945864997952}, {\"Year\": 2012.8099999999993, \"overdose_per_100k\": 9.590147428877344, \"ci_low\": 8.951702058651268, \"ci_high\": 10.22859279910342}, {\"Year\": 2012.8399999999992, \"overdose_per_100k\": 9.603569921022768, \"ci_low\": 8.972659026272066, \"ci_high\": 10.23448081577347}, {\"Year\": 2012.8699999999992, \"overdose_per_100k\": 9.616992413168191, \"ci_low\": 8.993366173193749, \"ci_high\": 10.240618653142633}, {\"Year\": 2012.8999999999992, \"overdose_per_100k\": 9.630414905313614, \"ci_low\": 9.013814645037918, \"ci_high\": 10.24701516558931}, {\"Year\": 2012.9299999999992, \"overdose_per_100k\": 9.643837397458924, \"ci_low\": 9.033995501163613, \"ci_high\": 10.253679293754235}, {\"Year\": 2012.9599999999991, \"overdose_per_100k\": 9.657259889604347, \"ci_low\": 9.053899748643932, \"ci_high\": 10.260620030564763}, {\"Year\": 2012.989999999999, \"overdose_per_100k\": 9.67068238174977, \"ci_low\": 9.073518380289379, \"ci_high\": 10.267846383210163}, {\"Year\": 2013.019999999999, \"overdose_per_100k\": 9.684104873895194, \"ci_low\": 9.092842416691704, \"ci_high\": 10.275367331098684}, {\"Year\": 2013.049999999999, \"overdose_per_100k\": 9.697527366040504, \"ci_low\": 9.11186295217018, \"ci_high\": 10.283191779910828}, {\"Year\": 2013.079999999999, \"overdose_per_100k\": 9.710949858185927, \"ci_low\": 9.130571204402436, \"ci_high\": 10.291328511969418}, {\"Year\": 2013.109999999999, \"overdose_per_100k\": 9.72437235033135, \"ci_low\": 9.148958567407552, \"ci_high\": 10.299786133255148}, {\"Year\": 2013.139999999999, \"overdose_per_100k\": 9.737794842476774, \"ci_low\": 9.167016667431902, \"ci_high\": 10.308573017521645}, {\"Year\": 2013.169999999999, \"overdose_per_100k\": 9.751217334622083, \"ci_low\": 9.18473742116171, \"ci_high\": 10.317697248082457}, {\"Year\": 2013.199999999999, \"overdose_per_100k\": 9.764639826767507, \"ci_low\": 9.202113095564155, \"ci_high\": 10.327166557970859}, {\"Year\": 2013.2299999999989, \"overdose_per_100k\": 9.77806231891293, \"ci_low\": 9.21913636854001, \"ci_high\": 10.33698826928585}, {\"Year\": 2013.2599999999989, \"overdose_per_100k\": 9.791484811058353, \"ci_low\": 9.235800389466483, \"ci_high\": 10.347169232650224}, {\"Year\": 2013.2899999999988, \"overdose_per_100k\": 9.804907303203777, \"ci_low\": 9.25209883861844, \"ci_high\": 10.357715767789113}, {\"Year\": 2013.3199999999988, \"overdose_per_100k\": 9.818329795349086, \"ci_low\": 9.268025984393528, \"ci_high\": 10.368633606304645}, {\"Year\": 2013.3499999999988, \"overdose_per_100k\": 9.83175228749451, \"ci_low\": 9.283576737232663, \"ci_high\": 10.379927837756357}, {\"Year\": 2013.3799999999987, \"overdose_per_100k\": 9.845174779639933, \"ci_low\": 9.298746699124983, \"ci_high\": 10.391602860154883}, {\"Year\": 2013.4099999999987, \"overdose_per_100k\": 9.858597271785356, \"ci_low\": 9.313532207629404, \"ci_high\": 10.40366233594131}, {\"Year\": 2013.4399999999987, \"overdose_per_100k\": 9.872019763930666, \"ci_low\": 9.327930373417407, \"ci_high\": 10.416109154443925}, {\"Year\": 2013.4699999999987, \"overdose_per_100k\": 9.88544225607609, \"ci_low\": 9.34193911046188, \"ci_high\": 10.4289454016903}, {\"Year\": 2013.4999999999986, \"overdose_per_100k\": 9.898864748221513, \"ci_low\": 9.35555715814598, \"ci_high\": 10.442172338297045}, {\"Year\": 2013.5299999999986, \"overdose_per_100k\": 9.912287240366936, \"ci_low\": 9.36878409475275, \"ci_high\": 10.455790385981123}, {\"Year\": 2013.5599999999986, \"overdose_per_100k\": 9.925709732512246, \"ci_low\": 9.381620341999035, \"ci_high\": 10.469799123025457}, {\"Year\": 2013.5899999999986, \"overdose_per_100k\": 9.93913222465767, \"ci_low\": 9.394067160501791, \"ci_high\": 10.484197288813547}, {\"Year\": 2013.6199999999985, \"overdose_per_100k\": 9.952554716803093, \"ci_low\": 9.40612663628824, \"ci_high\": 10.498982797317945}, {\"Year\": 2013.6499999999985, \"overdose_per_100k\": 9.965977208948516, \"ci_low\": 9.41780165868679, \"ci_high\": 10.514152759210242}, {\"Year\": 2013.6799999999985, \"overdose_per_100k\": 9.979399701093826, \"ci_low\": 9.429095890138433, \"ci_high\": 10.529703512049219}, {\"Year\": 2013.7099999999984, \"overdose_per_100k\": 9.992822193239249, \"ci_low\": 9.44001372865409, \"ci_high\": 10.545630657824407}, {\"Year\": 2013.7399999999984, \"overdose_per_100k\": 10.006244685384672, \"ci_low\": 9.450560263792994, \"ci_high\": 10.56192910697635}, {\"Year\": 2013.7699999999984, \"overdose_per_100k\": 10.019667177530096, \"ci_low\": 9.460741227157396, \"ci_high\": 10.578593127902796}, {\"Year\": 2013.7999999999984, \"overdose_per_100k\": 10.033089669675405, \"ci_low\": 9.470562938472273, \"ci_high\": 10.595616400878537}, {\"Year\": 2013.8299999999983, \"overdose_per_100k\": 10.046512161820829, \"ci_low\": 9.480032248360688, \"ci_high\": 10.61299207528097}, {\"Year\": 2013.8599999999983, \"overdose_per_100k\": 10.059934653966252, \"ci_low\": 9.489156478921668, \"ci_high\": 10.630712829010836}, {\"Year\": 2013.8899999999983, \"overdose_per_100k\": 10.073357146111675, \"ci_low\": 9.497943363188135, \"ci_high\": 10.648770929035216}, {\"Year\": 2013.9199999999983, \"overdose_per_100k\": 10.086779638256985, \"ci_low\": 9.506400984473835, \"ci_high\": 10.667158292040135}, {\"Year\": 2013.9499999999982, \"overdose_per_100k\": 10.100202130402408, \"ci_low\": 9.514537716532422, \"ci_high\": 10.685866544272395}, {\"Year\": 2013.9799999999982, \"overdose_per_100k\": 10.113624622547832, \"ci_low\": 9.522362165344731, \"ci_high\": 10.704887079750932}, {\"Year\": 2014.0099999999982, \"overdose_per_100k\": 10.127047114693255, \"ci_low\": 9.52988311323322, \"ci_high\": 10.72421111615329}, {\"Year\": 2014.0399999999981, \"overdose_per_100k\": 10.140469606838678, \"ci_low\": 9.537109465878672, \"ci_high\": 10.743829747798685}, {\"Year\": 2014.0699999999981, \"overdose_per_100k\": 10.153892098983988, \"ci_low\": 9.544050202689109, \"ci_high\": 10.763733995278868}, {\"Year\": 2014.099999999998, \"overdose_per_100k\": 10.167314591129411, \"ci_low\": 9.550714330854168, \"ci_high\": 10.783914851404655}, {\"Year\": 2014.129999999998, \"overdose_per_100k\": 10.180737083274835, \"ci_low\": 9.557110843300816, \"ci_high\": 10.804363323248854}, {\"Year\": 2014.159999999998, \"overdose_per_100k\": 10.194159575420258, \"ci_low\": 9.563248680670078, \"ci_high\": 10.825070470170438}, {\"Year\": 2014.189999999998, \"overdose_per_100k\": 10.207582067565568, \"ci_low\": 9.569136697339955, \"ci_high\": 10.84602743779118}, {\"Year\": 2014.219999999998, \"overdose_per_100k\": 10.221004559710991, \"ci_low\": 9.574783631445584, \"ci_high\": 10.867225487976398}, {\"Year\": 2014.249999999998, \"overdose_per_100k\": 10.234427051856414, \"ci_low\": 9.580198078780782, \"ci_high\": 10.888656024932047}, {\"Year\": 2014.279999999998, \"overdose_per_100k\": 10.247849544001838, \"ci_low\": 9.585388470418874, \"ci_high\": 10.910310617584802}, {\"Year\": 2014.309999999998, \"overdose_per_100k\": 10.261272036147147, \"ci_low\": 9.590363053846644, \"ci_high\": 10.93218101844765}, {\"Year\": 2014.3399999999979, \"overdose_per_100k\": 10.27469452829257, \"ci_low\": 9.59512987738146, \"ci_high\": 10.954259179203682}, {\"Year\": 2014.3699999999978, \"overdose_per_100k\": 10.288117020437994, \"ci_low\": 9.599696777619588, \"ci_high\": 10.9765372632564}, {\"Year\": 2014.3999999999978, \"overdose_per_100k\": 10.301539512583417, \"ci_low\": 9.604071369659355, \"ci_high\": 10.99900765550748}, {\"Year\": 2014.4299999999978, \"overdose_per_100k\": 10.314962004728727, \"ci_low\": 9.608261039833698, \"ci_high\": 11.021662969623756}, {\"Year\": 2014.4599999999978, \"overdose_per_100k\": 10.32838449687415, \"ci_low\": 9.612272940696787, \"ci_high\": 11.044496053051514}, {\"Year\": 2014.4899999999977, \"overdose_per_100k\": 10.341806989019574, \"ci_low\": 9.616113988008998, \"ci_high\": 11.06749999003015}, {\"Year\": 2014.5199999999977, \"overdose_per_100k\": 10.355229481164997, \"ci_low\": 9.619790859485155, \"ci_high\": 11.09066810284484}, {\"Year\": 2014.5499999999977, \"overdose_per_100k\": 10.368651973310307, \"ci_low\": 9.623309995075754, \"ci_high\": 11.11399395154486}, {\"Year\": 2014.5799999999977, \"overdose_per_100k\": 10.38207446545573, \"ci_low\": 9.626677598572755, \"ci_high\": 11.137471332338706}, {\"Year\": 2014.6099999999976, \"overdose_per_100k\": 10.395496957601154, \"ci_low\": 9.629899640343394, \"ci_high\": 11.161094274858913}, {\"Year\": 2014.6399999999976, \"overdose_per_100k\": 10.408919449746577, \"ci_low\": 9.6329818610156, \"ci_high\": 11.184857038477555}, {\"Year\": 2014.6699999999976, \"overdose_per_100k\": 10.422341941892, \"ci_low\": 9.635929775953098, \"ci_high\": 11.208754107830902}, {\"Year\": 2014.6999999999975, \"overdose_per_100k\": 10.43576443403731, \"ci_low\": 9.638748680375254, \"ci_high\": 11.232780187699365}, {\"Year\": 2014.7299999999975, \"overdose_per_100k\": 10.449186926182733, \"ci_low\": 9.641443654993235, \"ci_high\": 11.256930197372231}, {\"Year\": 2014.7599999999975, \"overdose_per_100k\": 10.462609418328157, \"ci_low\": 9.64401957204613, \"ci_high\": 11.281199264610184}, {\"Year\": 2014.7899999999975, \"overdose_per_100k\": 10.47603191047358, \"ci_low\": 9.646481101639107, \"ci_high\": 11.305582719308052}, {\"Year\": 2014.8199999999974, \"overdose_per_100k\": 10.48945440261889, \"ci_low\": 9.648832718293892, \"ci_high\": 11.330076086943887}, {\"Year\": 2014.8499999999974, \"overdose_per_100k\": 10.502876894764313, \"ci_low\": 9.6510787076363, \"ci_high\": 11.354675081892326}, {\"Year\": 2014.8799999999974, \"overdose_per_100k\": 10.516299386909736, \"ci_low\": 9.653223173154785, \"ci_high\": 11.379375600664687}, {\"Year\": 2014.9099999999974, \"overdose_per_100k\": 10.52972187905516, \"ci_low\": 9.655270042976102, \"ci_high\": 11.404173715134217}, {\"Year\": 2014.9399999999973, \"overdose_per_100k\": 10.54314437120047, \"ci_low\": 9.657223076607966, \"ci_high\": 11.429065665792972}, {\"Year\": 2014.9699999999973, \"overdose_per_100k\": 10.556566863345893, \"ci_low\": 9.659085871613781, \"ci_high\": 11.454047855078004}, {\"Year\": 2014.9999999999973, \"overdose_per_100k\": 10.569989355491316, \"ci_low\": 9.660861870181277, \"ci_high\": 11.479116840801355}], \"data-424a16bd626ddffb6ec885f6abd1efe5\": [{\"Date\": 2012, \"color\": \"black\"}]}}, {\"mode\": \"vega-lite\"});\n",
       "</script>"
      ],
      "text/plain": [
       "alt.LayerChart(...)"
      ]
     },
     "execution_count": 24,
     "metadata": {},
     "output_type": "execute_result"
    }
   ],
   "source": [
    "# plotting - need to make x axis discrete \n",
    "fit_wa_b4, reg_chart_wa_b4 = get_reg_fit(\n",
    "    wa_b4, yvar=\"overdose_per_100k\", xvar=\"Year\", color=\"blue\", title= \"Overdoses per 100k Residents - Washington\", alpha=0.05\n",
    ")\n",
    "\n",
    "\n",
    "fit_wa_b4, reg_chart_wa_after = get_reg_fit(\n",
    "    wa_after, yvar=\"overdose_per_100k\", xvar=\"Year\", color=\"blue\", title= \"Overdoses per 100k Residents - Washington\",alpha=0.05\n",
    ")\n",
    "(reg_chart_wa_b4 + reg_chart_wa_after + line).properties(width=700, height=500)"
   ]
  },
  {
   "cell_type": "code",
   "execution_count": null,
   "metadata": {},
   "outputs": [],
   "source": [
    "########################################################################################################################\n",
    "# ends here for final report     "
   ]
  },
  {
   "cell_type": "code",
   "execution_count": null,
   "metadata": {},
   "outputs": [],
   "source": []
  },
  {
   "cell_type": "code",
   "execution_count": null,
   "metadata": {},
   "outputs": [],
   "source": []
  },
  {
   "cell_type": "code",
   "execution_count": null,
   "metadata": {},
   "outputs": [],
   "source": []
  },
  {
   "cell_type": "code",
   "execution_count": null,
   "metadata": {},
   "outputs": [],
   "source": []
  },
  {
   "cell_type": "code",
   "execution_count": null,
   "metadata": {},
   "outputs": [],
   "source": [
    "def get_reg_fit(data, yvar, xvar, alpha=0.05):\n",
    "    import statsmodels.formula.api as smf\n",
    "\n",
    "    # Grid for predicted values\n",
    "    x = data.loc[pd.notnull(data[yvar]), xvar]\n",
    "    xmin = x.min()\n",
    "    xmax = x.max()\n",
    "    step = (xmax - xmin) / 100\n",
    "    grid = np.arange(xmin, xmax + step, step)\n",
    "    predictions = pd.DataFrame({xvar: grid})\n",
    "\n",
    "    # Fit model, get predictions\n",
    "    model = smf.ols(f\"{yvar} ~ {xvar}\", data=data).fit()\n",
    "    model_predict = model.get_prediction(predictions[xvar])\n",
    "    predictions[yvar] = model_predict.summary_frame()[\"mean\"]\n",
    "    predictions[[\"ci_low\", \"ci_high\"]] = model_predict.conf_int(alpha=alpha)\n",
    "\n",
    "    # Build chart\n",
    "    reg = alt.Chart(predictions).mark_line().encode(x=xvar, y=yvar)\n",
    "    ci = (\n",
    "        alt.Chart(predictions)\n",
    "        .mark_errorband()\n",
    "        .encode(\n",
    "            x=xvar,\n",
    "            y=alt.Y(\"ci_low\", title=yvar),\n",
    "            y2=\"ci_high\",\n",
    "        )\n",
    "    )\n",
    "    chart = ci + reg\n",
    "    return predictions, chart"
   ]
  },
  {
   "cell_type": "code",
   "execution_count": null,
   "metadata": {},
   "outputs": [],
   "source": [
    "wa_deaths.groupby(\"Year\")[\"overdose_per_100k\"].agg([np.mean, np.std])\n",
    "\n",
    "wa_deaths_b4 = wa_deaths[wa_deaths[\"Year\"] < 2012]\n",
    "wa_deaths_after = wa_deaths[wa_deaths[\"Year\"] >= 2012]"
   ]
  },
  {
   "cell_type": "code",
   "execution_count": null,
   "metadata": {},
   "outputs": [],
   "source": [
    "source_data = wa_deaths_b4\n",
    "\n",
    "plot_b4 = (\n",
    "    alt.Chart(source_data)\n",
    "    .mark_point()\n",
    "    .encode(\n",
    "        x=alt.X(\"Year:O\", scale=alt.Scale(zero=False)),\n",
    "        y=alt.Y(\"mean_overdose:Q\", scale=alt.Scale(zero=False)),\n",
    "    ).transform_aggregate(\n",
    "        mean_overdose='mean(overdose_per_100k)',\n",
    "        groupby=[\"Year\"]\n",
    "    )\n",
    ")\n"
   ]
  },
  {
   "cell_type": "code",
   "execution_count": null,
   "metadata": {},
   "outputs": [],
   "source": [
    "fit_b4, reg_chart_b4 = get_reg_fit(\n",
    "    source_data, yvar=\"overdose_per_100k\", xvar=\"Year\", alpha=0.05\n",
    ")\n",
    "fit_b4"
   ]
  },
  {
   "cell_type": "code",
   "execution_count": null,
   "metadata": {},
   "outputs": [],
   "source": [
    "plot_b4 + reg_chart_b4"
   ]
  },
  {
   "cell_type": "code",
   "execution_count": null,
   "metadata": {},
   "outputs": [],
   "source": [
    "\n",
    "source_data = wa_deaths_after\n",
    "\n",
    "plot_after = (\n",
    "    alt.Chart(source_data)\n",
    "    .mark_point()\n",
    "    .encode(\n",
    "        x=alt.X(\"Year:O\", scale=alt.Scale(zero=False)),\n",
    "        y=alt.Y(\"mean_overdose:Q\", scale=alt.Scale(zero=False)),\n",
    "    ).transform_aggregate(\n",
    "        mean_overdose='mean(overdose_per_100k)',\n",
    "        groupby=[\"Year\"]\n",
    "    )\n",
    ")\n",
    "plot_after\n",
    "fit_after, reg_chart_after = get_reg_fit(\n",
    "    source_data, yvar=\"overdose_per_100k\", xvar=\"Year\", alpha=0.05\n",
    ")\n",
    "fit_after\n",
    "plot_after + reg_chart_after"
   ]
  },
  {
   "cell_type": "code",
   "execution_count": null,
   "metadata": {},
   "outputs": [],
   "source": [
    "plot_b4 + reg_chart_b4 + plot_after + reg_chart_after"
   ]
  },
  {
   "cell_type": "code",
   "execution_count": null,
   "metadata": {},
   "outputs": [],
   "source": [
    "################################"
   ]
  },
  {
   "cell_type": "code",
   "execution_count": null,
   "metadata": {},
   "outputs": [],
   "source": [
    "# # saved original code for plotting\n",
    "# wa_deaths.groupby(\"Year\")[\"overdose_per_100k\"].agg([np.mean, np.std])\n",
    "\n",
    "# wa_deaths_b4 = wa_deaths[wa_deaths[\"Year\"] < 2012]\n",
    "# wa_deaths_after = wa_deaths[wa_deaths[\"Year\"] >= 2012]\n",
    "\n",
    "# source_data = wa_deaths_b4\n",
    "\n",
    "# plot_wa_b4 = alt.Chart(source_data).mark_point().encode(\n",
    "#     y=alt.Y(\"mean_overdose:Q\", scale=alt.Scale(zero=False)),\n",
    "#     x=alt.X(\"Year:O\", scale=alt.Scale(zero=False))\n",
    "# ).transform_aggregate(\n",
    "#     mean_overdose='mean(overdose_per_100k)',\n",
    "#     groupby=[\"Year\"]\n",
    "# )\n",
    "\n",
    "# plot_wa_b4\n",
    "\n",
    "# fit_wa_b4 = plot_wa_b4.transform_regression('Year', 'mean_overdose',method=\"linear\"\n",
    "# ).mark_line()\n",
    "\n",
    "# fit_wa_b4\n",
    "\n",
    "# source_data = wa_deaths_after\n",
    "\n",
    "# plot_wa_after = alt.Chart(source_data).mark_point().encode(\n",
    "#     y=alt.Y(\"mean_overdose:Q\", scale=alt.Scale(zero=False)),\n",
    "#     x=alt.X(\"Year:O\", scale=alt.Scale(zero=False))\n",
    "# ).transform_aggregate(\n",
    "#     mean_overdose='mean(overdose_per_100k)',\n",
    "#     groupby=[\"Year\"]\n",
    "# )\n",
    "\n",
    "# plot_wa_after\n",
    "\n",
    "# fit_wa_after = plot_wa_after.transform_regression('Year', 'mean_overdose',method=\"linear\"\n",
    "# ).mark_line()\n",
    "\n",
    "# fit_wa_after\n",
    "\n",
    "# plot_wa_b4 + fit_wa_b4 + plot_wa_after + fit_wa_after"
   ]
  },
  {
   "cell_type": "code",
   "execution_count": null,
   "metadata": {},
   "outputs": [],
   "source": [
    "# create a scale for number of years before and after 2007 (target year)\n",
    "\n",
    "def scale_years(year):\n",
    "    if year == 2009:\n",
    "        return -3\n",
    "    if year == 2010:\n",
    "        return -2\n",
    "    if year == 2011:\n",
    "        return -1\n",
    "    if year == 2012:\n",
    "        return 0\n",
    "    if year == 2013:\n",
    "        return 1\n",
    "    if year == 2014:\n",
    "        return 2\n",
    "    if year == 2015:\n",
    "        return 3\n",
    "\n",
    "wa_stats[\"year relative to policy\"] = wa_stats[\"Year\"].apply(lambda x: scale_years(x))\n",
    "# comp_result[\"year relative to policy\"] = comp_result[\"Year\"].apply(lambda x: scale_years(x))\n",
    "\n",
    "# double check no nulls in \"year relative to policy\"\n",
    "\n",
    "assert (wa_stats[\"year relative to policy\"].isnull().sum() == 0)\n",
    "# assert (comp_result[\"year relative to policy\"].isnull().sum() == 0)\n",
    "\n",
    "# doing this in case the float == int comparison causes issues"
   ]
  },
  {
   "cell_type": "code",
   "execution_count": null,
   "metadata": {},
   "outputs": [],
   "source": [
    "# split into before 2007 and after 2007\n",
    "\n",
    "wa_b4 = wa_stats[wa_stats[\"Year\"] < 2012]\n",
    "wa_after = wa_stats[wa_stats[\"Year\"] > 2012]\n",
    "\n",
    "\n",
    "# wa_after = wa_after[wa_after[\"Year\"] != 2007] # may need to handle this differently"
   ]
  },
  {
   "cell_type": "code",
   "execution_count": null,
   "metadata": {},
   "outputs": [],
   "source": [
    "from sklearn.linear_model import LinearRegression \n",
    "\n",
    "regressor_b4 = LinearRegression() \n",
    "regressor_after = LinearRegression()\n",
    "\n",
    "\n",
    "X_b4 = np.array(wa_b4[\"year relative to policy\"]).reshape(-1, 1)\n",
    "y_b4 = np.array(wa_b4[\"overdose_per_100k\"]).reshape(-1, 1)\n",
    "\n",
    "X_after = np.array(wa_after[\"year relative to policy\"]).reshape(-1, 1)\n",
    "y_after = np.array(wa_after[\"overdose_per_100k\"]).reshape(-1, 1)\n",
    "\n",
    "\n",
    "regressor_b4.fit(X_b4,y_b4) \n",
    "regressor_after.fit(X_after,y_after) \n",
    "\n",
    "\n",
    "y_pred_b4 = regressor_b4.predict(X_b4)\n",
    "y_pred_after = regressor_after.predict(X_b4)"
   ]
  },
  {
   "cell_type": "code",
   "execution_count": null,
   "metadata": {},
   "outputs": [],
   "source": [
    "y_pred_b4"
   ]
  },
  {
   "cell_type": "code",
   "execution_count": null,
   "metadata": {},
   "outputs": [],
   "source": [
    "y_pred_after"
   ]
  },
  {
   "cell_type": "code",
   "execution_count": null,
   "metadata": {},
   "outputs": [],
   "source": [
    "plt.xlim(-3, 3)\n",
    "#plt.ylim(0, 500)\n",
    "\n",
    "plt.title(\"Overdose Deaths in Washington\")\n",
    "\n",
    "plt.plot(X_b4, y_pred_b4,color='k')\n",
    "plt.plot(X_after, y_pred_after,color='k')\n",
    "\n",
    "# plot avg value in each year"
   ]
  },
  {
   "cell_type": "code",
   "execution_count": null,
   "metadata": {},
   "outputs": [],
   "source": [
    "x = \"Year\"\n",
    "y = \"overdose_per_100k\""
   ]
  },
  {
   "cell_type": "code",
   "execution_count": null,
   "metadata": {},
   "outputs": [],
   "source": [
    "def vertical_line(year):\n",
    "    \"\"\"Function to plot a vertical line at year of policy implementation\"\"\"\n",
    "    line = alt.Chart(pd.DataFrame({\n",
    "    'Date': [year],\n",
    "    'color': [\"black\"]\n",
    "    })).mark_rule().encode(\n",
    "    x='Date:Q', # use q for \"quantitative\" - as per altair docs\n",
    "    color=alt.Color('color:N', scale=None)\n",
    "    )\n",
    "\n",
    "    return line"
   ]
  },
  {
   "cell_type": "code",
   "execution_count": null,
   "metadata": {},
   "outputs": [],
   "source": [
    "# test function\n",
    "line = vertical_line(2004)"
   ]
  },
  {
   "cell_type": "code",
   "execution_count": null,
   "metadata": {},
   "outputs": [],
   "source": [
    "def get_charts(b4, after, title_b4, title_after):\n",
    "    \"\"\"\n",
    "    Function to plot the pre and post charts.\n",
    "    Will not use in final plot - used as a baseline for our fit charts later.\n",
    "\n",
    "    \"\"\"\n",
    "\n",
    "    base_before = (\n",
    "        alt.Chart(b4)\n",
    "        .mark_point()\n",
    "        .encode(\n",
    "            y=alt.Y(\"overdose_per_100k\", scale=alt.Scale(zero=False)),\n",
    "            x=alt.X(\"year relative to policy\", scale=alt.Scale(zero=False)),\n",
    "        )\n",
    "        .properties(title=title_b4)\n",
    "        \n",
    "    )\n",
    "\n",
    "    base_after = (\n",
    "        alt.Chart(after)\n",
    "        .mark_point()\n",
    "        .encode(\n",
    "            y=alt.Y(\"overdose_per_100k\", scale=alt.Scale(zero=False)),\n",
    "            x=alt.X(\"year relative to policy\", scale=alt.Scale(zero=False)),\n",
    "        )\n",
    "        .properties(title=title_after)\n",
    "    )\n",
    "\n",
    "    return base_before, base_after"
   ]
  },
  {
   "cell_type": "code",
   "execution_count": null,
   "metadata": {},
   "outputs": [],
   "source": [
    "# test the function\n",
    "# may remove title parameters later - not really necessary as we aren't plotting this part in our final analysis\n",
    "# however, if we can't add a title to our fit/regression line charts, we may need to add them here\n",
    "base_before, base_after = get_charts(b4 = wa_b4, after = wa_after, title_b4 = \"deaths before policy\", title_after=\"deaths after policy\")\n",
    "base_before + base_after"
   ]
  },
  {
   "cell_type": "code",
   "execution_count": null,
   "metadata": {},
   "outputs": [],
   "source": [
    "# starting here in final report\n",
    "# no longer calculating base chart above - just adding in regression line at same time\n",
    "def get_preds(df, x, y):\n",
    "\n",
    "    # init new empty df for our predictions\n",
    "    predictions = pd.DataFrame()\n",
    "\n",
    "    # fit our model and predict values\n",
    "    model = smf.ols(f\"{y} ~ {x}\", data=df).fit()\n",
    "    model_predict = model.get_prediction(df[x])\n",
    "\n",
    "    # save predictions back to df, calculate confidence intervals\n",
    "    predictions[\"overdose_per_100k\"] = model.predict(df[x])\n",
    "    predictions[[\"ci_low\", \"ci_high\"]] = model_predict.conf_int(alpha=0.05)\n",
    "\n",
    "    # save original year columns to new predictions df\n",
    "    predictions[\"Year\"] = df[\"Year\"]\n",
    "    predictions[\"year relative to policy\"] = df[\"year relative to policy\"]\n",
    "    return predictions"
   ]
  },
  {
   "cell_type": "code",
   "execution_count": null,
   "metadata": {},
   "outputs": [],
   "source": [
    "wa_b4_preds = get_preds(wa_b4, x, y)\n",
    "wa_after_preds = get_preds(wa_after, x, y)"
   ]
  },
  {
   "cell_type": "code",
   "execution_count": null,
   "metadata": {},
   "outputs": [],
   "source": [
    "def get_charts(b4, after, title_b4, title_after, color):\n",
    "    \"\"\"\n",
    "    Function to plot the pre and post charts.\n",
    "    Will not use in final plot - used as a baseline for our fit charts later.\n",
    "\n",
    "    \"\"\"\n",
    "\n",
    "    base_before = (\n",
    "        alt.Chart(b4)\n",
    "        .mark_point()\n",
    "        .encode(\n",
    "            y=alt.Y(\"overdose_per_100k\", scale=alt.Scale(zero=False)),\n",
    "            x=alt.X(\"year relative to policy\", scale=alt.Scale(zero=False)),\n",
    "        )\n",
    "        .properties(title=title_b4).transform_regression(\"year relative to policy\", \"overdose_per_100k\")\n",
    "    .mark_line()\n",
    "    .encode(color=alt.value(color))\n",
    "        \n",
    "    )\n",
    "\n",
    "    base_after = (\n",
    "        alt.Chart(after)\n",
    "        .mark_point()\n",
    "        .encode(\n",
    "            y=alt.Y(\"overdose_per_100k\", scale=alt.Scale(zero=False)),\n",
    "            x=alt.X(\"year relative to policy\", scale=alt.Scale(zero=False)),\n",
    "            \n",
    "        )\n",
    "        .properties(title=title_after).transform_regression(\"year relative to policy\", \"overdose_per_100k\")\n",
    "    .mark_line()\n",
    "    .encode(color=alt.value(color))\n",
    "    )\n",
    "\n",
    "    return base_before, base_after"
   ]
  },
  {
   "cell_type": "code",
   "execution_count": null,
   "metadata": {},
   "outputs": [],
   "source": [
    "# test the function\n",
    "# may remove title parameters later - not really necessary as we aren't plotting this part in our final analysis\n",
    "# however, if we can't add a title to our fit/regression line charts, we may need to add them here\n",
    "base_before, base_after = get_charts(b4 = wa_b4_preds, after = wa_after_preds, title_b4 = \"Deaths Before Policy Implementation\", title_after=\"Deaths After Policy Implementation\", color=\"red\")\n",
    "base_before + base_after"
   ]
  }
 ],
 "metadata": {
  "kernelspec": {
   "display_name": "base",
   "language": "python",
   "name": "python3"
  },
  "language_info": {
   "codemirror_mode": {
    "name": "ipython",
    "version": 3
   },
   "file_extension": ".py",
   "mimetype": "text/x-python",
   "name": "python",
   "nbconvert_exporter": "python",
   "pygments_lexer": "ipython3",
   "version": "3.10.6"
  },
  "orig_nbformat": 4,
  "vscode": {
   "interpreter": {
    "hash": "3d597f4c481aa0f25dceb95d2a0067e73c0966dcbd003d741d821a7208527ecf"
   }
  }
 },
 "nbformat": 4,
 "nbformat_minor": 2
}
