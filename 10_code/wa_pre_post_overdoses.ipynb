{
 "cells": [
  {
   "cell_type": "code",
   "execution_count": 1,
   "metadata": {},
   "outputs": [],
   "source": [
    "import numpy as np\n",
    "import pandas as pd\n",
    "import altair as alt\n",
    "import matplotlib.pyplot as plt\n",
    "import statsmodels.api as sm\n",
    "import statsmodels.formula.api as smf"
   ]
  },
  {
   "cell_type": "code",
   "execution_count": 26,
   "metadata": {},
   "outputs": [],
   "source": [
    "deaths = pd.read_csv(\"../20_intermediate_files/deaths_wa.csv\")"
   ]
  },
  {
   "cell_type": "code",
   "execution_count": 27,
   "metadata": {},
   "outputs": [
    {
     "data": {
      "text/plain": [
       "North Carolina    1142\n",
       "Colorado           642\n",
       "Washington         570\n",
       "Maryland           363\n",
       "Name: StateName, dtype: int64"
      ]
     },
     "execution_count": 27,
     "metadata": {},
     "output_type": "execute_result"
    }
   ],
   "source": [
    "deaths[\"StateName\"].value_counts()"
   ]
  },
  {
   "cell_type": "code",
   "execution_count": 28,
   "metadata": {},
   "outputs": [
    {
     "data": {
      "text/plain": [
       "Index(['County', 'County Code', 'Year', 'Year Code',\n",
       "       'Drug/Alcohol Induced Cause', 'Drug/Alcohol Induced Cause Code',\n",
       "       'Deaths', 'State', 'StateFIPS', 'CountyName', 'StateName', 'CountyFIPS',\n",
       "       'StateAbbr', 'STATE_COUNTY', 'state_abbrev', 'FIP_unique', 'Population',\n",
       "       'county_test'],\n",
       "      dtype='object')"
      ]
     },
     "execution_count": 28,
     "metadata": {},
     "output_type": "execute_result"
    }
   ],
   "source": [
    "deaths.columns"
   ]
  },
  {
   "cell_type": "code",
   "execution_count": 29,
   "metadata": {},
   "outputs": [
    {
     "data": {
      "text/plain": [
       "array(['Drug poisonings (overdose) Unintentional (X40-X44)',\n",
       "       'Drug poisonings (overdose) Suicide (X60-X64)',\n",
       "       'All other alcohol-induced causes',\n",
       "       'All other non-drug and non-alcohol causes',\n",
       "       'Alcohol poisonings (overdose) (X45, X65, Y15)',\n",
       "       'Drug poisonings (overdose) Undetermined (Y10-Y14)',\n",
       "       'All other drug-induced causes'], dtype=object)"
      ]
     },
     "execution_count": 29,
     "metadata": {},
     "output_type": "execute_result"
    }
   ],
   "source": [
    "deaths[\"Drug/Alcohol Induced Cause\"].unique()"
   ]
  },
  {
   "cell_type": "code",
   "execution_count": 30,
   "metadata": {},
   "outputs": [],
   "source": [
    "washington = deaths[deaths[\"StateName\"] == \"Washington\"]\n",
    "comp = deaths[deaths[\"StateName\"] != \"Washington\"]"
   ]
  },
  {
   "cell_type": "code",
   "execution_count": 31,
   "metadata": {},
   "outputs": [],
   "source": [
    "wa_deaths = washington.copy()\n",
    "comp_deaths = comp.copy()"
   ]
  },
  {
   "cell_type": "code",
   "execution_count": 32,
   "metadata": {},
   "outputs": [],
   "source": [
    "overdose_list = ['Drug poisonings (overdose) Unintentional (X40-X44)',\n",
    "       'Drug poisonings (overdose) Suicide (X60-X64)',\n",
    "       'Drug poisonings (overdose) Undetermined (Y10-Y14)',\n",
    "       'Alcohol poisonings (overdose) (X45, X65, Y15)']"
   ]
  },
  {
   "cell_type": "code",
   "execution_count": 33,
   "metadata": {},
   "outputs": [],
   "source": [
    "wa_deaths[\"overdose\"] = 0\n",
    "comp_deaths[\"overdose\"] = 0"
   ]
  },
  {
   "cell_type": "code",
   "execution_count": 34,
   "metadata": {},
   "outputs": [],
   "source": [
    "wa_deaths.loc[wa_deaths[\"Drug/Alcohol Induced Cause\"].isin(overdose_list), \"overdose\"] = 1\n",
    "comp_deaths.loc[comp_deaths[\"Drug/Alcohol Induced Cause\"].isin(overdose_list), \"overdose\"] = 1"
   ]
  },
  {
   "cell_type": "code",
   "execution_count": 35,
   "metadata": {},
   "outputs": [],
   "source": [
    "wa_deaths = wa_deaths[wa_deaths[\"overdose\"] == 1]\n",
    "comp_deaths = comp_deaths[comp_deaths[\"overdose\"] == 1]"
   ]
  },
  {
   "cell_type": "code",
   "execution_count": 36,
   "metadata": {},
   "outputs": [],
   "source": [
    "wa_deaths[\"overdose_per_100k\"] = wa_deaths[\"Deaths\"] / wa_deaths[\"Population\"] * 100_000\n",
    "comp_deaths[\"overdose_per_100k\"] = comp_deaths[\"Deaths\"] / comp_deaths[\"Population\"] * 100_000"
   ]
  },
  {
   "cell_type": "code",
   "execution_count": 37,
   "metadata": {},
   "outputs": [],
   "source": [
    "wa_result = wa_deaths.groupby([\"Year\", \"County\"])[\"overdose_per_100k\"].sum().reset_index()\n",
    "comp_result = comp_deaths.groupby([\"Year\", \"StateName\", \"CountyName\"])[\"overdose_per_100k\"].sum().reset_index()"
   ]
  },
  {
   "cell_type": "code",
   "execution_count": 38,
   "metadata": {},
   "outputs": [],
   "source": [
    "wa_stats = wa_deaths.groupby([\"Year\"])[\"overdose_per_100k\"].mean().reset_index()\n",
    "comp_stats = comp_deaths.groupby([\"Year\"])[\"overdose_per_100k\"].mean().reset_index()"
   ]
  },
  {
   "cell_type": "code",
   "execution_count": 39,
   "metadata": {},
   "outputs": [
    {
     "data": {
      "text/html": [
       "<div>\n",
       "<style scoped>\n",
       "    .dataframe tbody tr th:only-of-type {\n",
       "        vertical-align: middle;\n",
       "    }\n",
       "\n",
       "    .dataframe tbody tr th {\n",
       "        vertical-align: top;\n",
       "    }\n",
       "\n",
       "    .dataframe thead th {\n",
       "        text-align: right;\n",
       "    }\n",
       "</style>\n",
       "<table border=\"1\" class=\"dataframe\">\n",
       "  <thead>\n",
       "    <tr style=\"text-align: right;\">\n",
       "      <th></th>\n",
       "      <th>Overdoses per 100k Residents - Washington</th>\n",
       "      <th>Overdoses per 100k Residents - Comp States</th>\n",
       "    </tr>\n",
       "  </thead>\n",
       "  <tbody>\n",
       "    <tr>\n",
       "      <th>count</th>\n",
       "      <td>110.000000</td>\n",
       "      <td>432.000000</td>\n",
       "    </tr>\n",
       "    <tr>\n",
       "      <th>mean</th>\n",
       "      <td>13.760180</td>\n",
       "      <td>15.142326</td>\n",
       "    </tr>\n",
       "    <tr>\n",
       "      <th>std</th>\n",
       "      <td>4.515969</td>\n",
       "      <td>8.280981</td>\n",
       "    </tr>\n",
       "    <tr>\n",
       "      <th>min</th>\n",
       "      <td>5.666846</td>\n",
       "      <td>1.845015</td>\n",
       "    </tr>\n",
       "    <tr>\n",
       "      <th>25%</th>\n",
       "      <td>9.990164</td>\n",
       "      <td>9.649632</td>\n",
       "    </tr>\n",
       "    <tr>\n",
       "      <th>50%</th>\n",
       "      <td>14.011080</td>\n",
       "      <td>13.405339</td>\n",
       "    </tr>\n",
       "    <tr>\n",
       "      <th>75%</th>\n",
       "      <td>16.473949</td>\n",
       "      <td>18.800017</td>\n",
       "    </tr>\n",
       "    <tr>\n",
       "      <th>max</th>\n",
       "      <td>26.390640</td>\n",
       "      <td>78.330841</td>\n",
       "    </tr>\n",
       "  </tbody>\n",
       "</table>\n",
       "</div>"
      ],
      "text/plain": [
       "       Overdoses per 100k Residents - Washington  \\\n",
       "count                                 110.000000   \n",
       "mean                                   13.760180   \n",
       "std                                     4.515969   \n",
       "min                                     5.666846   \n",
       "25%                                     9.990164   \n",
       "50%                                    14.011080   \n",
       "75%                                    16.473949   \n",
       "max                                    26.390640   \n",
       "\n",
       "       Overdoses per 100k Residents - Comp States  \n",
       "count                                  432.000000  \n",
       "mean                                    15.142326  \n",
       "std                                      8.280981  \n",
       "min                                      1.845015  \n",
       "25%                                      9.649632  \n",
       "50%                                     13.405339  \n",
       "75%                                     18.800017  \n",
       "max                                     78.330841  "
      ]
     },
     "execution_count": 39,
     "metadata": {},
     "output_type": "execute_result"
    }
   ],
   "source": [
    "wa_res = pd.DataFrame(wa_result.describe()[\"overdose_per_100k\"]).rename(columns={\"overdose_per_100k\": \"Overdoses per 100k Residents - Washington\"})\n",
    "comp_res = pd.DataFrame(comp_result.describe()[\"overdose_per_100k\"]).rename(columns={\"overdose_per_100k\": \"Overdoses per 100k Residents - Comp States\"})\n",
    "stats = pd.concat([wa_res, comp_res], axis=1)\n",
    "stats"
   ]
  },
  {
   "cell_type": "code",
   "execution_count": 40,
   "metadata": {},
   "outputs": [],
   "source": [
    "wa_result = wa_result.groupby(\"Year\")[\"overdose_per_100k\"].mean().reset_index()\n",
    "comp_result = comp_result.groupby([\"Year\"])[\"overdose_per_100k\"].mean().reset_index()"
   ]
  },
  {
   "cell_type": "code",
   "execution_count": 41,
   "metadata": {},
   "outputs": [],
   "source": [
    "wa_res_checkpoint = wa_stats.copy()\n",
    "comp_res_checkpoint = comp_stats.copy()\n",
    "\n",
    "\n",
    "# assert length is the same\n",
    "assert (len(wa_stats) == len(wa_res_checkpoint)) & (len(comp_stats) == len(comp_res_checkpoint))"
   ]
  },
  {
   "cell_type": "code",
   "execution_count": 86,
   "metadata": {},
   "outputs": [
    {
     "data": {
      "text/plain": [
       "0    2009\n",
       "1    2010\n",
       "2    2011\n",
       "3    2012\n",
       "4    2013\n",
       "5    2014\n",
       "6    2015\n",
       "Name: Year, dtype: int64"
      ]
     },
     "execution_count": 86,
     "metadata": {},
     "output_type": "execute_result"
    }
   ],
   "source": [
    "wa_stats[\"Year\"].astype(\"int64\")"
   ]
  },
  {
   "cell_type": "code",
   "execution_count": 87,
   "metadata": {},
   "outputs": [
    {
     "data": {
      "text/plain": [
       "Year                 float64\n",
       "overdose_per_100k    float64\n",
       "dtype: object"
      ]
     },
     "execution_count": 87,
     "metadata": {},
     "output_type": "execute_result"
    }
   ],
   "source": [
    "wa_stats.dtypes"
   ]
  },
  {
   "cell_type": "code",
   "execution_count": 74,
   "metadata": {},
   "outputs": [],
   "source": [
    "wa_b4 = wa_stats[wa_stats[\"Year\"] <= 2012]\n",
    "wa_after = wa_stats[wa_stats[\"Year\"] >= 2012]"
   ]
  },
  {
   "cell_type": "code",
   "execution_count": 75,
   "metadata": {},
   "outputs": [],
   "source": [
    "x = \"Year\"\n",
    "y = \"overdose_per_100k\""
   ]
  },
  {
   "cell_type": "code",
   "execution_count": 76,
   "metadata": {},
   "outputs": [],
   "source": [
    "\n",
    "def vertical_line(year):\n",
    "    \"\"\"Function to plot a vertical line at year of policy implementation\"\"\"\n",
    "    line = alt.Chart(pd.DataFrame({\n",
    "    'Date': [year],\n",
    "    'color': [\"black\"]\n",
    "    })).mark_rule().encode(\n",
    "    x='Date:Q',\n",
    "    color=alt.Color('color:N', scale=None)\n",
    "    )\n",
    "\n",
    "    return line"
   ]
  },
  {
   "cell_type": "code",
   "execution_count": 80,
   "metadata": {},
   "outputs": [],
   "source": [
    "def get_reg_fit(data, yvar, xvar, color, title, alpha=0.05):\n",
    "    import statsmodels.formula.api as smf\n",
    "\n",
    "    # Grid for predicted values\n",
    "    x = data.loc[pd.notnull(data[yvar]), xvar]\n",
    "    xmin = x.min()\n",
    "    xmax = x.max()\n",
    "    step = (xmax - xmin) / 100\n",
    "    grid = np.arange(xmin, xmax + step, step)\n",
    "    predictions = pd.DataFrame({xvar: grid})\n",
    "\n",
    "    # Fit model, get predictions\n",
    "    model = smf.ols(f\"{yvar} ~ {xvar}\", data=data).fit()\n",
    "    model_predict = model.get_prediction(predictions[xvar])\n",
    "    predictions[yvar] = model_predict.summary_frame()[\"mean\"]\n",
    "    predictions[[\"ci_low\", \"ci_high\"]] = model_predict.conf_int(alpha=alpha)\n",
    "\n",
    "    # Build chart\n",
    "    reg = (\n",
    "        alt.Chart(predictions)\n",
    "        .mark_line()\n",
    "        .encode(\n",
    "            x=alt.X(xvar, scale=alt.Scale(zero=False), title=\"Year\"),\n",
    "            y=alt.Y(\n",
    "                yvar, scale=alt.Scale(zero=False), title=\"Overdoses per 100k Residents\"\n",
    "            ),\n",
    "            color=alt.value(color)\n",
    "        ).properties(title=title)\n",
    "    )\n",
    "    ci = (\n",
    "        alt.Chart(predictions)\n",
    "        .mark_errorband()\n",
    "        .encode(\n",
    "            x=xvar,\n",
    "            y=alt.Y(\"ci_low\", title=\"\"),\n",
    "            y2=\"ci_high\",\n",
    "            color=alt.value(color),\n",
    "        )\n",
    "    )\n",
    "    chart = ci + reg\n",
    "    return predictions, chart"
   ]
  },
  {
   "cell_type": "code",
   "execution_count": 81,
   "metadata": {},
   "outputs": [],
   "source": [
    "line = vertical_line(2012)"
   ]
  },
  {
   "cell_type": "code",
   "execution_count": 82,
   "metadata": {},
   "outputs": [
    {
     "data": {
      "text/html": [
       "\n",
       "<div id=\"altair-viz-4bcd2ee85e27479ea0afe2e029b76a80\"></div>\n",
       "<script type=\"text/javascript\">\n",
       "  var VEGA_DEBUG = (typeof VEGA_DEBUG == \"undefined\") ? {} : VEGA_DEBUG;\n",
       "  (function(spec, embedOpt){\n",
       "    let outputDiv = document.currentScript.previousElementSibling;\n",
       "    if (outputDiv.id !== \"altair-viz-4bcd2ee85e27479ea0afe2e029b76a80\") {\n",
       "      outputDiv = document.getElementById(\"altair-viz-4bcd2ee85e27479ea0afe2e029b76a80\");\n",
       "    }\n",
       "    const paths = {\n",
       "      \"vega\": \"https://cdn.jsdelivr.net/npm//vega@5?noext\",\n",
       "      \"vega-lib\": \"https://cdn.jsdelivr.net/npm//vega-lib?noext\",\n",
       "      \"vega-lite\": \"https://cdn.jsdelivr.net/npm//vega-lite@4.17.0?noext\",\n",
       "      \"vega-embed\": \"https://cdn.jsdelivr.net/npm//vega-embed@6?noext\",\n",
       "    };\n",
       "\n",
       "    function maybeLoadScript(lib, version) {\n",
       "      var key = `${lib.replace(\"-\", \"\")}_version`;\n",
       "      return (VEGA_DEBUG[key] == version) ?\n",
       "        Promise.resolve(paths[lib]) :\n",
       "        new Promise(function(resolve, reject) {\n",
       "          var s = document.createElement('script');\n",
       "          document.getElementsByTagName(\"head\")[0].appendChild(s);\n",
       "          s.async = true;\n",
       "          s.onload = () => {\n",
       "            VEGA_DEBUG[key] = version;\n",
       "            return resolve(paths[lib]);\n",
       "          };\n",
       "          s.onerror = () => reject(`Error loading script: ${paths[lib]}`);\n",
       "          s.src = paths[lib];\n",
       "        });\n",
       "    }\n",
       "\n",
       "    function showError(err) {\n",
       "      outputDiv.innerHTML = `<div class=\"error\" style=\"color:red;\">${err}</div>`;\n",
       "      throw err;\n",
       "    }\n",
       "\n",
       "    function displayChart(vegaEmbed) {\n",
       "      vegaEmbed(outputDiv, spec, embedOpt)\n",
       "        .catch(err => showError(`Javascript Error: ${err.message}<br>This usually means there's a typo in your chart specification. See the javascript console for the full traceback.`));\n",
       "    }\n",
       "\n",
       "    if(typeof define === \"function\" && define.amd) {\n",
       "      requirejs.config({paths});\n",
       "      require([\"vega-embed\"], displayChart, err => showError(`Error loading script: ${err.message}`));\n",
       "    } else {\n",
       "      maybeLoadScript(\"vega\", \"5\")\n",
       "        .then(() => maybeLoadScript(\"vega-lite\", \"4.17.0\"))\n",
       "        .then(() => maybeLoadScript(\"vega-embed\", \"6\"))\n",
       "        .catch(showError)\n",
       "        .then(() => displayChart(vegaEmbed));\n",
       "    }\n",
       "  })({\"config\": {\"view\": {\"continuousWidth\": 400, \"continuousHeight\": 300}}, \"layer\": [{\"mark\": \"errorband\", \"encoding\": {\"color\": {\"value\": \"blue\"}, \"x\": {\"field\": \"Year\", \"type\": \"quantitative\"}, \"y\": {\"field\": \"ci_low\", \"title\": \"\", \"type\": \"quantitative\"}, \"y2\": {\"field\": \"ci_high\"}}}, {\"mark\": \"line\", \"encoding\": {\"color\": {\"value\": \"blue\"}, \"x\": {\"field\": \"Year\", \"scale\": {\"zero\": false}, \"title\": \"Year\", \"type\": \"quantitative\"}, \"y\": {\"field\": \"overdose_per_100k\", \"scale\": {\"zero\": false}, \"title\": \"Overdoses per 100k Residents\", \"type\": \"quantitative\"}}, \"title\": \"Overdoses per 100k Residents - Washington\"}, {\"layer\": [{\"mark\": \"errorband\", \"encoding\": {\"color\": {\"value\": \"blue\"}, \"x\": {\"field\": \"Year\", \"type\": \"quantitative\"}, \"y\": {\"field\": \"ci_low\", \"title\": \"\", \"type\": \"quantitative\"}, \"y2\": {\"field\": \"ci_high\"}}}, {\"mark\": \"line\", \"encoding\": {\"color\": {\"value\": \"blue\"}, \"x\": {\"field\": \"Year\", \"scale\": {\"zero\": false}, \"title\": \"Year\", \"type\": \"quantitative\"}, \"y\": {\"field\": \"overdose_per_100k\", \"scale\": {\"zero\": false}, \"title\": \"Overdoses per 100k Residents\", \"type\": \"quantitative\"}}, \"title\": \"Overdoses per 100k Residents - Washington\"}], \"data\": {\"name\": \"data-5a8a1c3dbc4b01b3db2689edefd8225f\"}}, {\"data\": {\"name\": \"data-424a16bd626ddffb6ec885f6abd1efe5\"}, \"mark\": \"rule\", \"encoding\": {\"color\": {\"field\": \"color\", \"scale\": null, \"type\": \"nominal\"}, \"x\": {\"field\": \"Date\", \"type\": \"quantitative\"}}}], \"data\": {\"name\": \"data-4961f0a68c51a51b5ac15619e2657698\"}, \"height\": 500, \"width\": 700, \"$schema\": \"https://vega.github.io/schema/vega-lite/v4.17.0.json\", \"datasets\": {\"data-4961f0a68c51a51b5ac15619e2657698\": [{\"Year\": 2009.0, \"overdose_per_100k\": 10.6181559477767, \"ci_low\": 5.963761425945756, \"ci_high\": 15.272550469607644}, {\"Year\": 2009.03, \"overdose_per_100k\": 10.603961390184622, \"ci_low\": 6.009192582905781, \"ci_high\": 15.198730197463464}, {\"Year\": 2009.06, \"overdose_per_100k\": 10.589766832592545, \"ci_low\": 6.054179374390918, \"ci_high\": 15.125354290794172}, {\"Year\": 2009.09, \"overdose_per_100k\": 10.575572275000582, \"ci_low\": 6.098704177679438, \"ci_high\": 15.052440372321726}, {\"Year\": 2009.12, \"overdose_per_100k\": 10.561377717408504, \"ci_low\": 6.14274857458736, \"ci_high\": 14.980006860229649}, {\"Year\": 2009.1499999999999, \"overdose_per_100k\": 10.547183159816427, \"ci_low\": 6.186293317831243, \"ci_high\": 14.908073001801611}, {\"Year\": 2009.1799999999998, \"overdose_per_100k\": 10.53298860222435, \"ci_low\": 6.2293182968653, \"ci_high\": 14.8366589075834}, {\"Year\": 2009.2099999999998, \"overdose_per_100k\": 10.518794044632273, \"ci_low\": 6.271802503353468, \"ci_high\": 14.765785585911077}, {\"Year\": 2009.2399999999998, \"overdose_per_100k\": 10.504599487040196, \"ci_low\": 6.313723996487343, \"ci_high\": 14.695474977593047}, {\"Year\": 2009.2699999999998, \"overdose_per_100k\": 10.490404929448232, \"ci_low\": 6.355059868379654, \"ci_high\": 14.625749990516809}, {\"Year\": 2009.2999999999997, \"overdose_per_100k\": 10.476210371856155, \"ci_low\": 6.395786209829309, \"ci_high\": 14.556634533883}, {\"Year\": 2009.3299999999997, \"overdose_per_100k\": 10.462015814264078, \"ci_low\": 6.435878076783732, \"ci_high\": 14.488153551744423}, {\"Year\": 2009.3599999999997, \"overdose_per_100k\": 10.447821256672, \"ci_low\": 6.475309457893717, \"ci_high\": 14.420333055450284}, {\"Year\": 2009.3899999999996, \"overdose_per_100k\": 10.433626699079923, \"ci_low\": 6.514053243604602, \"ci_high\": 14.353200154555244}, {\"Year\": 2009.4199999999996, \"overdose_per_100k\": 10.419432141487846, \"ci_low\": 6.552081197306368, \"ci_high\": 14.286783085669324}, {\"Year\": 2009.4499999999996, \"overdose_per_100k\": 10.405237583895769, \"ci_low\": 6.589363929119099, \"ci_high\": 14.221111238672439}, {\"Year\": 2009.4799999999996, \"overdose_per_100k\": 10.391043026303805, \"ci_low\": 6.625870872983788, \"ci_high\": 14.156215179623821}, {\"Year\": 2009.5099999999995, \"overdose_per_100k\": 10.376848468711728, \"ci_low\": 6.661570267793379, \"ci_high\": 14.092126669630076}, {\"Year\": 2009.5399999999995, \"overdose_per_100k\": 10.36265391111965, \"ci_low\": 6.696429143397392, \"ci_high\": 14.02887867884191}, {\"Year\": 2009.5699999999995, \"overdose_per_100k\": 10.348459353527574, \"ci_low\": 6.730413312379682, \"ci_high\": 13.966505394675465}, {\"Year\": 2009.5999999999995, \"overdose_per_100k\": 10.334264795935496, \"ci_low\": 6.763487368619398, \"ci_high\": 13.905042223251595}, {\"Year\": 2009.6299999999994, \"overdose_per_100k\": 10.320070238343419, \"ci_low\": 6.795614693701213, \"ci_high\": 13.844525782985624}, {\"Year\": 2009.6599999999994, \"overdose_per_100k\": 10.305875680751456, \"ci_low\": 6.826757472347688, \"ci_high\": 13.784993889155224}, {\"Year\": 2009.6899999999994, \"overdose_per_100k\": 10.291681123159378, \"ci_low\": 6.856876718087838, \"ci_high\": 13.726485528230919}, {\"Year\": 2009.7199999999993, \"overdose_per_100k\": 10.277486565567301, \"ci_low\": 6.885932310463969, \"ci_high\": 13.669040820670634}, {\"Year\": 2009.7499999999993, \"overdose_per_100k\": 10.263292007975224, \"ci_low\": 6.9138830450853455, \"ci_high\": 13.612700970865102}, {\"Year\": 2009.7799999999993, \"overdose_per_100k\": 10.249097450383147, \"ci_low\": 6.940686697888534, \"ci_high\": 13.55750820287776}, {\"Year\": 2009.8099999999993, \"overdose_per_100k\": 10.23490289279107, \"ci_low\": 6.9663001049135636, \"ci_high\": 13.503505680668574}, {\"Year\": 2009.8399999999992, \"overdose_per_100k\": 10.220708335199106, \"ci_low\": 6.990679258893316, \"ci_high\": 13.450737411504896}, {\"Year\": 2009.8699999999992, \"overdose_per_100k\": 10.206513777607029, \"ci_low\": 7.01377942382787, \"ci_high\": 13.399248131386187}, {\"Year\": 2009.8999999999992, \"overdose_per_100k\": 10.192319220014951, \"ci_low\": 7.03555526859491, \"ci_high\": 13.349083171434993}, {\"Year\": 2009.9299999999992, \"overdose_per_100k\": 10.178124662422874, \"ci_low\": 7.0559610204383425, \"ci_high\": 13.300288304407406}, {\"Year\": 2009.9599999999991, \"overdose_per_100k\": 10.163930104830797, \"ci_low\": 7.074950638916882, \"ci_high\": 13.252909570744713}, {\"Year\": 2009.989999999999, \"overdose_per_100k\": 10.14973554723872, \"ci_low\": 7.0924780105719005, \"ci_high\": 13.20699308390554}, {\"Year\": 2010.019999999999, \"overdose_per_100k\": 10.135540989646756, \"ci_low\": 7.1084971641733, \"ci_high\": 13.162584815120212}, {\"Year\": 2010.049999999999, \"overdose_per_100k\": 10.121346432054679, \"ci_low\": 7.122962505949078, \"ci_high\": 13.119730358160279}, {\"Year\": 2010.079999999999, \"overdose_per_100k\": 10.107151874462602, \"ci_low\": 7.135829073674617, \"ci_high\": 13.078474675250586}, {\"Year\": 2010.109999999999, \"overdose_per_100k\": 10.092957316870525, \"ci_low\": 7.147052807929633, \"ci_high\": 13.038861825811416}, {\"Year\": 2010.139999999999, \"overdose_per_100k\": 10.078762759278447, \"ci_low\": 7.1565908382108105, \"ci_high\": 13.000934680346084}, {\"Year\": 2010.169999999999, \"overdose_per_100k\": 10.06456820168637, \"ci_low\": 7.1644017809588325, \"ci_high\": 12.964734622413907}, {\"Year\": 2010.199999999999, \"overdose_per_100k\": 10.050373644094407, \"ci_low\": 7.170446045921731, \"ci_high\": 12.930301242267081}, {\"Year\": 2010.2299999999989, \"overdose_per_100k\": 10.03617908650233, \"ci_low\": 7.174686146675412, \"ci_high\": 12.897672026329246}, {\"Year\": 2010.2599999999989, \"overdose_per_100k\": 10.021984528910252, \"ci_low\": 7.177087010579568, \"ci_high\": 12.866882047240937}, {\"Year\": 2010.2899999999988, \"overdose_per_100k\": 10.007789971318175, \"ci_low\": 7.1776162829925845, \"ci_high\": 12.837963659643766}, {\"Year\": 2010.3199999999988, \"overdose_per_100k\": 9.993595413726098, \"ci_low\": 7.176244620243242, \"ci_high\": 12.810946207208953}, {\"Year\": 2010.3499999999988, \"overdose_per_100k\": 9.97940085613402, \"ci_low\": 7.172945965680881, \"ci_high\": 12.78585574658716}, {\"Year\": 2010.3799999999987, \"overdose_per_100k\": 9.965206298541943, \"ci_low\": 7.167697803126815, \"ci_high\": 12.762714793957072}, {\"Year\": 2010.4099999999987, \"overdose_per_100k\": 9.95101174094998, \"ci_low\": 7.160481382245131, \"ci_high\": 12.74154209965483}, {\"Year\": 2010.4399999999987, \"overdose_per_100k\": 9.936817183357903, \"ci_low\": 7.151281910748978, \"ci_high\": 12.722352455966828}, {\"Year\": 2010.4699999999987, \"overdose_per_100k\": 9.922622625765825, \"ci_low\": 7.140088708954481, \"ci_high\": 12.70515654257717}, {\"Year\": 2010.4999999999986, \"overdose_per_100k\": 9.908428068173748, \"ci_low\": 7.126895322972981, \"ci_high\": 12.689960813374515}, {\"Year\": 2010.5299999999986, \"overdose_per_100k\": 9.894233510581671, \"ci_low\": 7.1116995937705045, \"ci_high\": 12.676767427392837}, {\"Year\": 2010.5599999999986, \"overdose_per_100k\": 9.880038952989594, \"ci_low\": 7.094503680380999, \"ci_high\": 12.665574225598188}, {\"Year\": 2010.5899999999986, \"overdose_per_100k\": 9.86584439539763, \"ci_low\": 7.075314036693277, \"ci_high\": 12.656374754101982}, {\"Year\": 2010.6199999999985, \"overdose_per_100k\": 9.851649837805553, \"ci_low\": 7.054141342391037, \"ci_high\": 12.649158333220068}, {\"Year\": 2010.6499999999985, \"overdose_per_100k\": 9.837455280213476, \"ci_low\": 7.031000389761086, \"ci_high\": 12.643910170665865}, {\"Year\": 2010.6799999999985, \"overdose_per_100k\": 9.823260722621399, \"ci_low\": 7.005909929139477, \"ci_high\": 12.64061151610332}, {\"Year\": 2010.7099999999984, \"overdose_per_100k\": 9.809066165029321, \"ci_low\": 6.978892476704939, \"ci_high\": 12.639239853353704}, {\"Year\": 2010.7399999999984, \"overdose_per_100k\": 9.794871607437244, \"ci_low\": 6.949974089107947, \"ci_high\": 12.639769125766541}, {\"Year\": 2010.7699999999984, \"overdose_per_100k\": 9.78067704984528, \"ci_low\": 6.919184110019835, \"ci_high\": 12.642169989670727}, {\"Year\": 2010.7999999999984, \"overdose_per_100k\": 9.766482492253203, \"ci_low\": 6.8865548940820815, \"ci_high\": 12.646410090424325}, {\"Year\": 2010.8299999999983, \"overdose_per_100k\": 9.752287934661126, \"ci_low\": 6.852121513935222, \"ci_high\": 12.65245435538703}, {\"Year\": 2010.8599999999983, \"overdose_per_100k\": 9.738093377069049, \"ci_low\": 6.815921456003123, \"ci_high\": 12.660265298134975}, {\"Year\": 2010.8899999999983, \"overdose_per_100k\": 9.723898819476972, \"ci_low\": 6.777994310537867, \"ci_high\": 12.669803328416076}, {\"Year\": 2010.9199999999983, \"overdose_per_100k\": 9.709704261884895, \"ci_low\": 6.738381461098857, \"ci_high\": 12.681027062670932}, {\"Year\": 2010.9499999999982, \"overdose_per_100k\": 9.695509704292931, \"ci_low\": 6.697125778189436, \"ci_high\": 12.693893630396426}, {\"Year\": 2010.9799999999982, \"overdose_per_100k\": 9.681315146700854, \"ci_low\": 6.654271321229832, \"ci_high\": 12.708358972171876}, {\"Year\": 2011.0099999999982, \"overdose_per_100k\": 9.667120589108777, \"ci_low\": 6.609863052444366, \"ci_high\": 12.724378125773187}, {\"Year\": 2011.0399999999981, \"overdose_per_100k\": 9.6529260315167, \"ci_low\": 6.56394656560551, \"ci_high\": 12.74190549742789}, {\"Year\": 2011.0699999999981, \"overdose_per_100k\": 9.638731473924622, \"ci_low\": 6.516567831942787, \"ci_high\": 12.760895115906457}, {\"Year\": 2011.099999999998, \"overdose_per_100k\": 9.624536916332545, \"ci_low\": 6.467772964915338, \"ci_high\": 12.781300867749753}, {\"Year\": 2011.129999999998, \"overdose_per_100k\": 9.610342358740468, \"ci_low\": 6.417608004964276, \"ci_high\": 12.80307671251666}, {\"Year\": 2011.159999999998, \"overdose_per_100k\": 9.596147801148504, \"ci_low\": 6.366118724845808, \"ci_high\": 12.8261768774512}, {\"Year\": 2011.189999999998, \"overdose_per_100k\": 9.581953243556427, \"ci_low\": 6.313350455682141, \"ci_high\": 12.850556031430713}, {\"Year\": 2011.219999999998, \"overdose_per_100k\": 9.56775868596435, \"ci_low\": 6.259347933472917, \"ci_high\": 12.876169438455783}, {\"Year\": 2011.249999999998, \"overdose_per_100k\": 9.553564128372273, \"ci_low\": 6.204155165486007, \"ci_high\": 12.902973091258538}, {\"Year\": 2011.279999999998, \"overdose_per_100k\": 9.539369570780195, \"ci_low\": 6.147815315680276, \"ci_high\": 12.930923825880114}, {\"Year\": 2011.309999999998, \"overdose_per_100k\": 9.525175013188118, \"ci_low\": 6.090370608120255, \"ci_high\": 12.959979418255982}, {\"Year\": 2011.3399999999979, \"overdose_per_100k\": 9.510980455596155, \"ci_low\": 6.031862247196017, \"ci_high\": 12.990098663996292}, {\"Year\": 2011.3699999999978, \"overdose_per_100k\": 9.496785898004077, \"ci_low\": 5.972330353365753, \"ci_high\": 13.021241442642403}, {\"Year\": 2011.3999999999978, \"overdose_per_100k\": 9.482591340412, \"ci_low\": 5.911813913099733, \"ci_high\": 13.053368767724267}, {\"Year\": 2011.4299999999978, \"overdose_per_100k\": 9.468396782819923, \"ci_low\": 5.850350741676103, \"ci_high\": 13.086442823963743}, {\"Year\": 2011.4599999999978, \"overdose_per_100k\": 9.454202225227846, \"ci_low\": 5.787977457509319, \"ci_high\": 13.120426992946372}, {\"Year\": 2011.4899999999977, \"overdose_per_100k\": 9.440007667635768, \"ci_low\": 5.7247294667216675, \"ci_high\": 13.15528586854987}, {\"Year\": 2011.5199999999977, \"overdose_per_100k\": 9.425813110043805, \"ci_low\": 5.660640956727701, \"ci_high\": 13.19098526335991}, {\"Year\": 2011.5499999999977, \"overdose_per_100k\": 9.411618552451728, \"ci_low\": 5.595744897679195, \"ci_high\": 13.22749220722426}, {\"Year\": 2011.5799999999977, \"overdose_per_100k\": 9.39742399485965, \"ci_low\": 5.530073050682254, \"ci_high\": 13.264774939037046}, {\"Year\": 2011.6099999999976, \"overdose_per_100k\": 9.383229437267573, \"ci_low\": 5.463655981796548, \"ci_high\": 13.302802892738598}, {\"Year\": 2011.6399999999976, \"overdose_per_100k\": 9.369034879675496, \"ci_low\": 5.396523080901451, \"ci_high\": 13.341546678449541}, {\"Year\": 2011.6699999999976, \"overdose_per_100k\": 9.354840322083419, \"ci_low\": 5.328702584607778, \"ci_high\": 13.380978059559059}, {\"Year\": 2011.6999999999975, \"overdose_per_100k\": 9.340645764491455, \"ci_low\": 5.260221602469252, \"ci_high\": 13.42106992651366}, {\"Year\": 2011.7299999999975, \"overdose_per_100k\": 9.326451206899378, \"ci_low\": 5.1911061458353815, \"ci_high\": 13.461796267963376}, {\"Year\": 2011.7599999999975, \"overdose_per_100k\": 9.312256649307301, \"ci_low\": 5.121381158758968, \"ci_high\": 13.503132139855634}, {\"Year\": 2011.7899999999975, \"overdose_per_100k\": 9.298062091715224, \"ci_low\": 5.051070550441375, \"ci_high\": 13.545053632989072}, {\"Year\": 2011.8199999999974, \"overdose_per_100k\": 9.283867534123146, \"ci_low\": 4.980197228768742, \"ci_high\": 13.587537839477552}, {\"Year\": 2011.8499999999974, \"overdose_per_100k\": 9.26967297653107, \"ci_low\": 4.908783134550711, \"ci_high\": 13.630562818511429}, {\"Year\": 2011.8799999999974, \"overdose_per_100k\": 9.255478418938992, \"ci_low\": 4.836849276122611, \"ci_high\": 13.674107561755374}, {\"Year\": 2011.9099999999974, \"overdose_per_100k\": 9.241283861347029, \"ci_low\": 4.764415764030821, \"ci_high\": 13.718151958663235}, {\"Year\": 2011.9399999999973, \"overdose_per_100k\": 9.227089303754951, \"ci_low\": 4.691501845558196, \"ci_high\": 13.762676761951706}, {\"Year\": 2011.9699999999973, \"overdose_per_100k\": 9.212894746162874, \"ci_low\": 4.618125938889071, \"ci_high\": 13.807663553436676}, {\"Year\": 2011.9999999999973, \"overdose_per_100k\": 9.198700188570797, \"ci_low\": 4.544305666745053, \"ci_high\": 13.85309471039654}], \"data-5a8a1c3dbc4b01b3db2689edefd8225f\": [{\"Year\": 2012.0, \"overdose_per_100k\": 9.22774014095171, \"ci_low\": 8.318612655640948, \"ci_high\": 10.136867626262472}, {\"Year\": 2012.03, \"overdose_per_100k\": 9.241162633097133, \"ci_low\": 8.34368164136429, \"ci_high\": 10.138643624829976}, {\"Year\": 2012.06, \"overdose_per_100k\": 9.254585125242443, \"ci_low\": 8.368663830649272, \"ci_high\": 10.140506419835614}, {\"Year\": 2012.09, \"overdose_per_100k\": 9.268007617387866, \"ci_low\": 8.393555781307981, \"ci_high\": 10.142459453467751}, {\"Year\": 2012.12, \"overdose_per_100k\": 9.28143010953329, \"ci_low\": 8.418353895777576, \"ci_high\": 10.144506323289002}, {\"Year\": 2012.1499999999999, \"overdose_per_100k\": 9.294852601678713, \"ci_low\": 8.44305441454985, \"ci_high\": 10.146650788807575}, {\"Year\": 2012.1799999999998, \"overdose_per_100k\": 9.308275093824022, \"ci_low\": 8.46765340949832, \"ci_high\": 10.148896778149725}, {\"Year\": 2012.2099999999998, \"overdose_per_100k\": 9.321697585969446, \"ci_low\": 8.49214677713426, \"ci_high\": 10.151248394804632}, {\"Year\": 2012.2399999999998, \"overdose_per_100k\": 9.335120078114869, \"ci_low\": 8.516530231832038, \"ci_high\": 10.1537099243977}, {\"Year\": 2012.2699999999998, \"overdose_per_100k\": 9.348542570260292, \"ci_low\": 8.540799299070143, \"ci_high\": 10.156285841450442}, {\"Year\": 2012.2999999999997, \"overdose_per_100k\": 9.361965062405602, \"ci_low\": 8.564949308742845, \"ci_high\": 10.15898081606836}, {\"Year\": 2012.3299999999997, \"overdose_per_100k\": 9.375387554551025, \"ci_low\": 8.588975388611413, \"ci_high\": 10.161799720490638}, {\"Year\": 2012.3599999999997, \"overdose_per_100k\": 9.388810046696449, \"ci_low\": 8.612872457964793, \"ci_high\": 10.164747635428105}, {\"Year\": 2012.3899999999996, \"overdose_per_100k\": 9.402232538841872, \"ci_low\": 8.63663522158347, \"ci_high\": 10.167829856100274}, {\"Year\": 2012.4199999999996, \"overdose_per_100k\": 9.415655030987182, \"ci_low\": 8.660258164103597, \"ci_high\": 10.171051897870766}, {\"Year\": 2012.4499999999996, \"overdose_per_100k\": 9.429077523132605, \"ci_low\": 8.683735544897392, \"ci_high\": 10.174419501367819}, {\"Year\": 2012.4799999999996, \"overdose_per_100k\": 9.442500015278029, \"ci_low\": 8.707061393597606, \"ci_high\": 10.177938636958451}, {\"Year\": 2012.5099999999995, \"overdose_per_100k\": 9.455922507423452, \"ci_low\": 8.730229506412288, \"ci_high\": 10.181615508434616}, {\"Year\": 2012.5399999999995, \"overdose_per_100k\": 9.469344999568762, \"ci_low\": 8.753233443390801, \"ci_high\": 10.185456555746722}, {\"Year\": 2012.5699999999995, \"overdose_per_100k\": 9.482767491714185, \"ci_low\": 8.77606652681855, \"ci_high\": 10.18946845660982}, {\"Year\": 2012.5999999999995, \"overdose_per_100k\": 9.496189983859608, \"ci_low\": 8.798721840934933, \"ci_high\": 10.193658126784284}, {\"Year\": 2012.6299999999994, \"overdose_per_100k\": 9.509612476005032, \"ci_low\": 8.8211922331861, \"ci_high\": 10.198032718823963}, {\"Year\": 2012.6599999999994, \"overdose_per_100k\": 9.523034968150455, \"ci_low\": 8.843470317238763, \"ci_high\": 10.202599619062147}, {\"Year\": 2012.6899999999994, \"overdose_per_100k\": 9.536457460295765, \"ci_low\": 8.865548477994771, \"ci_high\": 10.207366442596758}, {\"Year\": 2012.7199999999993, \"overdose_per_100k\": 9.549879952441188, \"ci_low\": 8.887418878857677, \"ci_high\": 10.2123410260247}, {\"Year\": 2012.7499999999993, \"overdose_per_100k\": 9.563302444586611, \"ci_low\": 8.909073471510476, \"ci_high\": 10.217531417662746}, {\"Year\": 2012.7799999999993, \"overdose_per_100k\": 9.576724936732035, \"ci_low\": 8.930504008466118, \"ci_high\": 10.222945864997952}, {\"Year\": 2012.8099999999993, \"overdose_per_100k\": 9.590147428877344, \"ci_low\": 8.951702058651268, \"ci_high\": 10.22859279910342}, {\"Year\": 2012.8399999999992, \"overdose_per_100k\": 9.603569921022768, \"ci_low\": 8.972659026272066, \"ci_high\": 10.23448081577347}, {\"Year\": 2012.8699999999992, \"overdose_per_100k\": 9.616992413168191, \"ci_low\": 8.993366173193749, \"ci_high\": 10.240618653142633}, {\"Year\": 2012.8999999999992, \"overdose_per_100k\": 9.630414905313614, \"ci_low\": 9.013814645037918, \"ci_high\": 10.24701516558931}, {\"Year\": 2012.9299999999992, \"overdose_per_100k\": 9.643837397458924, \"ci_low\": 9.033995501163613, \"ci_high\": 10.253679293754235}, {\"Year\": 2012.9599999999991, \"overdose_per_100k\": 9.657259889604347, \"ci_low\": 9.053899748643932, \"ci_high\": 10.260620030564763}, {\"Year\": 2012.989999999999, \"overdose_per_100k\": 9.67068238174977, \"ci_low\": 9.073518380289379, \"ci_high\": 10.267846383210163}, {\"Year\": 2013.019999999999, \"overdose_per_100k\": 9.684104873895194, \"ci_low\": 9.092842416691704, \"ci_high\": 10.275367331098684}, {\"Year\": 2013.049999999999, \"overdose_per_100k\": 9.697527366040504, \"ci_low\": 9.11186295217018, \"ci_high\": 10.283191779910828}, {\"Year\": 2013.079999999999, \"overdose_per_100k\": 9.710949858185927, \"ci_low\": 9.130571204402436, \"ci_high\": 10.291328511969418}, {\"Year\": 2013.109999999999, \"overdose_per_100k\": 9.72437235033135, \"ci_low\": 9.148958567407552, \"ci_high\": 10.299786133255148}, {\"Year\": 2013.139999999999, \"overdose_per_100k\": 9.737794842476774, \"ci_low\": 9.167016667431902, \"ci_high\": 10.308573017521645}, {\"Year\": 2013.169999999999, \"overdose_per_100k\": 9.751217334622083, \"ci_low\": 9.18473742116171, \"ci_high\": 10.317697248082457}, {\"Year\": 2013.199999999999, \"overdose_per_100k\": 9.764639826767507, \"ci_low\": 9.202113095564155, \"ci_high\": 10.327166557970859}, {\"Year\": 2013.2299999999989, \"overdose_per_100k\": 9.77806231891293, \"ci_low\": 9.21913636854001, \"ci_high\": 10.33698826928585}, {\"Year\": 2013.2599999999989, \"overdose_per_100k\": 9.791484811058353, \"ci_low\": 9.235800389466483, \"ci_high\": 10.347169232650224}, {\"Year\": 2013.2899999999988, \"overdose_per_100k\": 9.804907303203777, \"ci_low\": 9.25209883861844, \"ci_high\": 10.357715767789113}, {\"Year\": 2013.3199999999988, \"overdose_per_100k\": 9.818329795349086, \"ci_low\": 9.268025984393528, \"ci_high\": 10.368633606304645}, {\"Year\": 2013.3499999999988, \"overdose_per_100k\": 9.83175228749451, \"ci_low\": 9.283576737232663, \"ci_high\": 10.379927837756357}, {\"Year\": 2013.3799999999987, \"overdose_per_100k\": 9.845174779639933, \"ci_low\": 9.298746699124983, \"ci_high\": 10.391602860154883}, {\"Year\": 2013.4099999999987, \"overdose_per_100k\": 9.858597271785356, \"ci_low\": 9.313532207629404, \"ci_high\": 10.40366233594131}, {\"Year\": 2013.4399999999987, \"overdose_per_100k\": 9.872019763930666, \"ci_low\": 9.327930373417407, \"ci_high\": 10.416109154443925}, {\"Year\": 2013.4699999999987, \"overdose_per_100k\": 9.88544225607609, \"ci_low\": 9.34193911046188, \"ci_high\": 10.4289454016903}, {\"Year\": 2013.4999999999986, \"overdose_per_100k\": 9.898864748221513, \"ci_low\": 9.35555715814598, \"ci_high\": 10.442172338297045}, {\"Year\": 2013.5299999999986, \"overdose_per_100k\": 9.912287240366936, \"ci_low\": 9.36878409475275, \"ci_high\": 10.455790385981123}, {\"Year\": 2013.5599999999986, \"overdose_per_100k\": 9.925709732512246, \"ci_low\": 9.381620341999035, \"ci_high\": 10.469799123025457}, {\"Year\": 2013.5899999999986, \"overdose_per_100k\": 9.93913222465767, \"ci_low\": 9.394067160501791, \"ci_high\": 10.484197288813547}, {\"Year\": 2013.6199999999985, \"overdose_per_100k\": 9.952554716803093, \"ci_low\": 9.40612663628824, \"ci_high\": 10.498982797317945}, {\"Year\": 2013.6499999999985, \"overdose_per_100k\": 9.965977208948516, \"ci_low\": 9.41780165868679, \"ci_high\": 10.514152759210242}, {\"Year\": 2013.6799999999985, \"overdose_per_100k\": 9.979399701093826, \"ci_low\": 9.429095890138433, \"ci_high\": 10.529703512049219}, {\"Year\": 2013.7099999999984, \"overdose_per_100k\": 9.992822193239249, \"ci_low\": 9.44001372865409, \"ci_high\": 10.545630657824407}, {\"Year\": 2013.7399999999984, \"overdose_per_100k\": 10.006244685384672, \"ci_low\": 9.450560263792994, \"ci_high\": 10.56192910697635}, {\"Year\": 2013.7699999999984, \"overdose_per_100k\": 10.019667177530096, \"ci_low\": 9.460741227157396, \"ci_high\": 10.578593127902796}, {\"Year\": 2013.7999999999984, \"overdose_per_100k\": 10.033089669675405, \"ci_low\": 9.470562938472273, \"ci_high\": 10.595616400878537}, {\"Year\": 2013.8299999999983, \"overdose_per_100k\": 10.046512161820829, \"ci_low\": 9.480032248360688, \"ci_high\": 10.61299207528097}, {\"Year\": 2013.8599999999983, \"overdose_per_100k\": 10.059934653966252, \"ci_low\": 9.489156478921668, \"ci_high\": 10.630712829010836}, {\"Year\": 2013.8899999999983, \"overdose_per_100k\": 10.073357146111675, \"ci_low\": 9.497943363188135, \"ci_high\": 10.648770929035216}, {\"Year\": 2013.9199999999983, \"overdose_per_100k\": 10.086779638256985, \"ci_low\": 9.506400984473835, \"ci_high\": 10.667158292040135}, {\"Year\": 2013.9499999999982, \"overdose_per_100k\": 10.100202130402408, \"ci_low\": 9.514537716532422, \"ci_high\": 10.685866544272395}, {\"Year\": 2013.9799999999982, \"overdose_per_100k\": 10.113624622547832, \"ci_low\": 9.522362165344731, \"ci_high\": 10.704887079750932}, {\"Year\": 2014.0099999999982, \"overdose_per_100k\": 10.127047114693255, \"ci_low\": 9.52988311323322, \"ci_high\": 10.72421111615329}, {\"Year\": 2014.0399999999981, \"overdose_per_100k\": 10.140469606838678, \"ci_low\": 9.537109465878672, \"ci_high\": 10.743829747798685}, {\"Year\": 2014.0699999999981, \"overdose_per_100k\": 10.153892098983988, \"ci_low\": 9.544050202689109, \"ci_high\": 10.763733995278868}, {\"Year\": 2014.099999999998, \"overdose_per_100k\": 10.167314591129411, \"ci_low\": 9.550714330854168, \"ci_high\": 10.783914851404655}, {\"Year\": 2014.129999999998, \"overdose_per_100k\": 10.180737083274835, \"ci_low\": 9.557110843300816, \"ci_high\": 10.804363323248854}, {\"Year\": 2014.159999999998, \"overdose_per_100k\": 10.194159575420258, \"ci_low\": 9.563248680670078, \"ci_high\": 10.825070470170438}, {\"Year\": 2014.189999999998, \"overdose_per_100k\": 10.207582067565568, \"ci_low\": 9.569136697339955, \"ci_high\": 10.84602743779118}, {\"Year\": 2014.219999999998, \"overdose_per_100k\": 10.221004559710991, \"ci_low\": 9.574783631445584, \"ci_high\": 10.867225487976398}, {\"Year\": 2014.249999999998, \"overdose_per_100k\": 10.234427051856414, \"ci_low\": 9.580198078780782, \"ci_high\": 10.888656024932047}, {\"Year\": 2014.279999999998, \"overdose_per_100k\": 10.247849544001838, \"ci_low\": 9.585388470418874, \"ci_high\": 10.910310617584802}, {\"Year\": 2014.309999999998, \"overdose_per_100k\": 10.261272036147147, \"ci_low\": 9.590363053846644, \"ci_high\": 10.93218101844765}, {\"Year\": 2014.3399999999979, \"overdose_per_100k\": 10.27469452829257, \"ci_low\": 9.59512987738146, \"ci_high\": 10.954259179203682}, {\"Year\": 2014.3699999999978, \"overdose_per_100k\": 10.288117020437994, \"ci_low\": 9.599696777619588, \"ci_high\": 10.9765372632564}, {\"Year\": 2014.3999999999978, \"overdose_per_100k\": 10.301539512583417, \"ci_low\": 9.604071369659355, \"ci_high\": 10.99900765550748}, {\"Year\": 2014.4299999999978, \"overdose_per_100k\": 10.314962004728727, \"ci_low\": 9.608261039833698, \"ci_high\": 11.021662969623756}, {\"Year\": 2014.4599999999978, \"overdose_per_100k\": 10.32838449687415, \"ci_low\": 9.612272940696787, \"ci_high\": 11.044496053051514}, {\"Year\": 2014.4899999999977, \"overdose_per_100k\": 10.341806989019574, \"ci_low\": 9.616113988008998, \"ci_high\": 11.06749999003015}, {\"Year\": 2014.5199999999977, \"overdose_per_100k\": 10.355229481164997, \"ci_low\": 9.619790859485155, \"ci_high\": 11.09066810284484}, {\"Year\": 2014.5499999999977, \"overdose_per_100k\": 10.368651973310307, \"ci_low\": 9.623309995075754, \"ci_high\": 11.11399395154486}, {\"Year\": 2014.5799999999977, \"overdose_per_100k\": 10.38207446545573, \"ci_low\": 9.626677598572755, \"ci_high\": 11.137471332338706}, {\"Year\": 2014.6099999999976, \"overdose_per_100k\": 10.395496957601154, \"ci_low\": 9.629899640343394, \"ci_high\": 11.161094274858913}, {\"Year\": 2014.6399999999976, \"overdose_per_100k\": 10.408919449746577, \"ci_low\": 9.6329818610156, \"ci_high\": 11.184857038477555}, {\"Year\": 2014.6699999999976, \"overdose_per_100k\": 10.422341941892, \"ci_low\": 9.635929775953098, \"ci_high\": 11.208754107830902}, {\"Year\": 2014.6999999999975, \"overdose_per_100k\": 10.43576443403731, \"ci_low\": 9.638748680375254, \"ci_high\": 11.232780187699365}, {\"Year\": 2014.7299999999975, \"overdose_per_100k\": 10.449186926182733, \"ci_low\": 9.641443654993235, \"ci_high\": 11.256930197372231}, {\"Year\": 2014.7599999999975, \"overdose_per_100k\": 10.462609418328157, \"ci_low\": 9.64401957204613, \"ci_high\": 11.281199264610184}, {\"Year\": 2014.7899999999975, \"overdose_per_100k\": 10.47603191047358, \"ci_low\": 9.646481101639107, \"ci_high\": 11.305582719308052}, {\"Year\": 2014.8199999999974, \"overdose_per_100k\": 10.48945440261889, \"ci_low\": 9.648832718293892, \"ci_high\": 11.330076086943887}, {\"Year\": 2014.8499999999974, \"overdose_per_100k\": 10.502876894764313, \"ci_low\": 9.6510787076363, \"ci_high\": 11.354675081892326}, {\"Year\": 2014.8799999999974, \"overdose_per_100k\": 10.516299386909736, \"ci_low\": 9.653223173154785, \"ci_high\": 11.379375600664687}, {\"Year\": 2014.9099999999974, \"overdose_per_100k\": 10.52972187905516, \"ci_low\": 9.655270042976102, \"ci_high\": 11.404173715134217}, {\"Year\": 2014.9399999999973, \"overdose_per_100k\": 10.54314437120047, \"ci_low\": 9.657223076607966, \"ci_high\": 11.429065665792972}, {\"Year\": 2014.9699999999973, \"overdose_per_100k\": 10.556566863345893, \"ci_low\": 9.659085871613781, \"ci_high\": 11.454047855078004}, {\"Year\": 2014.9999999999973, \"overdose_per_100k\": 10.569989355491316, \"ci_low\": 9.660861870181277, \"ci_high\": 11.479116840801355}], \"data-424a16bd626ddffb6ec885f6abd1efe5\": [{\"Date\": 2012, \"color\": \"black\"}]}}, {\"mode\": \"vega-lite\"});\n",
       "</script>"
      ],
      "text/plain": [
       "alt.LayerChart(...)"
      ]
     },
     "execution_count": 82,
     "metadata": {},
     "output_type": "execute_result"
    }
   ],
   "source": [
    "fit_wa_b4, reg_chart_wa_b4 = get_reg_fit(\n",
    "    wa_b4, yvar=\"overdose_per_100k\", xvar=\"Year\", color=\"blue\", title= \"Overdoses per 100k Residents - Washington\", alpha=0.05\n",
    ")\n",
    "\n",
    "\n",
    "fit_wa_b4, reg_chart_wa_after = get_reg_fit(\n",
    "    wa_after, yvar=\"overdose_per_100k\", xvar=\"Year\", color=\"blue\", title= \"Overdoses per 100k Residents - Washington\",alpha=0.05\n",
    ")\n",
    "(reg_chart_wa_b4 + reg_chart_wa_after + line).properties(width=700, height=500)"
   ]
  },
  {
   "cell_type": "code",
   "execution_count": null,
   "metadata": {},
   "outputs": [],
   "source": []
  },
  {
   "cell_type": "code",
   "execution_count": null,
   "metadata": {},
   "outputs": [],
   "source": []
  },
  {
   "cell_type": "code",
   "execution_count": null,
   "metadata": {},
   "outputs": [],
   "source": []
  },
  {
   "cell_type": "code",
   "execution_count": null,
   "metadata": {},
   "outputs": [],
   "source": []
  },
  {
   "cell_type": "code",
   "execution_count": null,
   "metadata": {},
   "outputs": [],
   "source": []
  },
  {
   "cell_type": "code",
   "execution_count": null,
   "metadata": {},
   "outputs": [],
   "source": []
  },
  {
   "cell_type": "code",
   "execution_count": null,
   "metadata": {},
   "outputs": [],
   "source": []
  },
  {
   "cell_type": "code",
   "execution_count": null,
   "metadata": {},
   "outputs": [],
   "source": []
  },
  {
   "cell_type": "code",
   "execution_count": null,
   "metadata": {},
   "outputs": [],
   "source": []
  },
  {
   "cell_type": "code",
   "execution_count": null,
   "metadata": {},
   "outputs": [],
   "source": []
  },
  {
   "cell_type": "code",
   "execution_count": 17,
   "metadata": {},
   "outputs": [],
   "source": [
    "def get_reg_fit(data, yvar, xvar, alpha=0.05):\n",
    "    import statsmodels.formula.api as smf\n",
    "\n",
    "    # Grid for predicted values\n",
    "    x = data.loc[pd.notnull(data[yvar]), xvar]\n",
    "    xmin = x.min()\n",
    "    xmax = x.max()\n",
    "    step = (xmax - xmin) / 100\n",
    "    grid = np.arange(xmin, xmax + step, step)\n",
    "    predictions = pd.DataFrame({xvar: grid})\n",
    "\n",
    "    # Fit model, get predictions\n",
    "    model = smf.ols(f\"{yvar} ~ {xvar}\", data=data).fit()\n",
    "    model_predict = model.get_prediction(predictions[xvar])\n",
    "    predictions[yvar] = model_predict.summary_frame()[\"mean\"]\n",
    "    predictions[[\"ci_low\", \"ci_high\"]] = model_predict.conf_int(alpha=alpha)\n",
    "\n",
    "    # Build chart\n",
    "    reg = alt.Chart(predictions).mark_line().encode(x=xvar, y=yvar)\n",
    "    ci = (\n",
    "        alt.Chart(predictions)\n",
    "        .mark_errorband()\n",
    "        .encode(\n",
    "            x=xvar,\n",
    "            y=alt.Y(\"ci_low\", title=yvar),\n",
    "            y2=\"ci_high\",\n",
    "        )\n",
    "    )\n",
    "    chart = ci + reg\n",
    "    return predictions, chart"
   ]
  },
  {
   "cell_type": "code",
   "execution_count": 18,
   "metadata": {},
   "outputs": [],
   "source": [
    "wa_deaths.groupby(\"Year\")[\"overdose_per_100k\"].agg([np.mean, np.std])\n",
    "\n",
    "wa_deaths_b4 = wa_deaths[wa_deaths[\"Year\"] < 2012]\n",
    "wa_deaths_after = wa_deaths[wa_deaths[\"Year\"] >= 2012]"
   ]
  },
  {
   "cell_type": "code",
   "execution_count": 19,
   "metadata": {},
   "outputs": [],
   "source": [
    "source_data = wa_deaths_b4\n",
    "\n",
    "plot_b4 = (\n",
    "    alt.Chart(source_data)\n",
    "    .mark_point()\n",
    "    .encode(\n",
    "        x=alt.X(\"Year:O\", scale=alt.Scale(zero=False)),\n",
    "        y=alt.Y(\"mean_overdose:Q\", scale=alt.Scale(zero=False)),\n",
    "    ).transform_aggregate(\n",
    "        mean_overdose='mean(overdose_per_100k)',\n",
    "        groupby=[\"Year\"]\n",
    "    )\n",
    ")\n"
   ]
  },
  {
   "cell_type": "code",
   "execution_count": 20,
   "metadata": {},
   "outputs": [
    {
     "data": {
      "text/html": [
       "<div>\n",
       "<style scoped>\n",
       "    .dataframe tbody tr th:only-of-type {\n",
       "        vertical-align: middle;\n",
       "    }\n",
       "\n",
       "    .dataframe tbody tr th {\n",
       "        vertical-align: top;\n",
       "    }\n",
       "\n",
       "    .dataframe thead th {\n",
       "        text-align: right;\n",
       "    }\n",
       "</style>\n",
       "<table border=\"1\" class=\"dataframe\">\n",
       "  <thead>\n",
       "    <tr style=\"text-align: right;\">\n",
       "      <th></th>\n",
       "      <th>Year</th>\n",
       "      <th>overdose_per_100k</th>\n",
       "      <th>ci_low</th>\n",
       "      <th>ci_high</th>\n",
       "    </tr>\n",
       "  </thead>\n",
       "  <tbody>\n",
       "    <tr>\n",
       "      <th>0</th>\n",
       "      <td>2009.00</td>\n",
       "      <td>10.727850</td>\n",
       "      <td>8.276828</td>\n",
       "      <td>13.178872</td>\n",
       "    </tr>\n",
       "    <tr>\n",
       "      <th>1</th>\n",
       "      <td>2009.02</td>\n",
       "      <td>10.714553</td>\n",
       "      <td>8.292829</td>\n",
       "      <td>13.136277</td>\n",
       "    </tr>\n",
       "    <tr>\n",
       "      <th>2</th>\n",
       "      <td>2009.04</td>\n",
       "      <td>10.701256</td>\n",
       "      <td>8.308596</td>\n",
       "      <td>13.093917</td>\n",
       "    </tr>\n",
       "    <tr>\n",
       "      <th>3</th>\n",
       "      <td>2009.06</td>\n",
       "      <td>10.687960</td>\n",
       "      <td>8.324120</td>\n",
       "      <td>13.051799</td>\n",
       "    </tr>\n",
       "    <tr>\n",
       "      <th>4</th>\n",
       "      <td>2009.08</td>\n",
       "      <td>10.674663</td>\n",
       "      <td>8.339392</td>\n",
       "      <td>13.009934</td>\n",
       "    </tr>\n",
       "    <tr>\n",
       "      <th>...</th>\n",
       "      <td>...</td>\n",
       "      <td>...</td>\n",
       "      <td>...</td>\n",
       "      <td>...</td>\n",
       "    </tr>\n",
       "    <tr>\n",
       "      <th>96</th>\n",
       "      <td>2010.92</td>\n",
       "      <td>9.451360</td>\n",
       "      <td>7.161613</td>\n",
       "      <td>11.741107</td>\n",
       "    </tr>\n",
       "    <tr>\n",
       "      <th>97</th>\n",
       "      <td>2010.94</td>\n",
       "      <td>9.438063</td>\n",
       "      <td>7.120173</td>\n",
       "      <td>11.755953</td>\n",
       "    </tr>\n",
       "    <tr>\n",
       "      <th>98</th>\n",
       "      <td>2010.96</td>\n",
       "      <td>9.424766</td>\n",
       "      <td>7.078467</td>\n",
       "      <td>11.771066</td>\n",
       "    </tr>\n",
       "    <tr>\n",
       "      <th>99</th>\n",
       "      <td>2010.98</td>\n",
       "      <td>9.411470</td>\n",
       "      <td>7.036503</td>\n",
       "      <td>11.786436</td>\n",
       "    </tr>\n",
       "    <tr>\n",
       "      <th>100</th>\n",
       "      <td>2011.00</td>\n",
       "      <td>9.398173</td>\n",
       "      <td>6.994290</td>\n",
       "      <td>11.802055</td>\n",
       "    </tr>\n",
       "  </tbody>\n",
       "</table>\n",
       "<p>101 rows × 4 columns</p>\n",
       "</div>"
      ],
      "text/plain": [
       "        Year  overdose_per_100k    ci_low    ci_high\n",
       "0    2009.00          10.727850  8.276828  13.178872\n",
       "1    2009.02          10.714553  8.292829  13.136277\n",
       "2    2009.04          10.701256  8.308596  13.093917\n",
       "3    2009.06          10.687960  8.324120  13.051799\n",
       "4    2009.08          10.674663  8.339392  13.009934\n",
       "..       ...                ...       ...        ...\n",
       "96   2010.92           9.451360  7.161613  11.741107\n",
       "97   2010.94           9.438063  7.120173  11.755953\n",
       "98   2010.96           9.424766  7.078467  11.771066\n",
       "99   2010.98           9.411470  7.036503  11.786436\n",
       "100  2011.00           9.398173  6.994290  11.802055\n",
       "\n",
       "[101 rows x 4 columns]"
      ]
     },
     "execution_count": 20,
     "metadata": {},
     "output_type": "execute_result"
    }
   ],
   "source": [
    "fit_b4, reg_chart_b4 = get_reg_fit(\n",
    "    source_data, yvar=\"overdose_per_100k\", xvar=\"Year\", alpha=0.05\n",
    ")\n",
    "fit_b4"
   ]
  },
  {
   "cell_type": "code",
   "execution_count": 21,
   "metadata": {},
   "outputs": [
    {
     "data": {
      "text/html": [
       "\n",
       "<div id=\"altair-viz-be743083f39d41ff8463e496170efac8\"></div>\n",
       "<script type=\"text/javascript\">\n",
       "  var VEGA_DEBUG = (typeof VEGA_DEBUG == \"undefined\") ? {} : VEGA_DEBUG;\n",
       "  (function(spec, embedOpt){\n",
       "    let outputDiv = document.currentScript.previousElementSibling;\n",
       "    if (outputDiv.id !== \"altair-viz-be743083f39d41ff8463e496170efac8\") {\n",
       "      outputDiv = document.getElementById(\"altair-viz-be743083f39d41ff8463e496170efac8\");\n",
       "    }\n",
       "    const paths = {\n",
       "      \"vega\": \"https://cdn.jsdelivr.net/npm//vega@5?noext\",\n",
       "      \"vega-lib\": \"https://cdn.jsdelivr.net/npm//vega-lib?noext\",\n",
       "      \"vega-lite\": \"https://cdn.jsdelivr.net/npm//vega-lite@4.17.0?noext\",\n",
       "      \"vega-embed\": \"https://cdn.jsdelivr.net/npm//vega-embed@6?noext\",\n",
       "    };\n",
       "\n",
       "    function maybeLoadScript(lib, version) {\n",
       "      var key = `${lib.replace(\"-\", \"\")}_version`;\n",
       "      return (VEGA_DEBUG[key] == version) ?\n",
       "        Promise.resolve(paths[lib]) :\n",
       "        new Promise(function(resolve, reject) {\n",
       "          var s = document.createElement('script');\n",
       "          document.getElementsByTagName(\"head\")[0].appendChild(s);\n",
       "          s.async = true;\n",
       "          s.onload = () => {\n",
       "            VEGA_DEBUG[key] = version;\n",
       "            return resolve(paths[lib]);\n",
       "          };\n",
       "          s.onerror = () => reject(`Error loading script: ${paths[lib]}`);\n",
       "          s.src = paths[lib];\n",
       "        });\n",
       "    }\n",
       "\n",
       "    function showError(err) {\n",
       "      outputDiv.innerHTML = `<div class=\"error\" style=\"color:red;\">${err}</div>`;\n",
       "      throw err;\n",
       "    }\n",
       "\n",
       "    function displayChart(vegaEmbed) {\n",
       "      vegaEmbed(outputDiv, spec, embedOpt)\n",
       "        .catch(err => showError(`Javascript Error: ${err.message}<br>This usually means there's a typo in your chart specification. See the javascript console for the full traceback.`));\n",
       "    }\n",
       "\n",
       "    if(typeof define === \"function\" && define.amd) {\n",
       "      requirejs.config({paths});\n",
       "      require([\"vega-embed\"], displayChart, err => showError(`Error loading script: ${err.message}`));\n",
       "    } else {\n",
       "      maybeLoadScript(\"vega\", \"5\")\n",
       "        .then(() => maybeLoadScript(\"vega-lite\", \"4.17.0\"))\n",
       "        .then(() => maybeLoadScript(\"vega-embed\", \"6\"))\n",
       "        .catch(showError)\n",
       "        .then(() => displayChart(vegaEmbed));\n",
       "    }\n",
       "  })({\"config\": {\"view\": {\"continuousWidth\": 400, \"continuousHeight\": 300}}, \"layer\": [{\"data\": {\"name\": \"data-e0672e990363b7365f253ebfee6e5c49\"}, \"mark\": \"point\", \"encoding\": {\"x\": {\"field\": \"Year\", \"scale\": {\"zero\": false}, \"type\": \"ordinal\"}, \"y\": {\"field\": \"mean_overdose\", \"scale\": {\"zero\": false}, \"type\": \"quantitative\"}}, \"transform\": [{\"aggregate\": [{\"op\": \"mean\", \"field\": \"overdose_per_100k\", \"as\": \"mean_overdose\"}], \"groupby\": [\"Year\"]}]}, {\"layer\": [{\"mark\": \"errorband\", \"encoding\": {\"x\": {\"field\": \"Year\", \"type\": \"quantitative\"}, \"y\": {\"field\": \"ci_low\", \"title\": \"overdose_per_100k\", \"type\": \"quantitative\"}, \"y2\": {\"field\": \"ci_high\"}}}, {\"mark\": \"line\", \"encoding\": {\"x\": {\"field\": \"Year\", \"type\": \"quantitative\"}, \"y\": {\"field\": \"overdose_per_100k\", \"type\": \"quantitative\"}}}], \"data\": {\"name\": \"data-89a0c5155a3d9dea49090e1abe14668f\"}}], \"$schema\": \"https://vega.github.io/schema/vega-lite/v4.17.0.json\", \"datasets\": {\"data-e0672e990363b7365f253ebfee6e5c49\": [{\"County\": \"Benton\", \"County Code\": 53005.0, \"Year\": 2009.0, \"Year Code\": 2009.0, \"Drug/Alcohol Induced Cause\": \"Drug poisonings (overdose) Unintentional (X40-X44)\", \"Drug/Alcohol Induced Cause Code\": \"D1\", \"Deaths\": 17.0, \"State\": \"WA\", \"StateFIPS\": 53, \"CountyName\": \"Benton\", \"StateName\": \"Washington\", \"CountyFIPS\": 53005, \"StateAbbr\": \"WA\", \"STATE_COUNTY\": \"WA | BENTON\", \"state_abbrev\": \"WA\", \"FIP_unique\": 5300553, \"Population\": 171122.0, \"county_test\": \"Benton\", \"overdose\": 1, \"overdose_per_100k\": 9.934432743890325}, {\"County\": \"Benton\", \"County Code\": 53005.0, \"Year\": 2010.0, \"Year Code\": 2010.0, \"Drug/Alcohol Induced Cause\": \"Drug poisonings (overdose) Unintentional (X40-X44)\", \"Drug/Alcohol Induced Cause Code\": \"D1\", \"Deaths\": 10.0, \"State\": \"WA\", \"StateFIPS\": 53, \"CountyName\": \"Benton\", \"StateName\": \"Washington\", \"CountyFIPS\": 53005, \"StateAbbr\": \"WA\", \"STATE_COUNTY\": \"WA | BENTON\", \"state_abbrev\": \"WA\", \"FIP_unique\": 5300553, \"Population\": 176465.0, \"county_test\": \"Benton\", \"overdose\": 1, \"overdose_per_100k\": 5.666846116793698}, {\"County\": \"Benton\", \"County Code\": 53005.0, \"Year\": 2011.0, \"Year Code\": 2011.0, \"Drug/Alcohol Induced Cause\": \"Drug poisonings (overdose) Unintentional (X40-X44)\", \"Drug/Alcohol Induced Cause Code\": \"D1\", \"Deaths\": 16.0, \"State\": \"WA\", \"StateFIPS\": 53, \"CountyName\": \"Benton\", \"StateName\": \"Washington\", \"CountyFIPS\": 53005, \"StateAbbr\": \"WA\", \"STATE_COUNTY\": \"WA | BENTON\", \"state_abbrev\": \"WA\", \"FIP_unique\": 5300553, \"Population\": 180436.0, \"county_test\": \"Benton\", \"overdose\": 1, \"overdose_per_100k\": 8.867410051209294}, {\"County\": \"Chelan\", \"County Code\": 53007.0, \"Year\": 2010.0, \"Year Code\": 2010.0, \"Drug/Alcohol Induced Cause\": \"Drug poisonings (overdose) Unintentional (X40-X44)\", \"Drug/Alcohol Induced Cause Code\": \"D1\", \"Deaths\": 11.0, \"State\": \"WA\", \"StateFIPS\": 53, \"CountyName\": \"Chelan\", \"StateName\": \"Washington\", \"CountyFIPS\": 53007, \"StateAbbr\": \"WA\", \"STATE_COUNTY\": \"WA | CHELAN\", \"state_abbrev\": \"WA\", \"FIP_unique\": 5300753, \"Population\": 72750.0, \"county_test\": \"Chelan\", \"overdose\": 1, \"overdose_per_100k\": 15.120274914089347}, {\"County\": \"Chelan\", \"County Code\": 53007.0, \"Year\": 2011.0, \"Year Code\": 2011.0, \"Drug/Alcohol Induced Cause\": \"Drug poisonings (overdose) Unintentional (X40-X44)\", \"Drug/Alcohol Induced Cause Code\": \"D1\", \"Deaths\": 10.0, \"State\": \"WA\", \"StateFIPS\": 53, \"CountyName\": \"Chelan\", \"StateName\": \"Washington\", \"CountyFIPS\": 53007, \"StateAbbr\": \"WA\", \"STATE_COUNTY\": \"WA | CHELAN\", \"state_abbrev\": \"WA\", \"FIP_unique\": 5300753, \"Population\": 73214.0, \"county_test\": \"Chelan\", \"overdose\": 1, \"overdose_per_100k\": 13.658589887180048}, {\"County\": \"Clallam\", \"County Code\": 53009.0, \"Year\": 2009.0, \"Year Code\": 2009.0, \"Drug/Alcohol Induced Cause\": \"Drug poisonings (overdose) Unintentional (X40-X44)\", \"Drug/Alcohol Induced Cause Code\": \"D1\", \"Deaths\": 13.0, \"State\": \"WA\", \"StateFIPS\": 53, \"CountyName\": \"Clallam\", \"StateName\": \"Washington\", \"CountyFIPS\": 53009, \"StateAbbr\": \"WA\", \"STATE_COUNTY\": \"WA | CLALLAM\", \"state_abbrev\": \"WA\", \"FIP_unique\": 5300953, \"Population\": 71077.0, \"county_test\": \"Clallam\", \"overdose\": 1, \"overdose_per_100k\": 18.290023495645567}, {\"County\": \"Clallam\", \"County Code\": 53009.0, \"Year\": 2010.0, \"Year Code\": 2010.0, \"Drug/Alcohol Induced Cause\": \"Drug poisonings (overdose) Unintentional (X40-X44)\", \"Drug/Alcohol Induced Cause Code\": \"D1\", \"Deaths\": 11.0, \"State\": \"WA\", \"StateFIPS\": 53, \"CountyName\": \"Clallam\", \"StateName\": \"Washington\", \"CountyFIPS\": 53009, \"StateAbbr\": \"WA\", \"STATE_COUNTY\": \"WA | CLALLAM\", \"state_abbrev\": \"WA\", \"FIP_unique\": 5300953, \"Population\": 71503.0, \"county_test\": \"Clallam\", \"overdose\": 1, \"overdose_per_100k\": 15.383969903360697}, {\"County\": \"Clark\", \"County Code\": 53011.0, \"Year\": 2009.0, \"Year Code\": 2009.0, \"Drug/Alcohol Induced Cause\": \"Drug poisonings (overdose) Unintentional (X40-X44)\", \"Drug/Alcohol Induced Cause Code\": \"D1\", \"Deaths\": 44.0, \"State\": \"WA\", \"StateFIPS\": 53, \"CountyName\": \"Clark\", \"StateName\": \"Washington\", \"CountyFIPS\": 53011, \"StateAbbr\": \"WA\", \"STATE_COUNTY\": \"WA | CLARK\", \"state_abbrev\": \"WA\", \"FIP_unique\": 5301153, \"Population\": 421236.0, \"county_test\": \"Clark\", \"overdose\": 1, \"overdose_per_100k\": 10.445451006086849}, {\"County\": \"Clark\", \"County Code\": 53011.0, \"Year\": 2009.0, \"Year Code\": 2009.0, \"Drug/Alcohol Induced Cause\": \"Drug poisonings (overdose) Suicide (X60-X64)\", \"Drug/Alcohol Induced Cause Code\": \"D2\", \"Deaths\": 15.0, \"State\": \"WA\", \"StateFIPS\": 53, \"CountyName\": \"Clark\", \"StateName\": \"Washington\", \"CountyFIPS\": 53011, \"StateAbbr\": \"WA\", \"STATE_COUNTY\": \"WA | CLARK\", \"state_abbrev\": \"WA\", \"FIP_unique\": 5301153, \"Population\": 421236.0, \"county_test\": \"Clark\", \"overdose\": 1, \"overdose_per_100k\": 3.560949206620517}, {\"County\": \"Clark\", \"County Code\": 53011.0, \"Year\": 2010.0, \"Year Code\": 2010.0, \"Drug/Alcohol Induced Cause\": \"Drug poisonings (overdose) Unintentional (X40-X44)\", \"Drug/Alcohol Induced Cause Code\": \"D1\", \"Deaths\": 37.0, \"State\": \"WA\", \"StateFIPS\": 53, \"CountyName\": \"Clark\", \"StateName\": \"Washington\", \"CountyFIPS\": 53011, \"StateAbbr\": \"WA\", \"STATE_COUNTY\": \"WA | CLARK\", \"state_abbrev\": \"WA\", \"FIP_unique\": 5301153, \"Population\": 426704.0, \"county_test\": \"Clark\", \"overdose\": 1, \"overdose_per_100k\": 8.671116277325734}, {\"County\": \"Clark\", \"County Code\": 53011.0, \"Year\": 2010.0, \"Year Code\": 2010.0, \"Drug/Alcohol Induced Cause\": \"Drug poisonings (overdose) Suicide (X60-X64)\", \"Drug/Alcohol Induced Cause Code\": \"D2\", \"Deaths\": 13.0, \"State\": \"WA\", \"StateFIPS\": 53, \"CountyName\": \"Clark\", \"StateName\": \"Washington\", \"CountyFIPS\": 53011, \"StateAbbr\": \"WA\", \"STATE_COUNTY\": \"WA | CLARK\", \"state_abbrev\": \"WA\", \"FIP_unique\": 5301153, \"Population\": 426704.0, \"county_test\": \"Clark\", \"overdose\": 1, \"overdose_per_100k\": 3.0466084217630955}, {\"County\": \"Clark\", \"County Code\": 53011.0, \"Year\": 2011.0, \"Year Code\": 2011.0, \"Drug/Alcohol Induced Cause\": \"Drug poisonings (overdose) Unintentional (X40-X44)\", \"Drug/Alcohol Induced Cause Code\": \"D1\", \"Deaths\": 43.0, \"State\": \"WA\", \"StateFIPS\": 53, \"CountyName\": \"Clark\", \"StateName\": \"Washington\", \"CountyFIPS\": 53011, \"StateAbbr\": \"WA\", \"STATE_COUNTY\": \"WA | CLARK\", \"state_abbrev\": \"WA\", \"FIP_unique\": 5301153, \"Population\": 432283.0, \"county_test\": \"Clark\", \"overdose\": 1, \"overdose_per_100k\": 9.947187374937252}, {\"County\": \"Clark\", \"County Code\": 53011.0, \"Year\": 2011.0, \"Year Code\": 2011.0, \"Drug/Alcohol Induced Cause\": \"Drug poisonings (overdose) Suicide (X60-X64)\", \"Drug/Alcohol Induced Cause Code\": \"D2\", \"Deaths\": 12.0, \"State\": \"WA\", \"StateFIPS\": 53, \"CountyName\": \"Clark\", \"StateName\": \"Washington\", \"CountyFIPS\": 53011, \"StateAbbr\": \"WA\", \"STATE_COUNTY\": \"WA | CLARK\", \"state_abbrev\": \"WA\", \"FIP_unique\": 5301153, \"Population\": 432283.0, \"county_test\": \"Clark\", \"overdose\": 1, \"overdose_per_100k\": 2.775959267424349}, {\"County\": \"Cowlitz\", \"County Code\": 53015.0, \"Year\": 2009.0, \"Year Code\": 2009.0, \"Drug/Alcohol Induced Cause\": \"Drug poisonings (overdose) Unintentional (X40-X44)\", \"Drug/Alcohol Induced Cause Code\": \"D1\", \"Deaths\": 18.0, \"State\": \"WA\", \"StateFIPS\": 53, \"CountyName\": \"Cowlitz\", \"StateName\": \"Washington\", \"CountyFIPS\": 53015, \"StateAbbr\": \"WA\", \"STATE_COUNTY\": \"WA | COWLITZ\", \"state_abbrev\": \"WA\", \"FIP_unique\": 5301553, \"Population\": 102126.0, \"county_test\": \"Cowlitz\", \"overdose\": 1, \"overdose_per_100k\": 17.625286410904177}, {\"County\": \"Cowlitz\", \"County Code\": 53015.0, \"Year\": 2010.0, \"Year Code\": 2010.0, \"Drug/Alcohol Induced Cause\": \"Drug poisonings (overdose) Unintentional (X40-X44)\", \"Drug/Alcohol Induced Cause Code\": \"D1\", \"Deaths\": 14.0, \"State\": \"WA\", \"StateFIPS\": 53, \"CountyName\": \"Cowlitz\", \"StateName\": \"Washington\", \"CountyFIPS\": 53015, \"StateAbbr\": \"WA\", \"STATE_COUNTY\": \"WA | COWLITZ\", \"state_abbrev\": \"WA\", \"FIP_unique\": 5301553, \"Population\": 102358.0, \"county_test\": \"Cowlitz\", \"overdose\": 1, \"overdose_per_100k\": 13.677484905918444}, {\"County\": \"Cowlitz\", \"County Code\": 53015.0, \"Year\": 2011.0, \"Year Code\": 2011.0, \"Drug/Alcohol Induced Cause\": \"Drug poisonings (overdose) Unintentional (X40-X44)\", \"Drug/Alcohol Induced Cause Code\": \"D1\", \"Deaths\": 27.0, \"State\": \"WA\", \"StateFIPS\": 53, \"CountyName\": \"Cowlitz\", \"StateName\": \"Washington\", \"CountyFIPS\": 53015, \"StateAbbr\": \"WA\", \"STATE_COUNTY\": \"WA | COWLITZ\", \"state_abbrev\": \"WA\", \"FIP_unique\": 5301553, \"Population\": 102309.0, \"county_test\": \"Cowlitz\", \"overdose\": 1, \"overdose_per_100k\": 26.390640119637567}, {\"County\": \"Grant\", \"County Code\": 53025.0, \"Year\": 2009.0, \"Year Code\": 2009.0, \"Drug/Alcohol Induced Cause\": \"Drug poisonings (overdose) Unintentional (X40-X44)\", \"Drug/Alcohol Induced Cause Code\": \"D1\", \"Deaths\": 17.0, \"State\": \"WA\", \"StateFIPS\": 53, \"CountyName\": \"Grant\", \"StateName\": \"Washington\", \"CountyFIPS\": 53025, \"StateAbbr\": \"WA\", \"STATE_COUNTY\": \"WA | GRANT\", \"state_abbrev\": \"WA\", \"FIP_unique\": 5302553, \"Population\": 87340.0, \"county_test\": \"Grant\", \"overdose\": 1, \"overdose_per_100k\": 19.464163040989238}, {\"County\": \"Grays Harbor\", \"County Code\": 53027.0, \"Year\": 2009.0, \"Year Code\": 2009.0, \"Drug/Alcohol Induced Cause\": \"Drug poisonings (overdose) Unintentional (X40-X44)\", \"Drug/Alcohol Induced Cause Code\": \"D1\", \"Deaths\": 16.0, \"State\": \"WA\", \"StateFIPS\": 53, \"CountyName\": \"Grays Harbor\", \"StateName\": \"Washington\", \"CountyFIPS\": 53027, \"StateAbbr\": \"WA\", \"STATE_COUNTY\": \"WA | GRAYS HARBOR\", \"state_abbrev\": \"WA\", \"FIP_unique\": 5302753, \"Population\": 72468.0, \"county_test\": \"Grays Harbor\", \"overdose\": 1, \"overdose_per_100k\": 22.078710603300767}, {\"County\": \"Grays Harbor\", \"County Code\": 53027.0, \"Year\": 2011.0, \"Year Code\": 2011.0, \"Drug/Alcohol Induced Cause\": \"Drug poisonings (overdose) Unintentional (X40-X44)\", \"Drug/Alcohol Induced Cause Code\": \"D1\", \"Deaths\": 10.0, \"State\": \"WA\", \"StateFIPS\": 53, \"CountyName\": \"Grays Harbor\", \"StateName\": \"Washington\", \"CountyFIPS\": 53027, \"StateAbbr\": \"WA\", \"STATE_COUNTY\": \"WA | GRAYS HARBOR\", \"state_abbrev\": \"WA\", \"FIP_unique\": 5302753, \"Population\": 72366.0, \"county_test\": \"Grays Harbor\", \"overdose\": 1, \"overdose_per_100k\": 13.818644114639472}, {\"County\": \"King\", \"County Code\": 53033.0, \"Year\": 2009.0, \"Year Code\": 2009.0, \"Drug/Alcohol Induced Cause\": \"Drug poisonings (overdose) Unintentional (X40-X44)\", \"Drug/Alcohol Induced Cause Code\": \"D1\", \"Deaths\": 203.0, \"State\": \"WA\", \"StateFIPS\": 53, \"CountyName\": \"King\", \"StateName\": \"Washington\", \"CountyFIPS\": 53033, \"StateAbbr\": \"WA\", \"STATE_COUNTY\": \"WA | KING\", \"state_abbrev\": \"WA\", \"FIP_unique\": 5303353, \"Population\": 1912012.0, \"county_test\": \"King\", \"overdose\": 1, \"overdose_per_100k\": 10.617088177270855}, {\"County\": \"King\", \"County Code\": 53033.0, \"Year\": 2009.0, \"Year Code\": 2009.0, \"Drug/Alcohol Induced Cause\": \"Drug poisonings (overdose) Suicide (X60-X64)\", \"Drug/Alcohol Induced Cause Code\": \"D2\", \"Deaths\": 28.0, \"State\": \"WA\", \"StateFIPS\": 53, \"CountyName\": \"King\", \"StateName\": \"Washington\", \"CountyFIPS\": 53033, \"StateAbbr\": \"WA\", \"STATE_COUNTY\": \"WA | KING\", \"state_abbrev\": \"WA\", \"FIP_unique\": 5303353, \"Population\": 1912012.0, \"county_test\": \"King\", \"overdose\": 1, \"overdose_per_100k\": 1.464425955485635}, {\"County\": \"King\", \"County Code\": 53033.0, \"Year\": 2010.0, \"Year Code\": 2010.0, \"Drug/Alcohol Induced Cause\": \"Drug poisonings (overdose) Unintentional (X40-X44)\", \"Drug/Alcohol Induced Cause Code\": \"D1\", \"Deaths\": 191.0, \"State\": \"WA\", \"StateFIPS\": 53, \"CountyName\": \"King\", \"StateName\": \"Washington\", \"CountyFIPS\": 53033, \"StateAbbr\": \"WA\", \"STATE_COUNTY\": \"WA | KING\", \"state_abbrev\": \"WA\", \"FIP_unique\": 5303353, \"Population\": 1938351.0, \"county_test\": \"King\", \"overdose\": 1, \"overdose_per_100k\": 9.853736500767921}, {\"County\": \"King\", \"County Code\": 53033.0, \"Year\": 2010.0, \"Year Code\": 2010.0, \"Drug/Alcohol Induced Cause\": \"Drug poisonings (overdose) Suicide (X60-X64)\", \"Drug/Alcohol Induced Cause Code\": \"D2\", \"Deaths\": 47.0, \"State\": \"WA\", \"StateFIPS\": 53, \"CountyName\": \"King\", \"StateName\": \"Washington\", \"CountyFIPS\": 53033, \"StateAbbr\": \"WA\", \"STATE_COUNTY\": \"WA | KING\", \"state_abbrev\": \"WA\", \"FIP_unique\": 5303353, \"Population\": 1938351.0, \"county_test\": \"King\", \"overdose\": 1, \"overdose_per_100k\": 2.424741442597342}, {\"County\": \"King\", \"County Code\": 53033.0, \"Year\": 2010.0, \"Year Code\": 2010.0, \"Drug/Alcohol Induced Cause\": \"Alcohol poisonings (overdose) (X45, X65, Y15)\", \"Drug/Alcohol Induced Cause Code\": \"A1\", \"Deaths\": 12.0, \"State\": \"WA\", \"StateFIPS\": 53, \"CountyName\": \"King\", \"StateName\": \"Washington\", \"CountyFIPS\": 53033, \"StateAbbr\": \"WA\", \"STATE_COUNTY\": \"WA | KING\", \"state_abbrev\": \"WA\", \"FIP_unique\": 5303353, \"Population\": 1938351.0, \"county_test\": \"King\", \"overdose\": 1, \"overdose_per_100k\": 0.6190829215142148}, {\"County\": \"King\", \"County Code\": 53033.0, \"Year\": 2011.0, \"Year Code\": 2011.0, \"Drug/Alcohol Induced Cause\": \"Drug poisonings (overdose) Unintentional (X40-X44)\", \"Drug/Alcohol Induced Cause Code\": \"D1\", \"Deaths\": 179.0, \"State\": \"WA\", \"StateFIPS\": 53, \"CountyName\": \"King\", \"StateName\": \"Washington\", \"CountyFIPS\": 53033, \"StateAbbr\": \"WA\", \"STATE_COUNTY\": \"WA | KING\", \"state_abbrev\": \"WA\", \"FIP_unique\": 5303353, \"Population\": 1974200.0, \"county_test\": \"King\", \"overdose\": 1, \"overdose_per_100k\": 9.066963833451524}, {\"County\": \"King\", \"County Code\": 53033.0, \"Year\": 2011.0, \"Year Code\": 2011.0, \"Drug/Alcohol Induced Cause\": \"Drug poisonings (overdose) Suicide (X60-X64)\", \"Drug/Alcohol Induced Cause Code\": \"D2\", \"Deaths\": 45.0, \"State\": \"WA\", \"StateFIPS\": 53, \"CountyName\": \"King\", \"StateName\": \"Washington\", \"CountyFIPS\": 53033, \"StateAbbr\": \"WA\", \"STATE_COUNTY\": \"WA | KING\", \"state_abbrev\": \"WA\", \"FIP_unique\": 5303353, \"Population\": 1974200.0, \"county_test\": \"King\", \"overdose\": 1, \"overdose_per_100k\": 2.279404315672171}, {\"County\": \"King\", \"County Code\": 53033.0, \"Year\": 2011.0, \"Year Code\": 2011.0, \"Drug/Alcohol Induced Cause\": \"Drug poisonings (overdose) Undetermined (Y10-Y14)\", \"Drug/Alcohol Induced Cause Code\": \"D4\", \"Deaths\": 12.0, \"State\": \"WA\", \"StateFIPS\": 53, \"CountyName\": \"King\", \"StateName\": \"Washington\", \"CountyFIPS\": 53033, \"StateAbbr\": \"WA\", \"STATE_COUNTY\": \"WA | KING\", \"state_abbrev\": \"WA\", \"FIP_unique\": 5303353, \"Population\": 1974200.0, \"county_test\": \"King\", \"overdose\": 1, \"overdose_per_100k\": 0.6078411508459123}, {\"County\": \"Kitsap\", \"County Code\": 53035.0, \"Year\": 2009.0, \"Year Code\": 2009.0, \"Drug/Alcohol Induced Cause\": \"Drug poisonings (overdose) Unintentional (X40-X44)\", \"Drug/Alcohol Induced Cause Code\": \"D1\", \"Deaths\": 24.0, \"State\": \"WA\", \"StateFIPS\": 53, \"CountyName\": \"Kitsap\", \"StateName\": \"Washington\", \"CountyFIPS\": 53035, \"StateAbbr\": \"WA\", \"STATE_COUNTY\": \"WA | KITSAP\", \"state_abbrev\": \"WA\", \"FIP_unique\": 5303553, \"Population\": 248800.0, \"county_test\": \"Kitsap\", \"overdose\": 1, \"overdose_per_100k\": 9.646302250803858}, {\"County\": \"Kitsap\", \"County Code\": 53035.0, \"Year\": 2010.0, \"Year Code\": 2010.0, \"Drug/Alcohol Induced Cause\": \"Drug poisonings (overdose) Unintentional (X40-X44)\", \"Drug/Alcohol Induced Cause Code\": \"D1\", \"Deaths\": 19.0, \"State\": \"WA\", \"StateFIPS\": 53, \"CountyName\": \"Kitsap\", \"StateName\": \"Washington\", \"CountyFIPS\": 53035, \"StateAbbr\": \"WA\", \"STATE_COUNTY\": \"WA | KITSAP\", \"state_abbrev\": \"WA\", \"FIP_unique\": 5303553, \"Population\": 251681.0, \"county_test\": \"Kitsap\", \"overdose\": 1, \"overdose_per_100k\": 7.549238917518604}, {\"County\": \"Kitsap\", \"County Code\": 53035.0, \"Year\": 2011.0, \"Year Code\": 2011.0, \"Drug/Alcohol Induced Cause\": \"Drug poisonings (overdose) Unintentional (X40-X44)\", \"Drug/Alcohol Induced Cause Code\": \"D1\", \"Deaths\": 25.0, \"State\": \"WA\", \"StateFIPS\": 53, \"CountyName\": \"Kitsap\", \"StateName\": \"Washington\", \"CountyFIPS\": 53035, \"StateAbbr\": \"WA\", \"STATE_COUNTY\": \"WA | KITSAP\", \"state_abbrev\": \"WA\", \"FIP_unique\": 5303553, \"Population\": 254297.0, \"county_test\": \"Kitsap\", \"overdose\": 1, \"overdose_per_100k\": 9.831024353413529}, {\"County\": \"Lewis\", \"County Code\": 53041.0, \"Year\": 2009.0, \"Year Code\": 2009.0, \"Drug/Alcohol Induced Cause\": \"Drug poisonings (overdose) Unintentional (X40-X44)\", \"Drug/Alcohol Induced Cause Code\": \"D1\", \"Deaths\": 11.0, \"State\": \"WA\", \"StateFIPS\": 53, \"CountyName\": \"Lewis\", \"StateName\": \"Washington\", \"CountyFIPS\": 53041, \"StateAbbr\": \"WA\", \"STATE_COUNTY\": \"WA | LEWIS\", \"state_abbrev\": \"WA\", \"FIP_unique\": 5304153, \"Population\": 75316.0, \"county_test\": \"Lewis\", \"overdose\": 1, \"overdose_per_100k\": 14.605130383982157}, {\"County\": \"Lewis\", \"County Code\": 53041.0, \"Year\": 2010.0, \"Year Code\": 2010.0, \"Drug/Alcohol Induced Cause\": \"Drug poisonings (overdose) Unintentional (X40-X44)\", \"Drug/Alcohol Induced Cause Code\": \"D1\", \"Deaths\": 11.0, \"State\": \"WA\", \"StateFIPS\": 53, \"CountyName\": \"Lewis\", \"StateName\": \"Washington\", \"CountyFIPS\": 53041, \"StateAbbr\": \"WA\", \"STATE_COUNTY\": \"WA | LEWIS\", \"state_abbrev\": \"WA\", \"FIP_unique\": 5304153, \"Population\": 75502.0, \"county_test\": \"Lewis\", \"overdose\": 1, \"overdose_per_100k\": 14.569150486079838}, {\"County\": \"Lewis\", \"County Code\": 53041.0, \"Year\": 2011.0, \"Year Code\": 2011.0, \"Drug/Alcohol Induced Cause\": \"Drug poisonings (overdose) Unintentional (X40-X44)\", \"Drug/Alcohol Induced Cause Code\": \"D1\", \"Deaths\": 17.0, \"State\": \"WA\", \"StateFIPS\": 53, \"CountyName\": \"Lewis\", \"StateName\": \"Washington\", \"CountyFIPS\": 53041, \"StateAbbr\": \"WA\", \"STATE_COUNTY\": \"WA | LEWIS\", \"state_abbrev\": \"WA\", \"FIP_unique\": 5304153, \"Population\": 75668.0, \"county_test\": \"Lewis\", \"overdose\": 1, \"overdose_per_100k\": 22.46656446582439}, {\"County\": \"Pierce\", \"County Code\": 53053.0, \"Year\": 2009.0, \"Year Code\": 2009.0, \"Drug/Alcohol Induced Cause\": \"Drug poisonings (overdose) Unintentional (X40-X44)\", \"Drug/Alcohol Induced Cause Code\": \"D1\", \"Deaths\": 102.0, \"State\": \"WA\", \"StateFIPS\": 53, \"CountyName\": \"Pierce\", \"StateName\": \"Washington\", \"CountyFIPS\": 53053, \"StateAbbr\": \"WA\", \"STATE_COUNTY\": \"WA | PIERCE\", \"state_abbrev\": \"WA\", \"FIP_unique\": 5305353, \"Population\": 796483.0, \"county_test\": \"Pierce\", \"overdose\": 1, \"overdose_per_100k\": 12.806299695034294}, {\"County\": \"Pierce\", \"County Code\": 53053.0, \"Year\": 2009.0, \"Year Code\": 2009.0, \"Drug/Alcohol Induced Cause\": \"Alcohol poisonings (overdose) (X45, X65, Y15)\", \"Drug/Alcohol Induced Cause Code\": \"A1\", \"Deaths\": 10.0, \"State\": \"WA\", \"StateFIPS\": 53, \"CountyName\": \"Pierce\", \"StateName\": \"Washington\", \"CountyFIPS\": 53053, \"StateAbbr\": \"WA\", \"STATE_COUNTY\": \"WA | PIERCE\", \"state_abbrev\": \"WA\", \"FIP_unique\": 5305353, \"Population\": 796483.0, \"county_test\": \"Pierce\", \"overdose\": 1, \"overdose_per_100k\": 1.2555195779445387}, {\"County\": \"Pierce\", \"County Code\": 53053.0, \"Year\": 2010.0, \"Year Code\": 2010.0, \"Drug/Alcohol Induced Cause\": \"Drug poisonings (overdose) Unintentional (X40-X44)\", \"Drug/Alcohol Induced Cause Code\": \"D1\", \"Deaths\": 84.0, \"State\": \"WA\", \"StateFIPS\": 53, \"CountyName\": \"Pierce\", \"StateName\": \"Washington\", \"CountyFIPS\": 53053, \"StateAbbr\": \"WA\", \"STATE_COUNTY\": \"WA | PIERCE\", \"state_abbrev\": \"WA\", \"FIP_unique\": 5305353, \"Population\": 795390.0, \"county_test\": \"Pierce\", \"overdose\": 1, \"overdose_per_100k\": 10.560856938105834}, {\"County\": \"Pierce\", \"County Code\": 53053.0, \"Year\": 2010.0, \"Year Code\": 2010.0, \"Drug/Alcohol Induced Cause\": \"Drug poisonings (overdose) Suicide (X60-X64)\", \"Drug/Alcohol Induced Cause Code\": \"D2\", \"Deaths\": 29.0, \"State\": \"WA\", \"StateFIPS\": 53, \"CountyName\": \"Pierce\", \"StateName\": \"Washington\", \"CountyFIPS\": 53053, \"StateAbbr\": \"WA\", \"STATE_COUNTY\": \"WA | PIERCE\", \"state_abbrev\": \"WA\", \"FIP_unique\": 5305353, \"Population\": 795390.0, \"county_test\": \"Pierce\", \"overdose\": 1, \"overdose_per_100k\": 3.6460101333936814}, {\"County\": \"Pierce\", \"County Code\": 53053.0, \"Year\": 2011.0, \"Year Code\": 2011.0, \"Drug/Alcohol Induced Cause\": \"Drug poisonings (overdose) Unintentional (X40-X44)\", \"Drug/Alcohol Induced Cause Code\": \"D1\", \"Deaths\": 98.0, \"State\": \"WA\", \"StateFIPS\": 53, \"CountyName\": \"Pierce\", \"StateName\": \"Washington\", \"CountyFIPS\": 53053, \"StateAbbr\": \"WA\", \"STATE_COUNTY\": \"WA | PIERCE\", \"state_abbrev\": \"WA\", \"FIP_unique\": 5305353, \"Population\": 807623.0, \"county_test\": \"Pierce\", \"overdose\": 1, \"overdose_per_100k\": 12.134374578237619}, {\"County\": \"Pierce\", \"County Code\": 53053.0, \"Year\": 2011.0, \"Year Code\": 2011.0, \"Drug/Alcohol Induced Cause\": \"Drug poisonings (overdose) Suicide (X60-X64)\", \"Drug/Alcohol Induced Cause Code\": \"D2\", \"Deaths\": 30.0, \"State\": \"WA\", \"StateFIPS\": 53, \"CountyName\": \"Pierce\", \"StateName\": \"Washington\", \"CountyFIPS\": 53053, \"StateAbbr\": \"WA\", \"STATE_COUNTY\": \"WA | PIERCE\", \"state_abbrev\": \"WA\", \"FIP_unique\": 5305353, \"Population\": 807623.0, \"county_test\": \"Pierce\", \"overdose\": 1, \"overdose_per_100k\": 3.7146044627258017}, {\"County\": \"Skagit\", \"County Code\": 53057.0, \"Year\": 2009.0, \"Year Code\": 2009.0, \"Drug/Alcohol Induced Cause\": \"Drug poisonings (overdose) Unintentional (X40-X44)\", \"Drug/Alcohol Induced Cause Code\": \"D1\", \"Deaths\": 20.0, \"State\": \"WA\", \"StateFIPS\": 53, \"CountyName\": \"Skagit\", \"StateName\": \"Washington\", \"CountyFIPS\": 53057, \"StateAbbr\": \"WA\", \"STATE_COUNTY\": \"WA | SKAGIT\", \"state_abbrev\": \"WA\", \"FIP_unique\": 5305753, \"Population\": 116557.0, \"county_test\": \"Skagit\", \"overdose\": 1, \"overdose_per_100k\": 17.158986590251978}, {\"County\": \"Skagit\", \"County Code\": 53057.0, \"Year\": 2010.0, \"Year Code\": 2010.0, \"Drug/Alcohol Induced Cause\": \"Drug poisonings (overdose) Unintentional (X40-X44)\", \"Drug/Alcohol Induced Cause Code\": \"D1\", \"Deaths\": 16.0, \"State\": \"WA\", \"StateFIPS\": 53, \"CountyName\": \"Skagit\", \"StateName\": \"Washington\", \"CountyFIPS\": 53057, \"StateAbbr\": \"WA\", \"STATE_COUNTY\": \"WA | SKAGIT\", \"state_abbrev\": \"WA\", \"FIP_unique\": 5305753, \"Population\": 116944.0, \"county_test\": \"Skagit\", \"overdose\": 1, \"overdose_per_100k\": 13.681762210972773}, {\"County\": \"Skagit\", \"County Code\": 53057.0, \"Year\": 2011.0, \"Year Code\": 2011.0, \"Drug/Alcohol Induced Cause\": \"Drug poisonings (overdose) Unintentional (X40-X44)\", \"Drug/Alcohol Induced Cause Code\": \"D1\", \"Deaths\": 15.0, \"State\": \"WA\", \"StateFIPS\": 53, \"CountyName\": \"Skagit\", \"StateName\": \"Washington\", \"CountyFIPS\": 53057, \"StateAbbr\": \"WA\", \"STATE_COUNTY\": \"WA | SKAGIT\", \"state_abbrev\": \"WA\", \"FIP_unique\": 5305753, \"Population\": 117578.0, \"county_test\": \"Skagit\", \"overdose\": 1, \"overdose_per_100k\": 12.757488645835105}, {\"County\": \"Snohomish\", \"County Code\": 53061.0, \"Year\": 2009.0, \"Year Code\": 2009.0, \"Drug/Alcohol Induced Cause\": \"Drug poisonings (overdose) Unintentional (X40-X44)\", \"Drug/Alcohol Induced Cause Code\": \"D1\", \"Deaths\": 109.0, \"State\": \"WA\", \"StateFIPS\": 53, \"CountyName\": \"Snohomish\", \"StateName\": \"Washington\", \"CountyFIPS\": 53061, \"StateAbbr\": \"WA\", \"STATE_COUNTY\": \"WA | SNOHOMISH\", \"state_abbrev\": \"WA\", \"FIP_unique\": 5306153, \"Population\": 706302.0, \"county_test\": \"Snohomish\", \"overdose\": 1, \"overdose_per_100k\": 15.432492050142857}, {\"County\": \"Snohomish\", \"County Code\": 53061.0, \"Year\": 2009.0, \"Year Code\": 2009.0, \"Drug/Alcohol Induced Cause\": \"Drug poisonings (overdose) Suicide (X60-X64)\", \"Drug/Alcohol Induced Cause Code\": \"D2\", \"Deaths\": 16.0, \"State\": \"WA\", \"StateFIPS\": 53, \"CountyName\": \"Snohomish\", \"StateName\": \"Washington\", \"CountyFIPS\": 53061, \"StateAbbr\": \"WA\", \"STATE_COUNTY\": \"WA | SNOHOMISH\", \"state_abbrev\": \"WA\", \"FIP_unique\": 5306153, \"Population\": 706302.0, \"county_test\": \"Snohomish\", \"overdose\": 1, \"overdose_per_100k\": 2.265319933965924}, {\"County\": \"Snohomish\", \"County Code\": 53061.0, \"Year\": 2010.0, \"Year Code\": 2010.0, \"Drug/Alcohol Induced Cause\": \"Drug poisonings (overdose) Unintentional (X40-X44)\", \"Drug/Alcohol Induced Cause Code\": \"D1\", \"Deaths\": 89.0, \"State\": \"WA\", \"StateFIPS\": 53, \"CountyName\": \"Snohomish\", \"StateName\": \"Washington\", \"CountyFIPS\": 53061, \"StateAbbr\": \"WA\", \"STATE_COUNTY\": \"WA | SNOHOMISH\", \"state_abbrev\": \"WA\", \"FIP_unique\": 5306153, \"Population\": 715500.0, \"county_test\": \"Snohomish\", \"overdose\": 1, \"overdose_per_100k\": 12.438853948287909}, {\"County\": \"Snohomish\", \"County Code\": 53061.0, \"Year\": 2010.0, \"Year Code\": 2010.0, \"Drug/Alcohol Induced Cause\": \"Drug poisonings (overdose) Suicide (X60-X64)\", \"Drug/Alcohol Induced Cause Code\": \"D2\", \"Deaths\": 19.0, \"State\": \"WA\", \"StateFIPS\": 53, \"CountyName\": \"Snohomish\", \"StateName\": \"Washington\", \"CountyFIPS\": 53061, \"StateAbbr\": \"WA\", \"STATE_COUNTY\": \"WA | SNOHOMISH\", \"state_abbrev\": \"WA\", \"FIP_unique\": 5306153, \"Population\": 715500.0, \"county_test\": \"Snohomish\", \"overdose\": 1, \"overdose_per_100k\": 2.655485674353599}, {\"County\": \"Snohomish\", \"County Code\": 53061.0, \"Year\": 2011.0, \"Year Code\": 2011.0, \"Drug/Alcohol Induced Cause\": \"Drug poisonings (overdose) Unintentional (X40-X44)\", \"Drug/Alcohol Induced Cause Code\": \"D1\", \"Deaths\": 143.0, \"State\": \"WA\", \"StateFIPS\": 53, \"CountyName\": \"Snohomish\", \"StateName\": \"Washington\", \"CountyFIPS\": 53061, \"StateAbbr\": \"WA\", \"STATE_COUNTY\": \"WA | SNOHOMISH\", \"state_abbrev\": \"WA\", \"FIP_unique\": 5306153, \"Population\": 722068.0, \"county_test\": \"Snohomish\", \"overdose\": 1, \"overdose_per_100k\": 19.80422896458505}, {\"County\": \"Snohomish\", \"County Code\": 53061.0, \"Year\": 2011.0, \"Year Code\": 2011.0, \"Drug/Alcohol Induced Cause\": \"Drug poisonings (overdose) Suicide (X60-X64)\", \"Drug/Alcohol Induced Cause Code\": \"D2\", \"Deaths\": 25.0, \"State\": \"WA\", \"StateFIPS\": 53, \"CountyName\": \"Snohomish\", \"StateName\": \"Washington\", \"CountyFIPS\": 53061, \"StateAbbr\": \"WA\", \"STATE_COUNTY\": \"WA | SNOHOMISH\", \"state_abbrev\": \"WA\", \"FIP_unique\": 5306153, \"Population\": 722068.0, \"county_test\": \"Snohomish\", \"overdose\": 1, \"overdose_per_100k\": 3.4622777910113727}, {\"County\": \"Spokane\", \"County Code\": 53063.0, \"Year\": 2009.0, \"Year Code\": 2009.0, \"Drug/Alcohol Induced Cause\": \"Drug poisonings (overdose) Unintentional (X40-X44)\", \"Drug/Alcohol Induced Cause Code\": \"D1\", \"Deaths\": 74.0, \"State\": \"WA\", \"StateFIPS\": 53, \"CountyName\": \"Spokane\", \"StateName\": \"Washington\", \"CountyFIPS\": 53063, \"StateAbbr\": \"WA\", \"STATE_COUNTY\": \"WA | SPOKANE\", \"state_abbrev\": \"WA\", \"FIP_unique\": 5306353, \"Population\": 468235.0, \"county_test\": \"Spokane\", \"overdose\": 1, \"overdose_per_100k\": 15.804030027657053}, {\"County\": \"Spokane\", \"County Code\": 53063.0, \"Year\": 2010.0, \"Year Code\": 2010.0, \"Drug/Alcohol Induced Cause\": \"Drug poisonings (overdose) Unintentional (X40-X44)\", \"Drug/Alcohol Induced Cause Code\": \"D1\", \"Deaths\": 61.0, \"State\": \"WA\", \"StateFIPS\": 53, \"CountyName\": \"Spokane\", \"StateName\": \"Washington\", \"CountyFIPS\": 53063, \"StateAbbr\": \"WA\", \"STATE_COUNTY\": \"WA | SPOKANE\", \"state_abbrev\": \"WA\", \"FIP_unique\": 5306353, \"Population\": 472081.0, \"county_test\": \"Spokane\", \"overdose\": 1, \"overdose_per_100k\": 12.921511350806323}, {\"County\": \"Spokane\", \"County Code\": 53063.0, \"Year\": 2010.0, \"Year Code\": 2010.0, \"Drug/Alcohol Induced Cause\": \"Drug poisonings (overdose) Suicide (X60-X64)\", \"Drug/Alcohol Induced Cause Code\": \"D2\", \"Deaths\": 14.0, \"State\": \"WA\", \"StateFIPS\": 53, \"CountyName\": \"Spokane\", \"StateName\": \"Washington\", \"CountyFIPS\": 53063, \"StateAbbr\": \"WA\", \"STATE_COUNTY\": \"WA | SPOKANE\", \"state_abbrev\": \"WA\", \"FIP_unique\": 5306353, \"Population\": 472081.0, \"county_test\": \"Spokane\", \"overdose\": 1, \"overdose_per_100k\": 2.965592769037517}, {\"County\": \"Spokane\", \"County Code\": 53063.0, \"Year\": 2011.0, \"Year Code\": 2011.0, \"Drug/Alcohol Induced Cause\": \"Drug poisonings (overdose) Unintentional (X40-X44)\", \"Drug/Alcohol Induced Cause Code\": \"D1\", \"Deaths\": 63.0, \"State\": \"WA\", \"StateFIPS\": 53, \"CountyName\": \"Spokane\", \"StateName\": \"Washington\", \"CountyFIPS\": 53063, \"StateAbbr\": \"WA\", \"STATE_COUNTY\": \"WA | SPOKANE\", \"state_abbrev\": \"WA\", \"FIP_unique\": 5306353, \"Population\": 473436.0, \"county_test\": \"Spokane\", \"overdose\": 1, \"overdose_per_100k\": 13.30697285377538}, {\"County\": \"Spokane\", \"County Code\": 53063.0, \"Year\": 2011.0, \"Year Code\": 2011.0, \"Drug/Alcohol Induced Cause\": \"Drug poisonings (overdose) Suicide (X60-X64)\", \"Drug/Alcohol Induced Cause Code\": \"D2\", \"Deaths\": 10.0, \"State\": \"WA\", \"StateFIPS\": 53, \"CountyName\": \"Spokane\", \"StateName\": \"Washington\", \"CountyFIPS\": 53063, \"StateAbbr\": \"WA\", \"STATE_COUNTY\": \"WA | SPOKANE\", \"state_abbrev\": \"WA\", \"FIP_unique\": 5306353, \"Population\": 473436.0, \"county_test\": \"Spokane\", \"overdose\": 1, \"overdose_per_100k\": 2.112217913297679}, {\"County\": \"Thurston\", \"County Code\": 53067.0, \"Year\": 2009.0, \"Year Code\": 2009.0, \"Drug/Alcohol Induced Cause\": \"Drug poisonings (overdose) Unintentional (X40-X44)\", \"Drug/Alcohol Induced Cause Code\": \"D1\", \"Deaths\": 28.0, \"State\": \"WA\", \"StateFIPS\": 53, \"CountyName\": \"Thurston\", \"StateName\": \"Washington\", \"CountyFIPS\": 53067, \"StateAbbr\": \"WA\", \"STATE_COUNTY\": \"WA | THURSTON\", \"state_abbrev\": \"WA\", \"FIP_unique\": 5306753, \"Population\": 249936.0, \"county_test\": \"Thurston\", \"overdose\": 1, \"overdose_per_100k\": 11.202867934191154}, {\"County\": \"Thurston\", \"County Code\": 53067.0, \"Year\": 2010.0, \"Year Code\": 2010.0, \"Drug/Alcohol Induced Cause\": \"Drug poisonings (overdose) Unintentional (X40-X44)\", \"Drug/Alcohol Induced Cause Code\": \"D1\", \"Deaths\": 22.0, \"State\": \"WA\", \"StateFIPS\": 53, \"CountyName\": \"Thurston\", \"StateName\": \"Washington\", \"CountyFIPS\": 53067, \"StateAbbr\": \"WA\", \"STATE_COUNTY\": \"WA | THURSTON\", \"state_abbrev\": \"WA\", \"FIP_unique\": 5306753, \"Population\": 253001.0, \"county_test\": \"Thurston\", \"overdose\": 1, \"overdose_per_100k\": 8.695617803882199}, {\"County\": \"Thurston\", \"County Code\": 53067.0, \"Year\": 2011.0, \"Year Code\": 2011.0, \"Drug/Alcohol Induced Cause\": \"Drug poisonings (overdose) Unintentional (X40-X44)\", \"Drug/Alcohol Induced Cause Code\": \"D1\", \"Deaths\": 27.0, \"State\": \"WA\", \"StateFIPS\": 53, \"CountyName\": \"Thurston\", \"StateName\": \"Washington\", \"CountyFIPS\": 53067, \"StateAbbr\": \"WA\", \"STATE_COUNTY\": \"WA | THURSTON\", \"state_abbrev\": \"WA\", \"FIP_unique\": 5306753, \"Population\": 256386.0, \"county_test\": \"Thurston\", \"overdose\": 1, \"overdose_per_100k\": 10.53099623224357}, {\"County\": \"Whatcom\", \"County Code\": 53073.0, \"Year\": 2009.0, \"Year Code\": 2009.0, \"Drug/Alcohol Induced Cause\": \"Drug poisonings (overdose) Unintentional (X40-X44)\", \"Drug/Alcohol Induced Cause Code\": \"D1\", \"Deaths\": 18.0, \"State\": \"WA\", \"StateFIPS\": 53, \"CountyName\": \"Whatcom\", \"StateName\": \"Washington\", \"CountyFIPS\": 53073, \"StateAbbr\": \"WA\", \"STATE_COUNTY\": \"WA | WHATCOM\", \"state_abbrev\": \"WA\", \"FIP_unique\": 5307353, \"Population\": 199865.0, \"county_test\": \"Whatcom\", \"overdose\": 1, \"overdose_per_100k\": 9.006079103394791}, {\"County\": \"Whatcom\", \"County Code\": 53073.0, \"Year\": 2010.0, \"Year Code\": 2010.0, \"Drug/Alcohol Induced Cause\": \"Drug poisonings (overdose) Unintentional (X40-X44)\", \"Drug/Alcohol Induced Cause Code\": \"D1\", \"Deaths\": 14.0, \"State\": \"WA\", \"StateFIPS\": 53, \"CountyName\": \"Whatcom\", \"StateName\": \"Washington\", \"CountyFIPS\": 53073, \"StateAbbr\": \"WA\", \"STATE_COUNTY\": \"WA | WHATCOM\", \"state_abbrev\": \"WA\", \"FIP_unique\": 5307353, \"Population\": 201545.0, \"county_test\": \"Whatcom\", \"overdose\": 1, \"overdose_per_100k\": 6.946339527152745}, {\"County\": \"Whatcom\", \"County Code\": 53073.0, \"Year\": 2011.0, \"Year Code\": 2011.0, \"Drug/Alcohol Induced Cause\": \"Drug poisonings (overdose) Unintentional (X40-X44)\", \"Drug/Alcohol Induced Cause Code\": \"D1\", \"Deaths\": 19.0, \"State\": \"WA\", \"StateFIPS\": 53, \"CountyName\": \"Whatcom\", \"StateName\": \"Washington\", \"CountyFIPS\": 53073, \"StateAbbr\": \"WA\", \"STATE_COUNTY\": \"WA | WHATCOM\", \"state_abbrev\": \"WA\", \"FIP_unique\": 5307353, \"Population\": 203490.0, \"county_test\": \"Whatcom\", \"overdose\": 1, \"overdose_per_100k\": 9.337068160597571}, {\"County\": \"Yakima\", \"County Code\": 53077.0, \"Year\": 2009.0, \"Year Code\": 2009.0, \"Drug/Alcohol Induced Cause\": \"Drug poisonings (overdose) Unintentional (X40-X44)\", \"Drug/Alcohol Induced Cause Code\": \"D1\", \"Deaths\": 17.0, \"State\": \"WA\", \"StateFIPS\": 53, \"CountyName\": \"Yakima\", \"StateName\": \"Washington\", \"CountyFIPS\": 53077, \"StateAbbr\": \"WA\", \"STATE_COUNTY\": \"WA | YAKIMA\", \"state_abbrev\": \"WA\", \"FIP_unique\": 5307753, \"Population\": 239604.0, \"county_test\": \"Yakima\", \"overdose\": 1, \"overdose_per_100k\": 7.095040149580141}, {\"County\": \"Yakima\", \"County Code\": 53077.0, \"Year\": 2010.0, \"Year Code\": 2010.0, \"Drug/Alcohol Induced Cause\": \"Drug poisonings (overdose) Unintentional (X40-X44)\", \"Drug/Alcohol Induced Cause Code\": \"D1\", \"Deaths\": 24.0, \"State\": \"WA\", \"StateFIPS\": 53, \"CountyName\": \"Yakima\", \"StateName\": \"Washington\", \"CountyFIPS\": 53077, \"StateAbbr\": \"WA\", \"STATE_COUNTY\": \"WA | YAKIMA\", \"state_abbrev\": \"WA\", \"FIP_unique\": 5307753, \"Population\": 244256.0, \"county_test\": \"Yakima\", \"overdose\": 1, \"overdose_per_100k\": 9.82575658325691}, {\"County\": \"Yakima\", \"County Code\": 53077.0, \"Year\": 2011.0, \"Year Code\": 2011.0, \"Drug/Alcohol Induced Cause\": \"Drug poisonings (overdose) Unintentional (X40-X44)\", \"Drug/Alcohol Induced Cause Code\": \"D1\", \"Deaths\": 14.0, \"State\": \"WA\", \"StateFIPS\": 53, \"CountyName\": \"Yakima\", \"StateName\": \"Washington\", \"CountyFIPS\": 53077, \"StateAbbr\": \"WA\", \"STATE_COUNTY\": \"WA | YAKIMA\", \"state_abbrev\": \"WA\", \"FIP_unique\": 5307753, \"Population\": 245926.0, \"county_test\": \"Yakima\", \"overdose\": 1, \"overdose_per_100k\": 5.69276936964778}], \"data-89a0c5155a3d9dea49090e1abe14668f\": [{\"Year\": 2009.0, \"overdose_per_100k\": 10.727849911348812, \"ci_low\": 8.276827823312992, \"ci_high\": 13.178871999384633}, {\"Year\": 2009.02, \"overdose_per_100k\": 10.7145531397573, \"ci_low\": 8.292828966823082, \"ci_high\": 13.136277312691517}, {\"Year\": 2009.04, \"overdose_per_100k\": 10.701256368165787, \"ci_low\": 8.308595820477624, \"ci_high\": 13.09391691585395}, {\"Year\": 2009.06, \"overdose_per_100k\": 10.687959596574274, \"ci_low\": 8.3241197424156, \"ci_high\": 13.051799450732947}, {\"Year\": 2009.08, \"overdose_per_100k\": 10.674662824982533, \"ci_low\": 8.339391738211356, \"ci_high\": 13.009933911753711}, {\"Year\": 2009.1, \"overdose_per_100k\": 10.66136605339102, \"ci_low\": 8.3544024485056, \"ci_high\": 12.968329658276442}, {\"Year\": 2009.12, \"overdose_per_100k\": 10.648069281799508, \"ci_low\": 8.36914213667672, \"ci_high\": 12.926996426922296}, {\"Year\": 2009.1399999999999, \"overdose_per_100k\": 10.634772510207995, \"ci_low\": 8.383600676641079, \"ci_high\": 12.885944343774911}, {\"Year\": 2009.1599999999999, \"overdose_per_100k\": 10.621475738616482, \"ci_low\": 8.397767540882471, \"ci_high\": 12.845183936350493}, {\"Year\": 2009.1799999999998, \"overdose_per_100k\": 10.608178967024742, \"ci_low\": 8.411631788827105, \"ci_high\": 12.804726145222379}, {\"Year\": 2009.1999999999998, \"overdose_per_100k\": 10.594882195433229, \"ci_low\": 8.425182055694439, \"ci_high\": 12.764582335172019}, {\"Year\": 2009.2199999999998, \"overdose_per_100k\": 10.581585423841716, \"ci_low\": 8.438406541976715, \"ci_high\": 12.724764305706717}, {\"Year\": 2009.2399999999998, \"overdose_per_100k\": 10.568288652250203, \"ci_low\": 8.451293003714838, \"ci_high\": 12.685284300785568}, {\"Year\": 2009.2599999999998, \"overdose_per_100k\": 10.554991880658463, \"ci_low\": 8.46382874376113, \"ci_high\": 12.646155017555795}, {\"Year\": 2009.2799999999997, \"overdose_per_100k\": 10.54169510906695, \"ci_low\": 8.476000604239147, \"ci_high\": 12.607389613894753}, {\"Year\": 2009.2999999999997, \"overdose_per_100k\": 10.528398337475437, \"ci_low\": 8.487794960435123, \"ci_high\": 12.569001714515752}, {\"Year\": 2009.3199999999997, \"overdose_per_100k\": 10.515101565883924, \"ci_low\": 8.49919771637722, \"ci_high\": 12.531005415390629}, {\"Year\": 2009.3399999999997, \"overdose_per_100k\": 10.501804794292411, \"ci_low\": 8.510194302384262, \"ci_high\": 12.49341528620056}, {\"Year\": 2009.3599999999997, \"overdose_per_100k\": 10.488508022700671, \"ci_low\": 8.52076967488657, \"ci_high\": 12.456246370514773}, {\"Year\": 2009.3799999999997, \"overdose_per_100k\": 10.475211251109158, \"ci_low\": 8.530908318849686, \"ci_high\": 12.41951418336863}, {\"Year\": 2009.3999999999996, \"overdose_per_100k\": 10.461914479517645, \"ci_low\": 8.540594253141405, \"ci_high\": 12.383234705893885}, {\"Year\": 2009.4199999999996, \"overdose_per_100k\": 10.448617707926132, \"ci_low\": 8.54981103921863, \"ci_high\": 12.347424376633635}, {\"Year\": 2009.4399999999996, \"overdose_per_100k\": 10.435320936334392, \"ci_low\": 8.558541793512923, \"ci_high\": 12.312100079155861}, {\"Year\": 2009.4599999999996, \"overdose_per_100k\": 10.42202416474288, \"ci_low\": 8.566769203912209, \"ci_high\": 12.27727912557355}, {\"Year\": 2009.4799999999996, \"overdose_per_100k\": 10.408727393151366, \"ci_low\": 8.574475550737287, \"ci_high\": 12.242979235565446}, {\"Year\": 2009.4999999999995, \"overdose_per_100k\": 10.395430621559854, \"ci_low\": 8.581642732619255, \"ci_high\": 12.209218510500452}, {\"Year\": 2009.5199999999995, \"overdose_per_100k\": 10.38213384996834, \"ci_low\": 8.58825229766596, \"ci_high\": 12.176015402270721}, {\"Year\": 2009.5399999999995, \"overdose_per_100k\": 10.3688370783766, \"ci_low\": 8.594285480290232, \"ci_high\": 12.143388676462969}, {\"Year\": 2009.5599999999995, \"overdose_per_100k\": 10.355540306785088, \"ci_low\": 8.59972324404604, \"ci_high\": 12.111357369524136}, {\"Year\": 2009.5799999999995, \"overdose_per_100k\": 10.342243535193575, \"ci_low\": 8.604546330760007, \"ci_high\": 12.079940739627142}, {\"Year\": 2009.5999999999995, \"overdose_per_100k\": 10.328946763602062, \"ci_low\": 8.608735316209051, \"ci_high\": 12.049158210995072}, {\"Year\": 2009.6199999999994, \"overdose_per_100k\": 10.315649992010549, \"ci_low\": 8.612270672497822, \"ci_high\": 12.019029311523276}, {\"Year\": 2009.6399999999994, \"overdose_per_100k\": 10.302353220418809, \"ci_low\": 8.615132837214277, \"ci_high\": 11.98957360362334}, {\"Year\": 2009.6599999999994, \"overdose_per_100k\": 10.289056448827296, \"ci_low\": 8.6173022893249, \"ci_high\": 11.960810608329691}, {\"Year\": 2009.6799999999994, \"overdose_per_100k\": 10.275759677235783, \"ci_low\": 8.618759631646693, \"ci_high\": 11.932759722824873}, {\"Year\": 2009.6999999999994, \"overdose_per_100k\": 10.26246290564427, \"ci_low\": 8.619485679598217, \"ci_high\": 11.905440131690323}, {\"Year\": 2009.7199999999993, \"overdose_per_100k\": 10.24916613405253, \"ci_low\": 8.61946155576673, \"ci_high\": 11.87887071233833}, {\"Year\": 2009.7399999999993, \"overdose_per_100k\": 10.235869362461017, \"ci_low\": 8.618668789674535, \"ci_high\": 11.853069935247499}, {\"Year\": 2009.7599999999993, \"overdose_per_100k\": 10.222572590869504, \"ci_low\": 8.617089421941468, \"ci_high\": 11.82805575979754}, {\"Year\": 2009.7799999999993, \"overdose_per_100k\": 10.209275819277991, \"ci_low\": 8.614706111878, \"ci_high\": 11.803845526677982}, {\"Year\": 2009.7999999999993, \"overdose_per_100k\": 10.195979047686478, \"ci_low\": 8.611502247364148, \"ci_high\": 11.780455848008808}, {\"Year\": 2009.8199999999993, \"overdose_per_100k\": 10.182682276094738, \"ci_low\": 8.60746205570738, \"ci_high\": 11.757902496482096}, {\"Year\": 2009.8399999999992, \"overdose_per_100k\": 10.169385504503225, \"ci_low\": 8.602570714034925, \"ci_high\": 11.736200294971525}, {\"Year\": 2009.8599999999992, \"overdose_per_100k\": 10.156088732911712, \"ci_low\": 8.596814457648135, \"ci_high\": 11.71536300817529}, {\"Year\": 2009.8799999999992, \"overdose_per_100k\": 10.1427919613202, \"ci_low\": 8.59018068468882, \"ci_high\": 11.695403237951579}, {\"Year\": 2009.8999999999992, \"overdose_per_100k\": 10.129495189728459, \"ci_low\": 8.5826580554112, \"ci_high\": 11.676332324045719}, {\"Year\": 2009.9199999999992, \"overdose_per_100k\": 10.116198418136946, \"ci_low\": 8.574236584355663, \"ci_high\": 11.658160251918229}, {\"Year\": 2009.9399999999991, \"overdose_per_100k\": 10.102901646545433, \"ci_low\": 8.564907723758616, \"ci_high\": 11.640895569332251}, {\"Year\": 2009.9599999999991, \"overdose_per_100k\": 10.08960487495392, \"ci_low\": 8.55466443663856, \"ci_high\": 11.62454531326928}, {\"Year\": 2009.979999999999, \"overdose_per_100k\": 10.076308103362408, \"ci_low\": 8.543501258134404, \"ci_high\": 11.609114948590411}, {\"Year\": 2009.999999999999, \"overdose_per_100k\": 10.063011331770667, \"ci_low\": 8.531414343873529, \"ci_high\": 11.594608319667806}, {\"Year\": 2010.019999999999, \"overdose_per_100k\": 10.049714560179154, \"ci_low\": 8.518401504383935, \"ci_high\": 11.581027615974374}, {\"Year\": 2010.039999999999, \"overdose_per_100k\": 10.036417788587642, \"ci_low\": 8.504462224833329, \"ci_high\": 11.568373352341954}, {\"Year\": 2010.059999999999, \"overdose_per_100k\": 10.023121016996129, \"ci_low\": 8.489597669686987, \"ci_high\": 11.55664436430527}, {\"Year\": 2010.079999999999, \"overdose_per_100k\": 10.009824245404616, \"ci_low\": 8.473810672182577, \"ci_high\": 11.545837818626655}, {\"Year\": 2010.099999999999, \"overdose_per_100k\": 9.996527473812876, \"ci_low\": 8.45710570884461, \"ci_high\": 11.535949238781141}, {\"Year\": 2010.119999999999, \"overdose_per_100k\": 9.983230702221363, \"ci_low\": 8.439488859571128, \"ci_high\": 11.526972544871597}, {\"Year\": 2010.139999999999, \"overdose_per_100k\": 9.96993393062985, \"ci_low\": 8.420967754112102, \"ci_high\": 11.518900107147598}, {\"Year\": 2010.159999999999, \"overdose_per_100k\": 9.956637159038337, \"ci_low\": 8.401551506028097, \"ci_high\": 11.511722812048577}, {\"Year\": 2010.179999999999, \"overdose_per_100k\": 9.943340387446597, \"ci_low\": 8.381250635429636, \"ci_high\": 11.505430139463558}, {\"Year\": 2010.199999999999, \"overdose_per_100k\": 9.930043615855084, \"ci_low\": 8.360076981983507, \"ci_high\": 11.50001024972666}, {\"Year\": 2010.219999999999, \"overdose_per_100k\": 9.916746844263571, \"ci_low\": 8.338043609789402, \"ci_high\": 11.49545007873774}, {\"Year\": 2010.2399999999989, \"overdose_per_100k\": 9.903450072672058, \"ci_low\": 8.31516470581764, \"ci_high\": 11.491735439526476}, {\"Year\": 2010.2599999999989, \"overdose_per_100k\": 9.890153301080545, \"ci_low\": 8.291455473614686, \"ci_high\": 11.488851128546404}, {\"Year\": 2010.2799999999988, \"overdose_per_100k\": 9.876856529488805, \"ci_low\": 8.266932023966891, \"ci_high\": 11.486781035010718}, {\"Year\": 2010.2999999999988, \"overdose_per_100k\": 9.863559757897292, \"ci_low\": 8.241611264149219, \"ci_high\": 11.485508251645365}, {\"Year\": 2010.3199999999988, \"overdose_per_100k\": 9.85026298630578, \"ci_low\": 8.215510787280245, \"ci_high\": 11.485015185331314}, {\"Year\": 2010.3399999999988, \"overdose_per_100k\": 9.836966214714266, \"ci_low\": 8.188648763183377, \"ci_high\": 11.485283666245156}, {\"Year\": 2010.3599999999988, \"overdose_per_100k\": 9.823669443122526, \"ci_low\": 8.161043831994235, \"ci_high\": 11.486295054250817}, {\"Year\": 2010.3799999999987, \"overdose_per_100k\": 9.810372671531013, \"ci_low\": 8.132715001595571, \"ci_high\": 11.488030341466455}, {\"Year\": 2010.3999999999987, \"overdose_per_100k\": 9.7970758999395, \"ci_low\": 8.10368154977688, \"ci_high\": 11.49047025010212}, {\"Year\": 2010.4199999999987, \"overdose_per_100k\": 9.783779128347987, \"ci_low\": 8.073962931855611, \"ci_high\": 11.493595324840364}, {\"Year\": 2010.4399999999987, \"overdose_per_100k\": 9.770482356756474, \"ci_low\": 8.043578694310707, \"ci_high\": 11.497386019202242}, {\"Year\": 2010.4599999999987, \"overdose_per_100k\": 9.757185585164734, \"ci_low\": 8.012548394828414, \"ci_high\": 11.501822775501054}, {\"Year\": 2010.4799999999987, \"overdose_per_100k\": 9.743888813573221, \"ci_low\": 7.98089152900453, \"ci_high\": 11.506886098141914}, {\"Year\": 2010.4999999999986, \"overdose_per_100k\": 9.730592041981708, \"ci_low\": 7.948627463814226, \"ci_high\": 11.51255662014919}, {\"Year\": 2010.5199999999986, \"overdose_per_100k\": 9.717295270390196, \"ci_low\": 7.915775377842195, \"ci_high\": 11.518815162938196}, {\"Year\": 2010.5399999999986, \"overdose_per_100k\": 9.703998498798455, \"ci_low\": 7.882354208162896, \"ci_high\": 11.525642789434015}, {\"Year\": 2010.5599999999986, \"overdose_per_100k\": 9.690701727206942, \"ci_low\": 7.848382603678473, \"ci_high\": 11.533020850735411}, {\"Year\": 2010.5799999999986, \"overdose_per_100k\": 9.67740495561543, \"ci_low\": 7.813878884644405, \"ci_high\": 11.540931026586454}, {\"Year\": 2010.5999999999985, \"overdose_per_100k\": 9.664108184023917, \"ci_low\": 7.778861008077426, \"ci_high\": 11.549355359970408}, {\"Year\": 2010.6199999999985, \"overdose_per_100k\": 9.650811412432404, \"ci_low\": 7.743346538681295, \"ci_high\": 11.558276286183514}, {\"Year\": 2010.6399999999985, \"overdose_per_100k\": 9.637514640840664, \"ci_low\": 7.707352624912876, \"ci_high\": 11.567676656768452}, {\"Year\": 2010.6599999999985, \"overdose_per_100k\": 9.62421786924915, \"ci_low\": 7.670895979794321, \"ci_high\": 11.57753975870398}, {\"Year\": 2010.6799999999985, \"overdose_per_100k\": 9.610921097657638, \"ci_low\": 7.633992866064366, \"ci_high\": 11.58784932925091}, {\"Year\": 2010.6999999999985, \"overdose_per_100k\": 9.597624326066125, \"ci_low\": 7.596659085269951, \"ci_high\": 11.598589566862298}, {\"Year\": 2010.7199999999984, \"overdose_per_100k\": 9.584327554474612, \"ci_low\": 7.5589099704113565, \"ci_high\": 11.609745138537868}, {\"Year\": 2010.7399999999984, \"overdose_per_100k\": 9.571030782882872, \"ci_low\": 7.520760381753388, \"ci_high\": 11.621301184012356}, {\"Year\": 2010.7599999999984, \"overdose_per_100k\": 9.557734011291359, \"ci_low\": 7.482224705454158, \"ci_high\": 11.63324331712856}, {\"Year\": 2010.7799999999984, \"overdose_per_100k\": 9.544437239699846, \"ci_low\": 7.443316854656935, \"ci_high\": 11.645557624742757}, {\"Year\": 2010.7999999999984, \"overdose_per_100k\": 9.531140468108333, \"ci_low\": 7.404050272741907, \"ci_high\": 11.65823066347476}, {\"Year\": 2010.8199999999983, \"overdose_per_100k\": 9.517843696516593, \"ci_low\": 7.3644379384298695, \"ci_high\": 11.671249454603316}, {\"Year\": 2010.8399999999983, \"overdose_per_100k\": 9.50454692492508, \"ci_low\": 7.324492372476385, \"ci_high\": 11.684601477373775}, {\"Year\": 2010.8599999999983, \"overdose_per_100k\": 9.491250153333567, \"ci_low\": 7.2842256456988235, \"ci_high\": 11.69827466096831}, {\"Year\": 2010.8799999999983, \"overdose_per_100k\": 9.477953381742054, \"ci_low\": 7.243649388122665, \"ci_high\": 11.712257375361443}, {\"Year\": 2010.8999999999983, \"overdose_per_100k\": 9.464656610150541, \"ci_low\": 7.202774799033573, \"ci_high\": 11.72653842126751}, {\"Year\": 2010.9199999999983, \"overdose_per_100k\": 9.451359838558801, \"ci_low\": 7.161612657759822, \"ci_high\": 11.74110701935778}, {\"Year\": 2010.9399999999982, \"overdose_per_100k\": 9.438063066967288, \"ci_low\": 7.120173335024236, \"ci_high\": 11.75595279891034}, {\"Year\": 2010.9599999999982, \"overdose_per_100k\": 9.424766295375775, \"ci_low\": 7.078466804715394, \"ci_high\": 11.771065786036157}, {\"Year\": 2010.9799999999982, \"overdose_per_100k\": 9.411469523784262, \"ci_low\": 7.036502655961627, \"ci_high\": 11.786436391606898}, {\"Year\": 2010.9999999999982, \"overdose_per_100k\": 9.398172752192522, \"ci_low\": 6.994290105391412, \"ci_high\": 11.802055398993632}]}}, {\"mode\": \"vega-lite\"});\n",
       "</script>"
      ],
      "text/plain": [
       "alt.LayerChart(...)"
      ]
     },
     "execution_count": 21,
     "metadata": {},
     "output_type": "execute_result"
    }
   ],
   "source": [
    "plot_b4 + reg_chart_b4"
   ]
  },
  {
   "cell_type": "code",
   "execution_count": 22,
   "metadata": {},
   "outputs": [
    {
     "data": {
      "text/html": [
       "\n",
       "<div id=\"altair-viz-c5c0c319507645248339d65a9197e14c\"></div>\n",
       "<script type=\"text/javascript\">\n",
       "  var VEGA_DEBUG = (typeof VEGA_DEBUG == \"undefined\") ? {} : VEGA_DEBUG;\n",
       "  (function(spec, embedOpt){\n",
       "    let outputDiv = document.currentScript.previousElementSibling;\n",
       "    if (outputDiv.id !== \"altair-viz-c5c0c319507645248339d65a9197e14c\") {\n",
       "      outputDiv = document.getElementById(\"altair-viz-c5c0c319507645248339d65a9197e14c\");\n",
       "    }\n",
       "    const paths = {\n",
       "      \"vega\": \"https://cdn.jsdelivr.net/npm//vega@5?noext\",\n",
       "      \"vega-lib\": \"https://cdn.jsdelivr.net/npm//vega-lib?noext\",\n",
       "      \"vega-lite\": \"https://cdn.jsdelivr.net/npm//vega-lite@4.17.0?noext\",\n",
       "      \"vega-embed\": \"https://cdn.jsdelivr.net/npm//vega-embed@6?noext\",\n",
       "    };\n",
       "\n",
       "    function maybeLoadScript(lib, version) {\n",
       "      var key = `${lib.replace(\"-\", \"\")}_version`;\n",
       "      return (VEGA_DEBUG[key] == version) ?\n",
       "        Promise.resolve(paths[lib]) :\n",
       "        new Promise(function(resolve, reject) {\n",
       "          var s = document.createElement('script');\n",
       "          document.getElementsByTagName(\"head\")[0].appendChild(s);\n",
       "          s.async = true;\n",
       "          s.onload = () => {\n",
       "            VEGA_DEBUG[key] = version;\n",
       "            return resolve(paths[lib]);\n",
       "          };\n",
       "          s.onerror = () => reject(`Error loading script: ${paths[lib]}`);\n",
       "          s.src = paths[lib];\n",
       "        });\n",
       "    }\n",
       "\n",
       "    function showError(err) {\n",
       "      outputDiv.innerHTML = `<div class=\"error\" style=\"color:red;\">${err}</div>`;\n",
       "      throw err;\n",
       "    }\n",
       "\n",
       "    function displayChart(vegaEmbed) {\n",
       "      vegaEmbed(outputDiv, spec, embedOpt)\n",
       "        .catch(err => showError(`Javascript Error: ${err.message}<br>This usually means there's a typo in your chart specification. See the javascript console for the full traceback.`));\n",
       "    }\n",
       "\n",
       "    if(typeof define === \"function\" && define.amd) {\n",
       "      requirejs.config({paths});\n",
       "      require([\"vega-embed\"], displayChart, err => showError(`Error loading script: ${err.message}`));\n",
       "    } else {\n",
       "      maybeLoadScript(\"vega\", \"5\")\n",
       "        .then(() => maybeLoadScript(\"vega-lite\", \"4.17.0\"))\n",
       "        .then(() => maybeLoadScript(\"vega-embed\", \"6\"))\n",
       "        .catch(showError)\n",
       "        .then(() => displayChart(vegaEmbed));\n",
       "    }\n",
       "  })({\"config\": {\"view\": {\"continuousWidth\": 400, \"continuousHeight\": 300}}, \"layer\": [{\"data\": {\"name\": \"data-f55a150dc32fdc83c8e30ac57d2f4b8e\"}, \"mark\": \"point\", \"encoding\": {\"x\": {\"field\": \"Year\", \"scale\": {\"zero\": false}, \"type\": \"ordinal\"}, \"y\": {\"field\": \"mean_overdose\", \"scale\": {\"zero\": false}, \"type\": \"quantitative\"}}, \"transform\": [{\"aggregate\": [{\"op\": \"mean\", \"field\": \"overdose_per_100k\", \"as\": \"mean_overdose\"}], \"groupby\": [\"Year\"]}]}, {\"layer\": [{\"mark\": \"errorband\", \"encoding\": {\"x\": {\"field\": \"Year\", \"type\": \"quantitative\"}, \"y\": {\"field\": \"ci_low\", \"title\": \"overdose_per_100k\", \"type\": \"quantitative\"}, \"y2\": {\"field\": \"ci_high\"}}}, {\"mark\": \"line\", \"encoding\": {\"x\": {\"field\": \"Year\", \"type\": \"quantitative\"}, \"y\": {\"field\": \"overdose_per_100k\", \"type\": \"quantitative\"}}}], \"data\": {\"name\": \"data-e1b4628f9a1f3fb1f5263431d0a03953\"}}], \"$schema\": \"https://vega.github.io/schema/vega-lite/v4.17.0.json\", \"datasets\": {\"data-f55a150dc32fdc83c8e30ac57d2f4b8e\": [{\"County\": \"Benton\", \"County Code\": 53005.0, \"Year\": 2012.0, \"Year Code\": 2012.0, \"Drug/Alcohol Induced Cause\": \"Drug poisonings (overdose) Unintentional (X40-X44)\", \"Drug/Alcohol Induced Cause Code\": \"D1\", \"Deaths\": 16.0, \"State\": \"WA\", \"StateFIPS\": 53, \"CountyName\": \"Benton\", \"StateName\": \"Washington\", \"CountyFIPS\": 53005, \"StateAbbr\": \"WA\", \"STATE_COUNTY\": \"WA | BENTON\", \"state_abbrev\": \"WA\", \"FIP_unique\": 5300553, \"Population\": 182373.0, \"county_test\": \"Benton\", \"overdose\": 1, \"overdose_per_100k\": 8.773228493252839}, {\"County\": \"Benton\", \"County Code\": 53005.0, \"Year\": 2013.0, \"Year Code\": 2013.0, \"Drug/Alcohol Induced Cause\": \"Drug poisonings (overdose) Unintentional (X40-X44)\", \"Drug/Alcohol Induced Cause Code\": \"D1\", \"Deaths\": 18.0, \"State\": \"WA\", \"StateFIPS\": 53, \"CountyName\": \"Benton\", \"StateName\": \"Washington\", \"CountyFIPS\": 53005, \"StateAbbr\": \"WA\", \"STATE_COUNTY\": \"WA | BENTON\", \"state_abbrev\": \"WA\", \"FIP_unique\": 5300553, \"Population\": 184318.0, \"county_test\": \"Benton\", \"overdose\": 1, \"overdose_per_100k\": 9.765730964962728}, {\"County\": \"Benton\", \"County Code\": 53005.0, \"Year\": 2014.0, \"Year Code\": 2014.0, \"Drug/Alcohol Induced Cause\": \"Drug poisonings (overdose) Unintentional (X40-X44)\", \"Drug/Alcohol Induced Cause Code\": \"D1\", \"Deaths\": 20.0, \"State\": \"WA\", \"StateFIPS\": 53, \"CountyName\": \"Benton\", \"StateName\": \"Washington\", \"CountyFIPS\": 53005, \"StateAbbr\": \"WA\", \"STATE_COUNTY\": \"WA | BENTON\", \"state_abbrev\": \"WA\", \"FIP_unique\": 5300553, \"Population\": 186489.0, \"county_test\": \"Benton\", \"overdose\": 1, \"overdose_per_100k\": 10.724493133643271}, {\"County\": \"Benton\", \"County Code\": 53005.0, \"Year\": 2015.0, \"Year Code\": 2015.0, \"Drug/Alcohol Induced Cause\": \"Drug poisonings (overdose) Unintentional (X40-X44)\", \"Drug/Alcohol Induced Cause Code\": \"D1\", \"Deaths\": 28.0, \"State\": \"WA\", \"StateFIPS\": 53, \"CountyName\": \"Benton\", \"StateName\": \"Washington\", \"CountyFIPS\": 53005, \"StateAbbr\": \"WA\", \"STATE_COUNTY\": \"WA | BENTON\", \"state_abbrev\": \"WA\", \"FIP_unique\": 5300553, \"Population\": 190218.0, \"county_test\": \"Benton\", \"overdose\": 1, \"overdose_per_100k\": 14.719952896150732}, {\"County\": \"Clallam\", \"County Code\": 53009.0, \"Year\": 2012.0, \"Year Code\": 2012.0, \"Drug/Alcohol Induced Cause\": \"Drug poisonings (overdose) Unintentional (X40-X44)\", \"Drug/Alcohol Induced Cause Code\": \"D1\", \"Deaths\": 12.0, \"State\": \"WA\", \"StateFIPS\": 53, \"CountyName\": \"Clallam\", \"StateName\": \"Washington\", \"CountyFIPS\": 53009, \"StateAbbr\": \"WA\", \"STATE_COUNTY\": \"WA | CLALLAM\", \"state_abbrev\": \"WA\", \"FIP_unique\": 5300953, \"Population\": 71766.0, \"county_test\": \"Clallam\", \"overdose\": 1, \"overdose_per_100k\": 16.72100994900092}, {\"County\": \"Clallam\", \"County Code\": 53009.0, \"Year\": 2013.0, \"Year Code\": 2013.0, \"Drug/Alcohol Induced Cause\": \"Drug poisonings (overdose) Unintentional (X40-X44)\", \"Drug/Alcohol Induced Cause Code\": \"D1\", \"Deaths\": 15.0, \"State\": \"WA\", \"StateFIPS\": 53, \"CountyName\": \"Clallam\", \"StateName\": \"Washington\", \"CountyFIPS\": 53009, \"StateAbbr\": \"WA\", \"STATE_COUNTY\": \"WA | CLALLAM\", \"state_abbrev\": \"WA\", \"FIP_unique\": 5300953, \"Population\": 72046.0, \"county_test\": \"Clallam\", \"overdose\": 1, \"overdose_per_100k\": 20.8200316464481}, {\"County\": \"Clallam\", \"County Code\": 53009.0, \"Year\": 2015.0, \"Year Code\": 2015.0, \"Drug/Alcohol Induced Cause\": \"Drug poisonings (overdose) Unintentional (X40-X44)\", \"Drug/Alcohol Induced Cause Code\": \"D1\", \"Deaths\": 12.0, \"State\": \"WA\", \"StateFIPS\": 53, \"CountyName\": \"Clallam\", \"StateName\": \"Washington\", \"CountyFIPS\": 53009, \"StateAbbr\": \"WA\", \"STATE_COUNTY\": \"WA | CLALLAM\", \"state_abbrev\": \"WA\", \"FIP_unique\": 5300953, \"Population\": 73202.0, \"county_test\": \"Clallam\", \"overdose\": 1, \"overdose_per_100k\": 16.39299472692003}, {\"County\": \"Clark\", \"County Code\": 53011.0, \"Year\": 2012.0, \"Year Code\": 2012.0, \"Drug/Alcohol Induced Cause\": \"Drug poisonings (overdose) Unintentional (X40-X44)\", \"Drug/Alcohol Induced Cause Code\": \"D1\", \"Deaths\": 52.0, \"State\": \"WA\", \"StateFIPS\": 53, \"CountyName\": \"Clark\", \"StateName\": \"Washington\", \"CountyFIPS\": 53011, \"StateAbbr\": \"WA\", \"STATE_COUNTY\": \"WA | CLARK\", \"state_abbrev\": \"WA\", \"FIP_unique\": 5301153, \"Population\": 436361.0, \"county_test\": \"Clark\", \"overdose\": 1, \"overdose_per_100k\": 11.916738663629426}, {\"County\": \"Clark\", \"County Code\": 53011.0, \"Year\": 2012.0, \"Year Code\": 2012.0, \"Drug/Alcohol Induced Cause\": \"Drug poisonings (overdose) Suicide (X60-X64)\", \"Drug/Alcohol Induced Cause Code\": \"D2\", \"Deaths\": 10.0, \"State\": \"WA\", \"StateFIPS\": 53, \"CountyName\": \"Clark\", \"StateName\": \"Washington\", \"CountyFIPS\": 53011, \"StateAbbr\": \"WA\", \"STATE_COUNTY\": \"WA | CLARK\", \"state_abbrev\": \"WA\", \"FIP_unique\": 5301153, \"Population\": 436361.0, \"county_test\": \"Clark\", \"overdose\": 1, \"overdose_per_100k\": 2.2916805122364283}, {\"County\": \"Clark\", \"County Code\": 53011.0, \"Year\": 2013.0, \"Year Code\": 2013.0, \"Drug/Alcohol Induced Cause\": \"Drug poisonings (overdose) Unintentional (X40-X44)\", \"Drug/Alcohol Induced Cause Code\": \"D1\", \"Deaths\": 46.0, \"State\": \"WA\", \"StateFIPS\": 53, \"CountyName\": \"Clark\", \"StateName\": \"Washington\", \"CountyFIPS\": 53011, \"StateAbbr\": \"WA\", \"STATE_COUNTY\": \"WA | CLARK\", \"state_abbrev\": \"WA\", \"FIP_unique\": 5301153, \"Population\": 441341.0, \"county_test\": \"Clark\", \"overdose\": 1, \"overdose_per_100k\": 10.42277966470371}, {\"County\": \"Clark\", \"County Code\": 53011.0, \"Year\": 2013.0, \"Year Code\": 2013.0, \"Drug/Alcohol Induced Cause\": \"Drug poisonings (overdose) Suicide (X60-X64)\", \"Drug/Alcohol Induced Cause Code\": \"D2\", \"Deaths\": 11.0, \"State\": \"WA\", \"StateFIPS\": 53, \"CountyName\": \"Clark\", \"StateName\": \"Washington\", \"CountyFIPS\": 53011, \"StateAbbr\": \"WA\", \"STATE_COUNTY\": \"WA | CLARK\", \"state_abbrev\": \"WA\", \"FIP_unique\": 5301153, \"Population\": 441341.0, \"county_test\": \"Clark\", \"overdose\": 1, \"overdose_per_100k\": 2.4924038328639306}, {\"County\": \"Clark\", \"County Code\": 53011.0, \"Year\": 2014.0, \"Year Code\": 2014.0, \"Drug/Alcohol Induced Cause\": \"Drug poisonings (overdose) Unintentional (X40-X44)\", \"Drug/Alcohol Induced Cause Code\": \"D1\", \"Deaths\": 45.0, \"State\": \"WA\", \"StateFIPS\": 53, \"CountyName\": \"Clark\", \"StateName\": \"Washington\", \"CountyFIPS\": 53011, \"StateAbbr\": \"WA\", \"STATE_COUNTY\": \"WA | CLARK\", \"state_abbrev\": \"WA\", \"FIP_unique\": 5301153, \"Population\": 448202.0, \"county_test\": \"Clark\", \"overdose\": 1, \"overdose_per_100k\": 10.040115840625432}, {\"County\": \"Clark\", \"County Code\": 53011.0, \"Year\": 2014.0, \"Year Code\": 2014.0, \"Drug/Alcohol Induced Cause\": \"Drug poisonings (overdose) Suicide (X60-X64)\", \"Drug/Alcohol Induced Cause Code\": \"D2\", \"Deaths\": 14.0, \"State\": \"WA\", \"StateFIPS\": 53, \"CountyName\": \"Clark\", \"StateName\": \"Washington\", \"CountyFIPS\": 53011, \"StateAbbr\": \"WA\", \"STATE_COUNTY\": \"WA | CLARK\", \"state_abbrev\": \"WA\", \"FIP_unique\": 5301153, \"Population\": 448202.0, \"county_test\": \"Clark\", \"overdose\": 1, \"overdose_per_100k\": 3.123591594861246}, {\"County\": \"Clark\", \"County Code\": 53011.0, \"Year\": 2015.0, \"Year Code\": 2015.0, \"Drug/Alcohol Induced Cause\": \"Drug poisonings (overdose) Unintentional (X40-X44)\", \"Drug/Alcohol Induced Cause Code\": \"D1\", \"Deaths\": 59.0, \"State\": \"WA\", \"StateFIPS\": 53, \"CountyName\": \"Clark\", \"StateName\": \"Washington\", \"CountyFIPS\": 53011, \"StateAbbr\": \"WA\", \"STATE_COUNTY\": \"WA | CLARK\", \"state_abbrev\": \"WA\", \"FIP_unique\": 5301153, \"Population\": 456939.0, \"county_test\": \"Clark\", \"overdose\": 1, \"overdose_per_100k\": 12.912007948544556}, {\"County\": \"Cowlitz\", \"County Code\": 53015.0, \"Year\": 2012.0, \"Year Code\": 2012.0, \"Drug/Alcohol Induced Cause\": \"Drug poisonings (overdose) Unintentional (X40-X44)\", \"Drug/Alcohol Induced Cause Code\": \"D1\", \"Deaths\": 23.0, \"State\": \"WA\", \"StateFIPS\": 53, \"CountyName\": \"Cowlitz\", \"StateName\": \"Washington\", \"CountyFIPS\": 53015, \"StateAbbr\": \"WA\", \"STATE_COUNTY\": \"WA | COWLITZ\", \"state_abbrev\": \"WA\", \"FIP_unique\": 5301553, \"Population\": 101663.0, \"county_test\": \"Cowlitz\", \"overdose\": 1, \"overdose_per_100k\": 22.62376675880114}, {\"County\": \"Cowlitz\", \"County Code\": 53015.0, \"Year\": 2013.0, \"Year Code\": 2013.0, \"Drug/Alcohol Induced Cause\": \"Drug poisonings (overdose) Unintentional (X40-X44)\", \"Drug/Alcohol Induced Cause Code\": \"D1\", \"Deaths\": 21.0, \"State\": \"WA\", \"StateFIPS\": 53, \"CountyName\": \"Cowlitz\", \"StateName\": \"Washington\", \"CountyFIPS\": 53015, \"StateAbbr\": \"WA\", \"STATE_COUNTY\": \"WA | COWLITZ\", \"state_abbrev\": \"WA\", \"FIP_unique\": 5301553, \"Population\": 101483.0, \"county_test\": \"Cowlitz\", \"overdose\": 1, \"overdose_per_100k\": 20.69312101534247}, {\"County\": \"Cowlitz\", \"County Code\": 53015.0, \"Year\": 2014.0, \"Year Code\": 2014.0, \"Drug/Alcohol Induced Cause\": \"Drug poisonings (overdose) Unintentional (X40-X44)\", \"Drug/Alcohol Induced Cause Code\": \"D1\", \"Deaths\": 21.0, \"State\": \"WA\", \"StateFIPS\": 53, \"CountyName\": \"Cowlitz\", \"StateName\": \"Washington\", \"CountyFIPS\": 53015, \"StateAbbr\": \"WA\", \"STATE_COUNTY\": \"WA | COWLITZ\", \"state_abbrev\": \"WA\", \"FIP_unique\": 5301553, \"Population\": 101790.0, \"county_test\": \"Cowlitz\", \"overdose\": 1, \"overdose_per_100k\": 20.6307102858827}, {\"County\": \"Cowlitz\", \"County Code\": 53015.0, \"Year\": 2015.0, \"Year Code\": 2015.0, \"Drug/Alcohol Induced Cause\": \"Drug poisonings (overdose) Unintentional (X40-X44)\", \"Drug/Alcohol Induced Cause Code\": \"D1\", \"Deaths\": 15.0, \"State\": \"WA\", \"StateFIPS\": 53, \"CountyName\": \"Cowlitz\", \"StateName\": \"Washington\", \"CountyFIPS\": 53015, \"StateAbbr\": \"WA\", \"STATE_COUNTY\": \"WA | COWLITZ\", \"state_abbrev\": \"WA\", \"FIP_unique\": 5301553, \"Population\": 102999.0, \"county_test\": \"Cowlitz\", \"overdose\": 1, \"overdose_per_100k\": 14.563248186875601}, {\"County\": \"Grant\", \"County Code\": 53025.0, \"Year\": 2015.0, \"Year Code\": 2015.0, \"Drug/Alcohol Induced Cause\": \"Drug poisonings (overdose) Unintentional (X40-X44)\", \"Drug/Alcohol Induced Cause Code\": \"D1\", \"Deaths\": 11.0, \"State\": \"WA\", \"StateFIPS\": 53, \"CountyName\": \"Grant\", \"StateName\": \"Washington\", \"CountyFIPS\": 53025, \"StateAbbr\": \"WA\", \"STATE_COUNTY\": \"WA | GRANT\", \"state_abbrev\": \"WA\", \"FIP_unique\": 5302553, \"Population\": 93527.0, \"county_test\": \"Grant\", \"overdose\": 1, \"overdose_per_100k\": 11.76130956835994}, {\"County\": \"Grays Harbor\", \"County Code\": 53027.0, \"Year\": 2012.0, \"Year Code\": 2012.0, \"Drug/Alcohol Induced Cause\": \"Drug poisonings (overdose) Unintentional (X40-X44)\", \"Drug/Alcohol Induced Cause Code\": \"D1\", \"Deaths\": 11.0, \"State\": \"WA\", \"StateFIPS\": 53, \"CountyName\": \"Grays Harbor\", \"StateName\": \"Washington\", \"CountyFIPS\": 53027, \"StateAbbr\": \"WA\", \"STATE_COUNTY\": \"WA | GRAYS HARBOR\", \"state_abbrev\": \"WA\", \"FIP_unique\": 5302753, \"Population\": 71773.0, \"county_test\": \"Grays Harbor\", \"overdose\": 1, \"overdose_per_100k\": 15.326097557577363}, {\"County\": \"Grays Harbor\", \"County Code\": 53027.0, \"Year\": 2013.0, \"Year Code\": 2013.0, \"Drug/Alcohol Induced Cause\": \"Drug poisonings (overdose) Unintentional (X40-X44)\", \"Drug/Alcohol Induced Cause Code\": \"D1\", \"Deaths\": 12.0, \"State\": \"WA\", \"StateFIPS\": 53, \"CountyName\": \"Grays Harbor\", \"StateName\": \"Washington\", \"CountyFIPS\": 53027, \"StateAbbr\": \"WA\", \"STATE_COUNTY\": \"WA | GRAYS HARBOR\", \"state_abbrev\": \"WA\", \"FIP_unique\": 5302753, \"Population\": 71046.0, \"county_test\": \"Grays Harbor\", \"overdose\": 1, \"overdose_per_100k\": 16.890465332319906}, {\"County\": \"Grays Harbor\", \"County Code\": 53027.0, \"Year\": 2014.0, \"Year Code\": 2014.0, \"Drug/Alcohol Induced Cause\": \"Drug poisonings (overdose) Unintentional (X40-X44)\", \"Drug/Alcohol Induced Cause Code\": \"D1\", \"Deaths\": 15.0, \"State\": \"WA\", \"StateFIPS\": 53, \"CountyName\": \"Grays Harbor\", \"StateName\": \"Washington\", \"CountyFIPS\": 53027, \"StateAbbr\": \"WA\", \"STATE_COUNTY\": \"WA | GRAYS HARBOR\", \"state_abbrev\": \"WA\", \"FIP_unique\": 5302753, \"Population\": 70780.0, \"county_test\": \"Grays Harbor\", \"overdose\": 1, \"overdose_per_100k\": 21.192427239333146}, {\"County\": \"Grays Harbor\", \"County Code\": 53027.0, \"Year\": 2015.0, \"Year Code\": 2015.0, \"Drug/Alcohol Induced Cause\": \"Drug poisonings (overdose) Unintentional (X40-X44)\", \"Drug/Alcohol Induced Cause Code\": \"D1\", \"Deaths\": 15.0, \"State\": \"WA\", \"StateFIPS\": 53, \"CountyName\": \"Grays Harbor\", \"StateName\": \"Washington\", \"CountyFIPS\": 53027, \"StateAbbr\": \"WA\", \"STATE_COUNTY\": \"WA | GRAYS HARBOR\", \"state_abbrev\": \"WA\", \"FIP_unique\": 5302753, \"Population\": 71011.0, \"county_test\": \"Grays Harbor\", \"overdose\": 1, \"overdose_per_100k\": 21.123487910323753}, {\"County\": \"Island\", \"County Code\": 53029.0, \"Year\": 2012.0, \"Year Code\": 2012.0, \"Drug/Alcohol Induced Cause\": \"Drug poisonings (overdose) Unintentional (X40-X44)\", \"Drug/Alcohol Induced Cause Code\": \"D1\", \"Deaths\": 10.0, \"State\": \"WA\", \"StateFIPS\": 53, \"CountyName\": \"Island\", \"StateName\": \"Washington\", \"CountyFIPS\": 53029, \"StateAbbr\": \"WA\", \"STATE_COUNTY\": \"WA | ISLAND\", \"state_abbrev\": \"WA\", \"FIP_unique\": 5302953, \"Population\": 79039.0, \"county_test\": \"Island\", \"overdose\": 1, \"overdose_per_100k\": 12.651981932969798}, {\"County\": \"Island\", \"County Code\": 53029.0, \"Year\": 2014.0, \"Year Code\": 2014.0, \"Drug/Alcohol Induced Cause\": \"Drug poisonings (overdose) Unintentional (X40-X44)\", \"Drug/Alcohol Induced Cause Code\": \"D1\", \"Deaths\": 13.0, \"State\": \"WA\", \"StateFIPS\": 53, \"CountyName\": \"Island\", \"StateName\": \"Washington\", \"CountyFIPS\": 53029, \"StateAbbr\": \"WA\", \"STATE_COUNTY\": \"WA | ISLAND\", \"state_abbrev\": \"WA\", \"FIP_unique\": 5302953, \"Population\": 78690.0, \"county_test\": \"Island\", \"overdose\": 1, \"overdose_per_100k\": 16.52052357351633}, {\"County\": \"Island\", \"County Code\": 53029.0, \"Year\": 2015.0, \"Year Code\": 2015.0, \"Drug/Alcohol Induced Cause\": \"Drug poisonings (overdose) Unintentional (X40-X44)\", \"Drug/Alcohol Induced Cause Code\": \"D1\", \"Deaths\": 11.0, \"State\": \"WA\", \"StateFIPS\": 53, \"CountyName\": \"Island\", \"StateName\": \"Washington\", \"CountyFIPS\": 53029, \"StateAbbr\": \"WA\", \"STATE_COUNTY\": \"WA | ISLAND\", \"state_abbrev\": \"WA\", \"FIP_unique\": 5302953, \"Population\": 80022.0, \"county_test\": \"Island\", \"overdose\": 1, \"overdose_per_100k\": 13.746219789557873}, {\"County\": \"King\", \"County Code\": 53033.0, \"Year\": 2012.0, \"Year Code\": 2012.0, \"Drug/Alcohol Induced Cause\": \"Drug poisonings (overdose) Unintentional (X40-X44)\", \"Drug/Alcohol Induced Cause Code\": \"D1\", \"Deaths\": 201.0, \"State\": \"WA\", \"StateFIPS\": 53, \"CountyName\": \"King\", \"StateName\": \"Washington\", \"CountyFIPS\": 53033, \"StateAbbr\": \"WA\", \"STATE_COUNTY\": \"WA | KING\", \"state_abbrev\": \"WA\", \"FIP_unique\": 5303353, \"Population\": 2011197.0, \"county_test\": \"King\", \"overdose\": 1, \"overdose_per_100k\": 9.994048320477805}, {\"County\": \"King\", \"County Code\": 53033.0, \"Year\": 2012.0, \"Year Code\": 2012.0, \"Drug/Alcohol Induced Cause\": \"Drug poisonings (overdose) Suicide (X60-X64)\", \"Drug/Alcohol Induced Cause Code\": \"D2\", \"Deaths\": 50.0, \"State\": \"WA\", \"StateFIPS\": 53, \"CountyName\": \"King\", \"StateName\": \"Washington\", \"CountyFIPS\": 53033, \"StateAbbr\": \"WA\", \"STATE_COUNTY\": \"WA | KING\", \"state_abbrev\": \"WA\", \"FIP_unique\": 5303353, \"Population\": 2011197.0, \"county_test\": \"King\", \"overdose\": 1, \"overdose_per_100k\": 2.486081671760648}, {\"County\": \"King\", \"County Code\": 53033.0, \"Year\": 2012.0, \"Year Code\": 2012.0, \"Drug/Alcohol Induced Cause\": \"Drug poisonings (overdose) Undetermined (Y10-Y14)\", \"Drug/Alcohol Induced Cause Code\": \"D4\", \"Deaths\": 10.0, \"State\": \"WA\", \"StateFIPS\": 53, \"CountyName\": \"King\", \"StateName\": \"Washington\", \"CountyFIPS\": 53033, \"StateAbbr\": \"WA\", \"STATE_COUNTY\": \"WA | KING\", \"state_abbrev\": \"WA\", \"FIP_unique\": 5303353, \"Population\": 2011197.0, \"county_test\": \"King\", \"overdose\": 1, \"overdose_per_100k\": 0.49721633435212964}, {\"County\": \"King\", \"County Code\": 53033.0, \"Year\": 2012.0, \"Year Code\": 2012.0, \"Drug/Alcohol Induced Cause\": \"Alcohol poisonings (overdose) (X45, X65, Y15)\", \"Drug/Alcohol Induced Cause Code\": \"A1\", \"Deaths\": 14.0, \"State\": \"WA\", \"StateFIPS\": 53, \"CountyName\": \"King\", \"StateName\": \"Washington\", \"CountyFIPS\": 53033, \"StateAbbr\": \"WA\", \"STATE_COUNTY\": \"WA | KING\", \"state_abbrev\": \"WA\", \"FIP_unique\": 5303353, \"Population\": 2011197.0, \"county_test\": \"King\", \"overdose\": 1, \"overdose_per_100k\": 0.6961028680929814}, {\"County\": \"King\", \"County Code\": 53033.0, \"Year\": 2013.0, \"Year Code\": 2013.0, \"Drug/Alcohol Induced Cause\": \"Drug poisonings (overdose) Unintentional (X40-X44)\", \"Drug/Alcohol Induced Cause Code\": \"D1\", \"Deaths\": 242.0, \"State\": \"WA\", \"StateFIPS\": 53, \"CountyName\": \"King\", \"StateName\": \"Washington\", \"CountyFIPS\": 53033, \"StateAbbr\": \"WA\", \"STATE_COUNTY\": \"WA | KING\", \"state_abbrev\": \"WA\", \"FIP_unique\": 5303353, \"Population\": 2047223.0, \"county_test\": \"King\", \"overdose\": 1, \"overdose_per_100k\": 11.82089103141182}, {\"County\": \"King\", \"County Code\": 53033.0, \"Year\": 2013.0, \"Year Code\": 2013.0, \"Drug/Alcohol Induced Cause\": \"Drug poisonings (overdose) Suicide (X60-X64)\", \"Drug/Alcohol Induced Cause Code\": \"D2\", \"Deaths\": 34.0, \"State\": \"WA\", \"StateFIPS\": 53, \"CountyName\": \"King\", \"StateName\": \"Washington\", \"CountyFIPS\": 53033, \"StateAbbr\": \"WA\", \"STATE_COUNTY\": \"WA | KING\", \"state_abbrev\": \"WA\", \"FIP_unique\": 5303353, \"Population\": 2047223.0, \"county_test\": \"King\", \"overdose\": 1, \"overdose_per_100k\": 1.660786343256206}, {\"County\": \"King\", \"County Code\": 53033.0, \"Year\": 2013.0, \"Year Code\": 2013.0, \"Drug/Alcohol Induced Cause\": \"Alcohol poisonings (overdose) (X45, X65, Y15)\", \"Drug/Alcohol Induced Cause Code\": \"A1\", \"Deaths\": 13.0, \"State\": \"WA\", \"StateFIPS\": 53, \"CountyName\": \"King\", \"StateName\": \"Washington\", \"CountyFIPS\": 53033, \"StateAbbr\": \"WA\", \"STATE_COUNTY\": \"WA | KING\", \"state_abbrev\": \"WA\", \"FIP_unique\": 5303353, \"Population\": 2047223.0, \"county_test\": \"King\", \"overdose\": 1, \"overdose_per_100k\": 0.6350065430097258}, {\"County\": \"King\", \"County Code\": 53033.0, \"Year\": 2014.0, \"Year Code\": 2014.0, \"Drug/Alcohol Induced Cause\": \"Drug poisonings (overdose) Unintentional (X40-X44)\", \"Drug/Alcohol Induced Cause Code\": \"D1\", \"Deaths\": 251.0, \"State\": \"WA\", \"StateFIPS\": 53, \"CountyName\": \"King\", \"StateName\": \"Washington\", \"CountyFIPS\": 53033, \"StateAbbr\": \"WA\", \"STATE_COUNTY\": \"WA | KING\", \"state_abbrev\": \"WA\", \"FIP_unique\": 5303353, \"Population\": 2085225.0, \"county_test\": \"King\", \"overdose\": 1, \"overdose_per_100k\": 12.03707034013116}, {\"County\": \"King\", \"County Code\": 53033.0, \"Year\": 2014.0, \"Year Code\": 2014.0, \"Drug/Alcohol Induced Cause\": \"Drug poisonings (overdose) Suicide (X60-X64)\", \"Drug/Alcohol Induced Cause Code\": \"D2\", \"Deaths\": 42.0, \"State\": \"WA\", \"StateFIPS\": 53, \"CountyName\": \"King\", \"StateName\": \"Washington\", \"CountyFIPS\": 53033, \"StateAbbr\": \"WA\", \"STATE_COUNTY\": \"WA | KING\", \"state_abbrev\": \"WA\", \"FIP_unique\": 5303353, \"Population\": 2085225.0, \"county_test\": \"King\", \"overdose\": 1, \"overdose_per_100k\": 2.014171132611589}, {\"County\": \"King\", \"County Code\": 53033.0, \"Year\": 2014.0, \"Year Code\": 2014.0, \"Drug/Alcohol Induced Cause\": \"Alcohol poisonings (overdose) (X45, X65, Y15)\", \"Drug/Alcohol Induced Cause Code\": \"A1\", \"Deaths\": 15.0, \"State\": \"WA\", \"StateFIPS\": 53, \"CountyName\": \"King\", \"StateName\": \"Washington\", \"CountyFIPS\": 53033, \"StateAbbr\": \"WA\", \"STATE_COUNTY\": \"WA | KING\", \"state_abbrev\": \"WA\", \"FIP_unique\": 5303353, \"Population\": 2085225.0, \"county_test\": \"King\", \"overdose\": 1, \"overdose_per_100k\": 0.7193468330755673}, {\"County\": \"King\", \"County Code\": 53033.0, \"Year\": 2015.0, \"Year Code\": 2015.0, \"Drug/Alcohol Induced Cause\": \"Drug poisonings (overdose) Unintentional (X40-X44)\", \"Drug/Alcohol Induced Cause Code\": \"D1\", \"Deaths\": 241.0, \"State\": \"WA\", \"StateFIPS\": 53, \"CountyName\": \"King\", \"StateName\": \"Washington\", \"CountyFIPS\": 53033, \"StateAbbr\": \"WA\", \"STATE_COUNTY\": \"WA | KING\", \"state_abbrev\": \"WA\", \"FIP_unique\": 5303353, \"Population\": 2126178.0, \"county_test\": \"King\", \"overdose\": 1, \"overdose_per_100k\": 11.334892939349386}, {\"County\": \"King\", \"County Code\": 53033.0, \"Year\": 2015.0, \"Year Code\": 2015.0, \"Drug/Alcohol Induced Cause\": \"Drug poisonings (overdose) Suicide (X60-X64)\", \"Drug/Alcohol Induced Cause Code\": \"D2\", \"Deaths\": 34.0, \"State\": \"WA\", \"StateFIPS\": 53, \"CountyName\": \"King\", \"StateName\": \"Washington\", \"CountyFIPS\": 53033, \"StateAbbr\": \"WA\", \"STATE_COUNTY\": \"WA | KING\", \"state_abbrev\": \"WA\", \"FIP_unique\": 5303353, \"Population\": 2126178.0, \"county_test\": \"King\", \"overdose\": 1, \"overdose_per_100k\": 1.5991135267131913}, {\"County\": \"King\", \"County Code\": 53033.0, \"Year\": 2015.0, \"Year Code\": 2015.0, \"Drug/Alcohol Induced Cause\": \"Drug poisonings (overdose) Undetermined (Y10-Y14)\", \"Drug/Alcohol Induced Cause Code\": \"D4\", \"Deaths\": 10.0, \"State\": \"WA\", \"StateFIPS\": 53, \"CountyName\": \"King\", \"StateName\": \"Washington\", \"CountyFIPS\": 53033, \"StateAbbr\": \"WA\", \"STATE_COUNTY\": \"WA | KING\", \"state_abbrev\": \"WA\", \"FIP_unique\": 5303353, \"Population\": 2126178.0, \"county_test\": \"King\", \"overdose\": 1, \"overdose_per_100k\": 0.470327507856821}, {\"County\": \"King\", \"County Code\": 53033.0, \"Year\": 2015.0, \"Year Code\": 2015.0, \"Drug/Alcohol Induced Cause\": \"Alcohol poisonings (overdose) (X45, X65, Y15)\", \"Drug/Alcohol Induced Cause Code\": \"A1\", \"Deaths\": 13.0, \"State\": \"WA\", \"StateFIPS\": 53, \"CountyName\": \"King\", \"StateName\": \"Washington\", \"CountyFIPS\": 53033, \"StateAbbr\": \"WA\", \"STATE_COUNTY\": \"WA | KING\", \"state_abbrev\": \"WA\", \"FIP_unique\": 5303353, \"Population\": 2126178.0, \"county_test\": \"King\", \"overdose\": 1, \"overdose_per_100k\": 0.6114257602138673}, {\"County\": \"Kitsap\", \"County Code\": 53035.0, \"Year\": 2012.0, \"Year Code\": 2012.0, \"Drug/Alcohol Induced Cause\": \"Drug poisonings (overdose) Unintentional (X40-X44)\", \"Drug/Alcohol Induced Cause Code\": \"D1\", \"Deaths\": 20.0, \"State\": \"WA\", \"StateFIPS\": 53, \"CountyName\": \"Kitsap\", \"StateName\": \"Washington\", \"CountyFIPS\": 53035, \"StateAbbr\": \"WA\", \"STATE_COUNTY\": \"WA | KITSAP\", \"state_abbrev\": \"WA\", \"FIP_unique\": 5303553, \"Population\": 254339.0, \"county_test\": \"Kitsap\", \"overdose\": 1, \"overdose_per_100k\": 7.863520734138296}, {\"County\": \"Kitsap\", \"County Code\": 53035.0, \"Year\": 2013.0, \"Year Code\": 2013.0, \"Drug/Alcohol Induced Cause\": \"Drug poisonings (overdose) Unintentional (X40-X44)\", \"Drug/Alcohol Induced Cause Code\": \"D1\", \"Deaths\": 16.0, \"State\": \"WA\", \"StateFIPS\": 53, \"CountyName\": \"Kitsap\", \"StateName\": \"Washington\", \"CountyFIPS\": 53035, \"StateAbbr\": \"WA\", \"STATE_COUNTY\": \"WA | KITSAP\", \"state_abbrev\": \"WA\", \"FIP_unique\": 5303553, \"Population\": 252401.0, \"county_test\": \"Kitsap\", \"overdose\": 1, \"overdose_per_100k\": 6.339119100162043}, {\"County\": \"Kitsap\", \"County Code\": 53035.0, \"Year\": 2014.0, \"Year Code\": 2014.0, \"Drug/Alcohol Induced Cause\": \"Drug poisonings (overdose) Unintentional (X40-X44)\", \"Drug/Alcohol Induced Cause Code\": \"D1\", \"Deaths\": 20.0, \"State\": \"WA\", \"StateFIPS\": 53, \"CountyName\": \"Kitsap\", \"StateName\": \"Washington\", \"CountyFIPS\": 53035, \"StateAbbr\": \"WA\", \"STATE_COUNTY\": \"WA | KITSAP\", \"state_abbrev\": \"WA\", \"FIP_unique\": 5303553, \"Population\": 253387.0, \"county_test\": \"Kitsap\", \"overdose\": 1, \"overdose_per_100k\": 7.893064758649813}, {\"County\": \"Kitsap\", \"County Code\": 53035.0, \"Year\": 2015.0, \"Year Code\": 2015.0, \"Drug/Alcohol Induced Cause\": \"Drug poisonings (overdose) Unintentional (X40-X44)\", \"Drug/Alcohol Induced Cause Code\": \"D1\", \"Deaths\": 29.0, \"State\": \"WA\", \"StateFIPS\": 53, \"CountyName\": \"Kitsap\", \"StateName\": \"Washington\", \"CountyFIPS\": 53035, \"StateAbbr\": \"WA\", \"STATE_COUNTY\": \"WA | KITSAP\", \"state_abbrev\": \"WA\", \"FIP_unique\": 5303553, \"Population\": 259232.0, \"county_test\": \"Kitsap\", \"overdose\": 1, \"overdose_per_100k\": 11.186890507344772}, {\"County\": \"Lewis\", \"County Code\": 53041.0, \"Year\": 2014.0, \"Year Code\": 2014.0, \"Drug/Alcohol Induced Cause\": \"Drug poisonings (overdose) Unintentional (X40-X44)\", \"Drug/Alcohol Induced Cause Code\": \"D1\", \"Deaths\": 10.0, \"State\": \"WA\", \"StateFIPS\": 53, \"CountyName\": \"Lewis\", \"StateName\": \"Washington\", \"CountyFIPS\": 53041, \"StateAbbr\": \"WA\", \"STATE_COUNTY\": \"WA | LEWIS\", \"state_abbrev\": \"WA\", \"FIP_unique\": 5304153, \"Population\": 74844.0, \"county_test\": \"Lewis\", \"overdose\": 1, \"overdose_per_100k\": 13.361124472235582}, {\"County\": \"Mason\", \"County Code\": 53045.0, \"Year\": 2012.0, \"Year Code\": 2012.0, \"Drug/Alcohol Induced Cause\": \"Drug poisonings (overdose) Unintentional (X40-X44)\", \"Drug/Alcohol Induced Cause Code\": \"D1\", \"Deaths\": 14.0, \"State\": \"WA\", \"StateFIPS\": 53, \"CountyName\": \"Mason\", \"StateName\": \"Washington\", \"CountyFIPS\": 53045, \"StateAbbr\": \"WA\", \"STATE_COUNTY\": \"WA | MASON\", \"state_abbrev\": \"WA\", \"FIP_unique\": 5304553, \"Population\": 60681.0, \"county_test\": \"Mason\", \"overdose\": 1, \"overdose_per_100k\": 23.071472124717786}, {\"County\": \"Mason\", \"County Code\": 53045.0, \"Year\": 2013.0, \"Year Code\": 2013.0, \"Drug/Alcohol Induced Cause\": \"Drug poisonings (overdose) Unintentional (X40-X44)\", \"Drug/Alcohol Induced Cause Code\": \"D1\", \"Deaths\": 10.0, \"State\": \"WA\", \"StateFIPS\": 53, \"CountyName\": \"Mason\", \"StateName\": \"Washington\", \"CountyFIPS\": 53045, \"StateAbbr\": \"WA\", \"STATE_COUNTY\": \"WA | MASON\", \"state_abbrev\": \"WA\", \"FIP_unique\": 5304553, \"Population\": 60474.0, \"county_test\": \"Mason\", \"overdose\": 1, \"overdose_per_100k\": 16.53603201375798}, {\"County\": \"Mason\", \"County Code\": 53045.0, \"Year\": 2015.0, \"Year Code\": 2015.0, \"Drug/Alcohol Induced Cause\": \"Drug poisonings (overdose) Unintentional (X40-X44)\", \"Drug/Alcohol Induced Cause Code\": \"D1\", \"Deaths\": 10.0, \"State\": \"WA\", \"StateFIPS\": 53, \"CountyName\": \"Mason\", \"StateName\": \"Washington\", \"CountyFIPS\": 53045, \"StateAbbr\": \"WA\", \"STATE_COUNTY\": \"WA | MASON\", \"state_abbrev\": \"WA\", \"FIP_unique\": 5304553, \"Population\": 60991.0, \"county_test\": \"Mason\", \"overdose\": 1, \"overdose_per_100k\": 16.39586168451083}, {\"County\": \"Pierce\", \"County Code\": 53053.0, \"Year\": 2012.0, \"Year Code\": 2012.0, \"Drug/Alcohol Induced Cause\": \"Drug poisonings (overdose) Unintentional (X40-X44)\", \"Drug/Alcohol Induced Cause Code\": \"D1\", \"Deaths\": 80.0, \"State\": \"WA\", \"StateFIPS\": 53, \"CountyName\": \"Pierce\", \"StateName\": \"Washington\", \"CountyFIPS\": 53053, \"StateAbbr\": \"WA\", \"STATE_COUNTY\": \"WA | PIERCE\", \"state_abbrev\": \"WA\", \"FIP_unique\": 5305353, \"Population\": 815535.0, \"county_test\": \"Pierce\", \"overdose\": 1, \"overdose_per_100k\": 9.809511547634376}, {\"County\": \"Pierce\", \"County Code\": 53053.0, \"Year\": 2012.0, \"Year Code\": 2012.0, \"Drug/Alcohol Induced Cause\": \"Drug poisonings (overdose) Suicide (X60-X64)\", \"Drug/Alcohol Induced Cause Code\": \"D2\", \"Deaths\": 29.0, \"State\": \"WA\", \"StateFIPS\": 53, \"CountyName\": \"Pierce\", \"StateName\": \"Washington\", \"CountyFIPS\": 53053, \"StateAbbr\": \"WA\", \"STATE_COUNTY\": \"WA | PIERCE\", \"state_abbrev\": \"WA\", \"FIP_unique\": 5305353, \"Population\": 815535.0, \"county_test\": \"Pierce\", \"overdose\": 1, \"overdose_per_100k\": 3.555947936017461}, {\"County\": \"Pierce\", \"County Code\": 53053.0, \"Year\": 2012.0, \"Year Code\": 2012.0, \"Drug/Alcohol Induced Cause\": \"Alcohol poisonings (overdose) (X45, X65, Y15)\", \"Drug/Alcohol Induced Cause Code\": \"A1\", \"Deaths\": 11.0, \"State\": \"WA\", \"StateFIPS\": 53, \"CountyName\": \"Pierce\", \"StateName\": \"Washington\", \"CountyFIPS\": 53053, \"StateAbbr\": \"WA\", \"STATE_COUNTY\": \"WA | PIERCE\", \"state_abbrev\": \"WA\", \"FIP_unique\": 5305353, \"Population\": 815535.0, \"county_test\": \"Pierce\", \"overdose\": 1, \"overdose_per_100k\": 1.3488078377997266}, {\"County\": \"Pierce\", \"County Code\": 53053.0, \"Year\": 2013.0, \"Year Code\": 2013.0, \"Drug/Alcohol Induced Cause\": \"Drug poisonings (overdose) Unintentional (X40-X44)\", \"Drug/Alcohol Induced Cause Code\": \"D1\", \"Deaths\": 97.0, \"State\": \"WA\", \"StateFIPS\": 53, \"CountyName\": \"Pierce\", \"StateName\": \"Washington\", \"CountyFIPS\": 53053, \"StateAbbr\": \"WA\", \"STATE_COUNTY\": \"WA | PIERCE\", \"state_abbrev\": \"WA\", \"FIP_unique\": 5305353, \"Population\": 821012.0, \"county_test\": \"Pierce\", \"overdose\": 1, \"overdose_per_100k\": 11.814687239650578}, {\"County\": \"Pierce\", \"County Code\": 53053.0, \"Year\": 2013.0, \"Year Code\": 2013.0, \"Drug/Alcohol Induced Cause\": \"Drug poisonings (overdose) Suicide (X60-X64)\", \"Drug/Alcohol Induced Cause Code\": \"D2\", \"Deaths\": 25.0, \"State\": \"WA\", \"StateFIPS\": 53, \"CountyName\": \"Pierce\", \"StateName\": \"Washington\", \"CountyFIPS\": 53053, \"StateAbbr\": \"WA\", \"STATE_COUNTY\": \"WA | PIERCE\", \"state_abbrev\": \"WA\", \"FIP_unique\": 5305353, \"Population\": 821012.0, \"county_test\": \"Pierce\", \"overdose\": 1, \"overdose_per_100k\": 3.045022484446025}, {\"County\": \"Pierce\", \"County Code\": 53053.0, \"Year\": 2014.0, \"Year Code\": 2014.0, \"Drug/Alcohol Induced Cause\": \"Drug poisonings (overdose) Unintentional (X40-X44)\", \"Drug/Alcohol Induced Cause Code\": \"D1\", \"Deaths\": 94.0, \"State\": \"WA\", \"StateFIPS\": 53, \"CountyName\": \"Pierce\", \"StateName\": \"Washington\", \"CountyFIPS\": 53053, \"StateAbbr\": \"WA\", \"STATE_COUNTY\": \"WA | PIERCE\", \"state_abbrev\": \"WA\", \"FIP_unique\": 5305353, \"Population\": 832696.0, \"county_test\": \"Pierce\", \"overdose\": 1, \"overdose_per_100k\": 11.288633546936698}, {\"County\": \"Pierce\", \"County Code\": 53053.0, \"Year\": 2014.0, \"Year Code\": 2014.0, \"Drug/Alcohol Induced Cause\": \"Drug poisonings (overdose) Suicide (X60-X64)\", \"Drug/Alcohol Induced Cause Code\": \"D2\", \"Deaths\": 30.0, \"State\": \"WA\", \"StateFIPS\": 53, \"CountyName\": \"Pierce\", \"StateName\": \"Washington\", \"CountyFIPS\": 53053, \"StateAbbr\": \"WA\", \"STATE_COUNTY\": \"WA | PIERCE\", \"state_abbrev\": \"WA\", \"FIP_unique\": 5305353, \"Population\": 832696.0, \"county_test\": \"Pierce\", \"overdose\": 1, \"overdose_per_100k\": 3.6027553873202227}, {\"County\": \"Pierce\", \"County Code\": 53053.0, \"Year\": 2015.0, \"Year Code\": 2015.0, \"Drug/Alcohol Induced Cause\": \"Drug poisonings (overdose) Unintentional (X40-X44)\", \"Drug/Alcohol Induced Cause Code\": \"D1\", \"Deaths\": 110.0, \"State\": \"WA\", \"StateFIPS\": 53, \"CountyName\": \"Pierce\", \"StateName\": \"Washington\", \"CountyFIPS\": 53053, \"StateAbbr\": \"WA\", \"STATE_COUNTY\": \"WA | PIERCE\", \"state_abbrev\": \"WA\", \"FIP_unique\": 5305353, \"Population\": 843778.0, \"county_test\": \"Pierce\", \"overdose\": 1, \"overdose_per_100k\": 13.036604414905343}, {\"County\": \"Pierce\", \"County Code\": 53053.0, \"Year\": 2015.0, \"Year Code\": 2015.0, \"Drug/Alcohol Induced Cause\": \"Drug poisonings (overdose) Suicide (X60-X64)\", \"Drug/Alcohol Induced Cause Code\": \"D2\", \"Deaths\": 30.0, \"State\": \"WA\", \"StateFIPS\": 53, \"CountyName\": \"Pierce\", \"StateName\": \"Washington\", \"CountyFIPS\": 53053, \"StateAbbr\": \"WA\", \"STATE_COUNTY\": \"WA | PIERCE\", \"state_abbrev\": \"WA\", \"FIP_unique\": 5305353, \"Population\": 843778.0, \"county_test\": \"Pierce\", \"overdose\": 1, \"overdose_per_100k\": 3.555437567701457}, {\"County\": \"Skagit\", \"County Code\": 53057.0, \"Year\": 2012.0, \"Year Code\": 2012.0, \"Drug/Alcohol Induced Cause\": \"Drug poisonings (overdose) Unintentional (X40-X44)\", \"Drug/Alcohol Induced Cause Code\": \"D1\", \"Deaths\": 17.0, \"State\": \"WA\", \"StateFIPS\": 53, \"CountyName\": \"Skagit\", \"StateName\": \"Washington\", \"CountyFIPS\": 53057, \"StateAbbr\": \"WA\", \"STATE_COUNTY\": \"WA | SKAGIT\", \"state_abbrev\": \"WA\", \"FIP_unique\": 5305753, \"Population\": 117714.0, \"county_test\": \"Skagit\", \"overdose\": 1, \"overdose_per_100k\": 14.441782625685985}, {\"County\": \"Skagit\", \"County Code\": 53057.0, \"Year\": 2013.0, \"Year Code\": 2013.0, \"Drug/Alcohol Induced Cause\": \"Drug poisonings (overdose) Unintentional (X40-X44)\", \"Drug/Alcohol Induced Cause Code\": \"D1\", \"Deaths\": 23.0, \"State\": \"WA\", \"StateFIPS\": 53, \"CountyName\": \"Skagit\", \"StateName\": \"Washington\", \"CountyFIPS\": 53057, \"StateAbbr\": \"WA\", \"STATE_COUNTY\": \"WA | SKAGIT\", \"state_abbrev\": \"WA\", \"FIP_unique\": 5305753, \"Population\": 118255.0, \"county_test\": \"Skagit\", \"overdose\": 1, \"overdose_per_100k\": 19.44949473595197}, {\"County\": \"Skagit\", \"County Code\": 53057.0, \"Year\": 2014.0, \"Year Code\": 2014.0, \"Drug/Alcohol Induced Cause\": \"Drug poisonings (overdose) Unintentional (X40-X44)\", \"Drug/Alcohol Induced Cause Code\": \"D1\", \"Deaths\": 10.0, \"State\": \"WA\", \"StateFIPS\": 53, \"CountyName\": \"Skagit\", \"StateName\": \"Washington\", \"CountyFIPS\": 53057, \"StateAbbr\": \"WA\", \"STATE_COUNTY\": \"WA | SKAGIT\", \"state_abbrev\": \"WA\", \"FIP_unique\": 5305753, \"Population\": 119966.0, \"county_test\": \"Skagit\", \"overdose\": 1, \"overdose_per_100k\": 8.335695113615525}, {\"County\": \"Skagit\", \"County Code\": 53057.0, \"Year\": 2015.0, \"Year Code\": 2015.0, \"Drug/Alcohol Induced Cause\": \"Drug poisonings (overdose) Unintentional (X40-X44)\", \"Drug/Alcohol Induced Cause Code\": \"D1\", \"Deaths\": 18.0, \"State\": \"WA\", \"StateFIPS\": 53, \"CountyName\": \"Skagit\", \"StateName\": \"Washington\", \"CountyFIPS\": 53057, \"StateAbbr\": \"WA\", \"STATE_COUNTY\": \"WA | SKAGIT\", \"state_abbrev\": \"WA\", \"FIP_unique\": 5305753, \"Population\": 121559.0, \"county_test\": \"Skagit\", \"overdose\": 1, \"overdose_per_100k\": 14.807624281213238}, {\"County\": \"Snohomish\", \"County Code\": 53061.0, \"Year\": 2012.0, \"Year Code\": 2012.0, \"Drug/Alcohol Induced Cause\": \"Drug poisonings (overdose) Unintentional (X40-X44)\", \"Drug/Alcohol Induced Cause Code\": \"D1\", \"Deaths\": 114.0, \"State\": \"WA\", \"StateFIPS\": 53, \"CountyName\": \"Snohomish\", \"StateName\": \"Washington\", \"CountyFIPS\": 53061, \"StateAbbr\": \"WA\", \"STATE_COUNTY\": \"WA | SNOHOMISH\", \"state_abbrev\": \"WA\", \"FIP_unique\": 5306153, \"Population\": 732097.0, \"county_test\": \"Snohomish\", \"overdose\": 1, \"overdose_per_100k\": 15.571707027893844}, {\"County\": \"Snohomish\", \"County Code\": 53061.0, \"Year\": 2012.0, \"Year Code\": 2012.0, \"Drug/Alcohol Induced Cause\": \"Drug poisonings (overdose) Suicide (X60-X64)\", \"Drug/Alcohol Induced Cause Code\": \"D2\", \"Deaths\": 17.0, \"State\": \"WA\", \"StateFIPS\": 53, \"CountyName\": \"Snohomish\", \"StateName\": \"Washington\", \"CountyFIPS\": 53061, \"StateAbbr\": \"WA\", \"STATE_COUNTY\": \"WA | SNOHOMISH\", \"state_abbrev\": \"WA\", \"FIP_unique\": 5306153, \"Population\": 732097.0, \"county_test\": \"Snohomish\", \"overdose\": 1, \"overdose_per_100k\": 2.3220966620543453}, {\"County\": \"Snohomish\", \"County Code\": 53061.0, \"Year\": 2013.0, \"Year Code\": 2013.0, \"Drug/Alcohol Induced Cause\": \"Drug poisonings (overdose) Unintentional (X40-X44)\", \"Drug/Alcohol Induced Cause Code\": \"D1\", \"Deaths\": 112.0, \"State\": \"WA\", \"StateFIPS\": 53, \"CountyName\": \"Snohomish\", \"StateName\": \"Washington\", \"CountyFIPS\": 53061, \"StateAbbr\": \"WA\", \"STATE_COUNTY\": \"WA | SNOHOMISH\", \"state_abbrev\": \"WA\", \"FIP_unique\": 5306153, \"Population\": 744112.0, \"county_test\": \"Snohomish\", \"overdose\": 1, \"overdose_per_100k\": 15.05149762401359}, {\"County\": \"Snohomish\", \"County Code\": 53061.0, \"Year\": 2013.0, \"Year Code\": 2013.0, \"Drug/Alcohol Induced Cause\": \"Drug poisonings (overdose) Suicide (X60-X64)\", \"Drug/Alcohol Induced Cause Code\": \"D2\", \"Deaths\": 14.0, \"State\": \"WA\", \"StateFIPS\": 53, \"CountyName\": \"Snohomish\", \"StateName\": \"Washington\", \"CountyFIPS\": 53061, \"StateAbbr\": \"WA\", \"STATE_COUNTY\": \"WA | SNOHOMISH\", \"state_abbrev\": \"WA\", \"FIP_unique\": 5306153, \"Population\": 744112.0, \"county_test\": \"Snohomish\", \"overdose\": 1, \"overdose_per_100k\": 1.8814372030016988}, {\"County\": \"Snohomish\", \"County Code\": 53061.0, \"Year\": 2014.0, \"Year Code\": 2014.0, \"Drug/Alcohol Induced Cause\": \"Drug poisonings (overdose) Unintentional (X40-X44)\", \"Drug/Alcohol Induced Cause Code\": \"D1\", \"Deaths\": 102.0, \"State\": \"WA\", \"StateFIPS\": 53, \"CountyName\": \"Snohomish\", \"StateName\": \"Washington\", \"CountyFIPS\": 53061, \"StateAbbr\": \"WA\", \"STATE_COUNTY\": \"WA | SNOHOMISH\", \"state_abbrev\": \"WA\", \"FIP_unique\": 5306153, \"Population\": 757239.0, \"county_test\": \"Snohomish\", \"overdose\": 1, \"overdose_per_100k\": 13.469987678923033}, {\"County\": \"Snohomish\", \"County Code\": 53061.0, \"Year\": 2014.0, \"Year Code\": 2014.0, \"Drug/Alcohol Induced Cause\": \"Drug poisonings (overdose) Suicide (X60-X64)\", \"Drug/Alcohol Induced Cause Code\": \"D2\", \"Deaths\": 22.0, \"State\": \"WA\", \"StateFIPS\": 53, \"CountyName\": \"Snohomish\", \"StateName\": \"Washington\", \"CountyFIPS\": 53061, \"StateAbbr\": \"WA\", \"STATE_COUNTY\": \"WA | SNOHOMISH\", \"state_abbrev\": \"WA\", \"FIP_unique\": 5306153, \"Population\": 757239.0, \"county_test\": \"Snohomish\", \"overdose\": 1, \"overdose_per_100k\": 2.9052914601598703}, {\"County\": \"Snohomish\", \"County Code\": 53061.0, \"Year\": 2015.0, \"Year Code\": 2015.0, \"Drug/Alcohol Induced Cause\": \"Drug poisonings (overdose) Unintentional (X40-X44)\", \"Drug/Alcohol Induced Cause Code\": \"D1\", \"Deaths\": 114.0, \"State\": \"WA\", \"StateFIPS\": 53, \"CountyName\": \"Snohomish\", \"StateName\": \"Washington\", \"CountyFIPS\": 53061, \"StateAbbr\": \"WA\", \"STATE_COUNTY\": \"WA | SNOHOMISH\", \"state_abbrev\": \"WA\", \"FIP_unique\": 5306153, \"Population\": 769698.0, \"county_test\": \"Snohomish\", \"overdose\": 1, \"overdose_per_100k\": 14.811003796294132}, {\"County\": \"Snohomish\", \"County Code\": 53061.0, \"Year\": 2015.0, \"Year Code\": 2015.0, \"Drug/Alcohol Induced Cause\": \"Drug poisonings (overdose) Suicide (X60-X64)\", \"Drug/Alcohol Induced Cause Code\": \"D2\", \"Deaths\": 13.0, \"State\": \"WA\", \"StateFIPS\": 53, \"CountyName\": \"Snohomish\", \"StateName\": \"Washington\", \"CountyFIPS\": 53061, \"StateAbbr\": \"WA\", \"STATE_COUNTY\": \"WA | SNOHOMISH\", \"state_abbrev\": \"WA\", \"FIP_unique\": 5306153, \"Population\": 769698.0, \"county_test\": \"Snohomish\", \"overdose\": 1, \"overdose_per_100k\": 1.6889741171212607}, {\"County\": \"Spokane\", \"County Code\": 53063.0, \"Year\": 2012.0, \"Year Code\": 2012.0, \"Drug/Alcohol Induced Cause\": \"Drug poisonings (overdose) Unintentional (X40-X44)\", \"Drug/Alcohol Induced Cause Code\": \"D1\", \"Deaths\": 74.0, \"State\": \"WA\", \"StateFIPS\": 53, \"CountyName\": \"Spokane\", \"StateName\": \"Washington\", \"CountyFIPS\": 53063, \"StateAbbr\": \"WA\", \"STATE_COUNTY\": \"WA | SPOKANE\", \"state_abbrev\": \"WA\", \"FIP_unique\": 5306353, \"Population\": 475447.0, \"county_test\": \"Spokane\", \"overdose\": 1, \"overdose_per_100k\": 15.564300542436905}, {\"County\": \"Spokane\", \"County Code\": 53063.0, \"Year\": 2012.0, \"Year Code\": 2012.0, \"Drug/Alcohol Induced Cause\": \"Drug poisonings (overdose) Suicide (X60-X64)\", \"Drug/Alcohol Induced Cause Code\": \"D2\", \"Deaths\": 10.0, \"State\": \"WA\", \"StateFIPS\": 53, \"CountyName\": \"Spokane\", \"StateName\": \"Washington\", \"CountyFIPS\": 53063, \"StateAbbr\": \"WA\", \"STATE_COUNTY\": \"WA | SPOKANE\", \"state_abbrev\": \"WA\", \"FIP_unique\": 5306353, \"Population\": 475447.0, \"county_test\": \"Spokane\", \"overdose\": 1, \"overdose_per_100k\": 2.1032838570860686}, {\"County\": \"Spokane\", \"County Code\": 53063.0, \"Year\": 2013.0, \"Year Code\": 2013.0, \"Drug/Alcohol Induced Cause\": \"Drug poisonings (overdose) Unintentional (X40-X44)\", \"Drug/Alcohol Induced Cause Code\": \"D1\", \"Deaths\": 48.0, \"State\": \"WA\", \"StateFIPS\": 53, \"CountyName\": \"Spokane\", \"StateName\": \"Washington\", \"CountyFIPS\": 53063, \"StateAbbr\": \"WA\", \"STATE_COUNTY\": \"WA | SPOKANE\", \"state_abbrev\": \"WA\", \"FIP_unique\": 5306353, \"Population\": 478332.0, \"county_test\": \"Spokane\", \"overdose\": 1, \"overdose_per_100k\": 10.03487117734126}, {\"County\": \"Spokane\", \"County Code\": 53063.0, \"Year\": 2013.0, \"Year Code\": 2013.0, \"Drug/Alcohol Induced Cause\": \"Drug poisonings (overdose) Suicide (X60-X64)\", \"Drug/Alcohol Induced Cause Code\": \"D2\", \"Deaths\": 15.0, \"State\": \"WA\", \"StateFIPS\": 53, \"CountyName\": \"Spokane\", \"StateName\": \"Washington\", \"CountyFIPS\": 53063, \"StateAbbr\": \"WA\", \"STATE_COUNTY\": \"WA | SPOKANE\", \"state_abbrev\": \"WA\", \"FIP_unique\": 5306353, \"Population\": 478332.0, \"county_test\": \"Spokane\", \"overdose\": 1, \"overdose_per_100k\": 3.135897242919144}, {\"County\": \"Spokane\", \"County Code\": 53063.0, \"Year\": 2013.0, \"Year Code\": 2013.0, \"Drug/Alcohol Induced Cause\": \"Alcohol poisonings (overdose) (X45, X65, Y15)\", \"Drug/Alcohol Induced Cause Code\": \"A1\", \"Deaths\": 11.0, \"State\": \"WA\", \"StateFIPS\": 53, \"CountyName\": \"Spokane\", \"StateName\": \"Washington\", \"CountyFIPS\": 53063, \"StateAbbr\": \"WA\", \"STATE_COUNTY\": \"WA | SPOKANE\", \"state_abbrev\": \"WA\", \"FIP_unique\": 5306353, \"Population\": 478332.0, \"county_test\": \"Spokane\", \"overdose\": 1, \"overdose_per_100k\": 2.2996579781407056}, {\"County\": \"Spokane\", \"County Code\": 53063.0, \"Year\": 2014.0, \"Year Code\": 2014.0, \"Drug/Alcohol Induced Cause\": \"Drug poisonings (overdose) Unintentional (X40-X44)\", \"Drug/Alcohol Induced Cause Code\": \"D1\", \"Deaths\": 50.0, \"State\": \"WA\", \"StateFIPS\": 53, \"CountyName\": \"Spokane\", \"StateName\": \"Washington\", \"CountyFIPS\": 53063, \"StateAbbr\": \"WA\", \"STATE_COUNTY\": \"WA | SPOKANE\", \"state_abbrev\": \"WA\", \"FIP_unique\": 5306353, \"Population\": 482857.0, \"county_test\": \"Spokane\", \"overdose\": 1, \"overdose_per_100k\": 10.355032649417945}, {\"County\": \"Spokane\", \"County Code\": 53063.0, \"Year\": 2015.0, \"Year Code\": 2015.0, \"Drug/Alcohol Induced Cause\": \"Drug poisonings (overdose) Unintentional (X40-X44)\", \"Drug/Alcohol Induced Cause Code\": \"D1\", \"Deaths\": 74.0, \"State\": \"WA\", \"StateFIPS\": 53, \"CountyName\": \"Spokane\", \"StateName\": \"Washington\", \"CountyFIPS\": 53063, \"StateAbbr\": \"WA\", \"STATE_COUNTY\": \"WA | SPOKANE\", \"state_abbrev\": \"WA\", \"FIP_unique\": 5306353, \"Population\": 488610.0, \"county_test\": \"Spokane\", \"overdose\": 1, \"overdose_per_100k\": 15.145003172264179}, {\"County\": \"Spokane\", \"County Code\": 53063.0, \"Year\": 2015.0, \"Year Code\": 2015.0, \"Drug/Alcohol Induced Cause\": \"Drug poisonings (overdose) Suicide (X60-X64)\", \"Drug/Alcohol Induced Cause Code\": \"D2\", \"Deaths\": 18.0, \"State\": \"WA\", \"StateFIPS\": 53, \"CountyName\": \"Spokane\", \"StateName\": \"Washington\", \"CountyFIPS\": 53063, \"StateAbbr\": \"WA\", \"STATE_COUNTY\": \"WA | SPOKANE\", \"state_abbrev\": \"WA\", \"FIP_unique\": 5306353, \"Population\": 488610.0, \"county_test\": \"Spokane\", \"overdose\": 1, \"overdose_per_100k\": 3.683919690550746}, {\"County\": \"Thurston\", \"County Code\": 53067.0, \"Year\": 2012.0, \"Year Code\": 2012.0, \"Drug/Alcohol Induced Cause\": \"Drug poisonings (overdose) Unintentional (X40-X44)\", \"Drug/Alcohol Induced Cause Code\": \"D1\", \"Deaths\": 25.0, \"State\": \"WA\", \"StateFIPS\": 53, \"CountyName\": \"Thurston\", \"StateName\": \"Washington\", \"CountyFIPS\": 53067, \"StateAbbr\": \"WA\", \"STATE_COUNTY\": \"WA | THURSTON\", \"state_abbrev\": \"WA\", \"FIP_unique\": 5306753, \"Population\": 258527.0, \"county_test\": \"Thurston\", \"overdose\": 1, \"overdose_per_100k\": 9.67016984686319}, {\"County\": \"Thurston\", \"County Code\": 53067.0, \"Year\": 2013.0, \"Year Code\": 2013.0, \"Drug/Alcohol Induced Cause\": \"Drug poisonings (overdose) Unintentional (X40-X44)\", \"Drug/Alcohol Induced Cause Code\": \"D1\", \"Deaths\": 25.0, \"State\": \"WA\", \"StateFIPS\": 53, \"CountyName\": \"Thurston\", \"StateName\": \"Washington\", \"CountyFIPS\": 53067, \"StateAbbr\": \"WA\", \"STATE_COUNTY\": \"WA | THURSTON\", \"state_abbrev\": \"WA\", \"FIP_unique\": 5306753, \"Population\": 261852.0, \"county_test\": \"Thurston\", \"overdose\": 1, \"overdose_per_100k\": 9.547377908131311}, {\"County\": \"Thurston\", \"County Code\": 53067.0, \"Year\": 2014.0, \"Year Code\": 2014.0, \"Drug/Alcohol Induced Cause\": \"Drug poisonings (overdose) Unintentional (X40-X44)\", \"Drug/Alcohol Induced Cause Code\": \"D1\", \"Deaths\": 20.0, \"State\": \"WA\", \"StateFIPS\": 53, \"CountyName\": \"Thurston\", \"StateName\": \"Washington\", \"CountyFIPS\": 53067, \"StateAbbr\": \"WA\", \"STATE_COUNTY\": \"WA | THURSTON\", \"state_abbrev\": \"WA\", \"FIP_unique\": 5306753, \"Population\": 264909.0, \"county_test\": \"Thurston\", \"overdose\": 1, \"overdose_per_100k\": 7.549762371229366}, {\"County\": \"Thurston\", \"County Code\": 53067.0, \"Year\": 2015.0, \"Year Code\": 2015.0, \"Drug/Alcohol Induced Cause\": \"Drug poisonings (overdose) Unintentional (X40-X44)\", \"Drug/Alcohol Induced Cause Code\": \"D1\", \"Deaths\": 26.0, \"State\": \"WA\", \"StateFIPS\": 53, \"CountyName\": \"Thurston\", \"StateName\": \"Washington\", \"CountyFIPS\": 53067, \"StateAbbr\": \"WA\", \"STATE_COUNTY\": \"WA | THURSTON\", \"state_abbrev\": \"WA\", \"FIP_unique\": 5306753, \"Population\": 267978.0, \"county_test\": \"Thurston\", \"overdose\": 1, \"overdose_per_100k\": 9.702288993872632}, {\"County\": \"Walla Walla\", \"County Code\": 53071.0, \"Year\": 2014.0, \"Year Code\": 2014.0, \"Drug/Alcohol Induced Cause\": \"Drug poisonings (overdose) Unintentional (X40-X44)\", \"Drug/Alcohol Induced Cause Code\": \"D1\", \"Deaths\": 13.0, \"State\": \"WA\", \"StateFIPS\": 53, \"CountyName\": \"Walla Walla\", \"StateName\": \"Washington\", \"CountyFIPS\": 53071, \"StateAbbr\": \"WA\", \"STATE_COUNTY\": \"WA | WALLA WALLA\", \"state_abbrev\": \"WA\", \"FIP_unique\": 5307153, \"Population\": 59510.0, \"county_test\": \"Walla Walla\", \"overdose\": 1, \"overdose_per_100k\": 21.845068055788943}, {\"County\": \"Whatcom\", \"County Code\": 53073.0, \"Year\": 2012.0, \"Year Code\": 2012.0, \"Drug/Alcohol Induced Cause\": \"Drug poisonings (overdose) Unintentional (X40-X44)\", \"Drug/Alcohol Induced Cause Code\": \"D1\", \"Deaths\": 13.0, \"State\": \"WA\", \"StateFIPS\": 53, \"CountyName\": \"Whatcom\", \"StateName\": \"Washington\", \"CountyFIPS\": 53073, \"StateAbbr\": \"WA\", \"STATE_COUNTY\": \"WA | WHATCOM\", \"state_abbrev\": \"WA\", \"FIP_unique\": 5307353, \"Population\": 204863.0, \"county_test\": \"Whatcom\", \"overdose\": 1, \"overdose_per_100k\": 6.345704202320576}, {\"County\": \"Whatcom\", \"County Code\": 53073.0, \"Year\": 2013.0, \"Year Code\": 2013.0, \"Drug/Alcohol Induced Cause\": \"Drug poisonings (overdose) Unintentional (X40-X44)\", \"Drug/Alcohol Induced Cause Code\": \"D1\", \"Deaths\": 13.0, \"State\": \"WA\", \"StateFIPS\": 53, \"CountyName\": \"Whatcom\", \"StateName\": \"Washington\", \"CountyFIPS\": 53073, \"StateAbbr\": \"WA\", \"STATE_COUNTY\": \"WA | WHATCOM\", \"state_abbrev\": \"WA\", \"FIP_unique\": 5307353, \"Population\": 206073.0, \"county_test\": \"Whatcom\", \"overdose\": 1, \"overdose_per_100k\": 6.308444095053694}, {\"County\": \"Whatcom\", \"County Code\": 53073.0, \"Year\": 2014.0, \"Year Code\": 2014.0, \"Drug/Alcohol Induced Cause\": \"Drug poisonings (overdose) Unintentional (X40-X44)\", \"Drug/Alcohol Induced Cause Code\": \"D1\", \"Deaths\": 14.0, \"State\": \"WA\", \"StateFIPS\": 53, \"CountyName\": \"Whatcom\", \"StateName\": \"Washington\", \"CountyFIPS\": 53073, \"StateAbbr\": \"WA\", \"STATE_COUNTY\": \"WA | WHATCOM\", \"state_abbrev\": \"WA\", \"FIP_unique\": 5307353, \"Population\": 208154.0, \"county_test\": \"Whatcom\", \"overdose\": 1, \"overdose_per_100k\": 6.72578955965295}, {\"County\": \"Whatcom\", \"County Code\": 53073.0, \"Year\": 2015.0, \"Year Code\": 2015.0, \"Drug/Alcohol Induced Cause\": \"Drug poisonings (overdose) Unintentional (X40-X44)\", \"Drug/Alcohol Induced Cause Code\": \"D1\", \"Deaths\": 23.0, \"State\": \"WA\", \"StateFIPS\": 53, \"CountyName\": \"Whatcom\", \"StateName\": \"Washington\", \"CountyFIPS\": 53073, \"StateAbbr\": \"WA\", \"STATE_COUNTY\": \"WA | WHATCOM\", \"state_abbrev\": \"WA\", \"FIP_unique\": 5307353, \"Population\": 211836.0, \"county_test\": \"Whatcom\", \"overdose\": 1, \"overdose_per_100k\": 10.857455767669329}, {\"County\": \"Yakima\", \"County Code\": 53077.0, \"Year\": 2012.0, \"Year Code\": 2012.0, \"Drug/Alcohol Induced Cause\": \"Drug poisonings (overdose) Unintentional (X40-X44)\", \"Drug/Alcohol Induced Cause Code\": \"D1\", \"Deaths\": 25.0, \"State\": \"WA\", \"StateFIPS\": 53, \"CountyName\": \"Yakima\", \"StateName\": \"Washington\", \"CountyFIPS\": 53077, \"StateAbbr\": \"WA\", \"STATE_COUNTY\": \"WA | YAKIMA\", \"state_abbrev\": \"WA\", \"FIP_unique\": 5307753, \"Population\": 246127.0, \"county_test\": \"Yakima\", \"overdose\": 1, \"overdose_per_100k\": 10.157357786833627}, {\"County\": \"Yakima\", \"County Code\": 53077.0, \"Year\": 2013.0, \"Year Code\": 2013.0, \"Drug/Alcohol Induced Cause\": \"Drug poisonings (overdose) Unintentional (X40-X44)\", \"Drug/Alcohol Induced Cause Code\": \"D1\", \"Deaths\": 14.0, \"State\": \"WA\", \"StateFIPS\": 53, \"CountyName\": \"Yakima\", \"StateName\": \"Washington\", \"CountyFIPS\": 53077, \"StateAbbr\": \"WA\", \"STATE_COUNTY\": \"WA | YAKIMA\", \"state_abbrev\": \"WA\", \"FIP_unique\": 5307753, \"Population\": 246485.0, \"county_test\": \"Yakima\", \"overdose\": 1, \"overdose_per_100k\": 5.6798588149380285}, {\"County\": \"Yakima\", \"County Code\": 53077.0, \"Year\": 2014.0, \"Year Code\": 2014.0, \"Drug/Alcohol Induced Cause\": \"Drug poisonings (overdose) Unintentional (X40-X44)\", \"Drug/Alcohol Induced Cause Code\": \"D1\", \"Deaths\": 23.0, \"State\": \"WA\", \"StateFIPS\": 53, \"CountyName\": \"Yakima\", \"StateName\": \"Washington\", \"CountyFIPS\": 53077, \"StateAbbr\": \"WA\", \"STATE_COUNTY\": \"WA | YAKIMA\", \"state_abbrev\": \"WA\", \"FIP_unique\": 5307753, \"Population\": 246870.0, \"county_test\": \"Yakima\", \"overdose\": 1, \"overdose_per_100k\": 9.316644387734435}, {\"County\": \"Yakima\", \"County Code\": 53077.0, \"Year\": 2015.0, \"Year Code\": 2015.0, \"Drug/Alcohol Induced Cause\": \"Drug poisonings (overdose) Unintentional (X40-X44)\", \"Drug/Alcohol Induced Cause Code\": \"D1\", \"Deaths\": 26.0, \"State\": \"WA\", \"StateFIPS\": 53, \"CountyName\": \"Yakima\", \"StateName\": \"Washington\", \"CountyFIPS\": 53077, \"StateAbbr\": \"WA\", \"STATE_COUNTY\": \"WA | YAKIMA\", \"state_abbrev\": \"WA\", \"FIP_unique\": 5307753, \"Population\": 247800.0, \"county_test\": \"Yakima\", \"overdose\": 1, \"overdose_per_100k\": 10.49233252623083}], \"data-e1b4628f9a1f3fb1f5263431d0a03953\": [{\"Year\": 2012.0, \"overdose_per_100k\": 9.237774342936973, \"ci_low\": 7.081250711302554, \"ci_high\": 11.394297974571392}, {\"Year\": 2012.03, \"overdose_per_100k\": 9.251077699843108, \"ci_low\": 7.121939419216174, \"ci_high\": 11.380215980470043}, {\"Year\": 2012.06, \"overdose_per_100k\": 9.26438105674913, \"ci_low\": 7.162412341697533, \"ci_high\": 11.366349771800728}, {\"Year\": 2012.09, \"overdose_per_100k\": 9.277684413655152, \"ci_low\": 7.202661002492853, \"ci_high\": 11.35270782481745}, {\"Year\": 2012.12, \"overdose_per_100k\": 9.290987770561287, \"ci_low\": 7.2426765511712965, \"ci_high\": 11.339298989951278}, {\"Year\": 2012.1499999999999, \"overdose_per_100k\": 9.304291127467309, \"ci_low\": 7.282449748210118, \"ci_high\": 11.3261325067245}, {\"Year\": 2012.1799999999998, \"overdose_per_100k\": 9.317594484373444, \"ci_low\": 7.321970949969584, \"ci_high\": 11.313218018777304}, {\"Year\": 2012.2099999999998, \"overdose_per_100k\": 9.330897841279466, \"ci_low\": 7.361230093651109, \"ci_high\": 11.300565588907823}, {\"Year\": 2012.2399999999998, \"overdose_per_100k\": 9.344201198185488, \"ci_low\": 7.400216682347193, \"ci_high\": 11.288185714023783}, {\"Year\": 2012.2699999999998, \"overdose_per_100k\": 9.357504555091623, \"ci_low\": 7.438919770313399, \"ci_high\": 11.276089339869847}, {\"Year\": 2012.2999999999997, \"overdose_per_100k\": 9.370807911997645, \"ci_low\": 7.477327948613484, \"ci_high\": 11.264287875381806}, {\"Year\": 2012.3299999999997, \"overdose_per_100k\": 9.38411126890378, \"ci_low\": 7.5154293313116876, \"ci_high\": 11.252793206495873}, {\"Year\": 2012.3599999999997, \"overdose_per_100k\": 9.397414625809802, \"ci_low\": 7.5532115424102635, \"ci_high\": 11.24161770920934}, {\"Year\": 2012.3899999999996, \"overdose_per_100k\": 9.410717982715823, \"ci_low\": 7.590661703764904, \"ci_high\": 11.230774261666742}, {\"Year\": 2012.4199999999996, \"overdose_per_100k\": 9.424021339621959, \"ci_low\": 7.627766424230412, \"ci_high\": 11.220276255013506}, {\"Year\": 2012.4499999999996, \"overdose_per_100k\": 9.43732469652798, \"ci_low\": 7.664511790330814, \"ci_high\": 11.210137602725148}, {\"Year\": 2012.4799999999996, \"overdose_per_100k\": 9.450628053434116, \"ci_low\": 7.700883358776774, \"ci_high\": 11.200372748091459}, {\"Year\": 2012.5099999999995, \"overdose_per_100k\": 9.463931410340138, \"ci_low\": 7.736866151186719, \"ci_high\": 11.190996669493556}, {\"Year\": 2012.5399999999995, \"overdose_per_100k\": 9.47723476724616, \"ci_low\": 7.77244465140797, \"ci_high\": 11.182024883084349}, {\"Year\": 2012.5699999999995, \"overdose_per_100k\": 9.490538124152295, \"ci_low\": 7.807602805865869, \"ci_high\": 11.17347344243872}, {\"Year\": 2012.5999999999995, \"overdose_per_100k\": 9.503841481058316, \"ci_low\": 7.842324027402487, \"ci_high\": 11.165358934714146}, {\"Year\": 2012.6299999999994, \"overdose_per_100k\": 9.517144837964452, \"ci_low\": 7.8765912031016985, \"ci_high\": 11.157698472827205}, {\"Year\": 2012.6599999999994, \"overdose_per_100k\": 9.530448194870473, \"ci_low\": 7.910386706620225, \"ci_high\": 11.15050968312072}, {\"Year\": 2012.6899999999994, \"overdose_per_100k\": 9.543751551776495, \"ci_low\": 7.943692415571898, \"ci_high\": 11.143810687981091}, {\"Year\": 2012.7199999999993, \"overdose_per_100k\": 9.55705490868263, \"ci_low\": 7.976489734517321, \"ci_high\": 11.13762008284794}, {\"Year\": 2012.7499999999993, \"overdose_per_100k\": 9.570358265588652, \"ci_low\": 8.008759624129144, \"ci_high\": 11.13195690704816}, {\"Year\": 2012.7799999999993, \"overdose_per_100k\": 9.583661622494787, \"ci_low\": 8.040482637080979, \"ci_high\": 11.126840607908596}, {\"Year\": 2012.8099999999993, \"overdose_per_100k\": 9.59696497940081, \"ci_low\": 8.071638961190693, \"ci_high\": 11.122290997610925}, {\"Year\": 2012.8399999999992, \"overdose_per_100k\": 9.61026833630683, \"ci_low\": 8.102208470311382, \"ci_high\": 11.11832820230228}, {\"Year\": 2012.8699999999992, \"overdose_per_100k\": 9.623571693212966, \"ci_low\": 8.132170783392002, \"ci_high\": 11.11497260303393}, {\"Year\": 2012.8999999999992, \"overdose_per_100k\": 9.636875050118988, \"ci_low\": 8.161505332050165, \"ci_high\": 11.11224476818781}, {\"Year\": 2012.9299999999992, \"overdose_per_100k\": 9.650178407025123, \"ci_low\": 8.19019143688953, \"ci_high\": 11.110165377160717}, {\"Year\": 2012.9599999999991, \"overdose_per_100k\": 9.663481763931145, \"ci_low\": 8.218208392652187, \"ci_high\": 11.108755135210103}, {\"Year\": 2012.989999999999, \"overdose_per_100k\": 9.676785120837167, \"ci_low\": 8.245535562136205, \"ci_high\": 11.108034679538129}, {\"Year\": 2013.019999999999, \"overdose_per_100k\": 9.690088477743302, \"ci_low\": 8.272152478614128, \"ci_high\": 11.108024476872476}, {\"Year\": 2013.049999999999, \"overdose_per_100k\": 9.703391834649324, \"ci_low\": 8.29803895627232, \"ci_high\": 11.108744713026327}, {\"Year\": 2013.079999999999, \"overdose_per_100k\": 9.71669519155546, \"ci_low\": 8.323175207956396, \"ci_high\": 11.110215175154522}, {\"Year\": 2013.109999999999, \"overdose_per_100k\": 9.72999854846148, \"ci_low\": 8.347541969248677, \"ci_high\": 11.112455127674284}, {\"Year\": 2013.139999999999, \"overdose_per_100k\": 9.743301905367503, \"ci_low\": 8.371120627649903, \"ci_high\": 11.115483183085102}, {\"Year\": 2013.169999999999, \"overdose_per_100k\": 9.756605262273638, \"ci_low\": 8.393893355368935, \"ci_high\": 11.119317169178341}, {\"Year\": 2013.199999999999, \"overdose_per_100k\": 9.76990861917966, \"ci_low\": 8.415843243980838, \"ci_high\": 11.123973994378481}, {\"Year\": 2013.2299999999989, \"overdose_per_100k\": 9.783211976085795, \"ci_low\": 8.436954438986742, \"ci_high\": 11.129469513184848}, {\"Year\": 2013.2599999999989, \"overdose_per_100k\": 9.796515332991817, \"ci_low\": 8.457212272116118, \"ci_high\": 11.135818393867515}, {\"Year\": 2013.2899999999988, \"overdose_per_100k\": 9.809818689897838, \"ci_low\": 8.476603389079086, \"ci_high\": 11.14303399071659}, {\"Year\": 2013.3199999999988, \"overdose_per_100k\": 9.823122046803974, \"ci_low\": 8.4951158703896, \"ci_high\": 11.151128223218347}, {\"Year\": 2013.3499999999988, \"overdose_per_100k\": 9.836425403709995, \"ci_low\": 8.512739342877037, \"ci_high\": 11.160111464542954}, {\"Year\": 2013.3799999999987, \"overdose_per_100k\": 9.84972876061613, \"ci_low\": 8.529465079572287, \"ci_high\": 11.169992441659975}, {\"Year\": 2013.4099999999987, \"overdose_per_100k\": 9.863032117522152, \"ci_low\": 8.545286085801791, \"ci_high\": 11.180778149242514}, {\"Year\": 2013.4399999999987, \"overdose_per_100k\": 9.876335474428174, \"ci_low\": 8.560197169561508, \"ci_high\": 11.19247377929484}, {\"Year\": 2013.4699999999987, \"overdose_per_100k\": 9.88963883133431, \"ci_low\": 8.57419499454344, \"ci_high\": 11.20508266812518}, {\"Year\": 2013.4999999999986, \"overdose_per_100k\": 9.902942188240331, \"ci_low\": 8.587278114566455, \"ci_high\": 11.218606261914207}, {\"Year\": 2013.5299999999986, \"overdose_per_100k\": 9.916245545146467, \"ci_low\": 8.599446988588753, \"ci_high\": 11.23304410170418}, {\"Year\": 2013.5599999999986, \"overdose_per_100k\": 9.929548902052488, \"ci_low\": 8.610703975937207, \"ci_high\": 11.24839382816777}, {\"Year\": 2013.5899999999986, \"overdose_per_100k\": 9.94285225895851, \"ci_low\": 8.621053311872055, \"ci_high\": 11.264651206044965}, {\"Year\": 2013.6199999999985, \"overdose_per_100k\": 9.956155615864645, \"ci_low\": 8.630501064071847, \"ci_high\": 11.281810167657444}, {\"Year\": 2013.6499999999985, \"overdose_per_100k\": 9.969458972770667, \"ci_low\": 8.639055071073765, \"ci_high\": 11.29986287446757}, {\"Year\": 2013.6799999999985, \"overdose_per_100k\": 9.982762329676802, \"ci_low\": 8.646724864108176, \"ci_high\": 11.318799795245429}, {\"Year\": 2013.7099999999984, \"overdose_per_100k\": 9.996065686582824, \"ci_low\": 8.653521574105778, \"ci_high\": 11.33860979905987}, {\"Year\": 2013.7399999999984, \"overdose_per_100k\": 10.009369043488846, \"ci_low\": 8.659457825933426, \"ci_high\": 11.359280261044265}, {\"Year\": 2013.7699999999984, \"overdose_per_100k\": 10.022672400394981, \"ci_low\": 8.664547622103846, \"ci_high\": 11.380797178686116}, {\"Year\": 2013.7999999999984, \"overdose_per_100k\": 10.035975757301003, \"ci_low\": 8.668806218316881, \"ci_high\": 11.403145296285125}, {\"Year\": 2013.8299999999983, \"overdose_per_100k\": 10.049279114207138, \"ci_low\": 8.672249993224222, \"ci_high\": 11.426308235190055}, {\"Year\": 2013.8599999999983, \"overdose_per_100k\": 10.06258247111316, \"ci_low\": 8.674896314759632, \"ci_high\": 11.450268627466688}, {\"Year\": 2013.8899999999983, \"overdose_per_100k\": 10.075885828019295, \"ci_low\": 8.676763405274746, \"ci_high\": 11.475008250763844}, {\"Year\": 2013.9199999999983, \"overdose_per_100k\": 10.089189184925317, \"ci_low\": 8.677870207546622, \"ci_high\": 11.500508162304012}, {\"Year\": 2013.9499999999982, \"overdose_per_100k\": 10.102492541831339, \"ci_low\": 8.678236253523993, \"ci_high\": 11.526748830138684}, {\"Year\": 2013.9799999999982, \"overdose_per_100k\": 10.115795898737474, \"ci_low\": 8.67788153743199, \"ci_high\": 11.553710260042958}, {\"Year\": 2014.0099999999982, \"overdose_per_100k\": 10.129099255643496, \"ci_low\": 8.676826394606364, \"ci_high\": 11.581372116680628}, {\"Year\": 2014.0399999999981, \"overdose_per_100k\": 10.142402612549631, \"ci_low\": 8.675091387160581, \"ci_high\": 11.609713837938681}, {\"Year\": 2014.0699999999981, \"overdose_per_100k\": 10.155705969455653, \"ci_low\": 8.672697197333322, \"ci_high\": 11.638714741577983}, {\"Year\": 2014.099999999998, \"overdose_per_100k\": 10.169009326361675, \"ci_low\": 8.66966452911791, \"ci_high\": 11.66835412360544}, {\"Year\": 2014.129999999998, \"overdose_per_100k\": 10.18231268326781, \"ci_low\": 8.666014018544, \"ci_high\": 11.69861134799162}, {\"Year\": 2014.159999999998, \"overdose_per_100k\": 10.195616040173832, \"ci_low\": 8.661766152780595, \"ci_high\": 11.729465927567068}, {\"Year\": 2014.189999999998, \"overdose_per_100k\": 10.208919397079967, \"ci_low\": 8.656941198051335, \"ci_high\": 11.760897596108599}, {\"Year\": 2014.219999999998, \"overdose_per_100k\": 10.222222753985989, \"ci_low\": 8.651559136193937, \"ci_high\": 11.79288637177804}, {\"Year\": 2014.249999999998, \"overdose_per_100k\": 10.23552611089201, \"ci_low\": 8.645639609583835, \"ci_high\": 11.825412612200186}, {\"Year\": 2014.279999999998, \"overdose_per_100k\": 10.248829467798146, \"ci_low\": 8.639201874029931, \"ci_high\": 11.85845706156636}, {\"Year\": 2014.309999999998, \"overdose_per_100k\": 10.262132824704167, \"ci_low\": 8.632264759187978, \"ci_high\": 11.892000890220357}, {\"Year\": 2014.3399999999979, \"overdose_per_100k\": 10.275436181610303, \"ci_low\": 8.624846635978397, \"ci_high\": 11.926025727242209}, {\"Year\": 2014.3699999999978, \"overdose_per_100k\": 10.288739538516325, \"ci_low\": 8.616965390462402, \"ci_high\": 11.960513686570247}, {\"Year\": 2014.3999999999978, \"overdose_per_100k\": 10.302042895422346, \"ci_low\": 8.60863840362354, \"ci_high\": 11.995447387221152}, {\"Year\": 2014.4299999999978, \"overdose_per_100k\": 10.315346252328482, \"ci_low\": 8.59988253648422, \"ci_high\": 12.030809968172743}, {\"Year\": 2014.4599999999978, \"overdose_per_100k\": 10.328649609234503, \"ci_low\": 8.590714120010766, \"ci_high\": 12.06658509845824}, {\"Year\": 2014.4899999999977, \"overdose_per_100k\": 10.341952966140639, \"ci_low\": 8.58114894927213, \"ci_high\": 12.102756983009147}, {\"Year\": 2014.5199999999977, \"overdose_per_100k\": 10.35525632304666, \"ci_low\": 8.57120228134063, \"ci_high\": 12.13931036475269}, {\"Year\": 2014.5499999999977, \"overdose_per_100k\": 10.368559679952682, \"ci_low\": 8.560888836456224, \"ci_high\": 12.17623052344914}, {\"Year\": 2014.5799999999977, \"overdose_per_100k\": 10.381863036858817, \"ci_low\": 8.550222802009834, \"ci_high\": 12.2135032717078}, {\"Year\": 2014.6099999999976, \"overdose_per_100k\": 10.395166393764839, \"ci_low\": 8.539217838928536, \"ci_high\": 12.251114948601142}, {\"Year\": 2014.6399999999976, \"overdose_per_100k\": 10.408469750670974, \"ci_low\": 8.527887090091532, \"ci_high\": 12.289052411250417}, {\"Year\": 2014.6699999999976, \"overdose_per_100k\": 10.421773107576996, \"ci_low\": 8.516243190431513, \"ci_high\": 12.327303024722479}, {\"Year\": 2014.6999999999975, \"overdose_per_100k\": 10.435076464483018, \"ci_low\": 8.504298278416124, \"ci_high\": 12.365854650549911}, {\"Year\": 2014.7299999999975, \"overdose_per_100k\": 10.448379821389153, \"ci_low\": 8.492064008633239, \"ci_high\": 12.404695634145067}, {\"Year\": 2014.7599999999975, \"overdose_per_100k\": 10.461683178295175, \"ci_low\": 8.479551565238976, \"ci_high\": 12.443814791351373}, {\"Year\": 2014.7899999999975, \"overdose_per_100k\": 10.47498653520131, \"ci_low\": 8.4667716760524, \"ci_high\": 12.483201394350221}, {\"Year\": 2014.8199999999974, \"overdose_per_100k\": 10.488289892107332, \"ci_low\": 8.453734627110428, \"ci_high\": 12.522845157104236}, {\"Year\": 2014.8499999999974, \"overdose_per_100k\": 10.501593249013354, \"ci_low\": 8.440450277519496, \"ci_high\": 12.562736220507212}, {\"Year\": 2014.8799999999974, \"overdose_per_100k\": 10.514896605919489, \"ci_low\": 8.426928074465586, \"ci_high\": 12.602865137373392}, {\"Year\": 2014.9099999999974, \"overdose_per_100k\": 10.52819996282551, \"ci_low\": 8.4131770682602, \"ci_high\": 12.643222857390821}, {\"Year\": 2014.9399999999973, \"overdose_per_100k\": 10.541503319731646, \"ci_low\": 8.399205927322901, \"ci_high\": 12.68380071214039}, {\"Year\": 2014.9699999999973, \"overdose_per_100k\": 10.554806676637668, \"ci_low\": 8.38502295301495, \"ci_high\": 12.724590400260386}, {\"Year\": 2014.9999999999973, \"overdose_per_100k\": 10.56811003354369, \"ci_low\": 8.370636094251896, \"ci_high\": 12.765583972835483}]}}, {\"mode\": \"vega-lite\"});\n",
       "</script>"
      ],
      "text/plain": [
       "alt.LayerChart(...)"
      ]
     },
     "execution_count": 22,
     "metadata": {},
     "output_type": "execute_result"
    }
   ],
   "source": [
    "\n",
    "source_data = wa_deaths_after\n",
    "\n",
    "plot_after = (\n",
    "    alt.Chart(source_data)\n",
    "    .mark_point()\n",
    "    .encode(\n",
    "        x=alt.X(\"Year:O\", scale=alt.Scale(zero=False)),\n",
    "        y=alt.Y(\"mean_overdose:Q\", scale=alt.Scale(zero=False)),\n",
    "    ).transform_aggregate(\n",
    "        mean_overdose='mean(overdose_per_100k)',\n",
    "        groupby=[\"Year\"]\n",
    "    )\n",
    ")\n",
    "plot_after\n",
    "fit_after, reg_chart_after = get_reg_fit(\n",
    "    source_data, yvar=\"overdose_per_100k\", xvar=\"Year\", alpha=0.05\n",
    ")\n",
    "fit_after\n",
    "plot_after + reg_chart_after"
   ]
  },
  {
   "cell_type": "code",
   "execution_count": null,
   "metadata": {},
   "outputs": [],
   "source": [
    "plot_b4 + reg_chart_b4 + plot_after + reg_chart_after"
   ]
  },
  {
   "cell_type": "code",
   "execution_count": null,
   "metadata": {},
   "outputs": [],
   "source": [
    "################################"
   ]
  },
  {
   "cell_type": "code",
   "execution_count": null,
   "metadata": {},
   "outputs": [],
   "source": [
    "# # saved original code for plotting\n",
    "# wa_deaths.groupby(\"Year\")[\"overdose_per_100k\"].agg([np.mean, np.std])\n",
    "\n",
    "# wa_deaths_b4 = wa_deaths[wa_deaths[\"Year\"] < 2012]\n",
    "# wa_deaths_after = wa_deaths[wa_deaths[\"Year\"] >= 2012]\n",
    "\n",
    "# source_data = wa_deaths_b4\n",
    "\n",
    "# plot_wa_b4 = alt.Chart(source_data).mark_point().encode(\n",
    "#     y=alt.Y(\"mean_overdose:Q\", scale=alt.Scale(zero=False)),\n",
    "#     x=alt.X(\"Year:O\", scale=alt.Scale(zero=False))\n",
    "# ).transform_aggregate(\n",
    "#     mean_overdose='mean(overdose_per_100k)',\n",
    "#     groupby=[\"Year\"]\n",
    "# )\n",
    "\n",
    "# plot_wa_b4\n",
    "\n",
    "# fit_wa_b4 = plot_wa_b4.transform_regression('Year', 'mean_overdose',method=\"linear\"\n",
    "# ).mark_line()\n",
    "\n",
    "# fit_wa_b4\n",
    "\n",
    "# source_data = wa_deaths_after\n",
    "\n",
    "# plot_wa_after = alt.Chart(source_data).mark_point().encode(\n",
    "#     y=alt.Y(\"mean_overdose:Q\", scale=alt.Scale(zero=False)),\n",
    "#     x=alt.X(\"Year:O\", scale=alt.Scale(zero=False))\n",
    "# ).transform_aggregate(\n",
    "#     mean_overdose='mean(overdose_per_100k)',\n",
    "#     groupby=[\"Year\"]\n",
    "# )\n",
    "\n",
    "# plot_wa_after\n",
    "\n",
    "# fit_wa_after = plot_wa_after.transform_regression('Year', 'mean_overdose',method=\"linear\"\n",
    "# ).mark_line()\n",
    "\n",
    "# fit_wa_after\n",
    "\n",
    "# plot_wa_b4 + fit_wa_b4 + plot_wa_after + fit_wa_after"
   ]
  },
  {
   "cell_type": "code",
   "execution_count": null,
   "metadata": {},
   "outputs": [],
   "source": [
    "# create a scale for number of years before and after 2007 (target year)\n",
    "\n",
    "def scale_years(year):\n",
    "    if year == 2009:\n",
    "        return -3\n",
    "    if year == 2010:\n",
    "        return -2\n",
    "    if year == 2011:\n",
    "        return -1\n",
    "    if year == 2012:\n",
    "        return 0\n",
    "    if year == 2013:\n",
    "        return 1\n",
    "    if year == 2014:\n",
    "        return 2\n",
    "    if year == 2015:\n",
    "        return 3\n",
    "\n",
    "wa_stats[\"year relative to policy\"] = wa_stats[\"Year\"].apply(lambda x: scale_years(x))\n",
    "# comp_result[\"year relative to policy\"] = comp_result[\"Year\"].apply(lambda x: scale_years(x))\n",
    "\n",
    "# double check no nulls in \"year relative to policy\"\n",
    "\n",
    "assert (wa_stats[\"year relative to policy\"].isnull().sum() == 0)\n",
    "# assert (comp_result[\"year relative to policy\"].isnull().sum() == 0)\n",
    "\n",
    "# doing this in case the float == int comparison causes issues"
   ]
  },
  {
   "cell_type": "code",
   "execution_count": null,
   "metadata": {},
   "outputs": [],
   "source": [
    "# split into before 2007 and after 2007\n",
    "\n",
    "wa_b4 = wa_stats[wa_stats[\"Year\"] < 2012]\n",
    "wa_after = wa_stats[wa_stats[\"Year\"] > 2012]\n",
    "\n",
    "\n",
    "# wa_after = wa_after[wa_after[\"Year\"] != 2007] # may need to handle this differently"
   ]
  },
  {
   "cell_type": "code",
   "execution_count": null,
   "metadata": {},
   "outputs": [],
   "source": [
    "from sklearn.linear_model import LinearRegression \n",
    "\n",
    "regressor_b4 = LinearRegression() \n",
    "regressor_after = LinearRegression()\n",
    "\n",
    "\n",
    "X_b4 = np.array(wa_b4[\"year relative to policy\"]).reshape(-1, 1)\n",
    "y_b4 = np.array(wa_b4[\"overdose_per_100k\"]).reshape(-1, 1)\n",
    "\n",
    "X_after = np.array(wa_after[\"year relative to policy\"]).reshape(-1, 1)\n",
    "y_after = np.array(wa_after[\"overdose_per_100k\"]).reshape(-1, 1)\n",
    "\n",
    "\n",
    "regressor_b4.fit(X_b4,y_b4) \n",
    "regressor_after.fit(X_after,y_after) \n",
    "\n",
    "\n",
    "y_pred_b4 = regressor_b4.predict(X_b4)\n",
    "y_pred_after = regressor_after.predict(X_b4)"
   ]
  },
  {
   "cell_type": "code",
   "execution_count": null,
   "metadata": {},
   "outputs": [],
   "source": [
    "y_pred_b4"
   ]
  },
  {
   "cell_type": "code",
   "execution_count": null,
   "metadata": {},
   "outputs": [],
   "source": [
    "y_pred_after"
   ]
  },
  {
   "cell_type": "code",
   "execution_count": null,
   "metadata": {},
   "outputs": [],
   "source": [
    "plt.xlim(-3, 3)\n",
    "#plt.ylim(0, 500)\n",
    "\n",
    "plt.title(\"Overdose Deaths in Washington\")\n",
    "\n",
    "plt.plot(X_b4, y_pred_b4,color='k')\n",
    "plt.plot(X_after, y_pred_after,color='k')\n",
    "\n",
    "# plot avg value in each year"
   ]
  },
  {
   "cell_type": "code",
   "execution_count": null,
   "metadata": {},
   "outputs": [],
   "source": [
    "x = \"Year\"\n",
    "y = \"overdose_per_100k\""
   ]
  },
  {
   "cell_type": "code",
   "execution_count": null,
   "metadata": {},
   "outputs": [],
   "source": [
    "def vertical_line(year):\n",
    "    \"\"\"Function to plot a vertical line at year of policy implementation\"\"\"\n",
    "    line = alt.Chart(pd.DataFrame({\n",
    "    'Date': [year],\n",
    "    'color': [\"black\"]\n",
    "    })).mark_rule().encode(\n",
    "    x='Date:Q', # use q for \"quantitative\" - as per altair docs\n",
    "    color=alt.Color('color:N', scale=None)\n",
    "    )\n",
    "\n",
    "    return line"
   ]
  },
  {
   "cell_type": "code",
   "execution_count": null,
   "metadata": {},
   "outputs": [],
   "source": [
    "# test function\n",
    "line = vertical_line(2004)"
   ]
  },
  {
   "cell_type": "code",
   "execution_count": null,
   "metadata": {},
   "outputs": [],
   "source": [
    "def get_charts(b4, after, title_b4, title_after):\n",
    "    \"\"\"\n",
    "    Function to plot the pre and post charts.\n",
    "    Will not use in final plot - used as a baseline for our fit charts later.\n",
    "\n",
    "    \"\"\"\n",
    "\n",
    "    base_before = (\n",
    "        alt.Chart(b4)\n",
    "        .mark_point()\n",
    "        .encode(\n",
    "            y=alt.Y(\"overdose_per_100k\", scale=alt.Scale(zero=False)),\n",
    "            x=alt.X(\"year relative to policy\", scale=alt.Scale(zero=False)),\n",
    "        )\n",
    "        .properties(title=title_b4)\n",
    "        \n",
    "    )\n",
    "\n",
    "    base_after = (\n",
    "        alt.Chart(after)\n",
    "        .mark_point()\n",
    "        .encode(\n",
    "            y=alt.Y(\"overdose_per_100k\", scale=alt.Scale(zero=False)),\n",
    "            x=alt.X(\"year relative to policy\", scale=alt.Scale(zero=False)),\n",
    "        )\n",
    "        .properties(title=title_after)\n",
    "    )\n",
    "\n",
    "    return base_before, base_after"
   ]
  },
  {
   "cell_type": "code",
   "execution_count": null,
   "metadata": {},
   "outputs": [],
   "source": [
    "# test the function\n",
    "# may remove title parameters later - not really necessary as we aren't plotting this part in our final analysis\n",
    "# however, if we can't add a title to our fit/regression line charts, we may need to add them here\n",
    "base_before, base_after = get_charts(b4 = wa_b4, after = wa_after, title_b4 = \"deaths before policy\", title_after=\"deaths after policy\")\n",
    "base_before + base_after"
   ]
  },
  {
   "cell_type": "code",
   "execution_count": null,
   "metadata": {},
   "outputs": [],
   "source": [
    "# starting here in final report\n",
    "# no longer calculating base chart above - just adding in regression line at same time\n",
    "def get_preds(df, x, y):\n",
    "\n",
    "    # init new empty df for our predictions\n",
    "    predictions = pd.DataFrame()\n",
    "\n",
    "    # fit our model and predict values\n",
    "    model = smf.ols(f\"{y} ~ {x}\", data=df).fit()\n",
    "    model_predict = model.get_prediction(df[x])\n",
    "\n",
    "    # save predictions back to df, calculate confidence intervals\n",
    "    predictions[\"overdose_per_100k\"] = model.predict(df[x])\n",
    "    predictions[[\"ci_low\", \"ci_high\"]] = model_predict.conf_int(alpha=0.05)\n",
    "\n",
    "    # save original year columns to new predictions df\n",
    "    predictions[\"Year\"] = df[\"Year\"]\n",
    "    predictions[\"year relative to policy\"] = df[\"year relative to policy\"]\n",
    "    return predictions"
   ]
  },
  {
   "cell_type": "code",
   "execution_count": null,
   "metadata": {},
   "outputs": [],
   "source": [
    "wa_b4_preds = get_preds(wa_b4, x, y)\n",
    "wa_after_preds = get_preds(wa_after, x, y)"
   ]
  },
  {
   "cell_type": "code",
   "execution_count": null,
   "metadata": {},
   "outputs": [],
   "source": [
    "def get_charts(b4, after, title_b4, title_after, color):\n",
    "    \"\"\"\n",
    "    Function to plot the pre and post charts.\n",
    "    Will not use in final plot - used as a baseline for our fit charts later.\n",
    "\n",
    "    \"\"\"\n",
    "\n",
    "    base_before = (\n",
    "        alt.Chart(b4)\n",
    "        .mark_point()\n",
    "        .encode(\n",
    "            y=alt.Y(\"overdose_per_100k\", scale=alt.Scale(zero=False)),\n",
    "            x=alt.X(\"year relative to policy\", scale=alt.Scale(zero=False)),\n",
    "        )\n",
    "        .properties(title=title_b4).transform_regression(\"year relative to policy\", \"overdose_per_100k\")\n",
    "    .mark_line()\n",
    "    .encode(color=alt.value(color))\n",
    "        \n",
    "    )\n",
    "\n",
    "    base_after = (\n",
    "        alt.Chart(after)\n",
    "        .mark_point()\n",
    "        .encode(\n",
    "            y=alt.Y(\"overdose_per_100k\", scale=alt.Scale(zero=False)),\n",
    "            x=alt.X(\"year relative to policy\", scale=alt.Scale(zero=False)),\n",
    "            \n",
    "        )\n",
    "        .properties(title=title_after).transform_regression(\"year relative to policy\", \"overdose_per_100k\")\n",
    "    .mark_line()\n",
    "    .encode(color=alt.value(color))\n",
    "    )\n",
    "\n",
    "    return base_before, base_after"
   ]
  },
  {
   "cell_type": "code",
   "execution_count": null,
   "metadata": {},
   "outputs": [],
   "source": [
    "# test the function\n",
    "# may remove title parameters later - not really necessary as we aren't plotting this part in our final analysis\n",
    "# however, if we can't add a title to our fit/regression line charts, we may need to add them here\n",
    "base_before, base_after = get_charts(b4 = wa_b4_preds, after = wa_after_preds, title_b4 = \"Deaths Before Policy Implementation\", title_after=\"Deaths After Policy Implementation\", color=\"red\")\n",
    "base_before + base_after"
   ]
  }
 ],
 "metadata": {
  "kernelspec": {
   "display_name": "base",
   "language": "python",
   "name": "python3"
  },
  "language_info": {
   "codemirror_mode": {
    "name": "ipython",
    "version": 3
   },
   "file_extension": ".py",
   "mimetype": "text/x-python",
   "name": "python",
   "nbconvert_exporter": "python",
   "pygments_lexer": "ipython3",
   "version": "3.10.6"
  },
  "orig_nbformat": 4,
  "vscode": {
   "interpreter": {
    "hash": "3d597f4c481aa0f25dceb95d2a0067e73c0966dcbd003d741d821a7208527ecf"
   }
  }
 },
 "nbformat": 4,
 "nbformat_minor": 2
}
